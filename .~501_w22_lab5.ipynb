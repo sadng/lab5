{
 "cells": [
  {
   "cell_type": "markdown",
   "id": "3bfbef20",
   "metadata": {},
   "source": [
    "# Lab 5 - Tacoma Businesses\n",
    "\n",
    "Welcome! At this point, you've seen a number of ways of automating the process of data acquisition, analysis, and visualization. You've also worked your way through the basics of object-oriented programming using python.\n",
    "\n",
    "You know how to, for example, use pandas to load up a csv, the Arc API (or geopy - we'll get to that later!) to geocode addresses found in that CSV, and then Folium to quickly generate an interactive web map of that data. You also know how to use iteration to parse through large, repetitive data sets to pull out the information you need (remember how many 'uncles' there were?).\n",
    "\n",
    "There's still ***a lot*** more to learn and programmatic spatial data analysis and visualization is a ***constant*** process of learning new libraries while simultaneously deepening your understanding of others. It can feel daunting, but it's also a lot of fun.\n",
    "\n",
    "### Enough pre-amble!\n",
    "\n",
    "The point is, *you've learned quite a lot*. This lab is a chance to show off the skills you, lock down those that make the most sense ***in your workflow***, and learn new ones along the way.\n",
    "\n",
    "As such, I'm going to give you a problem, an outcome, and tell you where to find some data. The rest is up to you. We'll have two 'themes' and a series of questions that relate to each theme. At the end, you'll produce a visualization. These problems are *contrived*, but designed to force you to acquire, process, and visualize data in ways not unlike those that you'll likely face moving forward."
   ]
  },
  {
   "cell_type": "markdown",
   "id": "0c99a361",
   "metadata": {},
   "source": [
    "## That dang taxi lobby!\n",
    "\n",
    "For this problem, you'll need the **Tacoma Business License** data that you can find at [Results253](https://data.cityoftacoma.org/) and the Washington State House of Representative districts for 2020 available via [the U.S. Census](https://www.census.gov/geographies/mapping-files/time-series/geo/tiger-line-file.html) (*note*: I don't care which year you use, 2020 seems reasonable, though). A couple of notes: 1. The State level House of Representatives is the **lower** chamber and WA's number code is 53 (how would you find this out yourself?) 2. The Tacoma data is *a bit of a mess*, this is intentional to show you how data is often messy or error riddled. I'll also show you some tools for figuring out how to process it into something with which you can work.\n",
    "\n",
    "### Problem 1 - Where are the taxis? (2pts)\n",
    "\n",
    "#### Generate an interactive map that displays where all the **taxi services** are registered around Tacoma.\n",
    "\n",
    "I am going to show you how to dump all of the Business License data into a dataframe. This data is *supposed* to be geocoded, but - as we'll discover - due to Tacoma's use of ESRI, it is not. I'll then give you the basic tools to geocode it and leave the rest for you. This technique (of iterating over results) is ***extremely*** useful. Pay attention to what I'm doing, think of it as a gift from your wise and generous professor. Or, just make sure you read it, ok?\n",
    "\n",
    "#### +1 bonus points if you use the API directly to access the data\n",
    "(due to the error caused by the ESRI service, this will make things a little more complicated, hence the bonus points... *in many cases* using the API is the cleaner solution - also, note, that the API will only give you so many results at a time, how would you build something to *iterate* across the results? There's a hint in the comments at the bottom of the next cell)\n"
   ]
  },
  {
   "cell_type": "code",
   "execution_count": 7,
   "id": "b4baad5a",
   "metadata": {},
   "outputs": [
    {
     "name": "stderr",
     "output_type": "stream",
     "text": [
      "C:\\Users\\nguye\\AppData\\Local\\Temp\\ipykernel_13616\\69853196.py:41: FutureWarning:\n",
      "\n",
      "The frame.append method is deprecated and will be removed from pandas in a future version. Use pandas.concat instead.\n",
      "\n",
      "C:\\Users\\nguye\\AppData\\Local\\Temp\\ipykernel_13616\\69853196.py:41: FutureWarning:\n",
      "\n",
      "The frame.append method is deprecated and will be removed from pandas in a future version. Use pandas.concat instead.\n",
      "\n",
      "C:\\Users\\nguye\\AppData\\Local\\Temp\\ipykernel_13616\\69853196.py:41: FutureWarning:\n",
      "\n",
      "The frame.append method is deprecated and will be removed from pandas in a future version. Use pandas.concat instead.\n",
      "\n",
      "C:\\Users\\nguye\\AppData\\Local\\Temp\\ipykernel_13616\\69853196.py:41: FutureWarning:\n",
      "\n",
      "The frame.append method is deprecated and will be removed from pandas in a future version. Use pandas.concat instead.\n",
      "\n",
      "C:\\Users\\nguye\\AppData\\Local\\Temp\\ipykernel_13616\\69853196.py:41: FutureWarning:\n",
      "\n",
      "The frame.append method is deprecated and will be removed from pandas in a future version. Use pandas.concat instead.\n",
      "\n",
      "C:\\Users\\nguye\\AppData\\Local\\Temp\\ipykernel_13616\\69853196.py:41: FutureWarning:\n",
      "\n",
      "The frame.append method is deprecated and will be removed from pandas in a future version. Use pandas.concat instead.\n",
      "\n",
      "C:\\Users\\nguye\\AppData\\Local\\Temp\\ipykernel_13616\\69853196.py:41: FutureWarning:\n",
      "\n",
      "The frame.append method is deprecated and will be removed from pandas in a future version. Use pandas.concat instead.\n",
      "\n",
      "C:\\Users\\nguye\\AppData\\Local\\Temp\\ipykernel_13616\\69853196.py:41: FutureWarning:\n",
      "\n",
      "The frame.append method is deprecated and will be removed from pandas in a future version. Use pandas.concat instead.\n",
      "\n",
      "C:\\Users\\nguye\\AppData\\Local\\Temp\\ipykernel_13616\\69853196.py:41: FutureWarning:\n",
      "\n",
      "The frame.append method is deprecated and will be removed from pandas in a future version. Use pandas.concat instead.\n",
      "\n",
      "C:\\Users\\nguye\\AppData\\Local\\Temp\\ipykernel_13616\\69853196.py:41: FutureWarning:\n",
      "\n",
      "The frame.append method is deprecated and will be removed from pandas in a future version. Use pandas.concat instead.\n",
      "\n",
      "C:\\Users\\nguye\\AppData\\Local\\Temp\\ipykernel_13616\\69853196.py:41: FutureWarning:\n",
      "\n",
      "The frame.append method is deprecated and will be removed from pandas in a future version. Use pandas.concat instead.\n",
      "\n",
      "C:\\Users\\nguye\\AppData\\Local\\Temp\\ipykernel_13616\\69853196.py:41: FutureWarning:\n",
      "\n",
      "The frame.append method is deprecated and will be removed from pandas in a future version. Use pandas.concat instead.\n",
      "\n",
      "C:\\Users\\nguye\\AppData\\Local\\Temp\\ipykernel_13616\\69853196.py:41: FutureWarning:\n",
      "\n",
      "The frame.append method is deprecated and will be removed from pandas in a future version. Use pandas.concat instead.\n",
      "\n",
      "C:\\Users\\nguye\\AppData\\Local\\Temp\\ipykernel_13616\\69853196.py:41: FutureWarning:\n",
      "\n",
      "The frame.append method is deprecated and will be removed from pandas in a future version. Use pandas.concat instead.\n",
      "\n",
      "C:\\Users\\nguye\\AppData\\Local\\Temp\\ipykernel_13616\\69853196.py:41: FutureWarning:\n",
      "\n",
      "The frame.append method is deprecated and will be removed from pandas in a future version. Use pandas.concat instead.\n",
      "\n",
      "C:\\Users\\nguye\\AppData\\Local\\Temp\\ipykernel_13616\\69853196.py:41: FutureWarning:\n",
      "\n",
      "The frame.append method is deprecated and will be removed from pandas in a future version. Use pandas.concat instead.\n",
      "\n",
      "C:\\Users\\nguye\\AppData\\Local\\Temp\\ipykernel_13616\\69853196.py:41: FutureWarning:\n",
      "\n",
      "The frame.append method is deprecated and will be removed from pandas in a future version. Use pandas.concat instead.\n",
      "\n",
      "C:\\Users\\nguye\\AppData\\Local\\Temp\\ipykernel_13616\\69853196.py:41: FutureWarning:\n",
      "\n",
      "The frame.append method is deprecated and will be removed from pandas in a future version. Use pandas.concat instead.\n",
      "\n",
      "C:\\Users\\nguye\\AppData\\Local\\Temp\\ipykernel_13616\\69853196.py:41: FutureWarning:\n",
      "\n",
      "The frame.append method is deprecated and will be removed from pandas in a future version. Use pandas.concat instead.\n",
      "\n",
      "C:\\Users\\nguye\\AppData\\Local\\Temp\\ipykernel_13616\\69853196.py:41: FutureWarning:\n",
      "\n",
      "The frame.append method is deprecated and will be removed from pandas in a future version. Use pandas.concat instead.\n",
      "\n",
      "C:\\Users\\nguye\\AppData\\Local\\Temp\\ipykernel_13616\\69853196.py:41: FutureWarning:\n",
      "\n",
      "The frame.append method is deprecated and will be removed from pandas in a future version. Use pandas.concat instead.\n",
      "\n",
      "C:\\Users\\nguye\\AppData\\Local\\Temp\\ipykernel_13616\\69853196.py:41: FutureWarning:\n",
      "\n",
      "The frame.append method is deprecated and will be removed from pandas in a future version. Use pandas.concat instead.\n",
      "\n",
      "C:\\Users\\nguye\\AppData\\Local\\Temp\\ipykernel_13616\\69853196.py:41: FutureWarning:\n",
      "\n",
      "The frame.append method is deprecated and will be removed from pandas in a future version. Use pandas.concat instead.\n",
      "\n",
      "C:\\Users\\nguye\\AppData\\Local\\Temp\\ipykernel_13616\\69853196.py:41: FutureWarning:\n",
      "\n",
      "The frame.append method is deprecated and will be removed from pandas in a future version. Use pandas.concat instead.\n",
      "\n",
      "C:\\Users\\nguye\\AppData\\Local\\Temp\\ipykernel_13616\\69853196.py:41: FutureWarning:\n",
      "\n",
      "The frame.append method is deprecated and will be removed from pandas in a future version. Use pandas.concat instead.\n",
      "\n",
      "C:\\Users\\nguye\\AppData\\Local\\Temp\\ipykernel_13616\\69853196.py:41: FutureWarning:\n",
      "\n",
      "The frame.append method is deprecated and will be removed from pandas in a future version. Use pandas.concat instead.\n",
      "\n",
      "C:\\Users\\nguye\\AppData\\Local\\Temp\\ipykernel_13616\\69853196.py:41: FutureWarning:\n",
      "\n",
      "The frame.append method is deprecated and will be removed from pandas in a future version. Use pandas.concat instead.\n",
      "\n",
      "C:\\Users\\nguye\\AppData\\Local\\Temp\\ipykernel_13616\\69853196.py:41: FutureWarning:\n",
      "\n",
      "The frame.append method is deprecated and will be removed from pandas in a future version. Use pandas.concat instead.\n",
      "\n",
      "C:\\Users\\nguye\\AppData\\Local\\Temp\\ipykernel_13616\\69853196.py:41: FutureWarning:\n",
      "\n",
      "The frame.append method is deprecated and will be removed from pandas in a future version. Use pandas.concat instead.\n",
      "\n",
      "C:\\Users\\nguye\\AppData\\Local\\Temp\\ipykernel_13616\\69853196.py:41: FutureWarning:\n",
      "\n",
      "The frame.append method is deprecated and will be removed from pandas in a future version. Use pandas.concat instead.\n",
      "\n",
      "C:\\Users\\nguye\\AppData\\Local\\Temp\\ipykernel_13616\\69853196.py:41: FutureWarning:\n",
      "\n",
      "The frame.append method is deprecated and will be removed from pandas in a future version. Use pandas.concat instead.\n",
      "\n"
     ]
    },
    {
     "name": "stdout",
     "output_type": "stream",
     "text": [
      "   LICENSE_NUMBER                  BUSINESS_NAME  \\\n",
      "0     500032169.0                    ANGIE DEREN   \n",
      "1     500090773.0                  RONALD TAKASE   \n",
      "2     500182052.0                 ESTELL SLEAVIN   \n",
      "3     500067222.0                   JUSTIN J LUM   \n",
      "4     500019959.0  OSMOSE UTILITIES SERVICES INC   \n",
      "\n",
      "                      OWNER_NAME HOUSE_NUMBER_AND_STREET_NAME UNIT_NUMBER  \\\n",
      "0                    ANGIE DEREN             10702 64TH AVE E         NaN   \n",
      "1                RHONDA S TAKASE             11905 VAIL RD SE         NaN   \n",
      "2                RENTAL PROPERTY           4405 SHINCKE RD NE         NaN   \n",
      "3                   JUSTIN J LUM            15325 SE 155TH PL       # D-3   \n",
      "4  OSMOSE UTILITIES SERVICES INC             635 HIGHWAY 74 S         NaN   \n",
      "\n",
      "  P_O__BOX            CITY STATE    ZIP_CODE  NAICS_CODE  \\\n",
      "0      NaN        PUYALLUP    WA  98373-4152    531110.0   \n",
      "1      NaN            YELM    WA  98597-8433    531110.0   \n",
      "2      NaN         OLYMPIA    WA       98506    531110.0   \n",
      "3      NaN          RENTON    WA  98058-6314    531120.0   \n",
      "4      NaN  PEACHTREE CITY    GA  30269-3003    238990.0   \n",
      "\n",
      "                     NAICS_CODE_DESCRIPTION  BUSINESS_OPEN_DATE  \\\n",
      "0  Lessors of Residential Buildings and Dwe        1.072915e+12   \n",
      "1  Lessors of Residential Buildings and Dwe        1.329437e+12   \n",
      "2  Lessors of Residential Buildings and Dwe        1.605830e+12   \n",
      "3  Lessors of Nonresidential Bildngs (ex Mi        1.264723e+12   \n",
      "4  All Other Specialty Trade Contractors (E        1.356998e+12   \n",
      "\n",
      "  Police_Sector_Subsector                              Location_1  ObjectId  \\\n",
      "0                    None        PUYALLUP, WA (Address Not Found)       1.0   \n",
      "1                    None            YELM, WA (Address Not Found)       2.0   \n",
      "2                    None         OLYMPIA, WA (Address Not Found)       3.0   \n",
      "3                    None          RENTON, WA (Address Not Found)       4.0   \n",
      "4                    None  PEACHTREE CITY, GA (Address Not Found)       5.0   \n",
      "\n",
      "  geometry  \n",
      "0     None  \n",
      "1     None  \n",
      "2     None  \n",
      "3     None  \n",
      "4     None  \n",
      "29003\n"
     ]
    },
    {
     "name": "stderr",
     "output_type": "stream",
     "text": [
      "C:\\Users\\nguye\\AppData\\Local\\Temp\\ipykernel_13616\\69853196.py:41: FutureWarning:\n",
      "\n",
      "The frame.append method is deprecated and will be removed from pandas in a future version. Use pandas.concat instead.\n",
      "\n"
     ]
    }
   ],
   "source": [
    "#API\n",
    "\n",
    "import geopandas\n",
    "#import pandas\n",
    "\n",
    "# The data I want - Tacoma Business Licenses - can be explored here: https://geohub.cityoftacoma.org/datasets/tacoma-business-license/explore\n",
    "# If you look at the full details, you can find that it allegedly lets you access it via an ESRI REST API in GeoJSON\n",
    "# I encourage you, if you are feeling intrepid, to explore that method.\n",
    "# What you'll find is that ESRI actually STRIPS THE GEOMETRY INFORMATION out of the GeoJSON\n",
    "# For those wondering, historically, Tacoma used Socrata whose REST API query worked perfectly\n",
    "# Within the last  year, they imported into AcrGIS' web services... which do not work.\n",
    "# Whether this is due to improper importing OR just ESRI, I can't answer.\n",
    "# You can see a remnant of this within the Summary field on the website - where it lists that it was imported from Socrata\n",
    "\n",
    "# So, I have now manually (boo!) downloaded the results and stored them as a csv. \n",
    "# Let's load them into a pandas dataframe and see what we have.\n",
    "\n",
    "#df = pandas.read_csv('TACOMA_BUSINESS_LICENSE.csv')\n",
    "#print(df.head())\n",
    "#print(len(df.index))\n",
    "\n",
    "# The following code WOULD work for the Socrata API. I include it as a historical note and also as an example of how you can iterate across results from a REST API.\n",
    "#The API will only give me 1,000 results at a time (many APIs have limits like this)\n",
    "#I need to set up a loop that will pull chunked results sequentially.\n",
    "#Please note, I am not error-checking in this example, nor checking for duplicates\n",
    "#You may want to! Think all the way back to lab 2 for some ideas as to how you might. \n",
    "\n",
    "x = 0\n",
    "while x < 33000:\n",
    "    #I'm constructing a url here that has a set limit and then a stepped offset.\n",
    "    #I know my format is correct based off READING THE API DOCUMENTATION here: https://dev.socrata.com/docs/paging.html#2.1\n",
    "    url = 'https://services3.arcgis.com/SCwJH1pD8WSn5T5y/arcgis/rest/services/TACOMA_BUSINESS_LICENSE/FeatureServer/0/query?outFields=*&where=1%3D1&f=geojson&&resultOffset='+str(x)\n",
    "    if x == 0:\n",
    "        #If this is the first time through, create the geodataframe\n",
    "        #In truth, there are ways to do this without this step, I leave those as an exercise for the reader\n",
    "        api = geopandas.read_file(url)\n",
    "    else:\n",
    "        #If the dataframe exists, add to it using the .append() method\n",
    "        #I know how to do this by READING GEOPANDAS DOCUMENTATION here: https://geopandas.org/mergingdata.html\n",
    "        api2 = geopandas.read_file(url)\n",
    "        api = api.append(api2)\n",
    "    x = x + 1000\n",
    "    \n",
    "print(api.head())\n",
    "print(len(api.index))"
   ]
  },
  {
   "cell_type": "markdown",
   "id": "cc4b3d5e",
   "metadata": {},
   "source": [
    "See all those \"Address Not Found\" results in Location_1? That's ESRI for you.\n",
    "\n",
    "But, also notice that we have street addresses **and** city and state information (we have zip codes as well).\n",
    "\n",
    "That's plenty of information to geocode some point data. In the following cell, I'm going to show you a very basic geocoder that uses geopy's wrapper for Nominatim.\n",
    "\n",
    "You can read more about [geopy here](https://geopy.readthedocs.io/en/stable/).\n",
    "\n",
    "In the example below, I'm going to be using the Nominatim geocoder. Geopy supports *multiple* geocoders and I encourage you to explore them. Additionally, if you run into tasks that fall outside the limits of a given geocoder, you might need to switch between them or even use multiple ones. You can read about Nominatim's [usage terms here](https://operations.osmfoundation.org/policies/nominatim/)."
   ]
  },
  {
   "cell_type": "code",
   "execution_count": 8,
   "id": "046f0b7b",
   "metadata": {},
   "outputs": [
    {
     "name": "stdout",
     "output_type": "stream",
     "text": [
      "(47.245217499999995, -122.43981965250066)\n",
      "(None, None)\n"
     ]
    }
   ],
   "source": [
    "from geopy import geocoders\n",
    "\n",
    "def geo(location):\n",
    "    ''' takes a location as a string and returns a lat and long pair'''\n",
    "    # Note - You need to specify a 'user agent' so Nominatim can keep track of who you are\n",
    "    g = geocoders.Nominatim(user_agent=\"MSGT Lab 5\", timeout=15)\n",
    "    loc = g.geocode(location)\n",
    "    if loc is not None:\n",
    "        return loc.latitude, loc.longitude\n",
    "    else:\n",
    "        return None, None\n",
    "\n",
    "    \n",
    "print(geo('1900 Commerce Street, Tacoma, WA'))\n",
    "print(geo('zbjaewpito'))"
   ]
  },
  {
   "cell_type": "markdown",
   "id": "72f8f82d",
   "metadata": {},
   "source": [
    "Hmmm, there's an error there!\n",
    "If the geocoder can't geocode the result, it can't return something.\n",
    "There are a few ways to deal with this and I leave them as an exercise for you, but here are two approaches:\n",
    "1. Use an if/then statement to check that loc exists, and - if it does not - return None, None (or something else)\n",
    "2. Even fancier, if it doesn't exist (or if you get any error, really, such as a rate limit), load up a different geocoder and try that.\n",
    "\n",
    "The latter is the more robust solution that helps stay within terms of service; however, the first one is sufficient for this lab.\n",
    "\n",
    "**OK**, now we've got a CSV with address information in it and a very rudimentary geocoder function (that you should honestly tweak using the documentation...).\n",
    "\n",
    "Now things open up a bit! There are many approaches to how we can create the point information we need for our map. What I would do is use pyplot.express to create a scatterplot using the lat/long data provided by the geocoder.\n",
    "\n",
    "I am going to go through this ONE way that is NOT THE MOST ELEGANT WAY. It's a way that makes sense to me.\n",
    "\n"
   ]
  },
  {
   "cell_type": "code",
   "execution_count": 11,
   "id": "5a24290c",
   "metadata": {},
   "outputs": [
    {
     "name": "stderr",
     "output_type": "stream",
     "text": [
      "C:\\Users\\nguye\\anaconda3\\envs\\lab5\\lib\\site-packages\\geopandas\\geodataframe.py:1443: SettingWithCopyWarning:\n",
      "\n",
      "\n",
      "A value is trying to be set on a copy of a slice from a DataFrame.\n",
      "Try using .loc[row_indexer,col_indexer] = value instead\n",
      "\n",
      "See the caveats in the documentation: https://pandas.pydata.org/pandas-docs/stable/user_guide/indexing.html#returning-a-view-versus-a-copy\n",
      "\n",
      "C:\\Users\\nguye\\anaconda3\\envs\\lab5\\lib\\site-packages\\geopandas\\geodataframe.py:1443: SettingWithCopyWarning:\n",
      "\n",
      "\n",
      "A value is trying to be set on a copy of a slice from a DataFrame.\n",
      "Try using .loc[row_indexer,col_indexer] = value instead\n",
      "\n",
      "See the caveats in the documentation: https://pandas.pydata.org/pandas-docs/stable/user_guide/indexing.html#returning-a-view-versus-a-copy\n",
      "\n",
      "C:\\Users\\nguye\\anaconda3\\envs\\lab5\\lib\\site-packages\\geopandas\\geodataframe.py:1443: SettingWithCopyWarning:\n",
      "\n",
      "\n",
      "A value is trying to be set on a copy of a slice from a DataFrame.\n",
      "Try using .loc[row_indexer,col_indexer] = value instead\n",
      "\n",
      "See the caveats in the documentation: https://pandas.pydata.org/pandas-docs/stable/user_guide/indexing.html#returning-a-view-versus-a-copy\n",
      "\n",
      "C:\\Users\\nguye\\AppData\\Local\\Temp\\ipykernel_13616\\3139035212.py:47: SettingWithCopyWarning:\n",
      "\n",
      "\n",
      "A value is trying to be set on a copy of a slice from a DataFrame\n",
      "\n",
      "See the caveats in the documentation: https://pandas.pydata.org/pandas-docs/stable/user_guide/indexing.html#returning-a-view-versus-a-copy\n",
      "\n",
      "C:\\Users\\nguye\\AppData\\Local\\Temp\\ipykernel_13616\\3139035212.py:48: SettingWithCopyWarning:\n",
      "\n",
      "\n",
      "A value is trying to be set on a copy of a slice from a DataFrame\n",
      "\n",
      "See the caveats in the documentation: https://pandas.pydata.org/pandas-docs/stable/user_guide/indexing.html#returning-a-view-versus-a-copy\n",
      "\n"
     ]
    },
    {
     "data": {
      "application/vnd.plotly.v1+json": {
       "config": {
        "plotlyServerURL": "https://plot.ly"
       },
       "data": [
        {
         "customdata": [
          [
           485310,
           null,
           null,
           null,
           null
          ],
          [
           485310,
           "11918 SE 240TH PL",
           "KENT",
           "WA",
           "98030"
          ],
          [
           485310,
           "18014 81ST LN NE",
           "KENMORE",
           "WA",
           "98028"
          ],
          [
           485310,
           "1409 SW 166TH ST",
           "BURIEN",
           "WA",
           "98166-3415"
          ],
          [
           485310,
           "16636 127TH AVE SE",
           "RENTON",
           "WA",
           "98058"
          ],
          [
           485310,
           "5565 S 152ND ST",
           "TUKWILA",
           "WA",
           "98188-7815"
          ],
          [
           485310,
           null,
           null,
           null,
           null
          ],
          [
           485310,
           "10531 SE 250TH PL",
           "KENT",
           "WA",
           "98030-2892"
          ],
          [
           485310,
           "13025 12TH AVE S",
           "BURIEN",
           "WA",
           "98168-2872"
          ],
          [
           485310,
           "3434 S 144TH ST",
           "TUKWILA",
           "WA",
           "98168-4061"
          ],
          [
           485310,
           "22634 10TH AVE S",
           "DES MOINES",
           "WA",
           "98198-6915"
          ],
          [
           485310,
           "3223 S 204TH PL",
           "SEATAC",
           "WA",
           "98198-5875"
          ],
          [
           485310,
           "26007 132ND AVE SE",
           "KENT",
           "WA",
           "98042-3503"
          ],
          [
           485310,
           "203 HAWK AVE SW",
           "ORTING",
           "WA",
           "98360-8415"
          ],
          [
           485310,
           "2913 13TH AVENUE CT NW",
           "PUYALLUP",
           "WA",
           "98371-3983"
          ],
          [
           485310,
           "21800 PACIFIC HWY S",
           "DES MOINES",
           "WA",
           "98198-7793"
          ],
          [
           485310,
           "16724 SE 251ST PL",
           "COVINGTON",
           "WA",
           "98042-5230"
          ],
          [
           485310,
           null,
           null,
           null,
           null
          ],
          [
           485310,
           "4821 KENT DES MOINES RD",
           "KENT",
           "WA",
           "98032-4240"
          ],
          [
           485310,
           "12217 SE 260TH PL",
           "KENT",
           "WA",
           "98030"
          ],
          [
           485310,
           "5423 VILLAGE PK DR SE",
           "BELLEVUE",
           "WA",
           "98006"
          ],
          [
           485310,
           "6543 DELRIDGE WAY SW",
           "SEATTLE",
           "WA",
           "98106"
          ],
          [
           485310,
           "16921 SPRUCE WAY",
           "LYNNWOOD",
           "WA",
           "98037"
          ],
          [
           485310,
           "213 SW 313TH ST",
           "FEDERAL WAY",
           "WA",
           "98023"
          ],
          [
           485310,
           "26304 235TH AVE SE",
           "MAPLE VALLEY",
           "WA",
           "98038"
          ],
          [
           485310,
           null,
           null,
           null,
           null
          ],
          [
           485310,
           null,
           null,
           null,
           null
          ],
          [
           485310,
           "18808 105TH AVE CT E",
           "PUYALLUP",
           "WA",
           "98374"
          ],
          [
           485310,
           null,
           null,
           null,
           null
          ],
          [
           485310,
           null,
           null,
           null,
           null
          ],
          [
           485310,
           null,
           null,
           null,
           null
          ],
          [
           485310,
           "2809 6TH ST SE",
           "PUYALLUP",
           "WA",
           "98374"
          ],
          [
           485310,
           "4153 S 292ND PL",
           "AUBURN",
           "WA",
           "98001"
          ],
          [
           485310,
           null,
           null,
           null,
           null
          ],
          [
           485310,
           null,
           null,
           null,
           null
          ],
          [
           485310,
           "25819 26TH PL S",
           "KENT",
           "WA",
           "98032"
          ],
          [
           485310,
           "1821 S 310TH ST",
           "FEDERAL WAY",
           "WA",
           "98003"
          ],
          [
           485310,
           "14629 42ND AVE S",
           "TUKWILA",
           "WA",
           "98168"
          ],
          [
           485310,
           "3331 234TH ST SE",
           "BOTHELL",
           "WA",
           "98021"
          ],
          [
           485310,
           "37002 SE GRAVENSTEIN CT",
           "SNOQUALMIE",
           "WA",
           "98065"
          ],
          [
           485310,
           null,
           null,
           null,
           null
          ],
          [
           485310,
           "11725 15TH  AVE  NE",
           "SEATTLE",
           "WA",
           "98125"
          ],
          [
           485310,
           "7035 S 133RD ST",
           "SEATTLE",
           "WA",
           "98178"
          ],
          [
           485310,
           "17202 NE 85TH PL",
           "REDMOND",
           "WA",
           "98052"
          ],
          [
           485310,
           "7932 46TH AVE S",
           "SEATTLE",
           "WA",
           "98118"
          ],
          [
           485310,
           "2226 EASTLAKE AVE E",
           "SEATTLE",
           "WA",
           "98102"
          ],
          [
           485310,
           null,
           null,
           null,
           null
          ],
          [
           485310,
           null,
           null,
           null,
           null
          ],
          [
           485310,
           null,
           null,
           null,
           null
          ],
          [
           485310,
           null,
           null,
           null,
           null
          ],
          [
           485310,
           "11826 76TH AVE S",
           "SEATTLE",
           "WA",
           "98178-3804"
          ],
          [
           485310,
           null,
           null,
           null,
           null
          ],
          [
           485310,
           null,
           null,
           null,
           null
          ],
          [
           485310,
           null,
           null,
           null,
           null
          ],
          [
           485310,
           null,
           null,
           null,
           null
          ],
          [
           485310,
           "18808 109TH AVE CRT E",
           "PUYALLUP",
           "WA",
           "98374"
          ],
          [
           485310,
           null,
           null,
           null,
           null
          ],
          [
           485310,
           null,
           null,
           null,
           null
          ],
          [
           485310,
           null,
           null,
           null,
           null
          ],
          [
           485310,
           "10619 NORTHSTAR WAY SW",
           "LAKEWOOD",
           "WA",
           "98498-3019"
          ],
          [
           485310,
           "16912 NE 19TH PL",
           "BELLEVUE",
           "WA",
           "98008"
          ],
          [
           485310,
           "5132 BRIGHTON ST",
           "SEATTLE",
           "WA",
           "98118"
          ],
          [
           485310,
           "27606 PACIFIC HWY S",
           "FEDERAL WAY",
           "WA",
           "98003-3411"
          ],
          [
           485310,
           null,
           null,
           null,
           null
          ],
          [
           485310,
           null,
           null,
           null,
           null
          ],
          [
           485310,
           null,
           null,
           null,
           null
          ],
          [
           485310,
           "2903 6TH ST SE",
           "PUYALLUP",
           "WA",
           "98374"
          ],
          [
           485310,
           "413 U ST SE",
           "AUBURN",
           "WA",
           "98002"
          ],
          [
           485310,
           "12253 1ST AVE S",
           "SEATTLE",
           "WA",
           "98168"
          ],
          [
           485310,
           "11323 24TH AVE NE",
           "SEATTLE",
           "WA",
           "98125"
          ],
          [
           485310,
           "29420 132ND AVE E",
           "GRAHAM",
           "WA",
           "98338-6003"
          ],
          [
           485310,
           "3100 SW GRAHAM ST",
           "SEATTLE",
           "WA",
           "98126"
          ],
          [
           485310,
           "29420 132ND AVE E",
           "GRAHAM",
           "WA",
           "98338"
          ],
          [
           485310,
           "1835 S 216TH ST",
           "DES MOINES",
           "WA",
           "98198"
          ],
          [
           485310,
           "2517 SW 120TH ST",
           "BURIEN",
           "WA",
           "98146"
          ],
          [
           485310,
           null,
           null,
           null,
           null
          ],
          [
           485310,
           null,
           null,
           null,
           null
          ],
          [
           485310,
           null,
           null,
           null,
           null
          ],
          [
           485310,
           "2714 NE 75TH ST",
           "SEATTLE",
           "WA",
           "98115"
          ],
          [
           485310,
           "22811 LAKEVIEW DRIVE",
           "MOUNTLAKE TERRACE",
           "WA",
           "98043"
          ],
          [
           485310,
           "21920 42ND AVE S",
           "KENT",
           "WA",
           "98032"
          ],
          [
           485310,
           null,
           null,
           null,
           null
          ],
          [
           485310,
           "8944 132ND PL SE",
           "NEWCASTLE",
           "WA",
           "98059"
          ],
          [
           485310,
           "5121 S ROXBURY ST",
           "SEATTLE",
           "WA",
           "98118"
          ],
          [
           485310,
           "28105 153RD AVE SE",
           "KENT",
           "WA",
           "98042"
          ],
          [
           485310,
           "3504 SW WEBSTER ST",
           "SEATTLE",
           "WA",
           "98126"
          ],
          [
           485310,
           "22606 91ST AVENUE CT E",
           "GRAHAM",
           "WA",
           "98338"
          ],
          [
           485310,
           null,
           null,
           null,
           null
          ],
          [
           485310,
           null,
           null,
           null,
           null
          ],
          [
           485310,
           null,
           null,
           null,
           null
          ],
          [
           485310,
           "50150 PL NE",
           "BELLEVUE",
           "WA",
           "98007"
          ],
          [
           485310,
           "12723 SE 278TH PL",
           "KENT",
           "WA",
           "98030-8843"
          ],
          [
           485310,
           "313 FERNDALE AVE SE",
           "RENTON",
           "WA",
           "98506-8891"
          ],
          [
           485310,
           "4305 LACEY BLVD SE",
           "LACEY",
           "WA",
           "98503-2352"
          ],
          [
           485310,
           "4305 LACEY BLVD SE",
           "LACEY",
           "WA",
           "98503-2352"
          ],
          [
           485310,
           "4305 LACEY BLVD SE",
           "LACEY",
           "WA",
           "98503-2352"
          ],
          [
           485310,
           "4305 LACEY BLVD SE",
           "LACEY",
           "WA",
           "98503-2352"
          ],
          [
           485310,
           "3608 S 180TH ST",
           "SEATAC",
           "WA",
           "98188"
          ],
          [
           485310,
           "23731 126TH PL SE",
           "KENT",
           "WA",
           "98031"
          ],
          [
           485310,
           "189 142ND PL NE",
           "BELLEVUE",
           "WA",
           "98007"
          ],
          [
           485310,
           "1333 N 125TH ST",
           "SEATTLE",
           "WA",
           "98133"
          ],
          [
           485310,
           "18025 272ND ST",
           "COVINGTON",
           "WA",
           "98042"
          ],
          [
           485310,
           "13025 110TH AVE NE",
           "KIRKLAND",
           "WA",
           "98034-6304"
          ],
          [
           485310,
           null,
           null,
           null,
           null
          ],
          [
           485310,
           null,
           null,
           null,
           null
          ],
          [
           485310,
           null,
           null,
           null,
           null
          ],
          [
           485310,
           " ",
           "KAPOWSIN",
           "WA",
           null
          ],
          [
           485310,
           "14900 UNION AVE SW",
           "LAKEWOOD",
           "WA",
           "98498-2276"
          ],
          [
           485310,
           "7315 NE 30TH CT",
           "VANCOUVER",
           "WA",
           "98665-1448"
          ],
          [
           485310,
           "14021 15TH AVE NE",
           "SEATTLE",
           "WA",
           "98125"
          ],
          [
           485310,
           "4505 S 217TH ST",
           "KENT",
           "WA",
           "98032"
          ],
          [
           485310,
           "37700 44TH  AVE  S",
           "AUBURN",
           "WA",
           "98001"
          ],
          [
           485310,
           "446 S 152ND ST",
           "BURIEN",
           "WA",
           "98148"
          ],
          [
           485310,
           null,
           null,
           null,
           null
          ],
          [
           485310,
           "17015 164TH AVE NE",
           "WOODINVILLE",
           "WA",
           "98072"
          ],
          [
           485310,
           "2206 S MERIDIAN",
           "PUYALLUP",
           "WA",
           "98371-7550"
          ],
          [
           485310,
           null,
           null,
           null,
           null
          ],
          [
           485310,
           null,
           null,
           null,
           null
          ],
          [
           485310,
           "3425 S 176TH ST",
           "SEATAC",
           "WA",
           "98188-4044"
          ],
          [
           485310,
           null,
           null,
           null,
           null
          ],
          [
           485310,
           null,
           null,
           null,
           null
          ],
          [
           485310,
           "15019 230TH ST E",
           "GRAHAM",
           "WA",
           "98338"
          ],
          [
           485310,
           "4412 212TH ST SW",
           "MOUNTLAKE TERRACE",
           "WA",
           "98043"
          ],
          [
           485310,
           "2101 S 324TH ST",
           "FEDERAL WAY",
           "WA",
           "98003-8597"
          ],
          [
           485310,
           "5565 S 152ND ST",
           "TUKWILA",
           "WA",
           "98188-7818"
          ],
          [
           485310,
           "3922 S MEAD ST",
           "SEATTLE",
           "WA",
           "98118"
          ],
          [
           485310,
           "8401 DELRIDGE WAY SW",
           "SEATTLE",
           "WA",
           "98106-2232"
          ],
          [
           485310,
           "462 BONDGARD AVE E",
           "ENUMCLAW",
           "WA",
           "98022-2997"
          ],
          [
           485310,
           "9350 REDMOND WOODINVILLE RD NE",
           "REDMOND",
           "WA",
           "98052"
          ],
          [
           485310,
           "105 N 3RD AVE SW",
           "TUMWATER",
           "WA",
           "98512"
          ],
          [
           485310,
           "12610 SE 160TH ST",
           "RENTON",
           "WA",
           "98058"
          ],
          [
           485310,
           "4425 S 220TH PL",
           "KENT",
           "WA",
           "98032"
          ],
          [
           485310,
           "321 BOYLSTON AVE E",
           "SEATTLE",
           "WA",
           "98102-5345"
          ],
          [
           485310,
           "8415 235TH PL SW",
           "EDMONDS",
           "WA",
           "98026"
          ],
          [
           485310,
           null,
           null,
           null,
           null
          ],
          [
           485310,
           "25931 13TH PL S",
           "DES MOINES",
           "WA",
           "98198"
          ],
          [
           485310,
           "27807 151ST PL SE",
           "KENT",
           "WA",
           "98042-4429"
          ],
          [
           485310,
           null,
           null,
           null,
           null
          ],
          [
           485310,
           "1401 MARVIN RD NE",
           "LACEY",
           "WA",
           "98516"
          ],
          [
           485310,
           null,
           null,
           null,
           null
          ],
          [
           485310,
           "26001 119TH DR SE",
           "KENT",
           "WA",
           "98030-8406"
          ],
          [
           485310,
           "15405 DES MOINES MEMORIAL DR S",
           "SEATAC",
           "WA",
           "98148-2543"
          ],
          [
           485310,
           "11020 SE KENT KANGLEY RD",
           "KENT",
           "WA",
           "98030-7255"
          ],
          [
           485310,
           "4305 S 217TH ST",
           "KENT",
           "WA",
           "98032-1402"
          ],
          [
           485310,
           null,
           null,
           null,
           null
          ],
          [
           485310,
           null,
           null,
           null,
           null
          ],
          [
           485310,
           "50101 146TH AVE E",
           "EATONVILLE",
           "WA",
           "98328"
          ],
          [
           485310,
           null,
           null,
           null,
           null
          ],
          [
           485310,
           null,
           null,
           null,
           null
          ],
          [
           485310,
           null,
           null,
           null,
           null
          ],
          [
           485310,
           "10809 181ST AVE PL E",
           "BONNEY LAKE",
           "WA",
           "98391"
          ],
          [
           485310,
           "2185 SE TIBURON CT",
           "PORT ORCHARD",
           "WA",
           "98366"
          ],
          [
           485310,
           "1716 8TH AVE SW",
           "PUYALLUP",
           "WA",
           "98371"
          ],
          [
           485310,
           " ",
           "SHORELINE",
           "WA",
           "98177"
          ],
          [
           485310,
           "3095 SHEASER WAY",
           "DUPONT",
           "WA",
           "98327"
          ],
          [
           485310,
           "2309 E MAIN AVE",
           "PUYALLUP",
           "WA",
           "98372"
          ],
          [
           485310,
           "14207 42ND AVE S",
           "TUKWILA",
           "WA",
           "98168"
          ],
          [
           485310,
           "425 SE CROSTON LN",
           "ISSAQUAH",
           "WA",
           "98027"
          ],
          [
           485310,
           "5824 117TH AVENUE CT E",
           "PUYALLUP",
           "WA",
           "98372"
          ],
          [
           485310,
           "23000 EDMONDS WAY",
           "EDMONDS",
           "WA",
           "98020"
          ],
          [
           485310,
           "4137 SW FRONTENAC ST",
           "SEATTLE",
           "WA",
           "98136"
          ],
          [
           485310,
           "1900 SW CAMPUS DR",
           "FEDERAL WAY",
           "WA",
           "98023-6427"
          ],
          [
           485310,
           "31003 14TH AVE S",
           "FEDERAL WAY",
           "WA",
           "98003-9013"
          ],
          [
           485310,
           "14511 SE 254TH ST",
           "KENT",
           "WA",
           "98042-3417"
          ],
          [
           485310,
           "3900 VETERANS DR",
           "KENT",
           "WA",
           "98032-3951"
          ],
          [
           485310,
           "2016 S 291ST ST",
           "FEDERAL WAY",
           "WA",
           "98003-3819"
          ],
          [
           485310,
           "1016 S 138TH ST",
           "BURIEN",
           "WA",
           "98168-6636"
          ],
          [
           485310,
           "28620 PACIFIC HWY S",
           "FEDERAL WAY",
           "WA",
           "98003-9232"
          ],
          [
           485310,
           "33020 10TH AVE SW",
           "FEDERAL WAY",
           "WA",
           "98023-5714"
          ],
          [
           485310,
           "12911 SE 231ST WAY",
           "KENT",
           "WA",
           "98031-3641"
          ],
          [
           485310,
           "2224 NE 175TH ST",
           "SHORELINE",
           "WA",
           "98155"
          ],
          [
           485310,
           "11020 SE KENT KANGLEY RD",
           "KENT",
           "WA",
           "98030"
          ],
          [
           485310,
           "10455 DES MOINES MEMORIAL DR S",
           "SEATTLE",
           "WA",
           "98168-1697"
          ],
          [
           485310,
           "37310 32ND AVE S",
           "AUBURN",
           "WA",
           "98001-8729"
          ],
          [
           485310,
           "103 CENTER ST W",
           "EATONVILLE",
           "WA",
           "98328-6464"
          ],
          [
           485310,
           "8709 115TH CT SW",
           "LAKEWOOD",
           "WA",
           "98498"
          ],
          [
           485310,
           "33051 41ST PL S",
           "FEDERAL WAY",
           "WA",
           "98001-2651"
          ],
          [
           485310,
           "31227 121ST LANE SE",
           "AUBURN",
           "WA",
           "98092"
          ],
          [
           485310,
           "25010 111TH AVE SE",
           "KENT",
           "WA",
           "98030"
          ],
          [
           485310,
           "24447 12TH AVE S",
           "DES MOINES",
           "WA",
           "98198-3867"
          ],
          [
           485310,
           "2415 THORNDYKE AVE W",
           "SEATTLE",
           "WA",
           "98199"
          ],
          [
           485310,
           "2013 196TH STREET CT E",
           "SPANAWAY",
           "WA",
           "98387"
          ],
          [
           485310,
           "12810 SE 241ST ST",
           "KENT",
           "WA",
           "98030-5085"
          ],
          [
           485310,
           "1025 23RD ST NW",
           "PUYALLUP",
           "WA",
           "98371-3995"
          ],
          [
           485310,
           "2508 S 317TH ST",
           "FEDERAL WAY",
           "WA",
           "98003-5028"
          ],
          [
           485310,
           "107 161ST ST S",
           "SPANAWAY",
           "WA",
           "98387"
          ],
          [
           485310,
           "36010 9TH CT SW",
           "FEDERAL WAY",
           "WA",
           "98023"
          ],
          [
           485310,
           "1930 SW 318TH PL",
           "FEDERAL WAY",
           "WA",
           "98023"
          ],
          [
           485310,
           "27106 123RD PLACE SE",
           "KENT",
           "WA",
           "98030"
          ],
          [
           485310,
           "2511 S GRAHAM ST",
           "SEATTLE",
           "WA",
           "98108-3125"
          ],
          [
           485310,
           "12610 SE 160TH ST",
           "RENTON",
           "WA",
           "98058"
          ],
          [
           485310,
           "16763 NE 121ST ST",
           "REDMOND",
           "WA",
           "93852"
          ],
          [
           485310,
           "10708 174TH AVE E",
           "BONNEY LAKE",
           "WA",
           "98391"
          ],
          [
           485310,
           "22118 113TH CT SE",
           "KENT",
           "WA",
           "98031"
          ],
          [
           485310,
           "24129 232ND PL SE",
           "MAPLE VALLEY",
           "WA",
           "98038"
          ],
          [
           485310,
           "22106 40TH PL S",
           "KENT",
           "WA",
           "98032"
          ],
          [
           485310,
           "1125 102ND AVE",
           "BELLEVUE",
           "WA",
           "98004"
          ],
          [
           485310,
           "29411 4TH AVE S",
           "FEDERAL WAY",
           "WA",
           "98003"
          ],
          [
           485310,
           "307 2ND AVE NE",
           "PUYALLUP",
           "WA",
           "98372"
          ],
          [
           485310,
           "11510 E RIVERSIDE DR",
           "BOTHELL",
           "WA",
           "98011"
          ],
          [
           485310,
           "4628 S 160TH ST",
           "TUKWILA",
           "WA",
           "98188-2758"
          ],
          [
           485310,
           "13030 LINDEN AVE N",
           "SEATTLE",
           "WA",
           "98133"
          ],
          [
           485310,
           "30344 125TH CT SE",
           "AUBURN",
           "WA",
           "98092-2291"
          ],
          [
           485310,
           "25623 98TH AVE S",
           "KENT",
           "WA",
           "98030-6147"
          ],
          [
           485310,
           "14240 YELM HWY SE",
           "YELM",
           "WA",
           "98597"
          ],
          [
           485310,
           "1147 GLENNWOOD AVE NE",
           "RENTON",
           "WA",
           "98056"
          ],
          [
           485310,
           "25623 98TH AVE S",
           "KENT",
           "WA",
           "98030"
          ],
          [
           485310,
           "14605 WALLINGFORD AVE N",
           "SHORELINE",
           "WA",
           "98133"
          ],
          [
           485310,
           "15627 129TH PL SE",
           "RENTON",
           "WA",
           "98058"
          ],
          [
           485310,
           "14330 126TH AVE NE",
           "KIRKLAND",
           "WA",
           "98034"
          ],
          [
           485310,
           "14921 93RD BLVD NE",
           "BOTHELL",
           "WA",
           "98011"
          ],
          [
           485310,
           "23921 139TH PL SE",
           "KENT",
           "WA",
           "98042"
          ],
          [
           485310,
           "11108 CHENNAULT BEACH RD",
           "MUKILTEO",
           "WA",
           "98275"
          ],
          [
           485310,
           "2510 WOODS DR",
           "STEILACOOM",
           "WA",
           "98388-4233"
          ],
          [
           485310,
           "22048 102ND PL SE",
           "KENT",
           "WA",
           "98031-9500"
          ],
          [
           485310,
           "18015 116TH AVE SE",
           "RENTON",
           "WA",
           "98058-6564"
          ],
          [
           485310,
           "1605 ELIZABETH LN",
           "GOLD BAR",
           "WA",
           "98251-9237"
          ],
          [
           485310,
           "2911 18TH ST SE",
           "PUYALLUP",
           "WA",
           "98374-6323"
          ],
          [
           485310,
           "4417 S 217TH PL",
           "KENT",
           "WA",
           "98032-2307"
          ],
          [
           485310,
           null,
           null,
           null,
           null
          ],
          [
           485310,
           "21105 131ST AVE E",
           "GRAHAM",
           "WA",
           "98338"
          ],
          [
           485310,
           "3900 VETERANS DR",
           "KENT",
           "WA",
           "98032-3934"
          ],
          [
           485310,
           null,
           null,
           null,
           null
          ],
          [
           485310,
           "31900 2ND LN SW",
           "FEDERAL WAY",
           "WA",
           "98023-4653"
          ],
          [
           485310,
           "12033 1st AVE S",
           "SEATTLE",
           "WA",
           "98168-5033"
          ],
          [
           485310,
           "333 s 320TH ST",
           "FEDERAL WAY",
           "WA",
           "98003-4614"
          ],
          [
           485310,
           "2230 n 106TH ST",
           "SEATTLE",
           "WA",
           "98133-9560"
          ],
          [
           485310,
           "440 21ST NW",
           "PUYALLUP",
           "WA",
           "98371"
          ],
          [
           485310,
           "15415 139TH AVE SE",
           "RENTON",
           "WA",
           "98058"
          ],
          [
           485310,
           "16400 84TH CT SE",
           "YELM",
           "WA",
           "98597"
          ],
          [
           485310,
           null,
           null,
           null,
           null
          ],
          [
           485310,
           null,
           null,
           null,
           null
          ],
          [
           485310,
           "913 VASHON PL NE",
           "RENTON",
           "WA",
           "98059-4569"
          ],
          [
           485310,
           "987 LUMMI DR",
           "FOX ISLAND",
           "WA",
           "98333"
          ],
          [
           485310,
           "1675 MOTTMAN RD SW",
           "TUMWATER",
           "WA",
           "98512"
          ],
          [
           485310,
           null,
           null,
           null,
           null
          ],
          [
           485310,
           null,
           null,
           null,
           null
          ],
          [
           485310,
           null,
           null,
           null,
           null
          ],
          [
           485310,
           null,
           null,
           null,
           null
          ],
          [
           485310,
           "3425 S 253RD ST",
           "KENT",
           "WA",
           "98032-9746"
          ],
          [
           485310,
           "15819 42ND AVE S",
           "TUKWILA",
           "WA",
           "98188-2644"
          ],
          [
           485310,
           null,
           null,
           null,
           null
          ],
          [
           485310,
           null,
           null,
           null,
           null
          ],
          [
           485310,
           null,
           null,
           null,
           null
          ],
          [
           485310,
           null,
           null,
           null,
           null
          ],
          [
           485310,
           " ",
           "STEILACOOM",
           "WA",
           "98388"
          ],
          [
           485310,
           "1922 28TH AVE SW",
           "PUYALLUP",
           "WA",
           "98373-1362"
          ],
          [
           485310,
           null,
           null,
           null,
           null
          ],
          [
           485310,
           null,
           null,
           null,
           null
          ],
          [
           485310,
           null,
           null,
           null,
           null
          ],
          [
           485310,
           "6806 OSWEGO PL NE",
           "SEATTLE",
           "WA",
           "98115"
          ],
          [
           485310,
           null,
           null,
           null,
           null
          ],
          [
           485310,
           null,
           null,
           null,
           null
          ],
          [
           485310,
           null,
           null,
           null,
           null
          ],
          [
           485310,
           null,
           null,
           null,
           null
          ],
          [
           485310,
           null,
           null,
           null,
           null
          ],
          [
           485310,
           null,
           null,
           null,
           null
          ],
          [
           485310,
           null,
           null,
           null,
           null
          ],
          [
           485310,
           null,
           null,
           null,
           null
          ],
          [
           485310,
           null,
           null,
           null,
           null
          ],
          [
           485310,
           null,
           null,
           null,
           null
          ],
          [
           485310,
           null,
           null,
           null,
           null
          ],
          [
           485310,
           "13230 NE 139TH PL",
           "KIRKLAND",
           "WA",
           "98034-5523"
          ],
          [
           485310,
           "16823  7TH AVE CT E",
           "SPANAWAY",
           "WA",
           "98387"
          ],
          [
           485310,
           "2316 BURBANK AVE NW",
           "OLYMPIA",
           "WA",
           "98502-8384"
          ],
          [
           485310,
           "3516 S 146TH ST",
           "TUKWILA",
           "WA",
           "98168-4342"
          ],
          [
           485310,
           "17223 32ND AVE S",
           "SEATAC",
           "WA",
           "98188-4409"
          ],
          [
           485310,
           "4718 S 124TH ST",
           "TUKWILA",
           "WA",
           "98178-3450"
          ],
          [
           485310,
           "14008 6TH AVE S",
           "BURIEN",
           "WA",
           "98168-3523"
          ],
          [
           485310,
           "12530 87TH PL NE",
           "KIRKLAND",
           "WA",
           "98034-2651"
          ],
          [
           485310,
           "23519 SE 254TH ST",
           "MAPLE VALLEY",
           "WA",
           "98038-6055"
          ],
          [
           485310,
           "2614 SW 332ND PL",
           "FEDERAL WAY",
           "WA",
           "98023-2746"
          ],
          [
           485310,
           "22692 129TH PL SE",
           "KENT",
           "WA",
           "98031-3978"
          ],
          [
           485310,
           "3012 S HOLLY ST",
           "SEATTLE",
           "WA",
           "98108-3780"
          ],
          [
           485310,
           null,
           null,
           null,
           null
          ],
          [
           485310,
           null,
           null,
           null,
           null
          ],
          [
           485310,
           null,
           null,
           null,
           null
          ],
          [
           485310,
           "9317 220TH STREET CT E",
           "GRAHAM",
           "WA",
           "98338-9197"
          ],
          [
           485310,
           null,
           null,
           null,
           null
          ],
          [
           485310,
           "1727 SUMMIT AVE",
           "SEATTLE",
           "WA",
           "98122-2151"
          ],
          [
           485310,
           "600 ELLINGSON RD",
           "PACIFIC",
           "WA",
           "98047-1286"
          ],
          [
           485310,
           null,
           null,
           null,
           null
          ],
          [
           485310,
           null,
           null,
           null,
           null
          ],
          [
           485310,
           null,
           null,
           null,
           null
          ],
          [
           485310,
           null,
           null,
           null,
           null
          ],
          [
           485310,
           null,
           null,
           null,
           null
          ],
          [
           485310,
           null,
           null,
           null,
           null
          ],
          [
           485310,
           null,
           null,
           null,
           null
          ],
          [
           485310,
           null,
           null,
           null,
           null
          ],
          [
           485310,
           "3900 VETERANS DR",
           "KENT",
           "WA",
           "98032-3954"
          ],
          [
           485310,
           "21013 82ND ST E",
           "BONNEY LAKE",
           "WA",
           "98391-8326"
          ],
          [
           485310,
           "3129 S 381ST WAY",
           "AUBURN",
           "WA",
           "98001-8767"
          ],
          [
           485310,
           "1318 OLSEN AVE",
           "BUCKLEY",
           "WA",
           "98321"
          ],
          [
           485310,
           "10418 NE 115TH PL",
           "KIRKLAND",
           "WA",
           "98033-4302"
          ],
          [
           485310,
           null,
           null,
           null,
           null
          ],
          [
           485310,
           null,
           null,
           null,
           null
          ],
          [
           485310,
           "40 THUNDERBIRD PKWY SW",
           "LAKEWOOD",
           "WA",
           "98498-6119"
          ],
          [
           485310,
           null,
           null,
           null,
           null
          ],
          [
           485310,
           null,
           null,
           null,
           null
          ],
          [
           485310,
           "14914 13TH AVE S",
           "SPANAWAY",
           "WA",
           "98387"
          ],
          [
           485310,
           null,
           null,
           null,
           null
          ],
          [
           485310,
           null,
           null,
           null,
           null
          ],
          [
           485310,
           "35209 172ND AVE SE",
           "AUBURN",
           "WA",
           "98092-2616"
          ],
          [
           485310,
           null,
           null,
           null,
           null
          ],
          [
           485310,
           null,
           null,
           null,
           null
          ],
          [
           485310,
           null,
           null,
           null,
           null
          ],
          [
           485310,
           null,
           null,
           null,
           null
          ],
          [
           485310,
           null,
           null,
           null,
           null
          ],
          [
           485310,
           null,
           null,
           null,
           null
          ],
          [
           485310,
           null,
           null,
           null,
           null
          ],
          [
           485310,
           null,
           null,
           null,
           null
          ],
          [
           485310,
           "2101 S 324TH ST",
           "FEDERAL WAY",
           "WA",
           "98003-8597"
          ],
          [
           485310,
           null,
           null,
           null,
           null
          ],
          [
           485310,
           "18859 SE 244TH PL",
           "COVINGTON",
           "WA",
           "98042"
          ],
          [
           485310,
           "11616 SE 230TH PL",
           "KENT",
           "WA",
           "98031-3746"
          ],
          [
           485310,
           "26212 121ST AVE SE",
           "KENT",
           "WA",
           "98030"
          ],
          [
           485310,
           "5902 OLIVE AVE SE",
           "AUBURN",
           "WA",
           "98092"
          ],
          [
           485310,
           "9214 32ND AVE SW",
           "SEATTLE",
           "WA",
           "98126-3817"
          ],
          [
           485310,
           "9736 6TH PL SW",
           "SEATTLE",
           "WA",
           "98106"
          ],
          [
           485310,
           "23407 140TH AVE SE",
           "KENT",
           "WA",
           "98042"
          ],
          [
           485310,
           "721 SW 328TH ST",
           "FEDERAL WAY",
           "WA",
           "98023"
          ],
          [
           485310,
           "12508 LAKE CITY WAY NE",
           "SEATTLE",
           "WA",
           "98125"
          ],
          [
           485310,
           null,
           null,
           null,
           null
          ],
          [
           485310,
           null,
           null,
           null,
           null
          ],
          [
           485310,
           null,
           null,
           null,
           null
          ],
          [
           485310,
           null,
           null,
           null,
           null
          ],
          [
           485310,
           null,
           null,
           null,
           null
          ],
          [
           485310,
           null,
           null,
           null,
           null
          ],
          [
           485310,
           null,
           null,
           null,
           null
          ],
          [
           485310,
           null,
           null,
           null,
           null
          ],
          [
           485310,
           null,
           null,
           null,
           null
          ],
          [
           485310,
           null,
           null,
           null,
           null
          ],
          [
           485310,
           null,
           null,
           null,
           null
          ],
          [
           485310,
           null,
           null,
           null,
           null
          ],
          [
           485310,
           null,
           null,
           null,
           null
          ],
          [
           485310,
           null,
           null,
           null,
           null
          ],
          [
           485310,
           null,
           null,
           null,
           null
          ],
          [
           485310,
           null,
           null,
           null,
           null
          ],
          [
           485310,
           null,
           null,
           null,
           null
          ],
          [
           485310,
           null,
           null,
           null,
           null
          ],
          [
           485310,
           null,
           null,
           null,
           null
          ],
          [
           485310,
           null,
           null,
           null,
           null
          ],
          [
           485310,
           null,
           null,
           null,
           null
          ],
          [
           485310,
           null,
           null,
           null,
           null
          ],
          [
           485310,
           null,
           null,
           null,
           null
          ],
          [
           485310,
           null,
           null,
           null,
           null
          ],
          [
           485310,
           "21800 PACIFIC HWY S",
           "DES MOINES",
           "WA",
           "98198"
          ],
          [
           485310,
           "33628 7TH PL SW",
           "FEDERAL WAY",
           "WA",
           "98023-5004"
          ],
          [
           485310,
           "3702 AUBURN WAY S",
           "AUBURN",
           "WA",
           "98092-6242"
          ],
          [
           485310,
           "17223 32ND AVE S",
           "SEATAC",
           "WA",
           "98188-4415"
          ],
          [
           485310,
           "7263 38TH AVE S",
           "SEATTLE",
           "WA",
           "98118-6407"
          ],
          [
           485310,
           "3223 S 204TH PL",
           "SEATAC",
           "WA",
           "98198-5875"
          ],
          [
           485310,
           "28620 PACIFIC HWY S",
           "FEDERAL WAY",
           "WA",
           "98003-9233"
          ],
          [
           485310,
           "30316 24TH PL S",
           "FEDERAL WAY",
           "WA",
           "98003-4200"
          ],
          [
           485310,
           "2118 S 107TH ST",
           "SEATTLE",
           "WA",
           "98168-1758"
          ],
          [
           485310,
           "25830 26TH PL S",
           "KENT",
           "WA",
           "98032-6318"
          ],
          [
           485310,
           "9700 RENTON  AVE S",
           "SEATTLE",
           "WA",
           "98118"
          ],
          [
           485310,
           "8801 DELRIDGE WAY SW",
           "SEATTLE",
           "WA",
           "98106"
          ],
          [
           485310,
           null,
           null,
           null,
           null
          ],
          [
           485310,
           "2741 S 242ND ST",
           "DES MOINES",
           "WA",
           "98198"
          ],
          [
           485310,
           null,
           null,
           null,
           null
          ],
          [
           485310,
           null,
           null,
           null,
           null
          ],
          [
           485310,
           null,
           null,
           null,
           null
          ],
          [
           485310,
           null,
           null,
           null,
           null
          ],
          [
           485310,
           null,
           null,
           null,
           null
          ],
          [
           485310,
           null,
           null,
           null,
           null
          ],
          [
           485310,
           null,
           null,
           null,
           null
          ],
          [
           485310,
           "2002 177TH ST CT E",
           "SPANAWAY",
           "WA",
           "98387-2914"
          ],
          [
           485310,
           null,
           null,
           null,
           null
          ],
          [
           485310,
           "602 5TH ST",
           "STEILACOOM",
           "WA",
           "98388-1802"
          ],
          [
           485310,
           "7734 40TH ST W",
           "UNIVERSITY PLACE",
           "WA",
           "98466-3114"
          ],
          [
           485310,
           "10202 LAKEVIEW AVE SW",
           "LAKEWOOD",
           "WA",
           "98499"
          ],
          [
           485310,
           "6350 RADIANCE BLVD E",
           "FIFE",
           "WA",
           "98424"
          ],
          [
           485310,
           "6601 S TYLER ST",
           "TACOMA",
           "WA",
           "98409"
          ],
          [
           485310,
           "5545 34TH ST LOOP NE",
           "TACOMA",
           "WA",
           "98422-3105"
          ],
          [
           485310,
           "1405 E 53RD ST",
           "TACOMA",
           "WA",
           "98404"
          ],
          [
           485310,
           "1554 MARKET ST",
           "TACOMA",
           "WA",
           "98402"
          ],
          [
           485310,
           "38 N SALMON BEACH",
           "TACOMA",
           "WA",
           "98407"
          ],
          [
           485310,
           "2102 DAVIS CT NE",
           "TACOMA",
           "WA",
           "98422-4533"
          ],
          [
           485310,
           "14410 4TH AVE CT E",
           "PARKLAND",
           "WA",
           "98445"
          ],
          [
           485310,
           "7406 27TH ST W",
           "UNIVERSITY PLACE",
           "WA",
           "98466"
          ],
          [
           485310,
           "4750 AUBURN WAY N",
           "AUBURN",
           "WA",
           "98002-2014"
          ],
          [
           485310,
           "4750 AUBURN WAY N",
           "AUBURN",
           "WA",
           "98002-2030"
          ],
          [
           485310,
           "2108 S 90TH ST",
           "TACOMA",
           "WA",
           "98444"
          ],
          [
           485310,
           "2616 21ST AVE S",
           "SEATTLE",
           "WA",
           "98144"
          ],
          [
           485310,
           "6552 21ST AVE NW",
           "SEATTLE",
           "WA",
           "98117"
          ],
          [
           485310,
           "758 OAKHURST DR",
           "PACIFIC",
           "WA",
           "98047"
          ],
          [
           485310,
           "77 S WASHINGTON ST",
           "SEATTLE",
           "WA",
           "98104"
          ],
          [
           485310,
           "3817 S TYLER ST",
           "TACOMA",
           "WA",
           "98409-2131"
          ],
          [
           485310,
           " ",
           "TACOMA",
           "WA",
           null
          ],
          [
           485310,
           "7407 E D ST",
           "TACOMA",
           "WA",
           "98404-1079"
          ],
          [
           485310,
           "9402 E D ST",
           "TACOMA",
           "WA",
           "98445-2144"
          ],
          [
           485310,
           "1111 S HIGHLAND AVE",
           "TACOMA",
           "WA",
           "98465-2327"
          ],
          [
           485310,
           "7623 E D ST",
           "TACOMA",
           "WA",
           "98404-1038"
          ],
          [
           485310,
           "7317 46TH ST CT W",
           "UNIVERSITY PLACE",
           "WA",
           "98466-4248"
          ],
          [
           485310,
           "7406 27TH ST W",
           "TACOMA",
           "WA",
           "98466"
          ],
          [
           485310,
           "2232 SE  3RD ST",
           "RENTON",
           "WA",
           "98056"
          ],
          [
           485310,
           "5107 115TH ST SW",
           "LAKEWOOD",
           "WA",
           "98499"
          ],
          [
           485310,
           "2610 E BAY ST",
           "TACOMA",
           "WA",
           "98421-2611"
          ],
          [
           485310,
           "7700 RAINIER AVE S",
           "SEATTLE",
           "WA",
           "98118"
          ],
          [
           485310,
           "2220 WESTRIDGE AVE W",
           "TACOMA",
           "WA",
           "98466"
          ],
          [
           485310,
           "3114 S 15TH ST",
           "TACOMA",
           "WA",
           "98405-2417"
          ],
          [
           485310,
           "902 M ST SE",
           "AUBURN",
           "WA",
           "98002"
          ],
          [
           485310,
           "13102 NE 90TH ST",
           "KIRKLAND",
           "WA",
           "98033"
          ],
          [
           485310,
           "23108 50TH AVE SOUTH",
           "KENT",
           "WA",
           "98032"
          ],
          [
           485310,
           "4866 S 48TH ST",
           "TACOMA",
           "WA",
           "98409-1906"
          ],
          [
           485310,
           "13537 35TH AVE S",
           "TUKWILA",
           "WA",
           "98168"
          ],
          [
           485310,
           "2901 S 45TH ST",
           "TACOMA",
           "WA",
           "98409-6525"
          ],
          [
           485310,
           "2108 S 90TH ST",
           "TACOMA",
           "WA",
           "98444-1816"
          ],
          [
           485310,
           "10202 LAKEVIEW AVE SW",
           "LAKEWOOD",
           "WA",
           "98499"
          ],
          [
           485310,
           "5601 N 37TH ST",
           "TACOMA",
           "WA",
           "98407-0000"
          ],
          [
           485310,
           "3414 E M ST",
           "TACOMA",
           "WA",
           "98404"
          ],
          [
           485310,
           "25 THUNDERBIRD PKWY SW",
           "LAKEWOOD",
           "WA",
           "98498-6182"
          ],
          [
           485310,
           "3606 E SPOKANE ST",
           "TACOMA",
           "WA",
           "98404-3026"
          ],
          [
           485310,
           "625 N JACKSON AVE",
           "TACOMA",
           "WA",
           "98406-1238"
          ],
          [
           485310,
           "1120 S 23RD ST",
           "TACOMA",
           "WA",
           "98405-3405"
          ],
          [
           485310,
           "10202 LAKEVIEW AVE SW",
           "LAKEWOOD",
           "WA",
           "98499-4223"
          ],
          [
           485310,
           "1514 S 73RD ST",
           "TACOMA",
           "WA",
           "98408-2131"
          ],
          [
           485310,
           "2108 S 90TH ST",
           "TACOMA",
           "WA",
           "98444"
          ],
          [
           485310,
           "6824 19TH ST W",
           "UNIVERSITY PLACE",
           "WA",
           "98466-5528"
          ],
          [
           485310,
           "12618 10TH AVE S",
           "BURIEN",
           "WA",
           "98168"
          ],
          [
           485310,
           "3420 S MADISON ST",
           "TACOMA",
           "WA",
           "98409-2212"
          ],
          [
           485310,
           "17002 6TH AVENUE CT E",
           "SPANAWAY",
           "WA",
           "98387-7807"
          ],
          [
           485310,
           "9819 PARK AVE S",
           "TACOMA",
           "WA",
           "98444-5934"
          ],
          [
           485310,
           "4925 30TH ST NE",
           "TACOMA",
           "WA",
           "98422-2901"
          ],
          [
           485310,
           "4600 16TH ST E",
           "FIFE",
           "WA",
           "98424-2634"
          ],
          [
           485310,
           "2108 S 90TH ST",
           "TACOMA",
           "WA",
           "98444"
          ],
          [
           485310,
           "7305 N SKYVIEW PL",
           "TACOMA",
           "WA",
           "98406-1301"
          ],
          [
           485310,
           "1419 S 5TH ST",
           "TACOMA",
           "WA",
           "98405-3711"
          ],
          [
           485310,
           "185 BIRCH DR",
           "ENUMCLAW",
           "WA",
           "98022"
          ],
          [
           485310,
           "3302 N VASSAULT ST",
           "TACOMA",
           "WA",
           "98407"
          ],
          [
           485310,
           "7406 27TH ST W",
           "UNIVERSITY PLACE",
           "WA",
           "98406"
          ],
          [
           485310,
           "7406 27TH ST W",
           "UNIVERSITY PLACE",
           "WA",
           "98466-4632"
          ],
          [
           485310,
           "2536 42ND AVE SE",
           "OLYMPIA",
           "WA",
           "98501-4298"
          ],
          [
           485310,
           "708 MARKET ST",
           "TACOMA",
           "WA",
           "98402-3747"
          ],
          [
           485310,
           "3902 52ND ST NE",
           "TACOMA",
           "WA",
           "98422"
          ],
          [
           485310,
           "2726 60TH AVE SW",
           "SEATTLE",
           "WA",
           "98116"
          ],
          [
           485310,
           "5518 76TH ST W",
           "LAKEWOOD",
           "WA",
           "98499"
          ],
          [
           485310,
           "2902 S ADAMS ST",
           "TACOMA",
           "WA",
           "98409-3308"
          ],
          [
           485310,
           "5311 CHICAGO AVE SW",
           "LAKEWOOD",
           "WA",
           "98499-5712"
          ],
          [
           485310,
           "1604 W JAMES PL",
           "KENT",
           "WA",
           "98032"
          ],
          [
           485310,
           "1700 17TH AVE",
           "SEATTLE",
           "WA",
           "98122"
          ],
          [
           485310,
           "10202 PACIFIC AVE S",
           "TACOMA",
           "WA",
           "98444"
          ],
          [
           485310,
           "401 37TH ST SE",
           "AUBURN",
           "WA",
           "98002"
          ],
          [
           485310,
           "7406 27TH ST W",
           "TACOMA",
           "WA",
           "98466-4632"
          ],
          [
           485310,
           "1149 N SKYLINE DR",
           "TACOMA",
           "WA",
           "98406-1823"
          ],
          [
           485310,
           "6020 78TH STREET CT W",
           "LAKEWOOD",
           "WA",
           "98499-2680"
          ],
          [
           485310,
           "1302 N 6TH ST",
           "TACOMA",
           "WA",
           "98403-1344"
          ],
          [
           485310,
           "6601 S 8TH ST",
           "TACOMA",
           "WA",
           "98465-2087"
          ],
          [
           485310,
           "4602 S 55TH ST",
           "TACOMA",
           "WA",
           "98409-1846"
          ],
          [
           485310,
           "5714 59TH STREET CT W",
           "UNIVERSITY PLACE",
           "WA",
           "98467-2859"
          ],
          [
           485310,
           "207 5TH AVE SW",
           "PUYALLUP",
           "WA",
           "98371-1958"
          ],
          [
           485310,
           "3219 N WHITMAN ST",
           "TACOMA",
           "WA",
           "98407"
          ],
          [
           485310,
           "4275 S PINE ST",
           "TACOMA",
           "WA",
           "98409-6573"
          ],
          [
           485310,
           "14422 34TH AVE S",
           "TUKWILA",
           "WA",
           "98168"
          ],
          [
           485310,
           "6130 36TH ST SE",
           "AUBURN",
           "WA",
           "98092"
          ],
          [
           485310,
           "11313 8TH PL W",
           "EVERETT",
           "WA",
           "98204"
          ],
          [
           485310,
           "2715 13TH AVE NW",
           "PUYALLUP",
           "WA",
           "98371"
          ],
          [
           485310,
           "7406 27TH ST W",
           "UNIVERSITY PLACE",
           "WA",
           "98466-4632"
          ],
          [
           485310,
           "5808 91ST STREET SW",
           "LAKEWOOD",
           "WA",
           "98499-6112"
          ],
          [
           485310,
           "2125 215TH STREET CT E",
           "SPANAWAY",
           "WA",
           "98387"
          ],
          [
           485310,
           "1307 187TH ST CT E",
           "SPANAWAY",
           "WA",
           "98387"
          ],
          [
           485310,
           "10601 DOTEN DR SW",
           "LAKEWOOD",
           "WA",
           "98499"
          ],
          [
           485310,
           "4516 36TH AVE W",
           "SEATTLE",
           "WA",
           "98199"
          ],
          [
           485310,
           "19513 73RD AVE W",
           "LYNNWOOD",
           "WA",
           "98036"
          ],
          [
           485310,
           "1419 E 62ND ST",
           "TACOMA",
           "WA",
           "98404-3537"
          ],
          [
           485310,
           "12732 ROOSEVELT WAY NE",
           "SEATTLE",
           "WA",
           "98125"
          ],
          [
           485310,
           "818 S 11TH ST",
           "TACOMA",
           "WA",
           "98405-4527"
          ],
          [
           485310,
           "1925 S I ST",
           "TACOMA",
           "WA",
           "98405"
          ],
          [
           485310,
           "1101 E 53RD ST",
           "TACOMA",
           "WA",
           "98404-2720"
          ],
          [
           485310,
           "5507 E E ST",
           "TACOMA",
           "WA",
           "98404-2055"
          ],
          [
           485310,
           "10202 LAKEVIEW AVE SW",
           "LAKEWOOD",
           "WA",
           "98499"
          ],
          [
           485310,
           "1907 LIGHTHOUSE LN NE",
           "TACOMA",
           "WA",
           "98422-3467"
          ],
          [
           485310,
           "5030 S 58TH ST",
           "TACOMA",
           "WA",
           "98409-1307"
          ],
          [
           485310,
           "5627 S OAKES ST",
           "TACOMA",
           "WA",
           "98409-6211"
          ],
          [
           485310,
           "729 S VASSAULT ST",
           "TACOMA",
           "WA",
           "98465-0000"
          ],
          [
           485310,
           "501 S 43RD ST",
           "TACOMA",
           "WA",
           "98418-6616"
          ],
          [
           485310,
           "6736 S MASON AVE",
           "TACOMA",
           "WA",
           "98409-1538"
          ],
          [
           485310,
           "4101 N 26TH ST",
           "TACOMA",
           "WA",
           "98407"
          ],
          [
           485310,
           "7241 S MONROE ST",
           "TACOMA",
           "WA",
           "98409-2445"
          ],
          [
           485310,
           "1418 S MILDRED ST",
           "TACOMA",
           "WA",
           "98465-2909"
          ],
          [
           485310,
           "1307 10TH AVE",
           "MILTON",
           "WA",
           "98354-8825"
          ],
          [
           485310,
           "5010 SW 317TH LN",
           "FEDERAL WAY",
           "WA",
           "98023-3770"
          ],
          [
           485310,
           "1334 E 49TH ST",
           "TACOMA",
           "WA",
           "98404-3617"
          ],
          [
           485310,
           "1800 S 330TH ST",
           "FEDERAL WAY",
           "WA",
           "98003-9421"
          ],
          [
           485310,
           "6714 16TH AVE SW",
           "SEATTLE",
           "WA",
           "98106"
          ],
          [
           485310,
           "7406 27TH ST W",
           "UNIVERSITY PLACE",
           "WA",
           "98466-4636"
          ],
          [
           485310,
           "1717 S 96TH ST",
           "TACOMA",
           "WA",
           "98444-2803"
          ],
          [
           485310,
           "8212 29TH AVE CT S",
           "LAKEWOOD",
           "WA",
           "98499-8828"
          ],
          [
           485310,
           "419 E 43RD ST",
           "TACOMA",
           "WA",
           "98404"
          ],
          [
           485310,
           "3521 S ORCHARD ST",
           "TACOMA",
           "WA",
           "98466"
          ],
          [
           485310,
           "518 NW 60TH ST",
           "SEATTLE",
           "WA",
           "98107"
          ],
          [
           485310,
           "6307 58TH AVE SE",
           "LACEY",
           "WA",
           "98513"
          ],
          [
           485310,
           "5015 S L ST",
           "TACOMA",
           "WA",
           "98408-3631"
          ],
          [
           485310,
           "2108 S 90TH ST",
           "TACOMA",
           "WA",
           "98444"
          ],
          [
           485310,
           "7342 S WILKESON ST",
           "TACOMA",
           "WA",
           "98408-1226"
          ],
          [
           485310,
           "819 S 16TH ST",
           "TACOMA",
           "WA",
           "98405-5045"
          ],
          [
           485310,
           "3015 N PEARL ST",
           "TACOMA",
           "WA",
           "98407-0000"
          ],
          [
           485310,
           "4111 N 25TH ST",
           "TACOMA",
           "WA",
           "98406-4824"
          ],
          [
           485310,
           "4823 E M ST",
           "TACOMA",
           "WA",
           "98404-3650"
          ],
          [
           485310,
           "1730 J ST NE",
           "AUBURN",
           "WA",
           "98002-3341"
          ],
          [
           485310,
           "7406 27TH ST W",
           "TACOMA",
           "WA",
           "98466"
          ],
          [
           485310,
           "7406 27TH ST W",
           "UNIVERSITY PLACE",
           "WA",
           "98466-4632"
          ],
          [
           485310,
           "1513 S 81ST ST",
           "TACOMA",
           "WA",
           "98408-1910"
          ],
          [
           485310,
           "1614 S 84TH ST",
           "TACOMA",
           "WA",
           "98444"
          ],
          [
           485310,
           "416 S 48TH ST",
           "TACOMA",
           "WA",
           "98408-6522"
          ],
          [
           485310,
           "1134 FAWCETT AVE",
           "TACOMA",
           "WA",
           "98402"
          ],
          [
           485310,
           "8315 83RD ST SW",
           "LAKEWOOD",
           "WA",
           "98498"
          ],
          [
           485310,
           "2755 SE 4TH ST",
           "RENTON",
           "WA",
           "98056"
          ],
          [
           485310,
           "912 N 96TH ST",
           "SEATTLE",
           "WA",
           "98103"
          ],
          [
           485310,
           "2603 S 19TH ST",
           "TACOMA",
           "WA",
           "98405"
          ],
          [
           485310,
           "3225 NE 25TH ST",
           "RENTON",
           "WA",
           "98056"
          ],
          [
           485310,
           "3015 N PEARL ST.",
           "TACOMA",
           "WA",
           "98407"
          ],
          [
           485310,
           "819 9TH AVE NW",
           "PUYALLUP",
           "WA",
           "98371"
          ],
          [
           485310,
           "4114 S THOMPSON AVE",
           "TACOMA",
           "WA",
           "98418"
          ],
          [
           485310,
           "4001 S PINE ST",
           "TACOMA",
           "WA",
           "98413"
          ],
          [
           485310,
           "1614 S 84TH ST",
           "TACOMA",
           "WA",
           "98444-3112"
          ],
          [
           485310,
           "7601 146TH ST SW",
           "LAKEWOOD",
           "WA",
           "98439-1103"
          ],
          [
           485310,
           "1020 S HOWARD ST",
           "TACOMA",
           "WA",
           "98465-1818"
          ],
          [
           485310,
           "28707 20TH AVE S",
           "FEDERAL WAY",
           "WA",
           "98003-3234"
          ],
          [
           485310,
           "4215 S 30TH ST",
           "TACOMA",
           "WA",
           "98409-3263"
          ],
          [
           485310,
           "139 E 66TH ST",
           "TACOMA",
           "WA",
           "98404"
          ],
          [
           485310,
           "9507 MAPLE AVE SW",
           "LAKEWOOD",
           "WA",
           "98499"
          ],
          [
           485310,
           "14600 NE 32ND ST",
           "BELLEVUE",
           "WA",
           "98007"
          ],
          [
           485310,
           "11626 SE 210TH PL",
           "KENT",
           "WA",
           "98031"
          ],
          [
           485310,
           "9043 S D ST",
           "TACOMA",
           "WA",
           "98444"
          ],
          [
           485310,
           "2831 14TH AVE W",
           "SEATTLE",
           "WA",
           "98119"
          ],
          [
           485310,
           "14508 SE 24TH ST",
           "BELLEVUE",
           "WA",
           "98007"
          ],
          [
           485310,
           "1347 17TH ST SE",
           "AUBURN",
           "WA",
           "98002"
          ],
          [
           485310,
           "1140 5TH AVE",
           "EDMONDS",
           "WA",
           "98020"
          ],
          [
           485310,
           "10008 32ND ST E",
           "EDGEWOOD",
           "WA",
           "98371"
          ],
          [
           485310,
           "24321 17TH AVE S",
           "DES MOINES",
           "WA",
           "98198"
          ],
          [
           485310,
           "3726 PACIFIC AVE SE",
           "OLYMPIA",
           "WA",
           "98501-2170"
          ],
          [
           485310,
           "12606 117TH AVENUE CT E",
           "PUYALLUP",
           "WA",
           "98374-4071"
          ],
          [
           485310,
           "6410 60TH ST W",
           "UNIVERSITY PLACE",
           "WA",
           "98467-0000"
          ],
          [
           485310,
           "5002 52ND AVENUE CT W",
           "UNIVERSITY PLACE",
           "WA",
           "98467"
          ],
          [
           485310,
           "5043 S TRAFTON ST",
           "TACOMA",
           "WA",
           "98409-7143"
          ],
          [
           485310,
           "319 N I ST",
           "TACOMA",
           "WA",
           "98403-0000"
          ],
          [
           485310,
           "763 S 74TH ST",
           "TACOMA",
           "WA",
           "98408-5408"
          ],
          [
           485310,
           "8307 83RD AVENUE CT SW",
           "LAKEWOOD",
           "WA",
           "98498-4783"
          ],
          [
           485310,
           "1907 LIGHTHOUSE LN NE",
           "TACOMA",
           "WA",
           "98422"
          ],
          [
           485310,
           "1615 VALLEY AVE E",
           "SUMNER",
           "WA",
           "98390"
          ],
          [
           485310,
           "7313 95TH AVE SW",
           "LAKEWOOD",
           "WA",
           "98498-3310"
          ],
          [
           485310,
           "4840 S PARK AVE",
           "TACOMA",
           "WA",
           "98408-5720"
          ],
          [
           485310,
           "4114 N 10TH ST",
           "TACOMA",
           "WA",
           "98406-4516"
          ],
          [
           485310,
           "3815 N PEARL ST",
           "TACOMA",
           "WA",
           "98407-2628"
          ],
          [
           485310,
           "4750 auburn WAY N",
           "AUBURN",
           "WA",
           "98002-2028"
          ],
          [
           485310,
           "2112 S 90TH ST",
           "TACOMA",
           "WA",
           "98444-1806"
          ],
          [
           485310,
           "9508 56TH AVE SW",
           "LAKEWOOD",
           "WA",
           "98499"
          ],
          [
           485310,
           "3514 S 180TH ST",
           "SEATAC",
           "WA",
           "98188"
          ],
          [
           485310,
           "16815 PACIFIC AVE S",
           "SPANAWAY",
           "WA",
           "98387-0569"
          ],
          [
           485310,
           "2522 14TH AVE S",
           "SEATTLE",
           "WA",
           "98144-5076"
          ],
          [
           485310,
           "708 N L ST",
           "TACOMA",
           "WA",
           "98403"
          ],
          [
           485310,
           "1445 E 48TH ST",
           "TACOMA",
           "WA",
           "98404"
          ],
          [
           485310,
           "6406 S 10TH ST",
           "TACOMA",
           "WA",
           "98465-2003"
          ],
          [
           485310,
           "1027 E 47TH ST",
           "TACOMA",
           "WA",
           "98404-2804"
          ],
          [
           485310,
           "3719 N 28TH ST",
           "TACOMA",
           "WA",
           "98407-5913"
          ],
          [
           485310,
           "7406 27TH ST W",
           "UNIVERSITY PLACE",
           "WA",
           "98466"
          ],
          [
           485310,
           "3503 70TH AVE E",
           "FIFE",
           "WA",
           "98424-3861"
          ],
          [
           485310,
           "6239 S WARNER ST",
           "TACOMA",
           "WA",
           "98409-4129"
          ],
          [
           485310,
           "509 N YAKIMA AVE",
           "TACOMA",
           "WA",
           "98403-2336"
          ],
          [
           485310,
           "5715 N 30TH ST",
           "TACOMA",
           "WA",
           "98407-2401"
          ],
          [
           485310,
           "714 E MORTON ST",
           "TACOMA",
           "WA",
           "98404-2168"
          ],
          [
           485310,
           "5714 23RD ST E",
           "FIFE",
           "WA",
           "98424-4512"
          ],
          [
           485310,
           "7121 CITRINE LN SW",
           "LAKEWOOD",
           "WA",
           "98498"
          ],
          [
           485310,
           "9334 S STEELE ST",
           "TACOMA",
           "WA",
           "98444-1874"
          ],
          [
           485310,
           "8941 GRAVELLY LAKE DR SW",
           "LAKEWOOD",
           "WA",
           "98499-3127"
          ],
          [
           485310,
           "4802 S PINE ST",
           "TACOMA",
           "WA",
           "98409"
          ],
          [
           485310,
           "1918 63RD AVE NE",
           "TACOMA",
           "WA",
           "98422-3626"
          ],
          [
           485310,
           "1004 ARLEO LN",
           "FIRCREST",
           "WA",
           "98466-6573"
          ],
          [
           485310,
           "1520 N PROSPECT ST",
           "TACOMA",
           "WA",
           "98406-8108"
          ],
          [
           485310,
           "8640 FAWCETT AVE",
           "TACOMA",
           "WA",
           "98444"
          ],
          [
           485310,
           "810 ALTA VISTA PL",
           "FIRCREST",
           "WA",
           "98466-7020"
          ],
          [
           485310,
           "3819 S L ST",
           "TACOMA",
           "WA",
           "98418-3931"
          ],
          [
           485310,
           "4802 NASSAU AVE NE",
           "TACOMA",
           "WA",
           "98422-0000"
          ],
          [
           485310,
           "3815 N PEARL ST",
           "TACOMA",
           "WA",
           "98407-2619"
          ],
          [
           485310,
           "9210 South Hosmer",
           "TACOMA",
           "WA",
           "98444"
          ],
          [
           485310,
           "4720 S PINE ST",
           "TACOMA",
           "WA",
           "98409-0000"
          ],
          [
           485310,
           "6726 82ND ST SW",
           "LAKEWOOD",
           "WA",
           "98499-2521"
          ],
          [
           485310,
           "1807 S HIGHLAND AVE",
           "TACOMA",
           "WA",
           "98465-2213"
          ],
          [
           485310,
           "7509 89TH AVE SW",
           "LAKEWOOD",
           "WA",
           "98498-3925"
          ],
          [
           485310,
           "18102 76TH AVE E",
           "PUYALLUP",
           "WA",
           "98375-7532"
          ],
          [
           485310,
           "3723 70TH AVE W",
           "UNIVERSITY PLACE",
           "WA",
           "98466-5138"
          ],
          [
           485310,
           "8401 82ND ST SW",
           "LAKEWOOD",
           "WA",
           "98498-7249"
          ],
          [
           485310,
           "17845 130TH AVE E",
           "PUYALLUP",
           "WA",
           "98374-9821"
          ],
          [
           485310,
           "1908 S 21ST ST",
           "TACOMA",
           "WA",
           "98405"
          ],
          [
           485310,
           "4602 S 55TH ST",
           "TACOMA",
           "WA",
           "98409"
          ],
          [
           485310,
           "7406 27TH ST W",
           "UNIVERSITY PLACE",
           "WA",
           "98466"
          ],
          [
           485310,
           "5625 29TH ST NE",
           "TACOMA",
           "WA",
           "98422-3205"
          ],
          [
           485310,
           "4112 S K ST",
           "TACOMA",
           "WA",
           "98418-3828"
          ],
          [
           485310,
           "1002 N TACOMA AVE",
           "TACOMA",
           "WA",
           "98403-2929"
          ],
          [
           485310,
           "9324 S STEELE ST",
           "TACOMA",
           "WA",
           "98444-6853"
          ],
          [
           485310,
           "2617 N ORCHARD ST",
           "TACOMA",
           "WA",
           "98407-3942"
          ],
          [
           485310,
           "3415 S 45TH ST",
           "TACOMA",
           "WA",
           "98409-4533"
          ],
          [
           485310,
           "4802 108TH ST SW",
           "LAKEWOOD",
           "WA",
           "98499-3705"
          ],
          [
           485310,
           "6403 S 12TH ST",
           "TACOMA",
           "WA",
           "98465-1908"
          ],
          [
           485310,
           "1704 E 42ND ST",
           "TACOMA",
           "WA",
           "98404"
          ],
          [
           485310,
           "7645 PACIFIC AVE",
           "TACOMA",
           "WA",
           "98408-7004"
          ],
          [
           485310,
           "6931 S MASON AVE",
           "TACOMA",
           "WA",
           "98409-1539"
          ],
          [
           485310,
           "612 S GRANT AVE",
           "TACOMA",
           "WA",
           "98405"
          ],
          [
           485310,
           "1745 E 39TH ST",
           "TACOMA",
           "WA",
           "98404"
          ],
          [
           485310,
           "2108 S 90TH ST",
           "TACOMA",
           "WA",
           "98444-1816"
          ],
          [
           485310,
           "10202 LAKEVIEW AVE SW",
           "LAKEWOOD",
           "WA",
           "98499"
          ],
          [
           485310,
           "7016 CHERRY LANE SW",
           "LAKEWOOD",
           "WA",
           "98499-1910"
          ],
          [
           485310,
           "1658 S 90TH ST",
           "TACOMA",
           "WA",
           "98444-3120"
          ],
          [
           485310,
           "2202 70TH AVE W",
           "UNIVERSITY PLACE",
           "WA",
           "98466-7617"
          ],
          [
           485310,
           "4533 E E ST",
           "TACOMA",
           "WA",
           "98404-1452"
          ],
          [
           485310,
           "7410 95TH AVE SW",
           "LAKEWOOD",
           "WA",
           "98498-3313"
          ],
          [
           485310,
           "1305 REGENTS BLVD",
           "FIRCREST",
           "WA",
           "98466-0000"
          ],
          [
           485310,
           "7020 S I ST",
           "TACOMA",
           "WA",
           "98408-4411"
          ],
          [
           485310,
           "5622 S GOVE ST",
           "TACOMA",
           "WA",
           "98409-1720"
          ],
          [
           485310,
           "9020 S HOSMER ST",
           "TACOMA",
           "WA",
           "98444-1818"
          ],
          [
           485310,
           "4955 S ORCHARD ST",
           "TACOMA",
           "WA",
           "98467-4814"
          ],
          [
           485310,
           "7808 S AINSWORTH AVE",
           "TACOMA",
           "WA",
           "98408-2011"
          ],
          [
           485310,
           "3814 D PL SE",
           "AUBURN",
           "WA",
           "98002"
          ],
          [
           485310,
           "4750 AUBURN WAY N",
           "AUBURN",
           "WA",
           "98002-2032"
          ],
          [
           485310,
           "6439 S 120TH ST",
           "SEATTLE",
           "WA",
           "98178-3621"
          ],
          [
           485310,
           "11710 PAWNEE DR SW",
           "LAKEWOOD",
           "WA",
           "98499-4928"
          ],
          [
           485310,
           "1216 N 103RD ST",
           "SEATTLE",
           "WA",
           "98133-9405"
          ],
          [
           485310,
           "3417 55TH AVE NE",
           "TACOMA",
           "WA",
           "98422"
          ],
          [
           485310,
           "1423 S 44TH ST",
           "TACOMA",
           "WA",
           "98418-2410"
          ],
          [
           485310,
           "3501 S 38TH ST",
           "TACOMA",
           "WA",
           "98409-4210"
          ],
          [
           485310,
           "6209 16TH ST NE",
           "TACOMA",
           "WA",
           "98422-3631"
          ],
          [
           485310,
           "109 AMHERST ST",
           "FIRCREST",
           "WA",
           "98466-0000"
          ],
          [
           485310,
           "1922 E 59TH ST",
           "TACOMA",
           "WA",
           "98404-4407"
          ],
          [
           485310,
           "8518 45TH ST W",
           "UNIVERSITY PLACE",
           "WA",
           "98466"
          ],
          [
           485310,
           "10202 LAKEVIEW AVE SW",
           "LAKEWOOD",
           "WA",
           "98499"
          ],
          [
           485310,
           "31805 49TH TER SW",
           "FEDERAL WAY",
           "WA",
           "98023-3707"
          ],
          [
           485310,
           "11217 18TH AVE S",
           "TACOMA",
           "WA",
           "98444-1474"
          ],
          [
           485310,
           "1233 S JACKSON AVE",
           "TACOMA",
           "WA",
           "98465"
          ],
          [
           485310,
           "6601 S TYLER ST",
           "TACOMA",
           "WA",
           "98409-2401"
          ],
          [
           485310,
           "1786 KENNEDY PLACE",
           "DUPONT",
           "WA",
           "98327"
          ],
          [
           485310,
           "32820 20TH AVE S",
           "FEDERAL WAY",
           "WA",
           "98003"
          ],
          [
           485310,
           "3401 PACIFIC AVE",
           "TACOMA",
           "WA",
           "98418-7922"
          ],
          [
           485310,
           "1908 S 21ST ST",
           "TACOMA",
           "WA",
           "98405"
          ],
          [
           485310,
           "2010 70TH AVE W",
           "UNIVERSITY PLACE",
           "WA",
           "98466-5522"
          ],
          [
           485310,
           "2329 S STATE ST",
           "TACOMA",
           "WA",
           "98405"
          ],
          [
           485310,
           "7225 S WARNER ST",
           "TACOMA",
           "WA",
           "98409-3921"
          ],
          [
           485310,
           "427 E 63RD ST",
           "TACOMA",
           "WA",
           "98404-1902"
          ],
          [
           485310,
           "3318 S 43RD ST",
           "TACOMA",
           "WA",
           "98409-5525"
          ],
          [
           485310,
           "3610 S CUSHMAN AVE",
           "TACOMA",
           "WA",
           "98418-2633"
          ],
          [
           485310,
           "6205 S 239TH ST",
           "KENT",
           "WA",
           "98032-2974"
          ],
          [
           485310,
           "10240 BRIDGEPORT WAY SW",
           "LAKEWOOD",
           "WA",
           "98499-2324"
          ],
          [
           485310,
           "8602 S HOSMER ST",
           "TACOMA",
           "WA",
           "98444"
          ],
          [
           485310,
           "2043 S 8TH ST",
           "TACOMA",
           "WA",
           "98405-3031"
          ],
          [
           485310,
           "1116 E 59TH ST",
           "TACOMA",
           "WA",
           "98404-3515"
          ],
          [
           485310,
           "3108 SW 342ND ST",
           "FEDERAL WAY",
           "WA",
           "98023"
          ],
          [
           485310,
           "10617 18TH AVE S",
           "TACOMA",
           "WA",
           "98444-7029"
          ],
          [
           485310,
           "1001 S MILDRED ST",
           "TACOMA",
           "WA",
           "98465-1843"
          ],
          [
           485310,
           "4015 SW 317TH ST",
           "FEDERAL WAY",
           "WA",
           "98023-2135"
          ],
          [
           485310,
           "6612 S WARNER ST",
           "TACOMA",
           "WA",
           "98409-4021"
          ],
          [
           485310,
           "1105 182ND STREET CT E",
           "SPANAWAY",
           "WA",
           "98387-1919"
          ],
          [
           485310,
           "3419 E L ST",
           "TACOMA",
           "WA",
           "98404-0000"
          ],
          [
           485310,
           "649 S MEYERS ST",
           "TACOMA",
           "WA",
           "98465-1415"
          ],
          [
           485310,
           "102 N G ST",
           "TACOMA",
           "WA",
           "98403"
          ],
          [
           485310,
           "427 E 61ST ST",
           "TACOMA",
           "WA",
           "98404-1930"
          ],
          [
           485310,
           "3730 E SPOKANE ST",
           "TACOMA",
           "WA",
           "98404-3037"
          ],
          [
           485310,
           "425 SOUTH TACOMA WAY",
           "TACOMA",
           "WA",
           "98402"
          ],
          [
           485310,
           "2424 S 41ST ST",
           "TACOMA",
           "WA",
           "98409-7314"
          ],
          [
           485310,
           "1928 W UNION AVE",
           "TACOMA",
           "WA",
           "98405-1073"
          ],
          [
           485310,
           "1322 E 64TH ST",
           "TACOMA",
           "WA",
           "98404-3430"
          ],
          [
           485310,
           "2661 N PEARL ST",
           "TACOMA",
           "WA",
           "98407-2424"
          ],
          [
           485310,
           "7606 78TH ST SW",
           "LAKEWOOD",
           "WA",
           "98498-6212"
          ],
          [
           485310,
           "4750 AUBURN WAY N",
           "AUBURN",
           "WA",
           "98002-2042"
          ],
          [
           485310,
           "539 BROADWAY",
           "TACOMA",
           "WA",
           "98402-3907"
          ],
          [
           485310,
           "7519 CIRQUE DR W",
           "UNIVERSITY PLACE",
           "WA",
           "98467"
          ],
          [
           485310,
           "3501 BROADMOOR DR NE",
           "TACOMA",
           "WA",
           "98422-4747"
          ],
          [
           485310,
           "116 19TH AVE",
           "MILTON",
           "WA",
           "98354"
          ],
          [
           485310,
           "1626 S WRIGHT AVE",
           "TACOMA",
           "WA",
           "98418"
          ],
          [
           485310,
           "3501 S 38TH ST",
           "TACOMA",
           "WA",
           "98409-4210"
          ],
          [
           485310,
           "4720 S PINE ST",
           "TACOMA",
           "WA",
           "98409"
          ],
          [
           485310,
           "5334 34TH ST E",
           "FIFE",
           "WA",
           "98424"
          ],
          [
           485310,
           "5909 PANORAMA DR SE",
           "AUBURN",
           "WA",
           "98092"
          ],
          [
           485310,
           "912 N 96TH ST",
           "SEATTLE",
           "WA",
           "98103"
          ],
          [
           485310,
           "7515 S M ST",
           "TACOMA",
           "WA",
           "98408"
          ],
          [
           485310,
           "19305 TWINKLE DR E",
           "SPANAWAY",
           "WA",
           "98387"
          ],
          [
           485310,
           "2436 I ST NE",
           "AUBURN",
           "WA",
           "98002-2480"
          ],
          [
           485310,
           "7406 27TH ST W",
           "UNIVERSITY PLACE",
           "WA",
           "98466"
          ],
          [
           485310,
           "241 37TH PL SE",
           "AUBURN",
           "WA",
           "98002-8803"
          ],
          [
           485310,
           "4750 AUBURN WAY N",
           "AUBURN",
           "WA",
           "98002-2030"
          ],
          [
           485310,
           "4130 NE 9TH PL",
           "RENTON",
           "WA",
           "98059"
          ],
          [
           485310,
           "4750 AUBURN WAY N",
           "AUBURN",
           "WA",
           "98002-2042"
          ],
          [
           485310,
           "808 S I ST",
           "TACOMA",
           "WA",
           "98405"
          ],
          [
           485310,
           "3101 S 36TH ST",
           "TACOMA",
           "WA",
           "98409"
          ],
          [
           485310,
           "1816 189TH STREET CT E",
           "SPANAWAY",
           "WA",
           "98387-4132"
          ],
          [
           485310,
           "1302 NORPOINT WAY NE",
           "TACOMA",
           "WA",
           "98422-3033"
          ],
          [
           485310,
           "32634 51ST PL SW",
           "FEDERAL WAY",
           "WA",
           "98023-1944"
          ],
          [
           485310,
           "901 NORPOINT WAY NE",
           "TACOMA",
           "WA",
           "98422-3131"
          ],
          [
           485310,
           "10202 LAKEVIEW AVE SW",
           "LAKEWOOD",
           "WA",
           "98499"
          ],
          [
           485310,
           "3638 S K ST",
           "TACOMA",
           "WA",
           "98418-4026"
          ],
          [
           485310,
           "11019 50TH AVE E",
           "TACOMA",
           "WA",
           "98446-5303"
          ],
          [
           485310,
           "8804 34TH AVE S",
           "LAKEWOOD",
           "WA",
           "98499-3659"
          ],
          [
           485310,
           "2131 S SPRAGUE AVE",
           "TACOMA",
           "WA",
           "98405-2815"
          ],
          [
           485310,
           "1102 S 27TH ST",
           "TACOMA",
           "WA",
           "98409-8016"
          ],
          [
           485310,
           "6201 LAKEWOOD DR W",
           "UNIVERSITY PLACE",
           "WA",
           "98467"
          ],
          [
           485310,
           "1202 N PEARL ST",
           "TACOMA",
           "WA",
           "98406-7900"
          ],
          [
           485310,
           "1506 CHERRY AVE",
           "FIRCREST",
           "WA",
           "98466-6641"
          ],
          [
           485310,
           "5102 S 58TH ST",
           "TACOMA",
           "WA",
           "98467-3829"
          ],
          [
           485310,
           "1609 S CUSHMAN AVE",
           "TACOMA",
           "WA",
           "98405-3533"
          ],
          [
           485310,
           "8835 S D ST",
           "TACOMA",
           "WA",
           "98444-6458"
          ],
          [
           485310,
           "7121 CITRINE LN SW",
           "LAKEWOOD",
           "WA",
           "98498-5013"
          ],
          [
           485310,
           "2001 13TH ST SW",
           "PUYALLUP",
           "WA",
           "98371-8599"
          ],
          [
           485310,
           "6314 WESTGATE BLVD",
           "TACOMA",
           "WA",
           "98406-2202"
          ]
         ],
         "hovertemplate": "<b>%{hovertext}</b><br><br>NAICS_CODE_DESCRIPTION=Taxi Service<br>lat=%{lat}<br>long=%{lon}<br>NAICS_CODE=%{customdata[0]}<br>HOUSE_NUMBER_AND_STREET_NAME=%{customdata[1]}<br>CITY=%{customdata[2]}<br>STATE=%{customdata[3]}<br>ZIP_CODE=%{customdata[4]}<extra></extra>",
         "hovertext": [
          "ANTHONY R PATTISON",
          "RANDHEER SINGH",
          "MAHENDRA KUMAR SINGH",
          "MICHAEL JONES",
          "MICHAEL ZETTERWALL",
          "SAEED J MOHAMMAD",
          "MANU KAHASHA CHARMANT",
          "STEVEN FLOYD",
          "SHAUNA BAKKENSEN",
          "OMAR ROBA",
          "TIGISTE HOBSE",
          "MAXAMUD JIMCALE",
          "ANDREW MUTHEMBA",
          "REX RAYMOND SAMONTE",
          "MICHAEL BAXTER",
          "ZUHUR HABIB",
          "CARDA BEAUCAGE",
          "MEHATEME EMIRU",
          "KHALIL AZIZI",
          "XING GUO DUAN",
          "DJAMEL BOUKTIT",
          "TERESA C REYNOSO",
          "SELAM E SEID",
          "TEREFE ARGAW DERESS",
          "MOHIT RAJVANSHY",
          "CARTER LEEVER",
          "MOZELL JONES",
          "ABDULKADIR GESHOW",
          "GABE CHEN-TURNER",
          "RYAN RITTER",
          "MARTHA CARDENO",
          "PAL SURINDER SINGH",
          "SURJIT SINGH",
          "NATHAN ANDREW CARNAHAN",
          "PETER DENG MALUAL",
          "EFRAIN CASTILLO YANEZ",
          "JOSEPH BELL",
          "HUNG LAM",
          "MARCO HOUMAN SAFAEIAN",
          "SHAMSUDIN ENDERIS SAHLE",
          "STEPHANIE MONIQUE MUNOZ",
          "NAPOLEON ASFAW",
          "METAFERIA NEGASH",
          "MARTIN SHUER",
          "JUAN VEGA",
          "HAYLEY PUHN",
          "RICHARD C GRAY",
          "JONATHAN ROBERTS",
          "NICOLE FAWCETT",
          "PATRICK KAGUAMBA CHEGE",
          "NO MOHAMATH",
          "MAAU LENE",
          "ROBIN E RUSSELL",
          "DAVID M JR HEINZIG",
          "BEN W YU",
          "LATOYA D KINNIEBREW",
          "MACHOT L THIEP",
          "SHERYL A PETERSEN",
          "TRAVIS GREEN",
          "JOSEPH M FRENCHWOOD",
          "TODD M AKIYAMA",
          "DMITRI FEDOROV",
          "PRISKAH KINUTHIA",
          "HANS BROWN",
          "HASSAN OSMAN",
          "JOSHUA HAMPTON",
          "MARCELA CORDOVA RENDON",
          "TIMOTHY MARK GRIFFIN",
          "PEAL YOUNG",
          "JIAN WANG",
          "WILLIAM E SMITH",
          "HUSSEIN HUSSAN AHMED",
          "WILLIAM SMITH",
          "AIMAL MANSORY",
          "DANIEL LEE JOHNSON",
          "CLIFFORD D PRICE",
          "JOSEPH KIRANGA",
          "SASHA CACHET LESTER",
          "CHRIS MUANDA",
          "ABNER ELIUD RAMIREZ HERNANDEZ",
          "MING FAI LO",
          "ABDUL NOORI",
          "ALAN TENG",
          "JAAPIR OMAR HUSSEN",
          "JASPAL SINGH BHACHU",
          "MOSHIN KHAN",
          "ANGELA ADAMS",
          "ABUBAKAR KASOMA",
          "AMANDA WINSOR",
          "MOEJAY ABDIRAHMAN",
          "ABDUL KAHLIQUE",
          "BANIPAL LLC",
          "MOHAMED MUSE HERSI",
          "SOUTH SOUND TRANSPORTATION LLC",
          "SOUTH SOUND TRANSPORTATION LLC",
          "SOUTH SOUND TRANSPORTATION LLC",
          "SOUTH SOUND TRANSPORTATION LLC",
          "NATHAN DESTA TAFESSE",
          "ARSHWINDER KAUR PANNU",
          "PREMKUMAR THANGARAJAN",
          "PETER SIMON JOSEPH",
          "STANLEY MILLER",
          "ANM A RAHMAN",
          "DAN BRIGHTWELL",
          "DOMINIQUE ROBAIR",
          "NGUON PA",
          "ZANE L SIMOLKE",
          "RAYMOND T GRISSETT",
          "ALFRED K NJOROGE",
          "GOANG SUP KIM",
          "LAURENCE MIKHAEL HALAWJI",
          "FLORINDO G S SANTOS",
          "BENJAMIN CARLOS CRISTOBAL",
          "ZABIULLAH JAMSHIDI",
          "LUIS RICARDO SERRA",
          "MICHAEL P MURPHY",
          "SEAN GREGORY",
          "CORNELIO E MCLEAN",
          "SEID A FELEKE",
          "JEFF CHRISTENSEN",
          "DESTINEY WILSON",
          "BRIAN TIMOTHY WADE",
          "AGIDEW ABI ZENEBE",
          "FLOYD PACE",
          "JAMES D ROSIER",
          "ROSHAWN WEST",
          "BINIAM HADGU MEBRAHTU",
          "JETH A SILBAUGH",
          "GAMALIEL ALARCON LOPEZ",
          "DOUGLAS E DAVIS",
          "ESEIAS GHEBREHIWET SELOMUN",
          "IN S CHUNG",
          "MAX CHRISTIAN OZUNA",
          "TEDLA MENGESHA WOLDEMARIAM",
          "MAURICIO GARCIA",
          "BRYAN THOMAS GOFFE",
          "MANJOT S KHATTRA",
          "EZEKIEL ST HILAIRE",
          "LARRY J HAGG",
          "MAURICE ATTISSO",
          "JOHN JOSEPH BARTA",
          "SEMERE Z MEHARI",
          "MUEZ WOLDESELASSIE AREGAY",
          "MEKIBIB ARGAW ZURGEA",
          "PETER J MAILANDER",
          "JORDAN MICHEAL HILLIS",
          "MARK E GLASER",
          "SAM AHMAD FARRIS",
          "BRYAN HO",
          "SHELLEE STRATTON",
          "RICHARD B HICKSON",
          "ROBERT L KUSHLAN",
          "JEFFREY A HOPKINS",
          "DAVID STREETTER DYBDAHL",
          "CARRIE A NUNEZ",
          "DOREEN J MAY",
          "ABDOLREZA HOJJATI NAJAFABADI",
          "JONATHAN RAPISURA GASCON",
          "STEVEN ANTHONY FLORES",
          "DEBESAI KEBREAB",
          "SANDRA LEE VALBERG CRONYN",
          "ALEX MUNAI KARANJA",
          "LEI ZHANG",
          "ABDURAHMAN OMER",
          "SAYED HASAMI",
          "GEBRETSADIK G WOLDETSADIK",
          "MARLA RODRIGUEZ",
          "MOHAMMAD SHAFIQ",
          "BRANDEN BOREN OUK",
          "WENDY WHITE DEAN",
          "HASSAN MAHMOUD HASSAN",
          "THOMAS W SIMA",
          "DONGMING XU",
          "BRADLEY WADE BOGART",
          "MUHAMMAD ABDUL HAFEEZ",
          "JEFFREY CHIN - U WARDEN",
          "REAGAN ELDRIDGE ASKEW",
          "DWIGHT GENE CREWS",
          "YASIR M AL ALOOSI",
          "STEVEN FRANCO CARRASCO",
          "NAHOM BERHANE FARIOS",
          "RED NANSA MATABISI",
          "GORDON OWENS",
          "JOHN RIMUI",
          "ALFREDO GARCIA SOTO",
          "TIM DANIEL BAILEY",
          "BRIAN MCMENOMY",
          "JUSTIN MICHAEL HACKERT",
          "AUGUST KL XIE",
          "HUI YUE ZHAO",
          "BEREKET TEKLEWINY WELEKISH",
          "KHALED ABURUMMAN",
          "DONALD JAY TODD",
          "DAVID ALAN GRIBBLE",
          "CHARLES DAVID BEALE",
          "DEVINDER SINGH CHOAT",
          "IGOR VALERYEVICH MOKHNATKIN",
          "TAN NHAT HUYNH",
          "RICHARD ALLEN JANSEN",
          "JOAQUIN ABARCA ORBE ABARCA",
          "EFREM HAILE ADEHANOM",
          "ABRAHAM HAILEMICHAEL AWALOM",
          "SURINDERJIT SINGH MAULI",
          "MOHAMED HAMDAN TIA KORI",
          "AZIZ TURKOGLU",
          "MOHAMED OSMAN AWAD",
          "AHMED MOHAMMED ADAM",
          "ODARBIL ALEJO ASERON",
          "ZAHEER ANWAR",
          "GARIK R GRIGORIANTS",
          "RICARDO SANTOS SANTOS",
          "J RHEUEL DECREPITO ABAJERO",
          "HARINDER SINGH",
          "ZACHARY KOSBAB",
          "IVAN VLADIMIROVICH KUZUBOV",
          "ROXANNE RUFILA",
          "CATHERINE SOTO",
          "CAROL WEBER",
          "DUANE LEWIS",
          "BRANDON L THOMPSON",
          "LUIS O RIVERACACERES",
          "OMARU BARRIE",
          "GEOFFREY N NJENGA",
          "SHADIA NAMYALO",
          "SHIFERAHU TAYE",
          "ANTHONY MUCHIRI",
          "FITSUM DESTA",
          "CHRISTIAN MATTEO KNOLL",
          "QING WEI",
          "KEVIN OHLHEISER",
          "MONICAH GATHONI NDUHIU",
          "AHMAD SADAT",
          "JAMES CHEZ KAI SUEN",
          "HAROLD R GOODELL",
          "PAUL M MANNING",
          "JEAN PIERRE HARERIMANA",
          "STEVEN JONES",
          "GEORGE OFORI",
          "JOSEPH A BISSON",
          "BEREKETAB G GEBREHIWET",
          "JONATHAN DE LOS SANTOS",
          "MICHAEL BUSS",
          "BRIAN KEITH MAINSTER",
          "ALEXANDER HOLBROOK-DIAZ",
          "TOAN LUU",
          "KATHLEEN MADDOX",
          "MUSONDA MWANSA",
          "PETER WANYOIKE",
          "CHARLENE D VALDEZ",
          "DAVID FALCON",
          "NICHOLAS BAX",
          "JACOB BETTRIDGE",
          "DENNIS N WALLACE",
          "BENJAMIN SERRANO",
          "TIERRA L TRUSCLAIR",
          "CHANEL PIERRE",
          "KODY WYNNE",
          "JESSICA WALTERS",
          "GAMAL A SALEM",
          "ANDRE PHILLIPE C THERRIEN",
          "CASSAUNDRA Z KARANASOS",
          "PETER CHEGE WANDAIRE",
          "EDUARDO VILLAVICENCIO GARCIA",
          "JEFFREY BOLIMA",
          "WILLIAM KEYES",
          "ABDIHODAN MOHAMED KILWE",
          "ESSA MUDESIR",
          "DAVID WILKINSON",
          "DEANA MAGERA",
          "JAMES MCMURDO",
          "KATHRYN GILLESPIE",
          "DONNA MARIE HAYES",
          "YAKOB MINDAYE",
          "MOHAMED ABDI",
          "ISAIAH NATHANIEL FOSTER",
          "TERRY JONASON",
          "AARON L LORD",
          "MARIO R FLORES",
          "DAWSON BLAKE MORSE",
          "NICHOLAS R STIREN",
          "DANIEL NJOROGE KARUGA",
          "HAMAD YAHYA M ALMANSOUR",
          "RYAN LEE BALAG SHARPE",
          "GREGORY ROGER TOFTE",
          "COREY JAMES CHRISTENSEN",
          "CURTIS JOHN RIZZO",
          "LAUREN THOMAS JONES",
          "NEMATULLAH BASHARWAL",
          "LAEEQ TEOURI",
          "IBRAHIM AYUB",
          "ALEXANDER WOLFE",
          "JOHN K LOBANOWSKI",
          "JON HOLLEY",
          "ABATHER KAREEM DAKHIL",
          "SHAUNDA L MACLEOD",
          "LORRAINE R CADENA",
          "PATRICK NJANE MAINGI",
          "LEO TULAYAN",
          "DI WU",
          "JAMES H FREISHEIM",
          "VITALIY LEONOV",
          "FREDRICK DELANEY",
          "HAROLD R LETOURNEAU",
          "JELANI E HAUSER",
          "RATTAN SANDHU",
          "DANIEL P FRANK",
          "RAMY HASSAN",
          "ALAN J EDMISON",
          "JOHN F BROWN",
          "ROBERTA FINK",
          "LARRY HORSEY",
          "GINGER IRENE PACE",
          "LEEANNA MARIA DUSEK",
          "VICTOR KAMLESH MURTHI",
          "KAHLON GURMINDER",
          "RASMEETSI VIRDI",
          "RIP STECKEL",
          "MOHAMED D SALAD",
          "SONIA ALEJANDRE GARCIA",
          "JOSEPH FLEURY",
          "ROBERT KIM",
          "SAMI ULLAH",
          "JONATHAN PIERS MANDERS",
          "DUDLEY ANTHONY SADHI",
          "MENSAN DIDIER ADJANOR ADANLETE",
          "PATRICK JOSEPH KOLLAR",
          "RODOLFO CHAVEZ",
          "BRANDON JEFFREY BAISLEY",
          "DWAYNE DALTON",
          "KETTYA KHAN",
          "JOENATHAN WESLY KNIGHT",
          "JONATHAN CARATIQUIT RANCHEZ",
          "LATISHA NICHOLE NOUOBISSI",
          "OLIVIER C NOUOBISSI",
          "RAJWINDER SINGH KHOKHAR",
          "YEVGEN MALYARCHUK",
          "EDWIN ODHIAMBO ODEMBO",
          "RUBEN LOPEZ",
          "SULAYMAN CEESAY",
          "JOSHUA NICHOLAS MCCOLM",
          "MONIR HASSAN",
          "MICHAEL NELSON",
          "SUNG WOOK KIM",
          "DAVID ALAN TATE",
          "ANDREW GRAY",
          "GAURAV CHANDLA",
          "OSMAN ASIR OMAR",
          "TADELE BEKU LEMA",
          "MARK EDWARDS CRANE",
          "AKLILU DANIEL NUNNE",
          "ABDRHMAN YUSUF MUSA",
          "YAXYE MUXAMED",
          "MAHFOOZ HEJRAN",
          "MUKHTAR MUKHTAR",
          "ANGESOM EMAN TEKLEYES",
          "AHMAD JAWID ASHOORY",
          "SANG A LAM",
          "NAJIB A HASHIM",
          "ISAAC IRUNGU NGIGI",
          "BELTETON CARRILLO FREDY G",
          "DONAVAN DANIELS",
          "RICHARD FRIEND",
          "STEPHANIE JUREIDINE",
          "GUSTAVO FRIAS",
          "IRELAND MACBRADAIGH",
          "ROBERT SIMKO III",
          "KEITH MOORE",
          "GARY LEAVITT",
          "JAESEOK CHOI",
          "TERRILL T DABNEY",
          "SALEH O SAEED",
          "PETER J WU",
          "RYAN MARIANI",
          "ANN M CHARBONEAU",
          "KLAUS NALLEY",
          "HUY V NGUYEN",
          "YALFAL S ALEMU",
          "MICHAEL WILKES",
          "JASWANT SINGH",
          "GIDEON KIPKURUI CHEPLAK",
          "CHARLES WACHIRA KAGUARI",
          "AHMAD JABARI",
          "MUJTABA AHMADI",
          "HARRISON KIHARA THUO",
          "STEVEN PETER UGLESICH",
          "DAN JOE PETERS",
          "KEWAL SINGH SIDHU",
          "HUMBERTO SOUZA",
          "SOLO SOLUTIONS INC",
          "RAFAEL RAMOS",
          "TRI Q VO",
          "EDMUND R COX",
          "AMRE M ABDELAAL",
          "SOPHEACK CHHAY",
          "KURT SCHAEFER",
          "YELLOW CAB TACOMA LLC",
          "GURDEN SINGH",
          "MARC LLOYD BRENDLINGER",
          "TASTY EATS LLC",
          "BELETE DAMTEW TALE",
          "AZIME NEKERE",
          "KOURTNEY J KAUFMAN",
          "RICHARD TEASDALE",
          "JESSE HERZOG",
          "ANDREW WYNSEN",
          "MARC THEODORE",
          "RODELIO ALDEFOLLA",
          "FELIX OGADINMA OKOLIE",
          "COLLINS GATHUNGU",
          "BERTRAM J DUPONT",
          "MARCUS C DUNCAN",
          "ELLEN A ABUYAN",
          "SUZETTE L BLAND",
          "MODERO Z MEKANISI",
          "PAULA E WILLIAMS",
          "ALICIA R FORD",
          "TRACY A BENNETT",
          "CARLOS L CASTILLO",
          "HANNAH WANJIKU NDIRANGU",
          "JANET R RAMOS",
          "VINH Q NGUYEN",
          "KOSHAWN R ARMSTRONG",
          "CHRISTINA A WARD",
          "BRIAN L LEHMBECKER",
          "HILLARY ALLISON DIRKS",
          "MILDRED A HEARD",
          "STEPHEN M KUNGU",
          "MICHAEL IGE",
          "ZACHARY I SORGALLA",
          "ANGEL B TORRES",
          "ANTHONY EARL MARTIN ROGERS",
          "SOUND DISPATCH LLC",
          "KELVIN CHEGE KURIA",
          "JUAN PINON",
          "GREGORY LOREN SPARKS",
          "BYUNG WON YUN",
          "ROBERTO ROMERO CASTELAN",
          "HASU TAVITA TASI",
          "CHARLES SIMONS",
          "ANNETTE MIRAMONTEZ",
          "JASON HOPKINS",
          "GERALD ALAN FULLER",
          "GRACE MOBILITY LLC",
          "CRAIG D OLLOM",
          "SEPEHR GHAHREMANI",
          "MAI PACHECO",
          "WILLIAM N THOMPSON",
          "RYAN D OMEARA",
          "SIMON GITHIEYA G HIA",
          "MUHAMMAD RUHEL MIAH",
          "LUKAS SENESAC",
          "MARSHALL A MATHEWS",
          "OEUN PHON",
          "LAMECK O ONDUSO",
          "HASSAN A JAMA",
          "SIEGMUND KURDZIEL",
          "ROMULO G ESPIRITU",
          "OLEKSANDR RYABETS RYABETS",
          "IAN ONGONDI",
          "GERALD CARTER",
          "JEFFREY KEATING II",
          "LARRY J ROGERS",
          "JOHN D JONES",
          "DERRICK JAMES DAIGRE SR",
          "MOHAMED TUNKARA",
          "MUSTAFA AZIMI",
          "JEN-HSUN HSIAO",
          "JAMES W ABNEY",
          "JEFFREY A DAVIS",
          "TESHOME W GIZAW",
          "MARGARITA S MANOR",
          "YONIS HASSAN",
          "SIDNEY ALBERT BRECKENRIDGE",
          "ADEN ABDIRAHMAN",
          "JUDY HUNT",
          "MICHALE R REYNA",
          "DEBORA M ANDERSON",
          "ANANAISA TOKAILAGI",
          "SHAWN E PHELPS",
          "MARGARET KARUGA",
          "ALI H MUNTASSER",
          "LEONEL A SANCHES",
          "KATHLEEN MARGARET DUBOIS",
          "MICHAEL LINNIS PERRY",
          "YUBIN ZHANG",
          "ENDALEW TESHOME WONDIE",
          "CHARLES G ELIUD",
          "PAGNINEBLOUM H BELEM",
          "ANDRE L WINSTON",
          "JULIO BARRIOS RAMIREZ",
          "MARCAVISE PICKENS",
          "GREGORY MILNE ELGEE",
          "CONG NHUNG LANG",
          "JEREMY BROWN",
          "WILSON KIHATI KIBUGI",
          "MATTHEW DOSIER",
          "ARMEN AVETISYAN",
          "VITALII VYSHNEVSKYI",
          "TRINA L MYERS",
          "MOHAMMAD A AHMADI",
          "MOHAMED YUSUF WORSEME",
          "JAMES DARON WHITING",
          "RAYMOND B PARRISH",
          "JINNIE R KERCHEVAL",
          "THU NGUYEN",
          "EDWARD HILL",
          "BRANDIE A THOMAS",
          "MOHAMMED S ALSULTANI",
          "GARY CHEN",
          "GETU ABATE TESFAYE",
          "MARY ESTHER ANDERSON",
          "ARMEN SAFYAN",
          "NATALIA BUIANOVSCHI",
          "SHAHZEB JUNEJO",
          "PATRICIA TAYLOR",
          "SOFIA MOLIGA",
          "THANH THAI LAM SR",
          "LOPEZ KEVIN",
          "DAVID YEHUDA BROWN",
          "SIRAJ MOHAMMED YASIN",
          "ELHADJ MAMADOU BARRY",
          "DAVID O CLARKE",
          "CHRISTOPHER M SHIRED",
          "CLAUDIO TORRES-OCHOA",
          "XIONG HUANG",
          "RAUL SUPANG LOMBOY",
          "YEWONDWOSSEN ADEFRIS",
          "HIRUT ALEMU",
          "OLEKSANDR BONDARENKO",
          "JOHN REYNOLD FISCHER",
          "JEFFREY A CASTOR",
          "GUESH TESFAY BERHE",
          "AMERICAN SERVICE MEDICAR CO",
          "MAIRA COOPER",
          "GEORGE N KAMAU",
          "TAM H MAI",
          "MARCUS MILLSPAUGH",
          "ROGER J CLARK",
          "SUSAN L RIDGE",
          "ABDULLAH ALI",
          "ISHANTI J SANDERS",
          "GEORGE METZ",
          "THOMAS KIUTI",
          "ANTHONY A PALUMBO",
          "GREGORY R BAILEY",
          "BARBARA QUARTEY",
          "AHMAD ALI ALI",
          "DUNCAN SSEBALU",
          "SAJJAD TARIQ",
          "BELETE AGEZEW",
          "JASON ANTHONY RAMOS",
          "ADELFO GARCIA OJEDA",
          "MICHAEL A COREY",
          "PAUL NGUGI",
          "OLGA ZADNIPROVSKAYA",
          "JACOB MANAS",
          "BRANDON M FIX",
          "GARY LEE ROSENQUIST",
          "GODFREY K KARUGA",
          "REBEKAH WILLOUGHBY",
          "JULY OTULO OWINO",
          "ABDULKAREEM TAHER",
          "JAMES B SHERROD",
          "JOHNNEEKA SHANNON SMITH-REID",
          "SHANNON G MITCHELL",
          "GODFREY G MUCHENE",
          "YOO DONG KIM",
          "KHATAB AL-ANSI",
          "MOSES RURIGI",
          "ROBERT C RIVERA",
          "MARC VELASQUEZ",
          "PRENG NUTH",
          "BILLY C HORTON",
          "JOHNNY C BYRD",
          "JOHN MORRISON",
          "PHILIP MENSAH",
          "JERMELLA FULFORD",
          "WOOJAI JANG",
          "JOZEF IGNACZAK",
          "TODD W OLSON",
          "EDWIN W TUTTLE",
          "HASSEN AZAMI",
          "JUSTIN V WHEELER",
          "EDUARDO D CORTES",
          "MADHAV KC",
          "AMBER L THOMAS",
          "ALI AKHANDO",
          "SAMUEL N MWAURA",
          "ABDULLAH ALSHAREEF",
          "MICHELE M ROWE",
          "JOHN ADNEY",
          "CHELAN HENLEY",
          "LILA PAIGE MCDONALD",
          "DANTE L HAWKINS",
          "JACQUELINE M ELIZONDO",
          "DANNY DALE WREH",
          "KHALIL AHMAD KHALIL",
          "PETER KASULE",
          "CURTICE J KERSH",
          "STANLEY NGUGI",
          "PARWIZ HESARY",
          "RONALD MAWEJJE",
          "DAVID CHEGE",
          "MICHAEL KAGO THIONGO",
          "ELMER W HILL",
          "TAREK ELSAYED ALY WAHIB",
          "GREGORY M WRIGHT",
          "DELFIN R FAJARDO",
          "TERRY D LEWIS",
          "JAMES R BENNETT",
          "ABOUDOU R ZAKARI",
          "DAVID C HICKEY",
          "SAMUEL M NDIRANGU",
          "JOHN NGUYEN",
          "SURINDER SING",
          "AHMAD ZARIFY",
          "TRUNG NGUYEN",
          "ANNA MCWILLIAMS",
          "SOLOMON ASFHA",
          "JASEN U CALDWELL",
          "LEILA BERG",
          "ROBERT R JIMENEZ",
          "JASBIR WADAN",
          "KEVEN T WAITERS",
          "ANDRE P BARNETT",
          "ERIN C MURRAY",
          "YUSUF I HUSSEIN",
          "AMY ANKENBAUER",
          "CHARLES KEVIN WHALEN",
          "ELIZABETH UNICORN",
          "THOMAS CHARBONEAU",
          "BERTRAND YOUNG",
          "WILLIAM SHUCK",
          "MAX WALTER KUENKEL",
          "ROBERT J WILLIS",
          "MURTADA ABDELGHANI",
          "MOHAMMED MADANI BENJELLOUN",
          "LUIS R MOLINA",
          "BRUCE L DEIMEL",
          "AARON S GUZMAN",
          "THOMAS MUTAI",
          "JUNE E GORDON",
          "JEFFREY D NORTH",
          "STEPHEN MICHAEL BRUECHNER",
          "FRANK L GREER",
          "ELBERT L VINES II",
          "MICHAEL W CHANG",
          "DONALD A DICKERSON",
          "OTO B USORO",
          "TROY GAMBLE",
          "MATTHEW A MOORE",
          "DAVE W MORAN",
          "GAGANDEEP KAUR",
          "PAUL L STEVENSON",
          "LAKPA BHUTIA",
          "JOHN C BECKLEY",
          "OLGA THOMPSON",
          "DON PHILIP MARKER",
          "PERGENTINIO BIYOGO MANGUE",
          "TRUNG T DO",
          "GORDON H TOFTE",
          "JAMES KENNETH WAGENBLAST",
          "KAMAU JORAM",
          "JOSEPH MUNYUA",
          "JOSE R ROJAS JR",
          "HATIM JAAGOUB",
          "FRANCIS MUNIU KAMAU",
          "ROGER P VOLK",
          "SARITH TIM",
          "ROBERT R JIMINEZ",
          "ANATOLIE POPENCO",
          "RONALDO R QUIZON",
          "THOMAS BARNHART",
          "WUHIB TSEGAYE ABEBE",
          "KEVIN  T O'NEAL",
          "CEDULFO RODRIGUEZ",
          "MOHAMMAD A BAKHSHI",
          "BRANNON CHEPLAK",
          "SOLOMON W GUFAW",
          "MOHAMMED TAMIM SANJIDA",
          "JOHA CHEZ TUAN SUEN",
          "MARYANN NDIRANGU",
          "JOHN ROEBEN",
          "ROGER C WHEELER",
          "ABAKER M ADAM",
          "RODGER KING",
          "SHAWNNA TURNER",
          "BARRY COLLINS",
          "GILBERT K HEBERT",
          "APRIL GALLATY",
          "MERCY WAMBUGU",
          "JAMES HOLLINGSWORTH III",
          "LUE GENE FLORENCE",
          "JOSE F LEMUS",
          "ALI OMAR MOHAMED",
          "MUHANNAD FARRAH",
          "VICTOR R HANDBURGH",
          "DICKIE BARRIENTOS",
          "HAYES J ALEXANDER",
          "DANIEL S TIMMONS",
          "EDWARD H MITCHELL",
          "CHARLES G WRIGHT JR",
          "RICHARD BENSON"
         ],
         "lat": [
          46.3144754,
          47.3865907,
          47.75915495,
          47.454021749999995,
          47.4539781,
          47.46614265,
          46.3144754,
          47.376557,
          47.48594475,
          47.47487035,
          47.39818755,
          47.41743545,
          47.3687026,
          47.084143,
          47.202743240963855,
          47.40641987986825,
          47.3767814,
          46.3144754,
          47.381027,
          47.36823,
          47.554873998512136,
          47.54302455,
          47.845134665216584,
          47.32091935,
          47.365624600000004,
          46.3144754,
          46.3144754,
          47.202475,
          46.3144754,
          46.3144754,
          46.3144754,
          47.16520947455576,
          47.3396014,
          46.3144754,
          46.3144754,
          47.370000000000005,
          47.323939249999995,
          47.47155575,
          47.78579345,
          47.532902569711254,
          46.3144754,
          47.714891249999994,
          47.4826836,
          47.679731,
          47.530600050000004,
          47.6391117,
          46.3144754,
          46.3144754,
          46.3144754,
          46.3144754,
          47.496591550000005,
          46.3144754,
          46.3144754,
          46.3144754,
          46.3144754,
          47.2083474,
          46.3144754,
          46.3144754,
          46.3144754,
          47.160673334407655,
          47.62791246564717,
          47.5417828,
          47.352629,
          46.3144754,
          46.3144754,
          46.3144754,
          47.16436804935233,
          47.30395045,
          47.5488433,
          47.71085125,
          46.98917471112039,
          47.5470282,
          46.98917471112039,
          47.40750455,
          47.49545725,
          46.3144754,
          46.3144754,
          46.3144754,
          47.683242050000004,
          47.7918239,
          47.404659499999994,
          46.3144754,
          47.52208625,
          47.51657955,
          47.349922449999994,
          47.5359443,
          47.050913541478494,
          46.3144754,
          46.3144754,
          46.3144754,
          47.6466548,
          47.35204025,
          47.480261350000006,
          47.03790095353375,
          47.03790095353375,
          47.03790095353375,
          47.03790095353375,
          47.4422797,
          47.38777575,
          47.61159374326866,
          47.71900585,
          47.35752895,
          47.7171598,
          46.3144754,
          46.3144754,
          46.3144754,
          46.9856579,
          47.1228799261745,
          45.675731999999996,
          47.731085,
          47.406689150000005,
          47.2635689,
          47.46744975,
          46.3144754,
          47.751276,
          47.17076247474748,
          46.3144754,
          46.3144754,
          47.4449905,
          46.3144754,
          46.3144754,
          47.04724629206893,
          47.8064909,
          47.3115549,
          47.46614265,
          47.5506964,
          47.5281195,
          47.195151100000004,
          47.6845968,
          47.0154547755102,
          47.4602708,
          47.40410585,
          47.621791900000005,
          47.7858437,
          46.3144754,
          47.36822105,
          47.35249725,
          46.3144754,
          47.0593228,
          46.3144754,
          47.36852945,
          47.4648991,
          47.36928854300093,
          47.40696235,
          46.3144754,
          46.3144754,
          46.8017559,
          46.3144754,
          46.3144754,
          46.3144754,
          47.15911003899799,
          47.51649591658577,
          47.185189708000905,
          47.7564667,
          47.09331817892826,
          47.19197057142857,
          47.4758173,
          47.52774551778829,
          47.204274147168576,
          47.7902264,
          47.5403168,
          47.3040527,
          47.3233168,
          47.373841549999995,
          47.3956467,
          47.34162485,
          47.48008625,
          47.34447985,
          47.304218750000004,
          47.39546824999999,
          47.75380908450704,
          47.36928854300093,
          47.50856805,
          47.26709795,
          46.867113700000004,
          47.153171717222186,
          47.30548015,
          47.3219472,
          47.377250849999996,
          47.381841,
          47.64036505,
          47.078481422874304,
          47.38637415,
          47.19993638364235,
          47.3185041,
          47.11082779591837,
          47.2787191,
          47.3162326,
          47.3586475,
          47.546205549999996,
          47.4602708,
          47.70770386159205,
          47.157989586149974,
          47.403877300000005,
          47.385190699999995,
          47.40349225,
          47.62034229657918,
          47.338235,
          47.192697333333335,
          47.75584345,
          47.459799000000004,
          47.724348649999996,
          47.329950249999996,
          47.3706265,
          46.9632704810226,
          47.501934,
          47.3706265,
          47.736084059090906,
          47.4624255,
          47.7307043,
          47.7366222,
          47.38718025,
          47.89540278869436,
          47.16325507725555,
          47.4040951,
          47.440782,
          47.850186970303135,
          47.163726027073,
          47.4065338,
          46.3144754,
          47.065029372483224,
          47.3956467,
          46.3144754,
          47.316625,
          47.5488433,
          47.31270235,
          47.70618125,
          47.196096196253414,
          47.463398,
          46.96486018281592,
          46.3144754,
          46.3144754,
          47.4981413,
          47.236497432431804,
          47.02419675,
          46.3144754,
          46.3144754,
          46.3144754,
          46.3144754,
          47.37419945,
          47.4608245,
          46.3144754,
          46.3144754,
          46.3144754,
          46.3144754,
          47.1703692,
          47.164211,
          46.3144754,
          46.3144754,
          46.3144754,
          47.678143500000004,
          46.3144754,
          46.3144754,
          46.3144754,
          46.3144754,
          46.3144754,
          46.3144754,
          46.3144754,
          46.3144754,
          46.3144754,
          46.3144754,
          46.3144754,
          47.7257011,
          47.104053444444446,
          47.06526067346939,
          47.472957949999994,
          47.448373000000004,
          47.492504049999994,
          47.4774423,
          47.7130546,
          47.37260605,
          47.30471115,
          47.39950905,
          47.5427473,
          46.3144754,
          46.3144754,
          46.3144754,
          47.05655959375161,
          46.3144754,
          47.6173249,
          47.2715011,
          46.3144754,
          46.3144754,
          46.3144754,
          46.3144754,
          46.3144754,
          46.3144754,
          46.3144754,
          46.3144754,
          47.3956467,
          47.183798,
          47.26063885,
          47.16971149809036,
          47.7029904,
          46.3144754,
          46.3144754,
          47.182848481970154,
          46.3144754,
          46.3144754,
          47.121895546233404,
          46.3144754,
          46.3144754,
          47.285922,
          46.3144754,
          46.3144754,
          46.3144754,
          46.3144754,
          46.3144754,
          46.3144754,
          46.3144754,
          46.3144754,
          47.3115549,
          46.3144754,
          47.382878399999996,
          47.3956467,
          47.3667127,
          47.255191249999996,
          47.5205921,
          47.5156275,
          47.39270875,
          47.30894495,
          47.7196242,
          46.3144754,
          46.3144754,
          46.3144754,
          46.3144754,
          46.3144754,
          46.3144754,
          46.3144754,
          46.3144754,
          46.3144754,
          46.3144754,
          46.3144754,
          46.3144754,
          46.3144754,
          46.3144754,
          46.3144754,
          46.3144754,
          46.3144754,
          46.3144754,
          46.3144754,
          46.3144754,
          46.3144754,
          46.3144754,
          46.3144754,
          46.3144754,
          47.40641987986825,
          47.30091455,
          47.2881365,
          47.448373000000004,
          47.5373376,
          47.41743545,
          47.34447985,
          47.33085335,
          47.507669199999995,
          47.3696179,
          47.51482955,
          47.524502,
          46.3144754,
          47.38427625,
          46.3144754,
          46.3144754,
          46.3144754,
          46.3144754,
          46.3144754,
          46.3144754,
          46.3144754,
          47.095295070707074,
          46.3144754,
          47.1667806122449,
          47.220711590604026,
          47.16449401416644,
          47.225443911635374,
          47.197299,
          47.288609,
          47.209052,
          47.2470674,
          47.2979136,
          47.30697406060606,
          47.12581958790487,
          47.235266323232324,
          47.34942241743775,
          47.34942241743775,
          47.174841477011,
          47.5794207,
          47.677432249999995,
          47.2672715,
          47.6006742,
          47.22292503899077,
          47.2495798,
          47.19006016326531,
          47.17149892042642,
          47.25053033333333,
          47.186897814285715,
          47.21509795,
          47.235308,
          47.480288200000004,
          47.153594118878196,
          47.23864324313207,
          47.5334734,
          47.23986267561751,
          47.24643314285714,
          47.2998456,
          47.683016249999994,
          47.394426749999994,
          47.2137257852349,
          47.481338050000005,
          47.216868,
          47.174841477011,
          47.16449401416644,
          47.28175318073146,
          47.232067,
          47.18305728624466,
          47.2231166,
          47.25584830463645,
          47.23952293877551,
          47.16449401416644,
          47.19133332959867,
          47.174841477011,
          47.2429315,
          47.4897898,
          47.25006,
          47.1018975033557,
          47.169191,
          47.283736805555556,
          47.242434,
          47.174841477011,
          47.25702151241008,
          47.25776824489796,
          47.192739,
          47.27793469724448,
          47.235266323232324,
          47.235266323232324,
          47.009644571428574,
          47.25724451515151,
          47.30268699199032,
          47.5786053,
          47.18833710204082,
          47.23402859595959,
          47.1410464409422,
          47.386141249999994,
          47.6167205,
          47.164328755547864,
          47.278659149999996,
          47.235308,
          47.2566057,
          47.18568110528489,
          47.260384306122454,
          47.25359832719312,
          47.207237309388034,
          47.203485037161144,
          47.18819606122449,
          47.27641,
          47.218248369127515,
          47.4737561,
          47.27639405,
          47.9149657,
          47.202386714285716,
          47.235266323232324,
          47.173615476444816,
          47.06136985329964,
          47.086246216080404,
          47.161151,
          47.66190145,
          47.82199619272984,
          47.200882,
          47.7222558,
          47.252335877551026,
          47.24373847710803,
          47.20908,
          47.20724237286663,
          47.16449401416644,
          47.27454346590424,
          47.20322885,
          47.20610637373738,
          47.25189945885786,
          47.218449,
          47.194608,
          47.271145,
          47.1916953233807,
          47.249166999172346,
          47.24777439784946,
          47.31867205,
          47.21208204081633,
          47.30670645,
          47.542396249999996,
          47.235266323232324,
          47.1700528,
          47.18279465771812,
          47.21847973469388,
          47.228041333839236,
          47.6724738,
          46.99645721058648,
          47.21155238383839,
          47.174841477011,
          47.1905294295302,
          47.24735151020408,
          47.27442942867001,
          47.27021559183673,
          47.21281894111901,
          47.3238687,
          47.235308,
          47.235266323232324,
          47.18385982828283,
          47.18093028571429,
          47.213536,
          47.252470848484855,
          47.18199992842911,
          47.479164600000004,
          47.69892575,
          47.24287814285714,
          47.51323775,
          47.27442942867001,
          47.198779822441466,
          47.21975282828283,
          47.220997702702704,
          47.18093028571429,
          47.124616,
          47.251491787878784,
          47.343640300000004,
          47.233282714285714,
          47.19726679591837,
          47.17164991836734,
          47.6391607,
          47.413789,
          47.174193672,
          47.6457398,
          47.58895574271042,
          47.294472150000004,
          47.800172149999995,
          47.22837143434344,
          47.3837436,
          47.04088711111111,
          47.204841,
          47.202130999999994,
          47.2121129328859,
          47.211264092661786,
          47.262945816326535,
          47.19018589795918,
          47.181949,
          47.27454346590424,
          47.2042686,
          47.190512393594354,
          47.21254484883721,
          47.258783,
          47.28308415151515,
          47.34942241743775,
          47.17482036389322,
          47.17076929461614,
          47.4433545,
          47.10427519527028,
          47.580184599999995,
          47.26188891836735,
          47.21361349113377,
          47.25171227516779,
          47.214535363636365,
          47.273057615384616,
          47.235266323232324,
          47.22525618367347,
          47.200640111111106,
          47.26472408163265,
          47.27406428571428,
          47.22838542857143,
          47.236429101176256,
          47.19213813060877,
          47.17218279591837,
          47.17529346634362,
          47.213616306122454,
          47.27392936363636,
          47.222075668799306,
          47.26386714141414,
          47.17875515151515,
          47.2325320082773,
          47.22290163636363,
          47.30066773754966,
          47.28308415151515,
          47.173378,
          47.21454971428571,
          47.183064015410615,
          47.243893428571425,
          47.188995454545456,
          47.2040641,
          47.22362410892025,
          47.182870089135726,
          47.1582,
          47.24050865306122,
          47.207237309388034,
          47.235266323232324,
          47.28278369230769,
          47.21979436363636,
          47.264291,
          47.17222932653061,
          47.271274795918366,
          47.21686471428571,
          47.15936606122449,
          47.2500235045659,
          47.21974491860062,
          47.2167816,
          47.19447224242425,
          47.256013510204085,
          47.221598609308785,
          47.174841477011,
          47.16449401416644,
          47.176754242424245,
          47.17559266666667,
          47.239340495582745,
          47.21625014285714,
          47.18981163731511,
          47.23886722600404,
          47.19345550505051,
          47.206213290803625,
          47.17509675510204,
          47.21222529700193,
          47.186270484848485,
          47.27451655,
          47.34942241743775,
          47.495327700000004,
          47.151408,
          47.7034285,
          47.287786,
          47.217388306122444,
          47.22253652525252,
          47.27155038907736,
          47.23369790976534,
          47.20339689795918,
          47.21545721598536,
          47.16449401416644,
          47.3168426,
          47.1692861,
          47.248718,
          47.197299,
          47.09751908,
          47.3074229,
          47.2167816,
          47.24050865306122,
          47.24148088888889,
          47.23820638853159,
          47.191683454545455,
          47.20005016161616,
          47.21860044897959,
          47.22612802040816,
          47.38725005,
          47.164606283922154,
          47.17906311055276,
          47.25377153488372,
          47.20351153778399,
          47.2955582,
          47.1692861,
          47.251635,
          47.31731375,
          47.197226848484846,
          47.0913930387247,
          47.231905734693875,
          47.25514475,
          47.26364025,
          47.201877111111116,
          47.2231166,
          47.2356425,
          47.2201131,
          47.242421285714286,
          47.19892189795918,
          47.27315678409091,
          47.1867024080162,
          47.34942241743775,
          47.258963,
          47.21383324999999,
          47.288659546338984,
          47.257089001134176,
          47.229856,
          47.22253652525252,
          47.21454971428571,
          47.2264208,
          47.2552647,
          47.69892575,
          47.188976714285715,
          47.080662000000004,
          47.32917365,
          47.235266323232324,
          47.27638,
          47.34942241743775,
          47.4982544,
          47.34942241743775,
          47.255190999999996,
          47.226348,
          47.084405,
          47.28634493674254,
          47.308835450000004,
          47.286492,
          47.16449401416644,
          47.225699,
          47.1557009,
          47.17733361249717,
          47.240294090909096,
          47.23546846845479,
          47.199369,
          47.2610108757764,
          47.21893525,
          47.20430085273312,
          47.24607691836735,
          47.176099,
          47.19213813060877,
          47.172216,
          47.26664966834171
         ],
         "legendgroup": "Taxi Service",
         "lon": [
          11.0480288,
          -122.18218775552191,
          -122.23324690831447,
          -122.35321139999999,
          -122.1716508258146,
          -122.2635433713549,
          11.0480288,
          -122.19970006474908,
          -122.31843820122072,
          -122.28801372595592,
          -122.32061181786858,
          -122.29124199301339,
          -122.16602460829853,
          -122.212454,
          -122.33329109638555,
          -122.29865521949873,
          -122.11696904988023,
          11.0480288,
          -122.2608732,
          -122.17789966229698,
          -122.11307098859622,
          -122.36221435496209,
          -122.2871874751579,
          -122.33800850053035,
          -122.02754572440456,
          11.0480288,
          11.0480288,
          -122.288569,
          11.0480288,
          11.0480288,
          11.0480288,
          -122.28574690151348,
          -122.28190707957245,
          11.0480288,
          11.0480288,
          -122.29974642517523,
          -122.30990412407616,
          -122.281486,
          -122.18772786713663,
          -121.84762289754741,
          11.0480288,
          -122.31280177289517,
          -122.24456885324254,
          -122.106627,
          -122.27412986210919,
          -122.3256798,
          11.0480288,
          11.0480288,
          11.0480288,
          11.0480288,
          -122.23792052250785,
          11.0480288,
          11.0480288,
          11.0480288,
          11.0480288,
          -122.2838768,
          11.0480288,
          11.0480288,
          11.0480288,
          -122.56217124114092,
          -122.11393645841997,
          -122.26847999977564,
          -122.30992760975408,
          11.0480288,
          11.0480288,
          11.0480288,
          -122.28633265903585,
          -122.20417831523753,
          -122.3343207,
          -122.30287753891035,
          -122.25733398439566,
          -122.3721147,
          -122.25733398439566,
          -122.30897915315026,
          -122.36533091684413,
          11.0480288,
          11.0480288,
          11.0480288,
          -122.29798790114975,
          -122.32645584994651,
          -122.28090699792568,
          11.0480288,
          -122.16343067717587,
          -122.26827734504174,
          -122.1377654747898,
          -122.3770276,
          -122.30878185706045,
          11.0480288,
          11.0480288,
          11.0480288,
          -122.1504373,
          -122.17104683741243,
          -122.18368983626436,
          -122.83002759533225,
          -122.83002759533225,
          -122.83002759533225,
          -122.83002759533225,
          -122.28719483266725,
          -122.17252876471605,
          -122.15034919556155,
          -122.34033121012388,
          -122.10138694158326,
          -122.19514827720731,
          11.0480288,
          11.0480288,
          11.0480288,
          -122.2256697,
          -122.55190766442952,
          -122.64140575174825,
          -122.31360340636314,
          -122.27641550506854,
          -122.2794534765404,
          -122.32681227311741,
          11.0480288,
          -122.120922,
          -122.29359756565657,
          11.0480288,
          11.0480288,
          -122.2875771,
          11.0480288,
          11.0480288,
          -122.23114871273856,
          -122.2968445,
          -122.3058049,
          -122.2635433713549,
          -122.28240549942433,
          -122.36083934380409,
          -121.97476405,
          -122.1237269337762,
          -122.90800563265306,
          -122.17208855,
          -122.2769251768909,
          -122.32332616357922,
          -122.3469084,
          11.0480288,
          -122.31820450000001,
          -122.14011265022005,
          11.0480288,
          -122.7663505,
          11.0480288,
          -122.1841257327134,
          -122.32462445,
          -122.19303181933384,
          -122.28020910594512,
          11.0480288,
          11.0480288,
          -122.2419186,
          11.0480288,
          11.0480288,
          11.0480288,
          -122.18830489895461,
          -122.6246282463596,
          -122.31720253977844,
          -122.3437497,
          -122.67547980116177,
          -122.26469725396825,
          -122.28178205,
          -122.03006505320346,
          -122.27346804437497,
          -122.35769381985588,
          -122.38572276698389,
          -122.35380087397542,
          -122.317123222882,
          -122.1470985922316,
          -122.28585222010261,
          -122.3069669287398,
          -122.31997725414391,
          -122.31112104937216,
          -122.34601995278979,
          -122.1686469035136,
          -122.30402894366198,
          -122.19303181933384,
          -122.30578305668291,
          -122.2921835252907,
          -122.26755324999999,
          -122.55183616444216,
          -122.28341914730768,
          -122.1803466,
          -122.19290131140801,
          -122.3191344,
          -122.3869471,
          -122.40357588109987,
          -122.17037535499666,
          -122.32530613001686,
          -122.3026301,
          -122.43232183673469,
          -122.34669265,
          -122.3596841,
          -122.1767771,
          -122.29972272143311,
          -122.17208855,
          -122.11734987890588,
          -122.19776577093437,
          -122.18994383297414,
          -122.0317201,
          -122.28313801992377,
          -122.20448273423719,
          -122.330426402098,
          -122.290836,
          -122.18839172589205,
          -122.2746895,
          -122.34725170266411,
          -122.17496005000001,
          -122.20815070200001,
          -122.63273123652584,
          -122.18386117104623,
          -122.20815070200001,
          -122.33715443636363,
          -122.1687171245094,
          -122.1719841,
          -122.2164326,
          -122.1559442378628,
          -122.30076709440758,
          -122.58790601906342,
          -122.20366741743891,
          -122.18707723962117,
          -121.68401311413095,
          -122.27114801257284,
          -122.27713807793103,
          11.0480288,
          -122.25595152013423,
          -122.28585222010261,
          11.0480288,
          -122.3357453,
          -122.3343207,
          -122.33020600207925,
          -122.33100636339839,
          -122.32372699193479,
          -122.15446796514479,
          -122.59165301533135,
          11.0480288,
          11.0480288,
          -122.16263804731443,
          -122.61766851230522,
          -122.92093550254056,
          11.0480288,
          11.0480288,
          11.0480288,
          11.0480288,
          -122.28828369750275,
          -122.281531,
          11.0480288,
          11.0480288,
          11.0480288,
          11.0480288,
          -122.596287,
          -122.294136,
          11.0480288,
          11.0480288,
          11.0480288,
          -122.32235805130587,
          11.0480288,
          11.0480288,
          11.0480288,
          11.0480288,
          11.0480288,
          11.0480288,
          11.0480288,
          11.0480288,
          11.0480288,
          11.0480288,
          11.0480288,
          -122.163009,
          -122.42162422222222,
          -122.92925079591836,
          -122.28727406963489,
          -122.2923265670262,
          -122.27418012500002,
          -122.325776775,
          -122.22451405274106,
          -122.0258696966317,
          -122.36783354069888,
          -122.16588885455863,
          -122.2931638,
          11.0480288,
          11.0480288,
          11.0480288,
          -122.30621007091564,
          11.0480288,
          -122.3259917338286,
          -122.2364402837799,
          11.0480288,
          11.0480288,
          11.0480288,
          11.0480288,
          11.0480288,
          11.0480288,
          11.0480288,
          11.0480288,
          -122.28585222010261,
          -122.148282,
          -122.29421767381986,
          -122.02006363817982,
          -122.2019583,
          11.0480288,
          11.0480288,
          -122.54387245730001,
          11.0480288,
          11.0480288,
          -122.4520632740039,
          11.0480288,
          11.0480288,
          -122.11367938839285,
          11.0480288,
          11.0480288,
          11.0480288,
          11.0480288,
          11.0480288,
          11.0480288,
          11.0480288,
          11.0480288,
          -122.3058049,
          11.0480288,
          -122.08854708344487,
          -122.18613029365255,
          -122.17913683989448,
          -122.20856915596046,
          -122.37376685,
          -122.3430492,
          -122.15571279177924,
          -122.3447091940869,
          -122.2948337,
          11.0480288,
          11.0480288,
          11.0480288,
          11.0480288,
          11.0480288,
          11.0480288,
          11.0480288,
          11.0480288,
          11.0480288,
          11.0480288,
          11.0480288,
          11.0480288,
          11.0480288,
          11.0480288,
          11.0480288,
          11.0480288,
          11.0480288,
          11.0480288,
          11.0480288,
          11.0480288,
          11.0480288,
          11.0480288,
          11.0480288,
          11.0480288,
          -122.29865521949873,
          -122.34235820206209,
          -122.17662720000001,
          -122.2923265670262,
          -122.2851609,
          -122.29124199301339,
          -122.31112104937216,
          -122.30182087065135,
          -122.30529265,
          -122.29845990216205,
          -122.26615729759526,
          -122.36084916674884,
          11.0480288,
          -122.29828037842097,
          11.0480288,
          11.0480288,
          11.0480288,
          11.0480288,
          11.0480288,
          11.0480288,
          11.0480288,
          -122.40237885858586,
          11.0480288,
          -122.60677608163265,
          -122.54023990604027,
          -122.49459814083336,
          -122.34409730693044,
          -122.492655,
          -122.373565,
          -122.40954083673469,
          -122.440476,
          -122.5322044,
          -122.41956867676767,
          -122.426733690056,
          -122.53575953535353,
          -122.22494950689504,
          -122.22494950689504,
          -122.46531138871684,
          -122.3050668,
          -122.38296002454268,
          -122.23246457028793,
          -122.3351764,
          -122.49323464229126,
          -122.439874,
          -122.42597634693877,
          -122.42635839483087,
          -122.51298033333335,
          -122.42605441428572,
          -122.53591430352355,
          -122.555082,
          -122.18826072992863,
          -122.50468994265596,
          -122.39808302333006,
          -122.2694738,
          -122.55368378146851,
          -122.47659342857142,
          -122.21303565590756,
          -122.16479824635056,
          -122.27169995046658,
          -122.50190353691275,
          -122.28815982694806,
          -122.47386,
          -122.46531138871684,
          -122.49459814083336,
          -122.5131572408847,
          -122.41373528571428,
          -122.54390522733502,
          -122.4196411,
          -122.53686577438923,
          -122.4492857755102,
          -122.49459814083336,
          -122.45417251789279,
          -122.46531138871684,
          -122.5623359,
          -122.32026255344672,
          -122.490312,
          -122.42295410738255,
          -122.44201,
          -122.38126661805556,
          -122.367243,
          -122.46531138871684,
          -122.53284985107904,
          -122.45781236734695,
          -121.9940355,
          -122.52066301687395,
          -122.53575953535353,
          -122.53575953535353,
          -122.86617787755101,
          -122.44259796969696,
          -122.39499531637023,
          -122.4089862,
          -122.51024777551021,
          -122.48620285858586,
          -122.50733709750739,
          -122.25201209211107,
          -122.3097957,
          -122.43427075202241,
          -122.22251207453007,
          -122.555082,
          -122.531339,
          -122.51737553162162,
          -122.45977259183672,
          -122.52567506374959,
          -122.49784015866734,
          -122.51163291442775,
          -122.29528508163266,
          -122.52163260655738,
          -122.47351543624161,
          -122.28907584999999,
          -122.14707805104445,
          -122.2450797,
          -122.33071,
          -122.53575953535353,
          -122.5145681915861,
          -122.40115746485637,
          -122.41789547236182,
          -122.506301,
          -122.40329070576419,
          -122.33251716227709,
          -122.40945072727273,
          -122.32168385413908,
          -122.44774079591836,
          -122.44677891625872,
          -122.415114,
          -122.42461750006484,
          -122.49459814083336,
          -122.36972943954105,
          -122.50494512448194,
          -122.4721852121212,
          -122.52092331171322,
          -122.437691,
          -122.494153,
          -122.491901,
          -122.49148343437021,
          -122.52644780718805,
          -122.3221566344086,
          -122.3960872752306,
          -122.4117848367347,
          -122.31008505009683,
          -122.35463050012947,
          -122.53575953535353,
          -122.4340924,
          -122.4745826375839,
          -122.4267465510204,
          -122.50502014358305,
          -122.3636847,
          -122.79775900723928,
          -122.44964592929293,
          -122.46531138871684,
          -122.45914222818791,
          -122.4466076122449,
          -122.51574759049946,
          -122.49200467346938,
          -122.4122257922048,
          -122.2171815,
          -122.555082,
          -122.53575953535353,
          -122.45462312121212,
          -122.45573485714286,
          -122.437298,
          -122.4429815959596,
          -122.54857652781607,
          -122.18090704109841,
          -122.34643125745892,
          -122.47053771428573,
          -122.1763286433432,
          -122.51574759049946,
          -122.30439000534962,
          -122.44496413131313,
          -122.47348272972972,
          -122.45573485714286,
          -122.537743,
          -122.530088,
          -122.30772250409836,
          -122.49354671428571,
          -122.4302659387755,
          -122.52758620408163,
          -122.14535629288389,
          -122.1855319217128,
          -122.436576792,
          -122.37526374529367,
          -122.1458423411959,
          -122.20961724132076,
          -122.37783147965702,
          -122.29643963636364,
          -122.31260932496488,
          -122.84046672222223,
          -122.272951,
          -122.52296177707399,
          -122.50706676510067,
          -122.46632942272205,
          -122.45345504081632,
          -122.44274248979592,
          -122.548506,
          -122.36972943954105,
          -122.2464048,
          -122.56233040427283,
          -122.44196770930232,
          -122.49257855886873,
          -122.51567690909091,
          -122.22494950689504,
          -122.46540432563009,
          -122.51203598939136,
          -122.2889149717806,
          -122.43468916127274,
          -122.31446198487068,
          -122.46085087755101,
          -122.40970310729956,
          -122.52268787919463,
          -122.41659581818182,
          -122.48668576923076,
          -122.53575953535353,
          -122.33631144897959,
          -122.48098011111111,
          -122.45546487755101,
          -122.51081685714286,
          -122.42171357142858,
          -122.3533284634913,
          -122.53958752146984,
          -122.46379353061225,
          -122.51184603321855,
          -122.47359986734695,
          -122.36381163636364,
          -122.51642330936865,
          -122.4694178989899,
          -122.43821101010101,
          -122.50900965778808,
          -122.44913136363635,
          -122.40265181835998,
          -122.51567690909091,
          -122.46324411111111,
          -122.47383424489796,
          -122.5269717478574,
          -122.51284775510204,
          -122.55540327272728,
          -122.3287919,
          -122.52958301703734,
          -122.5493346614846,
          -122.255976,
          -122.46179610204082,
          -122.49784015866734,
          -122.53575953535353,
          -122.37191928205128,
          -122.4479353939394,
          -122.447573,
          -122.46374455102041,
          -122.50513759183674,
          -122.480925,
          -122.50106073469388,
          -122.5234916453218,
          -122.40630646484225,
          -122.4340178,
          -122.49391215151515,
          -122.46155671428572,
          -122.40494904108346,
          -122.46531138871684,
          -122.49459814083336,
          -122.53066021212122,
          -122.45709566666667,
          -122.53016219772825,
          -122.42490938775511,
          -122.56257384802285,
          -122.52163792625618,
          -122.44599062626263,
          -122.49966460692801,
          -122.46324257142858,
          -122.50512166676944,
          -122.45533472727273,
          -122.22295215,
          -122.22494950689504,
          -122.25283485281923,
          -122.506888,
          -122.342496,
          -122.373143,
          -122.45291697959183,
          -122.48136234343434,
          -122.36453152939829,
          -122.50546538156351,
          -122.4037345510204,
          -122.55096900808418,
          -122.49459814083336,
          -122.396491081091,
          -122.4593579,
          -122.53688366666667,
          -122.492655,
          -122.643724664,
          -122.30474980063457,
          -122.4340178,
          -122.46179610204082,
          -122.5301104888889,
          -122.46512770712654,
          -122.4810183030303,
          -122.42563065656566,
          -122.47955238775509,
          -122.4536505510204,
          -122.25759173099064,
          -122.50748373534176,
          -122.4632837839196,
          -122.4645796744186,
          -122.41489518302784,
          -122.37281313783673,
          -122.4593579,
          -122.526245,
          -122.38447330478571,
          -122.48123933333333,
          -122.41517965538756,
          -122.41500387755103,
          -122.534194,
          -122.44985415,
          -122.42560496969696,
          -122.4196411,
          -122.43931391098513,
          -122.4618639,
          -122.48372485714286,
          -122.41112283673469,
          -122.51575288068182,
          -122.5403383032109,
          -122.22494950689504,
          -122.441815,
          -122.53846064724938,
          -122.38978271882083,
          -122.30898602405814,
          -122.456071,
          -122.48136234343434,
          -122.47383424489796,
          -122.3579285,
          -122.21853638532066,
          -122.34643125745892,
          -122.45076957142857,
          -122.41638326164681,
          -122.21866913185096,
          -122.53575953535353,
          -122.2255535,
          -122.22494950689504,
          -122.1631706,
          -122.22494950689504,
          -122.44963046938776,
          -122.476543,
          -122.40548229025337,
          -122.37871226507572,
          -122.39828628423311,
          -122.372477,
          -122.49459814083336,
          -122.44782424489796,
          -122.36188261917145,
          -122.48113156233104,
          -122.46265766666666,
          -122.44815393238707,
          -122.508545,
          -122.51603833540372,
          -122.50692275,
          -122.50473172090032,
          -122.45611338775511,
          -122.43658169565217,
          -122.53958752146984,
          -122.30876,
          -122.51813586432161
         ],
         "marker": {
          "color": "red"
         },
         "mode": "markers",
         "name": "Taxi Service",
         "showlegend": true,
         "subplot": "mapbox",
         "type": "scattermapbox"
        }
       ],
       "layout": {
        "legend": {
         "title": {
          "text": "NAICS_CODE_DESCRIPTION"
         },
         "tracegroupgap": 0
        },
        "mapbox": {
         "center": {
          "lat": 47.25,
          "lon": -122.44
         },
         "domain": {
          "x": [
           0,
           1
          ],
          "y": [
           0,
           1
          ]
         },
         "style": "carto-positron",
         "zoom": 9
        },
        "margin": {
         "t": 60
        },
        "template": {
         "data": {
          "bar": [
           {
            "error_x": {
             "color": "#2a3f5f"
            },
            "error_y": {
             "color": "#2a3f5f"
            },
            "marker": {
             "line": {
              "color": "#E5ECF6",
              "width": 0.5
             },
             "pattern": {
              "fillmode": "overlay",
              "size": 10,
              "solidity": 0.2
             }
            },
            "type": "bar"
           }
          ],
          "barpolar": [
           {
            "marker": {
             "line": {
              "color": "#E5ECF6",
              "width": 0.5
             },
             "pattern": {
              "fillmode": "overlay",
              "size": 10,
              "solidity": 0.2
             }
            },
            "type": "barpolar"
           }
          ],
          "carpet": [
           {
            "aaxis": {
             "endlinecolor": "#2a3f5f",
             "gridcolor": "white",
             "linecolor": "white",
             "minorgridcolor": "white",
             "startlinecolor": "#2a3f5f"
            },
            "baxis": {
             "endlinecolor": "#2a3f5f",
             "gridcolor": "white",
             "linecolor": "white",
             "minorgridcolor": "white",
             "startlinecolor": "#2a3f5f"
            },
            "type": "carpet"
           }
          ],
          "choropleth": [
           {
            "colorbar": {
             "outlinewidth": 0,
             "ticks": ""
            },
            "type": "choropleth"
           }
          ],
          "contour": [
           {
            "colorbar": {
             "outlinewidth": 0,
             "ticks": ""
            },
            "colorscale": [
             [
              0,
              "#0d0887"
             ],
             [
              0.1111111111111111,
              "#46039f"
             ],
             [
              0.2222222222222222,
              "#7201a8"
             ],
             [
              0.3333333333333333,
              "#9c179e"
             ],
             [
              0.4444444444444444,
              "#bd3786"
             ],
             [
              0.5555555555555556,
              "#d8576b"
             ],
             [
              0.6666666666666666,
              "#ed7953"
             ],
             [
              0.7777777777777778,
              "#fb9f3a"
             ],
             [
              0.8888888888888888,
              "#fdca26"
             ],
             [
              1,
              "#f0f921"
             ]
            ],
            "type": "contour"
           }
          ],
          "contourcarpet": [
           {
            "colorbar": {
             "outlinewidth": 0,
             "ticks": ""
            },
            "type": "contourcarpet"
           }
          ],
          "heatmap": [
           {
            "colorbar": {
             "outlinewidth": 0,
             "ticks": ""
            },
            "colorscale": [
             [
              0,
              "#0d0887"
             ],
             [
              0.1111111111111111,
              "#46039f"
             ],
             [
              0.2222222222222222,
              "#7201a8"
             ],
             [
              0.3333333333333333,
              "#9c179e"
             ],
             [
              0.4444444444444444,
              "#bd3786"
             ],
             [
              0.5555555555555556,
              "#d8576b"
             ],
             [
              0.6666666666666666,
              "#ed7953"
             ],
             [
              0.7777777777777778,
              "#fb9f3a"
             ],
             [
              0.8888888888888888,
              "#fdca26"
             ],
             [
              1,
              "#f0f921"
             ]
            ],
            "type": "heatmap"
           }
          ],
          "heatmapgl": [
           {
            "colorbar": {
             "outlinewidth": 0,
             "ticks": ""
            },
            "colorscale": [
             [
              0,
              "#0d0887"
             ],
             [
              0.1111111111111111,
              "#46039f"
             ],
             [
              0.2222222222222222,
              "#7201a8"
             ],
             [
              0.3333333333333333,
              "#9c179e"
             ],
             [
              0.4444444444444444,
              "#bd3786"
             ],
             [
              0.5555555555555556,
              "#d8576b"
             ],
             [
              0.6666666666666666,
              "#ed7953"
             ],
             [
              0.7777777777777778,
              "#fb9f3a"
             ],
             [
              0.8888888888888888,
              "#fdca26"
             ],
             [
              1,
              "#f0f921"
             ]
            ],
            "type": "heatmapgl"
           }
          ],
          "histogram": [
           {
            "marker": {
             "pattern": {
              "fillmode": "overlay",
              "size": 10,
              "solidity": 0.2
             }
            },
            "type": "histogram"
           }
          ],
          "histogram2d": [
           {
            "colorbar": {
             "outlinewidth": 0,
             "ticks": ""
            },
            "colorscale": [
             [
              0,
              "#0d0887"
             ],
             [
              0.1111111111111111,
              "#46039f"
             ],
             [
              0.2222222222222222,
              "#7201a8"
             ],
             [
              0.3333333333333333,
              "#9c179e"
             ],
             [
              0.4444444444444444,
              "#bd3786"
             ],
             [
              0.5555555555555556,
              "#d8576b"
             ],
             [
              0.6666666666666666,
              "#ed7953"
             ],
             [
              0.7777777777777778,
              "#fb9f3a"
             ],
             [
              0.8888888888888888,
              "#fdca26"
             ],
             [
              1,
              "#f0f921"
             ]
            ],
            "type": "histogram2d"
           }
          ],
          "histogram2dcontour": [
           {
            "colorbar": {
             "outlinewidth": 0,
             "ticks": ""
            },
            "colorscale": [
             [
              0,
              "#0d0887"
             ],
             [
              0.1111111111111111,
              "#46039f"
             ],
             [
              0.2222222222222222,
              "#7201a8"
             ],
             [
              0.3333333333333333,
              "#9c179e"
             ],
             [
              0.4444444444444444,
              "#bd3786"
             ],
             [
              0.5555555555555556,
              "#d8576b"
             ],
             [
              0.6666666666666666,
              "#ed7953"
             ],
             [
              0.7777777777777778,
              "#fb9f3a"
             ],
             [
              0.8888888888888888,
              "#fdca26"
             ],
             [
              1,
              "#f0f921"
             ]
            ],
            "type": "histogram2dcontour"
           }
          ],
          "mesh3d": [
           {
            "colorbar": {
             "outlinewidth": 0,
             "ticks": ""
            },
            "type": "mesh3d"
           }
          ],
          "parcoords": [
           {
            "line": {
             "colorbar": {
              "outlinewidth": 0,
              "ticks": ""
             }
            },
            "type": "parcoords"
           }
          ],
          "pie": [
           {
            "automargin": true,
            "type": "pie"
           }
          ],
          "scatter": [
           {
            "fillpattern": {
             "fillmode": "overlay",
             "size": 10,
             "solidity": 0.2
            },
            "type": "scatter"
           }
          ],
          "scatter3d": [
           {
            "line": {
             "colorbar": {
              "outlinewidth": 0,
              "ticks": ""
             }
            },
            "marker": {
             "colorbar": {
              "outlinewidth": 0,
              "ticks": ""
             }
            },
            "type": "scatter3d"
           }
          ],
          "scattercarpet": [
           {
            "marker": {
             "colorbar": {
              "outlinewidth": 0,
              "ticks": ""
             }
            },
            "type": "scattercarpet"
           }
          ],
          "scattergeo": [
           {
            "marker": {
             "colorbar": {
              "outlinewidth": 0,
              "ticks": ""
             }
            },
            "type": "scattergeo"
           }
          ],
          "scattergl": [
           {
            "marker": {
             "colorbar": {
              "outlinewidth": 0,
              "ticks": ""
             }
            },
            "type": "scattergl"
           }
          ],
          "scattermapbox": [
           {
            "marker": {
             "colorbar": {
              "outlinewidth": 0,
              "ticks": ""
             }
            },
            "type": "scattermapbox"
           }
          ],
          "scatterpolar": [
           {
            "marker": {
             "colorbar": {
              "outlinewidth": 0,
              "ticks": ""
             }
            },
            "type": "scatterpolar"
           }
          ],
          "scatterpolargl": [
           {
            "marker": {
             "colorbar": {
              "outlinewidth": 0,
              "ticks": ""
             }
            },
            "type": "scatterpolargl"
           }
          ],
          "scatterternary": [
           {
            "marker": {
             "colorbar": {
              "outlinewidth": 0,
              "ticks": ""
             }
            },
            "type": "scatterternary"
           }
          ],
          "surface": [
           {
            "colorbar": {
             "outlinewidth": 0,
             "ticks": ""
            },
            "colorscale": [
             [
              0,
              "#0d0887"
             ],
             [
              0.1111111111111111,
              "#46039f"
             ],
             [
              0.2222222222222222,
              "#7201a8"
             ],
             [
              0.3333333333333333,
              "#9c179e"
             ],
             [
              0.4444444444444444,
              "#bd3786"
             ],
             [
              0.5555555555555556,
              "#d8576b"
             ],
             [
              0.6666666666666666,
              "#ed7953"
             ],
             [
              0.7777777777777778,
              "#fb9f3a"
             ],
             [
              0.8888888888888888,
              "#fdca26"
             ],
             [
              1,
              "#f0f921"
             ]
            ],
            "type": "surface"
           }
          ],
          "table": [
           {
            "cells": {
             "fill": {
              "color": "#EBF0F8"
             },
             "line": {
              "color": "white"
             }
            },
            "header": {
             "fill": {
              "color": "#C8D4E3"
             },
             "line": {
              "color": "white"
             }
            },
            "type": "table"
           }
          ]
         },
         "layout": {
          "annotationdefaults": {
           "arrowcolor": "#2a3f5f",
           "arrowhead": 0,
           "arrowwidth": 1
          },
          "autotypenumbers": "strict",
          "coloraxis": {
           "colorbar": {
            "outlinewidth": 0,
            "ticks": ""
           }
          },
          "colorscale": {
           "diverging": [
            [
             0,
             "#8e0152"
            ],
            [
             0.1,
             "#c51b7d"
            ],
            [
             0.2,
             "#de77ae"
            ],
            [
             0.3,
             "#f1b6da"
            ],
            [
             0.4,
             "#fde0ef"
            ],
            [
             0.5,
             "#f7f7f7"
            ],
            [
             0.6,
             "#e6f5d0"
            ],
            [
             0.7,
             "#b8e186"
            ],
            [
             0.8,
             "#7fbc41"
            ],
            [
             0.9,
             "#4d9221"
            ],
            [
             1,
             "#276419"
            ]
           ],
           "sequential": [
            [
             0,
             "#0d0887"
            ],
            [
             0.1111111111111111,
             "#46039f"
            ],
            [
             0.2222222222222222,
             "#7201a8"
            ],
            [
             0.3333333333333333,
             "#9c179e"
            ],
            [
             0.4444444444444444,
             "#bd3786"
            ],
            [
             0.5555555555555556,
             "#d8576b"
            ],
            [
             0.6666666666666666,
             "#ed7953"
            ],
            [
             0.7777777777777778,
             "#fb9f3a"
            ],
            [
             0.8888888888888888,
             "#fdca26"
            ],
            [
             1,
             "#f0f921"
            ]
           ],
           "sequentialminus": [
            [
             0,
             "#0d0887"
            ],
            [
             0.1111111111111111,
             "#46039f"
            ],
            [
             0.2222222222222222,
             "#7201a8"
            ],
            [
             0.3333333333333333,
             "#9c179e"
            ],
            [
             0.4444444444444444,
             "#bd3786"
            ],
            [
             0.5555555555555556,
             "#d8576b"
            ],
            [
             0.6666666666666666,
             "#ed7953"
            ],
            [
             0.7777777777777778,
             "#fb9f3a"
            ],
            [
             0.8888888888888888,
             "#fdca26"
            ],
            [
             1,
             "#f0f921"
            ]
           ]
          },
          "colorway": [
           "#636efa",
           "#EF553B",
           "#00cc96",
           "#ab63fa",
           "#FFA15A",
           "#19d3f3",
           "#FF6692",
           "#B6E880",
           "#FF97FF",
           "#FECB52"
          ],
          "font": {
           "color": "#2a3f5f"
          },
          "geo": {
           "bgcolor": "white",
           "lakecolor": "white",
           "landcolor": "#E5ECF6",
           "showlakes": true,
           "showland": true,
           "subunitcolor": "white"
          },
          "hoverlabel": {
           "align": "left"
          },
          "hovermode": "closest",
          "mapbox": {
           "style": "light"
          },
          "paper_bgcolor": "white",
          "plot_bgcolor": "#E5ECF6",
          "polar": {
           "angularaxis": {
            "gridcolor": "white",
            "linecolor": "white",
            "ticks": ""
           },
           "bgcolor": "#E5ECF6",
           "radialaxis": {
            "gridcolor": "white",
            "linecolor": "white",
            "ticks": ""
           }
          },
          "scene": {
           "xaxis": {
            "backgroundcolor": "#E5ECF6",
            "gridcolor": "white",
            "gridwidth": 2,
            "linecolor": "white",
            "showbackground": true,
            "ticks": "",
            "zerolinecolor": "white"
           },
           "yaxis": {
            "backgroundcolor": "#E5ECF6",
            "gridcolor": "white",
            "gridwidth": 2,
            "linecolor": "white",
            "showbackground": true,
            "ticks": "",
            "zerolinecolor": "white"
           },
           "zaxis": {
            "backgroundcolor": "#E5ECF6",
            "gridcolor": "white",
            "gridwidth": 2,
            "linecolor": "white",
            "showbackground": true,
            "ticks": "",
            "zerolinecolor": "white"
           }
          },
          "shapedefaults": {
           "line": {
            "color": "#2a3f5f"
           }
          },
          "ternary": {
           "aaxis": {
            "gridcolor": "white",
            "linecolor": "white",
            "ticks": ""
           },
           "baxis": {
            "gridcolor": "white",
            "linecolor": "white",
            "ticks": ""
           },
           "bgcolor": "#E5ECF6",
           "caxis": {
            "gridcolor": "white",
            "linecolor": "white",
            "ticks": ""
           }
          },
          "title": {
           "x": 0.05
          },
          "xaxis": {
           "automargin": true,
           "gridcolor": "white",
           "linecolor": "white",
           "ticks": "",
           "title": {
            "standoff": 15
           },
           "zerolinecolor": "white",
           "zerolinewidth": 2
          },
          "yaxis": {
           "automargin": true,
           "gridcolor": "white",
           "linecolor": "white",
           "ticks": "",
           "title": {
            "standoff": 15
           },
           "zerolinecolor": "white",
           "zerolinewidth": 2
          }
         }
        },
        "title": {
         "text": "Where are the taxis? API"
        }
       }
      },
      "text/html": [
       "<div>                            <div id=\"d788ca05-83fb-4c09-80bf-d32b854d7035\" class=\"plotly-graph-div\" style=\"height:525px; width:100%;\"></div>            <script type=\"text/javascript\">                require([\"plotly\"], function(Plotly) {                    window.PLOTLYENV=window.PLOTLYENV || {};                                    if (document.getElementById(\"d788ca05-83fb-4c09-80bf-d32b854d7035\")) {                    Plotly.newPlot(                        \"d788ca05-83fb-4c09-80bf-d32b854d7035\",                        [{\"customdata\":[[485310.0,null,null,null,null],[485310.0,\"11918 SE 240TH PL\",\"KENT\",\"WA\",\"98030\"],[485310.0,\"18014 81ST LN NE\",\"KENMORE\",\"WA\",\"98028\"],[485310.0,\"1409 SW 166TH ST\",\"BURIEN\",\"WA\",\"98166-3415\"],[485310.0,\"16636 127TH AVE SE\",\"RENTON\",\"WA\",\"98058\"],[485310.0,\"5565 S 152ND ST\",\"TUKWILA\",\"WA\",\"98188-7815\"],[485310.0,null,null,null,null],[485310.0,\"10531 SE 250TH PL\",\"KENT\",\"WA\",\"98030-2892\"],[485310.0,\"13025 12TH AVE S\",\"BURIEN\",\"WA\",\"98168-2872\"],[485310.0,\"3434 S 144TH ST\",\"TUKWILA\",\"WA\",\"98168-4061\"],[485310.0,\"22634 10TH AVE S\",\"DES MOINES\",\"WA\",\"98198-6915\"],[485310.0,\"3223 S 204TH PL\",\"SEATAC\",\"WA\",\"98198-5875\"],[485310.0,\"26007 132ND AVE SE\",\"KENT\",\"WA\",\"98042-3503\"],[485310.0,\"203 HAWK AVE SW\",\"ORTING\",\"WA\",\"98360-8415\"],[485310.0,\"2913 13TH AVENUE CT NW\",\"PUYALLUP\",\"WA\",\"98371-3983\"],[485310.0,\"21800 PACIFIC HWY S\",\"DES MOINES\",\"WA\",\"98198-7793\"],[485310.0,\"16724 SE 251ST PL\",\"COVINGTON\",\"WA\",\"98042-5230\"],[485310.0,null,null,null,null],[485310.0,\"4821 KENT DES MOINES RD\",\"KENT\",\"WA\",\"98032-4240\"],[485310.0,\"12217 SE 260TH PL\",\"KENT\",\"WA\",\"98030\"],[485310.0,\"5423 VILLAGE PK DR SE\",\"BELLEVUE\",\"WA\",\"98006\"],[485310.0,\"6543 DELRIDGE WAY SW\",\"SEATTLE\",\"WA\",\"98106\"],[485310.0,\"16921 SPRUCE WAY\",\"LYNNWOOD\",\"WA\",\"98037\"],[485310.0,\"213 SW 313TH ST\",\"FEDERAL WAY\",\"WA\",\"98023\"],[485310.0,\"26304 235TH AVE SE\",\"MAPLE VALLEY\",\"WA\",\"98038\"],[485310.0,null,null,null,null],[485310.0,null,null,null,null],[485310.0,\"18808 105TH AVE CT E\",\"PUYALLUP\",\"WA\",\"98374\"],[485310.0,null,null,null,null],[485310.0,null,null,null,null],[485310.0,null,null,null,null],[485310.0,\"2809 6TH ST SE\",\"PUYALLUP\",\"WA\",\"98374\"],[485310.0,\"4153 S 292ND PL\",\"AUBURN\",\"WA\",\"98001\"],[485310.0,null,null,null,null],[485310.0,null,null,null,null],[485310.0,\"25819 26TH PL S\",\"KENT\",\"WA\",\"98032\"],[485310.0,\"1821 S 310TH ST\",\"FEDERAL WAY\",\"WA\",\"98003\"],[485310.0,\"14629 42ND AVE S\",\"TUKWILA\",\"WA\",\"98168\"],[485310.0,\"3331 234TH ST SE\",\"BOTHELL\",\"WA\",\"98021\"],[485310.0,\"37002 SE GRAVENSTEIN CT\",\"SNOQUALMIE\",\"WA\",\"98065\"],[485310.0,null,null,null,null],[485310.0,\"11725 15TH  AVE  NE\",\"SEATTLE\",\"WA\",\"98125\"],[485310.0,\"7035 S 133RD ST\",\"SEATTLE\",\"WA\",\"98178\"],[485310.0,\"17202 NE 85TH PL\",\"REDMOND\",\"WA\",\"98052\"],[485310.0,\"7932 46TH AVE S\",\"SEATTLE\",\"WA\",\"98118\"],[485310.0,\"2226 EASTLAKE AVE E\",\"SEATTLE\",\"WA\",\"98102\"],[485310.0,null,null,null,null],[485310.0,null,null,null,null],[485310.0,null,null,null,null],[485310.0,null,null,null,null],[485310.0,\"11826 76TH AVE S\",\"SEATTLE\",\"WA\",\"98178-3804\"],[485310.0,null,null,null,null],[485310.0,null,null,null,null],[485310.0,null,null,null,null],[485310.0,null,null,null,null],[485310.0,\"18808 109TH AVE CRT E\",\"PUYALLUP\",\"WA\",\"98374\"],[485310.0,null,null,null,null],[485310.0,null,null,null,null],[485310.0,null,null,null,null],[485310.0,\"10619 NORTHSTAR WAY SW\",\"LAKEWOOD\",\"WA\",\"98498-3019\"],[485310.0,\"16912 NE 19TH PL\",\"BELLEVUE\",\"WA\",\"98008\"],[485310.0,\"5132 BRIGHTON ST\",\"SEATTLE\",\"WA\",\"98118\"],[485310.0,\"27606 PACIFIC HWY S\",\"FEDERAL WAY\",\"WA\",\"98003-3411\"],[485310.0,null,null,null,null],[485310.0,null,null,null,null],[485310.0,null,null,null,null],[485310.0,\"2903 6TH ST SE\",\"PUYALLUP\",\"WA\",\"98374\"],[485310.0,\"413 U ST SE\",\"AUBURN\",\"WA\",\"98002\"],[485310.0,\"12253 1ST AVE S\",\"SEATTLE\",\"WA\",\"98168\"],[485310.0,\"11323 24TH AVE NE\",\"SEATTLE\",\"WA\",\"98125\"],[485310.0,\"29420 132ND AVE E\",\"GRAHAM\",\"WA\",\"98338-6003\"],[485310.0,\"3100 SW GRAHAM ST\",\"SEATTLE\",\"WA\",\"98126\"],[485310.0,\"29420 132ND AVE E\",\"GRAHAM\",\"WA\",\"98338\"],[485310.0,\"1835 S 216TH ST\",\"DES MOINES\",\"WA\",\"98198\"],[485310.0,\"2517 SW 120TH ST\",\"BURIEN\",\"WA\",\"98146\"],[485310.0,null,null,null,null],[485310.0,null,null,null,null],[485310.0,null,null,null,null],[485310.0,\"2714 NE 75TH ST\",\"SEATTLE\",\"WA\",\"98115\"],[485310.0,\"22811 LAKEVIEW DRIVE\",\"MOUNTLAKE TERRACE\",\"WA\",\"98043\"],[485310.0,\"21920 42ND AVE S\",\"KENT\",\"WA\",\"98032\"],[485310.0,null,null,null,null],[485310.0,\"8944 132ND PL SE\",\"NEWCASTLE\",\"WA\",\"98059\"],[485310.0,\"5121 S ROXBURY ST\",\"SEATTLE\",\"WA\",\"98118\"],[485310.0,\"28105 153RD AVE SE\",\"KENT\",\"WA\",\"98042\"],[485310.0,\"3504 SW WEBSTER ST\",\"SEATTLE\",\"WA\",\"98126\"],[485310.0,\"22606 91ST AVENUE CT E\",\"GRAHAM\",\"WA\",\"98338\"],[485310.0,null,null,null,null],[485310.0,null,null,null,null],[485310.0,null,null,null,null],[485310.0,\"50150 PL NE\",\"BELLEVUE\",\"WA\",\"98007\"],[485310.0,\"12723 SE 278TH PL\",\"KENT\",\"WA\",\"98030-8843\"],[485310.0,\"313 FERNDALE AVE SE\",\"RENTON\",\"WA\",\"98506-8891\"],[485310.0,\"4305 LACEY BLVD SE\",\"LACEY\",\"WA\",\"98503-2352\"],[485310.0,\"4305 LACEY BLVD SE\",\"LACEY\",\"WA\",\"98503-2352\"],[485310.0,\"4305 LACEY BLVD SE\",\"LACEY\",\"WA\",\"98503-2352\"],[485310.0,\"4305 LACEY BLVD SE\",\"LACEY\",\"WA\",\"98503-2352\"],[485310.0,\"3608 S 180TH ST\",\"SEATAC\",\"WA\",\"98188\"],[485310.0,\"23731 126TH PL SE\",\"KENT\",\"WA\",\"98031\"],[485310.0,\"189 142ND PL NE\",\"BELLEVUE\",\"WA\",\"98007\"],[485310.0,\"1333 N 125TH ST\",\"SEATTLE\",\"WA\",\"98133\"],[485310.0,\"18025 272ND ST\",\"COVINGTON\",\"WA\",\"98042\"],[485310.0,\"13025 110TH AVE NE\",\"KIRKLAND\",\"WA\",\"98034-6304\"],[485310.0,null,null,null,null],[485310.0,null,null,null,null],[485310.0,null,null,null,null],[485310.0,\" \",\"KAPOWSIN\",\"WA\",null],[485310.0,\"14900 UNION AVE SW\",\"LAKEWOOD\",\"WA\",\"98498-2276\"],[485310.0,\"7315 NE 30TH CT\",\"VANCOUVER\",\"WA\",\"98665-1448\"],[485310.0,\"14021 15TH AVE NE\",\"SEATTLE\",\"WA\",\"98125\"],[485310.0,\"4505 S 217TH ST\",\"KENT\",\"WA\",\"98032\"],[485310.0,\"37700 44TH  AVE  S\",\"AUBURN\",\"WA\",\"98001\"],[485310.0,\"446 S 152ND ST\",\"BURIEN\",\"WA\",\"98148\"],[485310.0,null,null,null,null],[485310.0,\"17015 164TH AVE NE\",\"WOODINVILLE\",\"WA\",\"98072\"],[485310.0,\"2206 S MERIDIAN\",\"PUYALLUP\",\"WA\",\"98371-7550\"],[485310.0,null,null,null,null],[485310.0,null,null,null,null],[485310.0,\"3425 S 176TH ST\",\"SEATAC\",\"WA\",\"98188-4044\"],[485310.0,null,null,null,null],[485310.0,null,null,null,null],[485310.0,\"15019 230TH ST E\",\"GRAHAM\",\"WA\",\"98338\"],[485310.0,\"4412 212TH ST SW\",\"MOUNTLAKE TERRACE\",\"WA\",\"98043\"],[485310.0,\"2101 S 324TH ST\",\"FEDERAL WAY\",\"WA\",\"98003-8597\"],[485310.0,\"5565 S 152ND ST\",\"TUKWILA\",\"WA\",\"98188-7818\"],[485310.0,\"3922 S MEAD ST\",\"SEATTLE\",\"WA\",\"98118\"],[485310.0,\"8401 DELRIDGE WAY SW\",\"SEATTLE\",\"WA\",\"98106-2232\"],[485310.0,\"462 BONDGARD AVE E\",\"ENUMCLAW\",\"WA\",\"98022-2997\"],[485310.0,\"9350 REDMOND WOODINVILLE RD NE\",\"REDMOND\",\"WA\",\"98052\"],[485310.0,\"105 N 3RD AVE SW\",\"TUMWATER\",\"WA\",\"98512\"],[485310.0,\"12610 SE 160TH ST\",\"RENTON\",\"WA\",\"98058\"],[485310.0,\"4425 S 220TH PL\",\"KENT\",\"WA\",\"98032\"],[485310.0,\"321 BOYLSTON AVE E\",\"SEATTLE\",\"WA\",\"98102-5345\"],[485310.0,\"8415 235TH PL SW\",\"EDMONDS\",\"WA\",\"98026\"],[485310.0,null,null,null,null],[485310.0,\"25931 13TH PL S\",\"DES MOINES\",\"WA\",\"98198\"],[485310.0,\"27807 151ST PL SE\",\"KENT\",\"WA\",\"98042-4429\"],[485310.0,null,null,null,null],[485310.0,\"1401 MARVIN RD NE\",\"LACEY\",\"WA\",\"98516\"],[485310.0,null,null,null,null],[485310.0,\"26001 119TH DR SE\",\"KENT\",\"WA\",\"98030-8406\"],[485310.0,\"15405 DES MOINES MEMORIAL DR S\",\"SEATAC\",\"WA\",\"98148-2543\"],[485310.0,\"11020 SE KENT KANGLEY RD\",\"KENT\",\"WA\",\"98030-7255\"],[485310.0,\"4305 S 217TH ST\",\"KENT\",\"WA\",\"98032-1402\"],[485310.0,null,null,null,null],[485310.0,null,null,null,null],[485310.0,\"50101 146TH AVE E\",\"EATONVILLE\",\"WA\",\"98328\"],[485310.0,null,null,null,null],[485310.0,null,null,null,null],[485310.0,null,null,null,null],[485310.0,\"10809 181ST AVE PL E\",\"BONNEY LAKE\",\"WA\",\"98391\"],[485310.0,\"2185 SE TIBURON CT\",\"PORT ORCHARD\",\"WA\",\"98366\"],[485310.0,\"1716 8TH AVE SW\",\"PUYALLUP\",\"WA\",\"98371\"],[485310.0,\" \",\"SHORELINE\",\"WA\",\"98177\"],[485310.0,\"3095 SHEASER WAY\",\"DUPONT\",\"WA\",\"98327\"],[485310.0,\"2309 E MAIN AVE\",\"PUYALLUP\",\"WA\",\"98372\"],[485310.0,\"14207 42ND AVE S\",\"TUKWILA\",\"WA\",\"98168\"],[485310.0,\"425 SE CROSTON LN\",\"ISSAQUAH\",\"WA\",\"98027\"],[485310.0,\"5824 117TH AVENUE CT E\",\"PUYALLUP\",\"WA\",\"98372\"],[485310.0,\"23000 EDMONDS WAY\",\"EDMONDS\",\"WA\",\"98020\"],[485310.0,\"4137 SW FRONTENAC ST\",\"SEATTLE\",\"WA\",\"98136\"],[485310.0,\"1900 SW CAMPUS DR\",\"FEDERAL WAY\",\"WA\",\"98023-6427\"],[485310.0,\"31003 14TH AVE S\",\"FEDERAL WAY\",\"WA\",\"98003-9013\"],[485310.0,\"14511 SE 254TH ST\",\"KENT\",\"WA\",\"98042-3417\"],[485310.0,\"3900 VETERANS DR\",\"KENT\",\"WA\",\"98032-3951\"],[485310.0,\"2016 S 291ST ST\",\"FEDERAL WAY\",\"WA\",\"98003-3819\"],[485310.0,\"1016 S 138TH ST\",\"BURIEN\",\"WA\",\"98168-6636\"],[485310.0,\"28620 PACIFIC HWY S\",\"FEDERAL WAY\",\"WA\",\"98003-9232\"],[485310.0,\"33020 10TH AVE SW\",\"FEDERAL WAY\",\"WA\",\"98023-5714\"],[485310.0,\"12911 SE 231ST WAY\",\"KENT\",\"WA\",\"98031-3641\"],[485310.0,\"2224 NE 175TH ST\",\"SHORELINE\",\"WA\",\"98155\"],[485310.0,\"11020 SE KENT KANGLEY RD\",\"KENT\",\"WA\",\"98030\"],[485310.0,\"10455 DES MOINES MEMORIAL DR S\",\"SEATTLE\",\"WA\",\"98168-1697\"],[485310.0,\"37310 32ND AVE S\",\"AUBURN\",\"WA\",\"98001-8729\"],[485310.0,\"103 CENTER ST W\",\"EATONVILLE\",\"WA\",\"98328-6464\"],[485310.0,\"8709 115TH CT SW\",\"LAKEWOOD\",\"WA\",\"98498\"],[485310.0,\"33051 41ST PL S\",\"FEDERAL WAY\",\"WA\",\"98001-2651\"],[485310.0,\"31227 121ST LANE SE\",\"AUBURN\",\"WA\",\"98092\"],[485310.0,\"25010 111TH AVE SE\",\"KENT\",\"WA\",\"98030\"],[485310.0,\"24447 12TH AVE S\",\"DES MOINES\",\"WA\",\"98198-3867\"],[485310.0,\"2415 THORNDYKE AVE W\",\"SEATTLE\",\"WA\",\"98199\"],[485310.0,\"2013 196TH STREET CT E\",\"SPANAWAY\",\"WA\",\"98387\"],[485310.0,\"12810 SE 241ST ST\",\"KENT\",\"WA\",\"98030-5085\"],[485310.0,\"1025 23RD ST NW\",\"PUYALLUP\",\"WA\",\"98371-3995\"],[485310.0,\"2508 S 317TH ST\",\"FEDERAL WAY\",\"WA\",\"98003-5028\"],[485310.0,\"107 161ST ST S\",\"SPANAWAY\",\"WA\",\"98387\"],[485310.0,\"36010 9TH CT SW\",\"FEDERAL WAY\",\"WA\",\"98023\"],[485310.0,\"1930 SW 318TH PL\",\"FEDERAL WAY\",\"WA\",\"98023\"],[485310.0,\"27106 123RD PLACE SE\",\"KENT\",\"WA\",\"98030\"],[485310.0,\"2511 S GRAHAM ST\",\"SEATTLE\",\"WA\",\"98108-3125\"],[485310.0,\"12610 SE 160TH ST\",\"RENTON\",\"WA\",\"98058\"],[485310.0,\"16763 NE 121ST ST\",\"REDMOND\",\"WA\",\"93852\"],[485310.0,\"10708 174TH AVE E\",\"BONNEY LAKE\",\"WA\",\"98391\"],[485310.0,\"22118 113TH CT SE\",\"KENT\",\"WA\",\"98031\"],[485310.0,\"24129 232ND PL SE\",\"MAPLE VALLEY\",\"WA\",\"98038\"],[485310.0,\"22106 40TH PL S\",\"KENT\",\"WA\",\"98032\"],[485310.0,\"1125 102ND AVE\",\"BELLEVUE\",\"WA\",\"98004\"],[485310.0,\"29411 4TH AVE S\",\"FEDERAL WAY\",\"WA\",\"98003\"],[485310.0,\"307 2ND AVE NE\",\"PUYALLUP\",\"WA\",\"98372\"],[485310.0,\"11510 E RIVERSIDE DR\",\"BOTHELL\",\"WA\",\"98011\"],[485310.0,\"4628 S 160TH ST\",\"TUKWILA\",\"WA\",\"98188-2758\"],[485310.0,\"13030 LINDEN AVE N\",\"SEATTLE\",\"WA\",\"98133\"],[485310.0,\"30344 125TH CT SE\",\"AUBURN\",\"WA\",\"98092-2291\"],[485310.0,\"25623 98TH AVE S\",\"KENT\",\"WA\",\"98030-6147\"],[485310.0,\"14240 YELM HWY SE\",\"YELM\",\"WA\",\"98597\"],[485310.0,\"1147 GLENNWOOD AVE NE\",\"RENTON\",\"WA\",\"98056\"],[485310.0,\"25623 98TH AVE S\",\"KENT\",\"WA\",\"98030\"],[485310.0,\"14605 WALLINGFORD AVE N\",\"SHORELINE\",\"WA\",\"98133\"],[485310.0,\"15627 129TH PL SE\",\"RENTON\",\"WA\",\"98058\"],[485310.0,\"14330 126TH AVE NE\",\"KIRKLAND\",\"WA\",\"98034\"],[485310.0,\"14921 93RD BLVD NE\",\"BOTHELL\",\"WA\",\"98011\"],[485310.0,\"23921 139TH PL SE\",\"KENT\",\"WA\",\"98042\"],[485310.0,\"11108 CHENNAULT BEACH RD\",\"MUKILTEO\",\"WA\",\"98275\"],[485310.0,\"2510 WOODS DR\",\"STEILACOOM\",\"WA\",\"98388-4233\"],[485310.0,\"22048 102ND PL SE\",\"KENT\",\"WA\",\"98031-9500\"],[485310.0,\"18015 116TH AVE SE\",\"RENTON\",\"WA\",\"98058-6564\"],[485310.0,\"1605 ELIZABETH LN\",\"GOLD BAR\",\"WA\",\"98251-9237\"],[485310.0,\"2911 18TH ST SE\",\"PUYALLUP\",\"WA\",\"98374-6323\"],[485310.0,\"4417 S 217TH PL\",\"KENT\",\"WA\",\"98032-2307\"],[485310.0,null,null,null,null],[485310.0,\"21105 131ST AVE E\",\"GRAHAM\",\"WA\",\"98338\"],[485310.0,\"3900 VETERANS DR\",\"KENT\",\"WA\",\"98032-3934\"],[485310.0,null,null,null,null],[485310.0,\"31900 2ND LN SW\",\"FEDERAL WAY\",\"WA\",\"98023-4653\"],[485310.0,\"12033 1st AVE S\",\"SEATTLE\",\"WA\",\"98168-5033\"],[485310.0,\"333 s 320TH ST\",\"FEDERAL WAY\",\"WA\",\"98003-4614\"],[485310.0,\"2230 n 106TH ST\",\"SEATTLE\",\"WA\",\"98133-9560\"],[485310.0,\"440 21ST NW\",\"PUYALLUP\",\"WA\",\"98371\"],[485310.0,\"15415 139TH AVE SE\",\"RENTON\",\"WA\",\"98058\"],[485310.0,\"16400 84TH CT SE\",\"YELM\",\"WA\",\"98597\"],[485310.0,null,null,null,null],[485310.0,null,null,null,null],[485310.0,\"913 VASHON PL NE\",\"RENTON\",\"WA\",\"98059-4569\"],[485310.0,\"987 LUMMI DR\",\"FOX ISLAND\",\"WA\",\"98333\"],[485310.0,\"1675 MOTTMAN RD SW\",\"TUMWATER\",\"WA\",\"98512\"],[485310.0,null,null,null,null],[485310.0,null,null,null,null],[485310.0,null,null,null,null],[485310.0,null,null,null,null],[485310.0,\"3425 S 253RD ST\",\"KENT\",\"WA\",\"98032-9746\"],[485310.0,\"15819 42ND AVE S\",\"TUKWILA\",\"WA\",\"98188-2644\"],[485310.0,null,null,null,null],[485310.0,null,null,null,null],[485310.0,null,null,null,null],[485310.0,null,null,null,null],[485310.0,\" \",\"STEILACOOM\",\"WA\",\"98388\"],[485310.0,\"1922 28TH AVE SW\",\"PUYALLUP\",\"WA\",\"98373-1362\"],[485310.0,null,null,null,null],[485310.0,null,null,null,null],[485310.0,null,null,null,null],[485310.0,\"6806 OSWEGO PL NE\",\"SEATTLE\",\"WA\",\"98115\"],[485310.0,null,null,null,null],[485310.0,null,null,null,null],[485310.0,null,null,null,null],[485310.0,null,null,null,null],[485310.0,null,null,null,null],[485310.0,null,null,null,null],[485310.0,null,null,null,null],[485310.0,null,null,null,null],[485310.0,null,null,null,null],[485310.0,null,null,null,null],[485310.0,null,null,null,null],[485310.0,\"13230 NE 139TH PL\",\"KIRKLAND\",\"WA\",\"98034-5523\"],[485310.0,\"16823  7TH AVE CT E\",\"SPANAWAY\",\"WA\",\"98387\"],[485310.0,\"2316 BURBANK AVE NW\",\"OLYMPIA\",\"WA\",\"98502-8384\"],[485310.0,\"3516 S 146TH ST\",\"TUKWILA\",\"WA\",\"98168-4342\"],[485310.0,\"17223 32ND AVE S\",\"SEATAC\",\"WA\",\"98188-4409\"],[485310.0,\"4718 S 124TH ST\",\"TUKWILA\",\"WA\",\"98178-3450\"],[485310.0,\"14008 6TH AVE S\",\"BURIEN\",\"WA\",\"98168-3523\"],[485310.0,\"12530 87TH PL NE\",\"KIRKLAND\",\"WA\",\"98034-2651\"],[485310.0,\"23519 SE 254TH ST\",\"MAPLE VALLEY\",\"WA\",\"98038-6055\"],[485310.0,\"2614 SW 332ND PL\",\"FEDERAL WAY\",\"WA\",\"98023-2746\"],[485310.0,\"22692 129TH PL SE\",\"KENT\",\"WA\",\"98031-3978\"],[485310.0,\"3012 S HOLLY ST\",\"SEATTLE\",\"WA\",\"98108-3780\"],[485310.0,null,null,null,null],[485310.0,null,null,null,null],[485310.0,null,null,null,null],[485310.0,\"9317 220TH STREET CT E\",\"GRAHAM\",\"WA\",\"98338-9197\"],[485310.0,null,null,null,null],[485310.0,\"1727 SUMMIT AVE\",\"SEATTLE\",\"WA\",\"98122-2151\"],[485310.0,\"600 ELLINGSON RD\",\"PACIFIC\",\"WA\",\"98047-1286\"],[485310.0,null,null,null,null],[485310.0,null,null,null,null],[485310.0,null,null,null,null],[485310.0,null,null,null,null],[485310.0,null,null,null,null],[485310.0,null,null,null,null],[485310.0,null,null,null,null],[485310.0,null,null,null,null],[485310.0,\"3900 VETERANS DR\",\"KENT\",\"WA\",\"98032-3954\"],[485310.0,\"21013 82ND ST E\",\"BONNEY LAKE\",\"WA\",\"98391-8326\"],[485310.0,\"3129 S 381ST WAY\",\"AUBURN\",\"WA\",\"98001-8767\"],[485310.0,\"1318 OLSEN AVE\",\"BUCKLEY\",\"WA\",\"98321\"],[485310.0,\"10418 NE 115TH PL\",\"KIRKLAND\",\"WA\",\"98033-4302\"],[485310.0,null,null,null,null],[485310.0,null,null,null,null],[485310.0,\"40 THUNDERBIRD PKWY SW\",\"LAKEWOOD\",\"WA\",\"98498-6119\"],[485310.0,null,null,null,null],[485310.0,null,null,null,null],[485310.0,\"14914 13TH AVE S\",\"SPANAWAY\",\"WA\",\"98387\"],[485310.0,null,null,null,null],[485310.0,null,null,null,null],[485310.0,\"35209 172ND AVE SE\",\"AUBURN\",\"WA\",\"98092-2616\"],[485310.0,null,null,null,null],[485310.0,null,null,null,null],[485310.0,null,null,null,null],[485310.0,null,null,null,null],[485310.0,null,null,null,null],[485310.0,null,null,null,null],[485310.0,null,null,null,null],[485310.0,null,null,null,null],[485310.0,\"2101 S 324TH ST\",\"FEDERAL WAY\",\"WA\",\"98003-8597\"],[485310.0,null,null,null,null],[485310.0,\"18859 SE 244TH PL\",\"COVINGTON\",\"WA\",\"98042\"],[485310.0,\"11616 SE 230TH PL\",\"KENT\",\"WA\",\"98031-3746\"],[485310.0,\"26212 121ST AVE SE\",\"KENT\",\"WA\",\"98030\"],[485310.0,\"5902 OLIVE AVE SE\",\"AUBURN\",\"WA\",\"98092\"],[485310.0,\"9214 32ND AVE SW\",\"SEATTLE\",\"WA\",\"98126-3817\"],[485310.0,\"9736 6TH PL SW\",\"SEATTLE\",\"WA\",\"98106\"],[485310.0,\"23407 140TH AVE SE\",\"KENT\",\"WA\",\"98042\"],[485310.0,\"721 SW 328TH ST\",\"FEDERAL WAY\",\"WA\",\"98023\"],[485310.0,\"12508 LAKE CITY WAY NE\",\"SEATTLE\",\"WA\",\"98125\"],[485310.0,null,null,null,null],[485310.0,null,null,null,null],[485310.0,null,null,null,null],[485310.0,null,null,null,null],[485310.0,null,null,null,null],[485310.0,null,null,null,null],[485310.0,null,null,null,null],[485310.0,null,null,null,null],[485310.0,null,null,null,null],[485310.0,null,null,null,null],[485310.0,null,null,null,null],[485310.0,null,null,null,null],[485310.0,null,null,null,null],[485310.0,null,null,null,null],[485310.0,null,null,null,null],[485310.0,null,null,null,null],[485310.0,null,null,null,null],[485310.0,null,null,null,null],[485310.0,null,null,null,null],[485310.0,null,null,null,null],[485310.0,null,null,null,null],[485310.0,null,null,null,null],[485310.0,null,null,null,null],[485310.0,null,null,null,null],[485310.0,\"21800 PACIFIC HWY S\",\"DES MOINES\",\"WA\",\"98198\"],[485310.0,\"33628 7TH PL SW\",\"FEDERAL WAY\",\"WA\",\"98023-5004\"],[485310.0,\"3702 AUBURN WAY S\",\"AUBURN\",\"WA\",\"98092-6242\"],[485310.0,\"17223 32ND AVE S\",\"SEATAC\",\"WA\",\"98188-4415\"],[485310.0,\"7263 38TH AVE S\",\"SEATTLE\",\"WA\",\"98118-6407\"],[485310.0,\"3223 S 204TH PL\",\"SEATAC\",\"WA\",\"98198-5875\"],[485310.0,\"28620 PACIFIC HWY S\",\"FEDERAL WAY\",\"WA\",\"98003-9233\"],[485310.0,\"30316 24TH PL S\",\"FEDERAL WAY\",\"WA\",\"98003-4200\"],[485310.0,\"2118 S 107TH ST\",\"SEATTLE\",\"WA\",\"98168-1758\"],[485310.0,\"25830 26TH PL S\",\"KENT\",\"WA\",\"98032-6318\"],[485310.0,\"9700 RENTON  AVE S\",\"SEATTLE\",\"WA\",\"98118\"],[485310.0,\"8801 DELRIDGE WAY SW\",\"SEATTLE\",\"WA\",\"98106\"],[485310.0,null,null,null,null],[485310.0,\"2741 S 242ND ST\",\"DES MOINES\",\"WA\",\"98198\"],[485310.0,null,null,null,null],[485310.0,null,null,null,null],[485310.0,null,null,null,null],[485310.0,null,null,null,null],[485310.0,null,null,null,null],[485310.0,null,null,null,null],[485310.0,null,null,null,null],[485310.0,\"2002 177TH ST CT E\",\"SPANAWAY\",\"WA\",\"98387-2914\"],[485310.0,null,null,null,null],[485310.0,\"602 5TH ST\",\"STEILACOOM\",\"WA\",\"98388-1802\"],[485310.0,\"7734 40TH ST W\",\"UNIVERSITY PLACE\",\"WA\",\"98466-3114\"],[485310.0,\"10202 LAKEVIEW AVE SW\",\"LAKEWOOD\",\"WA\",\"98499\"],[485310.0,\"6350 RADIANCE BLVD E\",\"FIFE\",\"WA\",\"98424\"],[485310.0,\"6601 S TYLER ST\",\"TACOMA\",\"WA\",\"98409\"],[485310.0,\"5545 34TH ST LOOP NE\",\"TACOMA\",\"WA\",\"98422-3105\"],[485310.0,\"1405 E 53RD ST\",\"TACOMA\",\"WA\",\"98404\"],[485310.0,\"1554 MARKET ST\",\"TACOMA\",\"WA\",\"98402\"],[485310.0,\"38 N SALMON BEACH\",\"TACOMA\",\"WA\",\"98407\"],[485310.0,\"2102 DAVIS CT NE\",\"TACOMA\",\"WA\",\"98422-4533\"],[485310.0,\"14410 4TH AVE CT E\",\"PARKLAND\",\"WA\",\"98445\"],[485310.0,\"7406 27TH ST W\",\"UNIVERSITY PLACE\",\"WA\",\"98466\"],[485310.0,\"4750 AUBURN WAY N\",\"AUBURN\",\"WA\",\"98002-2014\"],[485310.0,\"4750 AUBURN WAY N\",\"AUBURN\",\"WA\",\"98002-2030\"],[485310.0,\"2108 S 90TH ST\",\"TACOMA\",\"WA\",\"98444\"],[485310.0,\"2616 21ST AVE S\",\"SEATTLE\",\"WA\",\"98144\"],[485310.0,\"6552 21ST AVE NW\",\"SEATTLE\",\"WA\",\"98117\"],[485310.0,\"758 OAKHURST DR\",\"PACIFIC\",\"WA\",\"98047\"],[485310.0,\"77 S WASHINGTON ST\",\"SEATTLE\",\"WA\",\"98104\"],[485310.0,\"3817 S TYLER ST\",\"TACOMA\",\"WA\",\"98409-2131\"],[485310.0,\" \",\"TACOMA\",\"WA\",null],[485310.0,\"7407 E D ST\",\"TACOMA\",\"WA\",\"98404-1079\"],[485310.0,\"9402 E D ST\",\"TACOMA\",\"WA\",\"98445-2144\"],[485310.0,\"1111 S HIGHLAND AVE\",\"TACOMA\",\"WA\",\"98465-2327\"],[485310.0,\"7623 E D ST\",\"TACOMA\",\"WA\",\"98404-1038\"],[485310.0,\"7317 46TH ST CT W\",\"UNIVERSITY PLACE\",\"WA\",\"98466-4248\"],[485310.0,\"7406 27TH ST W\",\"TACOMA\",\"WA\",\"98466\"],[485310.0,\"2232 SE  3RD ST\",\"RENTON\",\"WA\",\"98056\"],[485310.0,\"5107 115TH ST SW\",\"LAKEWOOD\",\"WA\",\"98499\"],[485310.0,\"2610 E BAY ST\",\"TACOMA\",\"WA\",\"98421-2611\"],[485310.0,\"7700 RAINIER AVE S\",\"SEATTLE\",\"WA\",\"98118\"],[485310.0,\"2220 WESTRIDGE AVE W\",\"TACOMA\",\"WA\",\"98466\"],[485310.0,\"3114 S 15TH ST\",\"TACOMA\",\"WA\",\"98405-2417\"],[485310.0,\"902 M ST SE\",\"AUBURN\",\"WA\",\"98002\"],[485310.0,\"13102 NE 90TH ST\",\"KIRKLAND\",\"WA\",\"98033\"],[485310.0,\"23108 50TH AVE SOUTH\",\"KENT\",\"WA\",\"98032\"],[485310.0,\"4866 S 48TH ST\",\"TACOMA\",\"WA\",\"98409-1906\"],[485310.0,\"13537 35TH AVE S\",\"TUKWILA\",\"WA\",\"98168\"],[485310.0,\"2901 S 45TH ST\",\"TACOMA\",\"WA\",\"98409-6525\"],[485310.0,\"2108 S 90TH ST\",\"TACOMA\",\"WA\",\"98444-1816\"],[485310.0,\"10202 LAKEVIEW AVE SW\",\"LAKEWOOD\",\"WA\",\"98499\"],[485310.0,\"5601 N 37TH ST\",\"TACOMA\",\"WA\",\"98407-0000\"],[485310.0,\"3414 E M ST\",\"TACOMA\",\"WA\",\"98404\"],[485310.0,\"25 THUNDERBIRD PKWY SW\",\"LAKEWOOD\",\"WA\",\"98498-6182\"],[485310.0,\"3606 E SPOKANE ST\",\"TACOMA\",\"WA\",\"98404-3026\"],[485310.0,\"625 N JACKSON AVE\",\"TACOMA\",\"WA\",\"98406-1238\"],[485310.0,\"1120 S 23RD ST\",\"TACOMA\",\"WA\",\"98405-3405\"],[485310.0,\"10202 LAKEVIEW AVE SW\",\"LAKEWOOD\",\"WA\",\"98499-4223\"],[485310.0,\"1514 S 73RD ST\",\"TACOMA\",\"WA\",\"98408-2131\"],[485310.0,\"2108 S 90TH ST\",\"TACOMA\",\"WA\",\"98444\"],[485310.0,\"6824 19TH ST W\",\"UNIVERSITY PLACE\",\"WA\",\"98466-5528\"],[485310.0,\"12618 10TH AVE S\",\"BURIEN\",\"WA\",\"98168\"],[485310.0,\"3420 S MADISON ST\",\"TACOMA\",\"WA\",\"98409-2212\"],[485310.0,\"17002 6TH AVENUE CT E\",\"SPANAWAY\",\"WA\",\"98387-7807\"],[485310.0,\"9819 PARK AVE S\",\"TACOMA\",\"WA\",\"98444-5934\"],[485310.0,\"4925 30TH ST NE\",\"TACOMA\",\"WA\",\"98422-2901\"],[485310.0,\"4600 16TH ST E\",\"FIFE\",\"WA\",\"98424-2634\"],[485310.0,\"2108 S 90TH ST\",\"TACOMA\",\"WA\",\"98444\"],[485310.0,\"7305 N SKYVIEW PL\",\"TACOMA\",\"WA\",\"98406-1301\"],[485310.0,\"1419 S 5TH ST\",\"TACOMA\",\"WA\",\"98405-3711\"],[485310.0,\"185 BIRCH DR\",\"ENUMCLAW\",\"WA\",\"98022\"],[485310.0,\"3302 N VASSAULT ST\",\"TACOMA\",\"WA\",\"98407\"],[485310.0,\"7406 27TH ST W\",\"UNIVERSITY PLACE\",\"WA\",\"98406\"],[485310.0,\"7406 27TH ST W\",\"UNIVERSITY PLACE\",\"WA\",\"98466-4632\"],[485310.0,\"2536 42ND AVE SE\",\"OLYMPIA\",\"WA\",\"98501-4298\"],[485310.0,\"708 MARKET ST\",\"TACOMA\",\"WA\",\"98402-3747\"],[485310.0,\"3902 52ND ST NE\",\"TACOMA\",\"WA\",\"98422\"],[485310.0,\"2726 60TH AVE SW\",\"SEATTLE\",\"WA\",\"98116\"],[485310.0,\"5518 76TH ST W\",\"LAKEWOOD\",\"WA\",\"98499\"],[485310.0,\"2902 S ADAMS ST\",\"TACOMA\",\"WA\",\"98409-3308\"],[485310.0,\"5311 CHICAGO AVE SW\",\"LAKEWOOD\",\"WA\",\"98499-5712\"],[485310.0,\"1604 W JAMES PL\",\"KENT\",\"WA\",\"98032\"],[485310.0,\"1700 17TH AVE\",\"SEATTLE\",\"WA\",\"98122\"],[485310.0,\"10202 PACIFIC AVE S\",\"TACOMA\",\"WA\",\"98444\"],[485310.0,\"401 37TH ST SE\",\"AUBURN\",\"WA\",\"98002\"],[485310.0,\"7406 27TH ST W\",\"TACOMA\",\"WA\",\"98466-4632\"],[485310.0,\"1149 N SKYLINE DR\",\"TACOMA\",\"WA\",\"98406-1823\"],[485310.0,\"6020 78TH STREET CT W\",\"LAKEWOOD\",\"WA\",\"98499-2680\"],[485310.0,\"1302 N 6TH ST\",\"TACOMA\",\"WA\",\"98403-1344\"],[485310.0,\"6601 S 8TH ST\",\"TACOMA\",\"WA\",\"98465-2087\"],[485310.0,\"4602 S 55TH ST\",\"TACOMA\",\"WA\",\"98409-1846\"],[485310.0,\"5714 59TH STREET CT W\",\"UNIVERSITY PLACE\",\"WA\",\"98467-2859\"],[485310.0,\"207 5TH AVE SW\",\"PUYALLUP\",\"WA\",\"98371-1958\"],[485310.0,\"3219 N WHITMAN ST\",\"TACOMA\",\"WA\",\"98407\"],[485310.0,\"4275 S PINE ST\",\"TACOMA\",\"WA\",\"98409-6573\"],[485310.0,\"14422 34TH AVE S\",\"TUKWILA\",\"WA\",\"98168\"],[485310.0,\"6130 36TH ST SE\",\"AUBURN\",\"WA\",\"98092\"],[485310.0,\"11313 8TH PL W\",\"EVERETT\",\"WA\",\"98204\"],[485310.0,\"2715 13TH AVE NW\",\"PUYALLUP\",\"WA\",\"98371\"],[485310.0,\"7406 27TH ST W\",\"UNIVERSITY PLACE\",\"WA\",\"98466-4632\"],[485310.0,\"5808 91ST STREET SW\",\"LAKEWOOD\",\"WA\",\"98499-6112\"],[485310.0,\"2125 215TH STREET CT E\",\"SPANAWAY\",\"WA\",\"98387\"],[485310.0,\"1307 187TH ST CT E\",\"SPANAWAY\",\"WA\",\"98387\"],[485310.0,\"10601 DOTEN DR SW\",\"LAKEWOOD\",\"WA\",\"98499\"],[485310.0,\"4516 36TH AVE W\",\"SEATTLE\",\"WA\",\"98199\"],[485310.0,\"19513 73RD AVE W\",\"LYNNWOOD\",\"WA\",\"98036\"],[485310.0,\"1419 E 62ND ST\",\"TACOMA\",\"WA\",\"98404-3537\"],[485310.0,\"12732 ROOSEVELT WAY NE\",\"SEATTLE\",\"WA\",\"98125\"],[485310.0,\"818 S 11TH ST\",\"TACOMA\",\"WA\",\"98405-4527\"],[485310.0,\"1925 S I ST\",\"TACOMA\",\"WA\",\"98405\"],[485310.0,\"1101 E 53RD ST\",\"TACOMA\",\"WA\",\"98404-2720\"],[485310.0,\"5507 E E ST\",\"TACOMA\",\"WA\",\"98404-2055\"],[485310.0,\"10202 LAKEVIEW AVE SW\",\"LAKEWOOD\",\"WA\",\"98499\"],[485310.0,\"1907 LIGHTHOUSE LN NE\",\"TACOMA\",\"WA\",\"98422-3467\"],[485310.0,\"5030 S 58TH ST\",\"TACOMA\",\"WA\",\"98409-1307\"],[485310.0,\"5627 S OAKES ST\",\"TACOMA\",\"WA\",\"98409-6211\"],[485310.0,\"729 S VASSAULT ST\",\"TACOMA\",\"WA\",\"98465-0000\"],[485310.0,\"501 S 43RD ST\",\"TACOMA\",\"WA\",\"98418-6616\"],[485310.0,\"6736 S MASON AVE\",\"TACOMA\",\"WA\",\"98409-1538\"],[485310.0,\"4101 N 26TH ST\",\"TACOMA\",\"WA\",\"98407\"],[485310.0,\"7241 S MONROE ST\",\"TACOMA\",\"WA\",\"98409-2445\"],[485310.0,\"1418 S MILDRED ST\",\"TACOMA\",\"WA\",\"98465-2909\"],[485310.0,\"1307 10TH AVE\",\"MILTON\",\"WA\",\"98354-8825\"],[485310.0,\"5010 SW 317TH LN\",\"FEDERAL WAY\",\"WA\",\"98023-3770\"],[485310.0,\"1334 E 49TH ST\",\"TACOMA\",\"WA\",\"98404-3617\"],[485310.0,\"1800 S 330TH ST\",\"FEDERAL WAY\",\"WA\",\"98003-9421\"],[485310.0,\"6714 16TH AVE SW\",\"SEATTLE\",\"WA\",\"98106\"],[485310.0,\"7406 27TH ST W\",\"UNIVERSITY PLACE\",\"WA\",\"98466-4636\"],[485310.0,\"1717 S 96TH ST\",\"TACOMA\",\"WA\",\"98444-2803\"],[485310.0,\"8212 29TH AVE CT S\",\"LAKEWOOD\",\"WA\",\"98499-8828\"],[485310.0,\"419 E 43RD ST\",\"TACOMA\",\"WA\",\"98404\"],[485310.0,\"3521 S ORCHARD ST\",\"TACOMA\",\"WA\",\"98466\"],[485310.0,\"518 NW 60TH ST\",\"SEATTLE\",\"WA\",\"98107\"],[485310.0,\"6307 58TH AVE SE\",\"LACEY\",\"WA\",\"98513\"],[485310.0,\"5015 S L ST\",\"TACOMA\",\"WA\",\"98408-3631\"],[485310.0,\"2108 S 90TH ST\",\"TACOMA\",\"WA\",\"98444\"],[485310.0,\"7342 S WILKESON ST\",\"TACOMA\",\"WA\",\"98408-1226\"],[485310.0,\"819 S 16TH ST\",\"TACOMA\",\"WA\",\"98405-5045\"],[485310.0,\"3015 N PEARL ST\",\"TACOMA\",\"WA\",\"98407-0000\"],[485310.0,\"4111 N 25TH ST\",\"TACOMA\",\"WA\",\"98406-4824\"],[485310.0,\"4823 E M ST\",\"TACOMA\",\"WA\",\"98404-3650\"],[485310.0,\"1730 J ST NE\",\"AUBURN\",\"WA\",\"98002-3341\"],[485310.0,\"7406 27TH ST W\",\"TACOMA\",\"WA\",\"98466\"],[485310.0,\"7406 27TH ST W\",\"UNIVERSITY PLACE\",\"WA\",\"98466-4632\"],[485310.0,\"1513 S 81ST ST\",\"TACOMA\",\"WA\",\"98408-1910\"],[485310.0,\"1614 S 84TH ST\",\"TACOMA\",\"WA\",\"98444\"],[485310.0,\"416 S 48TH ST\",\"TACOMA\",\"WA\",\"98408-6522\"],[485310.0,\"1134 FAWCETT AVE\",\"TACOMA\",\"WA\",\"98402\"],[485310.0,\"8315 83RD ST SW\",\"LAKEWOOD\",\"WA\",\"98498\"],[485310.0,\"2755 SE 4TH ST\",\"RENTON\",\"WA\",\"98056\"],[485310.0,\"912 N 96TH ST\",\"SEATTLE\",\"WA\",\"98103\"],[485310.0,\"2603 S 19TH ST\",\"TACOMA\",\"WA\",\"98405\"],[485310.0,\"3225 NE 25TH ST\",\"RENTON\",\"WA\",\"98056\"],[485310.0,\"3015 N PEARL ST.\",\"TACOMA\",\"WA\",\"98407\"],[485310.0,\"819 9TH AVE NW\",\"PUYALLUP\",\"WA\",\"98371\"],[485310.0,\"4114 S THOMPSON AVE\",\"TACOMA\",\"WA\",\"98418\"],[485310.0,\"4001 S PINE ST\",\"TACOMA\",\"WA\",\"98413\"],[485310.0,\"1614 S 84TH ST\",\"TACOMA\",\"WA\",\"98444-3112\"],[485310.0,\"7601 146TH ST SW\",\"LAKEWOOD\",\"WA\",\"98439-1103\"],[485310.0,\"1020 S HOWARD ST\",\"TACOMA\",\"WA\",\"98465-1818\"],[485310.0,\"28707 20TH AVE S\",\"FEDERAL WAY\",\"WA\",\"98003-3234\"],[485310.0,\"4215 S 30TH ST\",\"TACOMA\",\"WA\",\"98409-3263\"],[485310.0,\"139 E 66TH ST\",\"TACOMA\",\"WA\",\"98404\"],[485310.0,\"9507 MAPLE AVE SW\",\"LAKEWOOD\",\"WA\",\"98499\"],[485310.0,\"14600 NE 32ND ST\",\"BELLEVUE\",\"WA\",\"98007\"],[485310.0,\"11626 SE 210TH PL\",\"KENT\",\"WA\",\"98031\"],[485310.0,\"9043 S D ST\",\"TACOMA\",\"WA\",\"98444\"],[485310.0,\"2831 14TH AVE W\",\"SEATTLE\",\"WA\",\"98119\"],[485310.0,\"14508 SE 24TH ST\",\"BELLEVUE\",\"WA\",\"98007\"],[485310.0,\"1347 17TH ST SE\",\"AUBURN\",\"WA\",\"98002\"],[485310.0,\"1140 5TH AVE\",\"EDMONDS\",\"WA\",\"98020\"],[485310.0,\"10008 32ND ST E\",\"EDGEWOOD\",\"WA\",\"98371\"],[485310.0,\"24321 17TH AVE S\",\"DES MOINES\",\"WA\",\"98198\"],[485310.0,\"3726 PACIFIC AVE SE\",\"OLYMPIA\",\"WA\",\"98501-2170\"],[485310.0,\"12606 117TH AVENUE CT E\",\"PUYALLUP\",\"WA\",\"98374-4071\"],[485310.0,\"6410 60TH ST W\",\"UNIVERSITY PLACE\",\"WA\",\"98467-0000\"],[485310.0,\"5002 52ND AVENUE CT W\",\"UNIVERSITY PLACE\",\"WA\",\"98467\"],[485310.0,\"5043 S TRAFTON ST\",\"TACOMA\",\"WA\",\"98409-7143\"],[485310.0,\"319 N I ST\",\"TACOMA\",\"WA\",\"98403-0000\"],[485310.0,\"763 S 74TH ST\",\"TACOMA\",\"WA\",\"98408-5408\"],[485310.0,\"8307 83RD AVENUE CT SW\",\"LAKEWOOD\",\"WA\",\"98498-4783\"],[485310.0,\"1907 LIGHTHOUSE LN NE\",\"TACOMA\",\"WA\",\"98422\"],[485310.0,\"1615 VALLEY AVE E\",\"SUMNER\",\"WA\",\"98390\"],[485310.0,\"7313 95TH AVE SW\",\"LAKEWOOD\",\"WA\",\"98498-3310\"],[485310.0,\"4840 S PARK AVE\",\"TACOMA\",\"WA\",\"98408-5720\"],[485310.0,\"4114 N 10TH ST\",\"TACOMA\",\"WA\",\"98406-4516\"],[485310.0,\"3815 N PEARL ST\",\"TACOMA\",\"WA\",\"98407-2628\"],[485310.0,\"4750 auburn WAY N\",\"AUBURN\",\"WA\",\"98002-2028\"],[485310.0,\"2112 S 90TH ST\",\"TACOMA\",\"WA\",\"98444-1806\"],[485310.0,\"9508 56TH AVE SW\",\"LAKEWOOD\",\"WA\",\"98499\"],[485310.0,\"3514 S 180TH ST\",\"SEATAC\",\"WA\",\"98188\"],[485310.0,\"16815 PACIFIC AVE S\",\"SPANAWAY\",\"WA\",\"98387-0569\"],[485310.0,\"2522 14TH AVE S\",\"SEATTLE\",\"WA\",\"98144-5076\"],[485310.0,\"708 N L ST\",\"TACOMA\",\"WA\",\"98403\"],[485310.0,\"1445 E 48TH ST\",\"TACOMA\",\"WA\",\"98404\"],[485310.0,\"6406 S 10TH ST\",\"TACOMA\",\"WA\",\"98465-2003\"],[485310.0,\"1027 E 47TH ST\",\"TACOMA\",\"WA\",\"98404-2804\"],[485310.0,\"3719 N 28TH ST\",\"TACOMA\",\"WA\",\"98407-5913\"],[485310.0,\"7406 27TH ST W\",\"UNIVERSITY PLACE\",\"WA\",\"98466\"],[485310.0,\"3503 70TH AVE E\",\"FIFE\",\"WA\",\"98424-3861\"],[485310.0,\"6239 S WARNER ST\",\"TACOMA\",\"WA\",\"98409-4129\"],[485310.0,\"509 N YAKIMA AVE\",\"TACOMA\",\"WA\",\"98403-2336\"],[485310.0,\"5715 N 30TH ST\",\"TACOMA\",\"WA\",\"98407-2401\"],[485310.0,\"714 E MORTON ST\",\"TACOMA\",\"WA\",\"98404-2168\"],[485310.0,\"5714 23RD ST E\",\"FIFE\",\"WA\",\"98424-4512\"],[485310.0,\"7121 CITRINE LN SW\",\"LAKEWOOD\",\"WA\",\"98498\"],[485310.0,\"9334 S STEELE ST\",\"TACOMA\",\"WA\",\"98444-1874\"],[485310.0,\"8941 GRAVELLY LAKE DR SW\",\"LAKEWOOD\",\"WA\",\"98499-3127\"],[485310.0,\"4802 S PINE ST\",\"TACOMA\",\"WA\",\"98409\"],[485310.0,\"1918 63RD AVE NE\",\"TACOMA\",\"WA\",\"98422-3626\"],[485310.0,\"1004 ARLEO LN\",\"FIRCREST\",\"WA\",\"98466-6573\"],[485310.0,\"1520 N PROSPECT ST\",\"TACOMA\",\"WA\",\"98406-8108\"],[485310.0,\"8640 FAWCETT AVE\",\"TACOMA\",\"WA\",\"98444\"],[485310.0,\"810 ALTA VISTA PL\",\"FIRCREST\",\"WA\",\"98466-7020\"],[485310.0,\"3819 S L ST\",\"TACOMA\",\"WA\",\"98418-3931\"],[485310.0,\"4802 NASSAU AVE NE\",\"TACOMA\",\"WA\",\"98422-0000\"],[485310.0,\"3815 N PEARL ST\",\"TACOMA\",\"WA\",\"98407-2619\"],[485310.0,\"9210 South Hosmer\",\"TACOMA\",\"WA\",\"98444\"],[485310.0,\"4720 S PINE ST\",\"TACOMA\",\"WA\",\"98409-0000\"],[485310.0,\"6726 82ND ST SW\",\"LAKEWOOD\",\"WA\",\"98499-2521\"],[485310.0,\"1807 S HIGHLAND AVE\",\"TACOMA\",\"WA\",\"98465-2213\"],[485310.0,\"7509 89TH AVE SW\",\"LAKEWOOD\",\"WA\",\"98498-3925\"],[485310.0,\"18102 76TH AVE E\",\"PUYALLUP\",\"WA\",\"98375-7532\"],[485310.0,\"3723 70TH AVE W\",\"UNIVERSITY PLACE\",\"WA\",\"98466-5138\"],[485310.0,\"8401 82ND ST SW\",\"LAKEWOOD\",\"WA\",\"98498-7249\"],[485310.0,\"17845 130TH AVE E\",\"PUYALLUP\",\"WA\",\"98374-9821\"],[485310.0,\"1908 S 21ST ST\",\"TACOMA\",\"WA\",\"98405\"],[485310.0,\"4602 S 55TH ST\",\"TACOMA\",\"WA\",\"98409\"],[485310.0,\"7406 27TH ST W\",\"UNIVERSITY PLACE\",\"WA\",\"98466\"],[485310.0,\"5625 29TH ST NE\",\"TACOMA\",\"WA\",\"98422-3205\"],[485310.0,\"4112 S K ST\",\"TACOMA\",\"WA\",\"98418-3828\"],[485310.0,\"1002 N TACOMA AVE\",\"TACOMA\",\"WA\",\"98403-2929\"],[485310.0,\"9324 S STEELE ST\",\"TACOMA\",\"WA\",\"98444-6853\"],[485310.0,\"2617 N ORCHARD ST\",\"TACOMA\",\"WA\",\"98407-3942\"],[485310.0,\"3415 S 45TH ST\",\"TACOMA\",\"WA\",\"98409-4533\"],[485310.0,\"4802 108TH ST SW\",\"LAKEWOOD\",\"WA\",\"98499-3705\"],[485310.0,\"6403 S 12TH ST\",\"TACOMA\",\"WA\",\"98465-1908\"],[485310.0,\"1704 E 42ND ST\",\"TACOMA\",\"WA\",\"98404\"],[485310.0,\"7645 PACIFIC AVE\",\"TACOMA\",\"WA\",\"98408-7004\"],[485310.0,\"6931 S MASON AVE\",\"TACOMA\",\"WA\",\"98409-1539\"],[485310.0,\"612 S GRANT AVE\",\"TACOMA\",\"WA\",\"98405\"],[485310.0,\"1745 E 39TH ST\",\"TACOMA\",\"WA\",\"98404\"],[485310.0,\"2108 S 90TH ST\",\"TACOMA\",\"WA\",\"98444-1816\"],[485310.0,\"10202 LAKEVIEW AVE SW\",\"LAKEWOOD\",\"WA\",\"98499\"],[485310.0,\"7016 CHERRY LANE SW\",\"LAKEWOOD\",\"WA\",\"98499-1910\"],[485310.0,\"1658 S 90TH ST\",\"TACOMA\",\"WA\",\"98444-3120\"],[485310.0,\"2202 70TH AVE W\",\"UNIVERSITY PLACE\",\"WA\",\"98466-7617\"],[485310.0,\"4533 E E ST\",\"TACOMA\",\"WA\",\"98404-1452\"],[485310.0,\"7410 95TH AVE SW\",\"LAKEWOOD\",\"WA\",\"98498-3313\"],[485310.0,\"1305 REGENTS BLVD\",\"FIRCREST\",\"WA\",\"98466-0000\"],[485310.0,\"7020 S I ST\",\"TACOMA\",\"WA\",\"98408-4411\"],[485310.0,\"5622 S GOVE ST\",\"TACOMA\",\"WA\",\"98409-1720\"],[485310.0,\"9020 S HOSMER ST\",\"TACOMA\",\"WA\",\"98444-1818\"],[485310.0,\"4955 S ORCHARD ST\",\"TACOMA\",\"WA\",\"98467-4814\"],[485310.0,\"7808 S AINSWORTH AVE\",\"TACOMA\",\"WA\",\"98408-2011\"],[485310.0,\"3814 D PL SE\",\"AUBURN\",\"WA\",\"98002\"],[485310.0,\"4750 AUBURN WAY N\",\"AUBURN\",\"WA\",\"98002-2032\"],[485310.0,\"6439 S 120TH ST\",\"SEATTLE\",\"WA\",\"98178-3621\"],[485310.0,\"11710 PAWNEE DR SW\",\"LAKEWOOD\",\"WA\",\"98499-4928\"],[485310.0,\"1216 N 103RD ST\",\"SEATTLE\",\"WA\",\"98133-9405\"],[485310.0,\"3417 55TH AVE NE\",\"TACOMA\",\"WA\",\"98422\"],[485310.0,\"1423 S 44TH ST\",\"TACOMA\",\"WA\",\"98418-2410\"],[485310.0,\"3501 S 38TH ST\",\"TACOMA\",\"WA\",\"98409-4210\"],[485310.0,\"6209 16TH ST NE\",\"TACOMA\",\"WA\",\"98422-3631\"],[485310.0,\"109 AMHERST ST\",\"FIRCREST\",\"WA\",\"98466-0000\"],[485310.0,\"1922 E 59TH ST\",\"TACOMA\",\"WA\",\"98404-4407\"],[485310.0,\"8518 45TH ST W\",\"UNIVERSITY PLACE\",\"WA\",\"98466\"],[485310.0,\"10202 LAKEVIEW AVE SW\",\"LAKEWOOD\",\"WA\",\"98499\"],[485310.0,\"31805 49TH TER SW\",\"FEDERAL WAY\",\"WA\",\"98023-3707\"],[485310.0,\"11217 18TH AVE S\",\"TACOMA\",\"WA\",\"98444-1474\"],[485310.0,\"1233 S JACKSON AVE\",\"TACOMA\",\"WA\",\"98465\"],[485310.0,\"6601 S TYLER ST\",\"TACOMA\",\"WA\",\"98409-2401\"],[485310.0,\"1786 KENNEDY PLACE\",\"DUPONT\",\"WA\",\"98327\"],[485310.0,\"32820 20TH AVE S\",\"FEDERAL WAY\",\"WA\",\"98003\"],[485310.0,\"3401 PACIFIC AVE\",\"TACOMA\",\"WA\",\"98418-7922\"],[485310.0,\"1908 S 21ST ST\",\"TACOMA\",\"WA\",\"98405\"],[485310.0,\"2010 70TH AVE W\",\"UNIVERSITY PLACE\",\"WA\",\"98466-5522\"],[485310.0,\"2329 S STATE ST\",\"TACOMA\",\"WA\",\"98405\"],[485310.0,\"7225 S WARNER ST\",\"TACOMA\",\"WA\",\"98409-3921\"],[485310.0,\"427 E 63RD ST\",\"TACOMA\",\"WA\",\"98404-1902\"],[485310.0,\"3318 S 43RD ST\",\"TACOMA\",\"WA\",\"98409-5525\"],[485310.0,\"3610 S CUSHMAN AVE\",\"TACOMA\",\"WA\",\"98418-2633\"],[485310.0,\"6205 S 239TH ST\",\"KENT\",\"WA\",\"98032-2974\"],[485310.0,\"10240 BRIDGEPORT WAY SW\",\"LAKEWOOD\",\"WA\",\"98499-2324\"],[485310.0,\"8602 S HOSMER ST\",\"TACOMA\",\"WA\",\"98444\"],[485310.0,\"2043 S 8TH ST\",\"TACOMA\",\"WA\",\"98405-3031\"],[485310.0,\"1116 E 59TH ST\",\"TACOMA\",\"WA\",\"98404-3515\"],[485310.0,\"3108 SW 342ND ST\",\"FEDERAL WAY\",\"WA\",\"98023\"],[485310.0,\"10617 18TH AVE S\",\"TACOMA\",\"WA\",\"98444-7029\"],[485310.0,\"1001 S MILDRED ST\",\"TACOMA\",\"WA\",\"98465-1843\"],[485310.0,\"4015 SW 317TH ST\",\"FEDERAL WAY\",\"WA\",\"98023-2135\"],[485310.0,\"6612 S WARNER ST\",\"TACOMA\",\"WA\",\"98409-4021\"],[485310.0,\"1105 182ND STREET CT E\",\"SPANAWAY\",\"WA\",\"98387-1919\"],[485310.0,\"3419 E L ST\",\"TACOMA\",\"WA\",\"98404-0000\"],[485310.0,\"649 S MEYERS ST\",\"TACOMA\",\"WA\",\"98465-1415\"],[485310.0,\"102 N G ST\",\"TACOMA\",\"WA\",\"98403\"],[485310.0,\"427 E 61ST ST\",\"TACOMA\",\"WA\",\"98404-1930\"],[485310.0,\"3730 E SPOKANE ST\",\"TACOMA\",\"WA\",\"98404-3037\"],[485310.0,\"425 SOUTH TACOMA WAY\",\"TACOMA\",\"WA\",\"98402\"],[485310.0,\"2424 S 41ST ST\",\"TACOMA\",\"WA\",\"98409-7314\"],[485310.0,\"1928 W UNION AVE\",\"TACOMA\",\"WA\",\"98405-1073\"],[485310.0,\"1322 E 64TH ST\",\"TACOMA\",\"WA\",\"98404-3430\"],[485310.0,\"2661 N PEARL ST\",\"TACOMA\",\"WA\",\"98407-2424\"],[485310.0,\"7606 78TH ST SW\",\"LAKEWOOD\",\"WA\",\"98498-6212\"],[485310.0,\"4750 AUBURN WAY N\",\"AUBURN\",\"WA\",\"98002-2042\"],[485310.0,\"539 BROADWAY\",\"TACOMA\",\"WA\",\"98402-3907\"],[485310.0,\"7519 CIRQUE DR W\",\"UNIVERSITY PLACE\",\"WA\",\"98467\"],[485310.0,\"3501 BROADMOOR DR NE\",\"TACOMA\",\"WA\",\"98422-4747\"],[485310.0,\"116 19TH AVE\",\"MILTON\",\"WA\",\"98354\"],[485310.0,\"1626 S WRIGHT AVE\",\"TACOMA\",\"WA\",\"98418\"],[485310.0,\"3501 S 38TH ST\",\"TACOMA\",\"WA\",\"98409-4210\"],[485310.0,\"4720 S PINE ST\",\"TACOMA\",\"WA\",\"98409\"],[485310.0,\"5334 34TH ST E\",\"FIFE\",\"WA\",\"98424\"],[485310.0,\"5909 PANORAMA DR SE\",\"AUBURN\",\"WA\",\"98092\"],[485310.0,\"912 N 96TH ST\",\"SEATTLE\",\"WA\",\"98103\"],[485310.0,\"7515 S M ST\",\"TACOMA\",\"WA\",\"98408\"],[485310.0,\"19305 TWINKLE DR E\",\"SPANAWAY\",\"WA\",\"98387\"],[485310.0,\"2436 I ST NE\",\"AUBURN\",\"WA\",\"98002-2480\"],[485310.0,\"7406 27TH ST W\",\"UNIVERSITY PLACE\",\"WA\",\"98466\"],[485310.0,\"241 37TH PL SE\",\"AUBURN\",\"WA\",\"98002-8803\"],[485310.0,\"4750 AUBURN WAY N\",\"AUBURN\",\"WA\",\"98002-2030\"],[485310.0,\"4130 NE 9TH PL\",\"RENTON\",\"WA\",\"98059\"],[485310.0,\"4750 AUBURN WAY N\",\"AUBURN\",\"WA\",\"98002-2042\"],[485310.0,\"808 S I ST\",\"TACOMA\",\"WA\",\"98405\"],[485310.0,\"3101 S 36TH ST\",\"TACOMA\",\"WA\",\"98409\"],[485310.0,\"1816 189TH STREET CT E\",\"SPANAWAY\",\"WA\",\"98387-4132\"],[485310.0,\"1302 NORPOINT WAY NE\",\"TACOMA\",\"WA\",\"98422-3033\"],[485310.0,\"32634 51ST PL SW\",\"FEDERAL WAY\",\"WA\",\"98023-1944\"],[485310.0,\"901 NORPOINT WAY NE\",\"TACOMA\",\"WA\",\"98422-3131\"],[485310.0,\"10202 LAKEVIEW AVE SW\",\"LAKEWOOD\",\"WA\",\"98499\"],[485310.0,\"3638 S K ST\",\"TACOMA\",\"WA\",\"98418-4026\"],[485310.0,\"11019 50TH AVE E\",\"TACOMA\",\"WA\",\"98446-5303\"],[485310.0,\"8804 34TH AVE S\",\"LAKEWOOD\",\"WA\",\"98499-3659\"],[485310.0,\"2131 S SPRAGUE AVE\",\"TACOMA\",\"WA\",\"98405-2815\"],[485310.0,\"1102 S 27TH ST\",\"TACOMA\",\"WA\",\"98409-8016\"],[485310.0,\"6201 LAKEWOOD DR W\",\"UNIVERSITY PLACE\",\"WA\",\"98467\"],[485310.0,\"1202 N PEARL ST\",\"TACOMA\",\"WA\",\"98406-7900\"],[485310.0,\"1506 CHERRY AVE\",\"FIRCREST\",\"WA\",\"98466-6641\"],[485310.0,\"5102 S 58TH ST\",\"TACOMA\",\"WA\",\"98467-3829\"],[485310.0,\"1609 S CUSHMAN AVE\",\"TACOMA\",\"WA\",\"98405-3533\"],[485310.0,\"8835 S D ST\",\"TACOMA\",\"WA\",\"98444-6458\"],[485310.0,\"7121 CITRINE LN SW\",\"LAKEWOOD\",\"WA\",\"98498-5013\"],[485310.0,\"2001 13TH ST SW\",\"PUYALLUP\",\"WA\",\"98371-8599\"],[485310.0,\"6314 WESTGATE BLVD\",\"TACOMA\",\"WA\",\"98406-2202\"]],\"hovertemplate\":\"<b>%{hovertext}</b><br><br>NAICS_CODE_DESCRIPTION=Taxi Service<br>lat=%{lat}<br>long=%{lon}<br>NAICS_CODE=%{customdata[0]}<br>HOUSE_NUMBER_AND_STREET_NAME=%{customdata[1]}<br>CITY=%{customdata[2]}<br>STATE=%{customdata[3]}<br>ZIP_CODE=%{customdata[4]}<extra></extra>\",\"hovertext\":[\"ANTHONY R PATTISON\",\"RANDHEER SINGH\",\"MAHENDRA KUMAR SINGH\",\"MICHAEL JONES\",\"MICHAEL ZETTERWALL\",\"SAEED J MOHAMMAD\",\"MANU KAHASHA CHARMANT\",\"STEVEN FLOYD\",\"SHAUNA BAKKENSEN\",\"OMAR ROBA\",\"TIGISTE HOBSE\",\"MAXAMUD JIMCALE\",\"ANDREW MUTHEMBA\",\"REX RAYMOND SAMONTE\",\"MICHAEL BAXTER\",\"ZUHUR HABIB\",\"CARDA BEAUCAGE\",\"MEHATEME EMIRU\",\"KHALIL AZIZI\",\"XING GUO DUAN\",\"DJAMEL BOUKTIT\",\"TERESA C REYNOSO\",\"SELAM E SEID\",\"TEREFE ARGAW DERESS\",\"MOHIT RAJVANSHY\",\"CARTER LEEVER\",\"MOZELL JONES\",\"ABDULKADIR GESHOW\",\"GABE CHEN-TURNER\",\"RYAN RITTER\",\"MARTHA CARDENO\",\"PAL SURINDER SINGH\",\"SURJIT SINGH\",\"NATHAN ANDREW CARNAHAN\",\"PETER DENG MALUAL\",\"EFRAIN CASTILLO YANEZ\",\"JOSEPH BELL\",\"HUNG LAM\",\"MARCO HOUMAN SAFAEIAN\",\"SHAMSUDIN ENDERIS SAHLE\",\"STEPHANIE MONIQUE MUNOZ\",\"NAPOLEON ASFAW\",\"METAFERIA NEGASH\",\"MARTIN SHUER\",\"JUAN VEGA\",\"HAYLEY PUHN\",\"RICHARD C GRAY\",\"JONATHAN ROBERTS\",\"NICOLE FAWCETT\",\"PATRICK KAGUAMBA CHEGE\",\"NO MOHAMATH\",\"MAAU LENE\",\"ROBIN E RUSSELL\",\"DAVID M JR HEINZIG\",\"BEN W YU\",\"LATOYA D KINNIEBREW\",\"MACHOT L THIEP\",\"SHERYL A PETERSEN\",\"TRAVIS GREEN\",\"JOSEPH M FRENCHWOOD\",\"TODD M AKIYAMA\",\"DMITRI FEDOROV\",\"PRISKAH KINUTHIA\",\"HANS BROWN\",\"HASSAN OSMAN\",\"JOSHUA HAMPTON\",\"MARCELA CORDOVA RENDON\",\"TIMOTHY MARK GRIFFIN\",\"PEAL YOUNG\",\"JIAN WANG\",\"WILLIAM E SMITH\",\"HUSSEIN HUSSAN AHMED\",\"WILLIAM SMITH\",\"AIMAL MANSORY\",\"DANIEL LEE JOHNSON\",\"CLIFFORD D PRICE\",\"JOSEPH KIRANGA\",\"SASHA CACHET LESTER\",\"CHRIS MUANDA\",\"ABNER ELIUD RAMIREZ HERNANDEZ\",\"MING FAI LO\",\"ABDUL NOORI\",\"ALAN TENG\",\"JAAPIR OMAR HUSSEN\",\"JASPAL SINGH BHACHU\",\"MOSHIN KHAN\",\"ANGELA ADAMS\",\"ABUBAKAR KASOMA\",\"AMANDA WINSOR\",\"MOEJAY ABDIRAHMAN\",\"ABDUL KAHLIQUE\",\"BANIPAL LLC\",\"MOHAMED MUSE HERSI\",\"SOUTH SOUND TRANSPORTATION LLC\",\"SOUTH SOUND TRANSPORTATION LLC\",\"SOUTH SOUND TRANSPORTATION LLC\",\"SOUTH SOUND TRANSPORTATION LLC\",\"NATHAN DESTA TAFESSE\",\"ARSHWINDER KAUR PANNU\",\"PREMKUMAR THANGARAJAN\",\"PETER SIMON JOSEPH\",\"STANLEY MILLER\",\"ANM A RAHMAN\",\"DAN BRIGHTWELL\",\"DOMINIQUE ROBAIR\",\"NGUON PA\",\"ZANE L SIMOLKE\",\"RAYMOND T GRISSETT\",\"ALFRED K NJOROGE\",\"GOANG SUP KIM\",\"LAURENCE MIKHAEL HALAWJI\",\"FLORINDO G S SANTOS\",\"BENJAMIN CARLOS CRISTOBAL\",\"ZABIULLAH JAMSHIDI\",\"LUIS RICARDO SERRA\",\"MICHAEL P MURPHY\",\"SEAN GREGORY\",\"CORNELIO E MCLEAN\",\"SEID A FELEKE\",\"JEFF CHRISTENSEN\",\"DESTINEY WILSON\",\"BRIAN TIMOTHY WADE\",\"AGIDEW ABI ZENEBE\",\"FLOYD PACE\",\"JAMES D ROSIER\",\"ROSHAWN WEST\",\"BINIAM HADGU MEBRAHTU\",\"JETH A SILBAUGH\",\"GAMALIEL ALARCON LOPEZ\",\"DOUGLAS E DAVIS\",\"ESEIAS GHEBREHIWET SELOMUN\",\"IN S CHUNG\",\"MAX CHRISTIAN OZUNA\",\"TEDLA MENGESHA WOLDEMARIAM\",\"MAURICIO GARCIA\",\"BRYAN THOMAS GOFFE\",\"MANJOT S KHATTRA\",\"EZEKIEL ST HILAIRE\",\"LARRY J HAGG\",\"MAURICE ATTISSO\",\"JOHN JOSEPH BARTA\",\"SEMERE Z MEHARI\",\"MUEZ WOLDESELASSIE AREGAY\",\"MEKIBIB ARGAW ZURGEA\",\"PETER J MAILANDER\",\"JORDAN MICHEAL HILLIS\",\"MARK E GLASER\",\"SAM AHMAD FARRIS\",\"BRYAN HO\",\"SHELLEE STRATTON\",\"RICHARD B HICKSON\",\"ROBERT L KUSHLAN\",\"JEFFREY A HOPKINS\",\"DAVID STREETTER DYBDAHL\",\"CARRIE A NUNEZ\",\"DOREEN J MAY\",\"ABDOLREZA HOJJATI NAJAFABADI\",\"JONATHAN RAPISURA GASCON\",\"STEVEN ANTHONY FLORES\",\"DEBESAI KEBREAB\",\"SANDRA LEE VALBERG CRONYN\",\"ALEX MUNAI KARANJA\",\"LEI ZHANG\",\"ABDURAHMAN OMER\",\"SAYED HASAMI\",\"GEBRETSADIK G WOLDETSADIK\",\"MARLA RODRIGUEZ\",\"MOHAMMAD SHAFIQ\",\"BRANDEN BOREN OUK\",\"WENDY WHITE DEAN\",\"HASSAN MAHMOUD HASSAN\",\"THOMAS W SIMA\",\"DONGMING XU\",\"BRADLEY WADE BOGART\",\"MUHAMMAD ABDUL HAFEEZ\",\"JEFFREY CHIN - U WARDEN\",\"REAGAN ELDRIDGE ASKEW\",\"DWIGHT GENE CREWS\",\"YASIR M AL ALOOSI\",\"STEVEN FRANCO CARRASCO\",\"NAHOM BERHANE FARIOS\",\"RED NANSA MATABISI\",\"GORDON OWENS\",\"JOHN RIMUI\",\"ALFREDO GARCIA SOTO\",\"TIM DANIEL BAILEY\",\"BRIAN MCMENOMY\",\"JUSTIN MICHAEL HACKERT\",\"AUGUST KL XIE\",\"HUI YUE ZHAO\",\"BEREKET TEKLEWINY WELEKISH\",\"KHALED ABURUMMAN\",\"DONALD JAY TODD\",\"DAVID ALAN GRIBBLE\",\"CHARLES DAVID BEALE\",\"DEVINDER SINGH CHOAT\",\"IGOR VALERYEVICH MOKHNATKIN\",\"TAN NHAT HUYNH\",\"RICHARD ALLEN JANSEN\",\"JOAQUIN ABARCA ORBE ABARCA\",\"EFREM HAILE ADEHANOM\",\"ABRAHAM HAILEMICHAEL AWALOM\",\"SURINDERJIT SINGH MAULI\",\"MOHAMED HAMDAN TIA KORI\",\"AZIZ TURKOGLU\",\"MOHAMED OSMAN AWAD\",\"AHMED MOHAMMED ADAM\",\"ODARBIL ALEJO ASERON\",\"ZAHEER ANWAR\",\"GARIK R GRIGORIANTS\",\"RICARDO SANTOS SANTOS\",\"J RHEUEL DECREPITO ABAJERO\",\"HARINDER SINGH\",\"ZACHARY KOSBAB\",\"IVAN VLADIMIROVICH KUZUBOV\",\"ROXANNE RUFILA\",\"CATHERINE SOTO\",\"CAROL WEBER\",\"DUANE LEWIS\",\"BRANDON L THOMPSON\",\"LUIS O RIVERACACERES\",\"OMARU BARRIE\",\"GEOFFREY N NJENGA\",\"SHADIA NAMYALO\",\"SHIFERAHU TAYE\",\"ANTHONY MUCHIRI\",\"FITSUM DESTA\",\"CHRISTIAN MATTEO KNOLL\",\"QING WEI\",\"KEVIN OHLHEISER\",\"MONICAH GATHONI NDUHIU\",\"AHMAD SADAT\",\"JAMES CHEZ KAI SUEN\",\"HAROLD R GOODELL\",\"PAUL M MANNING\",\"JEAN PIERRE HARERIMANA\",\"STEVEN JONES\",\"GEORGE OFORI\",\"JOSEPH A BISSON\",\"BEREKETAB G GEBREHIWET\",\"JONATHAN DE LOS SANTOS\",\"MICHAEL BUSS\",\"BRIAN KEITH MAINSTER\",\"ALEXANDER HOLBROOK-DIAZ\",\"TOAN LUU\",\"KATHLEEN MADDOX\",\"MUSONDA MWANSA\",\"PETER WANYOIKE\",\"CHARLENE D VALDEZ\",\"DAVID FALCON\",\"NICHOLAS BAX\",\"JACOB BETTRIDGE\",\"DENNIS N WALLACE\",\"BENJAMIN SERRANO\",\"TIERRA L TRUSCLAIR\",\"CHANEL PIERRE\",\"KODY WYNNE\",\"JESSICA WALTERS\",\"GAMAL A SALEM\",\"ANDRE PHILLIPE C THERRIEN\",\"CASSAUNDRA Z KARANASOS\",\"PETER CHEGE WANDAIRE\",\"EDUARDO VILLAVICENCIO GARCIA\",\"JEFFREY BOLIMA\",\"WILLIAM KEYES\",\"ABDIHODAN MOHAMED KILWE\",\"ESSA MUDESIR\",\"DAVID WILKINSON\",\"DEANA MAGERA\",\"JAMES MCMURDO\",\"KATHRYN GILLESPIE\",\"DONNA MARIE HAYES\",\"YAKOB MINDAYE\",\"MOHAMED ABDI\",\"ISAIAH NATHANIEL FOSTER\",\"TERRY JONASON\",\"AARON L LORD\",\"MARIO R FLORES\",\"DAWSON BLAKE MORSE\",\"NICHOLAS R STIREN\",\"DANIEL NJOROGE KARUGA\",\"HAMAD YAHYA M ALMANSOUR\",\"RYAN LEE BALAG SHARPE\",\"GREGORY ROGER TOFTE\",\"COREY JAMES CHRISTENSEN\",\"CURTIS JOHN RIZZO\",\"LAUREN THOMAS JONES\",\"NEMATULLAH BASHARWAL\",\"LAEEQ TEOURI\",\"IBRAHIM AYUB\",\"ALEXANDER WOLFE\",\"JOHN K LOBANOWSKI\",\"JON HOLLEY\",\"ABATHER KAREEM DAKHIL\",\"SHAUNDA L MACLEOD\",\"LORRAINE R CADENA\",\"PATRICK NJANE MAINGI\",\"LEO TULAYAN\",\"DI WU\",\"JAMES H FREISHEIM\",\"VITALIY LEONOV\",\"FREDRICK DELANEY\",\"HAROLD R LETOURNEAU\",\"JELANI E HAUSER\",\"RATTAN SANDHU\",\"DANIEL P FRANK\",\"RAMY HASSAN\",\"ALAN J EDMISON\",\"JOHN F BROWN\",\"ROBERTA FINK\",\"LARRY HORSEY\",\"GINGER IRENE PACE\",\"LEEANNA MARIA DUSEK\",\"VICTOR KAMLESH MURTHI\",\"KAHLON GURMINDER\",\"RASMEETSI VIRDI\",\"RIP STECKEL\",\"MOHAMED D SALAD\",\"SONIA ALEJANDRE GARCIA\",\"JOSEPH FLEURY\",\"ROBERT KIM\",\"SAMI ULLAH\",\"JONATHAN PIERS MANDERS\",\"DUDLEY ANTHONY SADHI\",\"MENSAN DIDIER ADJANOR ADANLETE\",\"PATRICK JOSEPH KOLLAR\",\"RODOLFO CHAVEZ\",\"BRANDON JEFFREY BAISLEY\",\"DWAYNE DALTON\",\"KETTYA KHAN\",\"JOENATHAN WESLY KNIGHT\",\"JONATHAN CARATIQUIT RANCHEZ\",\"LATISHA NICHOLE NOUOBISSI\",\"OLIVIER C NOUOBISSI\",\"RAJWINDER SINGH KHOKHAR\",\"YEVGEN MALYARCHUK\",\"EDWIN ODHIAMBO ODEMBO\",\"RUBEN LOPEZ\",\"SULAYMAN CEESAY\",\"JOSHUA NICHOLAS MCCOLM\",\"MONIR HASSAN\",\"MICHAEL NELSON\",\"SUNG WOOK KIM\",\"DAVID ALAN TATE\",\"ANDREW GRAY\",\"GAURAV CHANDLA\",\"OSMAN ASIR OMAR\",\"TADELE BEKU LEMA\",\"MARK EDWARDS CRANE\",\"AKLILU DANIEL NUNNE\",\"ABDRHMAN YUSUF MUSA\",\"YAXYE MUXAMED\",\"MAHFOOZ HEJRAN\",\"MUKHTAR MUKHTAR\",\"ANGESOM EMAN TEKLEYES\",\"AHMAD JAWID ASHOORY\",\"SANG A LAM\",\"NAJIB A HASHIM\",\"ISAAC IRUNGU NGIGI\",\"BELTETON CARRILLO FREDY G\",\"DONAVAN DANIELS\",\"RICHARD FRIEND\",\"STEPHANIE JUREIDINE\",\"GUSTAVO FRIAS\",\"IRELAND MACBRADAIGH\",\"ROBERT SIMKO III\",\"KEITH MOORE\",\"GARY LEAVITT\",\"JAESEOK CHOI\",\"TERRILL T DABNEY\",\"SALEH O SAEED\",\"PETER J WU\",\"RYAN MARIANI\",\"ANN M CHARBONEAU\",\"KLAUS NALLEY\",\"HUY V NGUYEN\",\"YALFAL S ALEMU\",\"MICHAEL WILKES\",\"JASWANT SINGH\",\"GIDEON KIPKURUI CHEPLAK\",\"CHARLES WACHIRA KAGUARI\",\"AHMAD JABARI\",\"MUJTABA AHMADI\",\"HARRISON KIHARA THUO\",\"STEVEN PETER UGLESICH\",\"DAN JOE PETERS\",\"KEWAL SINGH SIDHU\",\"HUMBERTO SOUZA\",\"SOLO SOLUTIONS INC\",\"RAFAEL RAMOS\",\"TRI Q VO\",\"EDMUND R COX\",\"AMRE M ABDELAAL\",\"SOPHEACK CHHAY\",\"KURT SCHAEFER\",\"YELLOW CAB TACOMA LLC\",\"GURDEN SINGH\",\"MARC LLOYD BRENDLINGER\",\"TASTY EATS LLC\",\"BELETE DAMTEW TALE\",\"AZIME NEKERE\",\"KOURTNEY J KAUFMAN\",\"RICHARD TEASDALE\",\"JESSE HERZOG\",\"ANDREW WYNSEN\",\"MARC THEODORE\",\"RODELIO ALDEFOLLA\",\"FELIX OGADINMA OKOLIE\",\"COLLINS GATHUNGU\",\"BERTRAM J DUPONT\",\"MARCUS C DUNCAN\",\"ELLEN A ABUYAN\",\"SUZETTE L BLAND\",\"MODERO Z MEKANISI\",\"PAULA E WILLIAMS\",\"ALICIA R FORD\",\"TRACY A BENNETT\",\"CARLOS L CASTILLO\",\"HANNAH WANJIKU NDIRANGU\",\"JANET R RAMOS\",\"VINH Q NGUYEN\",\"KOSHAWN R ARMSTRONG\",\"CHRISTINA A WARD\",\"BRIAN L LEHMBECKER\",\"HILLARY ALLISON DIRKS\",\"MILDRED A HEARD\",\"STEPHEN M KUNGU\",\"MICHAEL IGE\",\"ZACHARY I SORGALLA\",\"ANGEL B TORRES\",\"ANTHONY EARL MARTIN ROGERS\",\"SOUND DISPATCH LLC\",\"KELVIN CHEGE KURIA\",\"JUAN PINON\",\"GREGORY LOREN SPARKS\",\"BYUNG WON YUN\",\"ROBERTO ROMERO CASTELAN\",\"HASU TAVITA TASI\",\"CHARLES SIMONS\",\"ANNETTE MIRAMONTEZ\",\"JASON HOPKINS\",\"GERALD ALAN FULLER\",\"GRACE MOBILITY LLC\",\"CRAIG D OLLOM\",\"SEPEHR GHAHREMANI\",\"MAI PACHECO\",\"WILLIAM N THOMPSON\",\"RYAN D OMEARA\",\"SIMON GITHIEYA G HIA\",\"MUHAMMAD RUHEL MIAH\",\"LUKAS SENESAC\",\"MARSHALL A MATHEWS\",\"OEUN PHON\",\"LAMECK O ONDUSO\",\"HASSAN A JAMA\",\"SIEGMUND KURDZIEL\",\"ROMULO G ESPIRITU\",\"OLEKSANDR RYABETS RYABETS\",\"IAN ONGONDI\",\"GERALD CARTER\",\"JEFFREY KEATING II\",\"LARRY J ROGERS\",\"JOHN D JONES\",\"DERRICK JAMES DAIGRE SR\",\"MOHAMED TUNKARA\",\"MUSTAFA AZIMI\",\"JEN-HSUN HSIAO\",\"JAMES W ABNEY\",\"JEFFREY A DAVIS\",\"TESHOME W GIZAW\",\"MARGARITA S MANOR\",\"YONIS HASSAN\",\"SIDNEY ALBERT BRECKENRIDGE\",\"ADEN ABDIRAHMAN\",\"JUDY HUNT\",\"MICHALE R REYNA\",\"DEBORA M ANDERSON\",\"ANANAISA TOKAILAGI\",\"SHAWN E PHELPS\",\"MARGARET KARUGA\",\"ALI H MUNTASSER\",\"LEONEL A SANCHES\",\"KATHLEEN MARGARET DUBOIS\",\"MICHAEL LINNIS PERRY\",\"YUBIN ZHANG\",\"ENDALEW TESHOME WONDIE\",\"CHARLES G ELIUD\",\"PAGNINEBLOUM H BELEM\",\"ANDRE L WINSTON\",\"JULIO BARRIOS RAMIREZ\",\"MARCAVISE PICKENS\",\"GREGORY MILNE ELGEE\",\"CONG NHUNG LANG\",\"JEREMY BROWN\",\"WILSON KIHATI KIBUGI\",\"MATTHEW DOSIER\",\"ARMEN AVETISYAN\",\"VITALII VYSHNEVSKYI\",\"TRINA L MYERS\",\"MOHAMMAD A AHMADI\",\"MOHAMED YUSUF WORSEME\",\"JAMES DARON WHITING\",\"RAYMOND B PARRISH\",\"JINNIE R KERCHEVAL\",\"THU NGUYEN\",\"EDWARD HILL\",\"BRANDIE A THOMAS\",\"MOHAMMED S ALSULTANI\",\"GARY CHEN\",\"GETU ABATE TESFAYE\",\"MARY ESTHER ANDERSON\",\"ARMEN SAFYAN\",\"NATALIA BUIANOVSCHI\",\"SHAHZEB JUNEJO\",\"PATRICIA TAYLOR\",\"SOFIA MOLIGA\",\"THANH THAI LAM SR\",\"LOPEZ KEVIN\",\"DAVID YEHUDA BROWN\",\"SIRAJ MOHAMMED YASIN\",\"ELHADJ MAMADOU BARRY\",\"DAVID O CLARKE\",\"CHRISTOPHER M SHIRED\",\"CLAUDIO TORRES-OCHOA\",\"XIONG HUANG\",\"RAUL SUPANG LOMBOY\",\"YEWONDWOSSEN ADEFRIS\",\"HIRUT ALEMU\",\"OLEKSANDR BONDARENKO\",\"JOHN REYNOLD FISCHER\",\"JEFFREY A CASTOR\",\"GUESH TESFAY BERHE\",\"AMERICAN SERVICE MEDICAR CO\",\"MAIRA COOPER\",\"GEORGE N KAMAU\",\"TAM H MAI\",\"MARCUS MILLSPAUGH\",\"ROGER J CLARK\",\"SUSAN L RIDGE\",\"ABDULLAH ALI\",\"ISHANTI J SANDERS\",\"GEORGE METZ\",\"THOMAS KIUTI\",\"ANTHONY A PALUMBO\",\"GREGORY R BAILEY\",\"BARBARA QUARTEY\",\"AHMAD ALI ALI\",\"DUNCAN SSEBALU\",\"SAJJAD TARIQ\",\"BELETE AGEZEW\",\"JASON ANTHONY RAMOS\",\"ADELFO GARCIA OJEDA\",\"MICHAEL A COREY\",\"PAUL NGUGI\",\"OLGA ZADNIPROVSKAYA\",\"JACOB MANAS\",\"BRANDON M FIX\",\"GARY LEE ROSENQUIST\",\"GODFREY K KARUGA\",\"REBEKAH WILLOUGHBY\",\"JULY OTULO OWINO\",\"ABDULKAREEM TAHER\",\"JAMES B SHERROD\",\"JOHNNEEKA SHANNON SMITH-REID\",\"SHANNON G MITCHELL\",\"GODFREY G MUCHENE\",\"YOO DONG KIM\",\"KHATAB AL-ANSI\",\"MOSES RURIGI\",\"ROBERT C RIVERA\",\"MARC VELASQUEZ\",\"PRENG NUTH\",\"BILLY C HORTON\",\"JOHNNY C BYRD\",\"JOHN MORRISON\",\"PHILIP MENSAH\",\"JERMELLA FULFORD\",\"WOOJAI JANG\",\"JOZEF IGNACZAK\",\"TODD W OLSON\",\"EDWIN W TUTTLE\",\"HASSEN AZAMI\",\"JUSTIN V WHEELER\",\"EDUARDO D CORTES\",\"MADHAV KC\",\"AMBER L THOMAS\",\"ALI AKHANDO\",\"SAMUEL N MWAURA\",\"ABDULLAH ALSHAREEF\",\"MICHELE M ROWE\",\"JOHN ADNEY\",\"CHELAN HENLEY\",\"LILA PAIGE MCDONALD\",\"DANTE L HAWKINS\",\"JACQUELINE M ELIZONDO\",\"DANNY DALE WREH\",\"KHALIL AHMAD KHALIL\",\"PETER KASULE\",\"CURTICE J KERSH\",\"STANLEY NGUGI\",\"PARWIZ HESARY\",\"RONALD MAWEJJE\",\"DAVID CHEGE\",\"MICHAEL KAGO THIONGO\",\"ELMER W HILL\",\"TAREK ELSAYED ALY WAHIB\",\"GREGORY M WRIGHT\",\"DELFIN R FAJARDO\",\"TERRY D LEWIS\",\"JAMES R BENNETT\",\"ABOUDOU R ZAKARI\",\"DAVID C HICKEY\",\"SAMUEL M NDIRANGU\",\"JOHN NGUYEN\",\"SURINDER SING\",\"AHMAD ZARIFY\",\"TRUNG NGUYEN\",\"ANNA MCWILLIAMS\",\"SOLOMON ASFHA\",\"JASEN U CALDWELL\",\"LEILA BERG\",\"ROBERT R JIMENEZ\",\"JASBIR WADAN\",\"KEVEN T WAITERS\",\"ANDRE P BARNETT\",\"ERIN C MURRAY\",\"YUSUF I HUSSEIN\",\"AMY ANKENBAUER\",\"CHARLES KEVIN WHALEN\",\"ELIZABETH UNICORN\",\"THOMAS CHARBONEAU\",\"BERTRAND YOUNG\",\"WILLIAM SHUCK\",\"MAX WALTER KUENKEL\",\"ROBERT J WILLIS\",\"MURTADA ABDELGHANI\",\"MOHAMMED MADANI BENJELLOUN\",\"LUIS R MOLINA\",\"BRUCE L DEIMEL\",\"AARON S GUZMAN\",\"THOMAS MUTAI\",\"JUNE E GORDON\",\"JEFFREY D NORTH\",\"STEPHEN MICHAEL BRUECHNER\",\"FRANK L GREER\",\"ELBERT L VINES II\",\"MICHAEL W CHANG\",\"DONALD A DICKERSON\",\"OTO B USORO\",\"TROY GAMBLE\",\"MATTHEW A MOORE\",\"DAVE W MORAN\",\"GAGANDEEP KAUR\",\"PAUL L STEVENSON\",\"LAKPA BHUTIA\",\"JOHN C BECKLEY\",\"OLGA THOMPSON\",\"DON PHILIP MARKER\",\"PERGENTINIO BIYOGO MANGUE\",\"TRUNG T DO\",\"GORDON H TOFTE\",\"JAMES KENNETH WAGENBLAST\",\"KAMAU JORAM\",\"JOSEPH MUNYUA\",\"JOSE R ROJAS JR\",\"HATIM JAAGOUB\",\"FRANCIS MUNIU KAMAU\",\"ROGER P VOLK\",\"SARITH TIM\",\"ROBERT R JIMINEZ\",\"ANATOLIE POPENCO\",\"RONALDO R QUIZON\",\"THOMAS BARNHART\",\"WUHIB TSEGAYE ABEBE\",\"KEVIN  T O'NEAL\",\"CEDULFO RODRIGUEZ\",\"MOHAMMAD A BAKHSHI\",\"BRANNON CHEPLAK\",\"SOLOMON W GUFAW\",\"MOHAMMED TAMIM SANJIDA\",\"JOHA CHEZ TUAN SUEN\",\"MARYANN NDIRANGU\",\"JOHN ROEBEN\",\"ROGER C WHEELER\",\"ABAKER M ADAM\",\"RODGER KING\",\"SHAWNNA TURNER\",\"BARRY COLLINS\",\"GILBERT K HEBERT\",\"APRIL GALLATY\",\"MERCY WAMBUGU\",\"JAMES HOLLINGSWORTH III\",\"LUE GENE FLORENCE\",\"JOSE F LEMUS\",\"ALI OMAR MOHAMED\",\"MUHANNAD FARRAH\",\"VICTOR R HANDBURGH\",\"DICKIE BARRIENTOS\",\"HAYES J ALEXANDER\",\"DANIEL S TIMMONS\",\"EDWARD H MITCHELL\",\"CHARLES G WRIGHT JR\",\"RICHARD BENSON\"],\"lat\":[46.3144754,47.3865907,47.75915495,47.454021749999995,47.4539781,47.46614265,46.3144754,47.376557,47.48594475,47.47487035,47.39818755,47.41743545,47.3687026,47.084143,47.202743240963855,47.40641987986825,47.3767814,46.3144754,47.381027,47.36823,47.554873998512136,47.54302455,47.845134665216584,47.32091935,47.365624600000004,46.3144754,46.3144754,47.202475,46.3144754,46.3144754,46.3144754,47.16520947455576,47.3396014,46.3144754,46.3144754,47.370000000000005,47.323939249999995,47.47155575,47.78579345,47.532902569711254,46.3144754,47.714891249999994,47.4826836,47.679731,47.530600050000004,47.6391117,46.3144754,46.3144754,46.3144754,46.3144754,47.496591550000005,46.3144754,46.3144754,46.3144754,46.3144754,47.2083474,46.3144754,46.3144754,46.3144754,47.160673334407655,47.62791246564717,47.5417828,47.352629,46.3144754,46.3144754,46.3144754,47.16436804935233,47.30395045,47.5488433,47.71085125,46.98917471112039,47.5470282,46.98917471112039,47.40750455,47.49545725,46.3144754,46.3144754,46.3144754,47.683242050000004,47.7918239,47.404659499999994,46.3144754,47.52208625,47.51657955,47.349922449999994,47.5359443,47.050913541478494,46.3144754,46.3144754,46.3144754,47.6466548,47.35204025,47.480261350000006,47.03790095353375,47.03790095353375,47.03790095353375,47.03790095353375,47.4422797,47.38777575,47.61159374326866,47.71900585,47.35752895,47.7171598,46.3144754,46.3144754,46.3144754,46.9856579,47.1228799261745,45.675731999999996,47.731085,47.406689150000005,47.2635689,47.46744975,46.3144754,47.751276,47.17076247474748,46.3144754,46.3144754,47.4449905,46.3144754,46.3144754,47.04724629206893,47.8064909,47.3115549,47.46614265,47.5506964,47.5281195,47.195151100000004,47.6845968,47.0154547755102,47.4602708,47.40410585,47.621791900000005,47.7858437,46.3144754,47.36822105,47.35249725,46.3144754,47.0593228,46.3144754,47.36852945,47.4648991,47.36928854300093,47.40696235,46.3144754,46.3144754,46.8017559,46.3144754,46.3144754,46.3144754,47.15911003899799,47.51649591658577,47.185189708000905,47.7564667,47.09331817892826,47.19197057142857,47.4758173,47.52774551778829,47.204274147168576,47.7902264,47.5403168,47.3040527,47.3233168,47.373841549999995,47.3956467,47.34162485,47.48008625,47.34447985,47.304218750000004,47.39546824999999,47.75380908450704,47.36928854300093,47.50856805,47.26709795,46.867113700000004,47.153171717222186,47.30548015,47.3219472,47.377250849999996,47.381841,47.64036505,47.078481422874304,47.38637415,47.19993638364235,47.3185041,47.11082779591837,47.2787191,47.3162326,47.3586475,47.546205549999996,47.4602708,47.70770386159205,47.157989586149974,47.403877300000005,47.385190699999995,47.40349225,47.62034229657918,47.338235,47.192697333333335,47.75584345,47.459799000000004,47.724348649999996,47.329950249999996,47.3706265,46.9632704810226,47.501934,47.3706265,47.736084059090906,47.4624255,47.7307043,47.7366222,47.38718025,47.89540278869436,47.16325507725555,47.4040951,47.440782,47.850186970303135,47.163726027073,47.4065338,46.3144754,47.065029372483224,47.3956467,46.3144754,47.316625,47.5488433,47.31270235,47.70618125,47.196096196253414,47.463398,46.96486018281592,46.3144754,46.3144754,47.4981413,47.236497432431804,47.02419675,46.3144754,46.3144754,46.3144754,46.3144754,47.37419945,47.4608245,46.3144754,46.3144754,46.3144754,46.3144754,47.1703692,47.164211,46.3144754,46.3144754,46.3144754,47.678143500000004,46.3144754,46.3144754,46.3144754,46.3144754,46.3144754,46.3144754,46.3144754,46.3144754,46.3144754,46.3144754,46.3144754,47.7257011,47.104053444444446,47.06526067346939,47.472957949999994,47.448373000000004,47.492504049999994,47.4774423,47.7130546,47.37260605,47.30471115,47.39950905,47.5427473,46.3144754,46.3144754,46.3144754,47.05655959375161,46.3144754,47.6173249,47.2715011,46.3144754,46.3144754,46.3144754,46.3144754,46.3144754,46.3144754,46.3144754,46.3144754,47.3956467,47.183798,47.26063885,47.16971149809036,47.7029904,46.3144754,46.3144754,47.182848481970154,46.3144754,46.3144754,47.121895546233404,46.3144754,46.3144754,47.285922,46.3144754,46.3144754,46.3144754,46.3144754,46.3144754,46.3144754,46.3144754,46.3144754,47.3115549,46.3144754,47.382878399999996,47.3956467,47.3667127,47.255191249999996,47.5205921,47.5156275,47.39270875,47.30894495,47.7196242,46.3144754,46.3144754,46.3144754,46.3144754,46.3144754,46.3144754,46.3144754,46.3144754,46.3144754,46.3144754,46.3144754,46.3144754,46.3144754,46.3144754,46.3144754,46.3144754,46.3144754,46.3144754,46.3144754,46.3144754,46.3144754,46.3144754,46.3144754,46.3144754,47.40641987986825,47.30091455,47.2881365,47.448373000000004,47.5373376,47.41743545,47.34447985,47.33085335,47.507669199999995,47.3696179,47.51482955,47.524502,46.3144754,47.38427625,46.3144754,46.3144754,46.3144754,46.3144754,46.3144754,46.3144754,46.3144754,47.095295070707074,46.3144754,47.1667806122449,47.220711590604026,47.16449401416644,47.225443911635374,47.197299,47.288609,47.209052,47.2470674,47.2979136,47.30697406060606,47.12581958790487,47.235266323232324,47.34942241743775,47.34942241743775,47.174841477011,47.5794207,47.677432249999995,47.2672715,47.6006742,47.22292503899077,47.2495798,47.19006016326531,47.17149892042642,47.25053033333333,47.186897814285715,47.21509795,47.235308,47.480288200000004,47.153594118878196,47.23864324313207,47.5334734,47.23986267561751,47.24643314285714,47.2998456,47.683016249999994,47.394426749999994,47.2137257852349,47.481338050000005,47.216868,47.174841477011,47.16449401416644,47.28175318073146,47.232067,47.18305728624466,47.2231166,47.25584830463645,47.23952293877551,47.16449401416644,47.19133332959867,47.174841477011,47.2429315,47.4897898,47.25006,47.1018975033557,47.169191,47.283736805555556,47.242434,47.174841477011,47.25702151241008,47.25776824489796,47.192739,47.27793469724448,47.235266323232324,47.235266323232324,47.009644571428574,47.25724451515151,47.30268699199032,47.5786053,47.18833710204082,47.23402859595959,47.1410464409422,47.386141249999994,47.6167205,47.164328755547864,47.278659149999996,47.235308,47.2566057,47.18568110528489,47.260384306122454,47.25359832719312,47.207237309388034,47.203485037161144,47.18819606122449,47.27641,47.218248369127515,47.4737561,47.27639405,47.9149657,47.202386714285716,47.235266323232324,47.173615476444816,47.06136985329964,47.086246216080404,47.161151,47.66190145,47.82199619272984,47.200882,47.7222558,47.252335877551026,47.24373847710803,47.20908,47.20724237286663,47.16449401416644,47.27454346590424,47.20322885,47.20610637373738,47.25189945885786,47.218449,47.194608,47.271145,47.1916953233807,47.249166999172346,47.24777439784946,47.31867205,47.21208204081633,47.30670645,47.542396249999996,47.235266323232324,47.1700528,47.18279465771812,47.21847973469388,47.228041333839236,47.6724738,46.99645721058648,47.21155238383839,47.174841477011,47.1905294295302,47.24735151020408,47.27442942867001,47.27021559183673,47.21281894111901,47.3238687,47.235308,47.235266323232324,47.18385982828283,47.18093028571429,47.213536,47.252470848484855,47.18199992842911,47.479164600000004,47.69892575,47.24287814285714,47.51323775,47.27442942867001,47.198779822441466,47.21975282828283,47.220997702702704,47.18093028571429,47.124616,47.251491787878784,47.343640300000004,47.233282714285714,47.19726679591837,47.17164991836734,47.6391607,47.413789,47.174193672,47.6457398,47.58895574271042,47.294472150000004,47.800172149999995,47.22837143434344,47.3837436,47.04088711111111,47.204841,47.202130999999994,47.2121129328859,47.211264092661786,47.262945816326535,47.19018589795918,47.181949,47.27454346590424,47.2042686,47.190512393594354,47.21254484883721,47.258783,47.28308415151515,47.34942241743775,47.17482036389322,47.17076929461614,47.4433545,47.10427519527028,47.580184599999995,47.26188891836735,47.21361349113377,47.25171227516779,47.214535363636365,47.273057615384616,47.235266323232324,47.22525618367347,47.200640111111106,47.26472408163265,47.27406428571428,47.22838542857143,47.236429101176256,47.19213813060877,47.17218279591837,47.17529346634362,47.213616306122454,47.27392936363636,47.222075668799306,47.26386714141414,47.17875515151515,47.2325320082773,47.22290163636363,47.30066773754966,47.28308415151515,47.173378,47.21454971428571,47.183064015410615,47.243893428571425,47.188995454545456,47.2040641,47.22362410892025,47.182870089135726,47.1582,47.24050865306122,47.207237309388034,47.235266323232324,47.28278369230769,47.21979436363636,47.264291,47.17222932653061,47.271274795918366,47.21686471428571,47.15936606122449,47.2500235045659,47.21974491860062,47.2167816,47.19447224242425,47.256013510204085,47.221598609308785,47.174841477011,47.16449401416644,47.176754242424245,47.17559266666667,47.239340495582745,47.21625014285714,47.18981163731511,47.23886722600404,47.19345550505051,47.206213290803625,47.17509675510204,47.21222529700193,47.186270484848485,47.27451655,47.34942241743775,47.495327700000004,47.151408,47.7034285,47.287786,47.217388306122444,47.22253652525252,47.27155038907736,47.23369790976534,47.20339689795918,47.21545721598536,47.16449401416644,47.3168426,47.1692861,47.248718,47.197299,47.09751908,47.3074229,47.2167816,47.24050865306122,47.24148088888889,47.23820638853159,47.191683454545455,47.20005016161616,47.21860044897959,47.22612802040816,47.38725005,47.164606283922154,47.17906311055276,47.25377153488372,47.20351153778399,47.2955582,47.1692861,47.251635,47.31731375,47.197226848484846,47.0913930387247,47.231905734693875,47.25514475,47.26364025,47.201877111111116,47.2231166,47.2356425,47.2201131,47.242421285714286,47.19892189795918,47.27315678409091,47.1867024080162,47.34942241743775,47.258963,47.21383324999999,47.288659546338984,47.257089001134176,47.229856,47.22253652525252,47.21454971428571,47.2264208,47.2552647,47.69892575,47.188976714285715,47.080662000000004,47.32917365,47.235266323232324,47.27638,47.34942241743775,47.4982544,47.34942241743775,47.255190999999996,47.226348,47.084405,47.28634493674254,47.308835450000004,47.286492,47.16449401416644,47.225699,47.1557009,47.17733361249717,47.240294090909096,47.23546846845479,47.199369,47.2610108757764,47.21893525,47.20430085273312,47.24607691836735,47.176099,47.19213813060877,47.172216,47.26664966834171],\"legendgroup\":\"Taxi Service\",\"lon\":[11.0480288,-122.18218775552191,-122.23324690831447,-122.35321139999999,-122.1716508258146,-122.2635433713549,11.0480288,-122.19970006474908,-122.31843820122072,-122.28801372595592,-122.32061181786858,-122.29124199301339,-122.16602460829853,-122.212454,-122.33329109638555,-122.29865521949873,-122.11696904988023,11.0480288,-122.2608732,-122.17789966229698,-122.11307098859622,-122.36221435496209,-122.2871874751579,-122.33800850053035,-122.02754572440456,11.0480288,11.0480288,-122.288569,11.0480288,11.0480288,11.0480288,-122.28574690151348,-122.28190707957245,11.0480288,11.0480288,-122.29974642517523,-122.30990412407616,-122.281486,-122.18772786713663,-121.84762289754741,11.0480288,-122.31280177289517,-122.24456885324254,-122.106627,-122.27412986210919,-122.3256798,11.0480288,11.0480288,11.0480288,11.0480288,-122.23792052250785,11.0480288,11.0480288,11.0480288,11.0480288,-122.2838768,11.0480288,11.0480288,11.0480288,-122.56217124114092,-122.11393645841997,-122.26847999977564,-122.30992760975408,11.0480288,11.0480288,11.0480288,-122.28633265903585,-122.20417831523753,-122.3343207,-122.30287753891035,-122.25733398439566,-122.3721147,-122.25733398439566,-122.30897915315026,-122.36533091684413,11.0480288,11.0480288,11.0480288,-122.29798790114975,-122.32645584994651,-122.28090699792568,11.0480288,-122.16343067717587,-122.26827734504174,-122.1377654747898,-122.3770276,-122.30878185706045,11.0480288,11.0480288,11.0480288,-122.1504373,-122.17104683741243,-122.18368983626436,-122.83002759533225,-122.83002759533225,-122.83002759533225,-122.83002759533225,-122.28719483266725,-122.17252876471605,-122.15034919556155,-122.34033121012388,-122.10138694158326,-122.19514827720731,11.0480288,11.0480288,11.0480288,-122.2256697,-122.55190766442952,-122.64140575174825,-122.31360340636314,-122.27641550506854,-122.2794534765404,-122.32681227311741,11.0480288,-122.120922,-122.29359756565657,11.0480288,11.0480288,-122.2875771,11.0480288,11.0480288,-122.23114871273856,-122.2968445,-122.3058049,-122.2635433713549,-122.28240549942433,-122.36083934380409,-121.97476405,-122.1237269337762,-122.90800563265306,-122.17208855,-122.2769251768909,-122.32332616357922,-122.3469084,11.0480288,-122.31820450000001,-122.14011265022005,11.0480288,-122.7663505,11.0480288,-122.1841257327134,-122.32462445,-122.19303181933384,-122.28020910594512,11.0480288,11.0480288,-122.2419186,11.0480288,11.0480288,11.0480288,-122.18830489895461,-122.6246282463596,-122.31720253977844,-122.3437497,-122.67547980116177,-122.26469725396825,-122.28178205,-122.03006505320346,-122.27346804437497,-122.35769381985588,-122.38572276698389,-122.35380087397542,-122.317123222882,-122.1470985922316,-122.28585222010261,-122.3069669287398,-122.31997725414391,-122.31112104937216,-122.34601995278979,-122.1686469035136,-122.30402894366198,-122.19303181933384,-122.30578305668291,-122.2921835252907,-122.26755324999999,-122.55183616444216,-122.28341914730768,-122.1803466,-122.19290131140801,-122.3191344,-122.3869471,-122.40357588109987,-122.17037535499666,-122.32530613001686,-122.3026301,-122.43232183673469,-122.34669265,-122.3596841,-122.1767771,-122.29972272143311,-122.17208855,-122.11734987890588,-122.19776577093437,-122.18994383297414,-122.0317201,-122.28313801992377,-122.20448273423719,-122.330426402098,-122.290836,-122.18839172589205,-122.2746895,-122.34725170266411,-122.17496005000001,-122.20815070200001,-122.63273123652584,-122.18386117104623,-122.20815070200001,-122.33715443636363,-122.1687171245094,-122.1719841,-122.2164326,-122.1559442378628,-122.30076709440758,-122.58790601906342,-122.20366741743891,-122.18707723962117,-121.68401311413095,-122.27114801257284,-122.27713807793103,11.0480288,-122.25595152013423,-122.28585222010261,11.0480288,-122.3357453,-122.3343207,-122.33020600207925,-122.33100636339839,-122.32372699193479,-122.15446796514479,-122.59165301533135,11.0480288,11.0480288,-122.16263804731443,-122.61766851230522,-122.92093550254056,11.0480288,11.0480288,11.0480288,11.0480288,-122.28828369750275,-122.281531,11.0480288,11.0480288,11.0480288,11.0480288,-122.596287,-122.294136,11.0480288,11.0480288,11.0480288,-122.32235805130587,11.0480288,11.0480288,11.0480288,11.0480288,11.0480288,11.0480288,11.0480288,11.0480288,11.0480288,11.0480288,11.0480288,-122.163009,-122.42162422222222,-122.92925079591836,-122.28727406963489,-122.2923265670262,-122.27418012500002,-122.325776775,-122.22451405274106,-122.0258696966317,-122.36783354069888,-122.16588885455863,-122.2931638,11.0480288,11.0480288,11.0480288,-122.30621007091564,11.0480288,-122.3259917338286,-122.2364402837799,11.0480288,11.0480288,11.0480288,11.0480288,11.0480288,11.0480288,11.0480288,11.0480288,-122.28585222010261,-122.148282,-122.29421767381986,-122.02006363817982,-122.2019583,11.0480288,11.0480288,-122.54387245730001,11.0480288,11.0480288,-122.4520632740039,11.0480288,11.0480288,-122.11367938839285,11.0480288,11.0480288,11.0480288,11.0480288,11.0480288,11.0480288,11.0480288,11.0480288,-122.3058049,11.0480288,-122.08854708344487,-122.18613029365255,-122.17913683989448,-122.20856915596046,-122.37376685,-122.3430492,-122.15571279177924,-122.3447091940869,-122.2948337,11.0480288,11.0480288,11.0480288,11.0480288,11.0480288,11.0480288,11.0480288,11.0480288,11.0480288,11.0480288,11.0480288,11.0480288,11.0480288,11.0480288,11.0480288,11.0480288,11.0480288,11.0480288,11.0480288,11.0480288,11.0480288,11.0480288,11.0480288,11.0480288,-122.29865521949873,-122.34235820206209,-122.17662720000001,-122.2923265670262,-122.2851609,-122.29124199301339,-122.31112104937216,-122.30182087065135,-122.30529265,-122.29845990216205,-122.26615729759526,-122.36084916674884,11.0480288,-122.29828037842097,11.0480288,11.0480288,11.0480288,11.0480288,11.0480288,11.0480288,11.0480288,-122.40237885858586,11.0480288,-122.60677608163265,-122.54023990604027,-122.49459814083336,-122.34409730693044,-122.492655,-122.373565,-122.40954083673469,-122.440476,-122.5322044,-122.41956867676767,-122.426733690056,-122.53575953535353,-122.22494950689504,-122.22494950689504,-122.46531138871684,-122.3050668,-122.38296002454268,-122.23246457028793,-122.3351764,-122.49323464229126,-122.439874,-122.42597634693877,-122.42635839483087,-122.51298033333335,-122.42605441428572,-122.53591430352355,-122.555082,-122.18826072992863,-122.50468994265596,-122.39808302333006,-122.2694738,-122.55368378146851,-122.47659342857142,-122.21303565590756,-122.16479824635056,-122.27169995046658,-122.50190353691275,-122.28815982694806,-122.47386,-122.46531138871684,-122.49459814083336,-122.5131572408847,-122.41373528571428,-122.54390522733502,-122.4196411,-122.53686577438923,-122.4492857755102,-122.49459814083336,-122.45417251789279,-122.46531138871684,-122.5623359,-122.32026255344672,-122.490312,-122.42295410738255,-122.44201,-122.38126661805556,-122.367243,-122.46531138871684,-122.53284985107904,-122.45781236734695,-121.9940355,-122.52066301687395,-122.53575953535353,-122.53575953535353,-122.86617787755101,-122.44259796969696,-122.39499531637023,-122.4089862,-122.51024777551021,-122.48620285858586,-122.50733709750739,-122.25201209211107,-122.3097957,-122.43427075202241,-122.22251207453007,-122.555082,-122.531339,-122.51737553162162,-122.45977259183672,-122.52567506374959,-122.49784015866734,-122.51163291442775,-122.29528508163266,-122.52163260655738,-122.47351543624161,-122.28907584999999,-122.14707805104445,-122.2450797,-122.33071,-122.53575953535353,-122.5145681915861,-122.40115746485637,-122.41789547236182,-122.506301,-122.40329070576419,-122.33251716227709,-122.40945072727273,-122.32168385413908,-122.44774079591836,-122.44677891625872,-122.415114,-122.42461750006484,-122.49459814083336,-122.36972943954105,-122.50494512448194,-122.4721852121212,-122.52092331171322,-122.437691,-122.494153,-122.491901,-122.49148343437021,-122.52644780718805,-122.3221566344086,-122.3960872752306,-122.4117848367347,-122.31008505009683,-122.35463050012947,-122.53575953535353,-122.4340924,-122.4745826375839,-122.4267465510204,-122.50502014358305,-122.3636847,-122.79775900723928,-122.44964592929293,-122.46531138871684,-122.45914222818791,-122.4466076122449,-122.51574759049946,-122.49200467346938,-122.4122257922048,-122.2171815,-122.555082,-122.53575953535353,-122.45462312121212,-122.45573485714286,-122.437298,-122.4429815959596,-122.54857652781607,-122.18090704109841,-122.34643125745892,-122.47053771428573,-122.1763286433432,-122.51574759049946,-122.30439000534962,-122.44496413131313,-122.47348272972972,-122.45573485714286,-122.537743,-122.530088,-122.30772250409836,-122.49354671428571,-122.4302659387755,-122.52758620408163,-122.14535629288389,-122.1855319217128,-122.436576792,-122.37526374529367,-122.1458423411959,-122.20961724132076,-122.37783147965702,-122.29643963636364,-122.31260932496488,-122.84046672222223,-122.272951,-122.52296177707399,-122.50706676510067,-122.46632942272205,-122.45345504081632,-122.44274248979592,-122.548506,-122.36972943954105,-122.2464048,-122.56233040427283,-122.44196770930232,-122.49257855886873,-122.51567690909091,-122.22494950689504,-122.46540432563009,-122.51203598939136,-122.2889149717806,-122.43468916127274,-122.31446198487068,-122.46085087755101,-122.40970310729956,-122.52268787919463,-122.41659581818182,-122.48668576923076,-122.53575953535353,-122.33631144897959,-122.48098011111111,-122.45546487755101,-122.51081685714286,-122.42171357142858,-122.3533284634913,-122.53958752146984,-122.46379353061225,-122.51184603321855,-122.47359986734695,-122.36381163636364,-122.51642330936865,-122.4694178989899,-122.43821101010101,-122.50900965778808,-122.44913136363635,-122.40265181835998,-122.51567690909091,-122.46324411111111,-122.47383424489796,-122.5269717478574,-122.51284775510204,-122.55540327272728,-122.3287919,-122.52958301703734,-122.5493346614846,-122.255976,-122.46179610204082,-122.49784015866734,-122.53575953535353,-122.37191928205128,-122.4479353939394,-122.447573,-122.46374455102041,-122.50513759183674,-122.480925,-122.50106073469388,-122.5234916453218,-122.40630646484225,-122.4340178,-122.49391215151515,-122.46155671428572,-122.40494904108346,-122.46531138871684,-122.49459814083336,-122.53066021212122,-122.45709566666667,-122.53016219772825,-122.42490938775511,-122.56257384802285,-122.52163792625618,-122.44599062626263,-122.49966460692801,-122.46324257142858,-122.50512166676944,-122.45533472727273,-122.22295215,-122.22494950689504,-122.25283485281923,-122.506888,-122.342496,-122.373143,-122.45291697959183,-122.48136234343434,-122.36453152939829,-122.50546538156351,-122.4037345510204,-122.55096900808418,-122.49459814083336,-122.396491081091,-122.4593579,-122.53688366666667,-122.492655,-122.643724664,-122.30474980063457,-122.4340178,-122.46179610204082,-122.5301104888889,-122.46512770712654,-122.4810183030303,-122.42563065656566,-122.47955238775509,-122.4536505510204,-122.25759173099064,-122.50748373534176,-122.4632837839196,-122.4645796744186,-122.41489518302784,-122.37281313783673,-122.4593579,-122.526245,-122.38447330478571,-122.48123933333333,-122.41517965538756,-122.41500387755103,-122.534194,-122.44985415,-122.42560496969696,-122.4196411,-122.43931391098513,-122.4618639,-122.48372485714286,-122.41112283673469,-122.51575288068182,-122.5403383032109,-122.22494950689504,-122.441815,-122.53846064724938,-122.38978271882083,-122.30898602405814,-122.456071,-122.48136234343434,-122.47383424489796,-122.3579285,-122.21853638532066,-122.34643125745892,-122.45076957142857,-122.41638326164681,-122.21866913185096,-122.53575953535353,-122.2255535,-122.22494950689504,-122.1631706,-122.22494950689504,-122.44963046938776,-122.476543,-122.40548229025337,-122.37871226507572,-122.39828628423311,-122.372477,-122.49459814083336,-122.44782424489796,-122.36188261917145,-122.48113156233104,-122.46265766666666,-122.44815393238707,-122.508545,-122.51603833540372,-122.50692275,-122.50473172090032,-122.45611338775511,-122.43658169565217,-122.53958752146984,-122.30876,-122.51813586432161],\"marker\":{\"color\":\"red\"},\"mode\":\"markers\",\"name\":\"Taxi Service\",\"showlegend\":true,\"subplot\":\"mapbox\",\"type\":\"scattermapbox\"}],                        {\"template\":{\"data\":{\"histogram2dcontour\":[{\"type\":\"histogram2dcontour\",\"colorbar\":{\"outlinewidth\":0,\"ticks\":\"\"},\"colorscale\":[[0.0,\"#0d0887\"],[0.1111111111111111,\"#46039f\"],[0.2222222222222222,\"#7201a8\"],[0.3333333333333333,\"#9c179e\"],[0.4444444444444444,\"#bd3786\"],[0.5555555555555556,\"#d8576b\"],[0.6666666666666666,\"#ed7953\"],[0.7777777777777778,\"#fb9f3a\"],[0.8888888888888888,\"#fdca26\"],[1.0,\"#f0f921\"]]}],\"choropleth\":[{\"type\":\"choropleth\",\"colorbar\":{\"outlinewidth\":0,\"ticks\":\"\"}}],\"histogram2d\":[{\"type\":\"histogram2d\",\"colorbar\":{\"outlinewidth\":0,\"ticks\":\"\"},\"colorscale\":[[0.0,\"#0d0887\"],[0.1111111111111111,\"#46039f\"],[0.2222222222222222,\"#7201a8\"],[0.3333333333333333,\"#9c179e\"],[0.4444444444444444,\"#bd3786\"],[0.5555555555555556,\"#d8576b\"],[0.6666666666666666,\"#ed7953\"],[0.7777777777777778,\"#fb9f3a\"],[0.8888888888888888,\"#fdca26\"],[1.0,\"#f0f921\"]]}],\"heatmap\":[{\"type\":\"heatmap\",\"colorbar\":{\"outlinewidth\":0,\"ticks\":\"\"},\"colorscale\":[[0.0,\"#0d0887\"],[0.1111111111111111,\"#46039f\"],[0.2222222222222222,\"#7201a8\"],[0.3333333333333333,\"#9c179e\"],[0.4444444444444444,\"#bd3786\"],[0.5555555555555556,\"#d8576b\"],[0.6666666666666666,\"#ed7953\"],[0.7777777777777778,\"#fb9f3a\"],[0.8888888888888888,\"#fdca26\"],[1.0,\"#f0f921\"]]}],\"heatmapgl\":[{\"type\":\"heatmapgl\",\"colorbar\":{\"outlinewidth\":0,\"ticks\":\"\"},\"colorscale\":[[0.0,\"#0d0887\"],[0.1111111111111111,\"#46039f\"],[0.2222222222222222,\"#7201a8\"],[0.3333333333333333,\"#9c179e\"],[0.4444444444444444,\"#bd3786\"],[0.5555555555555556,\"#d8576b\"],[0.6666666666666666,\"#ed7953\"],[0.7777777777777778,\"#fb9f3a\"],[0.8888888888888888,\"#fdca26\"],[1.0,\"#f0f921\"]]}],\"contourcarpet\":[{\"type\":\"contourcarpet\",\"colorbar\":{\"outlinewidth\":0,\"ticks\":\"\"}}],\"contour\":[{\"type\":\"contour\",\"colorbar\":{\"outlinewidth\":0,\"ticks\":\"\"},\"colorscale\":[[0.0,\"#0d0887\"],[0.1111111111111111,\"#46039f\"],[0.2222222222222222,\"#7201a8\"],[0.3333333333333333,\"#9c179e\"],[0.4444444444444444,\"#bd3786\"],[0.5555555555555556,\"#d8576b\"],[0.6666666666666666,\"#ed7953\"],[0.7777777777777778,\"#fb9f3a\"],[0.8888888888888888,\"#fdca26\"],[1.0,\"#f0f921\"]]}],\"surface\":[{\"type\":\"surface\",\"colorbar\":{\"outlinewidth\":0,\"ticks\":\"\"},\"colorscale\":[[0.0,\"#0d0887\"],[0.1111111111111111,\"#46039f\"],[0.2222222222222222,\"#7201a8\"],[0.3333333333333333,\"#9c179e\"],[0.4444444444444444,\"#bd3786\"],[0.5555555555555556,\"#d8576b\"],[0.6666666666666666,\"#ed7953\"],[0.7777777777777778,\"#fb9f3a\"],[0.8888888888888888,\"#fdca26\"],[1.0,\"#f0f921\"]]}],\"mesh3d\":[{\"type\":\"mesh3d\",\"colorbar\":{\"outlinewidth\":0,\"ticks\":\"\"}}],\"scatter\":[{\"fillpattern\":{\"fillmode\":\"overlay\",\"size\":10,\"solidity\":0.2},\"type\":\"scatter\"}],\"parcoords\":[{\"type\":\"parcoords\",\"line\":{\"colorbar\":{\"outlinewidth\":0,\"ticks\":\"\"}}}],\"scatterpolargl\":[{\"type\":\"scatterpolargl\",\"marker\":{\"colorbar\":{\"outlinewidth\":0,\"ticks\":\"\"}}}],\"bar\":[{\"error_x\":{\"color\":\"#2a3f5f\"},\"error_y\":{\"color\":\"#2a3f5f\"},\"marker\":{\"line\":{\"color\":\"#E5ECF6\",\"width\":0.5},\"pattern\":{\"fillmode\":\"overlay\",\"size\":10,\"solidity\":0.2}},\"type\":\"bar\"}],\"scattergeo\":[{\"type\":\"scattergeo\",\"marker\":{\"colorbar\":{\"outlinewidth\":0,\"ticks\":\"\"}}}],\"scatterpolar\":[{\"type\":\"scatterpolar\",\"marker\":{\"colorbar\":{\"outlinewidth\":0,\"ticks\":\"\"}}}],\"histogram\":[{\"marker\":{\"pattern\":{\"fillmode\":\"overlay\",\"size\":10,\"solidity\":0.2}},\"type\":\"histogram\"}],\"scattergl\":[{\"type\":\"scattergl\",\"marker\":{\"colorbar\":{\"outlinewidth\":0,\"ticks\":\"\"}}}],\"scatter3d\":[{\"type\":\"scatter3d\",\"line\":{\"colorbar\":{\"outlinewidth\":0,\"ticks\":\"\"}},\"marker\":{\"colorbar\":{\"outlinewidth\":0,\"ticks\":\"\"}}}],\"scattermapbox\":[{\"type\":\"scattermapbox\",\"marker\":{\"colorbar\":{\"outlinewidth\":0,\"ticks\":\"\"}}}],\"scatterternary\":[{\"type\":\"scatterternary\",\"marker\":{\"colorbar\":{\"outlinewidth\":0,\"ticks\":\"\"}}}],\"scattercarpet\":[{\"type\":\"scattercarpet\",\"marker\":{\"colorbar\":{\"outlinewidth\":0,\"ticks\":\"\"}}}],\"carpet\":[{\"aaxis\":{\"endlinecolor\":\"#2a3f5f\",\"gridcolor\":\"white\",\"linecolor\":\"white\",\"minorgridcolor\":\"white\",\"startlinecolor\":\"#2a3f5f\"},\"baxis\":{\"endlinecolor\":\"#2a3f5f\",\"gridcolor\":\"white\",\"linecolor\":\"white\",\"minorgridcolor\":\"white\",\"startlinecolor\":\"#2a3f5f\"},\"type\":\"carpet\"}],\"table\":[{\"cells\":{\"fill\":{\"color\":\"#EBF0F8\"},\"line\":{\"color\":\"white\"}},\"header\":{\"fill\":{\"color\":\"#C8D4E3\"},\"line\":{\"color\":\"white\"}},\"type\":\"table\"}],\"barpolar\":[{\"marker\":{\"line\":{\"color\":\"#E5ECF6\",\"width\":0.5},\"pattern\":{\"fillmode\":\"overlay\",\"size\":10,\"solidity\":0.2}},\"type\":\"barpolar\"}],\"pie\":[{\"automargin\":true,\"type\":\"pie\"}]},\"layout\":{\"autotypenumbers\":\"strict\",\"colorway\":[\"#636efa\",\"#EF553B\",\"#00cc96\",\"#ab63fa\",\"#FFA15A\",\"#19d3f3\",\"#FF6692\",\"#B6E880\",\"#FF97FF\",\"#FECB52\"],\"font\":{\"color\":\"#2a3f5f\"},\"hovermode\":\"closest\",\"hoverlabel\":{\"align\":\"left\"},\"paper_bgcolor\":\"white\",\"plot_bgcolor\":\"#E5ECF6\",\"polar\":{\"bgcolor\":\"#E5ECF6\",\"angularaxis\":{\"gridcolor\":\"white\",\"linecolor\":\"white\",\"ticks\":\"\"},\"radialaxis\":{\"gridcolor\":\"white\",\"linecolor\":\"white\",\"ticks\":\"\"}},\"ternary\":{\"bgcolor\":\"#E5ECF6\",\"aaxis\":{\"gridcolor\":\"white\",\"linecolor\":\"white\",\"ticks\":\"\"},\"baxis\":{\"gridcolor\":\"white\",\"linecolor\":\"white\",\"ticks\":\"\"},\"caxis\":{\"gridcolor\":\"white\",\"linecolor\":\"white\",\"ticks\":\"\"}},\"coloraxis\":{\"colorbar\":{\"outlinewidth\":0,\"ticks\":\"\"}},\"colorscale\":{\"sequential\":[[0.0,\"#0d0887\"],[0.1111111111111111,\"#46039f\"],[0.2222222222222222,\"#7201a8\"],[0.3333333333333333,\"#9c179e\"],[0.4444444444444444,\"#bd3786\"],[0.5555555555555556,\"#d8576b\"],[0.6666666666666666,\"#ed7953\"],[0.7777777777777778,\"#fb9f3a\"],[0.8888888888888888,\"#fdca26\"],[1.0,\"#f0f921\"]],\"sequentialminus\":[[0.0,\"#0d0887\"],[0.1111111111111111,\"#46039f\"],[0.2222222222222222,\"#7201a8\"],[0.3333333333333333,\"#9c179e\"],[0.4444444444444444,\"#bd3786\"],[0.5555555555555556,\"#d8576b\"],[0.6666666666666666,\"#ed7953\"],[0.7777777777777778,\"#fb9f3a\"],[0.8888888888888888,\"#fdca26\"],[1.0,\"#f0f921\"]],\"diverging\":[[0,\"#8e0152\"],[0.1,\"#c51b7d\"],[0.2,\"#de77ae\"],[0.3,\"#f1b6da\"],[0.4,\"#fde0ef\"],[0.5,\"#f7f7f7\"],[0.6,\"#e6f5d0\"],[0.7,\"#b8e186\"],[0.8,\"#7fbc41\"],[0.9,\"#4d9221\"],[1,\"#276419\"]]},\"xaxis\":{\"gridcolor\":\"white\",\"linecolor\":\"white\",\"ticks\":\"\",\"title\":{\"standoff\":15},\"zerolinecolor\":\"white\",\"automargin\":true,\"zerolinewidth\":2},\"yaxis\":{\"gridcolor\":\"white\",\"linecolor\":\"white\",\"ticks\":\"\",\"title\":{\"standoff\":15},\"zerolinecolor\":\"white\",\"automargin\":true,\"zerolinewidth\":2},\"scene\":{\"xaxis\":{\"backgroundcolor\":\"#E5ECF6\",\"gridcolor\":\"white\",\"linecolor\":\"white\",\"showbackground\":true,\"ticks\":\"\",\"zerolinecolor\":\"white\",\"gridwidth\":2},\"yaxis\":{\"backgroundcolor\":\"#E5ECF6\",\"gridcolor\":\"white\",\"linecolor\":\"white\",\"showbackground\":true,\"ticks\":\"\",\"zerolinecolor\":\"white\",\"gridwidth\":2},\"zaxis\":{\"backgroundcolor\":\"#E5ECF6\",\"gridcolor\":\"white\",\"linecolor\":\"white\",\"showbackground\":true,\"ticks\":\"\",\"zerolinecolor\":\"white\",\"gridwidth\":2}},\"shapedefaults\":{\"line\":{\"color\":\"#2a3f5f\"}},\"annotationdefaults\":{\"arrowcolor\":\"#2a3f5f\",\"arrowhead\":0,\"arrowwidth\":1},\"geo\":{\"bgcolor\":\"white\",\"landcolor\":\"#E5ECF6\",\"subunitcolor\":\"white\",\"showland\":true,\"showlakes\":true,\"lakecolor\":\"white\"},\"title\":{\"x\":0.05},\"mapbox\":{\"style\":\"light\"}}},\"mapbox\":{\"domain\":{\"x\":[0.0,1.0],\"y\":[0.0,1.0]},\"center\":{\"lat\":47.25,\"lon\":-122.44},\"zoom\":9,\"style\":\"carto-positron\"},\"legend\":{\"title\":{\"text\":\"NAICS_CODE_DESCRIPTION\"},\"tracegroupgap\":0},\"margin\":{\"t\":60},\"title\":{\"text\":\"Where are the taxis? API\"}},                        {\"responsive\": true}                    ).then(function(){\n",
       "                            \n",
       "var gd = document.getElementById('d788ca05-83fb-4c09-80bf-d32b854d7035');\n",
       "var x = new MutationObserver(function (mutations, observer) {{\n",
       "        var display = window.getComputedStyle(gd).display;\n",
       "        if (!display || display === 'none') {{\n",
       "            console.log([gd, 'removed!']);\n",
       "            Plotly.purge(gd);\n",
       "            observer.disconnect();\n",
       "        }}\n",
       "}});\n",
       "\n",
       "// Listen for the removal of the full notebook cells\n",
       "var notebookContainer = gd.closest('#notebook-container');\n",
       "if (notebookContainer) {{\n",
       "    x.observe(notebookContainer, {childList: true});\n",
       "}}\n",
       "\n",
       "// Listen for the clearing of the current output cell\n",
       "var outputEl = gd.closest('.output');\n",
       "if (outputEl) {{\n",
       "    x.observe(outputEl, {childList: true});\n",
       "}}\n",
       "\n",
       "                        })                };                });            </script>        </div>"
      ]
     },
     "metadata": {},
     "output_type": "display_data"
    }
   ],
   "source": [
    "# I'm only interested in the taxi licenses AND I've read the Nominatim terms of service about limiting bulk queries\n",
    "# Why don't I filter out my data frame to only include taxi licenses and then geocode those?\n",
    "# Hmmm... how could I do that? Perhaps the NAICS code?\n",
    "# I can read about pandas QUERIES here: https://www.sharpsightlabs.com/blog/pandas-query/ (or the formal documentation)\n",
    "\n",
    "import pandas\n",
    "import geopandas\n",
    "import plotly.express as pe\n",
    "from geopy import geocoders\n",
    "\n",
    "taxi2 = api.query('NAICS_CODE_DESCRIPTION == \"Taxi Service\"')\n",
    "#print(taxi2)\n",
    "\n",
    "# Assuming you have those results...\n",
    "# A lot of these don't have data in them, so let's drop those as well. I'll use .dropna() \n",
    "# Where could you read about that, do you think?\n",
    "# As a hint, I'd recommend dropping based off of the House and Street number column.\n",
    "#stuff goes here (I'm creating new dataframes, for the most part, to avoid a slice issue), there are other ways to avoid this\n",
    "\n",
    "\n",
    "# Alright, got that?\n",
    "# This next step is unnecessary as I could construct this information each time I need to\n",
    "# However, I'm going to create a new column in my dataframe that has the address location I want to pass to my geocoder\n",
    "# The format will read \"# Street Name, City, State\"\n",
    "\n",
    "taxi2['location'] = taxi2['HOUSE_NUMBER_AND_STREET_NAME'] + ', ' + taxi2['CITY'] + ', ' + taxi2['STATE']\n",
    "\n",
    "\n",
    "# I'm also going to create empty columns called lat and long.\n",
    "# This is where my solution begins to veer from the more elegant ones, see if you could condense these steps\n",
    "# Or, better yet, do a wholly different approach. This approach will get slower for extremely large datasets.\n",
    "# You can see some of the timings of how these approaches compare here: https://medium.com/swlh/how-to-efficiently-loop-through-pandas-dataframe-660e4660125d\n",
    "\n",
    "taxi2['lat'] = 0\n",
    "taxi2['long'] = 0\n",
    "\n",
    "taxi3 = taxi2.reset_index()\n",
    "\n",
    "# Now I want to loop through the dataframe and updating each lat and long with the results of the geocoder.\n",
    "# I used .iloc[i] here, but - again - there are better approaches (see the link above, also look up the .apply method)\n",
    "# This approach took me five minutes to run.\n",
    "\n",
    "\n",
    "for i in range(len(taxi3)):\n",
    "    #What might go here?\n",
    "    lat, long = geo(taxi3['location'].iloc[i])\n",
    "    taxi3['lat'].iloc[i] = lat\n",
    "    taxi3['long'].iloc[i] = long\n",
    "\n",
    "\n",
    "#print(taxi3.head())\n",
    "#print(len(taxi3.index))\n",
    "\n",
    "#Well, since I just used my basic geocoder above, a lot of these results didn't resolve. I need to use .dropna on the 'lat' or long column here...\n",
    "\n",
    "#taxi4 = # Use dropna here again...\n",
    "\n",
    "taxi4 = taxi3.dropna(subset=['lat'], axis=0)\n",
    "\n",
    "# Let's check our results! I had 485 entries only using nominatim, how about you? \n",
    "# Just as an fyi, there are 1245 entries for taxis in the original data... \n",
    "# While this is fine for this exercise, think about how you might process and parse the data to attain more results.\n",
    "# Also consider how the decisions you make when cleaning your data reflect the results you are going to get!\n",
    "\n",
    "#print(len(taxi2))\n",
    "\n",
    "# Now I need to create a map of the data.\n",
    "# Personally, I'd use plotly.express and create a scatterplot\n",
    "# To do that, I'd need to pull out the lat and long data stored in the dataframe... how might I do that?\n",
    "\n",
    "taximap = pe.scatter_mapbox(taxi4,\n",
    "                         lat='lat',\n",
    "                         lon='long', \n",
    "                         hover_name='BUSINESS_NAME',\n",
    "                         hover_data=['NAICS_CODE', 'HOUSE_NUMBER_AND_STREET_NAME', 'CITY', 'STATE', 'ZIP_CODE'],\n",
    "                         color='NAICS_CODE_DESCRIPTION',\n",
    "                        color_discrete_sequence=['red'],\n",
    "                        center={\"lat\": 47.25, \"lon\": -122.44},\n",
    "                         mapbox_style='carto-positron',\n",
    "                         zoom=9)\n",
    "\n",
    "taximap.update_layout(title='Where are the taxis? API')\n",
    "taximap.show()"
   ]
  },
  {
   "cell_type": "code",
   "execution_count": 13,
   "id": "bdfddefe",
   "metadata": {},
   "outputs": [
    {
     "name": "stdout",
     "output_type": "stream",
     "text": [
      "   LICENSE_NUMBER               BUSINESS_NAME                  OWNER_NAME  \\\n",
      "0       500046391           ANDREW J CASTALDI           ANDREW J CASTALDI   \n",
      "1       500125850              CHARLES MARBAS            CHARLES S MARBAS   \n",
      "2       500063442            ROBIN M PETERSON            ROBIN M PETERSON   \n",
      "3       500024129  OLSON BROTHERS PRO VAC LLC  OLSON BROTHERS PRO VAC LLC   \n",
      "4       500066927        NICOLE MARIE FORTINO        NICOLE MARIE FORTINO   \n",
      "\n",
      "  HOUSE_NUMBER_AND_STREET_NAME UNIT_NUMBER P_O__BOX      CITY STATE  \\\n",
      "0            504 GRANDVIEW AVE         NaN      NaN  PERKASIE    PA   \n",
      "1        17810 2ND AVENUE CT E         NaN      NaN  SPANAWAY    WA   \n",
      "2                                      NaN       97    VAUGHN    WA   \n",
      "3               2412 INTER AVE         NaN      NaN  PUYALLUP    WA   \n",
      "4         16207 LAKE SIDE DR S         NaN      NaN  SPANAWAY    WA   \n",
      "\n",
      "     ZIP_CODE  NAICS_CODE                    NAICS_CODE_DESCRIPTION  \\\n",
      "0       18944    531110.0  Lessors of Residential Buildings and Dwe   \n",
      "1  98387-4623    531120.0  Lessors of Nonresidential Bildngs (ex Mi   \n",
      "2       98394    531110.0  Lessors of Residential Buildings and Dwe   \n",
      "3  98372-3425    237110.0  Water/Sewer Line/ Related Structures Con   \n",
      "4  98387-8943    531110.0  Lessors of Residential Buildings and Dwe   \n",
      "\n",
      "       BUSINESS_OPEN_DATE Police_Sector_Subsector  \\\n",
      "0  2007/01/15 00:00:00+00                    None   \n",
      "1  2011/08/08 00:00:00+00                    None   \n",
      "2  2008/02/29 00:00:00+00                    None   \n",
      "3  2002/01/05 00:00:00+00                    None   \n",
      "4  2007/01/01 00:00:00+00                    None   \n",
      "\n",
      "                         Location_1  ObjectId  \n",
      "0  PERKASIE, PA (Address Not Found)         1  \n",
      "1  SPANAWAY, WA (Address Not Found)         2  \n",
      "2    VAUGHN, WA (Address Not Found)         3  \n",
      "3  PUYALLUP, WA (Address Not Found)         4  \n",
      "4  SPANAWAY, WA (Address Not Found)         5  \n",
      "29154\n"
     ]
    }
   ],
   "source": [
    "#CSV\n",
    "import pandas\n",
    "\n",
    "noapi = pandas.read_csv('TACOMA_BUSINESS_LICENSE.csv')\n",
    "print(noapi.head())\n",
    "print(len(noapi.index))"
   ]
  },
  {
   "cell_type": "code",
   "execution_count": 15,
   "id": "bb6da606",
   "metadata": {},
   "outputs": [
    {
     "name": "stderr",
     "output_type": "stream",
     "text": [
      "C:\\Users\\nguye\\AppData\\Local\\Temp\\ipykernel_13616\\2162656913.py:30: SettingWithCopyWarning:\n",
      "\n",
      "\n",
      "A value is trying to be set on a copy of a slice from a DataFrame.\n",
      "Try using .loc[row_indexer,col_indexer] = value instead\n",
      "\n",
      "See the caveats in the documentation: https://pandas.pydata.org/pandas-docs/stable/user_guide/indexing.html#returning-a-view-versus-a-copy\n",
      "\n",
      "C:\\Users\\nguye\\AppData\\Local\\Temp\\ipykernel_13616\\2162656913.py:38: SettingWithCopyWarning:\n",
      "\n",
      "\n",
      "A value is trying to be set on a copy of a slice from a DataFrame.\n",
      "Try using .loc[row_indexer,col_indexer] = value instead\n",
      "\n",
      "See the caveats in the documentation: https://pandas.pydata.org/pandas-docs/stable/user_guide/indexing.html#returning-a-view-versus-a-copy\n",
      "\n",
      "C:\\Users\\nguye\\AppData\\Local\\Temp\\ipykernel_13616\\2162656913.py:39: SettingWithCopyWarning:\n",
      "\n",
      "\n",
      "A value is trying to be set on a copy of a slice from a DataFrame.\n",
      "Try using .loc[row_indexer,col_indexer] = value instead\n",
      "\n",
      "See the caveats in the documentation: https://pandas.pydata.org/pandas-docs/stable/user_guide/indexing.html#returning-a-view-versus-a-copy\n",
      "\n",
      "C:\\Users\\nguye\\AppData\\Local\\Temp\\ipykernel_13616\\2162656913.py:51: SettingWithCopyWarning:\n",
      "\n",
      "\n",
      "A value is trying to be set on a copy of a slice from a DataFrame\n",
      "\n",
      "See the caveats in the documentation: https://pandas.pydata.org/pandas-docs/stable/user_guide/indexing.html#returning-a-view-versus-a-copy\n",
      "\n",
      "C:\\Users\\nguye\\AppData\\Local\\Temp\\ipykernel_13616\\2162656913.py:52: SettingWithCopyWarning:\n",
      "\n",
      "\n",
      "A value is trying to be set on a copy of a slice from a DataFrame\n",
      "\n",
      "See the caveats in the documentation: https://pandas.pydata.org/pandas-docs/stable/user_guide/indexing.html#returning-a-view-versus-a-copy\n",
      "\n"
     ]
    },
    {
     "data": {
      "application/vnd.plotly.v1+json": {
       "config": {
        "plotlyServerURL": "https://plot.ly"
       },
       "data": [
        {
         "customdata": [
          [
           485310,
           "5565 S 152ND ST",
           "TUKWILA",
           "WA",
           "98188-7815"
          ],
          [
           485310,
           null,
           null,
           null,
           null
          ],
          [
           485310,
           null,
           null,
           null,
           null
          ],
          [
           485310,
           null,
           null,
           null,
           null
          ],
          [
           485310,
           null,
           null,
           null,
           null
          ],
          [
           485310,
           null,
           null,
           null,
           null
          ],
          [
           485310,
           null,
           null,
           null,
           null
          ],
          [
           485310,
           "33628 7TH PL SW",
           "FEDERAL WAY",
           "WA",
           "98023-5004"
          ],
          [
           485310,
           "3702 AUBURN WAY S",
           "AUBURN",
           "WA",
           "98092-6242"
          ],
          [
           485310,
           "17223 32ND AVE S",
           "SEATAC",
           "WA",
           "98188-4415"
          ],
          [
           485310,
           "7263 38TH AVE S",
           "SEATTLE",
           "WA",
           "98118-6407"
          ],
          [
           485310,
           null,
           null,
           null,
           null
          ],
          [
           485310,
           "10619 NORTHSTAR WAY SW",
           "LAKEWOOD",
           "WA",
           "98498-3019"
          ],
          [
           485310,
           null,
           null,
           null,
           null
          ],
          [
           485310,
           null,
           null,
           null,
           null
          ],
          [
           485310,
           "50150 PL NE",
           "BELLEVUE",
           "WA",
           "98007"
          ],
          [
           485310,
           "14207 42ND AVE S",
           "TUKWILA",
           "WA",
           "98168"
          ],
          [
           485310,
           "425 SE CROSTON LN",
           "ISSAQUAH",
           "WA",
           "98027"
          ],
          [
           485310,
           null,
           null,
           null,
           null
          ],
          [
           485310,
           null,
           null,
           null,
           null
          ],
          [
           485310,
           "3331 234TH ST SE",
           "BOTHELL",
           "WA",
           "98021"
          ],
          [
           485310,
           "37002 SE GRAVENSTEIN CT",
           "SNOQUALMIE",
           "WA",
           "98065"
          ],
          [
           485310,
           "14021 15TH AVE NE",
           "SEATTLE",
           "WA",
           "98125"
          ],
          [
           485310,
           "15819 42ND AVE S",
           "TUKWILA",
           "WA",
           "98188-2644"
          ],
          [
           485310,
           null,
           null,
           null,
           null
          ],
          [
           485310,
           null,
           null,
           null,
           null
          ],
          [
           485310,
           null,
           null,
           null,
           null
          ],
          [
           485310,
           "23731 126TH PL SE",
           "KENT",
           "WA",
           "98031"
          ],
          [
           485310,
           "1727 SUMMIT AVE",
           "SEATTLE",
           "WA",
           "98122-2151"
          ],
          [
           485310,
           null,
           null,
           null,
           null
          ],
          [
           485310,
           "27807 151ST PL SE",
           "KENT",
           "WA",
           "98042-4429"
          ],
          [
           485310,
           "4137 SW FRONTENAC ST",
           "SEATTLE",
           "WA",
           "98136"
          ],
          [
           485310,
           "1900 SW CAMPUS DR",
           "FEDERAL WAY",
           "WA",
           "98023-6427"
          ],
          [
           485310,
           "31003 14TH AVE S",
           "FEDERAL WAY",
           "WA",
           "98003-9013"
          ],
          [
           485310,
           "14511 SE 254TH ST",
           "KENT",
           "WA",
           "98042-3417"
          ],
          [
           485310,
           "3900 VETERANS DR",
           "KENT",
           "WA",
           "98032-3951"
          ],
          [
           485310,
           "2016 S 291ST ST",
           "FEDERAL WAY",
           "WA",
           "98003-3819"
          ],
          [
           485310,
           "1016 S 138TH ST",
           "BURIEN",
           "WA",
           "98168-6636"
          ],
          [
           485310,
           "28620 PACIFIC HWY S",
           "FEDERAL WAY",
           "WA",
           "98003-9232"
          ],
          [
           485310,
           "33020 10TH AVE SW",
           "FEDERAL WAY",
           "WA",
           "98023-5714"
          ],
          [
           485310,
           "12911 SE 231ST WAY",
           "KENT",
           "WA",
           "98031-3641"
          ],
          [
           485310,
           "2224 NE 175TH ST",
           "SHORELINE",
           "WA",
           "98155"
          ],
          [
           485310,
           "11020 SE KENT KANGLEY RD",
           "KENT",
           "WA",
           "98030"
          ],
          [
           485310,
           "10455 DES MOINES MEMORIAL DR S",
           "SEATTLE",
           "WA",
           "98168-1697"
          ],
          [
           485310,
           "37310 32ND AVE S",
           "AUBURN",
           "WA",
           "98001-8729"
          ],
          [
           485310,
           "103 CENTER ST W",
           "EATONVILLE",
           "WA",
           "98328-6464"
          ],
          [
           485310,
           "8709 115TH CT SW",
           "LAKEWOOD",
           "WA",
           "98498"
          ],
          [
           485310,
           "33051 41ST PL S",
           "FEDERAL WAY",
           "WA",
           "98001-2651"
          ],
          [
           485310,
           "31227 121ST LANE SE",
           "AUBURN",
           "WA",
           "98092"
          ],
          [
           485310,
           "25010 111TH AVE SE",
           "KENT",
           "WA",
           "98030"
          ],
          [
           485310,
           "24447 12TH AVE S",
           "DES MOINES",
           "WA",
           "98198-3867"
          ],
          [
           485310,
           "2415 THORNDYKE AVE W",
           "SEATTLE",
           "WA",
           "98199"
          ],
          [
           485310,
           "2013 196TH STREET CT E",
           "SPANAWAY",
           "WA",
           "98387"
          ],
          [
           485310,
           "12810 SE 241ST ST",
           "KENT",
           "WA",
           "98030-5085"
          ],
          [
           485310,
           "1025 23RD ST NW",
           "PUYALLUP",
           "WA",
           "98371-3995"
          ],
          [
           485310,
           "2508 S 317TH ST",
           "FEDERAL WAY",
           "WA",
           "98003-5028"
          ],
          [
           485310,
           "107 161ST ST S",
           "SPANAWAY",
           "WA",
           "98387"
          ],
          [
           485310,
           "36010 9TH CT SW",
           "FEDERAL WAY",
           "WA",
           "98023"
          ],
          [
           485310,
           "1835 S 216TH ST",
           "DES MOINES",
           "WA",
           "98198"
          ],
          [
           485310,
           "2517 SW 120TH ST",
           "BURIEN",
           "WA",
           "98146"
          ],
          [
           485310,
           "2809 6TH ST SE",
           "PUYALLUP",
           "WA",
           "98374"
          ],
          [
           485310,
           "4153 S 292ND PL",
           "AUBURN",
           "WA",
           "98001"
          ],
          [
           485310,
           "4305 LACEY BLVD SE",
           "LACEY",
           "WA",
           "98503-2352"
          ],
          [
           485310,
           "4305 LACEY BLVD SE",
           "LACEY",
           "WA",
           "98503-2352"
          ],
          [
           485310,
           "4305 LACEY BLVD SE",
           "LACEY",
           "WA",
           "98503-2352"
          ],
          [
           485310,
           "4305 LACEY BLVD SE",
           "LACEY",
           "WA",
           "98503-2352"
          ],
          [
           485310,
           "16823  7TH AVE CT E",
           "SPANAWAY",
           "WA",
           "98387"
          ],
          [
           485310,
           "18015 116TH AVE SE",
           "RENTON",
           "WA",
           "98058-6564"
          ],
          [
           485310,
           null,
           null,
           null,
           null
          ],
          [
           485310,
           null,
           null,
           null,
           null
          ],
          [
           485310,
           "30316 24TH PL S",
           "FEDERAL WAY",
           "WA",
           "98003-4200"
          ],
          [
           485310,
           "2118 S 107TH ST",
           "SEATTLE",
           "WA",
           "98168-1758"
          ],
          [
           485310,
           "26001 119TH DR SE",
           "KENT",
           "WA",
           "98030-8406"
          ],
          [
           485310,
           "22048 102ND PL SE",
           "KENT",
           "WA",
           "98031-9500"
          ],
          [
           485310,
           "18025 272ND ST",
           "COVINGTON",
           "WA",
           "98042"
          ],
          [
           485310,
           "12217 SE 260TH PL",
           "KENT",
           "WA",
           "98030"
          ],
          [
           485310,
           null,
           null,
           null,
           null
          ],
          [
           485310,
           "15415 139TH AVE SE",
           "RENTON",
           "WA",
           "98058"
          ],
          [
           485310,
           "16400 84TH CT SE",
           "YELM",
           "WA",
           "98597"
          ],
          [
           485310,
           "9736 6TH PL SW",
           "SEATTLE",
           "WA",
           "98106"
          ],
          [
           485310,
           "23407 140TH AVE SE",
           "KENT",
           "WA",
           "98042"
          ],
          [
           485310,
           "721 SW 328TH ST",
           "FEDERAL WAY",
           "WA",
           "98023"
          ],
          [
           485310,
           "3608 S 180TH ST",
           "SEATAC",
           "WA",
           "98188"
          ],
          [
           485310,
           null,
           null,
           null,
           null
          ],
          [
           485310,
           "3223 S 204TH PL",
           "SEATAC",
           "WA",
           "98198-5875"
          ],
          [
           485310,
           "28620 PACIFIC HWY S",
           "FEDERAL WAY",
           "WA",
           "98003-9233"
          ],
          [
           485310,
           "3425 S 253RD ST",
           "KENT",
           "WA",
           "98032-9746"
          ],
          [
           485310,
           "1675 MOTTMAN RD SW",
           "TUMWATER",
           "WA",
           "98512"
          ],
          [
           485310,
           "12530 87TH PL NE",
           "KIRKLAND",
           "WA",
           "98034-2651"
          ],
          [
           485310,
           "23519 SE 254TH ST",
           "MAPLE VALLEY",
           "WA",
           "98038-6055"
          ],
          [
           485310,
           "2614 SW 332ND PL",
           "FEDERAL WAY",
           "WA",
           "98023-2746"
          ],
          [
           485310,
           "22692 129TH PL SE",
           "KENT",
           "WA",
           "98031-3978"
          ],
          [
           485310,
           "3012 S HOLLY ST",
           "SEATTLE",
           "WA",
           "98108-3780"
          ],
          [
           485310,
           "189 142ND PL NE",
           "BELLEVUE",
           "WA",
           "98007"
          ],
          [
           485310,
           "1333 N 125TH ST",
           "SEATTLE",
           "WA",
           "98133"
          ],
          [
           485310,
           "18859 SE 244TH PL",
           "COVINGTON",
           "WA",
           "98042"
          ],
          [
           485310,
           "2101 S 324TH ST",
           "FEDERAL WAY",
           "WA",
           "98003-8597"
          ],
          [
           485310,
           "27606 PACIFIC HWY S",
           "FEDERAL WAY",
           "WA",
           "98003-3411"
          ],
          [
           485310,
           "12723 SE 278TH PL",
           "KENT",
           "WA",
           "98030-8843"
          ],
          [
           485310,
           null,
           null,
           null,
           null
          ],
          [
           485310,
           null,
           null,
           null,
           null
          ],
          [
           485310,
           null,
           null,
           null,
           null
          ],
          [
           485310,
           null,
           null,
           null,
           null
          ],
          [
           485310,
           "13025 110TH AVE NE",
           "KIRKLAND",
           "WA",
           "98034-6304"
          ],
          [
           485310,
           "11918 SE 240TH PL",
           "KENT",
           "WA",
           "98030"
          ],
          [
           485310,
           null,
           null,
           null,
           null
          ],
          [
           485310,
           null,
           null,
           null,
           null
          ],
          [
           485310,
           "2206 S MERIDIAN",
           "PUYALLUP",
           "WA",
           "98371-7550"
          ],
          [
           485310,
           "10418 NE 115TH PL",
           "KIRKLAND",
           "WA",
           "98033-4302"
          ],
          [
           485310,
           null,
           null,
           null,
           null
          ],
          [
           485310,
           "11323 24TH AVE NE",
           "SEATTLE",
           "WA",
           "98125"
          ],
          [
           485310,
           "2316 BURBANK AVE NW",
           "OLYMPIA",
           "WA",
           "98502-8384"
          ],
          [
           485310,
           null,
           null,
           null,
           null
          ],
          [
           485310,
           "40 THUNDERBIRD PKWY SW",
           "LAKEWOOD",
           "WA",
           "98498-6119"
          ],
          [
           485310,
           "14914 13TH AVE S",
           "SPANAWAY",
           "WA",
           "98387"
          ],
          [
           485310,
           null,
           null,
           null,
           null
          ],
          [
           485310,
           null,
           null,
           null,
           null
          ],
          [
           485310,
           null,
           null,
           null,
           null
          ],
          [
           485310,
           "28105 153RD AVE SE",
           "KENT",
           "WA",
           "98042"
          ],
          [
           485310,
           "3504 SW WEBSTER ST",
           "SEATTLE",
           "WA",
           "98126"
          ],
          [
           485310,
           "29420 132ND AVE E",
           "GRAHAM",
           "WA",
           "98338-6003"
          ],
          [
           485310,
           "3100 SW GRAHAM ST",
           "SEATTLE",
           "WA",
           "98126"
          ],
          [
           485310,
           "29420 132ND AVE E",
           "GRAHAM",
           "WA",
           "98338"
          ],
          [
           485310,
           null,
           null,
           null,
           null
          ],
          [
           485310,
           "3516 S 146TH ST",
           "TUKWILA",
           "WA",
           "98168-4342"
          ],
          [
           485310,
           "3117 S 273RD ST",
           "AUBURN",
           "WA",
           "98001-1801"
          ],
          [
           485310,
           "3900 VETERANS DR",
           "KENT",
           "WA",
           "98032-3954"
          ],
          [
           485310,
           "21013 82ND ST E",
           "BONNEY LAKE",
           "WA",
           "98391-8326"
          ],
          [
           485310,
           "14629 42ND AVE S",
           "TUKWILA",
           "WA",
           "98168"
          ],
          [
           485310,
           "16912 NE 19TH PL",
           "BELLEVUE",
           "WA",
           "98008"
          ],
          [
           485310,
           "5132 BRIGHTON ST",
           "SEATTLE",
           "WA",
           "98118"
          ],
          [
           485310,
           "15627 129TH PL SE",
           "RENTON",
           "WA",
           "98058"
          ],
          [
           485310,
           "11020 SE KENT KANGLEY RD",
           "KENT",
           "WA",
           "98030-7255"
          ],
          [
           485310,
           "4305 S 217TH ST",
           "KENT",
           "WA",
           "98032-1402"
          ],
          [
           485310,
           "25819 26TH PL S",
           "KENT",
           "WA",
           "98032"
          ],
          [
           485310,
           "2714 NE 75TH ST",
           "SEATTLE",
           "WA",
           "98115"
          ],
          [
           485310,
           "22811 LAKEVIEW DRIVE",
           "MOUNTLAKE TERRACE",
           "WA",
           "98043"
          ],
          [
           485310,
           "3117 S 273RD ST",
           "AUBURN",
           "WA",
           "98001-1801"
          ],
          [
           485310,
           null,
           null,
           null,
           null
          ],
          [
           485310,
           null,
           null,
           null,
           null
          ],
          [
           485310,
           null,
           null,
           null,
           null
          ],
          [
           485310,
           "5824 117TH AVENUE CT E",
           "PUYALLUP",
           "WA",
           "98372"
          ],
          [
           485310,
           "23000 EDMONDS WAY",
           "EDMONDS",
           "WA",
           "98020"
          ],
          [
           485310,
           "2101 S 324TH ST",
           "FEDERAL WAY",
           "WA",
           "98003-8597"
          ],
          [
           485310,
           "18808 105TH AVE CT E",
           "PUYALLUP",
           "WA",
           "98374"
          ],
          [
           485310,
           null,
           null,
           null,
           null
          ],
          [
           485310,
           null,
           null,
           null,
           null
          ],
          [
           485310,
           null,
           null,
           null,
           null
          ],
          [
           485310,
           null,
           null,
           null,
           null
          ],
          [
           485310,
           null,
           null,
           null,
           null
          ],
          [
           485310,
           null,
           null,
           null,
           null
          ],
          [
           485310,
           null,
           null,
           null,
           null
          ],
          [
           485310,
           null,
           null,
           null,
           null
          ],
          [
           485310,
           null,
           null,
           null,
           null
          ],
          [
           485310,
           null,
           null,
           null,
           null
          ],
          [
           485310,
           null,
           null,
           null,
           null
          ],
          [
           485310,
           null,
           null,
           null,
           null
          ],
          [
           485310,
           "11826 76TH AVE S",
           "SEATTLE",
           "WA",
           "98178-3804"
          ],
          [
           485310,
           null,
           null,
           null,
           null
          ],
          [
           485310,
           null,
           null,
           null,
           null
          ],
          [
           485310,
           null,
           null,
           null,
           null
          ],
          [
           485310,
           "1401 MARVIN RD NE",
           "LACEY",
           "WA",
           "98516"
          ],
          [
           485310,
           null,
           null,
           null,
           null
          ],
          [
           485310,
           "9214 32ND AVE SW",
           "SEATTLE",
           "WA",
           "98126-3817"
          ],
          [
           485310,
           " ",
           "KAPOWSIN",
           "WA",
           null
          ],
          [
           485310,
           "14900 UNION AVE SW",
           "LAKEWOOD",
           "WA",
           "98498-2276"
          ],
          [
           485310,
           "7315 NE 30TH CT",
           "VANCOUVER",
           "WA",
           "98665-1448"
          ],
          [
           485310,
           "14330 126TH AVE NE",
           "KIRKLAND",
           "WA",
           "98034"
          ],
          [
           485310,
           "14921 93RD BLVD NE",
           "BOTHELL",
           "WA",
           "98011"
          ],
          [
           485310,
           "23921 139TH PL SE",
           "KENT",
           "WA",
           "98042"
          ],
          [
           485310,
           "5423 VILLAGE PK DR SE",
           "BELLEVUE",
           "WA",
           "98006"
          ],
          [
           485310,
           "6543 DELRIDGE WAY SW",
           "SEATTLE",
           "WA",
           "98106"
          ],
          [
           485310,
           null,
           null,
           null,
           null
          ],
          [
           485310,
           "313 FERNDALE AVE SE",
           "RENTON",
           "WA",
           "98506-8891"
          ],
          [
           485310,
           "11616 SE 230TH PL",
           "KENT",
           "WA",
           "98031-3746"
          ],
          [
           485310,
           "26212 121ST AVE SE",
           "KENT",
           "WA",
           "98030"
          ],
          [
           485310,
           "5902 OLIVE AVE SE",
           "AUBURN",
           "WA",
           "98092"
          ],
          [
           485310,
           "21920 42ND AVE S",
           "KENT",
           "WA",
           "98032"
          ],
          [
           485310,
           null,
           null,
           null,
           null
          ],
          [
           485310,
           "8944 132ND PL SE",
           "NEWCASTLE",
           "WA",
           "98059"
          ],
          [
           485310,
           "9700 RENTON  AVE S",
           "SEATTLE",
           "WA",
           "98118"
          ],
          [
           485310,
           "8801 DELRIDGE WAY SW",
           "SEATTLE",
           "WA",
           "98106"
          ],
          [
           485310,
           null,
           null,
           null,
           null
          ],
          [
           485310,
           null,
           null,
           null,
           null
          ],
          [
           485310,
           null,
           null,
           null,
           null
          ],
          [
           485310,
           "987 LUMMI DR",
           "FOX ISLAND",
           "WA",
           "98333"
          ],
          [
           485310,
           "10809 181ST AVE PL E",
           "BONNEY LAKE",
           "WA",
           "98391"
          ],
          [
           485310,
           "2185 SE TIBURON CT",
           "PORT ORCHARD",
           "WA",
           "98366"
          ],
          [
           485310,
           "1716 8TH AVE SW",
           "PUYALLUP",
           "WA",
           "98371"
          ],
          [
           485310,
           " ",
           "SHORELINE",
           "WA",
           "98177"
          ],
          [
           485310,
           "11725 15TH  AVE  NE",
           "SEATTLE",
           "WA",
           "98125"
          ],
          [
           485310,
           "7035 S 133RD ST",
           "SEATTLE",
           "WA",
           "98178"
          ],
          [
           485310,
           "17202 NE 85TH PL",
           "REDMOND",
           "WA",
           "98052"
          ],
          [
           485310,
           "7932 46TH AVE S",
           "SEATTLE",
           "WA",
           "98118"
          ],
          [
           485310,
           "2226 EASTLAKE AVE E",
           "SEATTLE",
           "WA",
           "98102"
          ],
          [
           485310,
           "1821 S 310TH ST",
           "FEDERAL WAY",
           "WA",
           "98003"
          ],
          [
           485310,
           "11108 CHENNAULT BEACH RD",
           "MUKILTEO",
           "WA",
           "98275"
          ],
          [
           485310,
           "13230 NE 139TH PL",
           "KIRKLAND",
           "WA",
           "98034-5523"
          ],
          [
           485310,
           "15405 DES MOINES MEMORIAL DR S",
           "SEATAC",
           "WA",
           "98148-2543"
          ],
          [
           485310,
           "3129 S 381ST WAY",
           "AUBURN",
           "WA",
           "98001-8767"
          ],
          [
           485310,
           "1318 OLSEN AVE",
           "BUCKLEY",
           "WA",
           "98321"
          ],
          [
           485310,
           "5565 S 152ND ST",
           "TUKWILA",
           "WA",
           "98188-7818"
          ],
          [
           485310,
           "3922 S MEAD ST",
           "SEATTLE",
           "WA",
           "98118"
          ],
          [
           485310,
           "8401 DELRIDGE WAY SW",
           "SEATTLE",
           "WA",
           "98106-2232"
          ],
          [
           485310,
           "462 BONDGARD AVE E",
           "ENUMCLAW",
           "WA",
           "98022-2997"
          ],
          [
           485310,
           "9350 REDMOND WOODINVILLE RD NE",
           "REDMOND",
           "WA",
           "98052"
          ],
          [
           485310,
           "105 N 3RD AVE SW",
           "TUMWATER",
           "WA",
           "98512"
          ],
          [
           485310,
           "12610 SE 160TH ST",
           "RENTON",
           "WA",
           "98058"
          ],
          [
           485310,
           "4425 S 220TH PL",
           "KENT",
           "WA",
           "98032"
          ],
          [
           485310,
           "321 BOYLSTON AVE E",
           "SEATTLE",
           "WA",
           "98102-5345"
          ],
          [
           485310,
           "8415 235TH PL SW",
           "EDMONDS",
           "WA",
           "98026"
          ],
          [
           485310,
           null,
           null,
           null,
           null
          ],
          [
           485310,
           "25931 13TH PL S",
           "DES MOINES",
           "WA",
           "98198"
          ],
          [
           485310,
           null,
           null,
           null,
           null
          ],
          [
           485310,
           null,
           null,
           null,
           null
          ],
          [
           485310,
           null,
           null,
           null,
           null
          ],
          [
           485310,
           "913 VASHON PL NE",
           "RENTON",
           "WA",
           "98059-4569"
          ],
          [
           485310,
           "12508 LAKE CITY WAY NE",
           "SEATTLE",
           "WA",
           "98125"
          ],
          [
           485310,
           "2903 6TH ST SE",
           "PUYALLUP",
           "WA",
           "98374"
          ],
          [
           485310,
           "413 U ST SE",
           "AUBURN",
           "WA",
           "98002"
          ],
          [
           485310,
           "12253 1ST AVE S",
           "SEATTLE",
           "WA",
           "98168"
          ],
          [
           485310,
           null,
           null,
           null,
           null
          ],
          [
           485310,
           "1605 ELIZABETH LN",
           "GOLD BAR",
           "WA",
           "98251-9237"
          ],
          [
           485310,
           "2911 18TH ST SE",
           "PUYALLUP",
           "WA",
           "98374-6323"
          ],
          [
           485310,
           "4417 S 217TH PL",
           "KENT",
           "WA",
           "98032-2307"
          ],
          [
           485310,
           "10531 SE 250TH PL",
           "KENT",
           "WA",
           "98030-2892"
          ],
          [
           485310,
           "13025 12TH AVE S",
           "BURIEN",
           "WA",
           "98168-2872"
          ],
          [
           485310,
           "3434 S 144TH ST",
           "TUKWILA",
           "WA",
           "98168-4061"
          ],
          [
           485310,
           "600 ELLINGSON RD",
           "PACIFIC",
           "WA",
           "98047-1286"
          ],
          [
           485310,
           null,
           null,
           null,
           null
          ],
          [
           485310,
           null,
           null,
           null,
           null
          ],
          [
           485310,
           null,
           null,
           null,
           null
          ],
          [
           485310,
           null,
           null,
           null,
           null
          ],
          [
           485310,
           null,
           null,
           null,
           null
          ],
          [
           485310,
           null,
           null,
           null,
           null
          ],
          [
           485310,
           null,
           null,
           null,
           null
          ],
          [
           485310,
           "3425 S 176TH ST",
           "SEATAC",
           "WA",
           "98188-4044"
          ],
          [
           485310,
           "4505 S 217TH ST",
           "KENT",
           "WA",
           "98032"
          ],
          [
           485310,
           "37700 44TH  AVE  S",
           "AUBURN",
           "WA",
           "98001"
          ],
          [
           485310,
           "446 S 152ND ST",
           "BURIEN",
           "WA",
           "98148"
          ],
          [
           485310,
           null,
           null,
           null,
           null
          ],
          [
           485310,
           "17015 164TH AVE NE",
           "WOODINVILLE",
           "WA",
           "98072"
          ],
          [
           485310,
           "18014 81ST LN NE",
           "KENMORE",
           "WA",
           "98028"
          ],
          [
           485310,
           "1409 SW 166TH ST",
           "BURIEN",
           "WA",
           "98166-3415"
          ],
          [
           485310,
           "16636 127TH AVE SE",
           "RENTON",
           "WA",
           "98058"
          ],
          [
           485310,
           "3095 SHEASER WAY",
           "DUPONT",
           "WA",
           "98327"
          ],
          [
           485310,
           "2309 E MAIN AVE",
           "PUYALLUP",
           "WA",
           "98372"
          ],
          [
           485310,
           "21105 131ST AVE E",
           "GRAHAM",
           "WA",
           "98338"
          ],
          [
           485310,
           "3900 VETERANS DR",
           "KENT",
           "WA",
           "98032-3934"
          ],
          [
           485310,
           null,
           null,
           null,
           null
          ],
          [
           485310,
           "31900 2ND LN SW",
           "FEDERAL WAY",
           "WA",
           "98023-4653"
          ],
          [
           485310,
           "12033 1st AVE S",
           "SEATTLE",
           "WA",
           "98168-5033"
          ],
          [
           485310,
           "333 s 320TH ST",
           "FEDERAL WAY",
           "WA",
           "98003-4614"
          ],
          [
           485310,
           "2230 n 106TH ST",
           "SEATTLE",
           "WA",
           "98133-9560"
          ],
          [
           485310,
           "440 21ST NW",
           "PUYALLUP",
           "WA",
           "98371"
          ],
          [
           485310,
           "16921 SPRUCE WAY",
           "LYNNWOOD",
           "WA",
           "98037"
          ],
          [
           485310,
           "213 SW 313TH ST",
           "FEDERAL WAY",
           "WA",
           "98023"
          ],
          [
           485310,
           "26304 235TH AVE SE",
           "MAPLE VALLEY",
           "WA",
           "98038"
          ],
          [
           485310,
           "5121 S ROXBURY ST",
           "SEATTLE",
           "WA",
           "98118"
          ],
          [
           485310,
           null,
           null,
           null,
           null
          ],
          [
           485310,
           null,
           null,
           null,
           null
          ],
          [
           485310,
           null,
           null,
           null,
           null
          ],
          [
           485310,
           null,
           null,
           null,
           null
          ],
          [
           485310,
           null,
           null,
           null,
           null
          ],
          [
           485310,
           null,
           null,
           null,
           null
          ],
          [
           485310,
           "21800 PACIFIC HWY S",
           "DES MOINES",
           "WA",
           "98198"
          ],
          [
           485310,
           "2741 S 242ND ST",
           "DES MOINES",
           "WA",
           "98198"
          ],
          [
           485310,
           "15019 230TH ST E",
           "GRAHAM",
           "WA",
           "98338"
          ],
          [
           485310,
           "4412 212TH ST SW",
           "MOUNTLAKE TERRACE",
           "WA",
           "98043"
          ],
          [
           485310,
           "2510 WOODS DR",
           "STEILACOOM",
           "WA",
           "98388-4233"
          ],
          [
           485310,
           "22634 10TH AVE S",
           "DES MOINES",
           "WA",
           "98198-6915"
          ],
          [
           485310,
           "3223 S 204TH PL",
           "SEATAC",
           "WA",
           "98198-5875"
          ],
          [
           485310,
           "26007 132ND AVE SE",
           "KENT",
           "WA",
           "98042-3503"
          ],
          [
           485310,
           "203 HAWK AVE SW",
           "ORTING",
           "WA",
           "98360-8415"
          ],
          [
           485310,
           "2913 13TH AVENUE CT NW",
           "PUYALLUP",
           "WA",
           "98371-3983"
          ],
          [
           485310,
           "21800 PACIFIC HWY S",
           "DES MOINES",
           "WA",
           "98198-7793"
          ],
          [
           485310,
           "16724 SE 251ST PL",
           "COVINGTON",
           "WA",
           "98042-5230"
          ],
          [
           485310,
           null,
           null,
           null,
           null
          ],
          [
           485310,
           "4821 KENT DES MOINES RD",
           "KENT",
           "WA",
           "98032-4240"
          ],
          [
           485310,
           "17223 32ND AVE S",
           "SEATAC",
           "WA",
           "98188-4409"
          ],
          [
           485310,
           "4718 S 124TH ST",
           "TUKWILA",
           "WA",
           "98178-3450"
          ],
          [
           485310,
           "14008 6TH AVE S",
           "BURIEN",
           "WA",
           "98168-3523"
          ],
          [
           485310,
           null,
           null,
           null,
           null
          ],
          [
           485310,
           null,
           null,
           null,
           null
          ],
          [
           485310,
           null,
           null,
           null,
           null
          ],
          [
           485310,
           "35209 172ND AVE SE",
           "AUBURN",
           "WA",
           "98092-2616"
          ],
          [
           485310,
           null,
           null,
           null,
           null
          ],
          [
           485310,
           null,
           null,
           null,
           null
          ],
          [
           485310,
           null,
           null,
           null,
           null
          ],
          [
           485310,
           null,
           null,
           null,
           null
          ],
          [
           485310,
           null,
           null,
           null,
           null
          ],
          [
           485310,
           null,
           null,
           null,
           null
          ],
          [
           485310,
           null,
           null,
           null,
           null
          ],
          [
           485310,
           null,
           null,
           null,
           null
          ],
          [
           485310,
           null,
           null,
           null,
           null
          ],
          [
           485310,
           null,
           null,
           null,
           null
          ],
          [
           485310,
           null,
           null,
           null,
           null
          ],
          [
           485310,
           null,
           null,
           null,
           null
          ],
          [
           485310,
           "50101 146TH AVE E",
           "EATONVILLE",
           "WA",
           "98328"
          ],
          [
           485310,
           "22606 91ST AVENUE CT E",
           "GRAHAM",
           "WA",
           "98338"
          ],
          [
           485310,
           "25830 26TH PL S",
           "KENT",
           "WA",
           "98032-6318"
          ],
          [
           485310,
           null,
           null,
           null,
           null
          ],
          [
           485310,
           null,
           null,
           null,
           null
          ],
          [
           485310,
           null,
           null,
           null,
           null
          ],
          [
           485310,
           null,
           null,
           null,
           null
          ],
          [
           485310,
           null,
           null,
           null,
           null
          ],
          [
           485310,
           null,
           null,
           null,
           null
          ],
          [
           485310,
           null,
           null,
           null,
           null
          ],
          [
           485310,
           null,
           null,
           null,
           null
          ],
          [
           485310,
           null,
           null,
           null,
           null
          ],
          [
           485310,
           null,
           null,
           null,
           null
          ],
          [
           485310,
           null,
           null,
           null,
           null
          ],
          [
           485310,
           null,
           null,
           null,
           null
          ],
          [
           485310,
           null,
           null,
           null,
           null
          ],
          [
           485310,
           null,
           null,
           null,
           null
          ],
          [
           485310,
           null,
           null,
           null,
           null
          ],
          [
           485310,
           null,
           null,
           null,
           null
          ],
          [
           485310,
           null,
           null,
           null,
           null
          ],
          [
           485310,
           null,
           null,
           null,
           null
          ],
          [
           485310,
           null,
           null,
           null,
           null
          ],
          [
           485310,
           null,
           null,
           null,
           null
          ],
          [
           485310,
           null,
           null,
           null,
           null
          ],
          [
           485310,
           null,
           null,
           null,
           null
          ],
          [
           485310,
           null,
           null,
           null,
           null
          ],
          [
           485310,
           null,
           null,
           null,
           null
          ],
          [
           485310,
           null,
           null,
           null,
           null
          ],
          [
           485310,
           "1930 SW 318TH PL",
           "FEDERAL WAY",
           "WA",
           "98023"
          ],
          [
           485310,
           "27106 123RD PLACE SE",
           "KENT",
           "WA",
           "98030"
          ],
          [
           485310,
           "2511 S GRAHAM ST",
           "SEATTLE",
           "WA",
           "98108-3125"
          ],
          [
           485310,
           "12610 SE 160TH ST",
           "RENTON",
           "WA",
           "98058"
          ],
          [
           485310,
           "16763 NE 121ST ST",
           "REDMOND",
           "WA",
           "93852"
          ],
          [
           485310,
           "10708 174TH AVE E",
           "BONNEY LAKE",
           "WA",
           "98391"
          ],
          [
           485310,
           "22118 113TH CT SE",
           "KENT",
           "WA",
           "98031"
          ],
          [
           485310,
           "24129 232ND PL SE",
           "MAPLE VALLEY",
           "WA",
           "98038"
          ],
          [
           485310,
           "22106 40TH PL S",
           "KENT",
           "WA",
           "98032"
          ],
          [
           485310,
           "1125 102ND AVE",
           "BELLEVUE",
           "WA",
           "98004"
          ],
          [
           485310,
           "29411 4TH AVE S",
           "FEDERAL WAY",
           "WA",
           "98003"
          ],
          [
           485310,
           "307 2ND AVE NE",
           "PUYALLUP",
           "WA",
           "98372"
          ],
          [
           485310,
           "11510 E RIVERSIDE DR",
           "BOTHELL",
           "WA",
           "98011"
          ],
          [
           485310,
           "4628 S 160TH ST",
           "TUKWILA",
           "WA",
           "98188-2758"
          ],
          [
           485310,
           "13030 LINDEN AVE N",
           "SEATTLE",
           "WA",
           "98133"
          ],
          [
           485310,
           "30344 125TH CT SE",
           "AUBURN",
           "WA",
           "98092-2291"
          ],
          [
           485310,
           "25623 98TH AVE S",
           "KENT",
           "WA",
           "98030-6147"
          ],
          [
           485310,
           "14240 YELM HWY SE",
           "YELM",
           "WA",
           "98597"
          ],
          [
           485310,
           "1147 GLENNWOOD AVE NE",
           "RENTON",
           "WA",
           "98056"
          ],
          [
           485310,
           "25623 98TH AVE S",
           "KENT",
           "WA",
           "98030"
          ],
          [
           485310,
           "14605 WALLINGFORD AVE N",
           "SHORELINE",
           "WA",
           "98133"
          ],
          [
           485310,
           null,
           null,
           null,
           null
          ],
          [
           485310,
           "9317 220TH STREET CT E",
           "GRAHAM",
           "WA",
           "98338-9197"
          ],
          [
           485310,
           null,
           null,
           null,
           null
          ],
          [
           485310,
           null,
           null,
           null,
           null
          ],
          [
           485310,
           "602 5TH ST",
           "STEILACOOM",
           "WA",
           "98388-1802"
          ],
          [
           485310,
           null,
           null,
           null,
           null
          ],
          [
           485310,
           "2002 177TH ST CT E",
           "SPANAWAY",
           "WA",
           "98387-2914"
          ],
          [
           485310,
           null,
           null,
           null,
           null
          ],
          [
           485310,
           null,
           null,
           null,
           null
          ],
          [
           485310,
           null,
           null,
           null,
           null
          ],
          [
           485310,
           null,
           null,
           null,
           null
          ],
          [
           485310,
           null,
           null,
           null,
           null
          ],
          [
           485310,
           "1922 28TH AVE SW",
           "PUYALLUP",
           "WA",
           "98373-1362"
          ],
          [
           485310,
           " ",
           "STEILACOOM",
           "WA",
           "98388"
          ],
          [
           485310,
           null,
           null,
           null,
           null
          ],
          [
           485310,
           null,
           null,
           null,
           null
          ],
          [
           485310,
           null,
           null,
           null,
           null
          ],
          [
           485310,
           null,
           null,
           null,
           null
          ],
          [
           485310,
           null,
           null,
           null,
           null
          ],
          [
           485310,
           "6806 OSWEGO PL NE",
           "SEATTLE",
           "WA",
           "98115"
          ],
          [
           485310,
           null,
           null,
           null,
           null
          ],
          [
           485310,
           null,
           null,
           null,
           null
          ],
          [
           485310,
           null,
           null,
           null,
           null
          ],
          [
           485310,
           null,
           null,
           null,
           null
          ],
          [
           485310,
           "1307 10TH AVE",
           "MILTON",
           "WA",
           "98354-8825"
          ],
          [
           485310,
           "2108 S 90TH ST",
           "TACOMA",
           "WA",
           "98444"
          ],
          [
           485310,
           "2436 I ST NE",
           "AUBURN",
           "WA",
           "98002-2480"
          ],
          [
           485310,
           "1419 S 5TH ST",
           "TACOMA",
           "WA",
           "98405-3711"
          ],
          [
           485310,
           "4600 16TH ST E",
           "FIFE",
           "WA",
           "98424-2634"
          ],
          [
           485310,
           "2108 S 90TH ST",
           "TACOMA",
           "WA",
           "98444"
          ],
          [
           485310,
           "9819 PARK AVE S",
           "TACOMA",
           "WA",
           "98444-5934"
          ],
          [
           485310,
           "4925 30TH ST NE",
           "TACOMA",
           "WA",
           "98422-2901"
          ],
          [
           485310,
           "7305 N SKYVIEW PL",
           "TACOMA",
           "WA",
           "98406-1301"
          ],
          [
           485310,
           "2755 SE 4TH ST",
           "RENTON",
           "WA",
           "98056"
          ],
          [
           485310,
           "2603 S 19TH ST",
           "TACOMA",
           "WA",
           "98405"
          ],
          [
           485310,
           "14410 4TH AVE CT E",
           "PARKLAND",
           "WA",
           "98445"
          ],
          [
           485310,
           "7406 27TH ST W",
           "UNIVERSITY PLACE",
           "WA",
           "98466"
          ],
          [
           485310,
           "3817 S TYLER ST",
           "TACOMA",
           "WA",
           "98409-2131"
          ],
          [
           485310,
           "7700 RAINIER AVE S",
           "SEATTLE",
           "WA",
           "98118"
          ],
          [
           485310,
           "4516 36TH AVE W",
           "SEATTLE",
           "WA",
           "98199"
          ],
          [
           485310,
           "8307 83RD AVENUE CT SW",
           "LAKEWOOD",
           "WA",
           "98498-4783"
          ],
          [
           485310,
           "5043 S TRAFTON ST",
           "TACOMA",
           "WA",
           "98409-7143"
          ],
          [
           485310,
           "763 S 74TH ST",
           "TACOMA",
           "WA",
           "98408-5408"
          ],
          [
           485310,
           "319 N I ST",
           "TACOMA",
           "WA",
           "98403-0000"
          ],
          [
           485310,
           "5002 52ND AVENUE CT W",
           "UNIVERSITY PLACE",
           "WA",
           "98467"
          ],
          [
           485310,
           "1334 E 49TH ST",
           "TACOMA",
           "WA",
           "98404-3617"
          ],
          [
           485310,
           "4275 S PINE ST",
           "TACOMA",
           "WA",
           "98409-6573"
          ],
          [
           485310,
           "5311 CHICAGO AVE SW",
           "LAKEWOOD",
           "WA",
           "98499-5712"
          ],
          [
           485310,
           "2616 21ST AVE S",
           "SEATTLE",
           "WA",
           "98144"
          ],
          [
           485310,
           "14422 34TH AVE S",
           "TUKWILA",
           "WA",
           "98168"
          ],
          [
           485310,
           "4750 AUBURN WAY N",
           "AUBURN",
           "WA",
           "98002-2030"
          ],
          [
           485310,
           "708 MARKET ST",
           "TACOMA",
           "WA",
           "98402-3747"
          ],
          [
           485310,
           "3225 NE 25TH ST",
           "RENTON",
           "WA",
           "98056"
          ],
          [
           485310,
           "3015 N PEARL ST.",
           "TACOMA",
           "WA",
           "98407"
          ],
          [
           485310,
           "4114 S THOMPSON AVE",
           "TACOMA",
           "WA",
           "98418"
          ],
          [
           485310,
           "819 9TH AVE NW",
           "PUYALLUP",
           "WA",
           "98371"
          ],
          [
           485310,
           "4001 S PINE ST",
           "TACOMA",
           "WA",
           "98413"
          ],
          [
           485310,
           "7601 146TH ST SW",
           "LAKEWOOD",
           "WA",
           "98439-1103"
          ],
          [
           485310,
           "1614 S 84TH ST",
           "TACOMA",
           "WA",
           "98444-3112"
          ],
          [
           485310,
           "1020 S HOWARD ST",
           "TACOMA",
           "WA",
           "98465-1818"
          ],
          [
           485310,
           "28707 20TH AVE S",
           "FEDERAL WAY",
           "WA",
           "98003-3234"
          ],
          [
           485310,
           "139 E 66TH ST",
           "TACOMA",
           "WA",
           "98404"
          ],
          [
           485310,
           "4215 S 30TH ST",
           "TACOMA",
           "WA",
           "98409-3263"
          ],
          [
           485310,
           "1922 E 59TH ST",
           "TACOMA",
           "WA",
           "98404-4407"
          ],
          [
           485310,
           "12606 117TH AVENUE CT E",
           "PUYALLUP",
           "WA",
           "98374-4071"
          ],
          [
           485310,
           "7406 27TH ST W",
           "UNIVERSITY PLACE",
           "WA",
           "98466"
          ],
          [
           485310,
           "241 37TH PL SE",
           "AUBURN",
           "WA",
           "98002-8803"
          ],
          [
           485310,
           "1111 S HIGHLAND AVE",
           "TACOMA",
           "WA",
           "98465-2327"
          ],
          [
           485310,
           "7407 E D ST",
           "TACOMA",
           "WA",
           "98404-1079"
          ],
          [
           485310,
           "9402 E D ST",
           "TACOMA",
           "WA",
           "98445-2144"
          ],
          [
           485310,
           " ",
           "TACOMA",
           "WA",
           null
          ],
          [
           485310,
           "7623 E D ST",
           "TACOMA",
           "WA",
           "98404-1038"
          ],
          [
           485310,
           "2610 E BAY ST",
           "TACOMA",
           "WA",
           "98421-2611"
          ],
          [
           485310,
           "4955 S ORCHARD ST",
           "TACOMA",
           "WA",
           "98467-4814"
          ],
          [
           485310,
           "7406 27TH ST W",
           "TACOMA",
           "WA",
           "98466"
          ],
          [
           485310,
           "9508 56TH AVE SW",
           "LAKEWOOD",
           "WA",
           "98499"
          ],
          [
           485310,
           "207 5TH AVE SW",
           "PUYALLUP",
           "WA",
           "98371-1958"
          ],
          [
           485310,
           "3726 PACIFIC AVE SE",
           "OLYMPIA",
           "WA",
           "98501-2170"
          ],
          [
           485310,
           "6612 S WARNER ST",
           "TACOMA",
           "WA",
           "98409-4021"
          ],
          [
           485310,
           "6601 S TYLER ST",
           "TACOMA",
           "WA",
           "98409"
          ],
          [
           485310,
           "6350 RADIANCE BLVD E",
           "FIFE",
           "WA",
           "98424"
          ],
          [
           485310,
           "6314 WESTGATE BLVD",
           "TACOMA",
           "WA",
           "98406-2202"
          ],
          [
           485310,
           "10202 LAKEVIEW AVE SW",
           "LAKEWOOD",
           "WA",
           "98499"
          ],
          [
           485310,
           "5545 34TH ST LOOP NE",
           "TACOMA",
           "WA",
           "98422-3105"
          ],
          [
           485310,
           "4866 S 48TH ST",
           "TACOMA",
           "WA",
           "98409-1906"
          ],
          [
           485310,
           "2220 WESTRIDGE AVE W",
           "TACOMA",
           "WA",
           "98466"
          ],
          [
           485310,
           "1216 N 103RD ST",
           "SEATTLE",
           "WA",
           "98133-9405"
          ],
          [
           485310,
           "401 37TH ST SE",
           "AUBURN",
           "WA",
           "98002"
          ],
          [
           485310,
           "11313 8TH PL W",
           "EVERETT",
           "WA",
           "98204"
          ],
          [
           485310,
           "6130 36TH ST SE",
           "AUBURN",
           "WA",
           "98092"
          ],
          [
           485310,
           "2715 13TH AVE NW",
           "PUYALLUP",
           "WA",
           "98371"
          ],
          [
           485310,
           "427 E 61ST ST",
           "TACOMA",
           "WA",
           "98404-1930"
          ],
          [
           485310,
           "7808 S AINSWORTH AVE",
           "TACOMA",
           "WA",
           "98408-2011"
          ],
          [
           485310,
           "7406 27TH ST W",
           "UNIVERSITY PLACE",
           "WA",
           "98406"
          ],
          [
           485310,
           "2232 SE  3RD ST",
           "RENTON",
           "WA",
           "98056"
          ],
          [
           485310,
           "818 S 11TH ST",
           "TACOMA",
           "WA",
           "98405-4527"
          ],
          [
           485310,
           "1419 E 62ND ST",
           "TACOMA",
           "WA",
           "98404-3537"
          ],
          [
           485310,
           "5507 E E ST",
           "TACOMA",
           "WA",
           "98404-2055"
          ],
          [
           485310,
           "1925 S I ST",
           "TACOMA",
           "WA",
           "98405"
          ],
          [
           485310,
           "1101 E 53RD ST",
           "TACOMA",
           "WA",
           "98404-2720"
          ],
          [
           485310,
           "8941 GRAVELLY LAKE DR SW",
           "LAKEWOOD",
           "WA",
           "98499-3127"
          ],
          [
           485310,
           "4802 S PINE ST",
           "TACOMA",
           "WA",
           "98409"
          ],
          [
           485310,
           "1918 63RD AVE NE",
           "TACOMA",
           "WA",
           "98422-3626"
          ],
          [
           485310,
           "19305 TWINKLE DR E",
           "SPANAWAY",
           "WA",
           "98387"
          ],
          [
           485310,
           "2726 60TH AVE SW",
           "SEATTLE",
           "WA",
           "98116"
          ],
          [
           485310,
           "5107 115TH ST SW",
           "LAKEWOOD",
           "WA",
           "98499"
          ],
          [
           485310,
           "5030 S 58TH ST",
           "TACOMA",
           "WA",
           "98409-1307"
          ],
          [
           485310,
           "5627 S OAKES ST",
           "TACOMA",
           "WA",
           "98409-6211"
          ],
          [
           485310,
           "729 S VASSAULT ST",
           "TACOMA",
           "WA",
           "98465-0000"
          ],
          [
           485310,
           "1908 S 21ST ST",
           "TACOMA",
           "WA",
           "98405"
          ],
          [
           485310,
           "427 E 63RD ST",
           "TACOMA",
           "WA",
           "98404-1902"
          ],
          [
           485310,
           "3318 S 43RD ST",
           "TACOMA",
           "WA",
           "98409-5525"
          ],
          [
           485310,
           "3610 S CUSHMAN AVE",
           "TACOMA",
           "WA",
           "98418-2633"
          ],
          [
           485310,
           "6205 S 239TH ST",
           "KENT",
           "WA",
           "98032-2974"
          ],
          [
           485310,
           "10240 BRIDGEPORT WAY SW",
           "LAKEWOOD",
           "WA",
           "98499-2324"
          ],
          [
           485310,
           "8602 S HOSMER ST",
           "TACOMA",
           "WA",
           "98444"
          ],
          [
           485310,
           "2043 S 8TH ST",
           "TACOMA",
           "WA",
           "98405-3031"
          ],
          [
           485310,
           "1302 N 6TH ST",
           "TACOMA",
           "WA",
           "98403-1344"
          ],
          [
           485310,
           "4602 S 55TH ST",
           "TACOMA",
           "WA",
           "98409-1846"
          ],
          [
           485310,
           "5714 59TH STREET CT W",
           "UNIVERSITY PLACE",
           "WA",
           "98467-2859"
          ],
          [
           485310,
           "1149 N SKYLINE DR",
           "TACOMA",
           "WA",
           "98406-1823"
          ],
          [
           485310,
           "6020 78TH STREET CT W",
           "LAKEWOOD",
           "WA",
           "98499-2680"
          ],
          [
           485310,
           "6601 S 8TH ST",
           "TACOMA",
           "WA",
           "98465-2087"
          ],
          [
           485310,
           "3302 N VASSAULT ST",
           "TACOMA",
           "WA",
           "98407"
          ],
          [
           485310,
           "7515 S M ST",
           "TACOMA",
           "WA",
           "98408"
          ],
          [
           485310,
           "8518 45TH ST W",
           "UNIVERSITY PLACE",
           "WA",
           "98466"
          ],
          [
           485310,
           "10202 LAKEVIEW AVE SW",
           "LAKEWOOD",
           "WA",
           "98499"
          ],
          [
           485310,
           "31805 49TH TER SW",
           "FEDERAL WAY",
           "WA",
           "98023-3707"
          ],
          [
           485310,
           "1233 S JACKSON AVE",
           "TACOMA",
           "WA",
           "98465"
          ],
          [
           485310,
           "11217 18TH AVE S",
           "TACOMA",
           "WA",
           "98444-1474"
          ],
          [
           485310,
           "6601 S TYLER ST",
           "TACOMA",
           "WA",
           "98409-2401"
          ],
          [
           485310,
           "185 BIRCH DR",
           "ENUMCLAW",
           "WA",
           "98022"
          ],
          [
           485310,
           "1140 5TH AVE",
           "EDMONDS",
           "WA",
           "98020"
          ],
          [
           485310,
           "7410 95TH AVE SW",
           "LAKEWOOD",
           "WA",
           "98498-3313"
          ],
          [
           485310,
           "10202 LAKEVIEW AVE SW",
           "LAKEWOOD",
           "WA",
           "98499"
          ],
          [
           485310,
           "4533 E E ST",
           "TACOMA",
           "WA",
           "98404-1452"
          ],
          [
           485310,
           "1658 S 90TH ST",
           "TACOMA",
           "WA",
           "98444-3120"
          ],
          [
           485310,
           "2108 S 90TH ST",
           "TACOMA",
           "WA",
           "98444-1816"
          ],
          [
           485310,
           "2202 70TH AVE W",
           "UNIVERSITY PLACE",
           "WA",
           "98466-7617"
          ],
          [
           485310,
           "7016 CHERRY LANE SW",
           "LAKEWOOD",
           "WA",
           "98499-1910"
          ],
          [
           485310,
           "3219 N WHITMAN ST",
           "TACOMA",
           "WA",
           "98407"
          ],
          [
           485310,
           "3114 S 15TH ST",
           "TACOMA",
           "WA",
           "98405-2417"
          ],
          [
           485310,
           "912 N 96TH ST",
           "SEATTLE",
           "WA",
           "98103"
          ],
          [
           485310,
           "2617 N ORCHARD ST",
           "TACOMA",
           "WA",
           "98407-3942"
          ],
          [
           485310,
           "3415 S 45TH ST",
           "TACOMA",
           "WA",
           "98409-4533"
          ],
          [
           485310,
           "1704 E 42ND ST",
           "TACOMA",
           "WA",
           "98404"
          ],
          [
           485310,
           "6403 S 12TH ST",
           "TACOMA",
           "WA",
           "98465-1908"
          ],
          [
           485310,
           "4802 108TH ST SW",
           "LAKEWOOD",
           "WA",
           "98499-3705"
          ],
          [
           485310,
           "3716 72ND AVENUE CT W",
           "UNIVERSITY PLACE",
           "WA",
           "98466-4409"
          ],
          [
           485310,
           "7645 PACIFIC AVE",
           "TACOMA",
           "WA",
           "98408-7004"
          ],
          [
           485310,
           "6931 S MASON AVE",
           "TACOMA",
           "WA",
           "98409-1539"
          ],
          [
           485310,
           "1745 E 39TH ST",
           "TACOMA",
           "WA",
           "98404"
          ],
          [
           485310,
           "612 S GRANT AVE",
           "TACOMA",
           "WA",
           "98405"
          ],
          [
           485310,
           "4602 S 55TH ST",
           "TACOMA",
           "WA",
           "98409"
          ],
          [
           485310,
           "7406 27TH ST W",
           "UNIVERSITY PLACE",
           "WA",
           "98466"
          ],
          [
           485310,
           "5625 29TH ST NE",
           "TACOMA",
           "WA",
           "98422-3205"
          ],
          [
           485310,
           "4112 S K ST",
           "TACOMA",
           "WA",
           "98418-3828"
          ],
          [
           485310,
           "1002 N TACOMA AVE",
           "TACOMA",
           "WA",
           "98403-2929"
          ],
          [
           485310,
           "9324 S STEELE ST",
           "TACOMA",
           "WA",
           "98444-6853"
          ],
          [
           485310,
           "2901 S 45TH ST",
           "TACOMA",
           "WA",
           "98409-6525"
          ],
          [
           485310,
           "2108 S 90TH ST",
           "TACOMA",
           "WA",
           "98444-1816"
          ],
          [
           485310,
           "10202 LAKEVIEW AVE SW",
           "LAKEWOOD",
           "WA",
           "98499"
          ],
          [
           485310,
           "5601 N 37TH ST",
           "TACOMA",
           "WA",
           "98407-0000"
          ],
          [
           485310,
           "3414 E M ST",
           "TACOMA",
           "WA",
           "98404"
          ],
          [
           485310,
           "25 THUNDERBIRD PKWY SW",
           "LAKEWOOD",
           "WA",
           "98498-6182"
          ],
          [
           485310,
           "3606 E SPOKANE ST",
           "TACOMA",
           "WA",
           "98404-3026"
          ],
          [
           485310,
           "625 N JACKSON AVE",
           "TACOMA",
           "WA",
           "98406-1238"
          ],
          [
           485310,
           "4015 SW 317TH ST",
           "FEDERAL WAY",
           "WA",
           "98023-2135"
          ],
          [
           485310,
           "4111 N 25TH ST",
           "TACOMA",
           "WA",
           "98406-4824"
          ],
          [
           485310,
           "2108 S 90TH ST",
           "TACOMA",
           "WA",
           "98444"
          ],
          [
           485310,
           "7342 S WILKESON ST",
           "TACOMA",
           "WA",
           "98408-1226"
          ],
          [
           485310,
           "819 S 16TH ST",
           "TACOMA",
           "WA",
           "98405-5045"
          ],
          [
           485310,
           "4823 E M ST",
           "TACOMA",
           "WA",
           "98404-3650"
          ],
          [
           485310,
           "3015 N PEARL ST",
           "TACOMA",
           "WA",
           "98407-0000"
          ],
          [
           485310,
           "5334 34TH ST E",
           "FIFE",
           "WA",
           "98424"
          ],
          [
           485310,
           "5808 91ST STREET SW",
           "LAKEWOOD",
           "WA",
           "98499-6112"
          ],
          [
           485310,
           "2125 215TH STREET CT E",
           "SPANAWAY",
           "WA",
           "98387"
          ],
          [
           485310,
           "1307 187TH ST CT E",
           "SPANAWAY",
           "WA",
           "98387"
          ],
          [
           485310,
           "10601 DOTEN DR SW",
           "LAKEWOOD",
           "WA",
           "98499"
          ],
          [
           485310,
           "24321 17TH AVE S",
           "DES MOINES",
           "WA",
           "98198"
          ],
          [
           485310,
           "758 OAKHURST DR",
           "PACIFIC",
           "WA",
           "98047"
          ],
          [
           485310,
           "6552 21ST AVE NW",
           "SEATTLE",
           "WA",
           "98117"
          ],
          [
           485310,
           "77 S WASHINGTON ST",
           "SEATTLE",
           "WA",
           "98104"
          ],
          [
           485310,
           "13537 35TH AVE S",
           "TUKWILA",
           "WA",
           "98168"
          ],
          [
           485310,
           "1445 E 48TH ST",
           "TACOMA",
           "WA",
           "98404"
          ],
          [
           485310,
           "7317 46TH ST CT W",
           "UNIVERSITY PLACE",
           "WA",
           "98466-4248"
          ],
          [
           485310,
           "425 SOUTH TACOMA WAY",
           "TACOMA",
           "WA",
           "98402"
          ],
          [
           485310,
           "1928 W UNION AVE",
           "TACOMA",
           "WA",
           "98405-1073"
          ],
          [
           485310,
           "2424 S 41ST ST",
           "TACOMA",
           "WA",
           "98409-7314"
          ],
          [
           485310,
           "2661 N PEARL ST",
           "TACOMA",
           "WA",
           "98407-2424"
          ],
          [
           485310,
           "1322 E 64TH ST",
           "TACOMA",
           "WA",
           "98404-3430"
          ],
          [
           485310,
           "4750 AUBURN WAY N",
           "AUBURN",
           "WA",
           "98002-2042"
          ],
          [
           485310,
           "7606 78TH ST SW",
           "LAKEWOOD",
           "WA",
           "98498-6212"
          ],
          [
           485310,
           "7519 CIRQUE DR W",
           "UNIVERSITY PLACE",
           "WA",
           "98467"
          ],
          [
           485310,
           "3501 BROADMOOR DR NE",
           "TACOMA",
           "WA",
           "98422-4747"
          ],
          [
           485310,
           "539 BROADWAY",
           "TACOMA",
           "WA",
           "98402-3907"
          ],
          [
           485310,
           "116 19TH AVE",
           "MILTON",
           "WA",
           "98354"
          ],
          [
           485310,
           "1626 S WRIGHT AVE",
           "TACOMA",
           "WA",
           "98418"
          ],
          [
           485310,
           "4720 S PINE ST",
           "TACOMA",
           "WA",
           "98409"
          ],
          [
           485310,
           "1604 W JAMES PL",
           "KENT",
           "WA",
           "98032"
          ],
          [
           485310,
           "1700 17TH AVE",
           "SEATTLE",
           "WA",
           "98122"
          ],
          [
           485310,
           "3501 S 38TH ST",
           "TACOMA",
           "WA",
           "98409-4210"
          ],
          [
           485310,
           "6736 S MASON AVE",
           "TACOMA",
           "WA",
           "98409-1538"
          ],
          [
           485310,
           "7241 S MONROE ST",
           "TACOMA",
           "WA",
           "98409-2445"
          ],
          [
           485310,
           "4101 N 26TH ST",
           "TACOMA",
           "WA",
           "98407"
          ],
          [
           485310,
           "501 S 43RD ST",
           "TACOMA",
           "WA",
           "98418-6616"
          ],
          [
           485310,
           "1418 S MILDRED ST",
           "TACOMA",
           "WA",
           "98465-2909"
          ],
          [
           485310,
           "708 N L ST",
           "TACOMA",
           "WA",
           "98403"
          ],
          [
           485310,
           "1134 FAWCETT AVE",
           "TACOMA",
           "WA",
           "98402"
          ],
          [
           485310,
           "902 M ST SE",
           "AUBURN",
           "WA",
           "98002"
          ],
          [
           485310,
           "13102 NE 90TH ST",
           "KIRKLAND",
           "WA",
           "98033"
          ],
          [
           485310,
           "23108 50TH AVE SOUTH",
           "KENT",
           "WA",
           "98032"
          ],
          [
           485310,
           "16815 PACIFIC AVE S",
           "SPANAWAY",
           "WA",
           "98387-0569"
          ],
          [
           485310,
           "1730 J ST NE",
           "AUBURN",
           "WA",
           "98002-3341"
          ],
          [
           485310,
           "3514 S 180TH ST",
           "SEATAC",
           "WA",
           "98188"
          ],
          [
           485310,
           "3814 D PL SE",
           "AUBURN",
           "WA",
           "98002"
          ],
          [
           485310,
           "1786 KENNEDY PLACE",
           "DUPONT",
           "WA",
           "98327"
          ],
          [
           485310,
           "32820 20TH AVE S",
           "FEDERAL WAY",
           "WA",
           "98003"
          ],
          [
           485310,
           "1800 S 330TH ST",
           "FEDERAL WAY",
           "WA",
           "98003-9421"
          ],
          [
           485310,
           "6714 16TH AVE SW",
           "SEATTLE",
           "WA",
           "98106"
          ],
          [
           485310,
           "7406 27TH ST W",
           "UNIVERSITY PLACE",
           "WA",
           "98466-4636"
          ],
          [
           485310,
           "1717 S 96TH ST",
           "TACOMA",
           "WA",
           "98444-2803"
          ],
          [
           485310,
           "8212 29TH AVE CT S",
           "LAKEWOOD",
           "WA",
           "98499-8828"
          ],
          [
           485310,
           "419 E 43RD ST",
           "TACOMA",
           "WA",
           "98404"
          ],
          [
           485310,
           "5015 S L ST",
           "TACOMA",
           "WA",
           "98408-3631"
          ],
          [
           485310,
           "3521 S ORCHARD ST",
           "TACOMA",
           "WA",
           "98466"
          ],
          [
           485310,
           "518 NW 60TH ST",
           "SEATTLE",
           "WA",
           "98107"
          ],
          [
           485310,
           "6307 58TH AVE SE",
           "LACEY",
           "WA",
           "98513"
          ],
          [
           485310,
           "7406 27TH ST W",
           "UNIVERSITY PLACE",
           "WA",
           "98466-4632"
          ],
          [
           485310,
           "9334 S STEELE ST",
           "TACOMA",
           "WA",
           "98444-1874"
          ],
          [
           485310,
           "5622 S GOVE ST",
           "TACOMA",
           "WA",
           "98409-1720"
          ],
          [
           485310,
           "7020 S I ST",
           "TACOMA",
           "WA",
           "98408-4411"
          ],
          [
           485310,
           "6410 60TH ST W",
           "UNIVERSITY PLACE",
           "WA",
           "98467-0000"
          ],
          [
           485310,
           "9020 S HOSMER ST",
           "TACOMA",
           "WA",
           "98444-1818"
          ],
          [
           485310,
           "1305 REGENTS BLVD",
           "FIRCREST",
           "WA",
           "98466-0000"
          ],
          [
           485310,
           "5010 SW 317TH LN",
           "FEDERAL WAY",
           "WA",
           "98023-3770"
          ],
          [
           485310,
           "10202 PACIFIC AVE S",
           "TACOMA",
           "WA",
           "98444"
          ],
          [
           485310,
           "2536 42ND AVE SE",
           "OLYMPIA",
           "WA",
           "98501-4298"
          ],
          [
           485310,
           "5909 PANORAMA DR SE",
           "AUBURN",
           "WA",
           "98092"
          ],
          [
           485310,
           "912 N 96TH ST",
           "SEATTLE",
           "WA",
           "98103"
          ],
          [
           485310,
           "3902 52ND ST NE",
           "TACOMA",
           "WA",
           "98422"
          ],
          [
           485310,
           "5248 42ND AVE SW",
           "SEATTLE",
           "WA",
           "98136"
          ],
          [
           485310,
           "4750 AUBURN WAY N",
           "AUBURN",
           "WA",
           "98002-2014"
          ],
          [
           485310,
           "5518 76TH ST W",
           "LAKEWOOD",
           "WA",
           "98499"
          ],
          [
           485310,
           "12732 ROOSEVELT WAY NE",
           "SEATTLE",
           "WA",
           "98125"
          ],
          [
           485310,
           "19513 73RD AVE W",
           "LYNNWOOD",
           "WA",
           "98036"
          ],
          [
           485310,
           "1907 LIGHTHOUSE LN NE",
           "TACOMA",
           "WA",
           "98422-3467"
          ],
          [
           485310,
           "1004 ARLEO LN",
           "FIRCREST",
           "WA",
           "98466-6573"
          ],
          [
           485310,
           "1405 E 53RD ST",
           "TACOMA",
           "WA",
           "98404"
          ],
          [
           485310,
           "1554 MARKET ST",
           "TACOMA",
           "WA",
           "98402"
          ],
          [
           485310,
           "38 N SALMON BEACH",
           "TACOMA",
           "WA",
           "98407"
          ],
          [
           485310,
           "2102 DAVIS CT NE",
           "TACOMA",
           "WA",
           "98422-4533"
          ],
          [
           485310,
           "8315 83RD ST SW",
           "LAKEWOOD",
           "WA",
           "98498"
          ],
          [
           485310,
           "1907 LIGHTHOUSE LN NE",
           "TACOMA",
           "WA",
           "98422"
          ],
          [
           485310,
           "1615 VALLEY AVE E",
           "SUMNER",
           "WA",
           "98390"
          ],
          [
           485310,
           "7313 95TH AVE SW",
           "LAKEWOOD",
           "WA",
           "98498-3310"
          ],
          [
           485310,
           "4840 S PARK AVE",
           "TACOMA",
           "WA",
           "98408-5720"
          ],
          [
           485310,
           "4114 N 10TH ST",
           "TACOMA",
           "WA",
           "98406-4516"
          ],
          [
           485310,
           "3815 N PEARL ST",
           "TACOMA",
           "WA",
           "98407-2628"
          ],
          [
           485310,
           "4750 auburn WAY N",
           "AUBURN",
           "WA",
           "98002-2028"
          ],
          [
           485310,
           "2112 S 90TH ST",
           "TACOMA",
           "WA",
           "98444-1806"
          ],
          [
           485310,
           "7406 27TH ST W",
           "TACOMA",
           "WA",
           "98466-4632"
          ],
          [
           485310,
           "102 N G ST",
           "TACOMA",
           "WA",
           "98403"
          ],
          [
           485310,
           "649 S MEYERS ST",
           "TACOMA",
           "WA",
           "98465-1415"
          ],
          [
           485310,
           "4130 NE 9TH PL",
           "RENTON",
           "WA",
           "98059"
          ],
          [
           485310,
           "7406 27TH ST W",
           "TACOMA",
           "WA",
           "98466"
          ],
          [
           485310,
           "4750 AUBURN WAY N",
           "AUBURN",
           "WA",
           "98002-2030"
          ],
          [
           485310,
           "4750 AUBURN WAY N",
           "AUBURN",
           "WA",
           "98002-2032"
          ],
          [
           485310,
           "6439 S 120TH ST",
           "SEATTLE",
           "WA",
           "98178-3621"
          ],
          [
           485310,
           "11710 PAWNEE DR SW",
           "LAKEWOOD",
           "WA",
           "98499-4928"
          ],
          [
           485310,
           "7406 27TH ST W",
           "UNIVERSITY PLACE",
           "WA",
           "98466-4632"
          ],
          [
           485310,
           "509 N YAKIMA AVE",
           "TACOMA",
           "WA",
           "98403-2336"
          ],
          [
           485310,
           "3503 70TH AVE E",
           "FIFE",
           "WA",
           "98424-3861"
          ],
          [
           485310,
           "1027 E 47TH ST",
           "TACOMA",
           "WA",
           "98404-2804"
          ],
          [
           485310,
           "5715 N 30TH ST",
           "TACOMA",
           "WA",
           "98407-2401"
          ],
          [
           485310,
           "6406 S 10TH ST",
           "TACOMA",
           "WA",
           "98465-2003"
          ],
          [
           485310,
           "3719 N 28TH ST",
           "TACOMA",
           "WA",
           "98407-5913"
          ],
          [
           485310,
           "5714 23RD ST E",
           "FIFE",
           "WA",
           "98424-4512"
          ],
          [
           485310,
           "7406 27TH ST W",
           "UNIVERSITY PLACE",
           "WA",
           "98466"
          ],
          [
           485310,
           "6239 S WARNER ST",
           "TACOMA",
           "WA",
           "98409-4129"
          ],
          [
           485310,
           "714 E MORTON ST",
           "TACOMA",
           "WA",
           "98404-2168"
          ],
          [
           485310,
           "7121 CITRINE LN SW",
           "LAKEWOOD",
           "WA",
           "98498"
          ],
          [
           485310,
           "10617 18TH AVE S",
           "TACOMA",
           "WA",
           "98444-7029"
          ],
          [
           485310,
           "3108 SW 342ND ST",
           "FEDERAL WAY",
           "WA",
           "98023"
          ],
          [
           485310,
           "1116 E 59TH ST",
           "TACOMA",
           "WA",
           "98404-3515"
          ],
          [
           485310,
           "1001 S MILDRED ST",
           "TACOMA",
           "WA",
           "98465-1843"
          ],
          [
           485310,
           "1105 182ND STREET CT E",
           "SPANAWAY",
           "WA",
           "98387-1919"
          ],
          [
           485310,
           "3419 E L ST",
           "TACOMA",
           "WA",
           "98404-0000"
          ],
          [
           485310,
           "3638 S K ST",
           "TACOMA",
           "WA",
           "98418-4026"
          ],
          [
           485310,
           "901 NORPOINT WAY NE",
           "TACOMA",
           "WA",
           "98422-3131"
          ],
          [
           485310,
           "10202 LAKEVIEW AVE SW",
           "LAKEWOOD",
           "WA",
           "98499"
          ],
          [
           485310,
           "3101 S 36TH ST",
           "TACOMA",
           "WA",
           "98409"
          ],
          [
           485310,
           "32634 51ST PL SW",
           "FEDERAL WAY",
           "WA",
           "98023-1944"
          ],
          [
           485310,
           "4750 AUBURN WAY N",
           "AUBURN",
           "WA",
           "98002-2042"
          ],
          [
           485310,
           "808 S I ST",
           "TACOMA",
           "WA",
           "98405"
          ],
          [
           485310,
           "1302 NORPOINT WAY NE",
           "TACOMA",
           "WA",
           "98422-3033"
          ],
          [
           485310,
           "11019 50TH AVE E",
           "TACOMA",
           "WA",
           "98446-5303"
          ],
          [
           485310,
           "8804 34TH AVE S",
           "LAKEWOOD",
           "WA",
           "98499-3659"
          ],
          [
           485310,
           "2131 S SPRAGUE AVE",
           "TACOMA",
           "WA",
           "98405-2815"
          ],
          [
           485310,
           "1614 S 84TH ST",
           "TACOMA",
           "WA",
           "98444"
          ],
          [
           485310,
           "416 S 48TH ST",
           "TACOMA",
           "WA",
           "98408-6522"
          ],
          [
           485310,
           "1513 S 81ST ST",
           "TACOMA",
           "WA",
           "98408-1910"
          ],
          [
           485310,
           "3730 E SPOKANE ST",
           "TACOMA",
           "WA",
           "98404-3037"
          ],
          [
           485310,
           "10202 LAKEVIEW AVE SW",
           "LAKEWOOD",
           "WA",
           "98499"
          ],
          [
           485310,
           "2902 S ADAMS ST",
           "TACOMA",
           "WA",
           "98409-3308"
          ],
          [
           485310,
           "9507 MAPLE AVE SW",
           "LAKEWOOD",
           "WA",
           "98499"
          ],
          [
           485310,
           "14600 NE 32ND ST",
           "BELLEVUE",
           "WA",
           "98007"
          ],
          [
           485310,
           "11626 SE 210TH PL",
           "KENT",
           "WA",
           "98031"
          ],
          [
           485310,
           "9043 S D ST",
           "TACOMA",
           "WA",
           "98444"
          ],
          [
           485310,
           "2831 14TH AVE W",
           "SEATTLE",
           "WA",
           "98119"
          ],
          [
           485310,
           "14508 SE 24TH ST",
           "BELLEVUE",
           "WA",
           "98007"
          ],
          [
           485310,
           "1347 17TH ST SE",
           "AUBURN",
           "WA",
           "98002"
          ],
          [
           485310,
           "2522 14TH AVE S",
           "SEATTLE",
           "WA",
           "98144-5076"
          ],
          [
           485310,
           "10008 32ND ST E",
           "EDGEWOOD",
           "WA",
           "98371"
          ],
          [
           485310,
           "3501 S 38TH ST",
           "TACOMA",
           "WA",
           "98409-4210"
          ],
          [
           485310,
           "3417 55TH AVE NE",
           "TACOMA",
           "WA",
           "98422"
          ],
          [
           485310,
           "1423 S 44TH ST",
           "TACOMA",
           "WA",
           "98418-2410"
          ],
          [
           485310,
           "109 AMHERST ST",
           "FIRCREST",
           "WA",
           "98466-0000"
          ],
          [
           485310,
           "1102 S 27TH ST",
           "TACOMA",
           "WA",
           "98409-8016"
          ],
          [
           485310,
           "1506 CHERRY AVE",
           "FIRCREST",
           "WA",
           "98466-6641"
          ],
          [
           485310,
           "5102 S 58TH ST",
           "TACOMA",
           "WA",
           "98467-3829"
          ],
          [
           485310,
           "1609 S CUSHMAN AVE",
           "TACOMA",
           "WA",
           "98405-3533"
          ],
          [
           485310,
           "6201 LAKEWOOD DR W",
           "UNIVERSITY PLACE",
           "WA",
           "98467"
          ],
          [
           485310,
           "1202 N PEARL ST",
           "TACOMA",
           "WA",
           "98406-7900"
          ],
          [
           485310,
           "7734 40TH ST W",
           "UNIVERSITY PLACE",
           "WA",
           "98466-3114"
          ],
          [
           485310,
           "8835 S D ST",
           "TACOMA",
           "WA",
           "98444-6458"
          ],
          [
           485310,
           "7121 CITRINE LN SW",
           "LAKEWOOD",
           "WA",
           "98498-5013"
          ],
          [
           485310,
           "2001 13TH ST SW",
           "PUYALLUP",
           "WA",
           "98371-8599"
          ],
          [
           485310,
           "1514 S 73RD ST",
           "TACOMA",
           "WA",
           "98408-2131"
          ],
          [
           485310,
           "1120 S 23RD ST",
           "TACOMA",
           "WA",
           "98405-3405"
          ],
          [
           485310,
           "2108 S 90TH ST",
           "TACOMA",
           "WA",
           "98444"
          ],
          [
           485310,
           "6824 19TH ST W",
           "UNIVERSITY PLACE",
           "WA",
           "98466-5528"
          ],
          [
           485310,
           "10202 LAKEVIEW AVE SW",
           "LAKEWOOD",
           "WA",
           "98499-4223"
          ],
          [
           485310,
           "12618 10TH AVE S",
           "BURIEN",
           "WA",
           "98168"
          ],
          [
           485310,
           "3420 S MADISON ST",
           "TACOMA",
           "WA",
           "98409-2212"
          ],
          [
           485310,
           "17002 6TH AVENUE CT E",
           "SPANAWAY",
           "WA",
           "98387-7807"
          ],
          [
           485310,
           "9210 South Hosmer",
           "TACOMA",
           "WA",
           "98444"
          ],
          [
           485310,
           "4720 S PINE ST",
           "TACOMA",
           "WA",
           "98409-0000"
          ],
          [
           485310,
           "3815 N PEARL ST",
           "TACOMA",
           "WA",
           "98407-2619"
          ],
          [
           485310,
           "810 ALTA VISTA PL",
           "FIRCREST",
           "WA",
           "98466-7020"
          ],
          [
           485310,
           "1807 S HIGHLAND AVE",
           "TACOMA",
           "WA",
           "98465-2213"
          ],
          [
           485310,
           "4802 NASSAU AVE NE",
           "TACOMA",
           "WA",
           "98422-0000"
          ],
          [
           485310,
           "3819 S L ST",
           "TACOMA",
           "WA",
           "98418-3931"
          ],
          [
           485310,
           "8640 FAWCETT AVE",
           "TACOMA",
           "WA",
           "98444"
          ],
          [
           485310,
           "1520 N PROSPECT ST",
           "TACOMA",
           "WA",
           "98406-8108"
          ],
          [
           485310,
           "6726 82ND ST SW",
           "LAKEWOOD",
           "WA",
           "98499-2521"
          ],
          [
           485310,
           "7509 89TH AVE SW",
           "LAKEWOOD",
           "WA",
           "98498-3925"
          ],
          [
           485310,
           "18102 76TH AVE E",
           "PUYALLUP",
           "WA",
           "98375-7532"
          ],
          [
           485310,
           "3723 70TH AVE W",
           "UNIVERSITY PLACE",
           "WA",
           "98466-5138"
          ],
          [
           485310,
           "8401 82ND ST SW",
           "LAKEWOOD",
           "WA",
           "98498-7249"
          ],
          [
           485310,
           "17845 130TH AVE E",
           "PUYALLUP",
           "WA",
           "98374-9821"
          ],
          [
           485310,
           "1908 S 21ST ST",
           "TACOMA",
           "WA",
           "98405"
          ],
          [
           485310,
           "2329 S STATE ST",
           "TACOMA",
           "WA",
           "98405"
          ],
          [
           485310,
           "7225 S WARNER ST",
           "TACOMA",
           "WA",
           "98409-3921"
          ],
          [
           485310,
           "2010 70TH AVE W",
           "UNIVERSITY PLACE",
           "WA",
           "98466-5522"
          ],
          [
           485310,
           "3401 PACIFIC AVE",
           "TACOMA",
           "WA",
           "98418-7922"
          ]
         ],
         "hovertemplate": "<b>%{hovertext}</b><br><br>NAICS_CODE_DESCRIPTION=Taxi Service<br>lat=%{lat}<br>long=%{lon}<br>NAICS_CODE=%{customdata[0]}<br>HOUSE_NUMBER_AND_STREET_NAME=%{customdata[1]}<br>CITY=%{customdata[2]}<br>STATE=%{customdata[3]}<br>ZIP_CODE=%{customdata[4]}<extra></extra>",
         "hovertext": [
          "SAEED J MOHAMMAD",
          "LAUREN THOMAS JONES",
          "NEMATULLAH BASHARWAL",
          "LAEEQ TEOURI",
          "MONICAH GATHONI NDUHIU",
          "HASSAN OSMAN",
          "JEAN PIERRE HARERIMANA",
          "TADELE BEKU LEMA",
          "MARK EDWARDS CRANE",
          "AKLILU DANIEL NUNNE",
          "ABDRHMAN YUSUF MUSA",
          "TRAVIS GREEN",
          "JOSEPH M FRENCHWOOD",
          "LEEANNA MARIA DUSEK",
          "BRIAN KEITH MAINSTER",
          "ABDUL KAHLIQUE",
          "ABDOLREZA HOJJATI NAJAFABADI",
          "JONATHAN RAPISURA GASCON",
          "MANU KAHASHA CHARMANT",
          "ABUBAKAR KASOMA",
          "MARCO HOUMAN SAFAEIAN",
          "SHAMSUDIN ENDERIS SAHLE",
          "GOANG SUP KIM",
          "JONATHAN DE LOS SANTOS",
          "BRANDON L THOMPSON",
          "NATHAN ANDREW CARNAHAN",
          "AHMAD SADAT",
          "ARSHWINDER KAUR PANNU",
          "NICHOLAS R STIREN",
          "JORDAN MICHEAL HILLIS",
          "MANJOT S KHATTRA",
          "SANDRA LEE VALBERG CRONYN",
          "ALEX MUNAI KARANJA",
          "LEI ZHANG",
          "ABDURAHMAN OMER",
          "SAYED HASAMI",
          "GEBRETSADIK G WOLDETSADIK",
          "MARLA RODRIGUEZ",
          "MOHAMMAD SHAFIQ",
          "BRANDEN BOREN OUK",
          "WENDY WHITE DEAN",
          "HASSAN MAHMOUD HASSAN",
          "THOMAS W SIMA",
          "DONGMING XU",
          "BRADLEY WADE BOGART",
          "MUHAMMAD ABDUL HAFEEZ",
          "JEFFREY CHIN - U WARDEN",
          "REAGAN ELDRIDGE ASKEW",
          "DWIGHT GENE CREWS",
          "YASIR M AL ALOOSI",
          "STEVEN FRANCO CARRASCO",
          "NAHOM BERHANE FARIOS",
          "RED NANSA MATABISI",
          "GORDON OWENS",
          "JOHN RIMUI",
          "ALFREDO GARCIA SOTO",
          "TIM DANIEL BAILEY",
          "BRIAN MCMENOMY",
          "AIMAL MANSORY",
          "DANIEL LEE JOHNSON",
          "PAL SURINDER SINGH",
          "SURJIT SINGH",
          "SOUTH SOUND TRANSPORTATION LLC",
          "SOUTH SOUND TRANSPORTATION LLC",
          "SOUTH SOUND TRANSPORTATION LLC",
          "SOUTH SOUND TRANSPORTATION LLC",
          "JEFFREY BOLIMA",
          "ROXANNE RUFILA",
          "CARTER LEEVER",
          "MOZELL JONES",
          "MUKHTAR MUKHTAR",
          "ANGESOM EMAN TEKLEYES",
          "JOHN JOSEPH BARTA",
          "IVAN VLADIMIROVICH KUZUBOV",
          "STANLEY MILLER",
          "XING GUO DUAN",
          "MICHAEL BUSS",
          "QING WEI",
          "KEVIN OHLHEISER",
          "SONIA ALEJANDRE GARCIA",
          "JOSEPH FLEURY",
          "ROBERT KIM",
          "NATHAN DESTA TAFESSE",
          "ANTHONY R PATTISON",
          "YAXYE MUXAMED",
          "MAHFOOZ HEJRAN",
          "BEREKETAB G GEBREHIWET",
          "PAUL M MANNING",
          "JAMES MCMURDO",
          "KATHRYN GILLESPIE",
          "DONNA MARIE HAYES",
          "YAKOB MINDAYE",
          "MOHAMED ABDI",
          "PREMKUMAR THANGARAJAN",
          "PETER SIMON JOSEPH",
          "VICTOR KAMLESH MURTHI",
          "GINGER IRENE PACE",
          "PRISKAH KINUTHIA",
          "BANIPAL LLC",
          "JOSHUA HAMPTON",
          "DAN BRIGHTWELL",
          "DOMINIQUE ROBAIR",
          "NGUON PA",
          "ANM A RAHMAN",
          "RANDHEER SINGH",
          "SEAN GREGORY",
          "CORNELIO E MCLEAN",
          "MICHAEL P MURPHY",
          "ABATHER KAREEM DAKHIL",
          "STEPHANIE MONIQUE MUNOZ",
          "JIAN WANG",
          "WILLIAM KEYES",
          "BRYAN HO",
          "PATRICK NJANE MAINGI",
          "JAMES H FREISHEIM",
          "VITALIY LEONOV",
          "FREDRICK DELANEY",
          "HANS BROWN",
          "JASPAL SINGH BHACHU",
          "MOSHIN KHAN",
          "WILLIAM E SMITH",
          "HUSSEIN HUSSAN AHMED",
          "WILLIAM SMITH",
          "PETER DENG MALUAL",
          "ABDIHODAN MOHAMED KILWE",
          "KASHMIRA S HOTHI",
          "IBRAHIM AYUB",
          "ALEXANDER WOLFE",
          "HUNG LAM",
          "TODD M AKIYAMA",
          "DMITRI FEDOROV",
          "ZAHEER ANWAR",
          "MUEZ WOLDESELASSIE AREGAY",
          "MEKIBIB ARGAW ZURGEA",
          "EFRAIN CASTILLO YANEZ",
          "CHRIS MUANDA",
          "ABNER ELIUD RAMIREZ HERNANDEZ",
          "BKH LEASING LLC",
          "MOEJAY ABDIRAHMAN",
          "RYAN RITTER",
          "MARTHA CARDENO",
          "STEVEN ANTHONY FLORES",
          "DEBESAI KEBREAB",
          "FLOYD PACE",
          "ABDULKADIR GESHOW",
          "TIERRA L TRUSCLAIR",
          "CHANEL PIERRE",
          "KODY WYNNE",
          "JESSICA WALTERS",
          "GAMAL A SALEM",
          "JACOB BETTRIDGE",
          "DENNIS N WALLACE",
          "BENJAMIN SERRANO",
          "JONATHAN ROBERTS",
          "NICOLE FAWCETT",
          "RICHARD C GRAY",
          "PATRICK KAGUAMBA CHEGE",
          "NO MOHAMATH",
          "MAAU LENE",
          "EZEKIEL ST HILAIRE",
          "MAURICE ATTISSO",
          "LARRY J HAGG",
          "GABE CHEN-TURNER",
          "MOHAMED D SALAD",
          "ZANE L SIMOLKE",
          "RAYMOND T GRISSETT",
          "ALFRED K NJOROGE",
          "GARIK R GRIGORIANTS",
          "RICARDO SANTOS SANTOS",
          "J RHEUEL DECREPITO ABAJERO",
          "DJAMEL BOUKTIT",
          "TERESA C REYNOSO",
          "AMANDA WINSOR",
          "MOHAMED MUSE HERSI",
          "KAHLON GURMINDER",
          "RASMEETSI VIRDI",
          "RIP STECKEL",
          "MING FAI LO",
          "ABDUL NOORI",
          "ALAN TENG",
          "SANG A LAM",
          "NAJIB A HASHIM",
          "ISAAC IRUNGU NGIGI",
          "DESTINEY WILSON",
          "JEFF CHRISTENSEN",
          "HAROLD R GOODELL",
          "RICHARD B HICKSON",
          "ROBERT L KUSHLAN",
          "JEFFREY A HOPKINS",
          "DAVID STREETTER DYBDAHL",
          "NAPOLEON ASFAW",
          "METAFERIA NEGASH",
          "MARTIN SHUER",
          "JUAN VEGA",
          "HAYLEY PUHN",
          "JOSEPH BELL",
          "HARINDER SINGH",
          "EDUARDO VILLAVICENCIO GARCIA",
          "SEMERE Z MEHARI",
          "JOHN K LOBANOWSKI",
          "JON HOLLEY",
          "JAMES D ROSIER",
          "ROSHAWN WEST",
          "BINIAM HADGU MEBRAHTU",
          "JETH A SILBAUGH",
          "GAMALIEL ALARCON LOPEZ",
          "DOUGLAS E DAVIS",
          "ESEIAS GHEBREHIWET SELOMUN",
          "IN S CHUNG",
          "MAX CHRISTIAN OZUNA",
          "TEDLA MENGESHA WOLDEMARIAM",
          "MAURICIO GARCIA",
          "BRYAN THOMAS GOFFE",
          "ANDRE PHILLIPE C THERRIEN",
          "CASSAUNDRA Z KARANASOS",
          "PETER CHEGE WANDAIRE",
          "JAMES CHEZ KAI SUEN",
          "SAMI ULLAH",
          "MARCELA CORDOVA RENDON",
          "TIMOTHY MARK GRIFFIN",
          "PEAL YOUNG",
          "TERRY JONASON",
          "CATHERINE SOTO",
          "CAROL WEBER",
          "DUANE LEWIS",
          "STEVEN FLOYD",
          "SHAUNA BAKKENSEN",
          "OMAR ROBA",
          "DANIEL NJOROGE KARUGA",
          "HAMAD YAHYA M ALMANSOUR",
          "RYAN LEE BALAG SHARPE",
          "GREGORY ROGER TOFTE",
          "COREY JAMES CHRISTENSEN",
          "CURTIS JOHN RIZZO",
          "CLIFFORD D PRICE",
          "JOSEPH KIRANGA",
          "SEID A FELEKE",
          "LAURENCE MIKHAEL HALAWJI",
          "FLORINDO G S SANTOS",
          "BENJAMIN CARLOS CRISTOBAL",
          "ZABIULLAH JAMSHIDI",
          "LUIS RICARDO SERRA",
          "MAHENDRA KUMAR SINGH",
          "MICHAEL JONES",
          "MICHAEL ZETTERWALL",
          "CARRIE A NUNEZ",
          "DOREEN J MAY",
          "LUIS O RIVERACACERES",
          "OMARU BARRIE",
          "GEOFFREY N NJENGA",
          "SHADIA NAMYALO",
          "SHIFERAHU TAYE",
          "ANTHONY MUCHIRI",
          "FITSUM DESTA",
          "CHRISTIAN MATTEO KNOLL",
          "SELAM E SEID",
          "TEREFE ARGAW DERESS",
          "MOHIT RAJVANSHY",
          "JAAPIR OMAR HUSSEN",
          "JOHN F BROWN",
          "ALAN J EDMISON",
          "ROBERTA FINK",
          "LARRY HORSEY",
          "PETER J MAILANDER",
          "ISAIAH NATHANIEL FOSTER",
          "OSMAN ASIR OMAR",
          "BELTETON CARRILLO FREDY G",
          "BRIAN TIMOTHY WADE",
          "AGIDEW ABI ZENEBE",
          "ZACHARY KOSBAB",
          "TIGISTE HOBSE",
          "MAXAMUD JIMCALE",
          "ANDREW MUTHEMBA",
          "REX RAYMOND SAMONTE",
          "MICHAEL BAXTER",
          "ZUHUR HABIB",
          "CARDA BEAUCAGE",
          "MEHATEME EMIRU",
          "KHALIL AZIZI",
          "ESSA MUDESIR",
          "DAVID WILKINSON",
          "DEANA MAGERA",
          "JOSEPH A BISSON",
          "GEORGE OFORI",
          "STEVEN JONES",
          "HAROLD R LETOURNEAU",
          "JELANI E HAUSER",
          "RATTAN SANDHU",
          "DANIEL P FRANK",
          "RAMY HASSAN",
          "RICHARD FRIEND",
          "DONAVAN DANIELS",
          "GUSTAVO FRIAS",
          "STEPHANIE JUREIDINE",
          "IRELAND MACBRADAIGH",
          "ROBERT SIMKO III",
          "SAM AHMAD FARRIS",
          "SHELLEE STRATTON",
          "MARK E GLASER",
          "ANGELA ADAMS",
          "AHMAD JAWID ASHOORY",
          "SASHA CACHET LESTER",
          "JONATHAN PIERS MANDERS",
          "DUDLEY ANTHONY SADHI",
          "MENSAN DIDIER ADJANOR ADANLETE",
          "PATRICK JOSEPH KOLLAR",
          "RODOLFO CHAVEZ",
          "BRANDON JEFFREY BAISLEY",
          "DWAYNE DALTON",
          "KETTYA KHAN",
          "JOENATHAN WESLY KNIGHT",
          "JONATHAN CARATIQUIT RANCHEZ",
          "LATISHA NICHOLE NOUOBISSI",
          "OLIVIER C NOUOBISSI",
          "RAJWINDER SINGH KHOKHAR",
          "YEVGEN MALYARCHUK",
          "EDWIN ODHIAMBO ODEMBO",
          "RUBEN LOPEZ",
          "SULAYMAN CEESAY",
          "JOSHUA NICHOLAS MCCOLM",
          "MONIR HASSAN",
          "MICHAEL NELSON",
          "SUNG WOOK KIM",
          "DAVID ALAN TATE",
          "ANDREW GRAY",
          "GAURAV CHANDLA",
          "JUSTIN MICHAEL HACKERT",
          "AUGUST KL XIE",
          "HUI YUE ZHAO",
          "BEREKET TEKLEWINY WELEKISH",
          "KHALED ABURUMMAN",
          "DONALD JAY TODD",
          "DAVID ALAN GRIBBLE",
          "CHARLES DAVID BEALE",
          "DEVINDER SINGH CHOAT",
          "IGOR VALERYEVICH MOKHNATKIN",
          "TAN NHAT HUYNH",
          "RICHARD ALLEN JANSEN",
          "JOAQUIN ABARCA ORBE ABARCA",
          "EFREM HAILE ADEHANOM",
          "ABRAHAM HAILEMICHAEL AWALOM",
          "SURINDERJIT SINGH MAULI",
          "MOHAMED HAMDAN TIA KORI",
          "AZIZ TURKOGLU",
          "MOHAMED OSMAN AWAD",
          "AHMED MOHAMMED ADAM",
          "ODARBIL ALEJO ASERON",
          "AARON L LORD",
          "MARIO R FLORES",
          "DAWSON BLAKE MORSE",
          "JAESEOK CHOI",
          "TERRILL T DABNEY",
          "KEITH MOORE",
          "GARY LEAVITT",
          "DAVID M JR HEINZIG",
          "ROBIN E RUSSELL",
          "MACHOT L THIEP",
          "BEN W YU",
          "SHERYL A PETERSEN",
          "MUSONDA MWANSA",
          "KATHLEEN MADDOX",
          "TOAN LUU",
          "ALEXANDER HOLBROOK-DIAZ",
          "PETER WANYOIKE",
          "CHARLENE D VALDEZ",
          "DAVID FALCON",
          "NICHOLAS BAX",
          "LORRAINE R CADENA",
          "SHAUNDA L MACLEOD",
          "LEO TULAYAN",
          "DI WU",
          "LEONEL A SANCHES",
          "HARRISON KIHARA THUO",
          "MOHAMMAD A BAKHSHI",
          "ZACHARY I SORGALLA",
          "MILDRED A HEARD",
          "STEPHEN M KUNGU",
          "BRIAN L LEHMBECKER",
          "HILLARY ALLISON DIRKS",
          "MICHAEL IGE",
          "GARY CHEN",
          "MARY ESTHER ANDERSON",
          "GIDEON KIPKURUI CHEPLAK",
          "CHARLES WACHIRA KAGUARI",
          "SOLO SOLUTIONS INC",
          "BELETE DAMTEW TALE",
          "DERRICK JAMES DAIGRE SR",
          "ABDULLAH ALI",
          "MARCUS MILLSPAUGH",
          "SUSAN L RIDGE",
          "ROGER J CLARK",
          "TAM H MAI",
          "MICHAEL LINNIS PERRY",
          "LAMECK O ONDUSO",
          "ANNETTE MIRAMONTEZ",
          "STEVEN PETER UGLESICH",
          "HASSAN A JAMA",
          "MOHAMMED TAMIM SANJIDA",
          "GREGORY LOREN SPARKS",
          "ARMEN SAFYAN",
          "NATALIA BUIANOVSCHI",
          "PATRICIA TAYLOR",
          "SHAHZEB JUNEJO",
          "SOFIA MOLIGA",
          "LOPEZ KEVIN",
          "THANH THAI LAM SR",
          "DAVID YEHUDA BROWN",
          "SIRAJ MOHAMMED YASIN",
          "DAVID O CLARKE",
          "ELHADJ MAMADOU BARRY",
          "ANDRE P BARNETT",
          "MAIRA COOPER",
          "BRANNON CHEPLAK",
          "SOLOMON W GUFAW",
          "AMRE M ABDELAAL",
          "TRI Q VO",
          "EDMUND R COX",
          "RAFAEL RAMOS",
          "SOPHEACK CHHAY",
          "TASTY EATS LLC",
          "SAMUEL M NDIRANGU",
          "YELLOW CAB TACOMA LLC",
          "SAJJAD TARIQ",
          "MARSHALL A MATHEWS",
          "AMERICAN SERVICE MEDICAR CO",
          "MATTHEW A MOORE",
          "ANN M CHARBONEAU",
          "RYAN MARIANI",
          "RICHARD BENSON",
          "PETER J WU",
          "KLAUS NALLEY",
          "MARC THEODORE",
          "AZIME NEKERE",
          "SOLOMON ASFHA",
          "CRAIG D OLLOM",
          "ROMULO G ESPIRITU",
          "SIEGMUND KURDZIEL",
          "OLEKSANDR RYABETS RYABETS",
          "JOHN C BECKLEY",
          "JOHN NGUYEN",
          "SOUND DISPATCH LLC",
          "GURDEN SINGH",
          "JAMES W ABNEY",
          "MUSTAFA AZIMI",
          "MARGARITA S MANOR",
          "JEFFREY A DAVIS",
          "TESHOME W GIZAW",
          "YOO DONG KIM",
          "KHATAB AL-ANSI",
          "MOSES RURIGI",
          "CEDULFO RODRIGUEZ",
          "ROBERTO ROMERO CASTELAN",
          "MARC LLOYD BRENDLINGER",
          "ADEN ABDIRAHMAN",
          "JUDY HUNT",
          "MICHALE R REYNA",
          "ROBERT J WILLIS",
          "BRUCE L DEIMEL",
          "AARON S GUZMAN",
          "THOMAS MUTAI",
          "JUNE E GORDON",
          "JEFFREY D NORTH",
          "STEPHEN MICHAEL BRUECHNER",
          "FRANK L GREER",
          "RYAN D OMEARA",
          "MUHAMMAD RUHEL MIAH",
          "LUKAS SENESAC",
          "MAI PACHECO",
          "WILLIAM N THOMPSON",
          "SIMON GITHIEYA G HIA",
          "ANTHONY EARL MARTIN ROGERS",
          "KEVIN  T O'NEAL",
          "ERIN C MURRAY",
          "YUSUF I HUSSEIN",
          "AMY ANKENBAUER",
          "ELIZABETH UNICORN",
          "CHARLES KEVIN WHALEN",
          "THOMAS CHARBONEAU",
          "ANGEL B TORRES",
          "JOHN REYNOLD FISCHER",
          "DELFIN R FAJARDO",
          "DAVID CHEGE",
          "GREGORY M WRIGHT",
          "ELMER W HILL",
          "RONALD MAWEJJE",
          "TAREK ELSAYED ALY WAHIB",
          "MICHAEL KAGO THIONGO",
          "OEUN PHON",
          "KOURTNEY J KAUFMAN",
          "GETU ABATE TESFAYE",
          "LILA PAIGE MCDONALD",
          "DANTE L HAWKINS",
          "KHALIL AHMAD KHALIL",
          "DANNY DALE WREH",
          "JACQUELINE M ELIZONDO",
          "TAE K YANG",
          "PETER KASULE",
          "CURTICE J KERSH",
          "PARWIZ HESARY",
          "STANLEY NGUGI",
          "ALI AKHANDO",
          "SAMUEL N MWAURA",
          "ABDULLAH ALSHAREEF",
          "MICHELE M ROWE",
          "JOHN ADNEY",
          "CHELAN HENLEY",
          "FELIX OGADINMA OKOLIE",
          "COLLINS GATHUNGU",
          "BERTRAM J DUPONT",
          "MARCUS C DUNCAN",
          "ELLEN A ABUYAN",
          "SUZETTE L BLAND",
          "MODERO Z MEKANISI",
          "PAULA E WILLIAMS",
          "TROY GAMBLE",
          "TRINA L MYERS",
          "WILSON KIHATI KIBUGI",
          "MATTHEW DOSIER",
          "ARMEN AVETISYAN",
          "MOHAMMAD A AHMADI",
          "VITALII VYSHNEVSKYI",
          "RONALDO R QUIZON",
          "GERALD CARTER",
          "JEFFREY KEATING II",
          "LARRY J ROGERS",
          "JOHN D JONES",
          "GUESH TESFAY BERHE",
          "KEWAL SINGH SIDHU",
          "DAN JOE PETERS",
          "HUMBERTO SOUZA",
          "RODELIO ALDEFOLLA",
          "PAUL NGUGI",
          "KURT SCHAEFER",
          "DON PHILIP MARKER",
          "TRUNG T DO",
          "PERGENTINIO BIYOGO MANGUE",
          "JAMES KENNETH WAGENBLAST",
          "GORDON H TOFTE",
          "JOSEPH MUNYUA",
          "KAMAU JORAM",
          "HATIM JAAGOUB",
          "FRANCIS MUNIU KAMAU",
          "JOSE R ROJAS JR",
          "ROGER P VOLK",
          "SARITH TIM",
          "ANATOLIE POPENCO",
          "JASON HOPKINS",
          "GERALD ALAN FULLER",
          "ROBERT R JIMINEZ",
          "ANANAISA TOKAILAGI",
          "MARGARET KARUGA",
          "SHAWN E PHELPS",
          "DEBORA M ANDERSON",
          "ALI H MUNTASSER",
          "MICHAEL A COREY",
          "BRANDIE A THOMAS",
          "RICHARD TEASDALE",
          "JESSE HERZOG",
          "ANDREW WYNSEN",
          "JASON ANTHONY RAMOS",
          "MOHAMED YUSUF WORSEME",
          "BELETE AGEZEW",
          "SURINDER SING",
          "BERTRAND YOUNG",
          "WILLIAM SHUCK",
          "YUBIN ZHANG",
          "ENDALEW TESHOME WONDIE",
          "CHARLES G ELIUD",
          "PAGNINEBLOUM H BELEM",
          "ANDRE L WINSTON",
          "JULIO BARRIOS RAMIREZ",
          "JEREMY BROWN",
          "MARCAVISE PICKENS",
          "GREGORY MILNE ELGEE",
          "CONG NHUNG LANG",
          "KELVIN CHEGE KURIA",
          "GODFREY G MUCHENE",
          "ABOUDOU R ZAKARI",
          "JAMES R BENNETT",
          "GEORGE N KAMAU",
          "DAVID C HICKEY",
          "TERRY D LEWIS",
          "KATHLEEN MARGARET DUBOIS",
          "GRACE MOBILITY LLC",
          "JUAN PINON",
          "THOMAS BARNHART",
          "WUHIB TSEGAYE ABEBE",
          "BYUNG WON YUN",
          "RULIN OU",
          "AHMAD JABARI",
          "HASU TAVITA TASI",
          "JEN-HSUN HSIAO",
          "MOHAMED TUNKARA",
          "SIDNEY ALBERT BRECKENRIDGE",
          "ROBERT C RIVERA",
          "HUY V NGUYEN",
          "YALFAL S ALEMU",
          "MICHAEL WILKES",
          "JASWANT SINGH",
          "MOHAMMED S ALSULTANI",
          "ISHANTI J SANDERS",
          "GEORGE METZ",
          "THOMAS KIUTI",
          "ANTHONY A PALUMBO",
          "GREGORY R BAILEY",
          "BARBARA QUARTEY",
          "AHMAD ALI ALI",
          "DUNCAN SSEBALU",
          "SEPEHR GHAHREMANI",
          "LAKPA BHUTIA",
          "PAUL L STEVENSON",
          "JOHA CHEZ TUAN SUEN",
          "JAMES DARON WHITING",
          "MUJTABA AHMADI",
          "AHMAD ZARIFY",
          "TRUNG NGUYEN",
          "ANNA MCWILLIAMS",
          "RAYMOND B PARRISH",
          "JULY OTULO OWINO",
          "GODFREY K KARUGA",
          "JACOB MANAS",
          "ABDULKAREEM TAHER",
          "OLGA ZADNIPROVSKAYA",
          "BRANDON M FIX",
          "JOHNNEEKA SHANNON SMITH-REID",
          "GARY LEE ROSENQUIST",
          "REBEKAH WILLOUGHBY",
          "JAMES B SHERROD",
          "SHANNON G MITCHELL",
          "DONALD A DICKERSON",
          "MICHAEL W CHANG",
          "ELBERT L VINES II",
          "OTO B USORO",
          "DAVE W MORAN",
          "GAGANDEEP KAUR",
          "APRIL GALLATY",
          "BARRY COLLINS",
          "GILBERT K HEBERT",
          "ROGER C WHEELER",
          "SHAWNNA TURNER",
          "MARYANN NDIRANGU",
          "JOHN ROEBEN",
          "RODGER KING",
          "MERCY WAMBUGU",
          "JAMES HOLLINGSWORTH III",
          "LUE GENE FLORENCE",
          "THU NGUYEN",
          "EDWARD HILL",
          "JINNIE R KERCHEVAL",
          "OLGA THOMPSON",
          "YONIS HASSAN",
          "CHARLES SIMONS",
          "CHRISTOPHER M SHIRED",
          "CLAUDIO TORRES-OCHOA",
          "XIONG HUANG",
          "RAUL SUPANG LOMBOY",
          "YEWONDWOSSEN ADEFRIS",
          "HIRUT ALEMU",
          "OLEKSANDR BONDARENKO",
          "ADELFO GARCIA OJEDA",
          "JEFFREY A CASTOR",
          "ROBERT R JIMENEZ",
          "JASEN U CALDWELL",
          "LEILA BERG",
          "KEVEN T WAITERS",
          "JOSE F LEMUS",
          "VICTOR R HANDBURGH",
          "DICKIE BARRIENTOS",
          "HAYES J ALEXANDER",
          "ALI OMAR MOHAMED",
          "MUHANNAD FARRAH",
          "SALEH O SAEED",
          "DANIEL S TIMMONS",
          "EDWARD H MITCHELL",
          "CHARLES G WRIGHT JR",
          "CARLOS L CASTILLO",
          "ALICIA R FORD",
          "HANNAH WANJIKU NDIRANGU",
          "JANET R RAMOS",
          "TRACY A BENNETT",
          "VINH Q NGUYEN",
          "KOSHAWN R ARMSTRONG",
          "CHRISTINA A WARD",
          "JERMELLA FULFORD",
          "WOOJAI JANG",
          "PHILIP MENSAH",
          "BILLY C HORTON",
          "TODD W OLSON",
          "JOHN MORRISON",
          "JOHNNY C BYRD",
          "PRENG NUTH",
          "MARC VELASQUEZ",
          "JOZEF IGNACZAK",
          "EDWIN W TUTTLE",
          "HASSEN AZAMI",
          "JUSTIN V WHEELER",
          "EDUARDO D CORTES",
          "MADHAV KC",
          "AMBER L THOMAS",
          "MOHAMMED MADANI BENJELLOUN",
          "LUIS R MOLINA",
          "MURTADA ABDELGHANI",
          "MAX WALTER KUENKEL"
         ],
         "lat": [
          47.46614265,
          46.3144754,
          46.3144754,
          46.3144754,
          46.3144754,
          46.3144754,
          46.3144754,
          47.30091455,
          47.2881365,
          47.448373000000004,
          47.5373376,
          46.3144754,
          47.160673334407655,
          46.3144754,
          46.3144754,
          47.6466548,
          47.4758173,
          47.52774551778829,
          46.3144754,
          46.3144754,
          47.78579345,
          47.532902569711254,
          47.731085,
          47.4608245,
          46.3144754,
          46.3144754,
          46.3144754,
          47.38777575,
          47.6173249,
          46.3144754,
          47.35249725,
          47.5403168,
          47.3040527,
          47.3233168,
          47.373841549999995,
          47.3956467,
          47.34162485,
          47.48008625,
          47.34447985,
          47.304218750000004,
          47.39546824999999,
          47.75380908450704,
          47.36928854300093,
          47.50856805,
          47.26709795,
          46.867113700000004,
          47.153171717222186,
          47.30548015,
          47.3219472,
          47.377250849999996,
          47.381841,
          47.64036505,
          47.078481422874304,
          47.38637415,
          47.19993638364235,
          47.3185041,
          47.11082779591837,
          47.2787191,
          47.40750455,
          47.49545725,
          47.16520947455576,
          47.3396014,
          47.03790095353375,
          47.03790095353375,
          47.03790095353375,
          47.03790095353375,
          47.104053444444446,
          47.440782,
          46.3144754,
          46.3144754,
          47.33085335,
          47.507669199999995,
          47.36852945,
          47.4040951,
          47.35752895,
          47.36823,
          46.3144754,
          47.463398,
          46.96486018281592,
          47.5156275,
          47.39270875,
          47.30894495,
          47.4422797,
          46.3144754,
          47.41743545,
          47.34447985,
          47.37419945,
          47.02419675,
          47.7130546,
          47.37260605,
          47.30471115,
          47.39950905,
          47.5427473,
          47.61159374326866,
          47.71900585,
          47.382878399999996,
          47.3115549,
          47.352629,
          47.35204025,
          46.3144754,
          46.3144754,
          46.3144754,
          46.3144754,
          47.7171598,
          47.3865907,
          46.3144754,
          46.3144754,
          47.17076247474748,
          47.7029904,
          46.3144754,
          47.71085125,
          47.06526067346939,
          46.3144754,
          47.182848481970154,
          47.121895546233404,
          46.3144754,
          46.3144754,
          46.3144754,
          47.349922449999994,
          47.5359443,
          46.98917471112039,
          47.5470282,
          46.98917471112039,
          46.3144754,
          47.472957949999994,
          47.35647715,
          47.3956467,
          47.183798,
          47.47155575,
          47.62791246564717,
          47.5417828,
          47.4624255,
          47.36928854300093,
          47.40696235,
          47.370000000000005,
          47.683242050000004,
          47.7918239,
          47.35647715,
          46.3144754,
          46.3144754,
          46.3144754,
          47.204274147168576,
          47.7902264,
          47.3115549,
          47.202475,
          46.3144754,
          46.3144754,
          46.3144754,
          46.3144754,
          46.3144754,
          46.3144754,
          46.3144754,
          46.3144754,
          46.3144754,
          46.3144754,
          46.3144754,
          46.3144754,
          47.496591550000005,
          46.3144754,
          46.3144754,
          46.3144754,
          47.0593228,
          46.3144754,
          47.5205921,
          46.9856579,
          47.1228799261745,
          45.675731999999996,
          47.7307043,
          47.7366222,
          47.38718025,
          47.554873998512136,
          47.54302455,
          46.3144754,
          47.480261350000006,
          47.3956467,
          47.3667127,
          47.255191249999996,
          47.404659499999994,
          46.3144754,
          47.52208625,
          47.51482955,
          47.524502,
          46.3144754,
          46.3144754,
          46.3144754,
          47.236497432431804,
          47.15911003899799,
          47.51649591658577,
          47.185189708000905,
          47.7564667,
          47.714891249999994,
          47.4826836,
          47.679731,
          47.530600050000004,
          47.6391117,
          47.323939249999995,
          47.89540278869436,
          47.7257011,
          47.4648991,
          47.26063885,
          47.16971149809036,
          47.46614265,
          47.5506964,
          47.5281195,
          47.195151100000004,
          47.6845968,
          47.0154547755102,
          47.4602708,
          47.40410585,
          47.621791900000005,
          47.7858437,
          46.3144754,
          47.36822105,
          46.3144754,
          46.3144754,
          46.3144754,
          47.4981413,
          47.7196242,
          47.16436804935233,
          47.30395045,
          47.5488433,
          46.3144754,
          47.850186970303135,
          47.163726027073,
          47.4065338,
          47.376557,
          47.48594475,
          47.47487035,
          47.2715011,
          46.3144754,
          46.3144754,
          46.3144754,
          46.3144754,
          46.3144754,
          46.3144754,
          46.3144754,
          47.4449905,
          47.406689150000005,
          47.2635689,
          47.46744975,
          46.3144754,
          47.751276,
          47.75915495,
          47.454021749999995,
          47.4539781,
          47.09331817892826,
          47.19197057142857,
          47.065029372483224,
          47.3956467,
          46.3144754,
          47.316625,
          47.5488433,
          47.31270235,
          47.70618125,
          47.196096196253414,
          47.845134665216584,
          47.32091935,
          47.365624600000004,
          47.51657955,
          46.3144754,
          46.3144754,
          46.3144754,
          46.3144754,
          46.3144754,
          46.3144754,
          47.40641987986825,
          47.38427625,
          47.04724629206893,
          47.8064909,
          47.16325507725555,
          47.39818755,
          47.41743545,
          47.3687026,
          47.084143,
          47.202743240963855,
          47.40641987986825,
          47.3767814,
          46.3144754,
          47.381027,
          47.448373000000004,
          47.492504049999994,
          47.4774423,
          46.3144754,
          46.3144754,
          46.3144754,
          47.285922,
          46.3144754,
          46.3144754,
          46.3144754,
          46.3144754,
          46.3144754,
          46.3144754,
          46.3144754,
          46.3144754,
          46.3144754,
          46.3144754,
          46.3144754,
          46.3144754,
          46.8017559,
          47.050913541478494,
          47.3696179,
          46.3144754,
          46.3144754,
          46.3144754,
          46.3144754,
          46.3144754,
          46.3144754,
          46.3144754,
          46.3144754,
          46.3144754,
          46.3144754,
          46.3144754,
          46.3144754,
          46.3144754,
          46.3144754,
          46.3144754,
          46.3144754,
          46.3144754,
          46.3144754,
          46.3144754,
          46.3144754,
          46.3144754,
          46.3144754,
          46.3144754,
          46.3144754,
          46.3144754,
          47.3162326,
          47.3586475,
          47.546205549999996,
          47.4602708,
          47.70770386159205,
          47.157989586149974,
          47.403877300000005,
          47.385190699999995,
          47.40349225,
          47.62034229657918,
          47.338235,
          47.192697333333335,
          47.75584345,
          47.459799000000004,
          47.724348649999996,
          47.329950249999996,
          47.3706265,
          46.9632704810226,
          47.501934,
          47.3706265,
          47.736084059090906,
          46.3144754,
          47.05655959375161,
          46.3144754,
          46.3144754,
          47.1667806122449,
          46.3144754,
          47.095295070707074,
          46.3144754,
          46.3144754,
          46.3144754,
          46.3144754,
          46.3144754,
          47.164211,
          47.1703692,
          46.3144754,
          46.3144754,
          46.3144754,
          46.3144754,
          46.3144754,
          47.678143500000004,
          46.3144754,
          46.3144754,
          46.3144754,
          46.3144754,
          47.24777439784946,
          47.174841477011,
          47.32917365,
          47.25776824489796,
          47.242434,
          47.174841477011,
          47.169191,
          47.283736805555556,
          47.25702151241008,
          47.479164600000004,
          47.24287814285714,
          47.12581958790487,
          47.235266323232324,
          47.22292503899077,
          47.5334734,
          47.66190145,
          47.181949,
          47.211264092661786,
          47.19018589795918,
          47.262945816326535,
          47.2121129328859,
          47.21208204081633,
          47.218248369127515,
          47.1410464409422,
          47.5794207,
          47.4737561,
          47.34942241743775,
          47.25724451515151,
          47.51323775,
          47.27442942867001,
          47.21975282828283,
          47.198779822441466,
          47.220997702702704,
          47.124616,
          47.18093028571429,
          47.251491787878784,
          47.343640300000004,
          47.19726679591837,
          47.233282714285714,
          47.20339689795918,
          47.204841,
          47.235266323232324,
          47.27638,
          47.25053033333333,
          47.19006016326531,
          47.17149892042642,
          47.2495798,
          47.186897814285715,
          47.23864324313207,
          47.21222529700193,
          47.235308,
          47.17076929461614,
          47.18819606122449,
          47.04088711111111,
          47.197226848484846,
          47.197299,
          47.225443911635374,
          47.26664966834171,
          47.16449401416644,
          47.288609,
          47.2137257852349,
          47.23986267561751,
          47.7034285,
          47.278659149999996,
          47.9149657,
          47.27639405,
          47.202386714285716,
          47.201877111111116,
          47.186270484848485,
          47.235266323232324,
          47.480288200000004,
          47.252335877551026,
          47.200882,
          47.20724237286663,
          47.24373847710803,
          47.20908,
          47.17529346634362,
          47.213616306122454,
          47.27392936363636,
          47.080662000000004,
          47.5786053,
          47.153594118878196,
          47.20322885,
          47.20610637373738,
          47.25189945885786,
          47.24050865306122,
          47.20005016161616,
          47.21860044897959,
          47.22612802040816,
          47.38725005,
          47.164606283922154,
          47.17906311055276,
          47.25377153488372,
          47.260384306122454,
          47.207237309388034,
          47.203485037161144,
          47.2566057,
          47.18568110528489,
          47.25359832719312,
          47.27793469724448,
          47.188976714285715,
          47.21545721598536,
          47.16449401416644,
          47.3168426,
          47.248718,
          47.1692861,
          47.197299,
          47.192739,
          47.800172149999995,
          47.18981163731511,
          47.16449401416644,
          47.21625014285714,
          47.17559266666667,
          47.174841477011,
          47.239340495582745,
          47.176754242424245,
          47.27641,
          47.24643314285714,
          47.69892575,
          47.271274795918366,
          47.21686471428571,
          47.21974491860062,
          47.2500235045659,
          47.15936606122449,
          47.22419380726984,
          47.2167816,
          47.19447224242425,
          47.221598609308785,
          47.256013510204085,
          47.207237309388034,
          47.235266323232324,
          47.28278369230769,
          47.21979436363636,
          47.264291,
          47.17222932653061,
          47.216868,
          47.174841477011,
          47.16449401416644,
          47.28175318073146,
          47.232067,
          47.18305728624466,
          47.2231166,
          47.25584830463645,
          47.31731375,
          47.27021559183673,
          47.174841477011,
          47.1905294295302,
          47.24735151020408,
          47.21281894111901,
          47.27442942867001,
          47.2264208,
          47.173615476444816,
          47.06136985329964,
          47.086246216080404,
          47.161151,
          47.3837436,
          47.2672715,
          47.677432249999995,
          47.6006742,
          47.481338050000005,
          47.21361349113377,
          47.21509795,
          47.2356425,
          47.242421285714286,
          47.2201131,
          47.27315678409091,
          47.19892189795918,
          47.34942241743775,
          47.1867024080162,
          47.21383324999999,
          47.288659546338984,
          47.258963,
          47.257089001134176,
          47.229856,
          47.21454971428571,
          47.386141249999994,
          47.6167205,
          47.22253652525252,
          47.194608,
          47.1916953233807,
          47.271145,
          47.218449,
          47.249166999172346,
          47.26188891836735,
          47.252470848484855,
          47.2998456,
          47.683016249999994,
          47.394426749999994,
          47.10427519527028,
          47.3238687,
          47.4433545,
          47.27451655,
          47.09751908,
          47.3074229,
          47.30670645,
          47.542396249999996,
          47.235266323232324,
          47.1700528,
          47.18279465771812,
          47.21847973469388,
          47.21155238383839,
          47.228041333839236,
          47.6724738,
          46.99645721058648,
          47.235266323232324,
          47.17218279591837,
          47.206213290803625,
          47.19345550505051,
          47.202130999999994,
          47.17509675510204,
          47.23886722600404,
          47.31867205,
          47.164328755547864,
          47.009644571428574,
          47.2552647,
          47.69892575,
          47.30268699199032,
          47.554309700000005,
          47.34942241743775,
          47.18833710204082,
          47.7222558,
          47.82199619272984,
          47.27454346590424,
          47.222075668799306,
          47.209052,
          47.2470674,
          47.2979136,
          47.30697406060606,
          47.18199992842911,
          47.27454346590424,
          47.2042686,
          47.190512393594354,
          47.21254484883721,
          47.258783,
          47.28308415151515,
          47.34942241743775,
          47.17482036389322,
          47.235308,
          47.26364025,
          47.25514475,
          47.4982544,
          47.235308,
          47.34942241743775,
          47.34942241743775,
          47.495327700000004,
          47.151408,
          47.235266323232324,
          47.26472408163265,
          47.22525618367347,
          47.214535363636365,
          47.27406428571428,
          47.25171227516779,
          47.273057615384616,
          47.236429101176256,
          47.235266323232324,
          47.200640111111106,
          47.22838542857143,
          47.19213813060877,
          47.1692861,
          47.2955582,
          47.20351153778399,
          47.251635,
          47.0913930387247,
          47.231905734693875,
          47.225699,
          47.286492,
          47.16449401416644,
          47.226348,
          47.308835450000004,
          47.34942241743775,
          47.255190999999996,
          47.28634493674254,
          47.1557009,
          47.17733361249717,
          47.240294090909096,
          47.18093028571429,
          47.213536,
          47.18385982828283,
          47.2231166,
          47.16449401416644,
          47.23402859595959,
          47.17164991836734,
          47.6391607,
          47.413789,
          47.174193672,
          47.6457398,
          47.58895574271042,
          47.294472150000004,
          47.580184599999995,
          47.22837143434344,
          47.22253652525252,
          47.287786,
          47.217388306122444,
          47.23369790976534,
          47.23546846845479,
          47.21893525,
          47.20430085273312,
          47.24607691836735,
          47.199369,
          47.2610108757764,
          47.220711590604026,
          47.176099,
          47.19213813060877,
          47.172216,
          47.19133332959867,
          47.23952293877551,
          47.174841477011,
          47.2429315,
          47.16449401416644,
          47.4897898,
          47.25006,
          47.1018975033557,
          47.173378,
          47.21454971428571,
          47.28308415151515,
          47.2325320082773,
          47.243893428571425,
          47.30066773754966,
          47.22290163636363,
          47.17875515151515,
          47.26386714141414,
          47.183064015410615,
          47.188995454545456,
          47.2040641,
          47.22362410892025,
          47.182870089135726,
          47.1582,
          47.24050865306122,
          47.23820638853159,
          47.191683454545455,
          47.24148088888889,
          47.2167816
         ],
         "legendgroup": "Taxi Service",
         "lon": [
          -122.2635433713549,
          11.0480288,
          11.0480288,
          11.0480288,
          11.0480288,
          11.0480288,
          11.0480288,
          -122.34235820206209,
          -122.17662720000001,
          -122.2923265670262,
          -122.2851609,
          11.0480288,
          -122.56217124114092,
          11.0480288,
          11.0480288,
          -122.1504373,
          -122.28178205,
          -122.03006505320346,
          11.0480288,
          11.0480288,
          -122.18772786713663,
          -121.84762289754741,
          -122.31360340636314,
          -122.281531,
          11.0480288,
          11.0480288,
          11.0480288,
          -122.17252876471605,
          -122.3259917338286,
          11.0480288,
          -122.14011265022005,
          -122.38572276698389,
          -122.35380087397542,
          -122.317123222882,
          -122.1470985922316,
          -122.28585222010261,
          -122.3069669287398,
          -122.31997725414391,
          -122.31112104937216,
          -122.34601995278979,
          -122.1686469035136,
          -122.30402894366198,
          -122.19303181933384,
          -122.30578305668291,
          -122.2921835252907,
          -122.26755324999999,
          -122.55183616444216,
          -122.28341914730768,
          -122.1803466,
          -122.19290131140801,
          -122.3191344,
          -122.3869471,
          -122.40357588109987,
          -122.17037535499666,
          -122.32530613001686,
          -122.3026301,
          -122.43232183673469,
          -122.34669265,
          -122.30897915315026,
          -122.36533091684413,
          -122.28574690151348,
          -122.28190707957245,
          -122.83002759533225,
          -122.83002759533225,
          -122.83002759533225,
          -122.83002759533225,
          -122.42162422222222,
          -122.18707723962117,
          11.0480288,
          11.0480288,
          -122.30182087065135,
          -122.30529265,
          -122.1841257327134,
          -122.20366741743891,
          -122.10138694158326,
          -122.17789966229698,
          11.0480288,
          -122.15446796514479,
          -122.59165301533135,
          -122.3430492,
          -122.15571279177924,
          -122.3447091940869,
          -122.28719483266725,
          11.0480288,
          -122.29124199301339,
          -122.31112104937216,
          -122.28828369750275,
          -122.92093550254056,
          -122.22451405274106,
          -122.0258696966317,
          -122.36783354069888,
          -122.16588885455863,
          -122.2931638,
          -122.15034919556155,
          -122.34033121012388,
          -122.08854708344487,
          -122.3058049,
          -122.30992760975408,
          -122.17104683741243,
          11.0480288,
          11.0480288,
          11.0480288,
          11.0480288,
          -122.19514827720731,
          -122.18218775552191,
          11.0480288,
          11.0480288,
          -122.29359756565657,
          -122.2019583,
          11.0480288,
          -122.30287753891035,
          -122.92925079591836,
          11.0480288,
          -122.54387245730001,
          -122.4520632740039,
          11.0480288,
          11.0480288,
          11.0480288,
          -122.1377654747898,
          -122.3770276,
          -122.25733398439566,
          -122.3721147,
          -122.25733398439566,
          11.0480288,
          -122.28727406963489,
          -122.29305873353009,
          -122.28585222010261,
          -122.148282,
          -122.281486,
          -122.11393645841997,
          -122.26847999977564,
          -122.1687171245094,
          -122.19303181933384,
          -122.28020910594512,
          -122.29974642517523,
          -122.29798790114975,
          -122.32645584994651,
          -122.29305873353009,
          11.0480288,
          11.0480288,
          11.0480288,
          -122.27346804437497,
          -122.35769381985588,
          -122.3058049,
          -122.288569,
          11.0480288,
          11.0480288,
          11.0480288,
          11.0480288,
          11.0480288,
          11.0480288,
          11.0480288,
          11.0480288,
          11.0480288,
          11.0480288,
          11.0480288,
          11.0480288,
          -122.23792052250785,
          11.0480288,
          11.0480288,
          11.0480288,
          -122.7663505,
          11.0480288,
          -122.37376685,
          -122.2256697,
          -122.55190766442952,
          -122.64140575174825,
          -122.1719841,
          -122.2164326,
          -122.1559442378628,
          -122.11307098859622,
          -122.36221435496209,
          11.0480288,
          -122.18368983626436,
          -122.18613029365255,
          -122.17913683989448,
          -122.20856915596046,
          -122.28090699792568,
          11.0480288,
          -122.16343067717587,
          -122.26615729759526,
          -122.36084916674884,
          11.0480288,
          11.0480288,
          11.0480288,
          -122.61766851230522,
          -122.18830489895461,
          -122.6246282463596,
          -122.31720253977844,
          -122.3437497,
          -122.31280177289517,
          -122.24456885324254,
          -122.106627,
          -122.27412986210919,
          -122.3256798,
          -122.30990412407616,
          -122.30076709440758,
          -122.163009,
          -122.32462445,
          -122.29421767381986,
          -122.02006363817982,
          -122.2635433713549,
          -122.28240549942433,
          -122.36083934380409,
          -121.97476405,
          -122.1237269337762,
          -122.90800563265306,
          -122.17208855,
          -122.2769251768909,
          -122.32332616357922,
          -122.3469084,
          11.0480288,
          -122.31820450000001,
          11.0480288,
          11.0480288,
          11.0480288,
          -122.16263804731443,
          -122.2948337,
          -122.28633265903585,
          -122.20417831523753,
          -122.3343207,
          11.0480288,
          -121.68401311413095,
          -122.27114801257284,
          -122.27713807793103,
          -122.19970006474908,
          -122.31843820122072,
          -122.28801372595592,
          -122.2364402837799,
          11.0480288,
          11.0480288,
          11.0480288,
          11.0480288,
          11.0480288,
          11.0480288,
          11.0480288,
          -122.2875771,
          -122.27641550506854,
          -122.2794534765404,
          -122.32681227311741,
          11.0480288,
          -122.120922,
          -122.23324690831447,
          -122.35321139999999,
          -122.1716508258146,
          -122.67547980116177,
          -122.26469725396825,
          -122.25595152013423,
          -122.28585222010261,
          11.0480288,
          -122.3357453,
          -122.3343207,
          -122.33020600207925,
          -122.33100636339839,
          -122.32372699193479,
          -122.2871874751579,
          -122.33800850053035,
          -122.02754572440456,
          -122.26827734504174,
          11.0480288,
          11.0480288,
          11.0480288,
          11.0480288,
          11.0480288,
          11.0480288,
          -122.29865521949873,
          -122.29828037842097,
          -122.23114871273856,
          -122.2968445,
          -122.58790601906342,
          -122.32061181786858,
          -122.29124199301339,
          -122.16602460829853,
          -122.212454,
          -122.33329109638555,
          -122.29865521949873,
          -122.11696904988023,
          11.0480288,
          -122.2608732,
          -122.2923265670262,
          -122.27418012500002,
          -122.325776775,
          11.0480288,
          11.0480288,
          11.0480288,
          -122.11367938839285,
          11.0480288,
          11.0480288,
          11.0480288,
          11.0480288,
          11.0480288,
          11.0480288,
          11.0480288,
          11.0480288,
          11.0480288,
          11.0480288,
          11.0480288,
          11.0480288,
          -122.2419186,
          -122.30878185706045,
          -122.29845990216205,
          11.0480288,
          11.0480288,
          11.0480288,
          11.0480288,
          11.0480288,
          11.0480288,
          11.0480288,
          11.0480288,
          11.0480288,
          11.0480288,
          11.0480288,
          11.0480288,
          11.0480288,
          11.0480288,
          11.0480288,
          11.0480288,
          11.0480288,
          11.0480288,
          11.0480288,
          11.0480288,
          11.0480288,
          11.0480288,
          11.0480288,
          11.0480288,
          11.0480288,
          -122.3596841,
          -122.1767771,
          -122.29972272143311,
          -122.17208855,
          -122.11734987890588,
          -122.19776577093437,
          -122.18994383297414,
          -122.0317201,
          -122.28313801992377,
          -122.20448273423719,
          -122.330426402098,
          -122.290836,
          -122.18839172589205,
          -122.2746895,
          -122.34725170266411,
          -122.17496005000001,
          -122.20815070200001,
          -122.63273123652584,
          -122.18386117104623,
          -122.20815070200001,
          -122.33715443636363,
          11.0480288,
          -122.30621007091564,
          11.0480288,
          11.0480288,
          -122.60677608163265,
          11.0480288,
          -122.40237885858586,
          11.0480288,
          11.0480288,
          11.0480288,
          11.0480288,
          11.0480288,
          -122.294136,
          -122.596287,
          11.0480288,
          11.0480288,
          11.0480288,
          11.0480288,
          11.0480288,
          -122.32235805130587,
          11.0480288,
          11.0480288,
          11.0480288,
          11.0480288,
          -122.3221566344086,
          -122.46531138871684,
          -122.21866913185096,
          -122.45781236734695,
          -122.367243,
          -122.46531138871684,
          -122.44201,
          -122.38126661805556,
          -122.53284985107904,
          -122.18090704109841,
          -122.47053771428573,
          -122.426733690056,
          -122.53575953535353,
          -122.49323464229126,
          -122.2694738,
          -122.40329070576419,
          -122.548506,
          -122.46632942272205,
          -122.44274248979592,
          -122.45345504081632,
          -122.50706676510067,
          -122.4117848367347,
          -122.47351543624161,
          -122.50733709750739,
          -122.3050668,
          -122.28907584999999,
          -122.22494950689504,
          -122.44259796969696,
          -122.1763286433432,
          -122.51574759049946,
          -122.44496413131313,
          -122.30439000534962,
          -122.47348272972972,
          -122.537743,
          -122.45573485714286,
          -122.530088,
          -122.30772250409836,
          -122.4302659387755,
          -122.49354671428571,
          -122.4037345510204,
          -122.272951,
          -122.53575953535353,
          -122.2255535,
          -122.51298033333335,
          -122.42597634693877,
          -122.42635839483087,
          -122.439874,
          -122.42605441428572,
          -122.39808302333006,
          -122.50512166676944,
          -122.555082,
          -122.51203598939136,
          -122.29528508163266,
          -122.84046672222223,
          -122.48123933333333,
          -122.492655,
          -122.34409730693044,
          -122.51813586432161,
          -122.49459814083336,
          -122.373565,
          -122.50190353691275,
          -122.55368378146851,
          -122.342496,
          -122.22251207453007,
          -122.2450797,
          -122.14707805104445,
          -122.33071,
          -122.42560496969696,
          -122.45533472727273,
          -122.53575953535353,
          -122.18826072992863,
          -122.44774079591836,
          -122.40945072727273,
          -122.42461750006484,
          -122.44677891625872,
          -122.415114,
          -122.51184603321855,
          -122.47359986734695,
          -122.36381163636364,
          -122.41638326164681,
          -122.4089862,
          -122.50468994265596,
          -122.50494512448194,
          -122.4721852121212,
          -122.52092331171322,
          -122.46179610204082,
          -122.42563065656566,
          -122.47955238775509,
          -122.4536505510204,
          -122.25759173099064,
          -122.50748373534176,
          -122.4632837839196,
          -122.4645796744186,
          -122.45977259183672,
          -122.49784015866734,
          -122.51163291442775,
          -122.531339,
          -122.51737553162162,
          -122.52567506374959,
          -122.52066301687395,
          -122.45076957142857,
          -122.55096900808418,
          -122.49459814083336,
          -122.396491081091,
          -122.53688366666667,
          -122.4593579,
          -122.492655,
          -121.9940355,
          -122.37783147965702,
          -122.56257384802285,
          -122.49459814083336,
          -122.42490938775511,
          -122.45709566666667,
          -122.46531138871684,
          -122.53016219772825,
          -122.53066021212122,
          -122.52163260655738,
          -122.47659342857142,
          -122.34643125745892,
          -122.50513759183674,
          -122.480925,
          -122.40630646484225,
          -122.5234916453218,
          -122.50106073469388,
          -122.53352550766714,
          -122.4340178,
          -122.49391215151515,
          -122.40494904108346,
          -122.46155671428572,
          -122.49784015866734,
          -122.53575953535353,
          -122.37191928205128,
          -122.4479353939394,
          -122.447573,
          -122.46374455102041,
          -122.47386,
          -122.46531138871684,
          -122.49459814083336,
          -122.5131572408847,
          -122.41373528571428,
          -122.54390522733502,
          -122.4196411,
          -122.53686577438923,
          -122.38447330478571,
          -122.49200467346938,
          -122.46531138871684,
          -122.45914222818791,
          -122.4466076122449,
          -122.4122257922048,
          -122.51574759049946,
          -122.3579285,
          -122.5145681915861,
          -122.40115746485637,
          -122.41789547236182,
          -122.506301,
          -122.31260932496488,
          -122.23246457028793,
          -122.38296002454268,
          -122.3351764,
          -122.28815982694806,
          -122.40970310729956,
          -122.53591430352355,
          -122.43931391098513,
          -122.48372485714286,
          -122.4618639,
          -122.51575288068182,
          -122.41112283673469,
          -122.22494950689504,
          -122.5403383032109,
          -122.53846064724938,
          -122.38978271882083,
          -122.441815,
          -122.30898602405814,
          -122.456071,
          -122.47383424489796,
          -122.25201209211107,
          -122.3097957,
          -122.48136234343434,
          -122.494153,
          -122.49148343437021,
          -122.491901,
          -122.437691,
          -122.52644780718805,
          -122.46085087755101,
          -122.4429815959596,
          -122.21303565590756,
          -122.16479824635056,
          -122.27169995046658,
          -122.43468916127274,
          -122.2171815,
          -122.2889149717806,
          -122.22295215,
          -122.643724664,
          -122.30474980063457,
          -122.31008505009683,
          -122.35463050012947,
          -122.53575953535353,
          -122.4340924,
          -122.4745826375839,
          -122.4267465510204,
          -122.44964592929293,
          -122.50502014358305,
          -122.3636847,
          -122.79775900723928,
          -122.53575953535353,
          -122.46379353061225,
          -122.49966460692801,
          -122.44599062626263,
          -122.52296177707399,
          -122.46324257142858,
          -122.52163792625618,
          -122.3960872752306,
          -122.43427075202241,
          -122.86617787755101,
          -122.21853638532066,
          -122.34643125745892,
          -122.39499531637023,
          -122.38514828430796,
          -122.22494950689504,
          -122.51024777551021,
          -122.32168385413908,
          -122.33251716227709,
          -122.36972943954105,
          -122.51642330936865,
          -122.40954083673469,
          -122.440476,
          -122.5322044,
          -122.41956867676767,
          -122.54857652781607,
          -122.36972943954105,
          -122.2464048,
          -122.56233040427283,
          -122.44196770930232,
          -122.49257855886873,
          -122.51567690909091,
          -122.22494950689504,
          -122.46540432563009,
          -122.555082,
          -122.44985415,
          -122.534194,
          -122.1631706,
          -122.555082,
          -122.22494950689504,
          -122.22494950689504,
          -122.25283485281923,
          -122.506888,
          -122.53575953535353,
          -122.45546487755101,
          -122.33631144897959,
          -122.41659581818182,
          -122.51081685714286,
          -122.52268787919463,
          -122.48668576923076,
          -122.3533284634913,
          -122.53575953535353,
          -122.48098011111111,
          -122.42171357142858,
          -122.53958752146984,
          -122.4593579,
          -122.37281313783673,
          -122.41489518302784,
          -122.526245,
          -122.41517965538756,
          -122.41500387755103,
          -122.44782424489796,
          -122.372477,
          -122.49459814083336,
          -122.476543,
          -122.39828628423311,
          -122.22494950689504,
          -122.44963046938776,
          -122.37871226507572,
          -122.36188261917145,
          -122.48113156233104,
          -122.46265766666666,
          -122.45573485714286,
          -122.437298,
          -122.45462312121212,
          -122.4196411,
          -122.49459814083336,
          -122.48620285858586,
          -122.52758620408163,
          -122.14535629288389,
          -122.1855319217128,
          -122.436576792,
          -122.37526374529367,
          -122.1458423411959,
          -122.20961724132076,
          -122.31446198487068,
          -122.29643963636364,
          -122.48136234343434,
          -122.373143,
          -122.45291697959183,
          -122.50546538156351,
          -122.44815393238707,
          -122.50692275,
          -122.50473172090032,
          -122.45611338775511,
          -122.508545,
          -122.51603833540372,
          -122.54023990604027,
          -122.43658169565217,
          -122.53958752146984,
          -122.30876,
          -122.45417251789279,
          -122.4492857755102,
          -122.46531138871684,
          -122.5623359,
          -122.49459814083336,
          -122.32026255344672,
          -122.490312,
          -122.42295410738255,
          -122.46324411111111,
          -122.47383424489796,
          -122.51567690909091,
          -122.50900965778808,
          -122.51284775510204,
          -122.40265181835998,
          -122.44913136363635,
          -122.43821101010101,
          -122.4694178989899,
          -122.5269717478574,
          -122.55540327272728,
          -122.3287919,
          -122.52958301703734,
          -122.5493346614846,
          -122.255976,
          -122.46179610204082,
          -122.46512770712654,
          -122.4810183030303,
          -122.5301104888889,
          -122.4340178
         ],
         "marker": {
          "color": "green"
         },
         "mode": "markers",
         "name": "Taxi Service",
         "showlegend": true,
         "subplot": "mapbox",
         "type": "scattermapbox"
        }
       ],
       "layout": {
        "legend": {
         "title": {
          "text": "NAICS_CODE_DESCRIPTION"
         },
         "tracegroupgap": 0
        },
        "mapbox": {
         "center": {
          "lat": 47.25,
          "lon": -122.44
         },
         "domain": {
          "x": [
           0,
           1
          ],
          "y": [
           0,
           1
          ]
         },
         "style": "carto-positron",
         "zoom": 9
        },
        "margin": {
         "t": 60
        },
        "template": {
         "data": {
          "bar": [
           {
            "error_x": {
             "color": "#2a3f5f"
            },
            "error_y": {
             "color": "#2a3f5f"
            },
            "marker": {
             "line": {
              "color": "#E5ECF6",
              "width": 0.5
             },
             "pattern": {
              "fillmode": "overlay",
              "size": 10,
              "solidity": 0.2
             }
            },
            "type": "bar"
           }
          ],
          "barpolar": [
           {
            "marker": {
             "line": {
              "color": "#E5ECF6",
              "width": 0.5
             },
             "pattern": {
              "fillmode": "overlay",
              "size": 10,
              "solidity": 0.2
             }
            },
            "type": "barpolar"
           }
          ],
          "carpet": [
           {
            "aaxis": {
             "endlinecolor": "#2a3f5f",
             "gridcolor": "white",
             "linecolor": "white",
             "minorgridcolor": "white",
             "startlinecolor": "#2a3f5f"
            },
            "baxis": {
             "endlinecolor": "#2a3f5f",
             "gridcolor": "white",
             "linecolor": "white",
             "minorgridcolor": "white",
             "startlinecolor": "#2a3f5f"
            },
            "type": "carpet"
           }
          ],
          "choropleth": [
           {
            "colorbar": {
             "outlinewidth": 0,
             "ticks": ""
            },
            "type": "choropleth"
           }
          ],
          "contour": [
           {
            "colorbar": {
             "outlinewidth": 0,
             "ticks": ""
            },
            "colorscale": [
             [
              0,
              "#0d0887"
             ],
             [
              0.1111111111111111,
              "#46039f"
             ],
             [
              0.2222222222222222,
              "#7201a8"
             ],
             [
              0.3333333333333333,
              "#9c179e"
             ],
             [
              0.4444444444444444,
              "#bd3786"
             ],
             [
              0.5555555555555556,
              "#d8576b"
             ],
             [
              0.6666666666666666,
              "#ed7953"
             ],
             [
              0.7777777777777778,
              "#fb9f3a"
             ],
             [
              0.8888888888888888,
              "#fdca26"
             ],
             [
              1,
              "#f0f921"
             ]
            ],
            "type": "contour"
           }
          ],
          "contourcarpet": [
           {
            "colorbar": {
             "outlinewidth": 0,
             "ticks": ""
            },
            "type": "contourcarpet"
           }
          ],
          "heatmap": [
           {
            "colorbar": {
             "outlinewidth": 0,
             "ticks": ""
            },
            "colorscale": [
             [
              0,
              "#0d0887"
             ],
             [
              0.1111111111111111,
              "#46039f"
             ],
             [
              0.2222222222222222,
              "#7201a8"
             ],
             [
              0.3333333333333333,
              "#9c179e"
             ],
             [
              0.4444444444444444,
              "#bd3786"
             ],
             [
              0.5555555555555556,
              "#d8576b"
             ],
             [
              0.6666666666666666,
              "#ed7953"
             ],
             [
              0.7777777777777778,
              "#fb9f3a"
             ],
             [
              0.8888888888888888,
              "#fdca26"
             ],
             [
              1,
              "#f0f921"
             ]
            ],
            "type": "heatmap"
           }
          ],
          "heatmapgl": [
           {
            "colorbar": {
             "outlinewidth": 0,
             "ticks": ""
            },
            "colorscale": [
             [
              0,
              "#0d0887"
             ],
             [
              0.1111111111111111,
              "#46039f"
             ],
             [
              0.2222222222222222,
              "#7201a8"
             ],
             [
              0.3333333333333333,
              "#9c179e"
             ],
             [
              0.4444444444444444,
              "#bd3786"
             ],
             [
              0.5555555555555556,
              "#d8576b"
             ],
             [
              0.6666666666666666,
              "#ed7953"
             ],
             [
              0.7777777777777778,
              "#fb9f3a"
             ],
             [
              0.8888888888888888,
              "#fdca26"
             ],
             [
              1,
              "#f0f921"
             ]
            ],
            "type": "heatmapgl"
           }
          ],
          "histogram": [
           {
            "marker": {
             "pattern": {
              "fillmode": "overlay",
              "size": 10,
              "solidity": 0.2
             }
            },
            "type": "histogram"
           }
          ],
          "histogram2d": [
           {
            "colorbar": {
             "outlinewidth": 0,
             "ticks": ""
            },
            "colorscale": [
             [
              0,
              "#0d0887"
             ],
             [
              0.1111111111111111,
              "#46039f"
             ],
             [
              0.2222222222222222,
              "#7201a8"
             ],
             [
              0.3333333333333333,
              "#9c179e"
             ],
             [
              0.4444444444444444,
              "#bd3786"
             ],
             [
              0.5555555555555556,
              "#d8576b"
             ],
             [
              0.6666666666666666,
              "#ed7953"
             ],
             [
              0.7777777777777778,
              "#fb9f3a"
             ],
             [
              0.8888888888888888,
              "#fdca26"
             ],
             [
              1,
              "#f0f921"
             ]
            ],
            "type": "histogram2d"
           }
          ],
          "histogram2dcontour": [
           {
            "colorbar": {
             "outlinewidth": 0,
             "ticks": ""
            },
            "colorscale": [
             [
              0,
              "#0d0887"
             ],
             [
              0.1111111111111111,
              "#46039f"
             ],
             [
              0.2222222222222222,
              "#7201a8"
             ],
             [
              0.3333333333333333,
              "#9c179e"
             ],
             [
              0.4444444444444444,
              "#bd3786"
             ],
             [
              0.5555555555555556,
              "#d8576b"
             ],
             [
              0.6666666666666666,
              "#ed7953"
             ],
             [
              0.7777777777777778,
              "#fb9f3a"
             ],
             [
              0.8888888888888888,
              "#fdca26"
             ],
             [
              1,
              "#f0f921"
             ]
            ],
            "type": "histogram2dcontour"
           }
          ],
          "mesh3d": [
           {
            "colorbar": {
             "outlinewidth": 0,
             "ticks": ""
            },
            "type": "mesh3d"
           }
          ],
          "parcoords": [
           {
            "line": {
             "colorbar": {
              "outlinewidth": 0,
              "ticks": ""
             }
            },
            "type": "parcoords"
           }
          ],
          "pie": [
           {
            "automargin": true,
            "type": "pie"
           }
          ],
          "scatter": [
           {
            "fillpattern": {
             "fillmode": "overlay",
             "size": 10,
             "solidity": 0.2
            },
            "type": "scatter"
           }
          ],
          "scatter3d": [
           {
            "line": {
             "colorbar": {
              "outlinewidth": 0,
              "ticks": ""
             }
            },
            "marker": {
             "colorbar": {
              "outlinewidth": 0,
              "ticks": ""
             }
            },
            "type": "scatter3d"
           }
          ],
          "scattercarpet": [
           {
            "marker": {
             "colorbar": {
              "outlinewidth": 0,
              "ticks": ""
             }
            },
            "type": "scattercarpet"
           }
          ],
          "scattergeo": [
           {
            "marker": {
             "colorbar": {
              "outlinewidth": 0,
              "ticks": ""
             }
            },
            "type": "scattergeo"
           }
          ],
          "scattergl": [
           {
            "marker": {
             "colorbar": {
              "outlinewidth": 0,
              "ticks": ""
             }
            },
            "type": "scattergl"
           }
          ],
          "scattermapbox": [
           {
            "marker": {
             "colorbar": {
              "outlinewidth": 0,
              "ticks": ""
             }
            },
            "type": "scattermapbox"
           }
          ],
          "scatterpolar": [
           {
            "marker": {
             "colorbar": {
              "outlinewidth": 0,
              "ticks": ""
             }
            },
            "type": "scatterpolar"
           }
          ],
          "scatterpolargl": [
           {
            "marker": {
             "colorbar": {
              "outlinewidth": 0,
              "ticks": ""
             }
            },
            "type": "scatterpolargl"
           }
          ],
          "scatterternary": [
           {
            "marker": {
             "colorbar": {
              "outlinewidth": 0,
              "ticks": ""
             }
            },
            "type": "scatterternary"
           }
          ],
          "surface": [
           {
            "colorbar": {
             "outlinewidth": 0,
             "ticks": ""
            },
            "colorscale": [
             [
              0,
              "#0d0887"
             ],
             [
              0.1111111111111111,
              "#46039f"
             ],
             [
              0.2222222222222222,
              "#7201a8"
             ],
             [
              0.3333333333333333,
              "#9c179e"
             ],
             [
              0.4444444444444444,
              "#bd3786"
             ],
             [
              0.5555555555555556,
              "#d8576b"
             ],
             [
              0.6666666666666666,
              "#ed7953"
             ],
             [
              0.7777777777777778,
              "#fb9f3a"
             ],
             [
              0.8888888888888888,
              "#fdca26"
             ],
             [
              1,
              "#f0f921"
             ]
            ],
            "type": "surface"
           }
          ],
          "table": [
           {
            "cells": {
             "fill": {
              "color": "#EBF0F8"
             },
             "line": {
              "color": "white"
             }
            },
            "header": {
             "fill": {
              "color": "#C8D4E3"
             },
             "line": {
              "color": "white"
             }
            },
            "type": "table"
           }
          ]
         },
         "layout": {
          "annotationdefaults": {
           "arrowcolor": "#2a3f5f",
           "arrowhead": 0,
           "arrowwidth": 1
          },
          "autotypenumbers": "strict",
          "coloraxis": {
           "colorbar": {
            "outlinewidth": 0,
            "ticks": ""
           }
          },
          "colorscale": {
           "diverging": [
            [
             0,
             "#8e0152"
            ],
            [
             0.1,
             "#c51b7d"
            ],
            [
             0.2,
             "#de77ae"
            ],
            [
             0.3,
             "#f1b6da"
            ],
            [
             0.4,
             "#fde0ef"
            ],
            [
             0.5,
             "#f7f7f7"
            ],
            [
             0.6,
             "#e6f5d0"
            ],
            [
             0.7,
             "#b8e186"
            ],
            [
             0.8,
             "#7fbc41"
            ],
            [
             0.9,
             "#4d9221"
            ],
            [
             1,
             "#276419"
            ]
           ],
           "sequential": [
            [
             0,
             "#0d0887"
            ],
            [
             0.1111111111111111,
             "#46039f"
            ],
            [
             0.2222222222222222,
             "#7201a8"
            ],
            [
             0.3333333333333333,
             "#9c179e"
            ],
            [
             0.4444444444444444,
             "#bd3786"
            ],
            [
             0.5555555555555556,
             "#d8576b"
            ],
            [
             0.6666666666666666,
             "#ed7953"
            ],
            [
             0.7777777777777778,
             "#fb9f3a"
            ],
            [
             0.8888888888888888,
             "#fdca26"
            ],
            [
             1,
             "#f0f921"
            ]
           ],
           "sequentialminus": [
            [
             0,
             "#0d0887"
            ],
            [
             0.1111111111111111,
             "#46039f"
            ],
            [
             0.2222222222222222,
             "#7201a8"
            ],
            [
             0.3333333333333333,
             "#9c179e"
            ],
            [
             0.4444444444444444,
             "#bd3786"
            ],
            [
             0.5555555555555556,
             "#d8576b"
            ],
            [
             0.6666666666666666,
             "#ed7953"
            ],
            [
             0.7777777777777778,
             "#fb9f3a"
            ],
            [
             0.8888888888888888,
             "#fdca26"
            ],
            [
             1,
             "#f0f921"
            ]
           ]
          },
          "colorway": [
           "#636efa",
           "#EF553B",
           "#00cc96",
           "#ab63fa",
           "#FFA15A",
           "#19d3f3",
           "#FF6692",
           "#B6E880",
           "#FF97FF",
           "#FECB52"
          ],
          "font": {
           "color": "#2a3f5f"
          },
          "geo": {
           "bgcolor": "white",
           "lakecolor": "white",
           "landcolor": "#E5ECF6",
           "showlakes": true,
           "showland": true,
           "subunitcolor": "white"
          },
          "hoverlabel": {
           "align": "left"
          },
          "hovermode": "closest",
          "mapbox": {
           "style": "light"
          },
          "paper_bgcolor": "white",
          "plot_bgcolor": "#E5ECF6",
          "polar": {
           "angularaxis": {
            "gridcolor": "white",
            "linecolor": "white",
            "ticks": ""
           },
           "bgcolor": "#E5ECF6",
           "radialaxis": {
            "gridcolor": "white",
            "linecolor": "white",
            "ticks": ""
           }
          },
          "scene": {
           "xaxis": {
            "backgroundcolor": "#E5ECF6",
            "gridcolor": "white",
            "gridwidth": 2,
            "linecolor": "white",
            "showbackground": true,
            "ticks": "",
            "zerolinecolor": "white"
           },
           "yaxis": {
            "backgroundcolor": "#E5ECF6",
            "gridcolor": "white",
            "gridwidth": 2,
            "linecolor": "white",
            "showbackground": true,
            "ticks": "",
            "zerolinecolor": "white"
           },
           "zaxis": {
            "backgroundcolor": "#E5ECF6",
            "gridcolor": "white",
            "gridwidth": 2,
            "linecolor": "white",
            "showbackground": true,
            "ticks": "",
            "zerolinecolor": "white"
           }
          },
          "shapedefaults": {
           "line": {
            "color": "#2a3f5f"
           }
          },
          "ternary": {
           "aaxis": {
            "gridcolor": "white",
            "linecolor": "white",
            "ticks": ""
           },
           "baxis": {
            "gridcolor": "white",
            "linecolor": "white",
            "ticks": ""
           },
           "bgcolor": "#E5ECF6",
           "caxis": {
            "gridcolor": "white",
            "linecolor": "white",
            "ticks": ""
           }
          },
          "title": {
           "x": 0.05
          },
          "xaxis": {
           "automargin": true,
           "gridcolor": "white",
           "linecolor": "white",
           "ticks": "",
           "title": {
            "standoff": 15
           },
           "zerolinecolor": "white",
           "zerolinewidth": 2
          },
          "yaxis": {
           "automargin": true,
           "gridcolor": "white",
           "linecolor": "white",
           "ticks": "",
           "title": {
            "standoff": 15
           },
           "zerolinecolor": "white",
           "zerolinewidth": 2
          }
         }
        },
        "title": {
         "text": "Where are the taxis? CSV"
        }
       }
      },
      "text/html": [
       "<div>                            <div id=\"f4d68c58-9aaa-4303-8faa-f0c815d2de8a\" class=\"plotly-graph-div\" style=\"height:525px; width:100%;\"></div>            <script type=\"text/javascript\">                require([\"plotly\"], function(Plotly) {                    window.PLOTLYENV=window.PLOTLYENV || {};                                    if (document.getElementById(\"f4d68c58-9aaa-4303-8faa-f0c815d2de8a\")) {                    Plotly.newPlot(                        \"f4d68c58-9aaa-4303-8faa-f0c815d2de8a\",                        [{\"customdata\":[[485310.0,\"5565 S 152ND ST\",\"TUKWILA\",\"WA\",\"98188-7815\"],[485310.0,null,null,null,null],[485310.0,null,null,null,null],[485310.0,null,null,null,null],[485310.0,null,null,null,null],[485310.0,null,null,null,null],[485310.0,null,null,null,null],[485310.0,\"33628 7TH PL SW\",\"FEDERAL WAY\",\"WA\",\"98023-5004\"],[485310.0,\"3702 AUBURN WAY S\",\"AUBURN\",\"WA\",\"98092-6242\"],[485310.0,\"17223 32ND AVE S\",\"SEATAC\",\"WA\",\"98188-4415\"],[485310.0,\"7263 38TH AVE S\",\"SEATTLE\",\"WA\",\"98118-6407\"],[485310.0,null,null,null,null],[485310.0,\"10619 NORTHSTAR WAY SW\",\"LAKEWOOD\",\"WA\",\"98498-3019\"],[485310.0,null,null,null,null],[485310.0,null,null,null,null],[485310.0,\"50150 PL NE\",\"BELLEVUE\",\"WA\",\"98007\"],[485310.0,\"14207 42ND AVE S\",\"TUKWILA\",\"WA\",\"98168\"],[485310.0,\"425 SE CROSTON LN\",\"ISSAQUAH\",\"WA\",\"98027\"],[485310.0,null,null,null,null],[485310.0,null,null,null,null],[485310.0,\"3331 234TH ST SE\",\"BOTHELL\",\"WA\",\"98021\"],[485310.0,\"37002 SE GRAVENSTEIN CT\",\"SNOQUALMIE\",\"WA\",\"98065\"],[485310.0,\"14021 15TH AVE NE\",\"SEATTLE\",\"WA\",\"98125\"],[485310.0,\"15819 42ND AVE S\",\"TUKWILA\",\"WA\",\"98188-2644\"],[485310.0,null,null,null,null],[485310.0,null,null,null,null],[485310.0,null,null,null,null],[485310.0,\"23731 126TH PL SE\",\"KENT\",\"WA\",\"98031\"],[485310.0,\"1727 SUMMIT AVE\",\"SEATTLE\",\"WA\",\"98122-2151\"],[485310.0,null,null,null,null],[485310.0,\"27807 151ST PL SE\",\"KENT\",\"WA\",\"98042-4429\"],[485310.0,\"4137 SW FRONTENAC ST\",\"SEATTLE\",\"WA\",\"98136\"],[485310.0,\"1900 SW CAMPUS DR\",\"FEDERAL WAY\",\"WA\",\"98023-6427\"],[485310.0,\"31003 14TH AVE S\",\"FEDERAL WAY\",\"WA\",\"98003-9013\"],[485310.0,\"14511 SE 254TH ST\",\"KENT\",\"WA\",\"98042-3417\"],[485310.0,\"3900 VETERANS DR\",\"KENT\",\"WA\",\"98032-3951\"],[485310.0,\"2016 S 291ST ST\",\"FEDERAL WAY\",\"WA\",\"98003-3819\"],[485310.0,\"1016 S 138TH ST\",\"BURIEN\",\"WA\",\"98168-6636\"],[485310.0,\"28620 PACIFIC HWY S\",\"FEDERAL WAY\",\"WA\",\"98003-9232\"],[485310.0,\"33020 10TH AVE SW\",\"FEDERAL WAY\",\"WA\",\"98023-5714\"],[485310.0,\"12911 SE 231ST WAY\",\"KENT\",\"WA\",\"98031-3641\"],[485310.0,\"2224 NE 175TH ST\",\"SHORELINE\",\"WA\",\"98155\"],[485310.0,\"11020 SE KENT KANGLEY RD\",\"KENT\",\"WA\",\"98030\"],[485310.0,\"10455 DES MOINES MEMORIAL DR S\",\"SEATTLE\",\"WA\",\"98168-1697\"],[485310.0,\"37310 32ND AVE S\",\"AUBURN\",\"WA\",\"98001-8729\"],[485310.0,\"103 CENTER ST W\",\"EATONVILLE\",\"WA\",\"98328-6464\"],[485310.0,\"8709 115TH CT SW\",\"LAKEWOOD\",\"WA\",\"98498\"],[485310.0,\"33051 41ST PL S\",\"FEDERAL WAY\",\"WA\",\"98001-2651\"],[485310.0,\"31227 121ST LANE SE\",\"AUBURN\",\"WA\",\"98092\"],[485310.0,\"25010 111TH AVE SE\",\"KENT\",\"WA\",\"98030\"],[485310.0,\"24447 12TH AVE S\",\"DES MOINES\",\"WA\",\"98198-3867\"],[485310.0,\"2415 THORNDYKE AVE W\",\"SEATTLE\",\"WA\",\"98199\"],[485310.0,\"2013 196TH STREET CT E\",\"SPANAWAY\",\"WA\",\"98387\"],[485310.0,\"12810 SE 241ST ST\",\"KENT\",\"WA\",\"98030-5085\"],[485310.0,\"1025 23RD ST NW\",\"PUYALLUP\",\"WA\",\"98371-3995\"],[485310.0,\"2508 S 317TH ST\",\"FEDERAL WAY\",\"WA\",\"98003-5028\"],[485310.0,\"107 161ST ST S\",\"SPANAWAY\",\"WA\",\"98387\"],[485310.0,\"36010 9TH CT SW\",\"FEDERAL WAY\",\"WA\",\"98023\"],[485310.0,\"1835 S 216TH ST\",\"DES MOINES\",\"WA\",\"98198\"],[485310.0,\"2517 SW 120TH ST\",\"BURIEN\",\"WA\",\"98146\"],[485310.0,\"2809 6TH ST SE\",\"PUYALLUP\",\"WA\",\"98374\"],[485310.0,\"4153 S 292ND PL\",\"AUBURN\",\"WA\",\"98001\"],[485310.0,\"4305 LACEY BLVD SE\",\"LACEY\",\"WA\",\"98503-2352\"],[485310.0,\"4305 LACEY BLVD SE\",\"LACEY\",\"WA\",\"98503-2352\"],[485310.0,\"4305 LACEY BLVD SE\",\"LACEY\",\"WA\",\"98503-2352\"],[485310.0,\"4305 LACEY BLVD SE\",\"LACEY\",\"WA\",\"98503-2352\"],[485310.0,\"16823  7TH AVE CT E\",\"SPANAWAY\",\"WA\",\"98387\"],[485310.0,\"18015 116TH AVE SE\",\"RENTON\",\"WA\",\"98058-6564\"],[485310.0,null,null,null,null],[485310.0,null,null,null,null],[485310.0,\"30316 24TH PL S\",\"FEDERAL WAY\",\"WA\",\"98003-4200\"],[485310.0,\"2118 S 107TH ST\",\"SEATTLE\",\"WA\",\"98168-1758\"],[485310.0,\"26001 119TH DR SE\",\"KENT\",\"WA\",\"98030-8406\"],[485310.0,\"22048 102ND PL SE\",\"KENT\",\"WA\",\"98031-9500\"],[485310.0,\"18025 272ND ST\",\"COVINGTON\",\"WA\",\"98042\"],[485310.0,\"12217 SE 260TH PL\",\"KENT\",\"WA\",\"98030\"],[485310.0,null,null,null,null],[485310.0,\"15415 139TH AVE SE\",\"RENTON\",\"WA\",\"98058\"],[485310.0,\"16400 84TH CT SE\",\"YELM\",\"WA\",\"98597\"],[485310.0,\"9736 6TH PL SW\",\"SEATTLE\",\"WA\",\"98106\"],[485310.0,\"23407 140TH AVE SE\",\"KENT\",\"WA\",\"98042\"],[485310.0,\"721 SW 328TH ST\",\"FEDERAL WAY\",\"WA\",\"98023\"],[485310.0,\"3608 S 180TH ST\",\"SEATAC\",\"WA\",\"98188\"],[485310.0,null,null,null,null],[485310.0,\"3223 S 204TH PL\",\"SEATAC\",\"WA\",\"98198-5875\"],[485310.0,\"28620 PACIFIC HWY S\",\"FEDERAL WAY\",\"WA\",\"98003-9233\"],[485310.0,\"3425 S 253RD ST\",\"KENT\",\"WA\",\"98032-9746\"],[485310.0,\"1675 MOTTMAN RD SW\",\"TUMWATER\",\"WA\",\"98512\"],[485310.0,\"12530 87TH PL NE\",\"KIRKLAND\",\"WA\",\"98034-2651\"],[485310.0,\"23519 SE 254TH ST\",\"MAPLE VALLEY\",\"WA\",\"98038-6055\"],[485310.0,\"2614 SW 332ND PL\",\"FEDERAL WAY\",\"WA\",\"98023-2746\"],[485310.0,\"22692 129TH PL SE\",\"KENT\",\"WA\",\"98031-3978\"],[485310.0,\"3012 S HOLLY ST\",\"SEATTLE\",\"WA\",\"98108-3780\"],[485310.0,\"189 142ND PL NE\",\"BELLEVUE\",\"WA\",\"98007\"],[485310.0,\"1333 N 125TH ST\",\"SEATTLE\",\"WA\",\"98133\"],[485310.0,\"18859 SE 244TH PL\",\"COVINGTON\",\"WA\",\"98042\"],[485310.0,\"2101 S 324TH ST\",\"FEDERAL WAY\",\"WA\",\"98003-8597\"],[485310.0,\"27606 PACIFIC HWY S\",\"FEDERAL WAY\",\"WA\",\"98003-3411\"],[485310.0,\"12723 SE 278TH PL\",\"KENT\",\"WA\",\"98030-8843\"],[485310.0,null,null,null,null],[485310.0,null,null,null,null],[485310.0,null,null,null,null],[485310.0,null,null,null,null],[485310.0,\"13025 110TH AVE NE\",\"KIRKLAND\",\"WA\",\"98034-6304\"],[485310.0,\"11918 SE 240TH PL\",\"KENT\",\"WA\",\"98030\"],[485310.0,null,null,null,null],[485310.0,null,null,null,null],[485310.0,\"2206 S MERIDIAN\",\"PUYALLUP\",\"WA\",\"98371-7550\"],[485310.0,\"10418 NE 115TH PL\",\"KIRKLAND\",\"WA\",\"98033-4302\"],[485310.0,null,null,null,null],[485310.0,\"11323 24TH AVE NE\",\"SEATTLE\",\"WA\",\"98125\"],[485310.0,\"2316 BURBANK AVE NW\",\"OLYMPIA\",\"WA\",\"98502-8384\"],[485310.0,null,null,null,null],[485310.0,\"40 THUNDERBIRD PKWY SW\",\"LAKEWOOD\",\"WA\",\"98498-6119\"],[485310.0,\"14914 13TH AVE S\",\"SPANAWAY\",\"WA\",\"98387\"],[485310.0,null,null,null,null],[485310.0,null,null,null,null],[485310.0,null,null,null,null],[485310.0,\"28105 153RD AVE SE\",\"KENT\",\"WA\",\"98042\"],[485310.0,\"3504 SW WEBSTER ST\",\"SEATTLE\",\"WA\",\"98126\"],[485310.0,\"29420 132ND AVE E\",\"GRAHAM\",\"WA\",\"98338-6003\"],[485310.0,\"3100 SW GRAHAM ST\",\"SEATTLE\",\"WA\",\"98126\"],[485310.0,\"29420 132ND AVE E\",\"GRAHAM\",\"WA\",\"98338\"],[485310.0,null,null,null,null],[485310.0,\"3516 S 146TH ST\",\"TUKWILA\",\"WA\",\"98168-4342\"],[485310.0,\"3117 S 273RD ST\",\"AUBURN\",\"WA\",\"98001-1801\"],[485310.0,\"3900 VETERANS DR\",\"KENT\",\"WA\",\"98032-3954\"],[485310.0,\"21013 82ND ST E\",\"BONNEY LAKE\",\"WA\",\"98391-8326\"],[485310.0,\"14629 42ND AVE S\",\"TUKWILA\",\"WA\",\"98168\"],[485310.0,\"16912 NE 19TH PL\",\"BELLEVUE\",\"WA\",\"98008\"],[485310.0,\"5132 BRIGHTON ST\",\"SEATTLE\",\"WA\",\"98118\"],[485310.0,\"15627 129TH PL SE\",\"RENTON\",\"WA\",\"98058\"],[485310.0,\"11020 SE KENT KANGLEY RD\",\"KENT\",\"WA\",\"98030-7255\"],[485310.0,\"4305 S 217TH ST\",\"KENT\",\"WA\",\"98032-1402\"],[485310.0,\"25819 26TH PL S\",\"KENT\",\"WA\",\"98032\"],[485310.0,\"2714 NE 75TH ST\",\"SEATTLE\",\"WA\",\"98115\"],[485310.0,\"22811 LAKEVIEW DRIVE\",\"MOUNTLAKE TERRACE\",\"WA\",\"98043\"],[485310.0,\"3117 S 273RD ST\",\"AUBURN\",\"WA\",\"98001-1801\"],[485310.0,null,null,null,null],[485310.0,null,null,null,null],[485310.0,null,null,null,null],[485310.0,\"5824 117TH AVENUE CT E\",\"PUYALLUP\",\"WA\",\"98372\"],[485310.0,\"23000 EDMONDS WAY\",\"EDMONDS\",\"WA\",\"98020\"],[485310.0,\"2101 S 324TH ST\",\"FEDERAL WAY\",\"WA\",\"98003-8597\"],[485310.0,\"18808 105TH AVE CT E\",\"PUYALLUP\",\"WA\",\"98374\"],[485310.0,null,null,null,null],[485310.0,null,null,null,null],[485310.0,null,null,null,null],[485310.0,null,null,null,null],[485310.0,null,null,null,null],[485310.0,null,null,null,null],[485310.0,null,null,null,null],[485310.0,null,null,null,null],[485310.0,null,null,null,null],[485310.0,null,null,null,null],[485310.0,null,null,null,null],[485310.0,null,null,null,null],[485310.0,\"11826 76TH AVE S\",\"SEATTLE\",\"WA\",\"98178-3804\"],[485310.0,null,null,null,null],[485310.0,null,null,null,null],[485310.0,null,null,null,null],[485310.0,\"1401 MARVIN RD NE\",\"LACEY\",\"WA\",\"98516\"],[485310.0,null,null,null,null],[485310.0,\"9214 32ND AVE SW\",\"SEATTLE\",\"WA\",\"98126-3817\"],[485310.0,\" \",\"KAPOWSIN\",\"WA\",null],[485310.0,\"14900 UNION AVE SW\",\"LAKEWOOD\",\"WA\",\"98498-2276\"],[485310.0,\"7315 NE 30TH CT\",\"VANCOUVER\",\"WA\",\"98665-1448\"],[485310.0,\"14330 126TH AVE NE\",\"KIRKLAND\",\"WA\",\"98034\"],[485310.0,\"14921 93RD BLVD NE\",\"BOTHELL\",\"WA\",\"98011\"],[485310.0,\"23921 139TH PL SE\",\"KENT\",\"WA\",\"98042\"],[485310.0,\"5423 VILLAGE PK DR SE\",\"BELLEVUE\",\"WA\",\"98006\"],[485310.0,\"6543 DELRIDGE WAY SW\",\"SEATTLE\",\"WA\",\"98106\"],[485310.0,null,null,null,null],[485310.0,\"313 FERNDALE AVE SE\",\"RENTON\",\"WA\",\"98506-8891\"],[485310.0,\"11616 SE 230TH PL\",\"KENT\",\"WA\",\"98031-3746\"],[485310.0,\"26212 121ST AVE SE\",\"KENT\",\"WA\",\"98030\"],[485310.0,\"5902 OLIVE AVE SE\",\"AUBURN\",\"WA\",\"98092\"],[485310.0,\"21920 42ND AVE S\",\"KENT\",\"WA\",\"98032\"],[485310.0,null,null,null,null],[485310.0,\"8944 132ND PL SE\",\"NEWCASTLE\",\"WA\",\"98059\"],[485310.0,\"9700 RENTON  AVE S\",\"SEATTLE\",\"WA\",\"98118\"],[485310.0,\"8801 DELRIDGE WAY SW\",\"SEATTLE\",\"WA\",\"98106\"],[485310.0,null,null,null,null],[485310.0,null,null,null,null],[485310.0,null,null,null,null],[485310.0,\"987 LUMMI DR\",\"FOX ISLAND\",\"WA\",\"98333\"],[485310.0,\"10809 181ST AVE PL E\",\"BONNEY LAKE\",\"WA\",\"98391\"],[485310.0,\"2185 SE TIBURON CT\",\"PORT ORCHARD\",\"WA\",\"98366\"],[485310.0,\"1716 8TH AVE SW\",\"PUYALLUP\",\"WA\",\"98371\"],[485310.0,\" \",\"SHORELINE\",\"WA\",\"98177\"],[485310.0,\"11725 15TH  AVE  NE\",\"SEATTLE\",\"WA\",\"98125\"],[485310.0,\"7035 S 133RD ST\",\"SEATTLE\",\"WA\",\"98178\"],[485310.0,\"17202 NE 85TH PL\",\"REDMOND\",\"WA\",\"98052\"],[485310.0,\"7932 46TH AVE S\",\"SEATTLE\",\"WA\",\"98118\"],[485310.0,\"2226 EASTLAKE AVE E\",\"SEATTLE\",\"WA\",\"98102\"],[485310.0,\"1821 S 310TH ST\",\"FEDERAL WAY\",\"WA\",\"98003\"],[485310.0,\"11108 CHENNAULT BEACH RD\",\"MUKILTEO\",\"WA\",\"98275\"],[485310.0,\"13230 NE 139TH PL\",\"KIRKLAND\",\"WA\",\"98034-5523\"],[485310.0,\"15405 DES MOINES MEMORIAL DR S\",\"SEATAC\",\"WA\",\"98148-2543\"],[485310.0,\"3129 S 381ST WAY\",\"AUBURN\",\"WA\",\"98001-8767\"],[485310.0,\"1318 OLSEN AVE\",\"BUCKLEY\",\"WA\",\"98321\"],[485310.0,\"5565 S 152ND ST\",\"TUKWILA\",\"WA\",\"98188-7818\"],[485310.0,\"3922 S MEAD ST\",\"SEATTLE\",\"WA\",\"98118\"],[485310.0,\"8401 DELRIDGE WAY SW\",\"SEATTLE\",\"WA\",\"98106-2232\"],[485310.0,\"462 BONDGARD AVE E\",\"ENUMCLAW\",\"WA\",\"98022-2997\"],[485310.0,\"9350 REDMOND WOODINVILLE RD NE\",\"REDMOND\",\"WA\",\"98052\"],[485310.0,\"105 N 3RD AVE SW\",\"TUMWATER\",\"WA\",\"98512\"],[485310.0,\"12610 SE 160TH ST\",\"RENTON\",\"WA\",\"98058\"],[485310.0,\"4425 S 220TH PL\",\"KENT\",\"WA\",\"98032\"],[485310.0,\"321 BOYLSTON AVE E\",\"SEATTLE\",\"WA\",\"98102-5345\"],[485310.0,\"8415 235TH PL SW\",\"EDMONDS\",\"WA\",\"98026\"],[485310.0,null,null,null,null],[485310.0,\"25931 13TH PL S\",\"DES MOINES\",\"WA\",\"98198\"],[485310.0,null,null,null,null],[485310.0,null,null,null,null],[485310.0,null,null,null,null],[485310.0,\"913 VASHON PL NE\",\"RENTON\",\"WA\",\"98059-4569\"],[485310.0,\"12508 LAKE CITY WAY NE\",\"SEATTLE\",\"WA\",\"98125\"],[485310.0,\"2903 6TH ST SE\",\"PUYALLUP\",\"WA\",\"98374\"],[485310.0,\"413 U ST SE\",\"AUBURN\",\"WA\",\"98002\"],[485310.0,\"12253 1ST AVE S\",\"SEATTLE\",\"WA\",\"98168\"],[485310.0,null,null,null,null],[485310.0,\"1605 ELIZABETH LN\",\"GOLD BAR\",\"WA\",\"98251-9237\"],[485310.0,\"2911 18TH ST SE\",\"PUYALLUP\",\"WA\",\"98374-6323\"],[485310.0,\"4417 S 217TH PL\",\"KENT\",\"WA\",\"98032-2307\"],[485310.0,\"10531 SE 250TH PL\",\"KENT\",\"WA\",\"98030-2892\"],[485310.0,\"13025 12TH AVE S\",\"BURIEN\",\"WA\",\"98168-2872\"],[485310.0,\"3434 S 144TH ST\",\"TUKWILA\",\"WA\",\"98168-4061\"],[485310.0,\"600 ELLINGSON RD\",\"PACIFIC\",\"WA\",\"98047-1286\"],[485310.0,null,null,null,null],[485310.0,null,null,null,null],[485310.0,null,null,null,null],[485310.0,null,null,null,null],[485310.0,null,null,null,null],[485310.0,null,null,null,null],[485310.0,null,null,null,null],[485310.0,\"3425 S 176TH ST\",\"SEATAC\",\"WA\",\"98188-4044\"],[485310.0,\"4505 S 217TH ST\",\"KENT\",\"WA\",\"98032\"],[485310.0,\"37700 44TH  AVE  S\",\"AUBURN\",\"WA\",\"98001\"],[485310.0,\"446 S 152ND ST\",\"BURIEN\",\"WA\",\"98148\"],[485310.0,null,null,null,null],[485310.0,\"17015 164TH AVE NE\",\"WOODINVILLE\",\"WA\",\"98072\"],[485310.0,\"18014 81ST LN NE\",\"KENMORE\",\"WA\",\"98028\"],[485310.0,\"1409 SW 166TH ST\",\"BURIEN\",\"WA\",\"98166-3415\"],[485310.0,\"16636 127TH AVE SE\",\"RENTON\",\"WA\",\"98058\"],[485310.0,\"3095 SHEASER WAY\",\"DUPONT\",\"WA\",\"98327\"],[485310.0,\"2309 E MAIN AVE\",\"PUYALLUP\",\"WA\",\"98372\"],[485310.0,\"21105 131ST AVE E\",\"GRAHAM\",\"WA\",\"98338\"],[485310.0,\"3900 VETERANS DR\",\"KENT\",\"WA\",\"98032-3934\"],[485310.0,null,null,null,null],[485310.0,\"31900 2ND LN SW\",\"FEDERAL WAY\",\"WA\",\"98023-4653\"],[485310.0,\"12033 1st AVE S\",\"SEATTLE\",\"WA\",\"98168-5033\"],[485310.0,\"333 s 320TH ST\",\"FEDERAL WAY\",\"WA\",\"98003-4614\"],[485310.0,\"2230 n 106TH ST\",\"SEATTLE\",\"WA\",\"98133-9560\"],[485310.0,\"440 21ST NW\",\"PUYALLUP\",\"WA\",\"98371\"],[485310.0,\"16921 SPRUCE WAY\",\"LYNNWOOD\",\"WA\",\"98037\"],[485310.0,\"213 SW 313TH ST\",\"FEDERAL WAY\",\"WA\",\"98023\"],[485310.0,\"26304 235TH AVE SE\",\"MAPLE VALLEY\",\"WA\",\"98038\"],[485310.0,\"5121 S ROXBURY ST\",\"SEATTLE\",\"WA\",\"98118\"],[485310.0,null,null,null,null],[485310.0,null,null,null,null],[485310.0,null,null,null,null],[485310.0,null,null,null,null],[485310.0,null,null,null,null],[485310.0,null,null,null,null],[485310.0,\"21800 PACIFIC HWY S\",\"DES MOINES\",\"WA\",\"98198\"],[485310.0,\"2741 S 242ND ST\",\"DES MOINES\",\"WA\",\"98198\"],[485310.0,\"15019 230TH ST E\",\"GRAHAM\",\"WA\",\"98338\"],[485310.0,\"4412 212TH ST SW\",\"MOUNTLAKE TERRACE\",\"WA\",\"98043\"],[485310.0,\"2510 WOODS DR\",\"STEILACOOM\",\"WA\",\"98388-4233\"],[485310.0,\"22634 10TH AVE S\",\"DES MOINES\",\"WA\",\"98198-6915\"],[485310.0,\"3223 S 204TH PL\",\"SEATAC\",\"WA\",\"98198-5875\"],[485310.0,\"26007 132ND AVE SE\",\"KENT\",\"WA\",\"98042-3503\"],[485310.0,\"203 HAWK AVE SW\",\"ORTING\",\"WA\",\"98360-8415\"],[485310.0,\"2913 13TH AVENUE CT NW\",\"PUYALLUP\",\"WA\",\"98371-3983\"],[485310.0,\"21800 PACIFIC HWY S\",\"DES MOINES\",\"WA\",\"98198-7793\"],[485310.0,\"16724 SE 251ST PL\",\"COVINGTON\",\"WA\",\"98042-5230\"],[485310.0,null,null,null,null],[485310.0,\"4821 KENT DES MOINES RD\",\"KENT\",\"WA\",\"98032-4240\"],[485310.0,\"17223 32ND AVE S\",\"SEATAC\",\"WA\",\"98188-4409\"],[485310.0,\"4718 S 124TH ST\",\"TUKWILA\",\"WA\",\"98178-3450\"],[485310.0,\"14008 6TH AVE S\",\"BURIEN\",\"WA\",\"98168-3523\"],[485310.0,null,null,null,null],[485310.0,null,null,null,null],[485310.0,null,null,null,null],[485310.0,\"35209 172ND AVE SE\",\"AUBURN\",\"WA\",\"98092-2616\"],[485310.0,null,null,null,null],[485310.0,null,null,null,null],[485310.0,null,null,null,null],[485310.0,null,null,null,null],[485310.0,null,null,null,null],[485310.0,null,null,null,null],[485310.0,null,null,null,null],[485310.0,null,null,null,null],[485310.0,null,null,null,null],[485310.0,null,null,null,null],[485310.0,null,null,null,null],[485310.0,null,null,null,null],[485310.0,\"50101 146TH AVE E\",\"EATONVILLE\",\"WA\",\"98328\"],[485310.0,\"22606 91ST AVENUE CT E\",\"GRAHAM\",\"WA\",\"98338\"],[485310.0,\"25830 26TH PL S\",\"KENT\",\"WA\",\"98032-6318\"],[485310.0,null,null,null,null],[485310.0,null,null,null,null],[485310.0,null,null,null,null],[485310.0,null,null,null,null],[485310.0,null,null,null,null],[485310.0,null,null,null,null],[485310.0,null,null,null,null],[485310.0,null,null,null,null],[485310.0,null,null,null,null],[485310.0,null,null,null,null],[485310.0,null,null,null,null],[485310.0,null,null,null,null],[485310.0,null,null,null,null],[485310.0,null,null,null,null],[485310.0,null,null,null,null],[485310.0,null,null,null,null],[485310.0,null,null,null,null],[485310.0,null,null,null,null],[485310.0,null,null,null,null],[485310.0,null,null,null,null],[485310.0,null,null,null,null],[485310.0,null,null,null,null],[485310.0,null,null,null,null],[485310.0,null,null,null,null],[485310.0,null,null,null,null],[485310.0,\"1930 SW 318TH PL\",\"FEDERAL WAY\",\"WA\",\"98023\"],[485310.0,\"27106 123RD PLACE SE\",\"KENT\",\"WA\",\"98030\"],[485310.0,\"2511 S GRAHAM ST\",\"SEATTLE\",\"WA\",\"98108-3125\"],[485310.0,\"12610 SE 160TH ST\",\"RENTON\",\"WA\",\"98058\"],[485310.0,\"16763 NE 121ST ST\",\"REDMOND\",\"WA\",\"93852\"],[485310.0,\"10708 174TH AVE E\",\"BONNEY LAKE\",\"WA\",\"98391\"],[485310.0,\"22118 113TH CT SE\",\"KENT\",\"WA\",\"98031\"],[485310.0,\"24129 232ND PL SE\",\"MAPLE VALLEY\",\"WA\",\"98038\"],[485310.0,\"22106 40TH PL S\",\"KENT\",\"WA\",\"98032\"],[485310.0,\"1125 102ND AVE\",\"BELLEVUE\",\"WA\",\"98004\"],[485310.0,\"29411 4TH AVE S\",\"FEDERAL WAY\",\"WA\",\"98003\"],[485310.0,\"307 2ND AVE NE\",\"PUYALLUP\",\"WA\",\"98372\"],[485310.0,\"11510 E RIVERSIDE DR\",\"BOTHELL\",\"WA\",\"98011\"],[485310.0,\"4628 S 160TH ST\",\"TUKWILA\",\"WA\",\"98188-2758\"],[485310.0,\"13030 LINDEN AVE N\",\"SEATTLE\",\"WA\",\"98133\"],[485310.0,\"30344 125TH CT SE\",\"AUBURN\",\"WA\",\"98092-2291\"],[485310.0,\"25623 98TH AVE S\",\"KENT\",\"WA\",\"98030-6147\"],[485310.0,\"14240 YELM HWY SE\",\"YELM\",\"WA\",\"98597\"],[485310.0,\"1147 GLENNWOOD AVE NE\",\"RENTON\",\"WA\",\"98056\"],[485310.0,\"25623 98TH AVE S\",\"KENT\",\"WA\",\"98030\"],[485310.0,\"14605 WALLINGFORD AVE N\",\"SHORELINE\",\"WA\",\"98133\"],[485310.0,null,null,null,null],[485310.0,\"9317 220TH STREET CT E\",\"GRAHAM\",\"WA\",\"98338-9197\"],[485310.0,null,null,null,null],[485310.0,null,null,null,null],[485310.0,\"602 5TH ST\",\"STEILACOOM\",\"WA\",\"98388-1802\"],[485310.0,null,null,null,null],[485310.0,\"2002 177TH ST CT E\",\"SPANAWAY\",\"WA\",\"98387-2914\"],[485310.0,null,null,null,null],[485310.0,null,null,null,null],[485310.0,null,null,null,null],[485310.0,null,null,null,null],[485310.0,null,null,null,null],[485310.0,\"1922 28TH AVE SW\",\"PUYALLUP\",\"WA\",\"98373-1362\"],[485310.0,\" \",\"STEILACOOM\",\"WA\",\"98388\"],[485310.0,null,null,null,null],[485310.0,null,null,null,null],[485310.0,null,null,null,null],[485310.0,null,null,null,null],[485310.0,null,null,null,null],[485310.0,\"6806 OSWEGO PL NE\",\"SEATTLE\",\"WA\",\"98115\"],[485310.0,null,null,null,null],[485310.0,null,null,null,null],[485310.0,null,null,null,null],[485310.0,null,null,null,null],[485310.0,\"1307 10TH AVE\",\"MILTON\",\"WA\",\"98354-8825\"],[485310.0,\"2108 S 90TH ST\",\"TACOMA\",\"WA\",\"98444\"],[485310.0,\"2436 I ST NE\",\"AUBURN\",\"WA\",\"98002-2480\"],[485310.0,\"1419 S 5TH ST\",\"TACOMA\",\"WA\",\"98405-3711\"],[485310.0,\"4600 16TH ST E\",\"FIFE\",\"WA\",\"98424-2634\"],[485310.0,\"2108 S 90TH ST\",\"TACOMA\",\"WA\",\"98444\"],[485310.0,\"9819 PARK AVE S\",\"TACOMA\",\"WA\",\"98444-5934\"],[485310.0,\"4925 30TH ST NE\",\"TACOMA\",\"WA\",\"98422-2901\"],[485310.0,\"7305 N SKYVIEW PL\",\"TACOMA\",\"WA\",\"98406-1301\"],[485310.0,\"2755 SE 4TH ST\",\"RENTON\",\"WA\",\"98056\"],[485310.0,\"2603 S 19TH ST\",\"TACOMA\",\"WA\",\"98405\"],[485310.0,\"14410 4TH AVE CT E\",\"PARKLAND\",\"WA\",\"98445\"],[485310.0,\"7406 27TH ST W\",\"UNIVERSITY PLACE\",\"WA\",\"98466\"],[485310.0,\"3817 S TYLER ST\",\"TACOMA\",\"WA\",\"98409-2131\"],[485310.0,\"7700 RAINIER AVE S\",\"SEATTLE\",\"WA\",\"98118\"],[485310.0,\"4516 36TH AVE W\",\"SEATTLE\",\"WA\",\"98199\"],[485310.0,\"8307 83RD AVENUE CT SW\",\"LAKEWOOD\",\"WA\",\"98498-4783\"],[485310.0,\"5043 S TRAFTON ST\",\"TACOMA\",\"WA\",\"98409-7143\"],[485310.0,\"763 S 74TH ST\",\"TACOMA\",\"WA\",\"98408-5408\"],[485310.0,\"319 N I ST\",\"TACOMA\",\"WA\",\"98403-0000\"],[485310.0,\"5002 52ND AVENUE CT W\",\"UNIVERSITY PLACE\",\"WA\",\"98467\"],[485310.0,\"1334 E 49TH ST\",\"TACOMA\",\"WA\",\"98404-3617\"],[485310.0,\"4275 S PINE ST\",\"TACOMA\",\"WA\",\"98409-6573\"],[485310.0,\"5311 CHICAGO AVE SW\",\"LAKEWOOD\",\"WA\",\"98499-5712\"],[485310.0,\"2616 21ST AVE S\",\"SEATTLE\",\"WA\",\"98144\"],[485310.0,\"14422 34TH AVE S\",\"TUKWILA\",\"WA\",\"98168\"],[485310.0,\"4750 AUBURN WAY N\",\"AUBURN\",\"WA\",\"98002-2030\"],[485310.0,\"708 MARKET ST\",\"TACOMA\",\"WA\",\"98402-3747\"],[485310.0,\"3225 NE 25TH ST\",\"RENTON\",\"WA\",\"98056\"],[485310.0,\"3015 N PEARL ST.\",\"TACOMA\",\"WA\",\"98407\"],[485310.0,\"4114 S THOMPSON AVE\",\"TACOMA\",\"WA\",\"98418\"],[485310.0,\"819 9TH AVE NW\",\"PUYALLUP\",\"WA\",\"98371\"],[485310.0,\"4001 S PINE ST\",\"TACOMA\",\"WA\",\"98413\"],[485310.0,\"7601 146TH ST SW\",\"LAKEWOOD\",\"WA\",\"98439-1103\"],[485310.0,\"1614 S 84TH ST\",\"TACOMA\",\"WA\",\"98444-3112\"],[485310.0,\"1020 S HOWARD ST\",\"TACOMA\",\"WA\",\"98465-1818\"],[485310.0,\"28707 20TH AVE S\",\"FEDERAL WAY\",\"WA\",\"98003-3234\"],[485310.0,\"139 E 66TH ST\",\"TACOMA\",\"WA\",\"98404\"],[485310.0,\"4215 S 30TH ST\",\"TACOMA\",\"WA\",\"98409-3263\"],[485310.0,\"1922 E 59TH ST\",\"TACOMA\",\"WA\",\"98404-4407\"],[485310.0,\"12606 117TH AVENUE CT E\",\"PUYALLUP\",\"WA\",\"98374-4071\"],[485310.0,\"7406 27TH ST W\",\"UNIVERSITY PLACE\",\"WA\",\"98466\"],[485310.0,\"241 37TH PL SE\",\"AUBURN\",\"WA\",\"98002-8803\"],[485310.0,\"1111 S HIGHLAND AVE\",\"TACOMA\",\"WA\",\"98465-2327\"],[485310.0,\"7407 E D ST\",\"TACOMA\",\"WA\",\"98404-1079\"],[485310.0,\"9402 E D ST\",\"TACOMA\",\"WA\",\"98445-2144\"],[485310.0,\" \",\"TACOMA\",\"WA\",null],[485310.0,\"7623 E D ST\",\"TACOMA\",\"WA\",\"98404-1038\"],[485310.0,\"2610 E BAY ST\",\"TACOMA\",\"WA\",\"98421-2611\"],[485310.0,\"4955 S ORCHARD ST\",\"TACOMA\",\"WA\",\"98467-4814\"],[485310.0,\"7406 27TH ST W\",\"TACOMA\",\"WA\",\"98466\"],[485310.0,\"9508 56TH AVE SW\",\"LAKEWOOD\",\"WA\",\"98499\"],[485310.0,\"207 5TH AVE SW\",\"PUYALLUP\",\"WA\",\"98371-1958\"],[485310.0,\"3726 PACIFIC AVE SE\",\"OLYMPIA\",\"WA\",\"98501-2170\"],[485310.0,\"6612 S WARNER ST\",\"TACOMA\",\"WA\",\"98409-4021\"],[485310.0,\"6601 S TYLER ST\",\"TACOMA\",\"WA\",\"98409\"],[485310.0,\"6350 RADIANCE BLVD E\",\"FIFE\",\"WA\",\"98424\"],[485310.0,\"6314 WESTGATE BLVD\",\"TACOMA\",\"WA\",\"98406-2202\"],[485310.0,\"10202 LAKEVIEW AVE SW\",\"LAKEWOOD\",\"WA\",\"98499\"],[485310.0,\"5545 34TH ST LOOP NE\",\"TACOMA\",\"WA\",\"98422-3105\"],[485310.0,\"4866 S 48TH ST\",\"TACOMA\",\"WA\",\"98409-1906\"],[485310.0,\"2220 WESTRIDGE AVE W\",\"TACOMA\",\"WA\",\"98466\"],[485310.0,\"1216 N 103RD ST\",\"SEATTLE\",\"WA\",\"98133-9405\"],[485310.0,\"401 37TH ST SE\",\"AUBURN\",\"WA\",\"98002\"],[485310.0,\"11313 8TH PL W\",\"EVERETT\",\"WA\",\"98204\"],[485310.0,\"6130 36TH ST SE\",\"AUBURN\",\"WA\",\"98092\"],[485310.0,\"2715 13TH AVE NW\",\"PUYALLUP\",\"WA\",\"98371\"],[485310.0,\"427 E 61ST ST\",\"TACOMA\",\"WA\",\"98404-1930\"],[485310.0,\"7808 S AINSWORTH AVE\",\"TACOMA\",\"WA\",\"98408-2011\"],[485310.0,\"7406 27TH ST W\",\"UNIVERSITY PLACE\",\"WA\",\"98406\"],[485310.0,\"2232 SE  3RD ST\",\"RENTON\",\"WA\",\"98056\"],[485310.0,\"818 S 11TH ST\",\"TACOMA\",\"WA\",\"98405-4527\"],[485310.0,\"1419 E 62ND ST\",\"TACOMA\",\"WA\",\"98404-3537\"],[485310.0,\"5507 E E ST\",\"TACOMA\",\"WA\",\"98404-2055\"],[485310.0,\"1925 S I ST\",\"TACOMA\",\"WA\",\"98405\"],[485310.0,\"1101 E 53RD ST\",\"TACOMA\",\"WA\",\"98404-2720\"],[485310.0,\"8941 GRAVELLY LAKE DR SW\",\"LAKEWOOD\",\"WA\",\"98499-3127\"],[485310.0,\"4802 S PINE ST\",\"TACOMA\",\"WA\",\"98409\"],[485310.0,\"1918 63RD AVE NE\",\"TACOMA\",\"WA\",\"98422-3626\"],[485310.0,\"19305 TWINKLE DR E\",\"SPANAWAY\",\"WA\",\"98387\"],[485310.0,\"2726 60TH AVE SW\",\"SEATTLE\",\"WA\",\"98116\"],[485310.0,\"5107 115TH ST SW\",\"LAKEWOOD\",\"WA\",\"98499\"],[485310.0,\"5030 S 58TH ST\",\"TACOMA\",\"WA\",\"98409-1307\"],[485310.0,\"5627 S OAKES ST\",\"TACOMA\",\"WA\",\"98409-6211\"],[485310.0,\"729 S VASSAULT ST\",\"TACOMA\",\"WA\",\"98465-0000\"],[485310.0,\"1908 S 21ST ST\",\"TACOMA\",\"WA\",\"98405\"],[485310.0,\"427 E 63RD ST\",\"TACOMA\",\"WA\",\"98404-1902\"],[485310.0,\"3318 S 43RD ST\",\"TACOMA\",\"WA\",\"98409-5525\"],[485310.0,\"3610 S CUSHMAN AVE\",\"TACOMA\",\"WA\",\"98418-2633\"],[485310.0,\"6205 S 239TH ST\",\"KENT\",\"WA\",\"98032-2974\"],[485310.0,\"10240 BRIDGEPORT WAY SW\",\"LAKEWOOD\",\"WA\",\"98499-2324\"],[485310.0,\"8602 S HOSMER ST\",\"TACOMA\",\"WA\",\"98444\"],[485310.0,\"2043 S 8TH ST\",\"TACOMA\",\"WA\",\"98405-3031\"],[485310.0,\"1302 N 6TH ST\",\"TACOMA\",\"WA\",\"98403-1344\"],[485310.0,\"4602 S 55TH ST\",\"TACOMA\",\"WA\",\"98409-1846\"],[485310.0,\"5714 59TH STREET CT W\",\"UNIVERSITY PLACE\",\"WA\",\"98467-2859\"],[485310.0,\"1149 N SKYLINE DR\",\"TACOMA\",\"WA\",\"98406-1823\"],[485310.0,\"6020 78TH STREET CT W\",\"LAKEWOOD\",\"WA\",\"98499-2680\"],[485310.0,\"6601 S 8TH ST\",\"TACOMA\",\"WA\",\"98465-2087\"],[485310.0,\"3302 N VASSAULT ST\",\"TACOMA\",\"WA\",\"98407\"],[485310.0,\"7515 S M ST\",\"TACOMA\",\"WA\",\"98408\"],[485310.0,\"8518 45TH ST W\",\"UNIVERSITY PLACE\",\"WA\",\"98466\"],[485310.0,\"10202 LAKEVIEW AVE SW\",\"LAKEWOOD\",\"WA\",\"98499\"],[485310.0,\"31805 49TH TER SW\",\"FEDERAL WAY\",\"WA\",\"98023-3707\"],[485310.0,\"1233 S JACKSON AVE\",\"TACOMA\",\"WA\",\"98465\"],[485310.0,\"11217 18TH AVE S\",\"TACOMA\",\"WA\",\"98444-1474\"],[485310.0,\"6601 S TYLER ST\",\"TACOMA\",\"WA\",\"98409-2401\"],[485310.0,\"185 BIRCH DR\",\"ENUMCLAW\",\"WA\",\"98022\"],[485310.0,\"1140 5TH AVE\",\"EDMONDS\",\"WA\",\"98020\"],[485310.0,\"7410 95TH AVE SW\",\"LAKEWOOD\",\"WA\",\"98498-3313\"],[485310.0,\"10202 LAKEVIEW AVE SW\",\"LAKEWOOD\",\"WA\",\"98499\"],[485310.0,\"4533 E E ST\",\"TACOMA\",\"WA\",\"98404-1452\"],[485310.0,\"1658 S 90TH ST\",\"TACOMA\",\"WA\",\"98444-3120\"],[485310.0,\"2108 S 90TH ST\",\"TACOMA\",\"WA\",\"98444-1816\"],[485310.0,\"2202 70TH AVE W\",\"UNIVERSITY PLACE\",\"WA\",\"98466-7617\"],[485310.0,\"7016 CHERRY LANE SW\",\"LAKEWOOD\",\"WA\",\"98499-1910\"],[485310.0,\"3219 N WHITMAN ST\",\"TACOMA\",\"WA\",\"98407\"],[485310.0,\"3114 S 15TH ST\",\"TACOMA\",\"WA\",\"98405-2417\"],[485310.0,\"912 N 96TH ST\",\"SEATTLE\",\"WA\",\"98103\"],[485310.0,\"2617 N ORCHARD ST\",\"TACOMA\",\"WA\",\"98407-3942\"],[485310.0,\"3415 S 45TH ST\",\"TACOMA\",\"WA\",\"98409-4533\"],[485310.0,\"1704 E 42ND ST\",\"TACOMA\",\"WA\",\"98404\"],[485310.0,\"6403 S 12TH ST\",\"TACOMA\",\"WA\",\"98465-1908\"],[485310.0,\"4802 108TH ST SW\",\"LAKEWOOD\",\"WA\",\"98499-3705\"],[485310.0,\"3716 72ND AVENUE CT W\",\"UNIVERSITY PLACE\",\"WA\",\"98466-4409\"],[485310.0,\"7645 PACIFIC AVE\",\"TACOMA\",\"WA\",\"98408-7004\"],[485310.0,\"6931 S MASON AVE\",\"TACOMA\",\"WA\",\"98409-1539\"],[485310.0,\"1745 E 39TH ST\",\"TACOMA\",\"WA\",\"98404\"],[485310.0,\"612 S GRANT AVE\",\"TACOMA\",\"WA\",\"98405\"],[485310.0,\"4602 S 55TH ST\",\"TACOMA\",\"WA\",\"98409\"],[485310.0,\"7406 27TH ST W\",\"UNIVERSITY PLACE\",\"WA\",\"98466\"],[485310.0,\"5625 29TH ST NE\",\"TACOMA\",\"WA\",\"98422-3205\"],[485310.0,\"4112 S K ST\",\"TACOMA\",\"WA\",\"98418-3828\"],[485310.0,\"1002 N TACOMA AVE\",\"TACOMA\",\"WA\",\"98403-2929\"],[485310.0,\"9324 S STEELE ST\",\"TACOMA\",\"WA\",\"98444-6853\"],[485310.0,\"2901 S 45TH ST\",\"TACOMA\",\"WA\",\"98409-6525\"],[485310.0,\"2108 S 90TH ST\",\"TACOMA\",\"WA\",\"98444-1816\"],[485310.0,\"10202 LAKEVIEW AVE SW\",\"LAKEWOOD\",\"WA\",\"98499\"],[485310.0,\"5601 N 37TH ST\",\"TACOMA\",\"WA\",\"98407-0000\"],[485310.0,\"3414 E M ST\",\"TACOMA\",\"WA\",\"98404\"],[485310.0,\"25 THUNDERBIRD PKWY SW\",\"LAKEWOOD\",\"WA\",\"98498-6182\"],[485310.0,\"3606 E SPOKANE ST\",\"TACOMA\",\"WA\",\"98404-3026\"],[485310.0,\"625 N JACKSON AVE\",\"TACOMA\",\"WA\",\"98406-1238\"],[485310.0,\"4015 SW 317TH ST\",\"FEDERAL WAY\",\"WA\",\"98023-2135\"],[485310.0,\"4111 N 25TH ST\",\"TACOMA\",\"WA\",\"98406-4824\"],[485310.0,\"2108 S 90TH ST\",\"TACOMA\",\"WA\",\"98444\"],[485310.0,\"7342 S WILKESON ST\",\"TACOMA\",\"WA\",\"98408-1226\"],[485310.0,\"819 S 16TH ST\",\"TACOMA\",\"WA\",\"98405-5045\"],[485310.0,\"4823 E M ST\",\"TACOMA\",\"WA\",\"98404-3650\"],[485310.0,\"3015 N PEARL ST\",\"TACOMA\",\"WA\",\"98407-0000\"],[485310.0,\"5334 34TH ST E\",\"FIFE\",\"WA\",\"98424\"],[485310.0,\"5808 91ST STREET SW\",\"LAKEWOOD\",\"WA\",\"98499-6112\"],[485310.0,\"2125 215TH STREET CT E\",\"SPANAWAY\",\"WA\",\"98387\"],[485310.0,\"1307 187TH ST CT E\",\"SPANAWAY\",\"WA\",\"98387\"],[485310.0,\"10601 DOTEN DR SW\",\"LAKEWOOD\",\"WA\",\"98499\"],[485310.0,\"24321 17TH AVE S\",\"DES MOINES\",\"WA\",\"98198\"],[485310.0,\"758 OAKHURST DR\",\"PACIFIC\",\"WA\",\"98047\"],[485310.0,\"6552 21ST AVE NW\",\"SEATTLE\",\"WA\",\"98117\"],[485310.0,\"77 S WASHINGTON ST\",\"SEATTLE\",\"WA\",\"98104\"],[485310.0,\"13537 35TH AVE S\",\"TUKWILA\",\"WA\",\"98168\"],[485310.0,\"1445 E 48TH ST\",\"TACOMA\",\"WA\",\"98404\"],[485310.0,\"7317 46TH ST CT W\",\"UNIVERSITY PLACE\",\"WA\",\"98466-4248\"],[485310.0,\"425 SOUTH TACOMA WAY\",\"TACOMA\",\"WA\",\"98402\"],[485310.0,\"1928 W UNION AVE\",\"TACOMA\",\"WA\",\"98405-1073\"],[485310.0,\"2424 S 41ST ST\",\"TACOMA\",\"WA\",\"98409-7314\"],[485310.0,\"2661 N PEARL ST\",\"TACOMA\",\"WA\",\"98407-2424\"],[485310.0,\"1322 E 64TH ST\",\"TACOMA\",\"WA\",\"98404-3430\"],[485310.0,\"4750 AUBURN WAY N\",\"AUBURN\",\"WA\",\"98002-2042\"],[485310.0,\"7606 78TH ST SW\",\"LAKEWOOD\",\"WA\",\"98498-6212\"],[485310.0,\"7519 CIRQUE DR W\",\"UNIVERSITY PLACE\",\"WA\",\"98467\"],[485310.0,\"3501 BROADMOOR DR NE\",\"TACOMA\",\"WA\",\"98422-4747\"],[485310.0,\"539 BROADWAY\",\"TACOMA\",\"WA\",\"98402-3907\"],[485310.0,\"116 19TH AVE\",\"MILTON\",\"WA\",\"98354\"],[485310.0,\"1626 S WRIGHT AVE\",\"TACOMA\",\"WA\",\"98418\"],[485310.0,\"4720 S PINE ST\",\"TACOMA\",\"WA\",\"98409\"],[485310.0,\"1604 W JAMES PL\",\"KENT\",\"WA\",\"98032\"],[485310.0,\"1700 17TH AVE\",\"SEATTLE\",\"WA\",\"98122\"],[485310.0,\"3501 S 38TH ST\",\"TACOMA\",\"WA\",\"98409-4210\"],[485310.0,\"6736 S MASON AVE\",\"TACOMA\",\"WA\",\"98409-1538\"],[485310.0,\"7241 S MONROE ST\",\"TACOMA\",\"WA\",\"98409-2445\"],[485310.0,\"4101 N 26TH ST\",\"TACOMA\",\"WA\",\"98407\"],[485310.0,\"501 S 43RD ST\",\"TACOMA\",\"WA\",\"98418-6616\"],[485310.0,\"1418 S MILDRED ST\",\"TACOMA\",\"WA\",\"98465-2909\"],[485310.0,\"708 N L ST\",\"TACOMA\",\"WA\",\"98403\"],[485310.0,\"1134 FAWCETT AVE\",\"TACOMA\",\"WA\",\"98402\"],[485310.0,\"902 M ST SE\",\"AUBURN\",\"WA\",\"98002\"],[485310.0,\"13102 NE 90TH ST\",\"KIRKLAND\",\"WA\",\"98033\"],[485310.0,\"23108 50TH AVE SOUTH\",\"KENT\",\"WA\",\"98032\"],[485310.0,\"16815 PACIFIC AVE S\",\"SPANAWAY\",\"WA\",\"98387-0569\"],[485310.0,\"1730 J ST NE\",\"AUBURN\",\"WA\",\"98002-3341\"],[485310.0,\"3514 S 180TH ST\",\"SEATAC\",\"WA\",\"98188\"],[485310.0,\"3814 D PL SE\",\"AUBURN\",\"WA\",\"98002\"],[485310.0,\"1786 KENNEDY PLACE\",\"DUPONT\",\"WA\",\"98327\"],[485310.0,\"32820 20TH AVE S\",\"FEDERAL WAY\",\"WA\",\"98003\"],[485310.0,\"1800 S 330TH ST\",\"FEDERAL WAY\",\"WA\",\"98003-9421\"],[485310.0,\"6714 16TH AVE SW\",\"SEATTLE\",\"WA\",\"98106\"],[485310.0,\"7406 27TH ST W\",\"UNIVERSITY PLACE\",\"WA\",\"98466-4636\"],[485310.0,\"1717 S 96TH ST\",\"TACOMA\",\"WA\",\"98444-2803\"],[485310.0,\"8212 29TH AVE CT S\",\"LAKEWOOD\",\"WA\",\"98499-8828\"],[485310.0,\"419 E 43RD ST\",\"TACOMA\",\"WA\",\"98404\"],[485310.0,\"5015 S L ST\",\"TACOMA\",\"WA\",\"98408-3631\"],[485310.0,\"3521 S ORCHARD ST\",\"TACOMA\",\"WA\",\"98466\"],[485310.0,\"518 NW 60TH ST\",\"SEATTLE\",\"WA\",\"98107\"],[485310.0,\"6307 58TH AVE SE\",\"LACEY\",\"WA\",\"98513\"],[485310.0,\"7406 27TH ST W\",\"UNIVERSITY PLACE\",\"WA\",\"98466-4632\"],[485310.0,\"9334 S STEELE ST\",\"TACOMA\",\"WA\",\"98444-1874\"],[485310.0,\"5622 S GOVE ST\",\"TACOMA\",\"WA\",\"98409-1720\"],[485310.0,\"7020 S I ST\",\"TACOMA\",\"WA\",\"98408-4411\"],[485310.0,\"6410 60TH ST W\",\"UNIVERSITY PLACE\",\"WA\",\"98467-0000\"],[485310.0,\"9020 S HOSMER ST\",\"TACOMA\",\"WA\",\"98444-1818\"],[485310.0,\"1305 REGENTS BLVD\",\"FIRCREST\",\"WA\",\"98466-0000\"],[485310.0,\"5010 SW 317TH LN\",\"FEDERAL WAY\",\"WA\",\"98023-3770\"],[485310.0,\"10202 PACIFIC AVE S\",\"TACOMA\",\"WA\",\"98444\"],[485310.0,\"2536 42ND AVE SE\",\"OLYMPIA\",\"WA\",\"98501-4298\"],[485310.0,\"5909 PANORAMA DR SE\",\"AUBURN\",\"WA\",\"98092\"],[485310.0,\"912 N 96TH ST\",\"SEATTLE\",\"WA\",\"98103\"],[485310.0,\"3902 52ND ST NE\",\"TACOMA\",\"WA\",\"98422\"],[485310.0,\"5248 42ND AVE SW\",\"SEATTLE\",\"WA\",\"98136\"],[485310.0,\"4750 AUBURN WAY N\",\"AUBURN\",\"WA\",\"98002-2014\"],[485310.0,\"5518 76TH ST W\",\"LAKEWOOD\",\"WA\",\"98499\"],[485310.0,\"12732 ROOSEVELT WAY NE\",\"SEATTLE\",\"WA\",\"98125\"],[485310.0,\"19513 73RD AVE W\",\"LYNNWOOD\",\"WA\",\"98036\"],[485310.0,\"1907 LIGHTHOUSE LN NE\",\"TACOMA\",\"WA\",\"98422-3467\"],[485310.0,\"1004 ARLEO LN\",\"FIRCREST\",\"WA\",\"98466-6573\"],[485310.0,\"1405 E 53RD ST\",\"TACOMA\",\"WA\",\"98404\"],[485310.0,\"1554 MARKET ST\",\"TACOMA\",\"WA\",\"98402\"],[485310.0,\"38 N SALMON BEACH\",\"TACOMA\",\"WA\",\"98407\"],[485310.0,\"2102 DAVIS CT NE\",\"TACOMA\",\"WA\",\"98422-4533\"],[485310.0,\"8315 83RD ST SW\",\"LAKEWOOD\",\"WA\",\"98498\"],[485310.0,\"1907 LIGHTHOUSE LN NE\",\"TACOMA\",\"WA\",\"98422\"],[485310.0,\"1615 VALLEY AVE E\",\"SUMNER\",\"WA\",\"98390\"],[485310.0,\"7313 95TH AVE SW\",\"LAKEWOOD\",\"WA\",\"98498-3310\"],[485310.0,\"4840 S PARK AVE\",\"TACOMA\",\"WA\",\"98408-5720\"],[485310.0,\"4114 N 10TH ST\",\"TACOMA\",\"WA\",\"98406-4516\"],[485310.0,\"3815 N PEARL ST\",\"TACOMA\",\"WA\",\"98407-2628\"],[485310.0,\"4750 auburn WAY N\",\"AUBURN\",\"WA\",\"98002-2028\"],[485310.0,\"2112 S 90TH ST\",\"TACOMA\",\"WA\",\"98444-1806\"],[485310.0,\"7406 27TH ST W\",\"TACOMA\",\"WA\",\"98466-4632\"],[485310.0,\"102 N G ST\",\"TACOMA\",\"WA\",\"98403\"],[485310.0,\"649 S MEYERS ST\",\"TACOMA\",\"WA\",\"98465-1415\"],[485310.0,\"4130 NE 9TH PL\",\"RENTON\",\"WA\",\"98059\"],[485310.0,\"7406 27TH ST W\",\"TACOMA\",\"WA\",\"98466\"],[485310.0,\"4750 AUBURN WAY N\",\"AUBURN\",\"WA\",\"98002-2030\"],[485310.0,\"4750 AUBURN WAY N\",\"AUBURN\",\"WA\",\"98002-2032\"],[485310.0,\"6439 S 120TH ST\",\"SEATTLE\",\"WA\",\"98178-3621\"],[485310.0,\"11710 PAWNEE DR SW\",\"LAKEWOOD\",\"WA\",\"98499-4928\"],[485310.0,\"7406 27TH ST W\",\"UNIVERSITY PLACE\",\"WA\",\"98466-4632\"],[485310.0,\"509 N YAKIMA AVE\",\"TACOMA\",\"WA\",\"98403-2336\"],[485310.0,\"3503 70TH AVE E\",\"FIFE\",\"WA\",\"98424-3861\"],[485310.0,\"1027 E 47TH ST\",\"TACOMA\",\"WA\",\"98404-2804\"],[485310.0,\"5715 N 30TH ST\",\"TACOMA\",\"WA\",\"98407-2401\"],[485310.0,\"6406 S 10TH ST\",\"TACOMA\",\"WA\",\"98465-2003\"],[485310.0,\"3719 N 28TH ST\",\"TACOMA\",\"WA\",\"98407-5913\"],[485310.0,\"5714 23RD ST E\",\"FIFE\",\"WA\",\"98424-4512\"],[485310.0,\"7406 27TH ST W\",\"UNIVERSITY PLACE\",\"WA\",\"98466\"],[485310.0,\"6239 S WARNER ST\",\"TACOMA\",\"WA\",\"98409-4129\"],[485310.0,\"714 E MORTON ST\",\"TACOMA\",\"WA\",\"98404-2168\"],[485310.0,\"7121 CITRINE LN SW\",\"LAKEWOOD\",\"WA\",\"98498\"],[485310.0,\"10617 18TH AVE S\",\"TACOMA\",\"WA\",\"98444-7029\"],[485310.0,\"3108 SW 342ND ST\",\"FEDERAL WAY\",\"WA\",\"98023\"],[485310.0,\"1116 E 59TH ST\",\"TACOMA\",\"WA\",\"98404-3515\"],[485310.0,\"1001 S MILDRED ST\",\"TACOMA\",\"WA\",\"98465-1843\"],[485310.0,\"1105 182ND STREET CT E\",\"SPANAWAY\",\"WA\",\"98387-1919\"],[485310.0,\"3419 E L ST\",\"TACOMA\",\"WA\",\"98404-0000\"],[485310.0,\"3638 S K ST\",\"TACOMA\",\"WA\",\"98418-4026\"],[485310.0,\"901 NORPOINT WAY NE\",\"TACOMA\",\"WA\",\"98422-3131\"],[485310.0,\"10202 LAKEVIEW AVE SW\",\"LAKEWOOD\",\"WA\",\"98499\"],[485310.0,\"3101 S 36TH ST\",\"TACOMA\",\"WA\",\"98409\"],[485310.0,\"32634 51ST PL SW\",\"FEDERAL WAY\",\"WA\",\"98023-1944\"],[485310.0,\"4750 AUBURN WAY N\",\"AUBURN\",\"WA\",\"98002-2042\"],[485310.0,\"808 S I ST\",\"TACOMA\",\"WA\",\"98405\"],[485310.0,\"1302 NORPOINT WAY NE\",\"TACOMA\",\"WA\",\"98422-3033\"],[485310.0,\"11019 50TH AVE E\",\"TACOMA\",\"WA\",\"98446-5303\"],[485310.0,\"8804 34TH AVE S\",\"LAKEWOOD\",\"WA\",\"98499-3659\"],[485310.0,\"2131 S SPRAGUE AVE\",\"TACOMA\",\"WA\",\"98405-2815\"],[485310.0,\"1614 S 84TH ST\",\"TACOMA\",\"WA\",\"98444\"],[485310.0,\"416 S 48TH ST\",\"TACOMA\",\"WA\",\"98408-6522\"],[485310.0,\"1513 S 81ST ST\",\"TACOMA\",\"WA\",\"98408-1910\"],[485310.0,\"3730 E SPOKANE ST\",\"TACOMA\",\"WA\",\"98404-3037\"],[485310.0,\"10202 LAKEVIEW AVE SW\",\"LAKEWOOD\",\"WA\",\"98499\"],[485310.0,\"2902 S ADAMS ST\",\"TACOMA\",\"WA\",\"98409-3308\"],[485310.0,\"9507 MAPLE AVE SW\",\"LAKEWOOD\",\"WA\",\"98499\"],[485310.0,\"14600 NE 32ND ST\",\"BELLEVUE\",\"WA\",\"98007\"],[485310.0,\"11626 SE 210TH PL\",\"KENT\",\"WA\",\"98031\"],[485310.0,\"9043 S D ST\",\"TACOMA\",\"WA\",\"98444\"],[485310.0,\"2831 14TH AVE W\",\"SEATTLE\",\"WA\",\"98119\"],[485310.0,\"14508 SE 24TH ST\",\"BELLEVUE\",\"WA\",\"98007\"],[485310.0,\"1347 17TH ST SE\",\"AUBURN\",\"WA\",\"98002\"],[485310.0,\"2522 14TH AVE S\",\"SEATTLE\",\"WA\",\"98144-5076\"],[485310.0,\"10008 32ND ST E\",\"EDGEWOOD\",\"WA\",\"98371\"],[485310.0,\"3501 S 38TH ST\",\"TACOMA\",\"WA\",\"98409-4210\"],[485310.0,\"3417 55TH AVE NE\",\"TACOMA\",\"WA\",\"98422\"],[485310.0,\"1423 S 44TH ST\",\"TACOMA\",\"WA\",\"98418-2410\"],[485310.0,\"109 AMHERST ST\",\"FIRCREST\",\"WA\",\"98466-0000\"],[485310.0,\"1102 S 27TH ST\",\"TACOMA\",\"WA\",\"98409-8016\"],[485310.0,\"1506 CHERRY AVE\",\"FIRCREST\",\"WA\",\"98466-6641\"],[485310.0,\"5102 S 58TH ST\",\"TACOMA\",\"WA\",\"98467-3829\"],[485310.0,\"1609 S CUSHMAN AVE\",\"TACOMA\",\"WA\",\"98405-3533\"],[485310.0,\"6201 LAKEWOOD DR W\",\"UNIVERSITY PLACE\",\"WA\",\"98467\"],[485310.0,\"1202 N PEARL ST\",\"TACOMA\",\"WA\",\"98406-7900\"],[485310.0,\"7734 40TH ST W\",\"UNIVERSITY PLACE\",\"WA\",\"98466-3114\"],[485310.0,\"8835 S D ST\",\"TACOMA\",\"WA\",\"98444-6458\"],[485310.0,\"7121 CITRINE LN SW\",\"LAKEWOOD\",\"WA\",\"98498-5013\"],[485310.0,\"2001 13TH ST SW\",\"PUYALLUP\",\"WA\",\"98371-8599\"],[485310.0,\"1514 S 73RD ST\",\"TACOMA\",\"WA\",\"98408-2131\"],[485310.0,\"1120 S 23RD ST\",\"TACOMA\",\"WA\",\"98405-3405\"],[485310.0,\"2108 S 90TH ST\",\"TACOMA\",\"WA\",\"98444\"],[485310.0,\"6824 19TH ST W\",\"UNIVERSITY PLACE\",\"WA\",\"98466-5528\"],[485310.0,\"10202 LAKEVIEW AVE SW\",\"LAKEWOOD\",\"WA\",\"98499-4223\"],[485310.0,\"12618 10TH AVE S\",\"BURIEN\",\"WA\",\"98168\"],[485310.0,\"3420 S MADISON ST\",\"TACOMA\",\"WA\",\"98409-2212\"],[485310.0,\"17002 6TH AVENUE CT E\",\"SPANAWAY\",\"WA\",\"98387-7807\"],[485310.0,\"9210 South Hosmer\",\"TACOMA\",\"WA\",\"98444\"],[485310.0,\"4720 S PINE ST\",\"TACOMA\",\"WA\",\"98409-0000\"],[485310.0,\"3815 N PEARL ST\",\"TACOMA\",\"WA\",\"98407-2619\"],[485310.0,\"810 ALTA VISTA PL\",\"FIRCREST\",\"WA\",\"98466-7020\"],[485310.0,\"1807 S HIGHLAND AVE\",\"TACOMA\",\"WA\",\"98465-2213\"],[485310.0,\"4802 NASSAU AVE NE\",\"TACOMA\",\"WA\",\"98422-0000\"],[485310.0,\"3819 S L ST\",\"TACOMA\",\"WA\",\"98418-3931\"],[485310.0,\"8640 FAWCETT AVE\",\"TACOMA\",\"WA\",\"98444\"],[485310.0,\"1520 N PROSPECT ST\",\"TACOMA\",\"WA\",\"98406-8108\"],[485310.0,\"6726 82ND ST SW\",\"LAKEWOOD\",\"WA\",\"98499-2521\"],[485310.0,\"7509 89TH AVE SW\",\"LAKEWOOD\",\"WA\",\"98498-3925\"],[485310.0,\"18102 76TH AVE E\",\"PUYALLUP\",\"WA\",\"98375-7532\"],[485310.0,\"3723 70TH AVE W\",\"UNIVERSITY PLACE\",\"WA\",\"98466-5138\"],[485310.0,\"8401 82ND ST SW\",\"LAKEWOOD\",\"WA\",\"98498-7249\"],[485310.0,\"17845 130TH AVE E\",\"PUYALLUP\",\"WA\",\"98374-9821\"],[485310.0,\"1908 S 21ST ST\",\"TACOMA\",\"WA\",\"98405\"],[485310.0,\"2329 S STATE ST\",\"TACOMA\",\"WA\",\"98405\"],[485310.0,\"7225 S WARNER ST\",\"TACOMA\",\"WA\",\"98409-3921\"],[485310.0,\"2010 70TH AVE W\",\"UNIVERSITY PLACE\",\"WA\",\"98466-5522\"],[485310.0,\"3401 PACIFIC AVE\",\"TACOMA\",\"WA\",\"98418-7922\"]],\"hovertemplate\":\"<b>%{hovertext}</b><br><br>NAICS_CODE_DESCRIPTION=Taxi Service<br>lat=%{lat}<br>long=%{lon}<br>NAICS_CODE=%{customdata[0]}<br>HOUSE_NUMBER_AND_STREET_NAME=%{customdata[1]}<br>CITY=%{customdata[2]}<br>STATE=%{customdata[3]}<br>ZIP_CODE=%{customdata[4]}<extra></extra>\",\"hovertext\":[\"SAEED J MOHAMMAD\",\"LAUREN THOMAS JONES\",\"NEMATULLAH BASHARWAL\",\"LAEEQ TEOURI\",\"MONICAH GATHONI NDUHIU\",\"HASSAN OSMAN\",\"JEAN PIERRE HARERIMANA\",\"TADELE BEKU LEMA\",\"MARK EDWARDS CRANE\",\"AKLILU DANIEL NUNNE\",\"ABDRHMAN YUSUF MUSA\",\"TRAVIS GREEN\",\"JOSEPH M FRENCHWOOD\",\"LEEANNA MARIA DUSEK\",\"BRIAN KEITH MAINSTER\",\"ABDUL KAHLIQUE\",\"ABDOLREZA HOJJATI NAJAFABADI\",\"JONATHAN RAPISURA GASCON\",\"MANU KAHASHA CHARMANT\",\"ABUBAKAR KASOMA\",\"MARCO HOUMAN SAFAEIAN\",\"SHAMSUDIN ENDERIS SAHLE\",\"GOANG SUP KIM\",\"JONATHAN DE LOS SANTOS\",\"BRANDON L THOMPSON\",\"NATHAN ANDREW CARNAHAN\",\"AHMAD SADAT\",\"ARSHWINDER KAUR PANNU\",\"NICHOLAS R STIREN\",\"JORDAN MICHEAL HILLIS\",\"MANJOT S KHATTRA\",\"SANDRA LEE VALBERG CRONYN\",\"ALEX MUNAI KARANJA\",\"LEI ZHANG\",\"ABDURAHMAN OMER\",\"SAYED HASAMI\",\"GEBRETSADIK G WOLDETSADIK\",\"MARLA RODRIGUEZ\",\"MOHAMMAD SHAFIQ\",\"BRANDEN BOREN OUK\",\"WENDY WHITE DEAN\",\"HASSAN MAHMOUD HASSAN\",\"THOMAS W SIMA\",\"DONGMING XU\",\"BRADLEY WADE BOGART\",\"MUHAMMAD ABDUL HAFEEZ\",\"JEFFREY CHIN - U WARDEN\",\"REAGAN ELDRIDGE ASKEW\",\"DWIGHT GENE CREWS\",\"YASIR M AL ALOOSI\",\"STEVEN FRANCO CARRASCO\",\"NAHOM BERHANE FARIOS\",\"RED NANSA MATABISI\",\"GORDON OWENS\",\"JOHN RIMUI\",\"ALFREDO GARCIA SOTO\",\"TIM DANIEL BAILEY\",\"BRIAN MCMENOMY\",\"AIMAL MANSORY\",\"DANIEL LEE JOHNSON\",\"PAL SURINDER SINGH\",\"SURJIT SINGH\",\"SOUTH SOUND TRANSPORTATION LLC\",\"SOUTH SOUND TRANSPORTATION LLC\",\"SOUTH SOUND TRANSPORTATION LLC\",\"SOUTH SOUND TRANSPORTATION LLC\",\"JEFFREY BOLIMA\",\"ROXANNE RUFILA\",\"CARTER LEEVER\",\"MOZELL JONES\",\"MUKHTAR MUKHTAR\",\"ANGESOM EMAN TEKLEYES\",\"JOHN JOSEPH BARTA\",\"IVAN VLADIMIROVICH KUZUBOV\",\"STANLEY MILLER\",\"XING GUO DUAN\",\"MICHAEL BUSS\",\"QING WEI\",\"KEVIN OHLHEISER\",\"SONIA ALEJANDRE GARCIA\",\"JOSEPH FLEURY\",\"ROBERT KIM\",\"NATHAN DESTA TAFESSE\",\"ANTHONY R PATTISON\",\"YAXYE MUXAMED\",\"MAHFOOZ HEJRAN\",\"BEREKETAB G GEBREHIWET\",\"PAUL M MANNING\",\"JAMES MCMURDO\",\"KATHRYN GILLESPIE\",\"DONNA MARIE HAYES\",\"YAKOB MINDAYE\",\"MOHAMED ABDI\",\"PREMKUMAR THANGARAJAN\",\"PETER SIMON JOSEPH\",\"VICTOR KAMLESH MURTHI\",\"GINGER IRENE PACE\",\"PRISKAH KINUTHIA\",\"BANIPAL LLC\",\"JOSHUA HAMPTON\",\"DAN BRIGHTWELL\",\"DOMINIQUE ROBAIR\",\"NGUON PA\",\"ANM A RAHMAN\",\"RANDHEER SINGH\",\"SEAN GREGORY\",\"CORNELIO E MCLEAN\",\"MICHAEL P MURPHY\",\"ABATHER KAREEM DAKHIL\",\"STEPHANIE MONIQUE MUNOZ\",\"JIAN WANG\",\"WILLIAM KEYES\",\"BRYAN HO\",\"PATRICK NJANE MAINGI\",\"JAMES H FREISHEIM\",\"VITALIY LEONOV\",\"FREDRICK DELANEY\",\"HANS BROWN\",\"JASPAL SINGH BHACHU\",\"MOSHIN KHAN\",\"WILLIAM E SMITH\",\"HUSSEIN HUSSAN AHMED\",\"WILLIAM SMITH\",\"PETER DENG MALUAL\",\"ABDIHODAN MOHAMED KILWE\",\"KASHMIRA S HOTHI\",\"IBRAHIM AYUB\",\"ALEXANDER WOLFE\",\"HUNG LAM\",\"TODD M AKIYAMA\",\"DMITRI FEDOROV\",\"ZAHEER ANWAR\",\"MUEZ WOLDESELASSIE AREGAY\",\"MEKIBIB ARGAW ZURGEA\",\"EFRAIN CASTILLO YANEZ\",\"CHRIS MUANDA\",\"ABNER ELIUD RAMIREZ HERNANDEZ\",\"BKH LEASING LLC\",\"MOEJAY ABDIRAHMAN\",\"RYAN RITTER\",\"MARTHA CARDENO\",\"STEVEN ANTHONY FLORES\",\"DEBESAI KEBREAB\",\"FLOYD PACE\",\"ABDULKADIR GESHOW\",\"TIERRA L TRUSCLAIR\",\"CHANEL PIERRE\",\"KODY WYNNE\",\"JESSICA WALTERS\",\"GAMAL A SALEM\",\"JACOB BETTRIDGE\",\"DENNIS N WALLACE\",\"BENJAMIN SERRANO\",\"JONATHAN ROBERTS\",\"NICOLE FAWCETT\",\"RICHARD C GRAY\",\"PATRICK KAGUAMBA CHEGE\",\"NO MOHAMATH\",\"MAAU LENE\",\"EZEKIEL ST HILAIRE\",\"MAURICE ATTISSO\",\"LARRY J HAGG\",\"GABE CHEN-TURNER\",\"MOHAMED D SALAD\",\"ZANE L SIMOLKE\",\"RAYMOND T GRISSETT\",\"ALFRED K NJOROGE\",\"GARIK R GRIGORIANTS\",\"RICARDO SANTOS SANTOS\",\"J RHEUEL DECREPITO ABAJERO\",\"DJAMEL BOUKTIT\",\"TERESA C REYNOSO\",\"AMANDA WINSOR\",\"MOHAMED MUSE HERSI\",\"KAHLON GURMINDER\",\"RASMEETSI VIRDI\",\"RIP STECKEL\",\"MING FAI LO\",\"ABDUL NOORI\",\"ALAN TENG\",\"SANG A LAM\",\"NAJIB A HASHIM\",\"ISAAC IRUNGU NGIGI\",\"DESTINEY WILSON\",\"JEFF CHRISTENSEN\",\"HAROLD R GOODELL\",\"RICHARD B HICKSON\",\"ROBERT L KUSHLAN\",\"JEFFREY A HOPKINS\",\"DAVID STREETTER DYBDAHL\",\"NAPOLEON ASFAW\",\"METAFERIA NEGASH\",\"MARTIN SHUER\",\"JUAN VEGA\",\"HAYLEY PUHN\",\"JOSEPH BELL\",\"HARINDER SINGH\",\"EDUARDO VILLAVICENCIO GARCIA\",\"SEMERE Z MEHARI\",\"JOHN K LOBANOWSKI\",\"JON HOLLEY\",\"JAMES D ROSIER\",\"ROSHAWN WEST\",\"BINIAM HADGU MEBRAHTU\",\"JETH A SILBAUGH\",\"GAMALIEL ALARCON LOPEZ\",\"DOUGLAS E DAVIS\",\"ESEIAS GHEBREHIWET SELOMUN\",\"IN S CHUNG\",\"MAX CHRISTIAN OZUNA\",\"TEDLA MENGESHA WOLDEMARIAM\",\"MAURICIO GARCIA\",\"BRYAN THOMAS GOFFE\",\"ANDRE PHILLIPE C THERRIEN\",\"CASSAUNDRA Z KARANASOS\",\"PETER CHEGE WANDAIRE\",\"JAMES CHEZ KAI SUEN\",\"SAMI ULLAH\",\"MARCELA CORDOVA RENDON\",\"TIMOTHY MARK GRIFFIN\",\"PEAL YOUNG\",\"TERRY JONASON\",\"CATHERINE SOTO\",\"CAROL WEBER\",\"DUANE LEWIS\",\"STEVEN FLOYD\",\"SHAUNA BAKKENSEN\",\"OMAR ROBA\",\"DANIEL NJOROGE KARUGA\",\"HAMAD YAHYA M ALMANSOUR\",\"RYAN LEE BALAG SHARPE\",\"GREGORY ROGER TOFTE\",\"COREY JAMES CHRISTENSEN\",\"CURTIS JOHN RIZZO\",\"CLIFFORD D PRICE\",\"JOSEPH KIRANGA\",\"SEID A FELEKE\",\"LAURENCE MIKHAEL HALAWJI\",\"FLORINDO G S SANTOS\",\"BENJAMIN CARLOS CRISTOBAL\",\"ZABIULLAH JAMSHIDI\",\"LUIS RICARDO SERRA\",\"MAHENDRA KUMAR SINGH\",\"MICHAEL JONES\",\"MICHAEL ZETTERWALL\",\"CARRIE A NUNEZ\",\"DOREEN J MAY\",\"LUIS O RIVERACACERES\",\"OMARU BARRIE\",\"GEOFFREY N NJENGA\",\"SHADIA NAMYALO\",\"SHIFERAHU TAYE\",\"ANTHONY MUCHIRI\",\"FITSUM DESTA\",\"CHRISTIAN MATTEO KNOLL\",\"SELAM E SEID\",\"TEREFE ARGAW DERESS\",\"MOHIT RAJVANSHY\",\"JAAPIR OMAR HUSSEN\",\"JOHN F BROWN\",\"ALAN J EDMISON\",\"ROBERTA FINK\",\"LARRY HORSEY\",\"PETER J MAILANDER\",\"ISAIAH NATHANIEL FOSTER\",\"OSMAN ASIR OMAR\",\"BELTETON CARRILLO FREDY G\",\"BRIAN TIMOTHY WADE\",\"AGIDEW ABI ZENEBE\",\"ZACHARY KOSBAB\",\"TIGISTE HOBSE\",\"MAXAMUD JIMCALE\",\"ANDREW MUTHEMBA\",\"REX RAYMOND SAMONTE\",\"MICHAEL BAXTER\",\"ZUHUR HABIB\",\"CARDA BEAUCAGE\",\"MEHATEME EMIRU\",\"KHALIL AZIZI\",\"ESSA MUDESIR\",\"DAVID WILKINSON\",\"DEANA MAGERA\",\"JOSEPH A BISSON\",\"GEORGE OFORI\",\"STEVEN JONES\",\"HAROLD R LETOURNEAU\",\"JELANI E HAUSER\",\"RATTAN SANDHU\",\"DANIEL P FRANK\",\"RAMY HASSAN\",\"RICHARD FRIEND\",\"DONAVAN DANIELS\",\"GUSTAVO FRIAS\",\"STEPHANIE JUREIDINE\",\"IRELAND MACBRADAIGH\",\"ROBERT SIMKO III\",\"SAM AHMAD FARRIS\",\"SHELLEE STRATTON\",\"MARK E GLASER\",\"ANGELA ADAMS\",\"AHMAD JAWID ASHOORY\",\"SASHA CACHET LESTER\",\"JONATHAN PIERS MANDERS\",\"DUDLEY ANTHONY SADHI\",\"MENSAN DIDIER ADJANOR ADANLETE\",\"PATRICK JOSEPH KOLLAR\",\"RODOLFO CHAVEZ\",\"BRANDON JEFFREY BAISLEY\",\"DWAYNE DALTON\",\"KETTYA KHAN\",\"JOENATHAN WESLY KNIGHT\",\"JONATHAN CARATIQUIT RANCHEZ\",\"LATISHA NICHOLE NOUOBISSI\",\"OLIVIER C NOUOBISSI\",\"RAJWINDER SINGH KHOKHAR\",\"YEVGEN MALYARCHUK\",\"EDWIN ODHIAMBO ODEMBO\",\"RUBEN LOPEZ\",\"SULAYMAN CEESAY\",\"JOSHUA NICHOLAS MCCOLM\",\"MONIR HASSAN\",\"MICHAEL NELSON\",\"SUNG WOOK KIM\",\"DAVID ALAN TATE\",\"ANDREW GRAY\",\"GAURAV CHANDLA\",\"JUSTIN MICHAEL HACKERT\",\"AUGUST KL XIE\",\"HUI YUE ZHAO\",\"BEREKET TEKLEWINY WELEKISH\",\"KHALED ABURUMMAN\",\"DONALD JAY TODD\",\"DAVID ALAN GRIBBLE\",\"CHARLES DAVID BEALE\",\"DEVINDER SINGH CHOAT\",\"IGOR VALERYEVICH MOKHNATKIN\",\"TAN NHAT HUYNH\",\"RICHARD ALLEN JANSEN\",\"JOAQUIN ABARCA ORBE ABARCA\",\"EFREM HAILE ADEHANOM\",\"ABRAHAM HAILEMICHAEL AWALOM\",\"SURINDERJIT SINGH MAULI\",\"MOHAMED HAMDAN TIA KORI\",\"AZIZ TURKOGLU\",\"MOHAMED OSMAN AWAD\",\"AHMED MOHAMMED ADAM\",\"ODARBIL ALEJO ASERON\",\"AARON L LORD\",\"MARIO R FLORES\",\"DAWSON BLAKE MORSE\",\"JAESEOK CHOI\",\"TERRILL T DABNEY\",\"KEITH MOORE\",\"GARY LEAVITT\",\"DAVID M JR HEINZIG\",\"ROBIN E RUSSELL\",\"MACHOT L THIEP\",\"BEN W YU\",\"SHERYL A PETERSEN\",\"MUSONDA MWANSA\",\"KATHLEEN MADDOX\",\"TOAN LUU\",\"ALEXANDER HOLBROOK-DIAZ\",\"PETER WANYOIKE\",\"CHARLENE D VALDEZ\",\"DAVID FALCON\",\"NICHOLAS BAX\",\"LORRAINE R CADENA\",\"SHAUNDA L MACLEOD\",\"LEO TULAYAN\",\"DI WU\",\"LEONEL A SANCHES\",\"HARRISON KIHARA THUO\",\"MOHAMMAD A BAKHSHI\",\"ZACHARY I SORGALLA\",\"MILDRED A HEARD\",\"STEPHEN M KUNGU\",\"BRIAN L LEHMBECKER\",\"HILLARY ALLISON DIRKS\",\"MICHAEL IGE\",\"GARY CHEN\",\"MARY ESTHER ANDERSON\",\"GIDEON KIPKURUI CHEPLAK\",\"CHARLES WACHIRA KAGUARI\",\"SOLO SOLUTIONS INC\",\"BELETE DAMTEW TALE\",\"DERRICK JAMES DAIGRE SR\",\"ABDULLAH ALI\",\"MARCUS MILLSPAUGH\",\"SUSAN L RIDGE\",\"ROGER J CLARK\",\"TAM H MAI\",\"MICHAEL LINNIS PERRY\",\"LAMECK O ONDUSO\",\"ANNETTE MIRAMONTEZ\",\"STEVEN PETER UGLESICH\",\"HASSAN A JAMA\",\"MOHAMMED TAMIM SANJIDA\",\"GREGORY LOREN SPARKS\",\"ARMEN SAFYAN\",\"NATALIA BUIANOVSCHI\",\"PATRICIA TAYLOR\",\"SHAHZEB JUNEJO\",\"SOFIA MOLIGA\",\"LOPEZ KEVIN\",\"THANH THAI LAM SR\",\"DAVID YEHUDA BROWN\",\"SIRAJ MOHAMMED YASIN\",\"DAVID O CLARKE\",\"ELHADJ MAMADOU BARRY\",\"ANDRE P BARNETT\",\"MAIRA COOPER\",\"BRANNON CHEPLAK\",\"SOLOMON W GUFAW\",\"AMRE M ABDELAAL\",\"TRI Q VO\",\"EDMUND R COX\",\"RAFAEL RAMOS\",\"SOPHEACK CHHAY\",\"TASTY EATS LLC\",\"SAMUEL M NDIRANGU\",\"YELLOW CAB TACOMA LLC\",\"SAJJAD TARIQ\",\"MARSHALL A MATHEWS\",\"AMERICAN SERVICE MEDICAR CO\",\"MATTHEW A MOORE\",\"ANN M CHARBONEAU\",\"RYAN MARIANI\",\"RICHARD BENSON\",\"PETER J WU\",\"KLAUS NALLEY\",\"MARC THEODORE\",\"AZIME NEKERE\",\"SOLOMON ASFHA\",\"CRAIG D OLLOM\",\"ROMULO G ESPIRITU\",\"SIEGMUND KURDZIEL\",\"OLEKSANDR RYABETS RYABETS\",\"JOHN C BECKLEY\",\"JOHN NGUYEN\",\"SOUND DISPATCH LLC\",\"GURDEN SINGH\",\"JAMES W ABNEY\",\"MUSTAFA AZIMI\",\"MARGARITA S MANOR\",\"JEFFREY A DAVIS\",\"TESHOME W GIZAW\",\"YOO DONG KIM\",\"KHATAB AL-ANSI\",\"MOSES RURIGI\",\"CEDULFO RODRIGUEZ\",\"ROBERTO ROMERO CASTELAN\",\"MARC LLOYD BRENDLINGER\",\"ADEN ABDIRAHMAN\",\"JUDY HUNT\",\"MICHALE R REYNA\",\"ROBERT J WILLIS\",\"BRUCE L DEIMEL\",\"AARON S GUZMAN\",\"THOMAS MUTAI\",\"JUNE E GORDON\",\"JEFFREY D NORTH\",\"STEPHEN MICHAEL BRUECHNER\",\"FRANK L GREER\",\"RYAN D OMEARA\",\"MUHAMMAD RUHEL MIAH\",\"LUKAS SENESAC\",\"MAI PACHECO\",\"WILLIAM N THOMPSON\",\"SIMON GITHIEYA G HIA\",\"ANTHONY EARL MARTIN ROGERS\",\"KEVIN  T O'NEAL\",\"ERIN C MURRAY\",\"YUSUF I HUSSEIN\",\"AMY ANKENBAUER\",\"ELIZABETH UNICORN\",\"CHARLES KEVIN WHALEN\",\"THOMAS CHARBONEAU\",\"ANGEL B TORRES\",\"JOHN REYNOLD FISCHER\",\"DELFIN R FAJARDO\",\"DAVID CHEGE\",\"GREGORY M WRIGHT\",\"ELMER W HILL\",\"RONALD MAWEJJE\",\"TAREK ELSAYED ALY WAHIB\",\"MICHAEL KAGO THIONGO\",\"OEUN PHON\",\"KOURTNEY J KAUFMAN\",\"GETU ABATE TESFAYE\",\"LILA PAIGE MCDONALD\",\"DANTE L HAWKINS\",\"KHALIL AHMAD KHALIL\",\"DANNY DALE WREH\",\"JACQUELINE M ELIZONDO\",\"TAE K YANG\",\"PETER KASULE\",\"CURTICE J KERSH\",\"PARWIZ HESARY\",\"STANLEY NGUGI\",\"ALI AKHANDO\",\"SAMUEL N MWAURA\",\"ABDULLAH ALSHAREEF\",\"MICHELE M ROWE\",\"JOHN ADNEY\",\"CHELAN HENLEY\",\"FELIX OGADINMA OKOLIE\",\"COLLINS GATHUNGU\",\"BERTRAM J DUPONT\",\"MARCUS C DUNCAN\",\"ELLEN A ABUYAN\",\"SUZETTE L BLAND\",\"MODERO Z MEKANISI\",\"PAULA E WILLIAMS\",\"TROY GAMBLE\",\"TRINA L MYERS\",\"WILSON KIHATI KIBUGI\",\"MATTHEW DOSIER\",\"ARMEN AVETISYAN\",\"MOHAMMAD A AHMADI\",\"VITALII VYSHNEVSKYI\",\"RONALDO R QUIZON\",\"GERALD CARTER\",\"JEFFREY KEATING II\",\"LARRY J ROGERS\",\"JOHN D JONES\",\"GUESH TESFAY BERHE\",\"KEWAL SINGH SIDHU\",\"DAN JOE PETERS\",\"HUMBERTO SOUZA\",\"RODELIO ALDEFOLLA\",\"PAUL NGUGI\",\"KURT SCHAEFER\",\"DON PHILIP MARKER\",\"TRUNG T DO\",\"PERGENTINIO BIYOGO MANGUE\",\"JAMES KENNETH WAGENBLAST\",\"GORDON H TOFTE\",\"JOSEPH MUNYUA\",\"KAMAU JORAM\",\"HATIM JAAGOUB\",\"FRANCIS MUNIU KAMAU\",\"JOSE R ROJAS JR\",\"ROGER P VOLK\",\"SARITH TIM\",\"ANATOLIE POPENCO\",\"JASON HOPKINS\",\"GERALD ALAN FULLER\",\"ROBERT R JIMINEZ\",\"ANANAISA TOKAILAGI\",\"MARGARET KARUGA\",\"SHAWN E PHELPS\",\"DEBORA M ANDERSON\",\"ALI H MUNTASSER\",\"MICHAEL A COREY\",\"BRANDIE A THOMAS\",\"RICHARD TEASDALE\",\"JESSE HERZOG\",\"ANDREW WYNSEN\",\"JASON ANTHONY RAMOS\",\"MOHAMED YUSUF WORSEME\",\"BELETE AGEZEW\",\"SURINDER SING\",\"BERTRAND YOUNG\",\"WILLIAM SHUCK\",\"YUBIN ZHANG\",\"ENDALEW TESHOME WONDIE\",\"CHARLES G ELIUD\",\"PAGNINEBLOUM H BELEM\",\"ANDRE L WINSTON\",\"JULIO BARRIOS RAMIREZ\",\"JEREMY BROWN\",\"MARCAVISE PICKENS\",\"GREGORY MILNE ELGEE\",\"CONG NHUNG LANG\",\"KELVIN CHEGE KURIA\",\"GODFREY G MUCHENE\",\"ABOUDOU R ZAKARI\",\"JAMES R BENNETT\",\"GEORGE N KAMAU\",\"DAVID C HICKEY\",\"TERRY D LEWIS\",\"KATHLEEN MARGARET DUBOIS\",\"GRACE MOBILITY LLC\",\"JUAN PINON\",\"THOMAS BARNHART\",\"WUHIB TSEGAYE ABEBE\",\"BYUNG WON YUN\",\"RULIN OU\",\"AHMAD JABARI\",\"HASU TAVITA TASI\",\"JEN-HSUN HSIAO\",\"MOHAMED TUNKARA\",\"SIDNEY ALBERT BRECKENRIDGE\",\"ROBERT C RIVERA\",\"HUY V NGUYEN\",\"YALFAL S ALEMU\",\"MICHAEL WILKES\",\"JASWANT SINGH\",\"MOHAMMED S ALSULTANI\",\"ISHANTI J SANDERS\",\"GEORGE METZ\",\"THOMAS KIUTI\",\"ANTHONY A PALUMBO\",\"GREGORY R BAILEY\",\"BARBARA QUARTEY\",\"AHMAD ALI ALI\",\"DUNCAN SSEBALU\",\"SEPEHR GHAHREMANI\",\"LAKPA BHUTIA\",\"PAUL L STEVENSON\",\"JOHA CHEZ TUAN SUEN\",\"JAMES DARON WHITING\",\"MUJTABA AHMADI\",\"AHMAD ZARIFY\",\"TRUNG NGUYEN\",\"ANNA MCWILLIAMS\",\"RAYMOND B PARRISH\",\"JULY OTULO OWINO\",\"GODFREY K KARUGA\",\"JACOB MANAS\",\"ABDULKAREEM TAHER\",\"OLGA ZADNIPROVSKAYA\",\"BRANDON M FIX\",\"JOHNNEEKA SHANNON SMITH-REID\",\"GARY LEE ROSENQUIST\",\"REBEKAH WILLOUGHBY\",\"JAMES B SHERROD\",\"SHANNON G MITCHELL\",\"DONALD A DICKERSON\",\"MICHAEL W CHANG\",\"ELBERT L VINES II\",\"OTO B USORO\",\"DAVE W MORAN\",\"GAGANDEEP KAUR\",\"APRIL GALLATY\",\"BARRY COLLINS\",\"GILBERT K HEBERT\",\"ROGER C WHEELER\",\"SHAWNNA TURNER\",\"MARYANN NDIRANGU\",\"JOHN ROEBEN\",\"RODGER KING\",\"MERCY WAMBUGU\",\"JAMES HOLLINGSWORTH III\",\"LUE GENE FLORENCE\",\"THU NGUYEN\",\"EDWARD HILL\",\"JINNIE R KERCHEVAL\",\"OLGA THOMPSON\",\"YONIS HASSAN\",\"CHARLES SIMONS\",\"CHRISTOPHER M SHIRED\",\"CLAUDIO TORRES-OCHOA\",\"XIONG HUANG\",\"RAUL SUPANG LOMBOY\",\"YEWONDWOSSEN ADEFRIS\",\"HIRUT ALEMU\",\"OLEKSANDR BONDARENKO\",\"ADELFO GARCIA OJEDA\",\"JEFFREY A CASTOR\",\"ROBERT R JIMENEZ\",\"JASEN U CALDWELL\",\"LEILA BERG\",\"KEVEN T WAITERS\",\"JOSE F LEMUS\",\"VICTOR R HANDBURGH\",\"DICKIE BARRIENTOS\",\"HAYES J ALEXANDER\",\"ALI OMAR MOHAMED\",\"MUHANNAD FARRAH\",\"SALEH O SAEED\",\"DANIEL S TIMMONS\",\"EDWARD H MITCHELL\",\"CHARLES G WRIGHT JR\",\"CARLOS L CASTILLO\",\"ALICIA R FORD\",\"HANNAH WANJIKU NDIRANGU\",\"JANET R RAMOS\",\"TRACY A BENNETT\",\"VINH Q NGUYEN\",\"KOSHAWN R ARMSTRONG\",\"CHRISTINA A WARD\",\"JERMELLA FULFORD\",\"WOOJAI JANG\",\"PHILIP MENSAH\",\"BILLY C HORTON\",\"TODD W OLSON\",\"JOHN MORRISON\",\"JOHNNY C BYRD\",\"PRENG NUTH\",\"MARC VELASQUEZ\",\"JOZEF IGNACZAK\",\"EDWIN W TUTTLE\",\"HASSEN AZAMI\",\"JUSTIN V WHEELER\",\"EDUARDO D CORTES\",\"MADHAV KC\",\"AMBER L THOMAS\",\"MOHAMMED MADANI BENJELLOUN\",\"LUIS R MOLINA\",\"MURTADA ABDELGHANI\",\"MAX WALTER KUENKEL\"],\"lat\":[47.46614265,46.3144754,46.3144754,46.3144754,46.3144754,46.3144754,46.3144754,47.30091455,47.2881365,47.448373000000004,47.5373376,46.3144754,47.160673334407655,46.3144754,46.3144754,47.6466548,47.4758173,47.52774551778829,46.3144754,46.3144754,47.78579345,47.532902569711254,47.731085,47.4608245,46.3144754,46.3144754,46.3144754,47.38777575,47.6173249,46.3144754,47.35249725,47.5403168,47.3040527,47.3233168,47.373841549999995,47.3956467,47.34162485,47.48008625,47.34447985,47.304218750000004,47.39546824999999,47.75380908450704,47.36928854300093,47.50856805,47.26709795,46.867113700000004,47.153171717222186,47.30548015,47.3219472,47.377250849999996,47.381841,47.64036505,47.078481422874304,47.38637415,47.19993638364235,47.3185041,47.11082779591837,47.2787191,47.40750455,47.49545725,47.16520947455576,47.3396014,47.03790095353375,47.03790095353375,47.03790095353375,47.03790095353375,47.104053444444446,47.440782,46.3144754,46.3144754,47.33085335,47.507669199999995,47.36852945,47.4040951,47.35752895,47.36823,46.3144754,47.463398,46.96486018281592,47.5156275,47.39270875,47.30894495,47.4422797,46.3144754,47.41743545,47.34447985,47.37419945,47.02419675,47.7130546,47.37260605,47.30471115,47.39950905,47.5427473,47.61159374326866,47.71900585,47.382878399999996,47.3115549,47.352629,47.35204025,46.3144754,46.3144754,46.3144754,46.3144754,47.7171598,47.3865907,46.3144754,46.3144754,47.17076247474748,47.7029904,46.3144754,47.71085125,47.06526067346939,46.3144754,47.182848481970154,47.121895546233404,46.3144754,46.3144754,46.3144754,47.349922449999994,47.5359443,46.98917471112039,47.5470282,46.98917471112039,46.3144754,47.472957949999994,47.35647715,47.3956467,47.183798,47.47155575,47.62791246564717,47.5417828,47.4624255,47.36928854300093,47.40696235,47.370000000000005,47.683242050000004,47.7918239,47.35647715,46.3144754,46.3144754,46.3144754,47.204274147168576,47.7902264,47.3115549,47.202475,46.3144754,46.3144754,46.3144754,46.3144754,46.3144754,46.3144754,46.3144754,46.3144754,46.3144754,46.3144754,46.3144754,46.3144754,47.496591550000005,46.3144754,46.3144754,46.3144754,47.0593228,46.3144754,47.5205921,46.9856579,47.1228799261745,45.675731999999996,47.7307043,47.7366222,47.38718025,47.554873998512136,47.54302455,46.3144754,47.480261350000006,47.3956467,47.3667127,47.255191249999996,47.404659499999994,46.3144754,47.52208625,47.51482955,47.524502,46.3144754,46.3144754,46.3144754,47.236497432431804,47.15911003899799,47.51649591658577,47.185189708000905,47.7564667,47.714891249999994,47.4826836,47.679731,47.530600050000004,47.6391117,47.323939249999995,47.89540278869436,47.7257011,47.4648991,47.26063885,47.16971149809036,47.46614265,47.5506964,47.5281195,47.195151100000004,47.6845968,47.0154547755102,47.4602708,47.40410585,47.621791900000005,47.7858437,46.3144754,47.36822105,46.3144754,46.3144754,46.3144754,47.4981413,47.7196242,47.16436804935233,47.30395045,47.5488433,46.3144754,47.850186970303135,47.163726027073,47.4065338,47.376557,47.48594475,47.47487035,47.2715011,46.3144754,46.3144754,46.3144754,46.3144754,46.3144754,46.3144754,46.3144754,47.4449905,47.406689150000005,47.2635689,47.46744975,46.3144754,47.751276,47.75915495,47.454021749999995,47.4539781,47.09331817892826,47.19197057142857,47.065029372483224,47.3956467,46.3144754,47.316625,47.5488433,47.31270235,47.70618125,47.196096196253414,47.845134665216584,47.32091935,47.365624600000004,47.51657955,46.3144754,46.3144754,46.3144754,46.3144754,46.3144754,46.3144754,47.40641987986825,47.38427625,47.04724629206893,47.8064909,47.16325507725555,47.39818755,47.41743545,47.3687026,47.084143,47.202743240963855,47.40641987986825,47.3767814,46.3144754,47.381027,47.448373000000004,47.492504049999994,47.4774423,46.3144754,46.3144754,46.3144754,47.285922,46.3144754,46.3144754,46.3144754,46.3144754,46.3144754,46.3144754,46.3144754,46.3144754,46.3144754,46.3144754,46.3144754,46.3144754,46.8017559,47.050913541478494,47.3696179,46.3144754,46.3144754,46.3144754,46.3144754,46.3144754,46.3144754,46.3144754,46.3144754,46.3144754,46.3144754,46.3144754,46.3144754,46.3144754,46.3144754,46.3144754,46.3144754,46.3144754,46.3144754,46.3144754,46.3144754,46.3144754,46.3144754,46.3144754,46.3144754,46.3144754,47.3162326,47.3586475,47.546205549999996,47.4602708,47.70770386159205,47.157989586149974,47.403877300000005,47.385190699999995,47.40349225,47.62034229657918,47.338235,47.192697333333335,47.75584345,47.459799000000004,47.724348649999996,47.329950249999996,47.3706265,46.9632704810226,47.501934,47.3706265,47.736084059090906,46.3144754,47.05655959375161,46.3144754,46.3144754,47.1667806122449,46.3144754,47.095295070707074,46.3144754,46.3144754,46.3144754,46.3144754,46.3144754,47.164211,47.1703692,46.3144754,46.3144754,46.3144754,46.3144754,46.3144754,47.678143500000004,46.3144754,46.3144754,46.3144754,46.3144754,47.24777439784946,47.174841477011,47.32917365,47.25776824489796,47.242434,47.174841477011,47.169191,47.283736805555556,47.25702151241008,47.479164600000004,47.24287814285714,47.12581958790487,47.235266323232324,47.22292503899077,47.5334734,47.66190145,47.181949,47.211264092661786,47.19018589795918,47.262945816326535,47.2121129328859,47.21208204081633,47.218248369127515,47.1410464409422,47.5794207,47.4737561,47.34942241743775,47.25724451515151,47.51323775,47.27442942867001,47.21975282828283,47.198779822441466,47.220997702702704,47.124616,47.18093028571429,47.251491787878784,47.343640300000004,47.19726679591837,47.233282714285714,47.20339689795918,47.204841,47.235266323232324,47.27638,47.25053033333333,47.19006016326531,47.17149892042642,47.2495798,47.186897814285715,47.23864324313207,47.21222529700193,47.235308,47.17076929461614,47.18819606122449,47.04088711111111,47.197226848484846,47.197299,47.225443911635374,47.26664966834171,47.16449401416644,47.288609,47.2137257852349,47.23986267561751,47.7034285,47.278659149999996,47.9149657,47.27639405,47.202386714285716,47.201877111111116,47.186270484848485,47.235266323232324,47.480288200000004,47.252335877551026,47.200882,47.20724237286663,47.24373847710803,47.20908,47.17529346634362,47.213616306122454,47.27392936363636,47.080662000000004,47.5786053,47.153594118878196,47.20322885,47.20610637373738,47.25189945885786,47.24050865306122,47.20005016161616,47.21860044897959,47.22612802040816,47.38725005,47.164606283922154,47.17906311055276,47.25377153488372,47.260384306122454,47.207237309388034,47.203485037161144,47.2566057,47.18568110528489,47.25359832719312,47.27793469724448,47.188976714285715,47.21545721598536,47.16449401416644,47.3168426,47.248718,47.1692861,47.197299,47.192739,47.800172149999995,47.18981163731511,47.16449401416644,47.21625014285714,47.17559266666667,47.174841477011,47.239340495582745,47.176754242424245,47.27641,47.24643314285714,47.69892575,47.271274795918366,47.21686471428571,47.21974491860062,47.2500235045659,47.15936606122449,47.22419380726984,47.2167816,47.19447224242425,47.221598609308785,47.256013510204085,47.207237309388034,47.235266323232324,47.28278369230769,47.21979436363636,47.264291,47.17222932653061,47.216868,47.174841477011,47.16449401416644,47.28175318073146,47.232067,47.18305728624466,47.2231166,47.25584830463645,47.31731375,47.27021559183673,47.174841477011,47.1905294295302,47.24735151020408,47.21281894111901,47.27442942867001,47.2264208,47.173615476444816,47.06136985329964,47.086246216080404,47.161151,47.3837436,47.2672715,47.677432249999995,47.6006742,47.481338050000005,47.21361349113377,47.21509795,47.2356425,47.242421285714286,47.2201131,47.27315678409091,47.19892189795918,47.34942241743775,47.1867024080162,47.21383324999999,47.288659546338984,47.258963,47.257089001134176,47.229856,47.21454971428571,47.386141249999994,47.6167205,47.22253652525252,47.194608,47.1916953233807,47.271145,47.218449,47.249166999172346,47.26188891836735,47.252470848484855,47.2998456,47.683016249999994,47.394426749999994,47.10427519527028,47.3238687,47.4433545,47.27451655,47.09751908,47.3074229,47.30670645,47.542396249999996,47.235266323232324,47.1700528,47.18279465771812,47.21847973469388,47.21155238383839,47.228041333839236,47.6724738,46.99645721058648,47.235266323232324,47.17218279591837,47.206213290803625,47.19345550505051,47.202130999999994,47.17509675510204,47.23886722600404,47.31867205,47.164328755547864,47.009644571428574,47.2552647,47.69892575,47.30268699199032,47.554309700000005,47.34942241743775,47.18833710204082,47.7222558,47.82199619272984,47.27454346590424,47.222075668799306,47.209052,47.2470674,47.2979136,47.30697406060606,47.18199992842911,47.27454346590424,47.2042686,47.190512393594354,47.21254484883721,47.258783,47.28308415151515,47.34942241743775,47.17482036389322,47.235308,47.26364025,47.25514475,47.4982544,47.235308,47.34942241743775,47.34942241743775,47.495327700000004,47.151408,47.235266323232324,47.26472408163265,47.22525618367347,47.214535363636365,47.27406428571428,47.25171227516779,47.273057615384616,47.236429101176256,47.235266323232324,47.200640111111106,47.22838542857143,47.19213813060877,47.1692861,47.2955582,47.20351153778399,47.251635,47.0913930387247,47.231905734693875,47.225699,47.286492,47.16449401416644,47.226348,47.308835450000004,47.34942241743775,47.255190999999996,47.28634493674254,47.1557009,47.17733361249717,47.240294090909096,47.18093028571429,47.213536,47.18385982828283,47.2231166,47.16449401416644,47.23402859595959,47.17164991836734,47.6391607,47.413789,47.174193672,47.6457398,47.58895574271042,47.294472150000004,47.580184599999995,47.22837143434344,47.22253652525252,47.287786,47.217388306122444,47.23369790976534,47.23546846845479,47.21893525,47.20430085273312,47.24607691836735,47.199369,47.2610108757764,47.220711590604026,47.176099,47.19213813060877,47.172216,47.19133332959867,47.23952293877551,47.174841477011,47.2429315,47.16449401416644,47.4897898,47.25006,47.1018975033557,47.173378,47.21454971428571,47.28308415151515,47.2325320082773,47.243893428571425,47.30066773754966,47.22290163636363,47.17875515151515,47.26386714141414,47.183064015410615,47.188995454545456,47.2040641,47.22362410892025,47.182870089135726,47.1582,47.24050865306122,47.23820638853159,47.191683454545455,47.24148088888889,47.2167816],\"legendgroup\":\"Taxi Service\",\"lon\":[-122.2635433713549,11.0480288,11.0480288,11.0480288,11.0480288,11.0480288,11.0480288,-122.34235820206209,-122.17662720000001,-122.2923265670262,-122.2851609,11.0480288,-122.56217124114092,11.0480288,11.0480288,-122.1504373,-122.28178205,-122.03006505320346,11.0480288,11.0480288,-122.18772786713663,-121.84762289754741,-122.31360340636314,-122.281531,11.0480288,11.0480288,11.0480288,-122.17252876471605,-122.3259917338286,11.0480288,-122.14011265022005,-122.38572276698389,-122.35380087397542,-122.317123222882,-122.1470985922316,-122.28585222010261,-122.3069669287398,-122.31997725414391,-122.31112104937216,-122.34601995278979,-122.1686469035136,-122.30402894366198,-122.19303181933384,-122.30578305668291,-122.2921835252907,-122.26755324999999,-122.55183616444216,-122.28341914730768,-122.1803466,-122.19290131140801,-122.3191344,-122.3869471,-122.40357588109987,-122.17037535499666,-122.32530613001686,-122.3026301,-122.43232183673469,-122.34669265,-122.30897915315026,-122.36533091684413,-122.28574690151348,-122.28190707957245,-122.83002759533225,-122.83002759533225,-122.83002759533225,-122.83002759533225,-122.42162422222222,-122.18707723962117,11.0480288,11.0480288,-122.30182087065135,-122.30529265,-122.1841257327134,-122.20366741743891,-122.10138694158326,-122.17789966229698,11.0480288,-122.15446796514479,-122.59165301533135,-122.3430492,-122.15571279177924,-122.3447091940869,-122.28719483266725,11.0480288,-122.29124199301339,-122.31112104937216,-122.28828369750275,-122.92093550254056,-122.22451405274106,-122.0258696966317,-122.36783354069888,-122.16588885455863,-122.2931638,-122.15034919556155,-122.34033121012388,-122.08854708344487,-122.3058049,-122.30992760975408,-122.17104683741243,11.0480288,11.0480288,11.0480288,11.0480288,-122.19514827720731,-122.18218775552191,11.0480288,11.0480288,-122.29359756565657,-122.2019583,11.0480288,-122.30287753891035,-122.92925079591836,11.0480288,-122.54387245730001,-122.4520632740039,11.0480288,11.0480288,11.0480288,-122.1377654747898,-122.3770276,-122.25733398439566,-122.3721147,-122.25733398439566,11.0480288,-122.28727406963489,-122.29305873353009,-122.28585222010261,-122.148282,-122.281486,-122.11393645841997,-122.26847999977564,-122.1687171245094,-122.19303181933384,-122.28020910594512,-122.29974642517523,-122.29798790114975,-122.32645584994651,-122.29305873353009,11.0480288,11.0480288,11.0480288,-122.27346804437497,-122.35769381985588,-122.3058049,-122.288569,11.0480288,11.0480288,11.0480288,11.0480288,11.0480288,11.0480288,11.0480288,11.0480288,11.0480288,11.0480288,11.0480288,11.0480288,-122.23792052250785,11.0480288,11.0480288,11.0480288,-122.7663505,11.0480288,-122.37376685,-122.2256697,-122.55190766442952,-122.64140575174825,-122.1719841,-122.2164326,-122.1559442378628,-122.11307098859622,-122.36221435496209,11.0480288,-122.18368983626436,-122.18613029365255,-122.17913683989448,-122.20856915596046,-122.28090699792568,11.0480288,-122.16343067717587,-122.26615729759526,-122.36084916674884,11.0480288,11.0480288,11.0480288,-122.61766851230522,-122.18830489895461,-122.6246282463596,-122.31720253977844,-122.3437497,-122.31280177289517,-122.24456885324254,-122.106627,-122.27412986210919,-122.3256798,-122.30990412407616,-122.30076709440758,-122.163009,-122.32462445,-122.29421767381986,-122.02006363817982,-122.2635433713549,-122.28240549942433,-122.36083934380409,-121.97476405,-122.1237269337762,-122.90800563265306,-122.17208855,-122.2769251768909,-122.32332616357922,-122.3469084,11.0480288,-122.31820450000001,11.0480288,11.0480288,11.0480288,-122.16263804731443,-122.2948337,-122.28633265903585,-122.20417831523753,-122.3343207,11.0480288,-121.68401311413095,-122.27114801257284,-122.27713807793103,-122.19970006474908,-122.31843820122072,-122.28801372595592,-122.2364402837799,11.0480288,11.0480288,11.0480288,11.0480288,11.0480288,11.0480288,11.0480288,-122.2875771,-122.27641550506854,-122.2794534765404,-122.32681227311741,11.0480288,-122.120922,-122.23324690831447,-122.35321139999999,-122.1716508258146,-122.67547980116177,-122.26469725396825,-122.25595152013423,-122.28585222010261,11.0480288,-122.3357453,-122.3343207,-122.33020600207925,-122.33100636339839,-122.32372699193479,-122.2871874751579,-122.33800850053035,-122.02754572440456,-122.26827734504174,11.0480288,11.0480288,11.0480288,11.0480288,11.0480288,11.0480288,-122.29865521949873,-122.29828037842097,-122.23114871273856,-122.2968445,-122.58790601906342,-122.32061181786858,-122.29124199301339,-122.16602460829853,-122.212454,-122.33329109638555,-122.29865521949873,-122.11696904988023,11.0480288,-122.2608732,-122.2923265670262,-122.27418012500002,-122.325776775,11.0480288,11.0480288,11.0480288,-122.11367938839285,11.0480288,11.0480288,11.0480288,11.0480288,11.0480288,11.0480288,11.0480288,11.0480288,11.0480288,11.0480288,11.0480288,11.0480288,-122.2419186,-122.30878185706045,-122.29845990216205,11.0480288,11.0480288,11.0480288,11.0480288,11.0480288,11.0480288,11.0480288,11.0480288,11.0480288,11.0480288,11.0480288,11.0480288,11.0480288,11.0480288,11.0480288,11.0480288,11.0480288,11.0480288,11.0480288,11.0480288,11.0480288,11.0480288,11.0480288,11.0480288,11.0480288,-122.3596841,-122.1767771,-122.29972272143311,-122.17208855,-122.11734987890588,-122.19776577093437,-122.18994383297414,-122.0317201,-122.28313801992377,-122.20448273423719,-122.330426402098,-122.290836,-122.18839172589205,-122.2746895,-122.34725170266411,-122.17496005000001,-122.20815070200001,-122.63273123652584,-122.18386117104623,-122.20815070200001,-122.33715443636363,11.0480288,-122.30621007091564,11.0480288,11.0480288,-122.60677608163265,11.0480288,-122.40237885858586,11.0480288,11.0480288,11.0480288,11.0480288,11.0480288,-122.294136,-122.596287,11.0480288,11.0480288,11.0480288,11.0480288,11.0480288,-122.32235805130587,11.0480288,11.0480288,11.0480288,11.0480288,-122.3221566344086,-122.46531138871684,-122.21866913185096,-122.45781236734695,-122.367243,-122.46531138871684,-122.44201,-122.38126661805556,-122.53284985107904,-122.18090704109841,-122.47053771428573,-122.426733690056,-122.53575953535353,-122.49323464229126,-122.2694738,-122.40329070576419,-122.548506,-122.46632942272205,-122.44274248979592,-122.45345504081632,-122.50706676510067,-122.4117848367347,-122.47351543624161,-122.50733709750739,-122.3050668,-122.28907584999999,-122.22494950689504,-122.44259796969696,-122.1763286433432,-122.51574759049946,-122.44496413131313,-122.30439000534962,-122.47348272972972,-122.537743,-122.45573485714286,-122.530088,-122.30772250409836,-122.4302659387755,-122.49354671428571,-122.4037345510204,-122.272951,-122.53575953535353,-122.2255535,-122.51298033333335,-122.42597634693877,-122.42635839483087,-122.439874,-122.42605441428572,-122.39808302333006,-122.50512166676944,-122.555082,-122.51203598939136,-122.29528508163266,-122.84046672222223,-122.48123933333333,-122.492655,-122.34409730693044,-122.51813586432161,-122.49459814083336,-122.373565,-122.50190353691275,-122.55368378146851,-122.342496,-122.22251207453007,-122.2450797,-122.14707805104445,-122.33071,-122.42560496969696,-122.45533472727273,-122.53575953535353,-122.18826072992863,-122.44774079591836,-122.40945072727273,-122.42461750006484,-122.44677891625872,-122.415114,-122.51184603321855,-122.47359986734695,-122.36381163636364,-122.41638326164681,-122.4089862,-122.50468994265596,-122.50494512448194,-122.4721852121212,-122.52092331171322,-122.46179610204082,-122.42563065656566,-122.47955238775509,-122.4536505510204,-122.25759173099064,-122.50748373534176,-122.4632837839196,-122.4645796744186,-122.45977259183672,-122.49784015866734,-122.51163291442775,-122.531339,-122.51737553162162,-122.52567506374959,-122.52066301687395,-122.45076957142857,-122.55096900808418,-122.49459814083336,-122.396491081091,-122.53688366666667,-122.4593579,-122.492655,-121.9940355,-122.37783147965702,-122.56257384802285,-122.49459814083336,-122.42490938775511,-122.45709566666667,-122.46531138871684,-122.53016219772825,-122.53066021212122,-122.52163260655738,-122.47659342857142,-122.34643125745892,-122.50513759183674,-122.480925,-122.40630646484225,-122.5234916453218,-122.50106073469388,-122.53352550766714,-122.4340178,-122.49391215151515,-122.40494904108346,-122.46155671428572,-122.49784015866734,-122.53575953535353,-122.37191928205128,-122.4479353939394,-122.447573,-122.46374455102041,-122.47386,-122.46531138871684,-122.49459814083336,-122.5131572408847,-122.41373528571428,-122.54390522733502,-122.4196411,-122.53686577438923,-122.38447330478571,-122.49200467346938,-122.46531138871684,-122.45914222818791,-122.4466076122449,-122.4122257922048,-122.51574759049946,-122.3579285,-122.5145681915861,-122.40115746485637,-122.41789547236182,-122.506301,-122.31260932496488,-122.23246457028793,-122.38296002454268,-122.3351764,-122.28815982694806,-122.40970310729956,-122.53591430352355,-122.43931391098513,-122.48372485714286,-122.4618639,-122.51575288068182,-122.41112283673469,-122.22494950689504,-122.5403383032109,-122.53846064724938,-122.38978271882083,-122.441815,-122.30898602405814,-122.456071,-122.47383424489796,-122.25201209211107,-122.3097957,-122.48136234343434,-122.494153,-122.49148343437021,-122.491901,-122.437691,-122.52644780718805,-122.46085087755101,-122.4429815959596,-122.21303565590756,-122.16479824635056,-122.27169995046658,-122.43468916127274,-122.2171815,-122.2889149717806,-122.22295215,-122.643724664,-122.30474980063457,-122.31008505009683,-122.35463050012947,-122.53575953535353,-122.4340924,-122.4745826375839,-122.4267465510204,-122.44964592929293,-122.50502014358305,-122.3636847,-122.79775900723928,-122.53575953535353,-122.46379353061225,-122.49966460692801,-122.44599062626263,-122.52296177707399,-122.46324257142858,-122.52163792625618,-122.3960872752306,-122.43427075202241,-122.86617787755101,-122.21853638532066,-122.34643125745892,-122.39499531637023,-122.38514828430796,-122.22494950689504,-122.51024777551021,-122.32168385413908,-122.33251716227709,-122.36972943954105,-122.51642330936865,-122.40954083673469,-122.440476,-122.5322044,-122.41956867676767,-122.54857652781607,-122.36972943954105,-122.2464048,-122.56233040427283,-122.44196770930232,-122.49257855886873,-122.51567690909091,-122.22494950689504,-122.46540432563009,-122.555082,-122.44985415,-122.534194,-122.1631706,-122.555082,-122.22494950689504,-122.22494950689504,-122.25283485281923,-122.506888,-122.53575953535353,-122.45546487755101,-122.33631144897959,-122.41659581818182,-122.51081685714286,-122.52268787919463,-122.48668576923076,-122.3533284634913,-122.53575953535353,-122.48098011111111,-122.42171357142858,-122.53958752146984,-122.4593579,-122.37281313783673,-122.41489518302784,-122.526245,-122.41517965538756,-122.41500387755103,-122.44782424489796,-122.372477,-122.49459814083336,-122.476543,-122.39828628423311,-122.22494950689504,-122.44963046938776,-122.37871226507572,-122.36188261917145,-122.48113156233104,-122.46265766666666,-122.45573485714286,-122.437298,-122.45462312121212,-122.4196411,-122.49459814083336,-122.48620285858586,-122.52758620408163,-122.14535629288389,-122.1855319217128,-122.436576792,-122.37526374529367,-122.1458423411959,-122.20961724132076,-122.31446198487068,-122.29643963636364,-122.48136234343434,-122.373143,-122.45291697959183,-122.50546538156351,-122.44815393238707,-122.50692275,-122.50473172090032,-122.45611338775511,-122.508545,-122.51603833540372,-122.54023990604027,-122.43658169565217,-122.53958752146984,-122.30876,-122.45417251789279,-122.4492857755102,-122.46531138871684,-122.5623359,-122.49459814083336,-122.32026255344672,-122.490312,-122.42295410738255,-122.46324411111111,-122.47383424489796,-122.51567690909091,-122.50900965778808,-122.51284775510204,-122.40265181835998,-122.44913136363635,-122.43821101010101,-122.4694178989899,-122.5269717478574,-122.55540327272728,-122.3287919,-122.52958301703734,-122.5493346614846,-122.255976,-122.46179610204082,-122.46512770712654,-122.4810183030303,-122.5301104888889,-122.4340178],\"marker\":{\"color\":\"green\"},\"mode\":\"markers\",\"name\":\"Taxi Service\",\"showlegend\":true,\"subplot\":\"mapbox\",\"type\":\"scattermapbox\"}],                        {\"template\":{\"data\":{\"histogram2dcontour\":[{\"type\":\"histogram2dcontour\",\"colorbar\":{\"outlinewidth\":0,\"ticks\":\"\"},\"colorscale\":[[0.0,\"#0d0887\"],[0.1111111111111111,\"#46039f\"],[0.2222222222222222,\"#7201a8\"],[0.3333333333333333,\"#9c179e\"],[0.4444444444444444,\"#bd3786\"],[0.5555555555555556,\"#d8576b\"],[0.6666666666666666,\"#ed7953\"],[0.7777777777777778,\"#fb9f3a\"],[0.8888888888888888,\"#fdca26\"],[1.0,\"#f0f921\"]]}],\"choropleth\":[{\"type\":\"choropleth\",\"colorbar\":{\"outlinewidth\":0,\"ticks\":\"\"}}],\"histogram2d\":[{\"type\":\"histogram2d\",\"colorbar\":{\"outlinewidth\":0,\"ticks\":\"\"},\"colorscale\":[[0.0,\"#0d0887\"],[0.1111111111111111,\"#46039f\"],[0.2222222222222222,\"#7201a8\"],[0.3333333333333333,\"#9c179e\"],[0.4444444444444444,\"#bd3786\"],[0.5555555555555556,\"#d8576b\"],[0.6666666666666666,\"#ed7953\"],[0.7777777777777778,\"#fb9f3a\"],[0.8888888888888888,\"#fdca26\"],[1.0,\"#f0f921\"]]}],\"heatmap\":[{\"type\":\"heatmap\",\"colorbar\":{\"outlinewidth\":0,\"ticks\":\"\"},\"colorscale\":[[0.0,\"#0d0887\"],[0.1111111111111111,\"#46039f\"],[0.2222222222222222,\"#7201a8\"],[0.3333333333333333,\"#9c179e\"],[0.4444444444444444,\"#bd3786\"],[0.5555555555555556,\"#d8576b\"],[0.6666666666666666,\"#ed7953\"],[0.7777777777777778,\"#fb9f3a\"],[0.8888888888888888,\"#fdca26\"],[1.0,\"#f0f921\"]]}],\"heatmapgl\":[{\"type\":\"heatmapgl\",\"colorbar\":{\"outlinewidth\":0,\"ticks\":\"\"},\"colorscale\":[[0.0,\"#0d0887\"],[0.1111111111111111,\"#46039f\"],[0.2222222222222222,\"#7201a8\"],[0.3333333333333333,\"#9c179e\"],[0.4444444444444444,\"#bd3786\"],[0.5555555555555556,\"#d8576b\"],[0.6666666666666666,\"#ed7953\"],[0.7777777777777778,\"#fb9f3a\"],[0.8888888888888888,\"#fdca26\"],[1.0,\"#f0f921\"]]}],\"contourcarpet\":[{\"type\":\"contourcarpet\",\"colorbar\":{\"outlinewidth\":0,\"ticks\":\"\"}}],\"contour\":[{\"type\":\"contour\",\"colorbar\":{\"outlinewidth\":0,\"ticks\":\"\"},\"colorscale\":[[0.0,\"#0d0887\"],[0.1111111111111111,\"#46039f\"],[0.2222222222222222,\"#7201a8\"],[0.3333333333333333,\"#9c179e\"],[0.4444444444444444,\"#bd3786\"],[0.5555555555555556,\"#d8576b\"],[0.6666666666666666,\"#ed7953\"],[0.7777777777777778,\"#fb9f3a\"],[0.8888888888888888,\"#fdca26\"],[1.0,\"#f0f921\"]]}],\"surface\":[{\"type\":\"surface\",\"colorbar\":{\"outlinewidth\":0,\"ticks\":\"\"},\"colorscale\":[[0.0,\"#0d0887\"],[0.1111111111111111,\"#46039f\"],[0.2222222222222222,\"#7201a8\"],[0.3333333333333333,\"#9c179e\"],[0.4444444444444444,\"#bd3786\"],[0.5555555555555556,\"#d8576b\"],[0.6666666666666666,\"#ed7953\"],[0.7777777777777778,\"#fb9f3a\"],[0.8888888888888888,\"#fdca26\"],[1.0,\"#f0f921\"]]}],\"mesh3d\":[{\"type\":\"mesh3d\",\"colorbar\":{\"outlinewidth\":0,\"ticks\":\"\"}}],\"scatter\":[{\"fillpattern\":{\"fillmode\":\"overlay\",\"size\":10,\"solidity\":0.2},\"type\":\"scatter\"}],\"parcoords\":[{\"type\":\"parcoords\",\"line\":{\"colorbar\":{\"outlinewidth\":0,\"ticks\":\"\"}}}],\"scatterpolargl\":[{\"type\":\"scatterpolargl\",\"marker\":{\"colorbar\":{\"outlinewidth\":0,\"ticks\":\"\"}}}],\"bar\":[{\"error_x\":{\"color\":\"#2a3f5f\"},\"error_y\":{\"color\":\"#2a3f5f\"},\"marker\":{\"line\":{\"color\":\"#E5ECF6\",\"width\":0.5},\"pattern\":{\"fillmode\":\"overlay\",\"size\":10,\"solidity\":0.2}},\"type\":\"bar\"}],\"scattergeo\":[{\"type\":\"scattergeo\",\"marker\":{\"colorbar\":{\"outlinewidth\":0,\"ticks\":\"\"}}}],\"scatterpolar\":[{\"type\":\"scatterpolar\",\"marker\":{\"colorbar\":{\"outlinewidth\":0,\"ticks\":\"\"}}}],\"histogram\":[{\"marker\":{\"pattern\":{\"fillmode\":\"overlay\",\"size\":10,\"solidity\":0.2}},\"type\":\"histogram\"}],\"scattergl\":[{\"type\":\"scattergl\",\"marker\":{\"colorbar\":{\"outlinewidth\":0,\"ticks\":\"\"}}}],\"scatter3d\":[{\"type\":\"scatter3d\",\"line\":{\"colorbar\":{\"outlinewidth\":0,\"ticks\":\"\"}},\"marker\":{\"colorbar\":{\"outlinewidth\":0,\"ticks\":\"\"}}}],\"scattermapbox\":[{\"type\":\"scattermapbox\",\"marker\":{\"colorbar\":{\"outlinewidth\":0,\"ticks\":\"\"}}}],\"scatterternary\":[{\"type\":\"scatterternary\",\"marker\":{\"colorbar\":{\"outlinewidth\":0,\"ticks\":\"\"}}}],\"scattercarpet\":[{\"type\":\"scattercarpet\",\"marker\":{\"colorbar\":{\"outlinewidth\":0,\"ticks\":\"\"}}}],\"carpet\":[{\"aaxis\":{\"endlinecolor\":\"#2a3f5f\",\"gridcolor\":\"white\",\"linecolor\":\"white\",\"minorgridcolor\":\"white\",\"startlinecolor\":\"#2a3f5f\"},\"baxis\":{\"endlinecolor\":\"#2a3f5f\",\"gridcolor\":\"white\",\"linecolor\":\"white\",\"minorgridcolor\":\"white\",\"startlinecolor\":\"#2a3f5f\"},\"type\":\"carpet\"}],\"table\":[{\"cells\":{\"fill\":{\"color\":\"#EBF0F8\"},\"line\":{\"color\":\"white\"}},\"header\":{\"fill\":{\"color\":\"#C8D4E3\"},\"line\":{\"color\":\"white\"}},\"type\":\"table\"}],\"barpolar\":[{\"marker\":{\"line\":{\"color\":\"#E5ECF6\",\"width\":0.5},\"pattern\":{\"fillmode\":\"overlay\",\"size\":10,\"solidity\":0.2}},\"type\":\"barpolar\"}],\"pie\":[{\"automargin\":true,\"type\":\"pie\"}]},\"layout\":{\"autotypenumbers\":\"strict\",\"colorway\":[\"#636efa\",\"#EF553B\",\"#00cc96\",\"#ab63fa\",\"#FFA15A\",\"#19d3f3\",\"#FF6692\",\"#B6E880\",\"#FF97FF\",\"#FECB52\"],\"font\":{\"color\":\"#2a3f5f\"},\"hovermode\":\"closest\",\"hoverlabel\":{\"align\":\"left\"},\"paper_bgcolor\":\"white\",\"plot_bgcolor\":\"#E5ECF6\",\"polar\":{\"bgcolor\":\"#E5ECF6\",\"angularaxis\":{\"gridcolor\":\"white\",\"linecolor\":\"white\",\"ticks\":\"\"},\"radialaxis\":{\"gridcolor\":\"white\",\"linecolor\":\"white\",\"ticks\":\"\"}},\"ternary\":{\"bgcolor\":\"#E5ECF6\",\"aaxis\":{\"gridcolor\":\"white\",\"linecolor\":\"white\",\"ticks\":\"\"},\"baxis\":{\"gridcolor\":\"white\",\"linecolor\":\"white\",\"ticks\":\"\"},\"caxis\":{\"gridcolor\":\"white\",\"linecolor\":\"white\",\"ticks\":\"\"}},\"coloraxis\":{\"colorbar\":{\"outlinewidth\":0,\"ticks\":\"\"}},\"colorscale\":{\"sequential\":[[0.0,\"#0d0887\"],[0.1111111111111111,\"#46039f\"],[0.2222222222222222,\"#7201a8\"],[0.3333333333333333,\"#9c179e\"],[0.4444444444444444,\"#bd3786\"],[0.5555555555555556,\"#d8576b\"],[0.6666666666666666,\"#ed7953\"],[0.7777777777777778,\"#fb9f3a\"],[0.8888888888888888,\"#fdca26\"],[1.0,\"#f0f921\"]],\"sequentialminus\":[[0.0,\"#0d0887\"],[0.1111111111111111,\"#46039f\"],[0.2222222222222222,\"#7201a8\"],[0.3333333333333333,\"#9c179e\"],[0.4444444444444444,\"#bd3786\"],[0.5555555555555556,\"#d8576b\"],[0.6666666666666666,\"#ed7953\"],[0.7777777777777778,\"#fb9f3a\"],[0.8888888888888888,\"#fdca26\"],[1.0,\"#f0f921\"]],\"diverging\":[[0,\"#8e0152\"],[0.1,\"#c51b7d\"],[0.2,\"#de77ae\"],[0.3,\"#f1b6da\"],[0.4,\"#fde0ef\"],[0.5,\"#f7f7f7\"],[0.6,\"#e6f5d0\"],[0.7,\"#b8e186\"],[0.8,\"#7fbc41\"],[0.9,\"#4d9221\"],[1,\"#276419\"]]},\"xaxis\":{\"gridcolor\":\"white\",\"linecolor\":\"white\",\"ticks\":\"\",\"title\":{\"standoff\":15},\"zerolinecolor\":\"white\",\"automargin\":true,\"zerolinewidth\":2},\"yaxis\":{\"gridcolor\":\"white\",\"linecolor\":\"white\",\"ticks\":\"\",\"title\":{\"standoff\":15},\"zerolinecolor\":\"white\",\"automargin\":true,\"zerolinewidth\":2},\"scene\":{\"xaxis\":{\"backgroundcolor\":\"#E5ECF6\",\"gridcolor\":\"white\",\"linecolor\":\"white\",\"showbackground\":true,\"ticks\":\"\",\"zerolinecolor\":\"white\",\"gridwidth\":2},\"yaxis\":{\"backgroundcolor\":\"#E5ECF6\",\"gridcolor\":\"white\",\"linecolor\":\"white\",\"showbackground\":true,\"ticks\":\"\",\"zerolinecolor\":\"white\",\"gridwidth\":2},\"zaxis\":{\"backgroundcolor\":\"#E5ECF6\",\"gridcolor\":\"white\",\"linecolor\":\"white\",\"showbackground\":true,\"ticks\":\"\",\"zerolinecolor\":\"white\",\"gridwidth\":2}},\"shapedefaults\":{\"line\":{\"color\":\"#2a3f5f\"}},\"annotationdefaults\":{\"arrowcolor\":\"#2a3f5f\",\"arrowhead\":0,\"arrowwidth\":1},\"geo\":{\"bgcolor\":\"white\",\"landcolor\":\"#E5ECF6\",\"subunitcolor\":\"white\",\"showland\":true,\"showlakes\":true,\"lakecolor\":\"white\"},\"title\":{\"x\":0.05},\"mapbox\":{\"style\":\"light\"}}},\"mapbox\":{\"domain\":{\"x\":[0.0,1.0],\"y\":[0.0,1.0]},\"center\":{\"lat\":47.25,\"lon\":-122.44},\"zoom\":9,\"style\":\"carto-positron\"},\"legend\":{\"title\":{\"text\":\"NAICS_CODE_DESCRIPTION\"},\"tracegroupgap\":0},\"margin\":{\"t\":60},\"title\":{\"text\":\"Where are the taxis? CSV\"}},                        {\"responsive\": true}                    ).then(function(){\n",
       "                            \n",
       "var gd = document.getElementById('f4d68c58-9aaa-4303-8faa-f0c815d2de8a');\n",
       "var x = new MutationObserver(function (mutations, observer) {{\n",
       "        var display = window.getComputedStyle(gd).display;\n",
       "        if (!display || display === 'none') {{\n",
       "            console.log([gd, 'removed!']);\n",
       "            Plotly.purge(gd);\n",
       "            observer.disconnect();\n",
       "        }}\n",
       "}});\n",
       "\n",
       "// Listen for the removal of the full notebook cells\n",
       "var notebookContainer = gd.closest('#notebook-container');\n",
       "if (notebookContainer) {{\n",
       "    x.observe(notebookContainer, {childList: true});\n",
       "}}\n",
       "\n",
       "// Listen for the clearing of the current output cell\n",
       "var outputEl = gd.closest('.output');\n",
       "if (outputEl) {{\n",
       "    x.observe(outputEl, {childList: true});\n",
       "}}\n",
       "\n",
       "                        })                };                });            </script>        </div>"
      ]
     },
     "metadata": {},
     "output_type": "display_data"
    }
   ],
   "source": [
    "# I'm only interested in the taxi licenses AND I've read the Nominatim terms of service about limiting bulk queries\n",
    "# Why don't I filter out my data frame to only include taxi licenses and then geocode those?\n",
    "# Hmmm... how could I do that? Perhaps the NAICS code?\n",
    "# I can read about pandas QUERIES here: https://www.sharpsightlabs.com/blog/pandas-query/ (or the formal documentation)\n",
    "\n",
    "import pandas\n",
    "import geopandas\n",
    "import plotly.express as pe\n",
    "from geopy import geocoders\n",
    "\n",
    "noapi = pandas.read_csv('TACOMA_BUSINESS_LICENSE.csv')\n",
    "#print(noapi.head())\n",
    "\n",
    "taxitwo = noapi.query('NAICS_CODE_DESCRIPTION == \"Taxi Service\"')\n",
    "#taxi2 = df.query('NAICS_CODE == \"485310.0\"')\n",
    "#print(taxi2)\n",
    "\n",
    "# Assuming you have those results...\n",
    "# A lot of these don't have data in them, so let's drop those as well. I'll use .dropna() \n",
    "# Where could you read about that, do you think?\n",
    "# As a hint, I'd recommend dropping based off of the House and Street number column.\n",
    "#stuff goes here (I'm creating new dataframes, for the most part, to avoid a slice issue), there are other ways to avoid this\n",
    "\n",
    "\n",
    "# Alright, got that?\n",
    "# This next step is unnecessary as I could construct this information each time I need to\n",
    "# However, I'm going to create a new column in my dataframe that has the address location I want to pass to my geocoder\n",
    "# The format will read \"# Street Name, City, State\"\n",
    "\n",
    "taxitwo['location'] = taxitwo['HOUSE_NUMBER_AND_STREET_NAME'] + ', ' + taxitwo['CITY'] + ', ' + taxitwo['STATE']\n",
    "\n",
    "\n",
    "# I'm also going to create empty columns called lat and long.\n",
    "# This is where my solution begins to veer from the more elegant ones, see if you could condense these steps\n",
    "# Or, better yet, do a wholly different approach. This approach will get slower for extremely large datasets.\n",
    "# You can see some of the timings of how these approaches compare here: https://medium.com/swlh/how-to-efficiently-loop-through-pandas-dataframe-660e4660125d\n",
    "\n",
    "taxitwo['lat'] = 0\n",
    "taxitwo['long'] = 0\n",
    "\n",
    "taxithree = taxitwo.reset_index()\n",
    "\n",
    "# Now I want to loop through the dataframe and updating each lat and long with the results of the geocoder.\n",
    "# I used .iloc[i] here, but - again - there are better approaches (see the link above, also look up the .apply method)\n",
    "# This approach took me five minutes to run.\n",
    "\n",
    "\n",
    "for i in range(len(taxithree)):\n",
    "    #What might go here?\n",
    "    lat, long = geo(taxithree['location'].iloc[i])\n",
    "    taxithree['lat'].iloc[i] = lat\n",
    "    taxithree['long'].iloc[i] = long\n",
    "\n",
    "#print(taxithree.head())\n",
    "#print(len(taxithree.index))\n",
    "\n",
    "#Well, since I just used my basic geocoder above, a lot of these results didn't resolve. I need to use .dropna on the 'lat' or long column here...\n",
    "\n",
    "taxifour = taxithree.dropna(subset=['lat'], axis=0)\n",
    "\n",
    "#taxi4 = # Use dropna here again...\n",
    "\n",
    "# Let's check our results! I had 485 entries only using nominatim, how about you? \n",
    "# Just as an fyi, there are 1245 entries for taxis in the original data... \n",
    "# While this is fine for this exercise, think about how you might process and parse the data to attain more results.\n",
    "# Also consider how the decisions you make when cleaning your data reflect the results you are going to get!\n",
    "\n",
    "#print(len(taxifour))\n",
    "\n",
    "# Now I need to create a map of the data.\n",
    "# Personally, I'd use plotly.express and create a scatterplot\n",
    "# To do that, I'd need to pull out the lat and long data stored in the dataframe... how might I do that?\n",
    "\n",
    "csvmap = pe.scatter_mapbox(taxifour,\n",
    "                         lat='lat',\n",
    "                         lon='long', \n",
    "                         hover_name='BUSINESS_NAME',\n",
    "                         hover_data=['NAICS_CODE', 'HOUSE_NUMBER_AND_STREET_NAME', 'CITY', 'STATE', 'ZIP_CODE'],\n",
    "                         color='NAICS_CODE_DESCRIPTION',\n",
    "                        color_discrete_sequence=['green'],\n",
    "                        center={\"lat\": 47.25, \"lon\": -122.44},\n",
    "                         mapbox_style='carto-positron',\n",
    "                         zoom=9)\n",
    "\n",
    "csvmap.update_layout(title='Where are the taxis? CSV')\n",
    "csvmap.show()"
   ]
  },
  {
   "cell_type": "markdown",
   "id": "3b48bdf2",
   "metadata": {},
   "source": [
    "### Problem 2 - Who represents the people!? (2 pts)\n",
    "\n",
    "Generate an map (interactive or static) that displays **State** House of Representative districts. Hover over should dispaly the district name. Give each district a different color."
   ]
  },
  {
   "cell_type": "code",
   "execution_count": 16,
   "id": "7da75e17",
   "metadata": {},
   "outputs": [
    {
     "name": "stdout",
     "output_type": "stream",
     "text": [
      "            X          Y  STATEFP20  SLDLST20  GEOID20  \\\n",
      "0 -122.169976  47.782827         53         1    53001   \n",
      "1 -123.167279  47.239243         53        35    53035   \n",
      "2 -122.041128  47.687797         53        45    53045   \n",
      "3 -122.582946  47.766951         53        23    53023   \n",
      "4 -118.699725  47.291679         53        13    53013   \n",
      "\n",
      "                NAMELSAD20 LSAD20  LSY20 MTFCC20 FUNCSTAT20      ALAND20  \\\n",
      "0   State House District 1     LL   2018   G5220          N    175590946   \n",
      "1  State House District 35     LL   2018   G5220          N   3450948000   \n",
      "2  State House District 45     LL   2018   G5220          N    256405866   \n",
      "3  State House District 23     LL   2018   G5220          N    429307777   \n",
      "4  State House District 13     LL   2018   G5220          N  17818556454   \n",
      "\n",
      "    AWATER20  INTPTLAT20  INTPTLON20  \n",
      "0    6165627   47.795282 -122.163547  \n",
      "1  331043784   47.310182 -123.107767  \n",
      "2    8175631   47.706769 -122.052883  \n",
      "3  315242276   47.742587 -122.575308  \n",
      "4  338874433   47.276937 -119.543320  \n"
     ]
    }
   ],
   "source": [
    "import pandas\n",
    "shrd = pandas.read_csv('tl_2020_53_sldl20.csv')\n",
    "print(shrd.head())"
   ]
  },
  {
   "cell_type": "code",
   "execution_count": 17,
   "id": "bb4d346c",
   "metadata": {},
   "outputs": [
    {
     "data": {
      "application/vnd.plotly.v1+json": {
       "config": {
        "plotlyServerURL": "https://plot.ly"
       },
       "data": [
        {
         "hovertemplate": "<b>%{hovertext}</b><br><br>NAMELSAD20=State House District 1<br>INTPTLAT20=%{lat}<br>INTPTLON20=%{lon}<extra></extra>",
         "hovertext": [
          "State House District 1"
         ],
         "lat": [
          47.7952818
         ],
         "legendgroup": "State House District 1",
         "lon": [
          -122.1635472
         ],
         "marker": {
          "color": "#636efa"
         },
         "mode": "markers",
         "name": "State House District 1",
         "showlegend": true,
         "subplot": "mapbox",
         "type": "scattermapbox"
        },
        {
         "hovertemplate": "<b>%{hovertext}</b><br><br>NAMELSAD20=State House District 35<br>INTPTLAT20=%{lat}<br>INTPTLON20=%{lon}<extra></extra>",
         "hovertext": [
          "State House District 35"
         ],
         "lat": [
          47.3101817
         ],
         "legendgroup": "State House District 35",
         "lon": [
          -123.107767
         ],
         "marker": {
          "color": "#EF553B"
         },
         "mode": "markers",
         "name": "State House District 35",
         "showlegend": true,
         "subplot": "mapbox",
         "type": "scattermapbox"
        },
        {
         "hovertemplate": "<b>%{hovertext}</b><br><br>NAMELSAD20=State House District 45<br>INTPTLAT20=%{lat}<br>INTPTLON20=%{lon}<extra></extra>",
         "hovertext": [
          "State House District 45"
         ],
         "lat": [
          47.7067687
         ],
         "legendgroup": "State House District 45",
         "lon": [
          -122.0528827
         ],
         "marker": {
          "color": "#00cc96"
         },
         "mode": "markers",
         "name": "State House District 45",
         "showlegend": true,
         "subplot": "mapbox",
         "type": "scattermapbox"
        },
        {
         "hovertemplate": "<b>%{hovertext}</b><br><br>NAMELSAD20=State House District 23<br>INTPTLAT20=%{lat}<br>INTPTLON20=%{lon}<extra></extra>",
         "hovertext": [
          "State House District 23"
         ],
         "lat": [
          47.7425865
         ],
         "legendgroup": "State House District 23",
         "lon": [
          -122.5753082
         ],
         "marker": {
          "color": "#ab63fa"
         },
         "mode": "markers",
         "name": "State House District 23",
         "showlegend": true,
         "subplot": "mapbox",
         "type": "scattermapbox"
        },
        {
         "hovertemplate": "<b>%{hovertext}</b><br><br>NAMELSAD20=State House District 13<br>INTPTLAT20=%{lat}<br>INTPTLON20=%{lon}<extra></extra>",
         "hovertext": [
          "State House District 13"
         ],
         "lat": [
          47.276937
         ],
         "legendgroup": "State House District 13",
         "lon": [
          -119.5433204
         ],
         "marker": {
          "color": "#FFA15A"
         },
         "mode": "markers",
         "name": "State House District 13",
         "showlegend": true,
         "subplot": "mapbox",
         "type": "scattermapbox"
        },
        {
         "hovertemplate": "<b>%{hovertext}</b><br><br>NAMELSAD20=State House District 10<br>INTPTLAT20=%{lat}<br>INTPTLON20=%{lon}<extra></extra>",
         "hovertext": [
          "State House District 10"
         ],
         "lat": [
          48.2463071
         ],
         "legendgroup": "State House District 10",
         "lon": [
          -122.452317
         ],
         "marker": {
          "color": "#19d3f3"
         },
         "mode": "markers",
         "name": "State House District 10",
         "showlegend": true,
         "subplot": "mapbox",
         "type": "scattermapbox"
        },
        {
         "hovertemplate": "<b>%{hovertext}</b><br><br>NAMELSAD20=State House District 8<br>INTPTLAT20=%{lat}<br>INTPTLON20=%{lon}<extra></extra>",
         "hovertext": [
          "State House District 8"
         ],
         "lat": [
          46.4683252
         ],
         "legendgroup": "State House District 8",
         "lon": [
          -119.4335387
         ],
         "marker": {
          "color": "#FF6692"
         },
         "mode": "markers",
         "name": "State House District 8",
         "showlegend": true,
         "subplot": "mapbox",
         "type": "scattermapbox"
        },
        {
         "hovertemplate": "<b>%{hovertext}</b><br><br>NAMELSAD20=State House District 22<br>INTPTLAT20=%{lat}<br>INTPTLON20=%{lon}<extra></extra>",
         "hovertext": [
          "State House District 22"
         ],
         "lat": [
          47.0767263
         ],
         "legendgroup": "State House District 22",
         "lon": [
          -122.8614269
         ],
         "marker": {
          "color": "#B6E880"
         },
         "mode": "markers",
         "name": "State House District 22",
         "showlegend": true,
         "subplot": "mapbox",
         "type": "scattermapbox"
        },
        {
         "hovertemplate": "<b>%{hovertext}</b><br><br>NAMELSAD20=State House District 5<br>INTPTLAT20=%{lat}<br>INTPTLON20=%{lon}<extra></extra>",
         "hovertext": [
          "State House District 5"
         ],
         "lat": [
          47.5145784
         ],
         "legendgroup": "State House District 5",
         "lon": [
          -121.7797207
         ],
         "marker": {
          "color": "#FF97FF"
         },
         "mode": "markers",
         "name": "State House District 5",
         "showlegend": true,
         "subplot": "mapbox",
         "type": "scattermapbox"
        },
        {
         "hovertemplate": "<b>%{hovertext}</b><br><br>NAMELSAD20=State House District 30<br>INTPTLAT20=%{lat}<br>INTPTLON20=%{lon}<extra></extra>",
         "hovertext": [
          "State House District 30"
         ],
         "lat": [
          47.3067103
         ],
         "legendgroup": "State House District 30",
         "lon": [
          -122.3220981
         ],
         "marker": {
          "color": "#FECB52"
         },
         "mode": "markers",
         "name": "State House District 30",
         "showlegend": true,
         "subplot": "mapbox",
         "type": "scattermapbox"
        },
        {
         "hovertemplate": "<b>%{hovertext}</b><br><br>NAMELSAD20=State House District 27<br>INTPTLAT20=%{lat}<br>INTPTLON20=%{lon}<extra></extra>",
         "hovertext": [
          "State House District 27"
         ],
         "lat": [
          47.2733562
         ],
         "legendgroup": "State House District 27",
         "lon": [
          -122.4580971
         ],
         "marker": {
          "color": "#636efa"
         },
         "mode": "markers",
         "name": "State House District 27",
         "showlegend": true,
         "subplot": "mapbox",
         "type": "scattermapbox"
        },
        {
         "hovertemplate": "<b>%{hovertext}</b><br><br>NAMELSAD20=State House District 34<br>INTPTLAT20=%{lat}<br>INTPTLON20=%{lon}<extra></extra>",
         "hovertext": [
          "State House District 34"
         ],
         "lat": [
          47.4669023
         ],
         "legendgroup": "State House District 34",
         "lon": [
          -122.4363322
         ],
         "marker": {
          "color": "#EF553B"
         },
         "mode": "markers",
         "name": "State House District 34",
         "showlegend": true,
         "subplot": "mapbox",
         "type": "scattermapbox"
        },
        {
         "hovertemplate": "<b>%{hovertext}</b><br><br>NAMELSAD20=State House District 42<br>INTPTLAT20=%{lat}<br>INTPTLON20=%{lon}<extra></extra>",
         "hovertext": [
          "State House District 42"
         ],
         "lat": [
          48.8426531
         ],
         "legendgroup": "State House District 42",
         "lon": [
          -121.8364325
         ],
         "marker": {
          "color": "#00cc96"
         },
         "mode": "markers",
         "name": "State House District 42",
         "showlegend": true,
         "subplot": "mapbox",
         "type": "scattermapbox"
        },
        {
         "hovertemplate": "<b>%{hovertext}</b><br><br>NAMELSAD20=State House District 14<br>INTPTLAT20=%{lat}<br>INTPTLON20=%{lon}<extra></extra>",
         "hovertext": [
          "State House District 14"
         ],
         "lat": [
          46.1725042
         ],
         "legendgroup": "State House District 14",
         "lon": [
          -121.1867353
         ],
         "marker": {
          "color": "#ab63fa"
         },
         "mode": "markers",
         "name": "State House District 14",
         "showlegend": true,
         "subplot": "mapbox",
         "type": "scattermapbox"
        },
        {
         "hovertemplate": "<b>%{hovertext}</b><br><br>NAMELSAD20=State House District 26<br>INTPTLAT20=%{lat}<br>INTPTLON20=%{lon}<extra></extra>",
         "hovertext": [
          "State House District 26"
         ],
         "lat": [
          47.3787676
         ],
         "legendgroup": "State House District 26",
         "lon": [
          -122.6617367
         ],
         "marker": {
          "color": "#FFA15A"
         },
         "mode": "markers",
         "name": "State House District 26",
         "showlegend": true,
         "subplot": "mapbox",
         "type": "scattermapbox"
        },
        {
         "hovertemplate": "<b>%{hovertext}</b><br><br>NAMELSAD20=State House District 7<br>INTPTLAT20=%{lat}<br>INTPTLON20=%{lon}<extra></extra>",
         "hovertext": [
          "State House District 7"
         ],
         "lat": [
          48.520547
         ],
         "legendgroup": "State House District 7",
         "lon": [
          -118.2662938
         ],
         "marker": {
          "color": "#19d3f3"
         },
         "mode": "markers",
         "name": "State House District 7",
         "showlegend": true,
         "subplot": "mapbox",
         "type": "scattermapbox"
        },
        {
         "hovertemplate": "<b>%{hovertext}</b><br><br>NAMELSAD20=State House District 48<br>INTPTLAT20=%{lat}<br>INTPTLON20=%{lon}<extra></extra>",
         "hovertext": [
          "State House District 48"
         ],
         "lat": [
          47.6424723
         ],
         "legendgroup": "State House District 48",
         "lon": [
          -122.1579085
         ],
         "marker": {
          "color": "#FF6692"
         },
         "mode": "markers",
         "name": "State House District 48",
         "showlegend": true,
         "subplot": "mapbox",
         "type": "scattermapbox"
        },
        {
         "hovertemplate": "<b>%{hovertext}</b><br><br>NAMELSAD20=State House District 37<br>INTPTLAT20=%{lat}<br>INTPTLON20=%{lon}<extra></extra>",
         "hovertext": [
          "State House District 37"
         ],
         "lat": [
          47.5507572
         ],
         "legendgroup": "State House District 37",
         "lon": [
          -122.268591
         ],
         "marker": {
          "color": "#B6E880"
         },
         "mode": "markers",
         "name": "State House District 37",
         "showlegend": true,
         "subplot": "mapbox",
         "type": "scattermapbox"
        },
        {
         "hovertemplate": "<b>%{hovertext}</b><br><br>NAMELSAD20=State House District 9<br>INTPTLAT20=%{lat}<br>INTPTLON20=%{lon}<extra></extra>",
         "hovertext": [
          "State House District 9"
         ],
         "lat": [
          46.7982811
         ],
         "legendgroup": "State House District 9",
         "lon": [
          -117.9968634
         ],
         "marker": {
          "color": "#FF97FF"
         },
         "mode": "markers",
         "name": "State House District 9",
         "showlegend": true,
         "subplot": "mapbox",
         "type": "scattermapbox"
        },
        {
         "hovertemplate": "<b>%{hovertext}</b><br><br>NAMELSAD20=State House District 33<br>INTPTLAT20=%{lat}<br>INTPTLON20=%{lon}<extra></extra>",
         "hovertext": [
          "State House District 33"
         ],
         "lat": [
          47.4136898
         ],
         "legendgroup": "State House District 33",
         "lon": [
          -122.2938782
         ],
         "marker": {
          "color": "#FECB52"
         },
         "mode": "markers",
         "name": "State House District 33",
         "showlegend": true,
         "subplot": "mapbox",
         "type": "scattermapbox"
        },
        {
         "hovertemplate": "<b>%{hovertext}</b><br><br>NAMELSAD20=State House District 36<br>INTPTLAT20=%{lat}<br>INTPTLON20=%{lon}<extra></extra>",
         "hovertext": [
          "State House District 36"
         ],
         "lat": [
          47.662063
         ],
         "legendgroup": "State House District 36",
         "lon": [
          -122.4012364
         ],
         "marker": {
          "color": "#636efa"
         },
         "mode": "markers",
         "name": "State House District 36",
         "showlegend": true,
         "subplot": "mapbox",
         "type": "scattermapbox"
        },
        {
         "hovertemplate": "<b>%{hovertext}</b><br><br>NAMELSAD20=State House District 4<br>INTPTLAT20=%{lat}<br>INTPTLON20=%{lon}<extra></extra>",
         "hovertext": [
          "State House District 4"
         ],
         "lat": [
          47.7827811
         ],
         "legendgroup": "State House District 4",
         "lon": [
          -117.1898411
         ],
         "marker": {
          "color": "#EF553B"
         },
         "mode": "markers",
         "name": "State House District 4",
         "showlegend": true,
         "subplot": "mapbox",
         "type": "scattermapbox"
        },
        {
         "hovertemplate": "<b>%{hovertext}</b><br><br>NAMELSAD20=State House District 28<br>INTPTLAT20=%{lat}<br>INTPTLON20=%{lon}<extra></extra>",
         "hovertext": [
          "State House District 28"
         ],
         "lat": [
          47.1083495
         ],
         "legendgroup": "State House District 28",
         "lon": [
          -122.5856449
         ],
         "marker": {
          "color": "#00cc96"
         },
         "mode": "markers",
         "name": "State House District 28",
         "showlegend": true,
         "subplot": "mapbox",
         "type": "scattermapbox"
        },
        {
         "hovertemplate": "<b>%{hovertext}</b><br><br>NAMELSAD20=State House District 38<br>INTPTLAT20=%{lat}<br>INTPTLON20=%{lon}<extra></extra>",
         "hovertext": [
          "State House District 38"
         ],
         "lat": [
          48.0373053
         ],
         "legendgroup": "State House District 38",
         "lon": [
          -122.2465959
         ],
         "marker": {
          "color": "#ab63fa"
         },
         "mode": "markers",
         "name": "State House District 38",
         "showlegend": true,
         "subplot": "mapbox",
         "type": "scattermapbox"
        },
        {
         "hovertemplate": "<b>%{hovertext}</b><br><br>NAMELSAD20=State House District 2<br>INTPTLAT20=%{lat}<br>INTPTLON20=%{lon}<extra></extra>",
         "hovertext": [
          "State House District 2"
         ],
         "lat": [
          46.9113507
         ],
         "legendgroup": "State House District 2",
         "lon": [
          -122.143413
         ],
         "marker": {
          "color": "#FFA15A"
         },
         "mode": "markers",
         "name": "State House District 2",
         "showlegend": true,
         "subplot": "mapbox",
         "type": "scattermapbox"
        },
        {
         "hovertemplate": "<b>%{hovertext}</b><br><br>NAMELSAD20=State House District 39<br>INTPTLAT20=%{lat}<br>INTPTLON20=%{lon}<extra></extra>",
         "hovertext": [
          "State House District 39"
         ],
         "lat": [
          48.1520337
         ],
         "legendgroup": "State House District 39",
         "lon": [
          -121.5317931
         ],
         "marker": {
          "color": "#19d3f3"
         },
         "mode": "markers",
         "name": "State House District 39",
         "showlegend": true,
         "subplot": "mapbox",
         "type": "scattermapbox"
        },
        {
         "hovertemplate": "<b>%{hovertext}</b><br><br>NAMELSAD20=State House District 11<br>INTPTLAT20=%{lat}<br>INTPTLON20=%{lon}<extra></extra>",
         "hovertext": [
          "State House District 11"
         ],
         "lat": [
          47.4563704
         ],
         "legendgroup": "State House District 11",
         "lon": [
          -122.1306536
         ],
         "marker": {
          "color": "#FF6692"
         },
         "mode": "markers",
         "name": "State House District 11",
         "showlegend": true,
         "subplot": "mapbox",
         "type": "scattermapbox"
        },
        {
         "hovertemplate": "<b>%{hovertext}</b><br><br>NAMELSAD20=State House District 32<br>INTPTLAT20=%{lat}<br>INTPTLON20=%{lon}<extra></extra>",
         "hovertext": [
          "State House District 32"
         ],
         "lat": [
          47.7759577
         ],
         "legendgroup": "State House District 32",
         "lon": [
          -122.3547724
         ],
         "marker": {
          "color": "#B6E880"
         },
         "mode": "markers",
         "name": "State House District 32",
         "showlegend": true,
         "subplot": "mapbox",
         "type": "scattermapbox"
        },
        {
         "hovertemplate": "<b>%{hovertext}</b><br><br>NAMELSAD20=State House District 18<br>INTPTLAT20=%{lat}<br>INTPTLON20=%{lon}<extra></extra>",
         "hovertext": [
          "State House District 18"
         ],
         "lat": [
          45.78897
         ],
         "legendgroup": "State House District 18",
         "lon": [
          -122.4672045
         ],
         "marker": {
          "color": "#FF97FF"
         },
         "mode": "markers",
         "name": "State House District 18",
         "showlegend": true,
         "subplot": "mapbox",
         "type": "scattermapbox"
        },
        {
         "hovertemplate": "<b>%{hovertext}</b><br><br>NAMELSAD20=State House District 3<br>INTPTLAT20=%{lat}<br>INTPTLON20=%{lon}<extra></extra>",
         "hovertext": [
          "State House District 3"
         ],
         "lat": [
          47.6777334
         ],
         "legendgroup": "State House District 3",
         "lon": [
          -117.3989343
         ],
         "marker": {
          "color": "#FECB52"
         },
         "mode": "markers",
         "name": "State House District 3",
         "showlegend": true,
         "subplot": "mapbox",
         "type": "scattermapbox"
        },
        {
         "hovertemplate": "<b>%{hovertext}</b><br><br>NAMELSAD20=State House District 29<br>INTPTLAT20=%{lat}<br>INTPTLON20=%{lon}<extra></extra>",
         "hovertext": [
          "State House District 29"
         ],
         "lat": [
          47.1487384
         ],
         "legendgroup": "State House District 29",
         "lon": [
          -122.446322
         ],
         "marker": {
          "color": "#636efa"
         },
         "mode": "markers",
         "name": "State House District 29",
         "showlegend": true,
         "subplot": "mapbox",
         "type": "scattermapbox"
        },
        {
         "hovertemplate": "<b>%{hovertext}</b><br><br>NAMELSAD20=State House District 15<br>INTPTLAT20=%{lat}<br>INTPTLON20=%{lon}<extra></extra>",
         "hovertext": [
          "State House District 15"
         ],
         "lat": [
          46.3842453
         ],
         "legendgroup": "State House District 15",
         "lon": [
          -120.1754966
         ],
         "marker": {
          "color": "#EF553B"
         },
         "mode": "markers",
         "name": "State House District 15",
         "showlegend": true,
         "subplot": "mapbox",
         "type": "scattermapbox"
        },
        {
         "hovertemplate": "<b>%{hovertext}</b><br><br>NAMELSAD20=State House District 44<br>INTPTLAT20=%{lat}<br>INTPTLON20=%{lon}<extra></extra>",
         "hovertext": [
          "State House District 44"
         ],
         "lat": [
          47.9510928
         ],
         "legendgroup": "State House District 44",
         "lon": [
          -122.1048085
         ],
         "marker": {
          "color": "#00cc96"
         },
         "mode": "markers",
         "name": "State House District 44",
         "showlegend": true,
         "subplot": "mapbox",
         "type": "scattermapbox"
        },
        {
         "hovertemplate": "<b>%{hovertext}</b><br><br>NAMELSAD20=State House District 24<br>INTPTLAT20=%{lat}<br>INTPTLON20=%{lon}<extra></extra>",
         "hovertext": [
          "State House District 24"
         ],
         "lat": [
          47.8235763
         ],
         "legendgroup": "State House District 24",
         "lon": [
          -123.8137926
         ],
         "marker": {
          "color": "#ab63fa"
         },
         "mode": "markers",
         "name": "State House District 24",
         "showlegend": true,
         "subplot": "mapbox",
         "type": "scattermapbox"
        },
        {
         "hovertemplate": "<b>%{hovertext}</b><br><br>NAMELSAD20=State House District 41<br>INTPTLAT20=%{lat}<br>INTPTLON20=%{lon}<extra></extra>",
         "hovertext": [
          "State House District 41"
         ],
         "lat": [
          47.5662371
         ],
         "legendgroup": "State House District 41",
         "lon": [
          -122.1408295
         ],
         "marker": {
          "color": "#FFA15A"
         },
         "mode": "markers",
         "name": "State House District 41",
         "showlegend": true,
         "subplot": "mapbox",
         "type": "scattermapbox"
        },
        {
         "hovertemplate": "<b>%{hovertext}</b><br><br>NAMELSAD20=State House District 46<br>INTPTLAT20=%{lat}<br>INTPTLON20=%{lon}<extra></extra>",
         "hovertext": [
          "State House District 46"
         ],
         "lat": [
          47.7135636
         ],
         "legendgroup": "State House District 46",
         "lon": [
          -122.2803905
         ],
         "marker": {
          "color": "#19d3f3"
         },
         "mode": "markers",
         "name": "State House District 46",
         "showlegend": true,
         "subplot": "mapbox",
         "type": "scattermapbox"
        },
        {
         "hovertemplate": "<b>%{hovertext}</b><br><br>NAMELSAD20=State House District 16<br>INTPTLAT20=%{lat}<br>INTPTLON20=%{lon}<extra></extra>",
         "hovertext": [
          "State House District 16"
         ],
         "lat": [
          46.2240918
         ],
         "legendgroup": "State House District 16",
         "lon": [
          -118.7102583
         ],
         "marker": {
          "color": "#FF6692"
         },
         "mode": "markers",
         "name": "State House District 16",
         "showlegend": true,
         "subplot": "mapbox",
         "type": "scattermapbox"
        },
        {
         "hovertemplate": "<b>%{hovertext}</b><br><br>NAMELSAD20=State House District 49<br>INTPTLAT20=%{lat}<br>INTPTLON20=%{lon}<extra></extra>",
         "hovertext": [
          "State House District 49"
         ],
         "lat": [
          45.6624265
         ],
         "legendgroup": "State House District 49",
         "lon": [
          -122.6657493
         ],
         "marker": {
          "color": "#B6E880"
         },
         "mode": "markers",
         "name": "State House District 49",
         "showlegend": true,
         "subplot": "mapbox",
         "type": "scattermapbox"
        },
        {
         "hovertemplate": "<b>%{hovertext}</b><br><br>NAMELSAD20=State House District 17<br>INTPTLAT20=%{lat}<br>INTPTLON20=%{lon}<extra></extra>",
         "hovertext": [
          "State House District 17"
         ],
         "lat": [
          45.7008707
         ],
         "legendgroup": "State House District 17",
         "lon": [
          -122.5553244
         ],
         "marker": {
          "color": "#FF97FF"
         },
         "mode": "markers",
         "name": "State House District 17",
         "showlegend": true,
         "subplot": "mapbox",
         "type": "scattermapbox"
        },
        {
         "hovertemplate": "<b>%{hovertext}</b><br><br>NAMELSAD20=State House District 6<br>INTPTLAT20=%{lat}<br>INTPTLON20=%{lon}<extra></extra>",
         "hovertext": [
          "State House District 6"
         ],
         "lat": [
          47.5906822
         ],
         "legendgroup": "State House District 6",
         "lon": [
          -117.5532449
         ],
         "marker": {
          "color": "#FECB52"
         },
         "mode": "markers",
         "name": "State House District 6",
         "showlegend": true,
         "subplot": "mapbox",
         "type": "scattermapbox"
        },
        {
         "hovertemplate": "<b>%{hovertext}</b><br><br>NAMELSAD20=State House District 20<br>INTPTLAT20=%{lat}<br>INTPTLON20=%{lon}<extra></extra>",
         "hovertext": [
          "State House District 20"
         ],
         "lat": [
          46.4781973
         ],
         "legendgroup": "State House District 20",
         "lon": [
          -122.408342
         ],
         "marker": {
          "color": "#636efa"
         },
         "mode": "markers",
         "name": "State House District 20",
         "showlegend": true,
         "subplot": "mapbox",
         "type": "scattermapbox"
        },
        {
         "hovertemplate": "<b>%{hovertext}</b><br><br>NAMELSAD20=State House District 31<br>INTPTLAT20=%{lat}<br>INTPTLON20=%{lon}<extra></extra>",
         "hovertext": [
          "State House District 31"
         ],
         "lat": [
          47.146854
         ],
         "legendgroup": "State House District 31",
         "lon": [
          -121.7697095
         ],
         "marker": {
          "color": "#EF553B"
         },
         "mode": "markers",
         "name": "State House District 31",
         "showlegend": true,
         "subplot": "mapbox",
         "type": "scattermapbox"
        },
        {
         "hovertemplate": "<b>%{hovertext}</b><br><br>NAMELSAD20=State House District 21<br>INTPTLAT20=%{lat}<br>INTPTLON20=%{lon}<extra></extra>",
         "hovertext": [
          "State House District 21"
         ],
         "lat": [
          47.867766
         ],
         "legendgroup": "State House District 21",
         "lon": [
          -122.3238457
         ],
         "marker": {
          "color": "#00cc96"
         },
         "mode": "markers",
         "name": "State House District 21",
         "showlegend": true,
         "subplot": "mapbox",
         "type": "scattermapbox"
        },
        {
         "hovertemplate": "<b>%{hovertext}</b><br><br>NAMELSAD20=State House District 43<br>INTPTLAT20=%{lat}<br>INTPTLON20=%{lon}<extra></extra>",
         "hovertext": [
          "State House District 43"
         ],
         "lat": [
          47.646263
         ],
         "legendgroup": "State House District 43",
         "lon": [
          -122.317681
         ],
         "marker": {
          "color": "#ab63fa"
         },
         "mode": "markers",
         "name": "State House District 43",
         "showlegend": true,
         "subplot": "mapbox",
         "type": "scattermapbox"
        },
        {
         "hovertemplate": "<b>%{hovertext}</b><br><br>NAMELSAD20=State House District 40<br>INTPTLAT20=%{lat}<br>INTPTLON20=%{lon}<extra></extra>",
         "hovertext": [
          "State House District 40"
         ],
         "lat": [
          48.545938
         ],
         "legendgroup": "State House District 40",
         "lon": [
          -122.7658662
         ],
         "marker": {
          "color": "#FFA15A"
         },
         "mode": "markers",
         "name": "State House District 40",
         "showlegend": true,
         "subplot": "mapbox",
         "type": "scattermapbox"
        },
        {
         "hovertemplate": "<b>%{hovertext}</b><br><br>NAMELSAD20=State House District 19<br>INTPTLAT20=%{lat}<br>INTPTLON20=%{lon}<extra></extra>",
         "hovertext": [
          "State House District 19"
         ],
         "lat": [
          46.5396387
         ],
         "legendgroup": "State House District 19",
         "lon": [
          -123.5443193
         ],
         "marker": {
          "color": "#19d3f3"
         },
         "mode": "markers",
         "name": "State House District 19",
         "showlegend": true,
         "subplot": "mapbox",
         "type": "scattermapbox"
        },
        {
         "hovertemplate": "<b>%{hovertext}</b><br><br>NAMELSAD20=State House District 47<br>INTPTLAT20=%{lat}<br>INTPTLON20=%{lon}<extra></extra>",
         "hovertext": [
          "State House District 47"
         ],
         "lat": [
          47.3539422
         ],
         "legendgroup": "State House District 47",
         "lon": [
          -122.1554458
         ],
         "marker": {
          "color": "#FF6692"
         },
         "mode": "markers",
         "name": "State House District 47",
         "showlegend": true,
         "subplot": "mapbox",
         "type": "scattermapbox"
        },
        {
         "hovertemplate": "<b>%{hovertext}</b><br><br>NAMELSAD20=State House District 25<br>INTPTLAT20=%{lat}<br>INTPTLON20=%{lon}<extra></extra>",
         "hovertext": [
          "State House District 25"
         ],
         "lat": [
          47.1661261
         ],
         "legendgroup": "State House District 25",
         "lon": [
          -122.3239661
         ],
         "marker": {
          "color": "#B6E880"
         },
         "mode": "markers",
         "name": "State House District 25",
         "showlegend": true,
         "subplot": "mapbox",
         "type": "scattermapbox"
        },
        {
         "hovertemplate": "<b>%{hovertext}</b><br><br>NAMELSAD20=State House District 12<br>INTPTLAT20=%{lat}<br>INTPTLON20=%{lon}<extra></extra>",
         "hovertext": [
          "State House District 12"
         ],
         "lat": [
          48.0360844
         ],
         "legendgroup": "State House District 12",
         "lon": [
          -120.0409835
         ],
         "marker": {
          "color": "#FF97FF"
         },
         "mode": "markers",
         "name": "State House District 12",
         "showlegend": true,
         "subplot": "mapbox",
         "type": "scattermapbox"
        }
       ],
       "layout": {
        "legend": {
         "title": {
          "text": "NAMELSAD20"
         },
         "tracegroupgap": 0
        },
        "mapbox": {
         "center": {
          "lat": 47.3,
          "lon": -120.44
         },
         "domain": {
          "x": [
           0,
           1
          ],
          "y": [
           0,
           1
          ]
         },
         "style": "carto-positron",
         "zoom": 5.7
        },
        "margin": {
         "t": 60
        },
        "template": {
         "data": {
          "bar": [
           {
            "error_x": {
             "color": "#2a3f5f"
            },
            "error_y": {
             "color": "#2a3f5f"
            },
            "marker": {
             "line": {
              "color": "#E5ECF6",
              "width": 0.5
             },
             "pattern": {
              "fillmode": "overlay",
              "size": 10,
              "solidity": 0.2
             }
            },
            "type": "bar"
           }
          ],
          "barpolar": [
           {
            "marker": {
             "line": {
              "color": "#E5ECF6",
              "width": 0.5
             },
             "pattern": {
              "fillmode": "overlay",
              "size": 10,
              "solidity": 0.2
             }
            },
            "type": "barpolar"
           }
          ],
          "carpet": [
           {
            "aaxis": {
             "endlinecolor": "#2a3f5f",
             "gridcolor": "white",
             "linecolor": "white",
             "minorgridcolor": "white",
             "startlinecolor": "#2a3f5f"
            },
            "baxis": {
             "endlinecolor": "#2a3f5f",
             "gridcolor": "white",
             "linecolor": "white",
             "minorgridcolor": "white",
             "startlinecolor": "#2a3f5f"
            },
            "type": "carpet"
           }
          ],
          "choropleth": [
           {
            "colorbar": {
             "outlinewidth": 0,
             "ticks": ""
            },
            "type": "choropleth"
           }
          ],
          "contour": [
           {
            "colorbar": {
             "outlinewidth": 0,
             "ticks": ""
            },
            "colorscale": [
             [
              0,
              "#0d0887"
             ],
             [
              0.1111111111111111,
              "#46039f"
             ],
             [
              0.2222222222222222,
              "#7201a8"
             ],
             [
              0.3333333333333333,
              "#9c179e"
             ],
             [
              0.4444444444444444,
              "#bd3786"
             ],
             [
              0.5555555555555556,
              "#d8576b"
             ],
             [
              0.6666666666666666,
              "#ed7953"
             ],
             [
              0.7777777777777778,
              "#fb9f3a"
             ],
             [
              0.8888888888888888,
              "#fdca26"
             ],
             [
              1,
              "#f0f921"
             ]
            ],
            "type": "contour"
           }
          ],
          "contourcarpet": [
           {
            "colorbar": {
             "outlinewidth": 0,
             "ticks": ""
            },
            "type": "contourcarpet"
           }
          ],
          "heatmap": [
           {
            "colorbar": {
             "outlinewidth": 0,
             "ticks": ""
            },
            "colorscale": [
             [
              0,
              "#0d0887"
             ],
             [
              0.1111111111111111,
              "#46039f"
             ],
             [
              0.2222222222222222,
              "#7201a8"
             ],
             [
              0.3333333333333333,
              "#9c179e"
             ],
             [
              0.4444444444444444,
              "#bd3786"
             ],
             [
              0.5555555555555556,
              "#d8576b"
             ],
             [
              0.6666666666666666,
              "#ed7953"
             ],
             [
              0.7777777777777778,
              "#fb9f3a"
             ],
             [
              0.8888888888888888,
              "#fdca26"
             ],
             [
              1,
              "#f0f921"
             ]
            ],
            "type": "heatmap"
           }
          ],
          "heatmapgl": [
           {
            "colorbar": {
             "outlinewidth": 0,
             "ticks": ""
            },
            "colorscale": [
             [
              0,
              "#0d0887"
             ],
             [
              0.1111111111111111,
              "#46039f"
             ],
             [
              0.2222222222222222,
              "#7201a8"
             ],
             [
              0.3333333333333333,
              "#9c179e"
             ],
             [
              0.4444444444444444,
              "#bd3786"
             ],
             [
              0.5555555555555556,
              "#d8576b"
             ],
             [
              0.6666666666666666,
              "#ed7953"
             ],
             [
              0.7777777777777778,
              "#fb9f3a"
             ],
             [
              0.8888888888888888,
              "#fdca26"
             ],
             [
              1,
              "#f0f921"
             ]
            ],
            "type": "heatmapgl"
           }
          ],
          "histogram": [
           {
            "marker": {
             "pattern": {
              "fillmode": "overlay",
              "size": 10,
              "solidity": 0.2
             }
            },
            "type": "histogram"
           }
          ],
          "histogram2d": [
           {
            "colorbar": {
             "outlinewidth": 0,
             "ticks": ""
            },
            "colorscale": [
             [
              0,
              "#0d0887"
             ],
             [
              0.1111111111111111,
              "#46039f"
             ],
             [
              0.2222222222222222,
              "#7201a8"
             ],
             [
              0.3333333333333333,
              "#9c179e"
             ],
             [
              0.4444444444444444,
              "#bd3786"
             ],
             [
              0.5555555555555556,
              "#d8576b"
             ],
             [
              0.6666666666666666,
              "#ed7953"
             ],
             [
              0.7777777777777778,
              "#fb9f3a"
             ],
             [
              0.8888888888888888,
              "#fdca26"
             ],
             [
              1,
              "#f0f921"
             ]
            ],
            "type": "histogram2d"
           }
          ],
          "histogram2dcontour": [
           {
            "colorbar": {
             "outlinewidth": 0,
             "ticks": ""
            },
            "colorscale": [
             [
              0,
              "#0d0887"
             ],
             [
              0.1111111111111111,
              "#46039f"
             ],
             [
              0.2222222222222222,
              "#7201a8"
             ],
             [
              0.3333333333333333,
              "#9c179e"
             ],
             [
              0.4444444444444444,
              "#bd3786"
             ],
             [
              0.5555555555555556,
              "#d8576b"
             ],
             [
              0.6666666666666666,
              "#ed7953"
             ],
             [
              0.7777777777777778,
              "#fb9f3a"
             ],
             [
              0.8888888888888888,
              "#fdca26"
             ],
             [
              1,
              "#f0f921"
             ]
            ],
            "type": "histogram2dcontour"
           }
          ],
          "mesh3d": [
           {
            "colorbar": {
             "outlinewidth": 0,
             "ticks": ""
            },
            "type": "mesh3d"
           }
          ],
          "parcoords": [
           {
            "line": {
             "colorbar": {
              "outlinewidth": 0,
              "ticks": ""
             }
            },
            "type": "parcoords"
           }
          ],
          "pie": [
           {
            "automargin": true,
            "type": "pie"
           }
          ],
          "scatter": [
           {
            "fillpattern": {
             "fillmode": "overlay",
             "size": 10,
             "solidity": 0.2
            },
            "type": "scatter"
           }
          ],
          "scatter3d": [
           {
            "line": {
             "colorbar": {
              "outlinewidth": 0,
              "ticks": ""
             }
            },
            "marker": {
             "colorbar": {
              "outlinewidth": 0,
              "ticks": ""
             }
            },
            "type": "scatter3d"
           }
          ],
          "scattercarpet": [
           {
            "marker": {
             "colorbar": {
              "outlinewidth": 0,
              "ticks": ""
             }
            },
            "type": "scattercarpet"
           }
          ],
          "scattergeo": [
           {
            "marker": {
             "colorbar": {
              "outlinewidth": 0,
              "ticks": ""
             }
            },
            "type": "scattergeo"
           }
          ],
          "scattergl": [
           {
            "marker": {
             "colorbar": {
              "outlinewidth": 0,
              "ticks": ""
             }
            },
            "type": "scattergl"
           }
          ],
          "scattermapbox": [
           {
            "marker": {
             "colorbar": {
              "outlinewidth": 0,
              "ticks": ""
             }
            },
            "type": "scattermapbox"
           }
          ],
          "scatterpolar": [
           {
            "marker": {
             "colorbar": {
              "outlinewidth": 0,
              "ticks": ""
             }
            },
            "type": "scatterpolar"
           }
          ],
          "scatterpolargl": [
           {
            "marker": {
             "colorbar": {
              "outlinewidth": 0,
              "ticks": ""
             }
            },
            "type": "scatterpolargl"
           }
          ],
          "scatterternary": [
           {
            "marker": {
             "colorbar": {
              "outlinewidth": 0,
              "ticks": ""
             }
            },
            "type": "scatterternary"
           }
          ],
          "surface": [
           {
            "colorbar": {
             "outlinewidth": 0,
             "ticks": ""
            },
            "colorscale": [
             [
              0,
              "#0d0887"
             ],
             [
              0.1111111111111111,
              "#46039f"
             ],
             [
              0.2222222222222222,
              "#7201a8"
             ],
             [
              0.3333333333333333,
              "#9c179e"
             ],
             [
              0.4444444444444444,
              "#bd3786"
             ],
             [
              0.5555555555555556,
              "#d8576b"
             ],
             [
              0.6666666666666666,
              "#ed7953"
             ],
             [
              0.7777777777777778,
              "#fb9f3a"
             ],
             [
              0.8888888888888888,
              "#fdca26"
             ],
             [
              1,
              "#f0f921"
             ]
            ],
            "type": "surface"
           }
          ],
          "table": [
           {
            "cells": {
             "fill": {
              "color": "#EBF0F8"
             },
             "line": {
              "color": "white"
             }
            },
            "header": {
             "fill": {
              "color": "#C8D4E3"
             },
             "line": {
              "color": "white"
             }
            },
            "type": "table"
           }
          ]
         },
         "layout": {
          "annotationdefaults": {
           "arrowcolor": "#2a3f5f",
           "arrowhead": 0,
           "arrowwidth": 1
          },
          "autotypenumbers": "strict",
          "coloraxis": {
           "colorbar": {
            "outlinewidth": 0,
            "ticks": ""
           }
          },
          "colorscale": {
           "diverging": [
            [
             0,
             "#8e0152"
            ],
            [
             0.1,
             "#c51b7d"
            ],
            [
             0.2,
             "#de77ae"
            ],
            [
             0.3,
             "#f1b6da"
            ],
            [
             0.4,
             "#fde0ef"
            ],
            [
             0.5,
             "#f7f7f7"
            ],
            [
             0.6,
             "#e6f5d0"
            ],
            [
             0.7,
             "#b8e186"
            ],
            [
             0.8,
             "#7fbc41"
            ],
            [
             0.9,
             "#4d9221"
            ],
            [
             1,
             "#276419"
            ]
           ],
           "sequential": [
            [
             0,
             "#0d0887"
            ],
            [
             0.1111111111111111,
             "#46039f"
            ],
            [
             0.2222222222222222,
             "#7201a8"
            ],
            [
             0.3333333333333333,
             "#9c179e"
            ],
            [
             0.4444444444444444,
             "#bd3786"
            ],
            [
             0.5555555555555556,
             "#d8576b"
            ],
            [
             0.6666666666666666,
             "#ed7953"
            ],
            [
             0.7777777777777778,
             "#fb9f3a"
            ],
            [
             0.8888888888888888,
             "#fdca26"
            ],
            [
             1,
             "#f0f921"
            ]
           ],
           "sequentialminus": [
            [
             0,
             "#0d0887"
            ],
            [
             0.1111111111111111,
             "#46039f"
            ],
            [
             0.2222222222222222,
             "#7201a8"
            ],
            [
             0.3333333333333333,
             "#9c179e"
            ],
            [
             0.4444444444444444,
             "#bd3786"
            ],
            [
             0.5555555555555556,
             "#d8576b"
            ],
            [
             0.6666666666666666,
             "#ed7953"
            ],
            [
             0.7777777777777778,
             "#fb9f3a"
            ],
            [
             0.8888888888888888,
             "#fdca26"
            ],
            [
             1,
             "#f0f921"
            ]
           ]
          },
          "colorway": [
           "#636efa",
           "#EF553B",
           "#00cc96",
           "#ab63fa",
           "#FFA15A",
           "#19d3f3",
           "#FF6692",
           "#B6E880",
           "#FF97FF",
           "#FECB52"
          ],
          "font": {
           "color": "#2a3f5f"
          },
          "geo": {
           "bgcolor": "white",
           "lakecolor": "white",
           "landcolor": "#E5ECF6",
           "showlakes": true,
           "showland": true,
           "subunitcolor": "white"
          },
          "hoverlabel": {
           "align": "left"
          },
          "hovermode": "closest",
          "mapbox": {
           "style": "light"
          },
          "paper_bgcolor": "white",
          "plot_bgcolor": "#E5ECF6",
          "polar": {
           "angularaxis": {
            "gridcolor": "white",
            "linecolor": "white",
            "ticks": ""
           },
           "bgcolor": "#E5ECF6",
           "radialaxis": {
            "gridcolor": "white",
            "linecolor": "white",
            "ticks": ""
           }
          },
          "scene": {
           "xaxis": {
            "backgroundcolor": "#E5ECF6",
            "gridcolor": "white",
            "gridwidth": 2,
            "linecolor": "white",
            "showbackground": true,
            "ticks": "",
            "zerolinecolor": "white"
           },
           "yaxis": {
            "backgroundcolor": "#E5ECF6",
            "gridcolor": "white",
            "gridwidth": 2,
            "linecolor": "white",
            "showbackground": true,
            "ticks": "",
            "zerolinecolor": "white"
           },
           "zaxis": {
            "backgroundcolor": "#E5ECF6",
            "gridcolor": "white",
            "gridwidth": 2,
            "linecolor": "white",
            "showbackground": true,
            "ticks": "",
            "zerolinecolor": "white"
           }
          },
          "shapedefaults": {
           "line": {
            "color": "#2a3f5f"
           }
          },
          "ternary": {
           "aaxis": {
            "gridcolor": "white",
            "linecolor": "white",
            "ticks": ""
           },
           "baxis": {
            "gridcolor": "white",
            "linecolor": "white",
            "ticks": ""
           },
           "bgcolor": "#E5ECF6",
           "caxis": {
            "gridcolor": "white",
            "linecolor": "white",
            "ticks": ""
           }
          },
          "title": {
           "x": 0.05
          },
          "xaxis": {
           "automargin": true,
           "gridcolor": "white",
           "linecolor": "white",
           "ticks": "",
           "title": {
            "standoff": 15
           },
           "zerolinecolor": "white",
           "zerolinewidth": 2
          },
          "yaxis": {
           "automargin": true,
           "gridcolor": "white",
           "linecolor": "white",
           "ticks": "",
           "title": {
            "standoff": 15
           },
           "zerolinecolor": "white",
           "zerolinewidth": 2
          }
         }
        },
        "title": {
         "text": "SHRD"
        }
       }
      },
      "text/html": [
       "<div>                            <div id=\"b5e50d80-6451-4ca5-8690-d1380e81554d\" class=\"plotly-graph-div\" style=\"height:525px; width:100%;\"></div>            <script type=\"text/javascript\">                require([\"plotly\"], function(Plotly) {                    window.PLOTLYENV=window.PLOTLYENV || {};                                    if (document.getElementById(\"b5e50d80-6451-4ca5-8690-d1380e81554d\")) {                    Plotly.newPlot(                        \"b5e50d80-6451-4ca5-8690-d1380e81554d\",                        [{\"hovertemplate\":\"<b>%{hovertext}</b><br><br>NAMELSAD20=State House District 1<br>INTPTLAT20=%{lat}<br>INTPTLON20=%{lon}<extra></extra>\",\"hovertext\":[\"State House District 1\"],\"lat\":[47.7952818],\"legendgroup\":\"State House District 1\",\"lon\":[-122.1635472],\"marker\":{\"color\":\"#636efa\"},\"mode\":\"markers\",\"name\":\"State House District 1\",\"showlegend\":true,\"subplot\":\"mapbox\",\"type\":\"scattermapbox\"},{\"hovertemplate\":\"<b>%{hovertext}</b><br><br>NAMELSAD20=State House District 35<br>INTPTLAT20=%{lat}<br>INTPTLON20=%{lon}<extra></extra>\",\"hovertext\":[\"State House District 35\"],\"lat\":[47.3101817],\"legendgroup\":\"State House District 35\",\"lon\":[-123.107767],\"marker\":{\"color\":\"#EF553B\"},\"mode\":\"markers\",\"name\":\"State House District 35\",\"showlegend\":true,\"subplot\":\"mapbox\",\"type\":\"scattermapbox\"},{\"hovertemplate\":\"<b>%{hovertext}</b><br><br>NAMELSAD20=State House District 45<br>INTPTLAT20=%{lat}<br>INTPTLON20=%{lon}<extra></extra>\",\"hovertext\":[\"State House District 45\"],\"lat\":[47.7067687],\"legendgroup\":\"State House District 45\",\"lon\":[-122.0528827],\"marker\":{\"color\":\"#00cc96\"},\"mode\":\"markers\",\"name\":\"State House District 45\",\"showlegend\":true,\"subplot\":\"mapbox\",\"type\":\"scattermapbox\"},{\"hovertemplate\":\"<b>%{hovertext}</b><br><br>NAMELSAD20=State House District 23<br>INTPTLAT20=%{lat}<br>INTPTLON20=%{lon}<extra></extra>\",\"hovertext\":[\"State House District 23\"],\"lat\":[47.7425865],\"legendgroup\":\"State House District 23\",\"lon\":[-122.5753082],\"marker\":{\"color\":\"#ab63fa\"},\"mode\":\"markers\",\"name\":\"State House District 23\",\"showlegend\":true,\"subplot\":\"mapbox\",\"type\":\"scattermapbox\"},{\"hovertemplate\":\"<b>%{hovertext}</b><br><br>NAMELSAD20=State House District 13<br>INTPTLAT20=%{lat}<br>INTPTLON20=%{lon}<extra></extra>\",\"hovertext\":[\"State House District 13\"],\"lat\":[47.276937],\"legendgroup\":\"State House District 13\",\"lon\":[-119.5433204],\"marker\":{\"color\":\"#FFA15A\"},\"mode\":\"markers\",\"name\":\"State House District 13\",\"showlegend\":true,\"subplot\":\"mapbox\",\"type\":\"scattermapbox\"},{\"hovertemplate\":\"<b>%{hovertext}</b><br><br>NAMELSAD20=State House District 10<br>INTPTLAT20=%{lat}<br>INTPTLON20=%{lon}<extra></extra>\",\"hovertext\":[\"State House District 10\"],\"lat\":[48.2463071],\"legendgroup\":\"State House District 10\",\"lon\":[-122.452317],\"marker\":{\"color\":\"#19d3f3\"},\"mode\":\"markers\",\"name\":\"State House District 10\",\"showlegend\":true,\"subplot\":\"mapbox\",\"type\":\"scattermapbox\"},{\"hovertemplate\":\"<b>%{hovertext}</b><br><br>NAMELSAD20=State House District 8<br>INTPTLAT20=%{lat}<br>INTPTLON20=%{lon}<extra></extra>\",\"hovertext\":[\"State House District 8\"],\"lat\":[46.4683252],\"legendgroup\":\"State House District 8\",\"lon\":[-119.4335387],\"marker\":{\"color\":\"#FF6692\"},\"mode\":\"markers\",\"name\":\"State House District 8\",\"showlegend\":true,\"subplot\":\"mapbox\",\"type\":\"scattermapbox\"},{\"hovertemplate\":\"<b>%{hovertext}</b><br><br>NAMELSAD20=State House District 22<br>INTPTLAT20=%{lat}<br>INTPTLON20=%{lon}<extra></extra>\",\"hovertext\":[\"State House District 22\"],\"lat\":[47.0767263],\"legendgroup\":\"State House District 22\",\"lon\":[-122.8614269],\"marker\":{\"color\":\"#B6E880\"},\"mode\":\"markers\",\"name\":\"State House District 22\",\"showlegend\":true,\"subplot\":\"mapbox\",\"type\":\"scattermapbox\"},{\"hovertemplate\":\"<b>%{hovertext}</b><br><br>NAMELSAD20=State House District 5<br>INTPTLAT20=%{lat}<br>INTPTLON20=%{lon}<extra></extra>\",\"hovertext\":[\"State House District 5\"],\"lat\":[47.5145784],\"legendgroup\":\"State House District 5\",\"lon\":[-121.7797207],\"marker\":{\"color\":\"#FF97FF\"},\"mode\":\"markers\",\"name\":\"State House District 5\",\"showlegend\":true,\"subplot\":\"mapbox\",\"type\":\"scattermapbox\"},{\"hovertemplate\":\"<b>%{hovertext}</b><br><br>NAMELSAD20=State House District 30<br>INTPTLAT20=%{lat}<br>INTPTLON20=%{lon}<extra></extra>\",\"hovertext\":[\"State House District 30\"],\"lat\":[47.3067103],\"legendgroup\":\"State House District 30\",\"lon\":[-122.3220981],\"marker\":{\"color\":\"#FECB52\"},\"mode\":\"markers\",\"name\":\"State House District 30\",\"showlegend\":true,\"subplot\":\"mapbox\",\"type\":\"scattermapbox\"},{\"hovertemplate\":\"<b>%{hovertext}</b><br><br>NAMELSAD20=State House District 27<br>INTPTLAT20=%{lat}<br>INTPTLON20=%{lon}<extra></extra>\",\"hovertext\":[\"State House District 27\"],\"lat\":[47.2733562],\"legendgroup\":\"State House District 27\",\"lon\":[-122.4580971],\"marker\":{\"color\":\"#636efa\"},\"mode\":\"markers\",\"name\":\"State House District 27\",\"showlegend\":true,\"subplot\":\"mapbox\",\"type\":\"scattermapbox\"},{\"hovertemplate\":\"<b>%{hovertext}</b><br><br>NAMELSAD20=State House District 34<br>INTPTLAT20=%{lat}<br>INTPTLON20=%{lon}<extra></extra>\",\"hovertext\":[\"State House District 34\"],\"lat\":[47.4669023],\"legendgroup\":\"State House District 34\",\"lon\":[-122.4363322],\"marker\":{\"color\":\"#EF553B\"},\"mode\":\"markers\",\"name\":\"State House District 34\",\"showlegend\":true,\"subplot\":\"mapbox\",\"type\":\"scattermapbox\"},{\"hovertemplate\":\"<b>%{hovertext}</b><br><br>NAMELSAD20=State House District 42<br>INTPTLAT20=%{lat}<br>INTPTLON20=%{lon}<extra></extra>\",\"hovertext\":[\"State House District 42\"],\"lat\":[48.8426531],\"legendgroup\":\"State House District 42\",\"lon\":[-121.8364325],\"marker\":{\"color\":\"#00cc96\"},\"mode\":\"markers\",\"name\":\"State House District 42\",\"showlegend\":true,\"subplot\":\"mapbox\",\"type\":\"scattermapbox\"},{\"hovertemplate\":\"<b>%{hovertext}</b><br><br>NAMELSAD20=State House District 14<br>INTPTLAT20=%{lat}<br>INTPTLON20=%{lon}<extra></extra>\",\"hovertext\":[\"State House District 14\"],\"lat\":[46.1725042],\"legendgroup\":\"State House District 14\",\"lon\":[-121.1867353],\"marker\":{\"color\":\"#ab63fa\"},\"mode\":\"markers\",\"name\":\"State House District 14\",\"showlegend\":true,\"subplot\":\"mapbox\",\"type\":\"scattermapbox\"},{\"hovertemplate\":\"<b>%{hovertext}</b><br><br>NAMELSAD20=State House District 26<br>INTPTLAT20=%{lat}<br>INTPTLON20=%{lon}<extra></extra>\",\"hovertext\":[\"State House District 26\"],\"lat\":[47.3787676],\"legendgroup\":\"State House District 26\",\"lon\":[-122.6617367],\"marker\":{\"color\":\"#FFA15A\"},\"mode\":\"markers\",\"name\":\"State House District 26\",\"showlegend\":true,\"subplot\":\"mapbox\",\"type\":\"scattermapbox\"},{\"hovertemplate\":\"<b>%{hovertext}</b><br><br>NAMELSAD20=State House District 7<br>INTPTLAT20=%{lat}<br>INTPTLON20=%{lon}<extra></extra>\",\"hovertext\":[\"State House District 7\"],\"lat\":[48.520547],\"legendgroup\":\"State House District 7\",\"lon\":[-118.2662938],\"marker\":{\"color\":\"#19d3f3\"},\"mode\":\"markers\",\"name\":\"State House District 7\",\"showlegend\":true,\"subplot\":\"mapbox\",\"type\":\"scattermapbox\"},{\"hovertemplate\":\"<b>%{hovertext}</b><br><br>NAMELSAD20=State House District 48<br>INTPTLAT20=%{lat}<br>INTPTLON20=%{lon}<extra></extra>\",\"hovertext\":[\"State House District 48\"],\"lat\":[47.6424723],\"legendgroup\":\"State House District 48\",\"lon\":[-122.1579085],\"marker\":{\"color\":\"#FF6692\"},\"mode\":\"markers\",\"name\":\"State House District 48\",\"showlegend\":true,\"subplot\":\"mapbox\",\"type\":\"scattermapbox\"},{\"hovertemplate\":\"<b>%{hovertext}</b><br><br>NAMELSAD20=State House District 37<br>INTPTLAT20=%{lat}<br>INTPTLON20=%{lon}<extra></extra>\",\"hovertext\":[\"State House District 37\"],\"lat\":[47.5507572],\"legendgroup\":\"State House District 37\",\"lon\":[-122.268591],\"marker\":{\"color\":\"#B6E880\"},\"mode\":\"markers\",\"name\":\"State House District 37\",\"showlegend\":true,\"subplot\":\"mapbox\",\"type\":\"scattermapbox\"},{\"hovertemplate\":\"<b>%{hovertext}</b><br><br>NAMELSAD20=State House District 9<br>INTPTLAT20=%{lat}<br>INTPTLON20=%{lon}<extra></extra>\",\"hovertext\":[\"State House District 9\"],\"lat\":[46.7982811],\"legendgroup\":\"State House District 9\",\"lon\":[-117.9968634],\"marker\":{\"color\":\"#FF97FF\"},\"mode\":\"markers\",\"name\":\"State House District 9\",\"showlegend\":true,\"subplot\":\"mapbox\",\"type\":\"scattermapbox\"},{\"hovertemplate\":\"<b>%{hovertext}</b><br><br>NAMELSAD20=State House District 33<br>INTPTLAT20=%{lat}<br>INTPTLON20=%{lon}<extra></extra>\",\"hovertext\":[\"State House District 33\"],\"lat\":[47.4136898],\"legendgroup\":\"State House District 33\",\"lon\":[-122.2938782],\"marker\":{\"color\":\"#FECB52\"},\"mode\":\"markers\",\"name\":\"State House District 33\",\"showlegend\":true,\"subplot\":\"mapbox\",\"type\":\"scattermapbox\"},{\"hovertemplate\":\"<b>%{hovertext}</b><br><br>NAMELSAD20=State House District 36<br>INTPTLAT20=%{lat}<br>INTPTLON20=%{lon}<extra></extra>\",\"hovertext\":[\"State House District 36\"],\"lat\":[47.662063],\"legendgroup\":\"State House District 36\",\"lon\":[-122.4012364],\"marker\":{\"color\":\"#636efa\"},\"mode\":\"markers\",\"name\":\"State House District 36\",\"showlegend\":true,\"subplot\":\"mapbox\",\"type\":\"scattermapbox\"},{\"hovertemplate\":\"<b>%{hovertext}</b><br><br>NAMELSAD20=State House District 4<br>INTPTLAT20=%{lat}<br>INTPTLON20=%{lon}<extra></extra>\",\"hovertext\":[\"State House District 4\"],\"lat\":[47.7827811],\"legendgroup\":\"State House District 4\",\"lon\":[-117.1898411],\"marker\":{\"color\":\"#EF553B\"},\"mode\":\"markers\",\"name\":\"State House District 4\",\"showlegend\":true,\"subplot\":\"mapbox\",\"type\":\"scattermapbox\"},{\"hovertemplate\":\"<b>%{hovertext}</b><br><br>NAMELSAD20=State House District 28<br>INTPTLAT20=%{lat}<br>INTPTLON20=%{lon}<extra></extra>\",\"hovertext\":[\"State House District 28\"],\"lat\":[47.1083495],\"legendgroup\":\"State House District 28\",\"lon\":[-122.5856449],\"marker\":{\"color\":\"#00cc96\"},\"mode\":\"markers\",\"name\":\"State House District 28\",\"showlegend\":true,\"subplot\":\"mapbox\",\"type\":\"scattermapbox\"},{\"hovertemplate\":\"<b>%{hovertext}</b><br><br>NAMELSAD20=State House District 38<br>INTPTLAT20=%{lat}<br>INTPTLON20=%{lon}<extra></extra>\",\"hovertext\":[\"State House District 38\"],\"lat\":[48.0373053],\"legendgroup\":\"State House District 38\",\"lon\":[-122.2465959],\"marker\":{\"color\":\"#ab63fa\"},\"mode\":\"markers\",\"name\":\"State House District 38\",\"showlegend\":true,\"subplot\":\"mapbox\",\"type\":\"scattermapbox\"},{\"hovertemplate\":\"<b>%{hovertext}</b><br><br>NAMELSAD20=State House District 2<br>INTPTLAT20=%{lat}<br>INTPTLON20=%{lon}<extra></extra>\",\"hovertext\":[\"State House District 2\"],\"lat\":[46.9113507],\"legendgroup\":\"State House District 2\",\"lon\":[-122.143413],\"marker\":{\"color\":\"#FFA15A\"},\"mode\":\"markers\",\"name\":\"State House District 2\",\"showlegend\":true,\"subplot\":\"mapbox\",\"type\":\"scattermapbox\"},{\"hovertemplate\":\"<b>%{hovertext}</b><br><br>NAMELSAD20=State House District 39<br>INTPTLAT20=%{lat}<br>INTPTLON20=%{lon}<extra></extra>\",\"hovertext\":[\"State House District 39\"],\"lat\":[48.1520337],\"legendgroup\":\"State House District 39\",\"lon\":[-121.5317931],\"marker\":{\"color\":\"#19d3f3\"},\"mode\":\"markers\",\"name\":\"State House District 39\",\"showlegend\":true,\"subplot\":\"mapbox\",\"type\":\"scattermapbox\"},{\"hovertemplate\":\"<b>%{hovertext}</b><br><br>NAMELSAD20=State House District 11<br>INTPTLAT20=%{lat}<br>INTPTLON20=%{lon}<extra></extra>\",\"hovertext\":[\"State House District 11\"],\"lat\":[47.4563704],\"legendgroup\":\"State House District 11\",\"lon\":[-122.1306536],\"marker\":{\"color\":\"#FF6692\"},\"mode\":\"markers\",\"name\":\"State House District 11\",\"showlegend\":true,\"subplot\":\"mapbox\",\"type\":\"scattermapbox\"},{\"hovertemplate\":\"<b>%{hovertext}</b><br><br>NAMELSAD20=State House District 32<br>INTPTLAT20=%{lat}<br>INTPTLON20=%{lon}<extra></extra>\",\"hovertext\":[\"State House District 32\"],\"lat\":[47.7759577],\"legendgroup\":\"State House District 32\",\"lon\":[-122.3547724],\"marker\":{\"color\":\"#B6E880\"},\"mode\":\"markers\",\"name\":\"State House District 32\",\"showlegend\":true,\"subplot\":\"mapbox\",\"type\":\"scattermapbox\"},{\"hovertemplate\":\"<b>%{hovertext}</b><br><br>NAMELSAD20=State House District 18<br>INTPTLAT20=%{lat}<br>INTPTLON20=%{lon}<extra></extra>\",\"hovertext\":[\"State House District 18\"],\"lat\":[45.78897],\"legendgroup\":\"State House District 18\",\"lon\":[-122.4672045],\"marker\":{\"color\":\"#FF97FF\"},\"mode\":\"markers\",\"name\":\"State House District 18\",\"showlegend\":true,\"subplot\":\"mapbox\",\"type\":\"scattermapbox\"},{\"hovertemplate\":\"<b>%{hovertext}</b><br><br>NAMELSAD20=State House District 3<br>INTPTLAT20=%{lat}<br>INTPTLON20=%{lon}<extra></extra>\",\"hovertext\":[\"State House District 3\"],\"lat\":[47.6777334],\"legendgroup\":\"State House District 3\",\"lon\":[-117.3989343],\"marker\":{\"color\":\"#FECB52\"},\"mode\":\"markers\",\"name\":\"State House District 3\",\"showlegend\":true,\"subplot\":\"mapbox\",\"type\":\"scattermapbox\"},{\"hovertemplate\":\"<b>%{hovertext}</b><br><br>NAMELSAD20=State House District 29<br>INTPTLAT20=%{lat}<br>INTPTLON20=%{lon}<extra></extra>\",\"hovertext\":[\"State House District 29\"],\"lat\":[47.1487384],\"legendgroup\":\"State House District 29\",\"lon\":[-122.446322],\"marker\":{\"color\":\"#636efa\"},\"mode\":\"markers\",\"name\":\"State House District 29\",\"showlegend\":true,\"subplot\":\"mapbox\",\"type\":\"scattermapbox\"},{\"hovertemplate\":\"<b>%{hovertext}</b><br><br>NAMELSAD20=State House District 15<br>INTPTLAT20=%{lat}<br>INTPTLON20=%{lon}<extra></extra>\",\"hovertext\":[\"State House District 15\"],\"lat\":[46.3842453],\"legendgroup\":\"State House District 15\",\"lon\":[-120.1754966],\"marker\":{\"color\":\"#EF553B\"},\"mode\":\"markers\",\"name\":\"State House District 15\",\"showlegend\":true,\"subplot\":\"mapbox\",\"type\":\"scattermapbox\"},{\"hovertemplate\":\"<b>%{hovertext}</b><br><br>NAMELSAD20=State House District 44<br>INTPTLAT20=%{lat}<br>INTPTLON20=%{lon}<extra></extra>\",\"hovertext\":[\"State House District 44\"],\"lat\":[47.9510928],\"legendgroup\":\"State House District 44\",\"lon\":[-122.1048085],\"marker\":{\"color\":\"#00cc96\"},\"mode\":\"markers\",\"name\":\"State House District 44\",\"showlegend\":true,\"subplot\":\"mapbox\",\"type\":\"scattermapbox\"},{\"hovertemplate\":\"<b>%{hovertext}</b><br><br>NAMELSAD20=State House District 24<br>INTPTLAT20=%{lat}<br>INTPTLON20=%{lon}<extra></extra>\",\"hovertext\":[\"State House District 24\"],\"lat\":[47.8235763],\"legendgroup\":\"State House District 24\",\"lon\":[-123.8137926],\"marker\":{\"color\":\"#ab63fa\"},\"mode\":\"markers\",\"name\":\"State House District 24\",\"showlegend\":true,\"subplot\":\"mapbox\",\"type\":\"scattermapbox\"},{\"hovertemplate\":\"<b>%{hovertext}</b><br><br>NAMELSAD20=State House District 41<br>INTPTLAT20=%{lat}<br>INTPTLON20=%{lon}<extra></extra>\",\"hovertext\":[\"State House District 41\"],\"lat\":[47.5662371],\"legendgroup\":\"State House District 41\",\"lon\":[-122.1408295],\"marker\":{\"color\":\"#FFA15A\"},\"mode\":\"markers\",\"name\":\"State House District 41\",\"showlegend\":true,\"subplot\":\"mapbox\",\"type\":\"scattermapbox\"},{\"hovertemplate\":\"<b>%{hovertext}</b><br><br>NAMELSAD20=State House District 46<br>INTPTLAT20=%{lat}<br>INTPTLON20=%{lon}<extra></extra>\",\"hovertext\":[\"State House District 46\"],\"lat\":[47.7135636],\"legendgroup\":\"State House District 46\",\"lon\":[-122.2803905],\"marker\":{\"color\":\"#19d3f3\"},\"mode\":\"markers\",\"name\":\"State House District 46\",\"showlegend\":true,\"subplot\":\"mapbox\",\"type\":\"scattermapbox\"},{\"hovertemplate\":\"<b>%{hovertext}</b><br><br>NAMELSAD20=State House District 16<br>INTPTLAT20=%{lat}<br>INTPTLON20=%{lon}<extra></extra>\",\"hovertext\":[\"State House District 16\"],\"lat\":[46.2240918],\"legendgroup\":\"State House District 16\",\"lon\":[-118.7102583],\"marker\":{\"color\":\"#FF6692\"},\"mode\":\"markers\",\"name\":\"State House District 16\",\"showlegend\":true,\"subplot\":\"mapbox\",\"type\":\"scattermapbox\"},{\"hovertemplate\":\"<b>%{hovertext}</b><br><br>NAMELSAD20=State House District 49<br>INTPTLAT20=%{lat}<br>INTPTLON20=%{lon}<extra></extra>\",\"hovertext\":[\"State House District 49\"],\"lat\":[45.6624265],\"legendgroup\":\"State House District 49\",\"lon\":[-122.6657493],\"marker\":{\"color\":\"#B6E880\"},\"mode\":\"markers\",\"name\":\"State House District 49\",\"showlegend\":true,\"subplot\":\"mapbox\",\"type\":\"scattermapbox\"},{\"hovertemplate\":\"<b>%{hovertext}</b><br><br>NAMELSAD20=State House District 17<br>INTPTLAT20=%{lat}<br>INTPTLON20=%{lon}<extra></extra>\",\"hovertext\":[\"State House District 17\"],\"lat\":[45.7008707],\"legendgroup\":\"State House District 17\",\"lon\":[-122.5553244],\"marker\":{\"color\":\"#FF97FF\"},\"mode\":\"markers\",\"name\":\"State House District 17\",\"showlegend\":true,\"subplot\":\"mapbox\",\"type\":\"scattermapbox\"},{\"hovertemplate\":\"<b>%{hovertext}</b><br><br>NAMELSAD20=State House District 6<br>INTPTLAT20=%{lat}<br>INTPTLON20=%{lon}<extra></extra>\",\"hovertext\":[\"State House District 6\"],\"lat\":[47.5906822],\"legendgroup\":\"State House District 6\",\"lon\":[-117.5532449],\"marker\":{\"color\":\"#FECB52\"},\"mode\":\"markers\",\"name\":\"State House District 6\",\"showlegend\":true,\"subplot\":\"mapbox\",\"type\":\"scattermapbox\"},{\"hovertemplate\":\"<b>%{hovertext}</b><br><br>NAMELSAD20=State House District 20<br>INTPTLAT20=%{lat}<br>INTPTLON20=%{lon}<extra></extra>\",\"hovertext\":[\"State House District 20\"],\"lat\":[46.4781973],\"legendgroup\":\"State House District 20\",\"lon\":[-122.408342],\"marker\":{\"color\":\"#636efa\"},\"mode\":\"markers\",\"name\":\"State House District 20\",\"showlegend\":true,\"subplot\":\"mapbox\",\"type\":\"scattermapbox\"},{\"hovertemplate\":\"<b>%{hovertext}</b><br><br>NAMELSAD20=State House District 31<br>INTPTLAT20=%{lat}<br>INTPTLON20=%{lon}<extra></extra>\",\"hovertext\":[\"State House District 31\"],\"lat\":[47.146854],\"legendgroup\":\"State House District 31\",\"lon\":[-121.7697095],\"marker\":{\"color\":\"#EF553B\"},\"mode\":\"markers\",\"name\":\"State House District 31\",\"showlegend\":true,\"subplot\":\"mapbox\",\"type\":\"scattermapbox\"},{\"hovertemplate\":\"<b>%{hovertext}</b><br><br>NAMELSAD20=State House District 21<br>INTPTLAT20=%{lat}<br>INTPTLON20=%{lon}<extra></extra>\",\"hovertext\":[\"State House District 21\"],\"lat\":[47.867766],\"legendgroup\":\"State House District 21\",\"lon\":[-122.3238457],\"marker\":{\"color\":\"#00cc96\"},\"mode\":\"markers\",\"name\":\"State House District 21\",\"showlegend\":true,\"subplot\":\"mapbox\",\"type\":\"scattermapbox\"},{\"hovertemplate\":\"<b>%{hovertext}</b><br><br>NAMELSAD20=State House District 43<br>INTPTLAT20=%{lat}<br>INTPTLON20=%{lon}<extra></extra>\",\"hovertext\":[\"State House District 43\"],\"lat\":[47.646263],\"legendgroup\":\"State House District 43\",\"lon\":[-122.317681],\"marker\":{\"color\":\"#ab63fa\"},\"mode\":\"markers\",\"name\":\"State House District 43\",\"showlegend\":true,\"subplot\":\"mapbox\",\"type\":\"scattermapbox\"},{\"hovertemplate\":\"<b>%{hovertext}</b><br><br>NAMELSAD20=State House District 40<br>INTPTLAT20=%{lat}<br>INTPTLON20=%{lon}<extra></extra>\",\"hovertext\":[\"State House District 40\"],\"lat\":[48.545938],\"legendgroup\":\"State House District 40\",\"lon\":[-122.7658662],\"marker\":{\"color\":\"#FFA15A\"},\"mode\":\"markers\",\"name\":\"State House District 40\",\"showlegend\":true,\"subplot\":\"mapbox\",\"type\":\"scattermapbox\"},{\"hovertemplate\":\"<b>%{hovertext}</b><br><br>NAMELSAD20=State House District 19<br>INTPTLAT20=%{lat}<br>INTPTLON20=%{lon}<extra></extra>\",\"hovertext\":[\"State House District 19\"],\"lat\":[46.5396387],\"legendgroup\":\"State House District 19\",\"lon\":[-123.5443193],\"marker\":{\"color\":\"#19d3f3\"},\"mode\":\"markers\",\"name\":\"State House District 19\",\"showlegend\":true,\"subplot\":\"mapbox\",\"type\":\"scattermapbox\"},{\"hovertemplate\":\"<b>%{hovertext}</b><br><br>NAMELSAD20=State House District 47<br>INTPTLAT20=%{lat}<br>INTPTLON20=%{lon}<extra></extra>\",\"hovertext\":[\"State House District 47\"],\"lat\":[47.3539422],\"legendgroup\":\"State House District 47\",\"lon\":[-122.1554458],\"marker\":{\"color\":\"#FF6692\"},\"mode\":\"markers\",\"name\":\"State House District 47\",\"showlegend\":true,\"subplot\":\"mapbox\",\"type\":\"scattermapbox\"},{\"hovertemplate\":\"<b>%{hovertext}</b><br><br>NAMELSAD20=State House District 25<br>INTPTLAT20=%{lat}<br>INTPTLON20=%{lon}<extra></extra>\",\"hovertext\":[\"State House District 25\"],\"lat\":[47.1661261],\"legendgroup\":\"State House District 25\",\"lon\":[-122.3239661],\"marker\":{\"color\":\"#B6E880\"},\"mode\":\"markers\",\"name\":\"State House District 25\",\"showlegend\":true,\"subplot\":\"mapbox\",\"type\":\"scattermapbox\"},{\"hovertemplate\":\"<b>%{hovertext}</b><br><br>NAMELSAD20=State House District 12<br>INTPTLAT20=%{lat}<br>INTPTLON20=%{lon}<extra></extra>\",\"hovertext\":[\"State House District 12\"],\"lat\":[48.0360844],\"legendgroup\":\"State House District 12\",\"lon\":[-120.0409835],\"marker\":{\"color\":\"#FF97FF\"},\"mode\":\"markers\",\"name\":\"State House District 12\",\"showlegend\":true,\"subplot\":\"mapbox\",\"type\":\"scattermapbox\"}],                        {\"template\":{\"data\":{\"histogram2dcontour\":[{\"type\":\"histogram2dcontour\",\"colorbar\":{\"outlinewidth\":0,\"ticks\":\"\"},\"colorscale\":[[0.0,\"#0d0887\"],[0.1111111111111111,\"#46039f\"],[0.2222222222222222,\"#7201a8\"],[0.3333333333333333,\"#9c179e\"],[0.4444444444444444,\"#bd3786\"],[0.5555555555555556,\"#d8576b\"],[0.6666666666666666,\"#ed7953\"],[0.7777777777777778,\"#fb9f3a\"],[0.8888888888888888,\"#fdca26\"],[1.0,\"#f0f921\"]]}],\"choropleth\":[{\"type\":\"choropleth\",\"colorbar\":{\"outlinewidth\":0,\"ticks\":\"\"}}],\"histogram2d\":[{\"type\":\"histogram2d\",\"colorbar\":{\"outlinewidth\":0,\"ticks\":\"\"},\"colorscale\":[[0.0,\"#0d0887\"],[0.1111111111111111,\"#46039f\"],[0.2222222222222222,\"#7201a8\"],[0.3333333333333333,\"#9c179e\"],[0.4444444444444444,\"#bd3786\"],[0.5555555555555556,\"#d8576b\"],[0.6666666666666666,\"#ed7953\"],[0.7777777777777778,\"#fb9f3a\"],[0.8888888888888888,\"#fdca26\"],[1.0,\"#f0f921\"]]}],\"heatmap\":[{\"type\":\"heatmap\",\"colorbar\":{\"outlinewidth\":0,\"ticks\":\"\"},\"colorscale\":[[0.0,\"#0d0887\"],[0.1111111111111111,\"#46039f\"],[0.2222222222222222,\"#7201a8\"],[0.3333333333333333,\"#9c179e\"],[0.4444444444444444,\"#bd3786\"],[0.5555555555555556,\"#d8576b\"],[0.6666666666666666,\"#ed7953\"],[0.7777777777777778,\"#fb9f3a\"],[0.8888888888888888,\"#fdca26\"],[1.0,\"#f0f921\"]]}],\"heatmapgl\":[{\"type\":\"heatmapgl\",\"colorbar\":{\"outlinewidth\":0,\"ticks\":\"\"},\"colorscale\":[[0.0,\"#0d0887\"],[0.1111111111111111,\"#46039f\"],[0.2222222222222222,\"#7201a8\"],[0.3333333333333333,\"#9c179e\"],[0.4444444444444444,\"#bd3786\"],[0.5555555555555556,\"#d8576b\"],[0.6666666666666666,\"#ed7953\"],[0.7777777777777778,\"#fb9f3a\"],[0.8888888888888888,\"#fdca26\"],[1.0,\"#f0f921\"]]}],\"contourcarpet\":[{\"type\":\"contourcarpet\",\"colorbar\":{\"outlinewidth\":0,\"ticks\":\"\"}}],\"contour\":[{\"type\":\"contour\",\"colorbar\":{\"outlinewidth\":0,\"ticks\":\"\"},\"colorscale\":[[0.0,\"#0d0887\"],[0.1111111111111111,\"#46039f\"],[0.2222222222222222,\"#7201a8\"],[0.3333333333333333,\"#9c179e\"],[0.4444444444444444,\"#bd3786\"],[0.5555555555555556,\"#d8576b\"],[0.6666666666666666,\"#ed7953\"],[0.7777777777777778,\"#fb9f3a\"],[0.8888888888888888,\"#fdca26\"],[1.0,\"#f0f921\"]]}],\"surface\":[{\"type\":\"surface\",\"colorbar\":{\"outlinewidth\":0,\"ticks\":\"\"},\"colorscale\":[[0.0,\"#0d0887\"],[0.1111111111111111,\"#46039f\"],[0.2222222222222222,\"#7201a8\"],[0.3333333333333333,\"#9c179e\"],[0.4444444444444444,\"#bd3786\"],[0.5555555555555556,\"#d8576b\"],[0.6666666666666666,\"#ed7953\"],[0.7777777777777778,\"#fb9f3a\"],[0.8888888888888888,\"#fdca26\"],[1.0,\"#f0f921\"]]}],\"mesh3d\":[{\"type\":\"mesh3d\",\"colorbar\":{\"outlinewidth\":0,\"ticks\":\"\"}}],\"scatter\":[{\"fillpattern\":{\"fillmode\":\"overlay\",\"size\":10,\"solidity\":0.2},\"type\":\"scatter\"}],\"parcoords\":[{\"type\":\"parcoords\",\"line\":{\"colorbar\":{\"outlinewidth\":0,\"ticks\":\"\"}}}],\"scatterpolargl\":[{\"type\":\"scatterpolargl\",\"marker\":{\"colorbar\":{\"outlinewidth\":0,\"ticks\":\"\"}}}],\"bar\":[{\"error_x\":{\"color\":\"#2a3f5f\"},\"error_y\":{\"color\":\"#2a3f5f\"},\"marker\":{\"line\":{\"color\":\"#E5ECF6\",\"width\":0.5},\"pattern\":{\"fillmode\":\"overlay\",\"size\":10,\"solidity\":0.2}},\"type\":\"bar\"}],\"scattergeo\":[{\"type\":\"scattergeo\",\"marker\":{\"colorbar\":{\"outlinewidth\":0,\"ticks\":\"\"}}}],\"scatterpolar\":[{\"type\":\"scatterpolar\",\"marker\":{\"colorbar\":{\"outlinewidth\":0,\"ticks\":\"\"}}}],\"histogram\":[{\"marker\":{\"pattern\":{\"fillmode\":\"overlay\",\"size\":10,\"solidity\":0.2}},\"type\":\"histogram\"}],\"scattergl\":[{\"type\":\"scattergl\",\"marker\":{\"colorbar\":{\"outlinewidth\":0,\"ticks\":\"\"}}}],\"scatter3d\":[{\"type\":\"scatter3d\",\"line\":{\"colorbar\":{\"outlinewidth\":0,\"ticks\":\"\"}},\"marker\":{\"colorbar\":{\"outlinewidth\":0,\"ticks\":\"\"}}}],\"scattermapbox\":[{\"type\":\"scattermapbox\",\"marker\":{\"colorbar\":{\"outlinewidth\":0,\"ticks\":\"\"}}}],\"scatterternary\":[{\"type\":\"scatterternary\",\"marker\":{\"colorbar\":{\"outlinewidth\":0,\"ticks\":\"\"}}}],\"scattercarpet\":[{\"type\":\"scattercarpet\",\"marker\":{\"colorbar\":{\"outlinewidth\":0,\"ticks\":\"\"}}}],\"carpet\":[{\"aaxis\":{\"endlinecolor\":\"#2a3f5f\",\"gridcolor\":\"white\",\"linecolor\":\"white\",\"minorgridcolor\":\"white\",\"startlinecolor\":\"#2a3f5f\"},\"baxis\":{\"endlinecolor\":\"#2a3f5f\",\"gridcolor\":\"white\",\"linecolor\":\"white\",\"minorgridcolor\":\"white\",\"startlinecolor\":\"#2a3f5f\"},\"type\":\"carpet\"}],\"table\":[{\"cells\":{\"fill\":{\"color\":\"#EBF0F8\"},\"line\":{\"color\":\"white\"}},\"header\":{\"fill\":{\"color\":\"#C8D4E3\"},\"line\":{\"color\":\"white\"}},\"type\":\"table\"}],\"barpolar\":[{\"marker\":{\"line\":{\"color\":\"#E5ECF6\",\"width\":0.5},\"pattern\":{\"fillmode\":\"overlay\",\"size\":10,\"solidity\":0.2}},\"type\":\"barpolar\"}],\"pie\":[{\"automargin\":true,\"type\":\"pie\"}]},\"layout\":{\"autotypenumbers\":\"strict\",\"colorway\":[\"#636efa\",\"#EF553B\",\"#00cc96\",\"#ab63fa\",\"#FFA15A\",\"#19d3f3\",\"#FF6692\",\"#B6E880\",\"#FF97FF\",\"#FECB52\"],\"font\":{\"color\":\"#2a3f5f\"},\"hovermode\":\"closest\",\"hoverlabel\":{\"align\":\"left\"},\"paper_bgcolor\":\"white\",\"plot_bgcolor\":\"#E5ECF6\",\"polar\":{\"bgcolor\":\"#E5ECF6\",\"angularaxis\":{\"gridcolor\":\"white\",\"linecolor\":\"white\",\"ticks\":\"\"},\"radialaxis\":{\"gridcolor\":\"white\",\"linecolor\":\"white\",\"ticks\":\"\"}},\"ternary\":{\"bgcolor\":\"#E5ECF6\",\"aaxis\":{\"gridcolor\":\"white\",\"linecolor\":\"white\",\"ticks\":\"\"},\"baxis\":{\"gridcolor\":\"white\",\"linecolor\":\"white\",\"ticks\":\"\"},\"caxis\":{\"gridcolor\":\"white\",\"linecolor\":\"white\",\"ticks\":\"\"}},\"coloraxis\":{\"colorbar\":{\"outlinewidth\":0,\"ticks\":\"\"}},\"colorscale\":{\"sequential\":[[0.0,\"#0d0887\"],[0.1111111111111111,\"#46039f\"],[0.2222222222222222,\"#7201a8\"],[0.3333333333333333,\"#9c179e\"],[0.4444444444444444,\"#bd3786\"],[0.5555555555555556,\"#d8576b\"],[0.6666666666666666,\"#ed7953\"],[0.7777777777777778,\"#fb9f3a\"],[0.8888888888888888,\"#fdca26\"],[1.0,\"#f0f921\"]],\"sequentialminus\":[[0.0,\"#0d0887\"],[0.1111111111111111,\"#46039f\"],[0.2222222222222222,\"#7201a8\"],[0.3333333333333333,\"#9c179e\"],[0.4444444444444444,\"#bd3786\"],[0.5555555555555556,\"#d8576b\"],[0.6666666666666666,\"#ed7953\"],[0.7777777777777778,\"#fb9f3a\"],[0.8888888888888888,\"#fdca26\"],[1.0,\"#f0f921\"]],\"diverging\":[[0,\"#8e0152\"],[0.1,\"#c51b7d\"],[0.2,\"#de77ae\"],[0.3,\"#f1b6da\"],[0.4,\"#fde0ef\"],[0.5,\"#f7f7f7\"],[0.6,\"#e6f5d0\"],[0.7,\"#b8e186\"],[0.8,\"#7fbc41\"],[0.9,\"#4d9221\"],[1,\"#276419\"]]},\"xaxis\":{\"gridcolor\":\"white\",\"linecolor\":\"white\",\"ticks\":\"\",\"title\":{\"standoff\":15},\"zerolinecolor\":\"white\",\"automargin\":true,\"zerolinewidth\":2},\"yaxis\":{\"gridcolor\":\"white\",\"linecolor\":\"white\",\"ticks\":\"\",\"title\":{\"standoff\":15},\"zerolinecolor\":\"white\",\"automargin\":true,\"zerolinewidth\":2},\"scene\":{\"xaxis\":{\"backgroundcolor\":\"#E5ECF6\",\"gridcolor\":\"white\",\"linecolor\":\"white\",\"showbackground\":true,\"ticks\":\"\",\"zerolinecolor\":\"white\",\"gridwidth\":2},\"yaxis\":{\"backgroundcolor\":\"#E5ECF6\",\"gridcolor\":\"white\",\"linecolor\":\"white\",\"showbackground\":true,\"ticks\":\"\",\"zerolinecolor\":\"white\",\"gridwidth\":2},\"zaxis\":{\"backgroundcolor\":\"#E5ECF6\",\"gridcolor\":\"white\",\"linecolor\":\"white\",\"showbackground\":true,\"ticks\":\"\",\"zerolinecolor\":\"white\",\"gridwidth\":2}},\"shapedefaults\":{\"line\":{\"color\":\"#2a3f5f\"}},\"annotationdefaults\":{\"arrowcolor\":\"#2a3f5f\",\"arrowhead\":0,\"arrowwidth\":1},\"geo\":{\"bgcolor\":\"white\",\"landcolor\":\"#E5ECF6\",\"subunitcolor\":\"white\",\"showland\":true,\"showlakes\":true,\"lakecolor\":\"white\"},\"title\":{\"x\":0.05},\"mapbox\":{\"style\":\"light\"}}},\"mapbox\":{\"domain\":{\"x\":[0.0,1.0],\"y\":[0.0,1.0]},\"center\":{\"lat\":47.3,\"lon\":-120.44},\"zoom\":5.7,\"style\":\"carto-positron\"},\"legend\":{\"title\":{\"text\":\"NAMELSAD20\"},\"tracegroupgap\":0},\"margin\":{\"t\":60},\"title\":{\"text\":\"SHRD\"}},                        {\"responsive\": true}                    ).then(function(){\n",
       "                            \n",
       "var gd = document.getElementById('b5e50d80-6451-4ca5-8690-d1380e81554d');\n",
       "var x = new MutationObserver(function (mutations, observer) {{\n",
       "        var display = window.getComputedStyle(gd).display;\n",
       "        if (!display || display === 'none') {{\n",
       "            console.log([gd, 'removed!']);\n",
       "            Plotly.purge(gd);\n",
       "            observer.disconnect();\n",
       "        }}\n",
       "}});\n",
       "\n",
       "// Listen for the removal of the full notebook cells\n",
       "var notebookContainer = gd.closest('#notebook-container');\n",
       "if (notebookContainer) {{\n",
       "    x.observe(notebookContainer, {childList: true});\n",
       "}}\n",
       "\n",
       "// Listen for the clearing of the current output cell\n",
       "var outputEl = gd.closest('.output');\n",
       "if (outputEl) {{\n",
       "    x.observe(outputEl, {childList: true});\n",
       "}}\n",
       "\n",
       "                        })                };                });            </script>        </div>"
      ]
     },
     "metadata": {},
     "output_type": "display_data"
    }
   ],
   "source": [
    "shrdmap = pe.scatter_mapbox(shrd,\n",
    "                         lat='INTPTLAT20',\n",
    "                         lon='INTPTLON20', \n",
    "                         #size = 'SLDLST20',\n",
    "                         hover_name='NAMELSAD20',\n",
    "                         color='NAMELSAD20',\n",
    "                        color_continuous_scale=\"Viridis\",\n",
    "                        center={\"lat\": 47.3, \"lon\": -120.44},\n",
    "                         mapbox_style='carto-positron',\n",
    "                         zoom=5.7)\n",
    "\n",
    "shrdmap.update_layout(title='SHRD')\n",
    "shrdmap.show()"
   ]
  },
  {
   "cell_type": "code",
   "execution_count": 1,
   "id": "56bcb5bc",
   "metadata": {
    "scrolled": true
   },
   "outputs": [
    {
     "data": {
      "text/html": [
       "<div>\n",
       "<style scoped>\n",
       "    .dataframe tbody tr th:only-of-type {\n",
       "        vertical-align: middle;\n",
       "    }\n",
       "\n",
       "    .dataframe tbody tr th {\n",
       "        vertical-align: top;\n",
       "    }\n",
       "\n",
       "    .dataframe thead th {\n",
       "        text-align: right;\n",
       "    }\n",
       "</style>\n",
       "<table border=\"1\" class=\"dataframe\">\n",
       "  <thead>\n",
       "    <tr style=\"text-align: right;\">\n",
       "      <th></th>\n",
       "      <th>STATEFP20</th>\n",
       "      <th>SLDLST20</th>\n",
       "      <th>GEOID20</th>\n",
       "      <th>NAMELSAD20</th>\n",
       "      <th>LSAD20</th>\n",
       "      <th>LSY20</th>\n",
       "      <th>MTFCC20</th>\n",
       "      <th>FUNCSTAT20</th>\n",
       "      <th>ALAND20</th>\n",
       "      <th>AWATER20</th>\n",
       "      <th>INTPTLAT20</th>\n",
       "      <th>INTPTLON20</th>\n",
       "      <th>geometry</th>\n",
       "    </tr>\n",
       "  </thead>\n",
       "  <tbody>\n",
       "    <tr>\n",
       "      <th>0</th>\n",
       "      <td>53</td>\n",
       "      <td>001</td>\n",
       "      <td>53001</td>\n",
       "      <td>State House District 1</td>\n",
       "      <td>LL</td>\n",
       "      <td>2018</td>\n",
       "      <td>G5220</td>\n",
       "      <td>N</td>\n",
       "      <td>175590946</td>\n",
       "      <td>6165627</td>\n",
       "      <td>+47.7952818</td>\n",
       "      <td>-122.1635472</td>\n",
       "      <td>POLYGON ((-122.31765 47.77762, -122.31743 47.7...</td>\n",
       "    </tr>\n",
       "    <tr>\n",
       "      <th>1</th>\n",
       "      <td>53</td>\n",
       "      <td>035</td>\n",
       "      <td>53035</td>\n",
       "      <td>State House District 35</td>\n",
       "      <td>LL</td>\n",
       "      <td>2018</td>\n",
       "      <td>G5220</td>\n",
       "      <td>N</td>\n",
       "      <td>3450948000</td>\n",
       "      <td>331043784</td>\n",
       "      <td>+47.3101817</td>\n",
       "      <td>-123.1077670</td>\n",
       "      <td>POLYGON ((-123.50608 47.43178, -123.50602 47.4...</td>\n",
       "    </tr>\n",
       "    <tr>\n",
       "      <th>2</th>\n",
       "      <td>53</td>\n",
       "      <td>045</td>\n",
       "      <td>53045</td>\n",
       "      <td>State House District 45</td>\n",
       "      <td>LL</td>\n",
       "      <td>2018</td>\n",
       "      <td>G5220</td>\n",
       "      <td>N</td>\n",
       "      <td>256405866</td>\n",
       "      <td>8175631</td>\n",
       "      <td>+47.7067687</td>\n",
       "      <td>-122.0528827</td>\n",
       "      <td>POLYGON ((-122.23821 47.68711, -122.23526 47.6...</td>\n",
       "    </tr>\n",
       "    <tr>\n",
       "      <th>3</th>\n",
       "      <td>53</td>\n",
       "      <td>023</td>\n",
       "      <td>53023</td>\n",
       "      <td>State House District 23</td>\n",
       "      <td>LL</td>\n",
       "      <td>2018</td>\n",
       "      <td>G5220</td>\n",
       "      <td>N</td>\n",
       "      <td>429307777</td>\n",
       "      <td>315242276</td>\n",
       "      <td>+47.7425865</td>\n",
       "      <td>-122.5753082</td>\n",
       "      <td>POLYGON ((-122.76873 47.67851, -122.76650 47.6...</td>\n",
       "    </tr>\n",
       "    <tr>\n",
       "      <th>4</th>\n",
       "      <td>53</td>\n",
       "      <td>013</td>\n",
       "      <td>53013</td>\n",
       "      <td>State House District 13</td>\n",
       "      <td>LL</td>\n",
       "      <td>2018</td>\n",
       "      <td>G5220</td>\n",
       "      <td>N</td>\n",
       "      <td>17818556454</td>\n",
       "      <td>338874433</td>\n",
       "      <td>+47.2769370</td>\n",
       "      <td>-119.5433204</td>\n",
       "      <td>POLYGON ((-121.46598 47.36784, -121.46595 47.3...</td>\n",
       "    </tr>\n",
       "  </tbody>\n",
       "</table>\n",
       "</div>"
      ],
      "text/plain": [
       "  STATEFP20 SLDLST20 GEOID20               NAMELSAD20 LSAD20 LSY20 MTFCC20  \\\n",
       "0        53      001   53001   State House District 1     LL  2018   G5220   \n",
       "1        53      035   53035  State House District 35     LL  2018   G5220   \n",
       "2        53      045   53045  State House District 45     LL  2018   G5220   \n",
       "3        53      023   53023  State House District 23     LL  2018   G5220   \n",
       "4        53      013   53013  State House District 13     LL  2018   G5220   \n",
       "\n",
       "  FUNCSTAT20      ALAND20   AWATER20   INTPTLAT20    INTPTLON20  \\\n",
       "0          N    175590946    6165627  +47.7952818  -122.1635472   \n",
       "1          N   3450948000  331043784  +47.3101817  -123.1077670   \n",
       "2          N    256405866    8175631  +47.7067687  -122.0528827   \n",
       "3          N    429307777  315242276  +47.7425865  -122.5753082   \n",
       "4          N  17818556454  338874433  +47.2769370  -119.5433204   \n",
       "\n",
       "                                            geometry  \n",
       "0  POLYGON ((-122.31765 47.77762, -122.31743 47.7...  \n",
       "1  POLYGON ((-123.50608 47.43178, -123.50602 47.4...  \n",
       "2  POLYGON ((-122.23821 47.68711, -122.23526 47.6...  \n",
       "3  POLYGON ((-122.76873 47.67851, -122.76650 47.6...  \n",
       "4  POLYGON ((-121.46598 47.36784, -121.46595 47.3...  "
      ]
     },
     "execution_count": 1,
     "metadata": {},
     "output_type": "execute_result"
    }
   ],
   "source": [
    "import geopandas\n",
    "\n",
    "geodf = geopandas.read_file('tl_2020_53_sldl20.shp')\n",
    "geodf.head()"
   ]
  },
  {
   "cell_type": "code",
   "execution_count": null,
   "id": "c1e58315",
   "metadata": {},
   "outputs": [],
   "source": [
    "import json, pandas\n",
    "import plotly.express as pe\n",
    "\n",
    "geodf = geopandas.read_file('tl_2020_53_sldl20.shp')\n",
    "geojdf = geodf.to_json()\n",
    "\n",
    "mapt = pe.choropleth_mapbox(geodf, \n",
    "                            geojson=geodf.geometry,\n",
    "                            color='NAMELSAD20',\n",
    "                            locations=geodf.NAMELSAD20,\n",
    "                            featureidkey=\"properties.geometry\",\n",
    "                            hover_name='SLDLST20',\n",
    "                            center={\"lat\": 47.25, \"lon\": -122.44},\n",
    "                            mapbox_style='carto-positron',\n",
    "                            zoom=9\n",
    "                           )\n",
    "\n",
    "mapt.update_layout(title='Tacoma Fires Choropleth')\n",
    "mapt.show()"
   ]
  },
  {
   "cell_type": "code",
   "execution_count": null,
   "id": "bb685652",
   "metadata": {},
   "outputs": [],
   "source": [
    "import geopandas\n",
    "from geopy import geocoders\n",
    "import plotly.express as pe\n",
    "\n",
    "wa = geopandas.read_file('lab5/tl_2020_53_sldl20.shp')\n",
    "wadis = wa.to_json()\n",
    "\n",
    "sld = geopandas.read_file('lab5/tl_2020_53_sldl20.shp')\n",
    "sld.head()"
   ]
  },
  {
   "cell_type": "markdown",
   "id": "b75a3c11",
   "metadata": {},
   "source": [
    "### Problem 3 - Taxis per square meter of land by district ... wut? (4pts)\n",
    "\n",
    "Right, so this is a bit contrived, but I want an interactive choropleth map of the number of registered taxi businesses per square meter of land by state House of Representative districts.\n",
    "\n",
    "You can think of it as finding a good spot to found your own taxi business (based on House districts for some reason) or that you want to know where it would be cheapest to lobby a state rep about your existing taxi business. Or you can think about how it's forcing you to work through a number of interesting spatial analysis to generate interactive visualizations... *whatever seems most fun*.\n",
    "\n",
    "So, you'll need to do a few things here:\n",
    "1. You'll need to do some sort of summary statistic to determine *how many* (count) fall into each district. \n",
    "2. You'll need to create a rate (not count) of licenses per square meter. The ALAND column is square meters of land.\n",
    "3. You may find it easier to convert your taxi dataframe into a geodataframe here, to do so take a look at how we created geometry for points in lab 3.\n",
    "\n",
    "I really like the spatial join functions of geopandas, but *as always* you should work in the workflow that makes sense to you.\n",
    "\n",
    "**Bonus 1: Have the hover over display the names of the representatives for each district. You can find a list [here](https://apps.leg.wa.gov/Rosters/Members/House). +1 pts** *(The easiest means here is likely a join on the district number, but how will you handle two reps for each district? A concatenated column might work!)*\n",
    "\n",
    "**Bonus 2: Normalize it based on population. +3 pts** *(You can use 2010 maps if you need to, I won't give many more hints than that)*"
   ]
  },
  {
   "cell_type": "code",
   "execution_count": 42,
   "id": "376f1286",
   "metadata": {},
   "outputs": [
    {
     "ename": "NameError",
     "evalue": "name 'distjoin' is not defined",
     "output_type": "error",
     "traceback": [
      "\u001b[1;31m---------------------------------------------------------------------------\u001b[0m",
      "\u001b[1;31mNameError\u001b[0m                                 Traceback (most recent call last)",
      "Cell \u001b[1;32mIn[42], line 1\u001b[0m\n\u001b[1;32m----> 1\u001b[0m disjoin \u001b[38;5;241m=\u001b[39m \u001b[43mdistjoin\u001b[49m\u001b[38;5;241m.\u001b[39mgroupby(\u001b[38;5;124m'\u001b[39m\u001b[38;5;124mSLDLST\u001b[39m\u001b[38;5;124m'\u001b[39m)\u001b[38;5;241m.\u001b[39mcount()\u001b[38;5;241m.\u001b[39mreset_index()\n",
      "\u001b[1;31mNameError\u001b[0m: name 'distjoin' is not defined"
     ]
    }
   ],
   "source": [
    "disjoin = distjoin.groupby('SLDLST').count().reset_index()"
   ]
  },
  {
   "cell_type": "markdown",
   "id": "bae1b525",
   "metadata": {},
   "source": [
    "## Check in (2pts)\n",
    "### Full credit if you've completed all three problems, partial from there. "
   ]
  },
  {
   "cell_type": "markdown",
   "id": "77590f87",
   "metadata": {},
   "source": [
    "### Problem 4: Fire Insurance 1 - Fires per business (3pts)\n",
    "\n",
    "Ok, another somewhat contrived example. We'll be working with the Tacoma fire data (from last lab) and the Tacoma business license data (from the other half of this lab). We're going to do some *very poor* 'risk' analysis to determine what businesses are 'most' at risk of a fire.\n",
    "\n",
    "On the one hand, this sort of analysis - done much more rigorously - forms the backbone of spatial data analysis and its value to corporations and researchers. On the other hand, if you showed *this specific analysis* to someone who models risk, they would have a good chuckle. In other words, we're working through powerful techniques and concepts, but in a kind of 'canned' and silly manner. Enjoy.\n",
    "\n",
    "Display an interactive, choropleth map based on Neighborhood Council districts that gives the rate of **fires per business license**. In other words, if the East End had 5 fires and 10 licenses, it would get the value 0.5; if Proctor had 20 fires and 5 licenses, it would be 4.... etc. You know how to do this.\n",
    "\n",
    "*Bonus: Access both data sets using the open data API +2 pts, one for each (this actually makes some mapping tasks easier)*\n",
    "\n",
    "\n"
   ]
  },
  {
   "cell_type": "code",
   "execution_count": 14,
   "id": "a9b4e6f3",
   "metadata": {},
   "outputs": [
    {
     "data": {
      "text/html": [
       "<div>\n",
       "<style scoped>\n",
       "    .dataframe tbody tr th:only-of-type {\n",
       "        vertical-align: middle;\n",
       "    }\n",
       "\n",
       "    .dataframe tbody tr th {\n",
       "        vertical-align: top;\n",
       "    }\n",
       "\n",
       "    .dataframe thead th {\n",
       "        text-align: right;\n",
       "    }\n",
       "</style>\n",
       "<table border=\"1\" class=\"dataframe\">\n",
       "  <thead>\n",
       "    <tr style=\"text-align: right;\">\n",
       "      <th></th>\n",
       "      <th>IncidentNumber</th>\n",
       "      <th>IncidentID</th>\n",
       "      <th>IncidentYear</th>\n",
       "      <th>IncidentDate</th>\n",
       "      <th>Address</th>\n",
       "      <th>CAD_Location</th>\n",
       "      <th>City</th>\n",
       "      <th>State</th>\n",
       "      <th>NeighborhoodCouncil</th>\n",
       "      <th>ZipCode</th>\n",
       "      <th>...</th>\n",
       "      <th>Structure_NumberOfBusinesses</th>\n",
       "      <th>Structure_TotalSQFootBurned</th>\n",
       "      <th>Structure_TotalSQFootSmokeDamage</th>\n",
       "      <th>Mobile_VehicleMake</th>\n",
       "      <th>Mobile_VehicleModel</th>\n",
       "      <th>Mobile_VehicleYear</th>\n",
       "      <th>Fire_OutsideAreaAffected</th>\n",
       "      <th>Location</th>\n",
       "      <th>Latitude</th>\n",
       "      <th>Longitude</th>\n",
       "    </tr>\n",
       "  </thead>\n",
       "  <tbody>\n",
       "    <tr>\n",
       "      <th>0</th>\n",
       "      <td>X1929901241</td>\n",
       "      <td>1170690</td>\n",
       "      <td>2019</td>\n",
       "      <td>10/26/2019 12:00:00 AM</td>\n",
       "      <td>601 N STADIUM WAY</td>\n",
       "      <td>601 N STADIUM WAY</td>\n",
       "      <td>Tacoma</td>\n",
       "      <td>WA</td>\n",
       "      <td>North End</td>\n",
       "      <td>98403.0</td>\n",
       "      <td>...</td>\n",
       "      <td>NaN</td>\n",
       "      <td>NaN</td>\n",
       "      <td>NaN</td>\n",
       "      <td>Mercedes Benz</td>\n",
       "      <td>NaN</td>\n",
       "      <td>2004.0</td>\n",
       "      <td>Not Applicable</td>\n",
       "      <td>601 N STADIUM WAY\\nTacoma, WA\\n(47.270665, -12...</td>\n",
       "      <td>47.270665</td>\n",
       "      <td>-122.452985</td>\n",
       "    </tr>\n",
       "    <tr>\n",
       "      <th>1</th>\n",
       "      <td>T131190048</td>\n",
       "      <td>768107</td>\n",
       "      <td>2013</td>\n",
       "      <td>04/29/2013 12:00:00 AM</td>\n",
       "      <td>4600 16TH ST E</td>\n",
       "      <td>4600 16TH ST E -FIF</td>\n",
       "      <td>Fife</td>\n",
       "      <td>WA</td>\n",
       "      <td>NaN</td>\n",
       "      <td>98424.0</td>\n",
       "      <td>...</td>\n",
       "      <td>NaN</td>\n",
       "      <td>NaN</td>\n",
       "      <td>NaN</td>\n",
       "      <td>NaN</td>\n",
       "      <td>NaN</td>\n",
       "      <td>NaN</td>\n",
       "      <td>Square Feet - 2</td>\n",
       "      <td>4600 16TH ST E\\nFife, WA\\n(47.24253, -122.3675)</td>\n",
       "      <td>47.242530</td>\n",
       "      <td>-122.367500</td>\n",
       "    </tr>\n",
       "    <tr>\n",
       "      <th>2</th>\n",
       "      <td>X1905900656</td>\n",
       "      <td>1133326</td>\n",
       "      <td>2019</td>\n",
       "      <td>02/28/2019 12:00:00 AM</td>\n",
       "      <td>313 57TH AVE E</td>\n",
       "      <td>313 57TH AVE E</td>\n",
       "      <td>Fife</td>\n",
       "      <td>WA</td>\n",
       "      <td>NaN</td>\n",
       "      <td>98424.0</td>\n",
       "      <td>...</td>\n",
       "      <td>NaN</td>\n",
       "      <td>NaN</td>\n",
       "      <td>NaN</td>\n",
       "      <td>NaN</td>\n",
       "      <td>NaN</td>\n",
       "      <td>NaN</td>\n",
       "      <td>Square Feet - 10</td>\n",
       "      <td>313 57TH AVE E\\nFife, WA\\n(47.254326, -122.352...</td>\n",
       "      <td>47.254326</td>\n",
       "      <td>-122.352315</td>\n",
       "    </tr>\n",
       "    <tr>\n",
       "      <th>3</th>\n",
       "      <td>X1914501245</td>\n",
       "      <td>1146026</td>\n",
       "      <td>2019</td>\n",
       "      <td>05/25/2019 12:00:00 AM</td>\n",
       "      <td>3015 78TH AVE E</td>\n",
       "      <td>3015 78TH AVE E</td>\n",
       "      <td>Fife</td>\n",
       "      <td>WA</td>\n",
       "      <td>NaN</td>\n",
       "      <td>98424.0</td>\n",
       "      <td>...</td>\n",
       "      <td>NaN</td>\n",
       "      <td>NaN</td>\n",
       "      <td>NaN</td>\n",
       "      <td>International</td>\n",
       "      <td>Medium/Heavy CBE</td>\n",
       "      <td>2005.0</td>\n",
       "      <td>Not Applicable</td>\n",
       "      <td>3015 78TH AVE E\\nFife, WA\\n(47.228208, -122.32...</td>\n",
       "      <td>47.228208</td>\n",
       "      <td>-122.323324</td>\n",
       "    </tr>\n",
       "    <tr>\n",
       "      <th>4</th>\n",
       "      <td>X1925101854</td>\n",
       "      <td>1163132</td>\n",
       "      <td>2019</td>\n",
       "      <td>09/08/2019 12:00:00 AM</td>\n",
       "      <td>1640 E 30TH ST</td>\n",
       "      <td>1640 E 30TH ST</td>\n",
       "      <td>Tacoma</td>\n",
       "      <td>WA</td>\n",
       "      <td>East Side</td>\n",
       "      <td>98404.0</td>\n",
       "      <td>...</td>\n",
       "      <td>NaN</td>\n",
       "      <td>NaN</td>\n",
       "      <td>NaN</td>\n",
       "      <td>Other Make</td>\n",
       "      <td>NaN</td>\n",
       "      <td>2000.0</td>\n",
       "      <td>Not Applicable</td>\n",
       "      <td>1640 E 30TH ST\\nTacoma, WA\\n(47.236593, -122.4...</td>\n",
       "      <td>47.236593</td>\n",
       "      <td>-122.408076</td>\n",
       "    </tr>\n",
       "  </tbody>\n",
       "</table>\n",
       "<p>5 rows × 50 columns</p>\n",
       "</div>"
      ],
      "text/plain": [
       "  IncidentNumber  IncidentID  IncidentYear            IncidentDate  \\\n",
       "0    X1929901241     1170690          2019  10/26/2019 12:00:00 AM   \n",
       "1     T131190048      768107          2013  04/29/2013 12:00:00 AM   \n",
       "2    X1905900656     1133326          2019  02/28/2019 12:00:00 AM   \n",
       "3    X1914501245     1146026          2019  05/25/2019 12:00:00 AM   \n",
       "4    X1925101854     1163132          2019  09/08/2019 12:00:00 AM   \n",
       "\n",
       "             Address         CAD_Location    City State NeighborhoodCouncil  \\\n",
       "0  601 N STADIUM WAY    601 N STADIUM WAY  Tacoma    WA           North End   \n",
       "1     4600 16TH ST E  4600 16TH ST E -FIF    Fife    WA                 NaN   \n",
       "2     313 57TH AVE E       313 57TH AVE E    Fife    WA                 NaN   \n",
       "3    3015 78TH AVE E      3015 78TH AVE E    Fife    WA                 NaN   \n",
       "4     1640 E 30TH ST       1640 E 30TH ST  Tacoma    WA           East Side   \n",
       "\n",
       "   ZipCode  ... Structure_NumberOfBusinesses Structure_TotalSQFootBurned  \\\n",
       "0  98403.0  ...                          NaN                         NaN   \n",
       "1  98424.0  ...                          NaN                         NaN   \n",
       "2  98424.0  ...                          NaN                         NaN   \n",
       "3  98424.0  ...                          NaN                         NaN   \n",
       "4  98404.0  ...                          NaN                         NaN   \n",
       "\n",
       "  Structure_TotalSQFootSmokeDamage Mobile_VehicleMake Mobile_VehicleModel  \\\n",
       "0                              NaN      Mercedes Benz                 NaN   \n",
       "1                              NaN                NaN                 NaN   \n",
       "2                              NaN                NaN                 NaN   \n",
       "3                              NaN      International    Medium/Heavy CBE   \n",
       "4                              NaN         Other Make                 NaN   \n",
       "\n",
       "  Mobile_VehicleYear Fire_OutsideAreaAffected  \\\n",
       "0             2004.0           Not Applicable   \n",
       "1                NaN          Square Feet - 2   \n",
       "2                NaN         Square Feet - 10   \n",
       "3             2005.0           Not Applicable   \n",
       "4             2000.0           Not Applicable   \n",
       "\n",
       "                                            Location   Latitude   Longitude  \n",
       "0  601 N STADIUM WAY\\nTacoma, WA\\n(47.270665, -12...  47.270665 -122.452985  \n",
       "1    4600 16TH ST E\\nFife, WA\\n(47.24253, -122.3675)  47.242530 -122.367500  \n",
       "2  313 57TH AVE E\\nFife, WA\\n(47.254326, -122.352...  47.254326 -122.352315  \n",
       "3  3015 78TH AVE E\\nFife, WA\\n(47.228208, -122.32...  47.228208 -122.323324  \n",
       "4  1640 E 30TH ST\\nTacoma, WA\\n(47.236593, -122.4...  47.236593 -122.408076  \n",
       "\n",
       "[5 rows x 50 columns]"
      ]
     },
     "execution_count": 14,
     "metadata": {},
     "output_type": "execute_result"
    }
   ],
   "source": [
    "import pandas\n",
    "fire = pandas.read_csv('Fires.csv')\n",
    "fire.head()"
   ]
  },
  {
   "cell_type": "code",
   "execution_count": 15,
   "id": "40eefecf",
   "metadata": {},
   "outputs": [
    {
     "data": {
      "text/html": [
       "<div>\n",
       "<style scoped>\n",
       "    .dataframe tbody tr th:only-of-type {\n",
       "        vertical-align: middle;\n",
       "    }\n",
       "\n",
       "    .dataframe tbody tr th {\n",
       "        vertical-align: top;\n",
       "    }\n",
       "\n",
       "    .dataframe thead th {\n",
       "        text-align: right;\n",
       "    }\n",
       "</style>\n",
       "<table border=\"1\" class=\"dataframe\">\n",
       "  <thead>\n",
       "    <tr style=\"text-align: right;\">\n",
       "      <th></th>\n",
       "      <th>LICENSE_NUMBER</th>\n",
       "      <th>BUSINESS_NAME</th>\n",
       "      <th>OWNER_NAME</th>\n",
       "      <th>HOUSE_NUMBER_AND_STREET_NAME</th>\n",
       "      <th>UNIT_NUMBER</th>\n",
       "      <th>P_O__BOX</th>\n",
       "      <th>CITY</th>\n",
       "      <th>STATE</th>\n",
       "      <th>ZIP_CODE</th>\n",
       "      <th>NAICS_CODE</th>\n",
       "      <th>NAICS_CODE_DESCRIPTION</th>\n",
       "      <th>BUSINESS_OPEN_DATE</th>\n",
       "      <th>Police_Sector_Subsector</th>\n",
       "      <th>Location_1</th>\n",
       "      <th>ObjectId</th>\n",
       "    </tr>\n",
       "  </thead>\n",
       "  <tbody>\n",
       "    <tr>\n",
       "      <th>0</th>\n",
       "      <td>500046391</td>\n",
       "      <td>ANDREW J CASTALDI</td>\n",
       "      <td>ANDREW J CASTALDI</td>\n",
       "      <td>504 GRANDVIEW AVE</td>\n",
       "      <td>NaN</td>\n",
       "      <td>NaN</td>\n",
       "      <td>PERKASIE</td>\n",
       "      <td>PA</td>\n",
       "      <td>18944</td>\n",
       "      <td>531110.0</td>\n",
       "      <td>Lessors of Residential Buildings and Dwe</td>\n",
       "      <td>2007/01/15 00:00:00+00</td>\n",
       "      <td>None</td>\n",
       "      <td>PERKASIE, PA (Address Not Found)</td>\n",
       "      <td>1</td>\n",
       "    </tr>\n",
       "    <tr>\n",
       "      <th>1</th>\n",
       "      <td>500125850</td>\n",
       "      <td>CHARLES MARBAS</td>\n",
       "      <td>CHARLES S MARBAS</td>\n",
       "      <td>17810 2ND AVENUE CT E</td>\n",
       "      <td>NaN</td>\n",
       "      <td>NaN</td>\n",
       "      <td>SPANAWAY</td>\n",
       "      <td>WA</td>\n",
       "      <td>98387-4623</td>\n",
       "      <td>531120.0</td>\n",
       "      <td>Lessors of Nonresidential Bildngs (ex Mi</td>\n",
       "      <td>2011/08/08 00:00:00+00</td>\n",
       "      <td>None</td>\n",
       "      <td>SPANAWAY, WA (Address Not Found)</td>\n",
       "      <td>2</td>\n",
       "    </tr>\n",
       "    <tr>\n",
       "      <th>2</th>\n",
       "      <td>500063442</td>\n",
       "      <td>ROBIN M PETERSON</td>\n",
       "      <td>ROBIN M PETERSON</td>\n",
       "      <td></td>\n",
       "      <td>NaN</td>\n",
       "      <td>97</td>\n",
       "      <td>VAUGHN</td>\n",
       "      <td>WA</td>\n",
       "      <td>98394</td>\n",
       "      <td>531110.0</td>\n",
       "      <td>Lessors of Residential Buildings and Dwe</td>\n",
       "      <td>2008/02/29 00:00:00+00</td>\n",
       "      <td>None</td>\n",
       "      <td>VAUGHN, WA (Address Not Found)</td>\n",
       "      <td>3</td>\n",
       "    </tr>\n",
       "    <tr>\n",
       "      <th>3</th>\n",
       "      <td>500024129</td>\n",
       "      <td>OLSON BROTHERS PRO VAC LLC</td>\n",
       "      <td>OLSON BROTHERS PRO VAC LLC</td>\n",
       "      <td>2412 INTER AVE</td>\n",
       "      <td>NaN</td>\n",
       "      <td>NaN</td>\n",
       "      <td>PUYALLUP</td>\n",
       "      <td>WA</td>\n",
       "      <td>98372-3425</td>\n",
       "      <td>237110.0</td>\n",
       "      <td>Water/Sewer Line/ Related Structures Con</td>\n",
       "      <td>2002/01/05 00:00:00+00</td>\n",
       "      <td>None</td>\n",
       "      <td>PUYALLUP, WA (Address Not Found)</td>\n",
       "      <td>4</td>\n",
       "    </tr>\n",
       "    <tr>\n",
       "      <th>4</th>\n",
       "      <td>500066927</td>\n",
       "      <td>NICOLE MARIE FORTINO</td>\n",
       "      <td>NICOLE MARIE FORTINO</td>\n",
       "      <td>16207 LAKE SIDE DR S</td>\n",
       "      <td>NaN</td>\n",
       "      <td>NaN</td>\n",
       "      <td>SPANAWAY</td>\n",
       "      <td>WA</td>\n",
       "      <td>98387-8943</td>\n",
       "      <td>531110.0</td>\n",
       "      <td>Lessors of Residential Buildings and Dwe</td>\n",
       "      <td>2007/01/01 00:00:00+00</td>\n",
       "      <td>None</td>\n",
       "      <td>SPANAWAY, WA (Address Not Found)</td>\n",
       "      <td>5</td>\n",
       "    </tr>\n",
       "  </tbody>\n",
       "</table>\n",
       "</div>"
      ],
      "text/plain": [
       "   LICENSE_NUMBER               BUSINESS_NAME                  OWNER_NAME  \\\n",
       "0       500046391           ANDREW J CASTALDI           ANDREW J CASTALDI   \n",
       "1       500125850              CHARLES MARBAS            CHARLES S MARBAS   \n",
       "2       500063442            ROBIN M PETERSON            ROBIN M PETERSON   \n",
       "3       500024129  OLSON BROTHERS PRO VAC LLC  OLSON BROTHERS PRO VAC LLC   \n",
       "4       500066927        NICOLE MARIE FORTINO        NICOLE MARIE FORTINO   \n",
       "\n",
       "  HOUSE_NUMBER_AND_STREET_NAME UNIT_NUMBER P_O__BOX      CITY STATE  \\\n",
       "0            504 GRANDVIEW AVE         NaN      NaN  PERKASIE    PA   \n",
       "1        17810 2ND AVENUE CT E         NaN      NaN  SPANAWAY    WA   \n",
       "2                                      NaN       97    VAUGHN    WA   \n",
       "3               2412 INTER AVE         NaN      NaN  PUYALLUP    WA   \n",
       "4         16207 LAKE SIDE DR S         NaN      NaN  SPANAWAY    WA   \n",
       "\n",
       "     ZIP_CODE  NAICS_CODE                    NAICS_CODE_DESCRIPTION  \\\n",
       "0       18944    531110.0  Lessors of Residential Buildings and Dwe   \n",
       "1  98387-4623    531120.0  Lessors of Nonresidential Bildngs (ex Mi   \n",
       "2       98394    531110.0  Lessors of Residential Buildings and Dwe   \n",
       "3  98372-3425    237110.0  Water/Sewer Line/ Related Structures Con   \n",
       "4  98387-8943    531110.0  Lessors of Residential Buildings and Dwe   \n",
       "\n",
       "       BUSINESS_OPEN_DATE Police_Sector_Subsector  \\\n",
       "0  2007/01/15 00:00:00+00                    None   \n",
       "1  2011/08/08 00:00:00+00                    None   \n",
       "2  2008/02/29 00:00:00+00                    None   \n",
       "3  2002/01/05 00:00:00+00                    None   \n",
       "4  2007/01/01 00:00:00+00                    None   \n",
       "\n",
       "                         Location_1  ObjectId  \n",
       "0  PERKASIE, PA (Address Not Found)         1  \n",
       "1  SPANAWAY, WA (Address Not Found)         2  \n",
       "2    VAUGHN, WA (Address Not Found)         3  \n",
       "3  PUYALLUP, WA (Address Not Found)         4  \n",
       "4  SPANAWAY, WA (Address Not Found)         5  "
      ]
     },
     "execution_count": 15,
     "metadata": {},
     "output_type": "execute_result"
    }
   ],
   "source": [
    "buslic = pandas.read_csv('TACOMA_BUSINESS_LICENSE.csv')\n",
    "buslic.head()"
   ]
  },
  {
   "cell_type": "code",
   "execution_count": 16,
   "id": "9dcd2287",
   "metadata": {},
   "outputs": [
    {
     "data": {
      "text/html": [
       "<div>\n",
       "<style scoped>\n",
       "    .dataframe tbody tr th:only-of-type {\n",
       "        vertical-align: middle;\n",
       "    }\n",
       "\n",
       "    .dataframe tbody tr th {\n",
       "        vertical-align: top;\n",
       "    }\n",
       "\n",
       "    .dataframe thead th {\n",
       "        text-align: right;\n",
       "    }\n",
       "</style>\n",
       "<table border=\"1\" class=\"dataframe\">\n",
       "  <thead>\n",
       "    <tr style=\"text-align: right;\">\n",
       "      <th></th>\n",
       "      <th>name</th>\n",
       "      <th>geometry</th>\n",
       "    </tr>\n",
       "  </thead>\n",
       "  <tbody>\n",
       "    <tr>\n",
       "      <th>0</th>\n",
       "      <td>West End</td>\n",
       "      <td>MULTIPOLYGON (((-122.52307 47.31101, -122.5159...</td>\n",
       "    </tr>\n",
       "    <tr>\n",
       "      <th>1</th>\n",
       "      <td>North East</td>\n",
       "      <td>MULTIPOLYGON (((-122.41441 47.31564, -122.4143...</td>\n",
       "    </tr>\n",
       "    <tr>\n",
       "      <th>2</th>\n",
       "      <td>North End</td>\n",
       "      <td>MULTIPOLYGON (((-122.50386 47.29074, -122.4972...</td>\n",
       "    </tr>\n",
       "    <tr>\n",
       "      <th>3</th>\n",
       "      <td>Central</td>\n",
       "      <td>MULTIPOLYGON (((-122.45409 47.25597, -122.4538...</td>\n",
       "    </tr>\n",
       "    <tr>\n",
       "      <th>4</th>\n",
       "      <td>South Tacoma</td>\n",
       "      <td>MULTIPOLYGON (((-122.50643 47.22469, -122.5119...</td>\n",
       "    </tr>\n",
       "  </tbody>\n",
       "</table>\n",
       "</div>"
      ],
      "text/plain": [
       "           name                                           geometry\n",
       "0      West End  MULTIPOLYGON (((-122.52307 47.31101, -122.5159...\n",
       "1    North East  MULTIPOLYGON (((-122.41441 47.31564, -122.4143...\n",
       "2     North End  MULTIPOLYGON (((-122.50386 47.29074, -122.4972...\n",
       "3       Central  MULTIPOLYGON (((-122.45409 47.25597, -122.4538...\n",
       "4  South Tacoma  MULTIPOLYGON (((-122.50643 47.22469, -122.5119..."
      ]
     },
     "execution_count": 16,
     "metadata": {},
     "output_type": "execute_result"
    }
   ],
   "source": [
    "import geopandas\n",
    "geojson = geopandas.read_file('NC.geojson')\n",
    "geojson.head()"
   ]
  },
  {
   "cell_type": "code",
   "execution_count": 20,
   "id": "c42fe4f0",
   "metadata": {},
   "outputs": [
    {
     "data": {
      "application/vnd.plotly.v1+json": {
       "config": {
        "plotlyServerURL": "https://plot.ly"
       },
       "data": [
        {
         "coloraxis": "coloraxis",
         "featureidkey": "properties.name",
         "geojson": {
          "features": [
           {
            "geometry": {
             "coordinates": [
              [
               [
                [
                 -122.52307130318115,
                 47.311011837974114
                ],
                [
                 -122.51594497913234,
                 47.30744181923342
                ],
                [
                 -122.50990922852633,
                 47.30895624832991
                ],
                [
                 -122.50397262584313,
                 47.3040676829683
                ],
                [
                 -122.50929286374716,
                 47.30175966301976
                ],
                [
                 -122.51561585934982,
                 47.30179525261601
                ],
                [
                 -122.51570578144155,
                 47.2944245774445
                ],
                [
                 -122.50512866773815,
                 47.29433103570782
                ],
                [
                 -122.50512388310015,
                 47.30164535536989
                ],
                [
                 -122.49154943147293,
                 47.29209141514604
                ],
                [
                 -122.4906595101525,
                 47.290812246939765
                ],
                [
                 -122.49669147472736,
                 47.290645414589434
                ],
                [
                 -122.49724446468251,
                 47.29066605447485
                ],
                [
                 -122.50385388941103,
                 47.290743949423806
                ],
                [
                 -122.50385334207627,
                 47.29068988906491
                ],
                [
                 -122.50510885255636,
                 47.29069138703411
                ],
                [
                 -122.50514103403862,
                 47.255372925092324
                ],
                [
                 -122.50514101702089,
                 47.255366450273996
                ],
                [
                 -122.50514084343929,
                 47.25536644906734
                ],
                [
                 -122.5051408429453,
                 47.255366435839434
                ],
                [
                 -122.50498084683382,
                 47.244370720204266
                ],
                [
                 -122.50472278876292,
                 47.242904706522005
                ],
                [
                 -122.50499697602518,
                 47.24291367222178
                ],
                [
                 -122.51578493300012,
                 47.24277849179963
                ],
                [
                 -122.52624519713645,
                 47.24271111923172
                ],
                [
                 -122.52624549904763,
                 47.242612381334276
                ],
                [
                 -122.53438034343299,
                 47.24260688090586
                ],
                [
                 -122.5343804774208,
                 47.24229148178471
                ],
                [
                 -122.53572519821171,
                 47.242281562287275
                ],
                [
                 -122.53572476044177,
                 47.242588739178146
                ],
                [
                 -122.5368643391057,
                 47.24258515540134
                ],
                [
                 -122.53689549619867,
                 47.24255718150854
                ],
                [
                 -122.53693150941386,
                 47.24255106286107
                ],
                [
                 -122.5369314947617,
                 47.24212596276545
                ],
                [
                 -122.5396700538184,
                 47.2421271242976
                ],
                [
                 -122.53967060572168,
                 47.24129336843196
                ],
                [
                 -122.54184496688099,
                 47.24128521634852
                ],
                [
                 -122.54184349685292,
                 47.24177616559389
                ],
                [
                 -122.54156157282269,
                 47.2417756512455
                ],
                [
                 -122.54156063361509,
                 47.24259844403552
                ],
                [
                 -122.5469289280531,
                 47.242596922879784
                ],
                [
                 -122.54693859193755,
                 47.24073727415424
                ],
                [
                 -122.5464153122597,
                 47.24074378055995
                ],
                [
                 -122.54641820266458,
                 47.24029120155968
                ],
                [
                 -122.54768609427718,
                 47.24027427229249
                ],
                [
                 -122.54768614765669,
                 47.24017005275715
                ],
                [
                 -122.54900813062032,
                 47.24019877651557
                ],
                [
                 -122.54899520060155,
                 47.242604261093184
                ],
                [
                 -122.551565276374,
                 47.2426218359454
                ],
                [
                 -122.55158172869622,
                 47.24157661516022
                ],
                [
                 -122.55096143522574,
                 47.24157389035076
                ],
                [
                 -122.55096690897058,
                 47.24024089116101
                ],
                [
                 -122.55299833884335,
                 47.240287169928436
                ],
                [
                 -122.55301786063998,
                 47.2358465511418
                ],
                [
                 -122.55234892583202,
                 47.23583372706004
                ],
                [
                 -122.55235495212763,
                 47.235359149756896
                ],
                [
                 -122.55837756275155,
                 47.23542776309301
                ],
                [
                 -122.55834759678507,
                 47.23643209076057
                ],
                [
                 -122.56053106821442,
                 47.23645633369526
                ],
                [
                 -122.56053448992499,
                 47.236335597946045
                ],
                [
                 -122.56160594568078,
                 47.23634395111143
                ],
                [
                 -122.56081039918087,
                 47.2373344827792
                ],
                [
                 -122.56005766000192,
                 47.237762011868334
                ],
                [
                 -122.56004874123958,
                 47.23784444877836
                ],
                [
                 -122.5598278013619,
                 47.23796356899012
                ],
                [
                 -122.5598903578763,
                 47.23843966996032
                ],
                [
                 -122.55965612592864,
                 47.23873729570262
                ],
                [
                 -122.5577142090867,
                 47.24039544410037
                ],
                [
                 -122.55407039636306,
                 47.240309296479765
                ],
                [
                 -122.55406692762264,
                 47.24158740956428
                ],
                [
                 -122.55344260947894,
                 47.2415847695061
                ],
                [
                 -122.55344891911874,
                 47.24143381470744
                ],
                [
                 -122.55326368883416,
                 47.24143435668574
                ],
                [
                 -122.55326106919539,
                 47.24136583816635
                ],
                [
                 -122.55281795918901,
                 47.24136272405999
                ],
                [
                 -122.55281745318017,
                 47.24156020014454
                ],
                [
                 -122.55231386970898,
                 47.24155541349732
                ],
                [
                 -122.55231034328506,
                 47.24262234634575
                ],
                [
                 -122.55821135094943,
                 47.2426492561381
                ],
                [
                 -122.55816207790079,
                 47.242729667375755
                ],
                [
                 -122.55968472655228,
                 47.2427382480883
                ],
                [
                 -122.55944128331507,
                 47.24584171750489
                ],
                [
                 -122.55755113552455,
                 47.245809493555534
                ],
                [
                 -122.55651024876195,
                 47.2462887390117
                ],
                [
                 -122.5541089648366,
                 47.25426841306203
                ],
                [
                 -122.5464977491688,
                 47.263832116409425
                ],
                [
                 -122.5444970022121,
                 47.26620136785497
                ],
                [
                 -122.53734681288473,
                 47.27313709556323
                ],
                [
                 -122.53668427742855,
                 47.27404830000709
                ],
                [
                 -122.53166599574843,
                 47.28167564646214
                ],
                [
                 -122.53040207811165,
                 47.28832101421538
                ],
                [
                 -122.53009301735364,
                 47.29219064806545
                ],
                [
                 -122.5326764407253,
                 47.296009588734584
                ],
                [
                 -122.53683750426237,
                 47.3032508543619
                ],
                [
                 -122.53792792542845,
                 47.30489091517025
                ],
                [
                 -122.54164824548599,
                 47.30930947756455
                ],
                [
                 -122.54525166321439,
                 47.312232572077754
                ],
                [
                 -122.54637902518157,
                 47.313243867575814
                ],
                [
                 -122.54747832145905,
                 47.31446956432778
                ],
                [
                 -122.54829755360792,
                 47.315118784972555
                ],
                [
                 -122.54875237437005,
                 47.31583477432597
                ],
                [
                 -122.54875085888838,
                 47.31611179520712
                ],
                [
                 -122.54896393473365,
                 47.31651666519442
                ],
                [
                 -122.54876547703314,
                 47.31786674614719
                ],
                [
                 -122.54755242607318,
                 47.31862864924146
                ],
                [
                 -122.54657348257683,
                 47.318868073204676
                ],
                [
                 -122.54488648255794,
                 47.319471017349315
                ],
                [
                 -122.54316331599816,
                 47.319654969921345
                ],
                [
                 -122.54039133474613,
                 47.31962149930678
                ],
                [
                 -122.53863817383677,
                 47.319123028836536
                ],
                [
                 -122.53503717393019,
                 47.31849790901231
                ],
                [
                 -122.53273820855964,
                 47.31774839020362
                ],
                [
                 -122.53130355759943,
                 47.316605224943096
                ],
                [
                 -122.53005204399177,
                 47.31593054638031
                ],
                [
                 -122.5293955701957,
                 47.31531400488414
                ],
                [
                 -122.5257762098448,
                 47.31291178607278
                ],
                [
                 -122.52517264252424,
                 47.312626139382836
                ],
                [
                 -122.52307130318115,
                 47.311011837974114
                ]
               ]
              ]
             ],
             "type": "MultiPolygon"
            },
            "properties": {
             "name": "West End"
            },
            "type": "Feature"
           },
           {
            "geometry": {
             "coordinates": [
              [
               [
                [
                 -122.41441255121438,
                 47.315640269476965
                ],
                [
                 -122.414366949845,
                 47.31210332579128
                ],
                [
                 -122.40898481462753,
                 47.31213172505743
                ],
                [
                 -122.40900047694085,
                 47.308719922063524
                ],
                [
                 -122.40899939034892,
                 47.304724257840796
                ],
                [
                 -122.39831232793868,
                 47.304641948659885
                ],
                [
                 -122.39498039220948,
                 47.30470742555252
                ],
                [
                 -122.39400016240982,
                 47.304007678211654
                ],
                [
                 -122.39166680441863,
                 47.302320808244446
                ],
                [
                 -122.38984269188106,
                 47.30100952734591
                ],
                [
                 -122.38834335366346,
                 47.29998910729443
                ],
                [
                 -122.38690192444439,
                 47.2990088617823
                ],
                [
                 -122.38439106252467,
                 47.29730554166961
                ],
                [
                 -122.38271043235534,
                 47.29616733229762
                ],
                [
                 -122.37700791095406,
                 47.29229157005469
                ],
                [
                 -122.37619407258904,
                 47.291726101290244
                ],
                [
                 -122.37458275213683,
                 47.29060036733809
                ],
                [
                 -122.37307057055125,
                 47.289541569248165
                ],
                [
                 -122.37144691422,
                 47.28840502264901
                ],
                [
                 -122.36989438387904,
                 47.28734135093336
                ],
                [
                 -122.36865577905259,
                 47.286494731759824
                ],
                [
                 -122.36733781962901,
                 47.28556710649364
                ],
                [
                 -122.36578142482115,
                 47.284503443418664
                ],
                [
                 -122.36358449769469,
                 47.28298111289048
                ],
                [
                 -122.3622544386415,
                 47.282048141142056
                ],
                [
                 -122.3583471779986,
                 47.27930813966485
                ],
                [
                 -122.3556513183633,
                 47.277445379083325
                ],
                [
                 -122.3556816389535,
                 47.275525219230225
                ],
                [
                 -122.35576212411405,
                 47.27167635014051
                ],
                [
                 -122.35146755691342,
                 47.27169294822844
                ],
                [
                 -122.35151001283955,
                 47.270353981437204
                ],
                [
                 -122.35054299192704,
                 47.27035297604026
                ],
                [
                 -122.35055307375927,
                 47.269944198217495
                ],
                [
                 -122.35314281632667,
                 47.26991651820635
                ],
                [
                 -122.35314895690408,
                 47.268227103025616
                ],
                [
                 -122.35582663471959,
                 47.268181500714725
                ],
                [
                 -122.35583528710411,
                 47.26458607225396
                ],
                [
                 -122.3559800240177,
                 47.26108170049005
                ],
                [
                 -122.35365118126498,
                 47.26106962513177
                ],
                [
                 -122.35359231100357,
                 47.26216478708199
                ],
                [
                 -122.35020356639986,
                 47.26214217174062
                ],
                [
                 -122.35026260032511,
                 47.26104975243598
                ],
                [
                 -122.34946887331131,
                 47.26104597275599
                ],
                [
                 -122.34963624006706,
                 47.25830363839426
                ],
                [
                 -122.34838311907545,
                 47.25829347438677
                ],
                [
                 -122.34844045627055,
                 47.257384823205015
                ],
                [
                 -122.35593452777768,
                 47.25743502384046
                ],
                [
                 -122.35663148505738,
                 47.25743756701572
                ],
                [
                 -122.35664671723286,
                 47.25648022070247
                ],
                [
                 -122.35918077441337,
                 47.25649168146249
                ],
                [
                 -122.35760213443216,
                 47.255570875441364
                ],
                [
                 -122.35760951339837,
                 47.255318454883344
                ],
                [
                 -122.36066309330141,
                 47.254515278387956
                ],
                [
                 -122.3606831332844,
                 47.25358253383645
                ],
                [
                 -122.35939857978244,
                 47.253592192533205
                ],
                [
                 -122.35944566995849,
                 47.25181160607728
                ],
                [
                 -122.35966726173287,
                 47.25181353323251
                ],
                [
                 -122.35969115351891,
                 47.25087524146498
                ],
                [
                 -122.35950176888366,
                 47.250872797336875
                ],
                [
                 -122.35952794111486,
                 47.25000028680425
                ],
                [
                 -122.35945145938696,
                 47.25000151472821
                ],
                [
                 -122.35950868067023,
                 47.246303807536414
                ],
                [
                 -122.36683063878588,
                 47.246312163398514
                ],
                [
                 -122.37278810287637,
                 47.24634212982466
                ],
                [
                 -122.37304814609716,
                 47.24634320489167
                ],
                [
                 -122.37295958591524,
                 47.25378834513312
                ],
                [
                 -122.41403549848872,
                 47.27829889015895
                ],
                [
                 -122.41619756750937,
                 47.279032391233685
                ],
                [
                 -122.41486473980146,
                 47.28662902643009
                ],
                [
                 -122.41281093307767,
                 47.288146594456755
                ],
                [
                 -122.41458261301158,
                 47.292390041458134
                ],
                [
                 -122.41980042494772,
                 47.29559739205744
                ],
                [
                 -122.41980000210503,
                 47.296036187007175
                ],
                [
                 -122.42013594953167,
                 47.296186940954414
                ],
                [
                 -122.42037148074884,
                 47.29623514533852
                ],
                [
                 -122.4216223518317,
                 47.29638170405934
                ],
                [
                 -122.42230222494072,
                 47.296567886317
                ],
                [
                 -122.42236314752286,
                 47.29658058819753
                ],
                [
                 -122.42326067836613,
                 47.296765897649614
                ],
                [
                 -122.42337938006399,
                 47.29681603428157
                ],
                [
                 -122.42449073981392,
                 47.29700601348858
                ],
                [
                 -122.42558127015438,
                 47.29706469169164
                ],
                [
                 -122.42662925781373,
                 47.297173430422
                ],
                [
                 -122.42698614832673,
                 47.29712087701855
                ],
                [
                 -122.4280423559083,
                 47.296785192673994
                ],
                [
                 -122.42857581900495,
                 47.29671050034008
                ],
                [
                 -122.42928850540561,
                 47.2965752316677
                ],
                [
                 -122.42960686326326,
                 47.29646023544245
                ],
                [
                 -122.42980652636925,
                 47.296407547856475
                ],
                [
                 -122.4299272902187,
                 47.29640279494497
                ],
                [
                 -122.4301665500288,
                 47.296330250479706
                ],
                [
                 -122.43027414276783,
                 47.29629554969747
                ],
                [
                 -122.4304845101749,
                 47.29620428866141
                ],
                [
                 -122.43064613748935,
                 47.29610286919652
                ],
                [
                 -122.43275355347727,
                 47.29663817720392
                ],
                [
                 -122.43258718649474,
                 47.29716749831339
                ],
                [
                 -122.43256411561795,
                 47.29786994594367
                ],
                [
                 -122.4327872034082,
                 47.298019802877334
                ],
                [
                 -122.4328993402604,
                 47.29811117587157
                ],
                [
                 -122.43268582929849,
                 47.298227175521674
                ],
                [
                 -122.4327154137886,
                 47.29826507636521
                ],
                [
                 -122.43271197739176,
                 47.29828158826423
                ],
                [
                 -122.43306031981004,
                 47.298774902842645
                ],
                [
                 -122.43309049753482,
                 47.29882924830429
                ],
                [
                 -122.43311261734023,
                 47.29888372805318
                ],
                [
                 -122.4331263830314,
                 47.29893011984348
                ],
                [
                 -122.43313238726313,
                 47.29898486839919
                ],
                [
                 -122.43313485631663,
                 47.299053388037166
                ],
                [
                 -122.4331252384666,
                 47.29912210923009
                ],
                [
                 -122.43309577225429,
                 47.29919938866264
                ],
                [
                 -122.43302325101956,
                 47.299200597953124
                ],
                [
                 -122.43298955809067,
                 47.299272463040154
                ],
                [
                 -122.4329509472653,
                 47.299319728176265
                ],
                [
                 -122.43288462738468,
                 47.299381167434774
                ],
                [
                 -122.43273901148812,
                 47.299479580381266
                ],
                [
                 -122.43256578461255,
                 47.29959490802428
                ],
                [
                 -122.43230196326178,
                 47.299769336524925
                ],
                [
                 -122.43220370618492,
                 47.299839535028546
                ],
                [
                 -122.43208658696895,
                 47.299945699386875
                ],
                [
                 -122.4320088692692,
                 47.30002652512024
                ],
                [
                 -122.43195080278439,
                 47.30009331111015
                ],
                [
                 -122.43189725885883,
                 47.30017373389594
                ],
                [
                 -122.43188345561656,
                 47.301133814286494
                ],
                [
                 -122.43327831446828,
                 47.301132501102536
                ],
                [
                 -122.4332711288209,
                 47.30160431892938
                ],
                [
                 -122.43334375207529,
                 47.30160585023146
                ],
                [
                 -122.43334598738153,
                 47.3020034652785
                ],
                [
                 -122.43443887917418,
                 47.302012658681555
                ],
                [
                 -122.43443672791493,
                 47.302064800819196
                ],
                [
                 -122.4320494840617,
                 47.302049761076745
                ],
                [
                 -122.43200020973897,
                 47.301801021237914
                ],
                [
                 -122.43062223921301,
                 47.301823976944675
                ],
                [
                 -122.43070754324918,
                 47.30475420946671
                ],
                [
                 -122.43063698608252,
                 47.30626645970289
                ],
                [
                 -122.43104156133634,
                 47.306640918763975
                ],
                [
                 -122.43165087668575,
                 47.307102465620176
                ],
                [
                 -122.43216538649793,
                 47.30773013457816
                ],
                [
                 -122.43214803942001,
                 47.308032090094166
                ],
                [
                 -122.43167225283658,
                 47.308703683662294
                ],
                [
                 -122.43150218664746,
                 47.30908471250563
                ],
                [
                 -122.43134570316636,
                 47.31038474182025
                ],
                [
                 -122.43113166075241,
                 47.31127136545944
                ],
                [
                 -122.43038190856285,
                 47.31127836496004
                ],
                [
                 -122.43033758250938,
                 47.312063433946214
                ],
                [
                 -122.42769610799931,
                 47.31205527171163
                ],
                [
                 -122.42771494108818,
                 47.31527180781528
                ],
                [
                 -122.42639599243287,
                 47.31526355966081
                ],
                [
                 -122.42638631370882,
                 47.314432770397666
                ],
                [
                 -122.42507190783871,
                 47.31443814415118
                ],
                [
                 -122.42505453592128,
                 47.31204430849803
                ],
                [
                 -122.4234939693164,
                 47.31204278215546
                ],
                [
                 -122.41988128235161,
                 47.31205054872763
                ],
                [
                 -122.41840593273076,
                 47.312063997378516
                ],
                [
                 -122.41840222381124,
                 47.31387678829053
                ],
                [
                 -122.41706738652212,
                 47.31387418238178
                ],
                [
                 -122.4170723160994,
                 47.31457615588278
                ],
                [
                 -122.41667313732943,
                 47.31457726968488
                ],
                [
                 -122.41667181997647,
                 47.31566876704757
                ],
                [
                 -122.41441255121438,
                 47.315640269476965
                ]
               ]
              ]
             ],
             "type": "MultiPolygon"
            },
            "properties": {
             "name": "North East"
            },
            "type": "Feature"
           },
           {
            "geometry": {
             "coordinates": [
              [
               [
                [
                 -122.50385751614843,
                 47.29074292445973
                ],
                [
                 -122.49724446468251,
                 47.29066605447485
                ],
                [
                 -122.49669231400995,
                 47.29064596981629
                ],
                [
                 -122.4906595101525,
                 47.290812246939765
                ],
                [
                 -122.48998272874245,
                 47.28984479930631
                ],
                [
                 -122.48501970848567,
                 47.28676232995109
                ],
                [
                 -122.48244676850706,
                 47.28443137340189
                ],
                [
                 -122.47617082648738,
                 47.28178510308748
                ],
                [
                 -122.47075847762531,
                 47.27893458543592
                ],
                [
                 -122.46083930353942,
                 47.27602305046517
                ],
                [
                 -122.45955172806693,
                 47.27552376070457
                ],
                [
                 -122.45764734223206,
                 47.27457414300324
                ],
                [
                 -122.45554923018395,
                 47.27394589207636
                ],
                [
                 -122.45389943210931,
                 47.273123556215246
                ],
                [
                 -122.45139720438203,
                 47.27146264674167
                ],
                [
                 -122.45060398584165,
                 47.27103446472007
                ],
                [
                 -122.4507943271805,
                 47.27083928670663
                ],
                [
                 -122.45562459244822,
                 47.264079087288685
                ],
                [
                 -122.4528280278772,
                 47.263203107633416
                ],
                [
                 -122.45501708081825,
                 47.26008515830574
                ],
                [
                 -122.45502003813627,
                 47.260085304607045
                ],
                [
                 -122.45432599937303,
                 47.25699800021667
                ],
                [
                 -122.46292200061353,
                 47.25609400003905
                ],
                [
                 -122.46416899915948,
                 47.2554639999258
                ],
                [
                 -122.46598119477007,
                 47.25545222054719
                ],
                [
                 -122.46713725356051,
                 47.25545179027721
                ],
                [
                 -122.46832551726771,
                 47.25545080120268
                ],
                [
                 -122.4690906881377,
                 47.25544602334786
                ],
                [
                 -122.47022651800015,
                 47.25544316366521
                ],
                [
                 -122.47135439712065,
                 47.25544317063907
                ],
                [
                 -122.47248227635158,
                 47.2554431666306
                ],
                [
                 -122.47340837071344,
                 47.255432877161496
                ],
                [
                 -122.47361100038576,
                 47.25540600001391
                ],
                [
                 -122.47418499988385,
                 47.25528800066445
                ],
                [
                 -122.47480001836334,
                 47.25526654802325
                ],
                [
                 -122.47627047382693,
                 47.25527163597684
                ],
                [
                 -122.47774867778902,
                 47.25526834529752
                ],
                [
                 -122.47921913346926,
                 47.25527339582706
                ],
                [
                 -122.4806894883153,
                 47.25527568686283
                ],
                [
                 -122.48216386882838,
                 47.255277890272964
                ],
                [
                 -122.48369863349357,
                 47.255279040856195
                ],
                [
                 -122.4889801406139,
                 47.25529542628083
                ],
                [
                 -122.49165949429192,
                 47.255312463838536
                ],
                [
                 -122.50383428729896,
                 47.25535753347282
                ],
                [
                 -122.50514101707886,
                 47.25536643703653
                ],
                [
                 -122.50514103403862,
                 47.255372925092324
                ],
                [
                 -122.50510885255636,
                 47.29069138703411
                ],
                [
                 -122.5038569271141,
                 47.29068989341592
                ],
                [
                 -122.50385751614843,
                 47.29074292445973
                ]
               ]
              ]
             ],
             "type": "MultiPolygon"
            },
            "properties": {
             "name": "North End"
            },
            "type": "Feature"
           },
           {
            "geometry": {
             "coordinates": [
              [
               [
                [
                 -122.45408892873525,
                 47.25597158880005
                ],
                [
                 -122.45385416775562,
                 47.254944370438444
                ],
                [
                 -122.4533844732033,
                 47.252884449374996
                ],
                [
                 -122.45291471499937,
                 47.25082178401386
                ],
                [
                 -122.45267999887474,
                 47.249794561192594
                ],
                [
                 -122.45197560571317,
                 47.24670466518636
                ],
                [
                 -122.45127139306562,
                 47.24361750208701
                ],
                [
                 -122.44839095774469,
                 47.24392379675331
                ],
                [
                 -122.44256136785877,
                 47.2445318371738
                ],
                [
                 -122.44172491943482,
                 47.2408901136046
                ],
                [
                 -122.4404418408081,
                 47.23524835319443
                ],
                [
                 -122.44081307923734,
                 47.23504741305763
                ],
                [
                 -122.4411379125317,
                 47.23486328048107
                ],
                [
                 -122.44146706408567,
                 47.23468635502604
                ],
                [
                 -122.44181767055991,
                 47.23454514558609
                ],
                [
                 -122.4420877414537,
                 47.23444188552548
                ],
                [
                 -122.44227469307675,
                 47.234378414396446
                ],
                [
                 -122.44271690529501,
                 47.23424758244509
                ],
                [
                 -122.44315235612468,
                 47.234152514915735
                ],
                [
                 -122.44506608585887,
                 47.23373917223183
                ],
                [
                 -122.446282733162,
                 47.233757121973966
                ],
                [
                 -122.45048869258258,
                 47.23382072658373
                ],
                [
                 -122.45233368986295,
                 47.23384448083907
                ],
                [
                 -122.45290560022583,
                 47.233848548288655
                ],
                [
                 -122.4540932867598,
                 47.233844964377525
                ],
                [
                 -122.4551641766081,
                 47.23384059816966
                ],
                [
                 -122.45588577442088,
                 47.233864063254885
                ],
                [
                 -122.45707336123272,
                 47.23385770790678
                ],
                [
                 -122.45787454152295,
                 47.23385513271612
                ],
                [
                 -122.45911081605973,
                 47.23385890331475
                ],
                [
                 -122.46435762900191,
                 47.23384446613036
                ],
                [
                 -122.46467416439445,
                 47.23416633213767
                ],
                [
                 -122.46487053839779,
                 47.23430355594543
                ],
                [
                 -122.46522296986336,
                 47.23454982824694
                ],
                [
                 -122.46573181978849,
                 47.23480107048439
                ],
                [
                 -122.46573182046434,
                 47.23480107084895
                ],
                [
                 -122.46581030495203,
                 47.23483982176696
                ],
                [
                 -122.46608966400653,
                 47.2349213551129
                ],
                [
                 -122.46657344497336,
                 47.23506254841606
                ],
                [
                 -122.46751160488323,
                 47.235196592083284
                ],
                [
                 -122.46935415645612,
                 47.235115272990434
                ],
                [
                 -122.47180293630932,
                 47.234980749774216
                ],
                [
                 -122.47512516544711,
                 47.23493126617406
                ],
                [
                 -122.47969098624561,
                 47.23488503297974
                ],
                [
                 -122.48231584818453,
                 47.23485837231113
                ],
                [
                 -122.48794519068362,
                 47.234876927189426
                ],
                [
                 -122.48895427974055,
                 47.23488022431449
                ],
                [
                 -122.48941395922472,
                 47.23487756070423
                ],
                [
                 -122.49271794156013,
                 47.23485836201285
                ],
                [
                 -122.4953495712773,
                 47.234848749791425
                ],
                [
                 -122.49623354580523,
                 47.234933501307914
                ],
                [
                 -122.49717708531034,
                 47.235210054564966
                ],
                [
                 -122.49757865902266,
                 47.23542511764625
                ],
                [
                 -122.49757866138755,
                 47.23542511888399
                ],
                [
                 -122.49786183515621,
                 47.23557677089817
                ],
                [
                 -122.49851692109726,
                 47.23608977496628
                ],
                [
                 -122.50472278876292,
                 47.242904706522005
                ],
                [
                 -122.50498084683382,
                 47.244370720204266
                ],
                [
                 -122.5051408429453,
                 47.255366435839434
                ],
                [
                 -122.50514084343929,
                 47.25536644906734
                ],
                [
                 -122.50383428729896,
                 47.25535753347282
                ],
                [
                 -122.49165949429192,
                 47.255312463838536
                ],
                [
                 -122.4889801406139,
                 47.25529542628083
                ],
                [
                 -122.48369863349357,
                 47.255279040856195
                ],
                [
                 -122.48216386882838,
                 47.255277890272964
                ],
                [
                 -122.4806894883153,
                 47.25527568686283
                ],
                [
                 -122.47921913346926,
                 47.25527339582706
                ],
                [
                 -122.47774867778902,
                 47.25526834529752
                ],
                [
                 -122.47627047382693,
                 47.25527163597684
                ],
                [
                 -122.47480001836334,
                 47.25526654802325
                ],
                [
                 -122.47418499988385,
                 47.25528800066445
                ],
                [
                 -122.47361100038576,
                 47.25540600001391
                ],
                [
                 -122.47340837071344,
                 47.255432877161496
                ],
                [
                 -122.47248227635158,
                 47.2554431666306
                ],
                [
                 -122.47135439712065,
                 47.25544317063907
                ],
                [
                 -122.47022651800015,
                 47.25544316366521
                ],
                [
                 -122.4690906881377,
                 47.25544602334786
                ],
                [
                 -122.46832551726771,
                 47.25545080120268
                ],
                [
                 -122.46713725356051,
                 47.25545179027721
                ],
                [
                 -122.46598119477007,
                 47.25545222054719
                ],
                [
                 -122.46416899915948,
                 47.2554639999258
                ],
                [
                 -122.46292200061353,
                 47.25609400003905
                ],
                [
                 -122.45432599937303,
                 47.25699800021667
                ],
                [
                 -122.45408892873525,
                 47.25597158880005
                ]
               ]
              ]
             ],
             "type": "MultiPolygon"
            },
            "properties": {
             "name": "Central"
            },
            "type": "Feature"
           },
           {
            "geometry": {
             "coordinates": [
              [
               [
                [
                 -122.50642657406654,
                 47.22469473674152
                ],
                [
                 -122.51196887238862,
                 47.224658877923794
                ],
                [
                 -122.51198223910363,
                 47.225445765590734
                ],
                [
                 -122.51246524333911,
                 47.22544285492323
                ],
                [
                 -122.512466353635,
                 47.22557996454717
                ],
                [
                 -122.51321500174804,
                 47.22557517498167
                ],
                [
                 -122.51322826663147,
                 47.22646628236111
                ],
                [
                 -122.51371127997297,
                 47.22646336649687
                ],
                [
                 -122.51371187977144,
                 47.22658677205495
                ],
                [
                 -122.51384465223136,
                 47.22658446240227
                ],
                [
                 -122.51386760766073,
                 47.22827074840359
                ],
                [
                 -122.50955675688935,
                 47.228301777573016
                ],
                [
                 -122.50954142417872,
                 47.22724615286579
                ],
                [
                 -122.50769383444005,
                 47.22725626933997
                ],
                [
                 -122.50768588515177,
                 47.22650494226991
                ],
                [
                 -122.50645420958017,
                 47.22651258368808
                ],
                [
                 -122.50642657406654,
                 47.22469473674152
                ]
               ]
              ]
             ],
             "type": "MultiPolygon"
            },
            "properties": {
             "name": "South Tacoma"
            },
            "type": "Feature"
           },
           {
            "geometry": {
             "coordinates": [
              [
               [
                [
                 -122.46841427126925,
                 47.17008186166078
                ],
                [
                 -122.46843375909653,
                 47.17369078258313
                ],
                [
                 -122.46698229496982,
                 47.17513339726711
                ],
                [
                 -122.46661134742025,
                 47.175548351346
                ],
                [
                 -122.46649586986305,
                 47.17569018686352
                ],
                [
                 -122.46652852835578,
                 47.17570334453909
                ],
                [
                 -122.46638631591854,
                 47.17588403076326
                ],
                [
                 -122.46617203779783,
                 47.1761838732299
                ],
                [
                 -122.46599675197356,
                 47.176450141353705
                ],
                [
                 -122.46578839294698,
                 47.176801991485185
                ],
                [
                 -122.46565742078545,
                 47.17707024832037
                ],
                [
                 -122.46554112391527,
                 47.17729985941817
                ],
                [
                 -122.46549709439451,
                 47.17741579624609
                ],
                [
                 -122.46542011727081,
                 47.17740064886235
                ],
                [
                 -122.46526611220467,
                 47.177809168391896
                ],
                [
                 -122.46509070327964,
                 47.178182397720796
                ],
                [
                 -122.46497490229076,
                 47.178425712540424
                ],
                [
                 -122.46492645016245,
                 47.178530753939484
                ],
                [
                 -122.46490041443289,
                 47.17858879050513
                ],
                [
                 -122.46489317594391,
                 47.17861085408266
                ],
                [
                 -122.46485498026502,
                 47.17866635466693
                ],
                [
                 -122.46481266440328,
                 47.17871918260666
                ],
                [
                 -122.46475446929236,
                 47.178777765444984
                ],
                [
                 -122.4646998934092,
                 47.17882531643263
                ],
                [
                 -122.46462521775075,
                 47.17887320888704
                ],
                [
                 -122.46457004079375,
                 47.17890431451096
                ],
                [
                 -122.46451074367029,
                 47.17893274754199
                ],
                [
                 -122.46445124609555,
                 47.178955698701884
                ],
                [
                 -122.46435586983513,
                 47.17898748705763
                ],
                [
                 -122.46429205188694,
                 47.179002283794276
                ],
                [
                 -122.4641881349941,
                 47.17902050409729
                ],
                [
                 -122.46408803765313,
                 47.179033174276164
                ],
                [
                 -122.46399959950097,
                 47.17903467605139
                ],
                [
                 -122.46399758193647,
                 47.17908956198885
                ],
                [
                 -122.46316907830371,
                 47.17909265722519
                ],
                [
                 -122.46317104573598,
                 47.179366881981636
                ],
                [
                 -122.46381051631592,
                 47.17936425392029
                ],
                [
                 -122.46381361960246,
                 47.17944922127729
                ],
                [
                 -122.46489136521686,
                 47.1794418875946
                ],
                [
                 -122.46452186005182,
                 47.1807783163787
                ],
                [
                 -122.46318188395986,
                 47.180765414114795
                ],
                [
                 -122.4632197743524,
                 47.184667459670436
                ],
                [
                 -122.46393207440795,
                 47.184674566230186
                ],
                [
                 -122.46364556925685,
                 47.185751777502105
                ],
                [
                 -122.46270071426879,
                 47.18918231634133
                ],
                [
                 -122.46256422023993,
                 47.18974137398493
                ],
                [
                 -122.4624117662928,
                 47.19074499828291
                ],
                [
                 -122.4623825456441,
                 47.191156879349215
                ],
                [
                 -122.46232614851905,
                 47.19413077921334
                ],
                [
                 -122.46230757524673,
                 47.19516504146327
                ],
                [
                 -122.46224291038773,
                 47.19647982654718
                ],
                [
                 -122.46209367534857,
                 47.197903004974435
                ],
                [
                 -122.4613460752339,
                 47.202887939951395
                ],
                [
                 -122.46128180277528,
                 47.20355272793357
                ],
                [
                 -122.4613190948467,
                 47.204133517650256
                ],
                [
                 -122.46162510772857,
                 47.20656371871954
                ],
                [
                 -122.46230485804804,
                 47.211623171124536
                ],
                [
                 -122.46256462625473,
                 47.21388685327209
                ],
                [
                 -122.46288101687679,
                 47.216267502439734
                ],
                [
                 -122.46309588208375,
                 47.21785179121054
                ],
                [
                 -122.46335290928292,
                 47.220038722772145
                ],
                [
                 -122.46341123524529,
                 47.22075353661923
                ],
                [
                 -122.46343103464835,
                 47.22151562685939
                ],
                [
                 -122.46343649434597,
                 47.2219954786394
                ],
                [
                 -122.46341200649034,
                 47.22297772282969
                ],
                [
                 -122.46336369674562,
                 47.22650270126491
                ],
                [
                 -122.46334721897517,
                 47.22704325999257
                ],
                [
                 -122.46331980560153,
                 47.22739476919038
                ],
                [
                 -122.46327821769482,
                 47.227688925523026
                ],
                [
                 -122.46319709469795,
                 47.22800295002161
                ],
                [
                 -122.46308992608118,
                 47.22826530796152
                ],
                [
                 -122.46298075331437,
                 47.22847284906901
                ],
                [
                 -122.46283374704343,
                 47.22874685222597
                ],
                [
                 -122.4626888600865,
                 47.22896871120227
                ],
                [
                 -122.46254729482759,
                 47.22917131588393
                ],
                [
                 -122.46237203702815,
                 47.229333353446194
                ],
                [
                 -122.4621937557041,
                 47.229522867354994
                ],
                [
                 -122.46191538093176,
                 47.22972778983824
                ],
                [
                 -122.46127050295333,
                 47.23015009575155
                ],
                [
                 -122.4608480665634,
                 47.23037939614439
                ],
                [
                 -122.46023328529606,
                 47.230633892004306
                ],
                [
                 -122.4595436702669,
                 47.230823830422906
                ],
                [
                 -122.45858445511881,
                 47.231018325823555
                ],
                [
                 -122.45764448148938,
                 47.23107810411837
                ],
                [
                 -122.45692262066194,
                 47.23104642741789
                ],
                [
                 -122.4508985568863,
                 47.23036099099568
                ],
                [
                 -122.44906539922017,
                 47.230216345829035
                ],
                [
                 -122.44704556878169,
                 47.2302530748629
                ],
                [
                 -122.4455411223625,
                 47.23040177962933
                ],
                [
                 -122.4444009916122,
                 47.23060468194647
                ],
                [
                 -122.44314634288584,
                 47.23086983029669
                ],
                [
                 -122.44089536426935,
                 47.23153013817339
                ],
                [
                 -122.43741751645945,
                 47.23255923636236
                ],
                [
                 -122.43617310798803,
                 47.232887213870185
                ],
                [
                 -122.43505594697699,
                 47.233059470876
                ],
                [
                 -122.43411749055699,
                 47.23316291174625
                ],
                [
                 -122.43404739252975,
                 47.232557989606356
                ],
                [
                 -122.43403671221499,
                 47.232149535063876
                ],
                [
                 -122.43403426298883,
                 47.230180457707604
                ],
                [
                 -122.43406447423483,
                 47.22811210303013
                ],
                [
                 -122.43405850134853,
                 47.224703263690124
                ],
                [
                 -122.43401514036888,
                 47.21678908955894
                ],
                [
                 -122.43398345135485,
                 47.20729774406381
                ],
                [
                 -122.43398568248693,
                 47.1991428581303
                ],
                [
                 -122.43398670658117,
                 47.196550285447444
                ],
                [
                 -122.43404720909884,
                 47.1918479710672
                ],
                [
                 -122.42431529165651,
                 47.19186925840457
                ],
                [
                 -122.42319411172215,
                 47.191866475977704
                ],
                [
                 -122.4209706538274,
                 47.19180342852957
                ],
                [
                 -122.42077983998875,
                 47.19166585534822
                ],
                [
                 -122.42078330111363,
                 47.19108712331054
                ],
                [
                 -122.42080704563122,
                 47.19085087119928
                ],
                [
                 -122.4208248791748,
                 47.1790768525671
                ],
                [
                 -122.4203019892075,
                 47.17907730754449
                ],
                [
                 -122.42030249178474,
                 47.17886612322782
                ],
                [
                 -122.41977548598564,
                 47.178863901609844
                ],
                [
                 -122.41977236207094,
                 47.17866374769292
                ],
                [
                 -122.42082215396418,
                 47.17866277347609
                ],
                [
                 -122.42081734073389,
                 47.17683905989637
                ],
                [
                 -122.42033869034054,
                 47.176838780592
                ],
                [
                 -122.42034293823009,
                 47.17628197296193
                ],
                [
                 -122.4208175639586,
                 47.176282319008436
                ],
                [
                 -122.42082359664414,
                 47.175212624783505
                ],
                [
                 -122.42034898046816,
                 47.17521227883496
                ],
                [
                 -122.42035334544505,
                 47.17432087786466
                ],
                [
                 -122.42042579646495,
                 47.17432241740592
                ],
                [
                 -122.42043133470521,
                 47.17346390719532
                ],
                [
                 -122.42082946608002,
                 47.17346278040052
                ],
                [
                 -122.4208232611542,
                 47.170023722631086
                ],
                [
                 -122.42634125854437,
                 47.17003066856743
                ],
                [
                 -122.42634243058147,
                 47.16995111482878
                ],
                [
                 -122.43219392251484,
                 47.16994948312094
                ],
                [
                 -122.43307855690017,
                 47.16994566911158
                ],
                [
                 -122.43408014424163,
                 47.16995086264793
                ],
                [
                 -122.43413315317864,
                 47.16784642748458
                ],
                [
                 -122.4314583720709,
                 47.16783354073154
                ],
                [
                 -122.43147003340613,
                 47.16715044712984
                ],
                [
                 -122.43414458340446,
                 47.16715785169935
                ],
                [
                 -122.43414591866836,
                 47.16697133476157
                ],
                [
                 -122.43566228359465,
                 47.16697887241466
                ],
                [
                 -122.4356397321816,
                 47.16825180201754
                ],
                [
                 -122.4354305394067,
                 47.16824981832815
                ],
                [
                 -122.43540788473123,
                 47.16996704472045
                ],
                [
                 -122.44183933969643,
                 47.16998812806656
                ],
                [
                 -122.4421409825709,
                 47.169988547663806
                ],
                [
                 -122.44314659090033,
                 47.16999359518743
                ],
                [
                 -122.44321715488634,
                 47.16994304311728
                ],
                [
                 -122.44347017026992,
                 47.16993330606174
                ],
                [
                 -122.4435487154177,
                 47.169992322656505
                ],
                [
                 -122.44502616373994,
                 47.17003330395706
                ],
                [
                 -122.44502685765836,
                 47.17005249028246
                ],
                [
                 -122.4454892715382,
                 47.170050196961576
                ],
                [
                 -122.44552847265103,
                 47.17002211176426
                ],
                [
                 -122.44572963415762,
                 47.17002421244152
                ],
                [
                 -122.44578297542473,
                 47.17005348324268
                ],
                [
                 -122.44727923321824,
                 47.170058465850694
                ],
                [
                 -122.45241680075637,
                 47.1701089694935
                ],
                [
                 -122.45269874621624,
                 47.170120664458274
                ],
                [
                 -122.46311762260814,
                 47.170081393067825
                ],
                [
                 -122.46405852624278,
                 47.17007638687652
                ],
                [
                 -122.46419351095744,
                 47.1668350919965
                ],
                [
                 -122.46580151167517,
                 47.16681873721252
                ],
                [
                 -122.46566712481258,
                 47.17007373840567
                ],
                [
                 -122.46841427126925,
                 47.17008186166078
                ]
               ]
              ]
             ],
             "type": "MultiPolygon"
            },
            "properties": {
             "name": "South End"
            },
            "type": "Feature"
           },
           {
            "geometry": {
             "coordinates": [
              [
               [
                [
                 -122.47512351682703,
                 47.23493343258417
                ],
                [
                 -122.47180334350247,
                 47.23498179558671
                ],
                [
                 -122.46935206336133,
                 47.23511676121291
                ],
                [
                 -122.46751083004489,
                 47.23519742944198
                ],
                [
                 -122.46657171644797,
                 47.23506254483428
                ],
                [
                 -122.46608966400653,
                 47.2349213551129
                ],
                [
                 -122.4658105822923,
                 47.234839612721224
                ],
                [
                 -122.46573182046434,
                 47.23480107084895
                ],
                [
                 -122.46573181978849,
                 47.23480107048439
                ],
                [
                 -122.46522018299201,
                 47.23455069974106
                ],
                [
                 -122.46487053839779,
                 47.23430355594543
                ],
                [
                 -122.46467456967441,
                 47.2341650353885
                ],
                [
                 -122.4644619503277,
                 47.23394998236157
                ],
                [
                 -122.46435762900191,
                 47.23384446613036
                ],
                [
                 -122.45911081605973,
                 47.23385890331475
                ],
                [
                 -122.45787454152295,
                 47.23385513271612
                ],
                [
                 -122.45707336123272,
                 47.23385770790678
                ],
                [
                 -122.45588577442088,
                 47.233864063254885
                ],
                [
                 -122.4551641766081,
                 47.23384059816966
                ],
                [
                 -122.4540932867598,
                 47.233844964377525
                ],
                [
                 -122.45290560022583,
                 47.233848548288655
                ],
                [
                 -122.45233368986295,
                 47.23384448083907
                ],
                [
                 -122.45048869258258,
                 47.23382072658373
                ],
                [
                 -122.446282733162,
                 47.233757121973966
                ],
                [
                 -122.44506608585887,
                 47.23373917223183
                ],
                [
                 -122.44315235612468,
                 47.234152514915735
                ],
                [
                 -122.44271690529501,
                 47.23424758244509
                ],
                [
                 -122.44227469307675,
                 47.234378414396446
                ],
                [
                 -122.4420877414537,
                 47.23444188552548
                ],
                [
                 -122.44181767055991,
                 47.23454514558609
                ],
                [
                 -122.44146840451441,
                 47.23468538547729
                ],
                [
                 -122.44113661985851,
                 47.23486372631616
                ],
                [
                 -122.44081307923734,
                 47.23504741305763
                ],
                [
                 -122.4404418408081,
                 47.23524835319443
                ],
                [
                 -122.44014841530557,
                 47.23381345455352
                ],
                [
                 -122.44023021199894,
                 47.23362559334318
                ],
                [
                 -122.44037589722102,
                 47.233422948850254
                ],
                [
                 -122.44089536426935,
                 47.23153013817339
                ],
                [
                 -122.44314634288584,
                 47.23086983029669
                ],
                [
                 -122.4444009916122,
                 47.23060468194647
                ],
                [
                 -122.4455411223625,
                 47.23040177962933
                ],
                [
                 -122.44704556878169,
                 47.2302530748629
                ],
                [
                 -122.44906539922017,
                 47.230216345829035
                ],
                [
                 -122.4508985568863,
                 47.23036099099568
                ],
                [
                 -122.45692262066194,
                 47.23104642741789
                ],
                [
                 -122.45764448148938,
                 47.23107810411837
                ],
                [
                 -122.45858445511881,
                 47.231018325823555
                ],
                [
                 -122.4595436702669,
                 47.230823830422906
                ],
                [
                 -122.46023328529606,
                 47.230633892004306
                ],
                [
                 -122.4608480665634,
                 47.23037939614439
                ],
                [
                 -122.46127050295333,
                 47.23015009575155
                ],
                [
                 -122.46191538093176,
                 47.22972778983824
                ],
                [
                 -122.4621937557041,
                 47.229522867354994
                ],
                [
                 -122.46237203702815,
                 47.229333353446194
                ],
                [
                 -122.46254729482759,
                 47.22917131588393
                ],
                [
                 -122.4626888600865,
                 47.22896871120227
                ],
                [
                 -122.46283374704343,
                 47.22874685222597
                ],
                [
                 -122.46298075331437,
                 47.22847284906901
                ],
                [
                 -122.46308992608118,
                 47.22826530796152
                ],
                [
                 -122.46319709469795,
                 47.22800295002161
                ],
                [
                 -122.46327821769482,
                 47.227688925523026
                ],
                [
                 -122.46331980560153,
                 47.22739476919038
                ],
                [
                 -122.46334721897517,
                 47.22704325999257
                ],
                [
                 -122.46336369674562,
                 47.22650270126491
                ],
                [
                 -122.46341200649034,
                 47.22297772282969
                ],
                [
                 -122.46343649434597,
                 47.2219954786394
                ],
                [
                 -122.46343103464835,
                 47.22151562685939
                ],
                [
                 -122.46341123524529,
                 47.22075353661923
                ],
                [
                 -122.46335290928292,
                 47.220038722772145
                ],
                [
                 -122.46309588208375,
                 47.21785179121054
                ],
                [
                 -122.46288101687679,
                 47.216267502439734
                ],
                [
                 -122.46256462625473,
                 47.21388685327209
                ],
                [
                 -122.46230485804804,
                 47.211623171124536
                ],
                [
                 -122.46162510772857,
                 47.20656371871954
                ],
                [
                 -122.4613190948467,
                 47.204133517650256
                ],
                [
                 -122.46128180277528,
                 47.20355272793357
                ],
                [
                 -122.4613460752339,
                 47.202887939951395
                ],
                [
                 -122.46209367534857,
                 47.197903004974435
                ],
                [
                 -122.46224291038773,
                 47.19647982654718
                ],
                [
                 -122.46230757524673,
                 47.19516504146327
                ],
                [
                 -122.46232614851905,
                 47.19413077921334
                ],
                [
                 -122.4623825456441,
                 47.191156879349215
                ],
                [
                 -122.4624117662928,
                 47.19074499828291
                ],
                [
                 -122.46256422023993,
                 47.18974137398493
                ],
                [
                 -122.46270071426879,
                 47.18918231634133
                ],
                [
                 -122.46364556925685,
                 47.185751777502105
                ],
                [
                 -122.46393444283089,
                 47.18467533172338
                ],
                [
                 -122.4644231562069,
                 47.18468268292648
                ],
                [
                 -122.46447151471617,
                 47.184574901203966
                ],
                [
                 -122.46451655382076,
                 47.18448637376904
                ],
                [
                 -122.46457787435376,
                 47.18440305502262
                ],
                [
                 -122.4646121541832,
                 47.18435036384253
                ],
                [
                 -122.46465065462507,
                 47.18430308612333
                ],
                [
                 -122.46467759482213,
                 47.18426971759858
                ],
                [
                 -122.46470865550428,
                 47.18423902162144
                ],
                [
                 -122.46477067660257,
                 47.18417488887566
                ],
                [
                 -122.4648173174283,
                 47.18413021544013
                ],
                [
                 -122.46485239829892,
                 47.18409945113257
                ],
                [
                 -122.46510274523511,
                 47.18423506989212
                ],
                [
                 -122.46502886394788,
                 47.18430488945972
                ],
                [
                 -122.46494754287967,
                 47.18439129083324
                ],
                [
                 -122.46490894246294,
                 47.18443582773434
                ],
                [
                 -122.46485546272079,
                 47.18451352839397
                ],
                [
                 -122.4648060032069,
                 47.184591160661796
                ],
                [
                 -122.46523255871126,
                 47.184594884771045
                ],
                [
                 -122.4652089376658,
                 47.184608999015175
                ],
                [
                 -122.47269859669144,
                 47.184695433323206
                ],
                [
                 -122.47376910994046,
                 47.18470734013247
                ],
                [
                 -122.47376800763428,
                 47.184786893920986
                ],
                [
                 -122.48348172964356,
                 47.18474689651138
                ],
                [
                 -122.50497810990404,
                 47.18469717669959
                ],
                [
                 -122.50507195644909,
                 47.19044954562723
                ],
                [
                 -122.50685435989794,
                 47.19045155021687
                ],
                [
                 -122.5078280885848,
                 47.19045385247793
                ],
                [
                 -122.50868944234249,
                 47.19046358312054
                ],
                [
                 -122.50873227533593,
                 47.19193287812278
                ],
                [
                 -122.51476915917446,
                 47.19187178154877
                ],
                [
                 -122.51578417790141,
                 47.19254523888862
                ],
                [
                 -122.51583776054993,
                 47.19547615869187
                ],
                [
                 -122.52096947004785,
                 47.195408572593784
                ],
                [
                 -122.52107195272643,
                 47.195565854136184
                ],
                [
                 -122.52114567018204,
                 47.1957071823999
                ],
                [
                 -122.52119866398823,
                 47.1958324169521
                ],
                [
                 -122.52123986585762,
                 47.19853317268013
                ],
                [
                 -122.52133482949212,
                 47.198597336448806
                ],
                [
                 -122.52146876838916,
                 47.19873486969311
                ],
                [
                 -122.5214296878416,
                 47.19887268314131
                ],
                [
                 -122.52124738527912,
                 47.1990541378914
                ],
                [
                 -122.52124573614653,
                 47.19901028486883
                ],
                [
                 -122.51956873605029,
                 47.19903682597208
                ],
                [
                 -122.51950904385744,
                 47.198840399880545
                ],
                [
                 -122.51892740563532,
                 47.1986750233579
                ],
                [
                 -122.51869107471624,
                 47.19870383047759
                ],
                [
                 -122.51803579014589,
                 47.19893467033226
                ],
                [
                 -122.51803639967729,
                 47.19905807718809
                ],
                [
                 -122.50883080429294,
                 47.199199071491535
                ],
                [
                 -122.5088071700594,
                 47.194260051671506
                ],
                [
                 -122.50513736022532,
                 47.19425240559683
                ],
                [
                 -122.50521930832915,
                 47.19925348949541
                ],
                [
                 -122.50523551167535,
                 47.20184496303957
                ],
                [
                 -122.50614902089833,
                 47.20184558401671
                ],
                [
                 -122.50613915847927,
                 47.2027672673443
                ],
                [
                 -122.50844921374751,
                 47.202771075529014
                ],
                [
                 -122.50842662030638,
                 47.202812606641814
                ],
                [
                 -122.50840021009138,
                 47.20285968919492
                ],
                [
                 -122.50831675251646,
                 47.202995525048806
                ],
                [
                 -122.50822525130465,
                 47.203131500353294
                ],
                [
                 -122.50815252659015,
                 47.20323149604347
                ],
                [
                 -122.50810662196561,
                 47.20329537242261
                ],
                [
                 -122.50802585344331,
                 47.203395507537856
                ],
                [
                 -122.50797561968787,
                 47.20345123114908
                ],
                [
                 -122.50790248448011,
                 47.20354026338573
                ],
                [
                 -122.50762728534687,
                 47.20382204060175
                ],
                [
                 -122.50747545507001,
                 47.20395906197819
                ],
                [
                 -122.506252607905,
                 47.20515958558223
                ],
                [
                 -122.50628147679386,
                 47.20517828318982
                ],
                [
                 -122.50616212081437,
                 47.20532296735981
                ],
                [
                 -122.50605039863697,
                 47.20545654867238
                ],
                [
                 -122.50593588174351,
                 47.20562308943849
                ],
                [
                 -122.50587903223213,
                 47.20571732309636
                ],
                [
                 -122.50583353197159,
                 47.20579216172408
                ],
                [
                 -122.50578431666105,
                 47.20587529261841
                ],
                [
                 -122.50573520337974,
                 47.20596116427437
                ],
                [
                 -122.50566131247876,
                 47.20613797083272
                ],
                [
                 -122.50561342632068,
                 47.206256732273445
                ],
                [
                 -122.50558813698714,
                 47.20633396311566
                ],
                [
                 -122.50547409517576,
                 47.206621169095584
                ],
                [
                 -122.50543629763143,
                 47.20679460744244
                ],
                [
                 -122.50540197729255,
                 47.20706123349576
                ],
                [
                 -122.50538974281649,
                 47.20727262500645
                ],
                [
                 -122.50543810879557,
                 47.20727452947149
                ],
                [
                 -122.5054375014429,
                 47.207905335757445
                ],
                [
                 -122.50539186336377,
                 47.20808439497108
                ],
                [
                 -122.50540378130785,
                 47.21422758282158
                ],
                [
                 -122.50534590496692,
                 47.21925573674344
                ],
                [
                 -122.50542636239933,
                 47.21925434278175
                ],
                [
                 -122.50540612746471,
                 47.22097703223174
                ],
                [
                 -122.50539688996963,
                 47.2211609449031
                ],
                [
                 -122.5053785759674,
                 47.22832760539854
                ],
                [
                 -122.50517739851912,
                 47.22833109010126
                ],
                [
                 -122.50506135027645,
                 47.23579287757841
                ],
                [
                 -122.50499697602518,
                 47.24291367222178
                ],
                [
                 -122.50472278876292,
                 47.242904706522005
                ],
                [
                 -122.49851692109726,
                 47.23608977496628
                ],
                [
                 -122.4978616348851,
                 47.23557725568231
                ],
                [
                 -122.49757866138755,
                 47.23542511888399
                ],
                [
                 -122.49757865902266,
                 47.23542511764625
                ],
                [
                 -122.49757865823345,
                 47.235425117208635
                ],
                [
                 -122.49717956987637,
                 47.23521055019412
                ],
                [
                 -122.49623508481275,
                 47.23493338467489
                ],
                [
                 -122.49535004919056,
                 47.234847165957504
                ],
                [
                 -122.49271699639468,
                 47.234856859766026
                ],
                [
                 -122.48941395922472,
                 47.23487756070423
                ],
                [
                 -122.48895297889564,
                 47.2348804422752
                ],
                [
                 -122.48794519068362,
                 47.234876927189426
                ],
                [
                 -122.48231625514924,
                 47.23485713254682
                ],
                [
                 -122.47969098624561,
                 47.23488503297974
                ],
                [
                 -122.47512351682703,
                 47.23493343258417
                ]
               ]
              ]
             ],
             "type": "MultiPolygon"
            },
            "properties": {
             "name": "South Tacoma"
            },
            "type": "Feature"
           },
           {
            "geometry": {
             "coordinates": [
              [
               [
                [
                 -122.43404720909884,
                 47.1918479710672
                ],
                [
                 -122.43398670658117,
                 47.196550285447444
                ],
                [
                 -122.43398568248693,
                 47.1991428581303
                ],
                [
                 -122.43398345135485,
                 47.20729774406381
                ],
                [
                 -122.43401514036888,
                 47.21678908955894
                ],
                [
                 -122.43405850134853,
                 47.224703263690124
                ],
                [
                 -122.43406447423483,
                 47.22811210303013
                ],
                [
                 -122.43403426298883,
                 47.230180457707604
                ],
                [
                 -122.43403671221499,
                 47.232149535063876
                ],
                [
                 -122.43404739252975,
                 47.232557989606356
                ],
                [
                 -122.43411749055699,
                 47.23316291174625
                ],
                [
                 -122.43180685975248,
                 47.23340169044652
                ],
                [
                 -122.43104534992132,
                 47.23349941125175
                ],
                [
                 -122.4307010565947,
                 47.23355451802162
                ],
                [
                 -122.4302491969208,
                 47.23364158456334
                ],
                [
                 -122.4295458882066,
                 47.233790432537006
                ],
                [
                 -122.4288406184749,
                 47.233996901270885
                ],
                [
                 -122.42829110198824,
                 47.23416786175487
                ],
                [
                 -122.427512610347,
                 47.23446604401643
                ],
                [
                 -122.42096711230575,
                 47.237325541522885
                ],
                [
                 -122.4197479048301,
                 47.23780101458195
                ],
                [
                 -122.41885594478674,
                 47.238081820321625
                ],
                [
                 -122.41806577148397,
                 47.2382814010256
                ],
                [
                 -122.41663619832832,
                 47.23850527394437
                ],
                [
                 -122.41052570917655,
                 47.239132810994995
                ],
                [
                 -122.40493000332637,
                 47.23951844562447
                ],
                [
                 -122.4041354815295,
                 47.2395973328196
                ],
                [
                 -122.4033632169416,
                 47.23973618297076
                ],
                [
                 -122.40297604210933,
                 47.23983304792969
                ],
                [
                 -122.40226753713716,
                 47.24006682923802
                ],
                [
                 -122.40040140342487,
                 47.24081599668795
                ],
                [
                 -122.39962285456262,
                 47.241119472455324
                ],
                [
                 -122.39962921412125,
                 47.240502313382855
                ],
                [
                 -122.39854743245475,
                 47.24020192882714
                ],
                [
                 -122.398176546565,
                 47.240076370789126
                ],
                [
                 -122.39782980964249,
                 47.23995041580093
                ],
                [
                 -122.3973600141299,
                 47.23976065703614
                ],
                [
                 -122.39685599285991,
                 47.239513865394144
                ],
                [
                 -122.39649801978278,
                 47.23929758922506
                ],
                [
                 -122.39614494501899,
                 47.239105913924256
                ],
                [
                 -122.39575987040959,
                 47.23892024648261
                ],
                [
                 -122.39553004975467,
                 47.23879785542621
                ],
                [
                 -122.39509272083656,
                 47.238500600154424
                ],
                [
                 -122.39425925263254,
                 47.23781765207364
                ],
                [
                 -122.39426982550292,
                 47.23172371688751
                ],
                [
                 -122.39433562996774,
                 47.22457026785612
                ],
                [
                 -122.39448794540301,
                 47.22089833740487
                ],
                [
                 -122.3944198525312,
                 47.2172546914087
                ],
                [
                 -122.39451009934116,
                 47.21364958628474
                ],
                [
                 -122.39443999407658,
                 47.20629536875685
                ],
                [
                 -122.39454427925494,
                 47.202632426486176
                ],
                [
                 -122.39435073090662,
                 47.19885368532275
                ],
                [
                 -122.3944428002668,
                 47.194730191815424
                ],
                [
                 -122.3944626561507,
                 47.19301031375744
                ],
                [
                 -122.3944799502214,
                 47.19167442808863
                ],
                [
                 -122.40773218664224,
                 47.191662345861474
                ],
                [
                 -122.4077507420384,
                 47.18957772245071
                ],
                [
                 -122.41047436125764,
                 47.18957665584626
                ],
                [
                 -122.41046591893782,
                 47.19001834202404
                ],
                [
                 -122.41114190079611,
                 47.190020889334136
                ],
                [
                 -122.41112319002316,
                 47.19164477360351
                ],
                [
                 -122.41227777942188,
                 47.19164214987915
                ],
                [
                 -122.41228981047809,
                 47.190849360914896
                ],
                [
                 -122.41289705800803,
                 47.190842064245246
                ],
                [
                 -122.41288808155569,
                 47.19160737763744
                ],
                [
                 -122.41306509946327,
                 47.191607193059504
                ],
                [
                 -122.4131146185773,
                 47.1916420270178
                ],
                [
                 -122.41449476983006,
                 47.19164662103428
                ],
                [
                 -122.41449545313264,
                 47.191665807393235
                ],
                [
                 -122.41737216831035,
                 47.19166753169154
                ],
                [
                 -122.41737540708077,
                 47.19164553776112
                ],
                [
                 -122.41920982410953,
                 47.191639803399326
                ],
                [
                 -122.41923865545249,
                 47.191658522797916
                ],
                [
                 -122.42077983998875,
                 47.19166585534822
                ],
                [
                 -122.4209706538274,
                 47.19180342852957
                ],
                [
                 -122.42319411172215,
                 47.191866475977704
                ],
                [
                 -122.42431529165651,
                 47.19186925840457
                ],
                [
                 -122.43404720909884,
                 47.1918479710672
                ]
               ]
              ]
             ],
             "type": "MultiPolygon"
            },
            "properties": {
             "name": "East Side"
            },
            "type": "Feature"
           },
           {
            "geometry": {
             "coordinates": [
              [
               [
                [
                 -122.41403549848872,
                 47.27829889015895
                ],
                [
                 -122.37295958591524,
                 47.25378834513312
                ],
                [
                 -122.37304814609716,
                 47.24634320489167
                ],
                [
                 -122.37278810287637,
                 47.24634212982466
                ],
                [
                 -122.37278915279332,
                 47.24533289562404
                ],
                [
                 -122.37762679894725,
                 47.245358775607286
                ],
                [
                 -122.3776237319677,
                 47.24584698009905
                ],
                [
                 -122.38086627103961,
                 47.245862924368886
                ],
                [
                 -122.38085527935709,
                 47.246354000442764
                ],
                [
                 -122.38080295354918,
                 47.246354850243726
                ],
                [
                 -122.3807914812095,
                 47.24683222175208
                ],
                [
                 -122.38531051445635,
                 47.24684101734865
                ],
                [
                 -122.38533884205334,
                 47.24455061169749
                ],
                [
                 -122.38916195309358,
                 47.24458703624782
                ],
                [
                 -122.39176780766152,
                 47.244593861558975
                ],
                [
                 -122.39434941685506,
                 47.2445982823654
                ],
                [
                 -122.39433574477916,
                 47.24500987455993
                ],
                [
                 -122.39647443759377,
                 47.24501600764615
                ],
                [
                 -122.39648818996613,
                 47.24460715611505
                ],
                [
                 -122.39824833227078,
                 47.24461396993672
                ],
                [
                 -122.39824449256113,
                 47.24484714201918
                ],
                [
                 -122.39957358860603,
                 47.24485003066707
                ],
                [
                 -122.39960609880835,
                 47.2432643542967
                ],
                [
                 -122.39962285456262,
                 47.241119472455324
                ],
                [
                 -122.40040230210403,
                 47.24081411196396
                ],
                [
                 -122.40226753713716,
                 47.24006682923802
                ],
                [
                 -122.40297604210933,
                 47.23983304792969
                ],
                [
                 -122.4033632169416,
                 47.23973618297076
                ],
                [
                 -122.4041354815295,
                 47.2395973328196
                ],
                [
                 -122.40493000332637,
                 47.23951844562447
                ],
                [
                 -122.41052527153175,
                 47.23913346212455
                ],
                [
                 -122.41663745215827,
                 47.23850395454083
                ],
                [
                 -122.41806611116039,
                 47.2382803252984
                ],
                [
                 -122.41885597762668,
                 47.23808154956358
                ],
                [
                 -122.41974783330102,
                 47.237802516722354
                ],
                [
                 -122.42096814921598,
                 47.23732519694999
                ],
                [
                 -122.42751385371683,
                 47.23446678154352
                ],
                [
                 -122.42828956248175,
                 47.23416818851907
                ],
                [
                 -122.42883907456084,
                 47.233994771287165
                ],
                [
                 -122.42954474731108,
                 47.233790181260076
                ],
                [
                 -122.4302524666649,
                 47.233642688149246
                ],
                [
                 -122.4307002533891,
                 47.23355666087417
                ],
                [
                 -122.43104427266422,
                 47.23350093018086
                ],
                [
                 -122.43180617709116,
                 47.233402517220846
                ],
                [
                 -122.43411530300043,
                 47.233164453389634
                ],
                [
                 -122.43505324708038,
                 47.233059353028196
                ],
                [
                 -122.43617053577346,
                 47.23288681527441
                ],
                [
                 -122.43741695837166,
                 47.2325588612471
                ],
                [
                 -122.44089536426935,
                 47.23153013817339
                ],
                [
                 -122.44037589722102,
                 47.233422948850254
                ],
                [
                 -122.44023021199894,
                 47.23362559334318
                ],
                [
                 -122.44014841530557,
                 47.23381345455352
                ],
                [
                 -122.4404418408081,
                 47.23524835319443
                ],
                [
                 -122.44172491943482,
                 47.2408901136046
                ],
                [
                 -122.44256136785877,
                 47.2445318371738
                ],
                [
                 -122.44839095774469,
                 47.24392379675331
                ],
                [
                 -122.45127139306562,
                 47.24361750208701
                ],
                [
                 -122.45197560571317,
                 47.24670466518636
                ],
                [
                 -122.45267999887474,
                 47.249794561192594
                ],
                [
                 -122.45291471499937,
                 47.25082178401386
                ],
                [
                 -122.4533844732033,
                 47.252884449374996
                ],
                [
                 -122.45385416775562,
                 47.254944370438444
                ],
                [
                 -122.45408892873525,
                 47.25597158880005
                ],
                [
                 -122.45432599937303,
                 47.25699800021667
                ],
                [
                 -122.45502003813627,
                 47.260085304607045
                ],
                [
                 -122.45501708081825,
                 47.26008515830574
                ],
                [
                 -122.4528280278772,
                 47.263203107633416
                ],
                [
                 -122.45562459244822,
                 47.264079087288685
                ],
                [
                 -122.4507943271805,
                 47.27083928670663
                ],
                [
                 -122.45060398584165,
                 47.27103446472007
                ],
                [
                 -122.44808018835933,
                 47.269661808890575
                ],
                [
                 -122.4422941050155,
                 47.266204706297444
                ],
                [
                 -122.44030754254509,
                 47.26329806106964
                ],
                [
                 -122.43929708342728,
                 47.26242641856141
                ],
                [
                 -122.43894663952678,
                 47.2625392412388
                ],
                [
                 -122.43728335368789,
                 47.262665797526154
                ],
                [
                 -122.43019393426594,
                 47.26952785840781
                ],
                [
                 -122.42140327246132,
                 47.27191730016909
                ],
                [
                 -122.41619756750937,
                 47.279032391233685
                ],
                [
                 -122.41403549848872,
                 47.27829889015895
                ]
               ]
              ]
             ],
             "type": "MultiPolygon"
            },
            "properties": {
             "name": "New Tacoma"
            },
            "type": "Feature"
           }
          ],
          "type": "FeatureCollection"
         },
         "hovertemplate": "<b>%{hovertext}</b><br><br>NeighborhoodCouncil=%{location}<br>IncidentNumber=%{z}<extra></extra>",
         "hovertext": [
          "Central",
          "East Side",
          "New Tacoma",
          "North East",
          "North End",
          "South End",
          "South Tacoma",
          "West End"
         ],
         "locations": [
          "Central",
          "East Side",
          "New Tacoma",
          "North East",
          "North End",
          "South End",
          "South Tacoma",
          "West End"
         ],
         "name": "",
         "subplot": "mapbox",
         "type": "choroplethmapbox",
         "z": [
          1265,
          1877,
          2136,
          486,
          598,
          2016,
          2071,
          1154
         ]
        }
       ],
       "layout": {
        "coloraxis": {
         "colorbar": {
          "title": {
           "text": "IncidentNumber"
          }
         },
         "colorscale": [
          [
           0,
           "#0d0887"
          ],
          [
           0.1111111111111111,
           "#46039f"
          ],
          [
           0.2222222222222222,
           "#7201a8"
          ],
          [
           0.3333333333333333,
           "#9c179e"
          ],
          [
           0.4444444444444444,
           "#bd3786"
          ],
          [
           0.5555555555555556,
           "#d8576b"
          ],
          [
           0.6666666666666666,
           "#ed7953"
          ],
          [
           0.7777777777777778,
           "#fb9f3a"
          ],
          [
           0.8888888888888888,
           "#fdca26"
          ],
          [
           1,
           "#f0f921"
          ]
         ]
        },
        "legend": {
         "tracegroupgap": 0
        },
        "mapbox": {
         "center": {
          "lat": 47.25,
          "lon": -122.44
         },
         "domain": {
          "x": [
           0,
           1
          ],
          "y": [
           0,
           1
          ]
         },
         "style": "carto-positron",
         "zoom": 9
        },
        "margin": {
         "t": 60
        },
        "template": {
         "data": {
          "bar": [
           {
            "error_x": {
             "color": "#2a3f5f"
            },
            "error_y": {
             "color": "#2a3f5f"
            },
            "marker": {
             "line": {
              "color": "#E5ECF6",
              "width": 0.5
             },
             "pattern": {
              "fillmode": "overlay",
              "size": 10,
              "solidity": 0.2
             }
            },
            "type": "bar"
           }
          ],
          "barpolar": [
           {
            "marker": {
             "line": {
              "color": "#E5ECF6",
              "width": 0.5
             },
             "pattern": {
              "fillmode": "overlay",
              "size": 10,
              "solidity": 0.2
             }
            },
            "type": "barpolar"
           }
          ],
          "carpet": [
           {
            "aaxis": {
             "endlinecolor": "#2a3f5f",
             "gridcolor": "white",
             "linecolor": "white",
             "minorgridcolor": "white",
             "startlinecolor": "#2a3f5f"
            },
            "baxis": {
             "endlinecolor": "#2a3f5f",
             "gridcolor": "white",
             "linecolor": "white",
             "minorgridcolor": "white",
             "startlinecolor": "#2a3f5f"
            },
            "type": "carpet"
           }
          ],
          "choropleth": [
           {
            "colorbar": {
             "outlinewidth": 0,
             "ticks": ""
            },
            "type": "choropleth"
           }
          ],
          "contour": [
           {
            "colorbar": {
             "outlinewidth": 0,
             "ticks": ""
            },
            "colorscale": [
             [
              0,
              "#0d0887"
             ],
             [
              0.1111111111111111,
              "#46039f"
             ],
             [
              0.2222222222222222,
              "#7201a8"
             ],
             [
              0.3333333333333333,
              "#9c179e"
             ],
             [
              0.4444444444444444,
              "#bd3786"
             ],
             [
              0.5555555555555556,
              "#d8576b"
             ],
             [
              0.6666666666666666,
              "#ed7953"
             ],
             [
              0.7777777777777778,
              "#fb9f3a"
             ],
             [
              0.8888888888888888,
              "#fdca26"
             ],
             [
              1,
              "#f0f921"
             ]
            ],
            "type": "contour"
           }
          ],
          "contourcarpet": [
           {
            "colorbar": {
             "outlinewidth": 0,
             "ticks": ""
            },
            "type": "contourcarpet"
           }
          ],
          "heatmap": [
           {
            "colorbar": {
             "outlinewidth": 0,
             "ticks": ""
            },
            "colorscale": [
             [
              0,
              "#0d0887"
             ],
             [
              0.1111111111111111,
              "#46039f"
             ],
             [
              0.2222222222222222,
              "#7201a8"
             ],
             [
              0.3333333333333333,
              "#9c179e"
             ],
             [
              0.4444444444444444,
              "#bd3786"
             ],
             [
              0.5555555555555556,
              "#d8576b"
             ],
             [
              0.6666666666666666,
              "#ed7953"
             ],
             [
              0.7777777777777778,
              "#fb9f3a"
             ],
             [
              0.8888888888888888,
              "#fdca26"
             ],
             [
              1,
              "#f0f921"
             ]
            ],
            "type": "heatmap"
           }
          ],
          "heatmapgl": [
           {
            "colorbar": {
             "outlinewidth": 0,
             "ticks": ""
            },
            "colorscale": [
             [
              0,
              "#0d0887"
             ],
             [
              0.1111111111111111,
              "#46039f"
             ],
             [
              0.2222222222222222,
              "#7201a8"
             ],
             [
              0.3333333333333333,
              "#9c179e"
             ],
             [
              0.4444444444444444,
              "#bd3786"
             ],
             [
              0.5555555555555556,
              "#d8576b"
             ],
             [
              0.6666666666666666,
              "#ed7953"
             ],
             [
              0.7777777777777778,
              "#fb9f3a"
             ],
             [
              0.8888888888888888,
              "#fdca26"
             ],
             [
              1,
              "#f0f921"
             ]
            ],
            "type": "heatmapgl"
           }
          ],
          "histogram": [
           {
            "marker": {
             "pattern": {
              "fillmode": "overlay",
              "size": 10,
              "solidity": 0.2
             }
            },
            "type": "histogram"
           }
          ],
          "histogram2d": [
           {
            "colorbar": {
             "outlinewidth": 0,
             "ticks": ""
            },
            "colorscale": [
             [
              0,
              "#0d0887"
             ],
             [
              0.1111111111111111,
              "#46039f"
             ],
             [
              0.2222222222222222,
              "#7201a8"
             ],
             [
              0.3333333333333333,
              "#9c179e"
             ],
             [
              0.4444444444444444,
              "#bd3786"
             ],
             [
              0.5555555555555556,
              "#d8576b"
             ],
             [
              0.6666666666666666,
              "#ed7953"
             ],
             [
              0.7777777777777778,
              "#fb9f3a"
             ],
             [
              0.8888888888888888,
              "#fdca26"
             ],
             [
              1,
              "#f0f921"
             ]
            ],
            "type": "histogram2d"
           }
          ],
          "histogram2dcontour": [
           {
            "colorbar": {
             "outlinewidth": 0,
             "ticks": ""
            },
            "colorscale": [
             [
              0,
              "#0d0887"
             ],
             [
              0.1111111111111111,
              "#46039f"
             ],
             [
              0.2222222222222222,
              "#7201a8"
             ],
             [
              0.3333333333333333,
              "#9c179e"
             ],
             [
              0.4444444444444444,
              "#bd3786"
             ],
             [
              0.5555555555555556,
              "#d8576b"
             ],
             [
              0.6666666666666666,
              "#ed7953"
             ],
             [
              0.7777777777777778,
              "#fb9f3a"
             ],
             [
              0.8888888888888888,
              "#fdca26"
             ],
             [
              1,
              "#f0f921"
             ]
            ],
            "type": "histogram2dcontour"
           }
          ],
          "mesh3d": [
           {
            "colorbar": {
             "outlinewidth": 0,
             "ticks": ""
            },
            "type": "mesh3d"
           }
          ],
          "parcoords": [
           {
            "line": {
             "colorbar": {
              "outlinewidth": 0,
              "ticks": ""
             }
            },
            "type": "parcoords"
           }
          ],
          "pie": [
           {
            "automargin": true,
            "type": "pie"
           }
          ],
          "scatter": [
           {
            "fillpattern": {
             "fillmode": "overlay",
             "size": 10,
             "solidity": 0.2
            },
            "type": "scatter"
           }
          ],
          "scatter3d": [
           {
            "line": {
             "colorbar": {
              "outlinewidth": 0,
              "ticks": ""
             }
            },
            "marker": {
             "colorbar": {
              "outlinewidth": 0,
              "ticks": ""
             }
            },
            "type": "scatter3d"
           }
          ],
          "scattercarpet": [
           {
            "marker": {
             "colorbar": {
              "outlinewidth": 0,
              "ticks": ""
             }
            },
            "type": "scattercarpet"
           }
          ],
          "scattergeo": [
           {
            "marker": {
             "colorbar": {
              "outlinewidth": 0,
              "ticks": ""
             }
            },
            "type": "scattergeo"
           }
          ],
          "scattergl": [
           {
            "marker": {
             "colorbar": {
              "outlinewidth": 0,
              "ticks": ""
             }
            },
            "type": "scattergl"
           }
          ],
          "scattermapbox": [
           {
            "marker": {
             "colorbar": {
              "outlinewidth": 0,
              "ticks": ""
             }
            },
            "type": "scattermapbox"
           }
          ],
          "scatterpolar": [
           {
            "marker": {
             "colorbar": {
              "outlinewidth": 0,
              "ticks": ""
             }
            },
            "type": "scatterpolar"
           }
          ],
          "scatterpolargl": [
           {
            "marker": {
             "colorbar": {
              "outlinewidth": 0,
              "ticks": ""
             }
            },
            "type": "scatterpolargl"
           }
          ],
          "scatterternary": [
           {
            "marker": {
             "colorbar": {
              "outlinewidth": 0,
              "ticks": ""
             }
            },
            "type": "scatterternary"
           }
          ],
          "surface": [
           {
            "colorbar": {
             "outlinewidth": 0,
             "ticks": ""
            },
            "colorscale": [
             [
              0,
              "#0d0887"
             ],
             [
              0.1111111111111111,
              "#46039f"
             ],
             [
              0.2222222222222222,
              "#7201a8"
             ],
             [
              0.3333333333333333,
              "#9c179e"
             ],
             [
              0.4444444444444444,
              "#bd3786"
             ],
             [
              0.5555555555555556,
              "#d8576b"
             ],
             [
              0.6666666666666666,
              "#ed7953"
             ],
             [
              0.7777777777777778,
              "#fb9f3a"
             ],
             [
              0.8888888888888888,
              "#fdca26"
             ],
             [
              1,
              "#f0f921"
             ]
            ],
            "type": "surface"
           }
          ],
          "table": [
           {
            "cells": {
             "fill": {
              "color": "#EBF0F8"
             },
             "line": {
              "color": "white"
             }
            },
            "header": {
             "fill": {
              "color": "#C8D4E3"
             },
             "line": {
              "color": "white"
             }
            },
            "type": "table"
           }
          ]
         },
         "layout": {
          "annotationdefaults": {
           "arrowcolor": "#2a3f5f",
           "arrowhead": 0,
           "arrowwidth": 1
          },
          "autotypenumbers": "strict",
          "coloraxis": {
           "colorbar": {
            "outlinewidth": 0,
            "ticks": ""
           }
          },
          "colorscale": {
           "diverging": [
            [
             0,
             "#8e0152"
            ],
            [
             0.1,
             "#c51b7d"
            ],
            [
             0.2,
             "#de77ae"
            ],
            [
             0.3,
             "#f1b6da"
            ],
            [
             0.4,
             "#fde0ef"
            ],
            [
             0.5,
             "#f7f7f7"
            ],
            [
             0.6,
             "#e6f5d0"
            ],
            [
             0.7,
             "#b8e186"
            ],
            [
             0.8,
             "#7fbc41"
            ],
            [
             0.9,
             "#4d9221"
            ],
            [
             1,
             "#276419"
            ]
           ],
           "sequential": [
            [
             0,
             "#0d0887"
            ],
            [
             0.1111111111111111,
             "#46039f"
            ],
            [
             0.2222222222222222,
             "#7201a8"
            ],
            [
             0.3333333333333333,
             "#9c179e"
            ],
            [
             0.4444444444444444,
             "#bd3786"
            ],
            [
             0.5555555555555556,
             "#d8576b"
            ],
            [
             0.6666666666666666,
             "#ed7953"
            ],
            [
             0.7777777777777778,
             "#fb9f3a"
            ],
            [
             0.8888888888888888,
             "#fdca26"
            ],
            [
             1,
             "#f0f921"
            ]
           ],
           "sequentialminus": [
            [
             0,
             "#0d0887"
            ],
            [
             0.1111111111111111,
             "#46039f"
            ],
            [
             0.2222222222222222,
             "#7201a8"
            ],
            [
             0.3333333333333333,
             "#9c179e"
            ],
            [
             0.4444444444444444,
             "#bd3786"
            ],
            [
             0.5555555555555556,
             "#d8576b"
            ],
            [
             0.6666666666666666,
             "#ed7953"
            ],
            [
             0.7777777777777778,
             "#fb9f3a"
            ],
            [
             0.8888888888888888,
             "#fdca26"
            ],
            [
             1,
             "#f0f921"
            ]
           ]
          },
          "colorway": [
           "#636efa",
           "#EF553B",
           "#00cc96",
           "#ab63fa",
           "#FFA15A",
           "#19d3f3",
           "#FF6692",
           "#B6E880",
           "#FF97FF",
           "#FECB52"
          ],
          "font": {
           "color": "#2a3f5f"
          },
          "geo": {
           "bgcolor": "white",
           "lakecolor": "white",
           "landcolor": "#E5ECF6",
           "showlakes": true,
           "showland": true,
           "subunitcolor": "white"
          },
          "hoverlabel": {
           "align": "left"
          },
          "hovermode": "closest",
          "mapbox": {
           "style": "light"
          },
          "paper_bgcolor": "white",
          "plot_bgcolor": "#E5ECF6",
          "polar": {
           "angularaxis": {
            "gridcolor": "white",
            "linecolor": "white",
            "ticks": ""
           },
           "bgcolor": "#E5ECF6",
           "radialaxis": {
            "gridcolor": "white",
            "linecolor": "white",
            "ticks": ""
           }
          },
          "scene": {
           "xaxis": {
            "backgroundcolor": "#E5ECF6",
            "gridcolor": "white",
            "gridwidth": 2,
            "linecolor": "white",
            "showbackground": true,
            "ticks": "",
            "zerolinecolor": "white"
           },
           "yaxis": {
            "backgroundcolor": "#E5ECF6",
            "gridcolor": "white",
            "gridwidth": 2,
            "linecolor": "white",
            "showbackground": true,
            "ticks": "",
            "zerolinecolor": "white"
           },
           "zaxis": {
            "backgroundcolor": "#E5ECF6",
            "gridcolor": "white",
            "gridwidth": 2,
            "linecolor": "white",
            "showbackground": true,
            "ticks": "",
            "zerolinecolor": "white"
           }
          },
          "shapedefaults": {
           "line": {
            "color": "#2a3f5f"
           }
          },
          "ternary": {
           "aaxis": {
            "gridcolor": "white",
            "linecolor": "white",
            "ticks": ""
           },
           "baxis": {
            "gridcolor": "white",
            "linecolor": "white",
            "ticks": ""
           },
           "bgcolor": "#E5ECF6",
           "caxis": {
            "gridcolor": "white",
            "linecolor": "white",
            "ticks": ""
           }
          },
          "title": {
           "x": 0.05
          },
          "xaxis": {
           "automargin": true,
           "gridcolor": "white",
           "linecolor": "white",
           "ticks": "",
           "title": {
            "standoff": 15
           },
           "zerolinecolor": "white",
           "zerolinewidth": 2
          },
          "yaxis": {
           "automargin": true,
           "gridcolor": "white",
           "linecolor": "white",
           "ticks": "",
           "title": {
            "standoff": 15
           },
           "zerolinecolor": "white",
           "zerolinewidth": 2
          }
         }
        },
        "title": {
         "text": "Tacoma Fires Choropleth"
        }
       }
      },
      "text/html": [
       "<div>                            <div id=\"3e79e2c0-520f-4938-b5a8-91d0987df820\" class=\"plotly-graph-div\" style=\"height:525px; width:100%;\"></div>            <script type=\"text/javascript\">                require([\"plotly\"], function(Plotly) {                    window.PLOTLYENV=window.PLOTLYENV || {};                                    if (document.getElementById(\"3e79e2c0-520f-4938-b5a8-91d0987df820\")) {                    Plotly.newPlot(                        \"3e79e2c0-520f-4938-b5a8-91d0987df820\",                        [{\"coloraxis\":\"coloraxis\",\"featureidkey\":\"properties.name\",\"geojson\":{\"type\":\"FeatureCollection\",\"features\":[{\"type\":\"Feature\",\"properties\":{\"name\":\"West End\"},\"geometry\":{\"type\":\"MultiPolygon\",\"coordinates\":[[[[-122.52307130318115,47.311011837974114],[-122.51594497913234,47.30744181923342],[-122.50990922852633,47.30895624832991],[-122.50397262584313,47.3040676829683],[-122.50929286374716,47.30175966301976],[-122.51561585934982,47.30179525261601],[-122.51570578144155,47.2944245774445],[-122.50512866773815,47.29433103570782],[-122.50512388310015,47.30164535536989],[-122.49154943147293,47.29209141514604],[-122.4906595101525,47.290812246939765],[-122.49669147472736,47.290645414589434],[-122.49724446468251,47.29066605447485],[-122.50385388941103,47.290743949423806],[-122.50385334207627,47.29068988906491],[-122.50510885255636,47.29069138703411],[-122.50514103403862,47.255372925092324],[-122.50514101702089,47.255366450273996],[-122.50514084343929,47.25536644906734],[-122.5051408429453,47.255366435839434],[-122.50498084683382,47.244370720204266],[-122.50472278876292,47.242904706522005],[-122.50499697602518,47.24291367222178],[-122.51578493300012,47.24277849179963],[-122.52624519713645,47.24271111923172],[-122.52624549904763,47.242612381334276],[-122.53438034343299,47.24260688090586],[-122.5343804774208,47.24229148178471],[-122.53572519821171,47.242281562287275],[-122.53572476044177,47.242588739178146],[-122.5368643391057,47.24258515540134],[-122.53689549619867,47.24255718150854],[-122.53693150941386,47.24255106286107],[-122.5369314947617,47.24212596276545],[-122.5396700538184,47.2421271242976],[-122.53967060572168,47.24129336843196],[-122.54184496688099,47.24128521634852],[-122.54184349685292,47.24177616559389],[-122.54156157282269,47.2417756512455],[-122.54156063361509,47.24259844403552],[-122.5469289280531,47.242596922879784],[-122.54693859193755,47.24073727415424],[-122.5464153122597,47.24074378055995],[-122.54641820266458,47.24029120155968],[-122.54768609427718,47.24027427229249],[-122.54768614765669,47.24017005275715],[-122.54900813062032,47.24019877651557],[-122.54899520060155,47.242604261093184],[-122.551565276374,47.2426218359454],[-122.55158172869622,47.24157661516022],[-122.55096143522574,47.24157389035076],[-122.55096690897058,47.24024089116101],[-122.55299833884335,47.240287169928436],[-122.55301786063998,47.2358465511418],[-122.55234892583202,47.23583372706004],[-122.55235495212763,47.235359149756896],[-122.55837756275155,47.23542776309301],[-122.55834759678507,47.23643209076057],[-122.56053106821442,47.23645633369526],[-122.56053448992499,47.236335597946045],[-122.56160594568078,47.23634395111143],[-122.56081039918087,47.2373344827792],[-122.56005766000192,47.237762011868334],[-122.56004874123958,47.23784444877836],[-122.5598278013619,47.23796356899012],[-122.5598903578763,47.23843966996032],[-122.55965612592864,47.23873729570262],[-122.5577142090867,47.24039544410037],[-122.55407039636306,47.240309296479765],[-122.55406692762264,47.24158740956428],[-122.55344260947894,47.2415847695061],[-122.55344891911874,47.24143381470744],[-122.55326368883416,47.24143435668574],[-122.55326106919539,47.24136583816635],[-122.55281795918901,47.24136272405999],[-122.55281745318017,47.24156020014454],[-122.55231386970898,47.24155541349732],[-122.55231034328506,47.24262234634575],[-122.55821135094943,47.2426492561381],[-122.55816207790079,47.242729667375755],[-122.55968472655228,47.2427382480883],[-122.55944128331507,47.24584171750489],[-122.55755113552455,47.245809493555534],[-122.55651024876195,47.2462887390117],[-122.5541089648366,47.25426841306203],[-122.5464977491688,47.263832116409425],[-122.5444970022121,47.26620136785497],[-122.53734681288473,47.27313709556323],[-122.53668427742855,47.27404830000709],[-122.53166599574843,47.28167564646214],[-122.53040207811165,47.28832101421538],[-122.53009301735364,47.29219064806545],[-122.5326764407253,47.296009588734584],[-122.53683750426237,47.3032508543619],[-122.53792792542845,47.30489091517025],[-122.54164824548599,47.30930947756455],[-122.54525166321439,47.312232572077754],[-122.54637902518157,47.313243867575814],[-122.54747832145905,47.31446956432778],[-122.54829755360792,47.315118784972555],[-122.54875237437005,47.31583477432597],[-122.54875085888838,47.31611179520712],[-122.54896393473365,47.31651666519442],[-122.54876547703314,47.31786674614719],[-122.54755242607318,47.31862864924146],[-122.54657348257683,47.318868073204676],[-122.54488648255794,47.319471017349315],[-122.54316331599816,47.319654969921345],[-122.54039133474613,47.31962149930678],[-122.53863817383677,47.319123028836536],[-122.53503717393019,47.31849790901231],[-122.53273820855964,47.31774839020362],[-122.53130355759943,47.316605224943096],[-122.53005204399177,47.31593054638031],[-122.5293955701957,47.31531400488414],[-122.5257762098448,47.31291178607278],[-122.52517264252424,47.312626139382836],[-122.52307130318115,47.311011837974114]]]]}},{\"type\":\"Feature\",\"properties\":{\"name\":\"North East\"},\"geometry\":{\"type\":\"MultiPolygon\",\"coordinates\":[[[[-122.41441255121438,47.315640269476965],[-122.414366949845,47.31210332579128],[-122.40898481462753,47.31213172505743],[-122.40900047694085,47.308719922063524],[-122.40899939034892,47.304724257840796],[-122.39831232793868,47.304641948659885],[-122.39498039220948,47.30470742555252],[-122.39400016240982,47.304007678211654],[-122.39166680441863,47.302320808244446],[-122.38984269188106,47.30100952734591],[-122.38834335366346,47.29998910729443],[-122.38690192444439,47.2990088617823],[-122.38439106252467,47.29730554166961],[-122.38271043235534,47.29616733229762],[-122.37700791095406,47.29229157005469],[-122.37619407258904,47.291726101290244],[-122.37458275213683,47.29060036733809],[-122.37307057055125,47.289541569248165],[-122.37144691422,47.28840502264901],[-122.36989438387904,47.28734135093336],[-122.36865577905259,47.286494731759824],[-122.36733781962901,47.28556710649364],[-122.36578142482115,47.284503443418664],[-122.36358449769469,47.28298111289048],[-122.3622544386415,47.282048141142056],[-122.3583471779986,47.27930813966485],[-122.3556513183633,47.277445379083325],[-122.3556816389535,47.275525219230225],[-122.35576212411405,47.27167635014051],[-122.35146755691342,47.27169294822844],[-122.35151001283955,47.270353981437204],[-122.35054299192704,47.27035297604026],[-122.35055307375927,47.269944198217495],[-122.35314281632667,47.26991651820635],[-122.35314895690408,47.268227103025616],[-122.35582663471959,47.268181500714725],[-122.35583528710411,47.26458607225396],[-122.3559800240177,47.26108170049005],[-122.35365118126498,47.26106962513177],[-122.35359231100357,47.26216478708199],[-122.35020356639986,47.26214217174062],[-122.35026260032511,47.26104975243598],[-122.34946887331131,47.26104597275599],[-122.34963624006706,47.25830363839426],[-122.34838311907545,47.25829347438677],[-122.34844045627055,47.257384823205015],[-122.35593452777768,47.25743502384046],[-122.35663148505738,47.25743756701572],[-122.35664671723286,47.25648022070247],[-122.35918077441337,47.25649168146249],[-122.35760213443216,47.255570875441364],[-122.35760951339837,47.255318454883344],[-122.36066309330141,47.254515278387956],[-122.3606831332844,47.25358253383645],[-122.35939857978244,47.253592192533205],[-122.35944566995849,47.25181160607728],[-122.35966726173287,47.25181353323251],[-122.35969115351891,47.25087524146498],[-122.35950176888366,47.250872797336875],[-122.35952794111486,47.25000028680425],[-122.35945145938696,47.25000151472821],[-122.35950868067023,47.246303807536414],[-122.36683063878588,47.246312163398514],[-122.37278810287637,47.24634212982466],[-122.37304814609716,47.24634320489167],[-122.37295958591524,47.25378834513312],[-122.41403549848872,47.27829889015895],[-122.41619756750937,47.279032391233685],[-122.41486473980146,47.28662902643009],[-122.41281093307767,47.288146594456755],[-122.41458261301158,47.292390041458134],[-122.41980042494772,47.29559739205744],[-122.41980000210503,47.296036187007175],[-122.42013594953167,47.296186940954414],[-122.42037148074884,47.29623514533852],[-122.4216223518317,47.29638170405934],[-122.42230222494072,47.296567886317],[-122.42236314752286,47.29658058819753],[-122.42326067836613,47.296765897649614],[-122.42337938006399,47.29681603428157],[-122.42449073981392,47.29700601348858],[-122.42558127015438,47.29706469169164],[-122.42662925781373,47.297173430422],[-122.42698614832673,47.29712087701855],[-122.4280423559083,47.296785192673994],[-122.42857581900495,47.29671050034008],[-122.42928850540561,47.2965752316677],[-122.42960686326326,47.29646023544245],[-122.42980652636925,47.296407547856475],[-122.4299272902187,47.29640279494497],[-122.4301665500288,47.296330250479706],[-122.43027414276783,47.29629554969747],[-122.4304845101749,47.29620428866141],[-122.43064613748935,47.29610286919652],[-122.43275355347727,47.29663817720392],[-122.43258718649474,47.29716749831339],[-122.43256411561795,47.29786994594367],[-122.4327872034082,47.298019802877334],[-122.4328993402604,47.29811117587157],[-122.43268582929849,47.298227175521674],[-122.4327154137886,47.29826507636521],[-122.43271197739176,47.29828158826423],[-122.43306031981004,47.298774902842645],[-122.43309049753482,47.29882924830429],[-122.43311261734023,47.29888372805318],[-122.4331263830314,47.29893011984348],[-122.43313238726313,47.29898486839919],[-122.43313485631663,47.299053388037166],[-122.4331252384666,47.29912210923009],[-122.43309577225429,47.29919938866264],[-122.43302325101956,47.299200597953124],[-122.43298955809067,47.299272463040154],[-122.4329509472653,47.299319728176265],[-122.43288462738468,47.299381167434774],[-122.43273901148812,47.299479580381266],[-122.43256578461255,47.29959490802428],[-122.43230196326178,47.299769336524925],[-122.43220370618492,47.299839535028546],[-122.43208658696895,47.299945699386875],[-122.4320088692692,47.30002652512024],[-122.43195080278439,47.30009331111015],[-122.43189725885883,47.30017373389594],[-122.43188345561656,47.301133814286494],[-122.43327831446828,47.301132501102536],[-122.4332711288209,47.30160431892938],[-122.43334375207529,47.30160585023146],[-122.43334598738153,47.3020034652785],[-122.43443887917418,47.302012658681555],[-122.43443672791493,47.302064800819196],[-122.4320494840617,47.302049761076745],[-122.43200020973897,47.301801021237914],[-122.43062223921301,47.301823976944675],[-122.43070754324918,47.30475420946671],[-122.43063698608252,47.30626645970289],[-122.43104156133634,47.306640918763975],[-122.43165087668575,47.307102465620176],[-122.43216538649793,47.30773013457816],[-122.43214803942001,47.308032090094166],[-122.43167225283658,47.308703683662294],[-122.43150218664746,47.30908471250563],[-122.43134570316636,47.31038474182025],[-122.43113166075241,47.31127136545944],[-122.43038190856285,47.31127836496004],[-122.43033758250938,47.312063433946214],[-122.42769610799931,47.31205527171163],[-122.42771494108818,47.31527180781528],[-122.42639599243287,47.31526355966081],[-122.42638631370882,47.314432770397666],[-122.42507190783871,47.31443814415118],[-122.42505453592128,47.31204430849803],[-122.4234939693164,47.31204278215546],[-122.41988128235161,47.31205054872763],[-122.41840593273076,47.312063997378516],[-122.41840222381124,47.31387678829053],[-122.41706738652212,47.31387418238178],[-122.4170723160994,47.31457615588278],[-122.41667313732943,47.31457726968488],[-122.41667181997647,47.31566876704757],[-122.41441255121438,47.315640269476965]]]]}},{\"type\":\"Feature\",\"properties\":{\"name\":\"North End\"},\"geometry\":{\"type\":\"MultiPolygon\",\"coordinates\":[[[[-122.50385751614843,47.29074292445973],[-122.49724446468251,47.29066605447485],[-122.49669231400995,47.29064596981629],[-122.4906595101525,47.290812246939765],[-122.48998272874245,47.28984479930631],[-122.48501970848567,47.28676232995109],[-122.48244676850706,47.28443137340189],[-122.47617082648738,47.28178510308748],[-122.47075847762531,47.27893458543592],[-122.46083930353942,47.27602305046517],[-122.45955172806693,47.27552376070457],[-122.45764734223206,47.27457414300324],[-122.45554923018395,47.27394589207636],[-122.45389943210931,47.273123556215246],[-122.45139720438203,47.27146264674167],[-122.45060398584165,47.27103446472007],[-122.4507943271805,47.27083928670663],[-122.45562459244822,47.264079087288685],[-122.4528280278772,47.263203107633416],[-122.45501708081825,47.26008515830574],[-122.45502003813627,47.260085304607045],[-122.45432599937303,47.25699800021667],[-122.46292200061353,47.25609400003905],[-122.46416899915948,47.2554639999258],[-122.46598119477007,47.25545222054719],[-122.46713725356051,47.25545179027721],[-122.46832551726771,47.25545080120268],[-122.4690906881377,47.25544602334786],[-122.47022651800015,47.25544316366521],[-122.47135439712065,47.25544317063907],[-122.47248227635158,47.2554431666306],[-122.47340837071344,47.255432877161496],[-122.47361100038576,47.25540600001391],[-122.47418499988385,47.25528800066445],[-122.47480001836334,47.25526654802325],[-122.47627047382693,47.25527163597684],[-122.47774867778902,47.25526834529752],[-122.47921913346926,47.25527339582706],[-122.4806894883153,47.25527568686283],[-122.48216386882838,47.255277890272964],[-122.48369863349357,47.255279040856195],[-122.4889801406139,47.25529542628083],[-122.49165949429192,47.255312463838536],[-122.50383428729896,47.25535753347282],[-122.50514101707886,47.25536643703653],[-122.50514103403862,47.255372925092324],[-122.50510885255636,47.29069138703411],[-122.5038569271141,47.29068989341592],[-122.50385751614843,47.29074292445973]]]]}},{\"type\":\"Feature\",\"properties\":{\"name\":\"Central\"},\"geometry\":{\"type\":\"MultiPolygon\",\"coordinates\":[[[[-122.45408892873525,47.25597158880005],[-122.45385416775562,47.254944370438444],[-122.4533844732033,47.252884449374996],[-122.45291471499937,47.25082178401386],[-122.45267999887474,47.249794561192594],[-122.45197560571317,47.24670466518636],[-122.45127139306562,47.24361750208701],[-122.44839095774469,47.24392379675331],[-122.44256136785877,47.2445318371738],[-122.44172491943482,47.2408901136046],[-122.4404418408081,47.23524835319443],[-122.44081307923734,47.23504741305763],[-122.4411379125317,47.23486328048107],[-122.44146706408567,47.23468635502604],[-122.44181767055991,47.23454514558609],[-122.4420877414537,47.23444188552548],[-122.44227469307675,47.234378414396446],[-122.44271690529501,47.23424758244509],[-122.44315235612468,47.234152514915735],[-122.44506608585887,47.23373917223183],[-122.446282733162,47.233757121973966],[-122.45048869258258,47.23382072658373],[-122.45233368986295,47.23384448083907],[-122.45290560022583,47.233848548288655],[-122.4540932867598,47.233844964377525],[-122.4551641766081,47.23384059816966],[-122.45588577442088,47.233864063254885],[-122.45707336123272,47.23385770790678],[-122.45787454152295,47.23385513271612],[-122.45911081605973,47.23385890331475],[-122.46435762900191,47.23384446613036],[-122.46467416439445,47.23416633213767],[-122.46487053839779,47.23430355594543],[-122.46522296986336,47.23454982824694],[-122.46573181978849,47.23480107048439],[-122.46573182046434,47.23480107084895],[-122.46581030495203,47.23483982176696],[-122.46608966400653,47.2349213551129],[-122.46657344497336,47.23506254841606],[-122.46751160488323,47.235196592083284],[-122.46935415645612,47.235115272990434],[-122.47180293630932,47.234980749774216],[-122.47512516544711,47.23493126617406],[-122.47969098624561,47.23488503297974],[-122.48231584818453,47.23485837231113],[-122.48794519068362,47.234876927189426],[-122.48895427974055,47.23488022431449],[-122.48941395922472,47.23487756070423],[-122.49271794156013,47.23485836201285],[-122.4953495712773,47.234848749791425],[-122.49623354580523,47.234933501307914],[-122.49717708531034,47.235210054564966],[-122.49757865902266,47.23542511764625],[-122.49757866138755,47.23542511888399],[-122.49786183515621,47.23557677089817],[-122.49851692109726,47.23608977496628],[-122.50472278876292,47.242904706522005],[-122.50498084683382,47.244370720204266],[-122.5051408429453,47.255366435839434],[-122.50514084343929,47.25536644906734],[-122.50383428729896,47.25535753347282],[-122.49165949429192,47.255312463838536],[-122.4889801406139,47.25529542628083],[-122.48369863349357,47.255279040856195],[-122.48216386882838,47.255277890272964],[-122.4806894883153,47.25527568686283],[-122.47921913346926,47.25527339582706],[-122.47774867778902,47.25526834529752],[-122.47627047382693,47.25527163597684],[-122.47480001836334,47.25526654802325],[-122.47418499988385,47.25528800066445],[-122.47361100038576,47.25540600001391],[-122.47340837071344,47.255432877161496],[-122.47248227635158,47.2554431666306],[-122.47135439712065,47.25544317063907],[-122.47022651800015,47.25544316366521],[-122.4690906881377,47.25544602334786],[-122.46832551726771,47.25545080120268],[-122.46713725356051,47.25545179027721],[-122.46598119477007,47.25545222054719],[-122.46416899915948,47.2554639999258],[-122.46292200061353,47.25609400003905],[-122.45432599937303,47.25699800021667],[-122.45408892873525,47.25597158880005]]]]}},{\"type\":\"Feature\",\"properties\":{\"name\":\"South Tacoma\"},\"geometry\":{\"type\":\"MultiPolygon\",\"coordinates\":[[[[-122.50642657406654,47.22469473674152],[-122.51196887238862,47.224658877923794],[-122.51198223910363,47.225445765590734],[-122.51246524333911,47.22544285492323],[-122.512466353635,47.22557996454717],[-122.51321500174804,47.22557517498167],[-122.51322826663147,47.22646628236111],[-122.51371127997297,47.22646336649687],[-122.51371187977144,47.22658677205495],[-122.51384465223136,47.22658446240227],[-122.51386760766073,47.22827074840359],[-122.50955675688935,47.228301777573016],[-122.50954142417872,47.22724615286579],[-122.50769383444005,47.22725626933997],[-122.50768588515177,47.22650494226991],[-122.50645420958017,47.22651258368808],[-122.50642657406654,47.22469473674152]]]]}},{\"type\":\"Feature\",\"properties\":{\"name\":\"South End\"},\"geometry\":{\"type\":\"MultiPolygon\",\"coordinates\":[[[[-122.46841427126925,47.17008186166078],[-122.46843375909653,47.17369078258313],[-122.46698229496982,47.17513339726711],[-122.46661134742025,47.175548351346],[-122.46649586986305,47.17569018686352],[-122.46652852835578,47.17570334453909],[-122.46638631591854,47.17588403076326],[-122.46617203779783,47.1761838732299],[-122.46599675197356,47.176450141353705],[-122.46578839294698,47.176801991485185],[-122.46565742078545,47.17707024832037],[-122.46554112391527,47.17729985941817],[-122.46549709439451,47.17741579624609],[-122.46542011727081,47.17740064886235],[-122.46526611220467,47.177809168391896],[-122.46509070327964,47.178182397720796],[-122.46497490229076,47.178425712540424],[-122.46492645016245,47.178530753939484],[-122.46490041443289,47.17858879050513],[-122.46489317594391,47.17861085408266],[-122.46485498026502,47.17866635466693],[-122.46481266440328,47.17871918260666],[-122.46475446929236,47.178777765444984],[-122.4646998934092,47.17882531643263],[-122.46462521775075,47.17887320888704],[-122.46457004079375,47.17890431451096],[-122.46451074367029,47.17893274754199],[-122.46445124609555,47.178955698701884],[-122.46435586983513,47.17898748705763],[-122.46429205188694,47.179002283794276],[-122.4641881349941,47.17902050409729],[-122.46408803765313,47.179033174276164],[-122.46399959950097,47.17903467605139],[-122.46399758193647,47.17908956198885],[-122.46316907830371,47.17909265722519],[-122.46317104573598,47.179366881981636],[-122.46381051631592,47.17936425392029],[-122.46381361960246,47.17944922127729],[-122.46489136521686,47.1794418875946],[-122.46452186005182,47.1807783163787],[-122.46318188395986,47.180765414114795],[-122.4632197743524,47.184667459670436],[-122.46393207440795,47.184674566230186],[-122.46364556925685,47.185751777502105],[-122.46270071426879,47.18918231634133],[-122.46256422023993,47.18974137398493],[-122.4624117662928,47.19074499828291],[-122.4623825456441,47.191156879349215],[-122.46232614851905,47.19413077921334],[-122.46230757524673,47.19516504146327],[-122.46224291038773,47.19647982654718],[-122.46209367534857,47.197903004974435],[-122.4613460752339,47.202887939951395],[-122.46128180277528,47.20355272793357],[-122.4613190948467,47.204133517650256],[-122.46162510772857,47.20656371871954],[-122.46230485804804,47.211623171124536],[-122.46256462625473,47.21388685327209],[-122.46288101687679,47.216267502439734],[-122.46309588208375,47.21785179121054],[-122.46335290928292,47.220038722772145],[-122.46341123524529,47.22075353661923],[-122.46343103464835,47.22151562685939],[-122.46343649434597,47.2219954786394],[-122.46341200649034,47.22297772282969],[-122.46336369674562,47.22650270126491],[-122.46334721897517,47.22704325999257],[-122.46331980560153,47.22739476919038],[-122.46327821769482,47.227688925523026],[-122.46319709469795,47.22800295002161],[-122.46308992608118,47.22826530796152],[-122.46298075331437,47.22847284906901],[-122.46283374704343,47.22874685222597],[-122.4626888600865,47.22896871120227],[-122.46254729482759,47.22917131588393],[-122.46237203702815,47.229333353446194],[-122.4621937557041,47.229522867354994],[-122.46191538093176,47.22972778983824],[-122.46127050295333,47.23015009575155],[-122.4608480665634,47.23037939614439],[-122.46023328529606,47.230633892004306],[-122.4595436702669,47.230823830422906],[-122.45858445511881,47.231018325823555],[-122.45764448148938,47.23107810411837],[-122.45692262066194,47.23104642741789],[-122.4508985568863,47.23036099099568],[-122.44906539922017,47.230216345829035],[-122.44704556878169,47.2302530748629],[-122.4455411223625,47.23040177962933],[-122.4444009916122,47.23060468194647],[-122.44314634288584,47.23086983029669],[-122.44089536426935,47.23153013817339],[-122.43741751645945,47.23255923636236],[-122.43617310798803,47.232887213870185],[-122.43505594697699,47.233059470876],[-122.43411749055699,47.23316291174625],[-122.43404739252975,47.232557989606356],[-122.43403671221499,47.232149535063876],[-122.43403426298883,47.230180457707604],[-122.43406447423483,47.22811210303013],[-122.43405850134853,47.224703263690124],[-122.43401514036888,47.21678908955894],[-122.43398345135485,47.20729774406381],[-122.43398568248693,47.1991428581303],[-122.43398670658117,47.196550285447444],[-122.43404720909884,47.1918479710672],[-122.42431529165651,47.19186925840457],[-122.42319411172215,47.191866475977704],[-122.4209706538274,47.19180342852957],[-122.42077983998875,47.19166585534822],[-122.42078330111363,47.19108712331054],[-122.42080704563122,47.19085087119928],[-122.4208248791748,47.1790768525671],[-122.4203019892075,47.17907730754449],[-122.42030249178474,47.17886612322782],[-122.41977548598564,47.178863901609844],[-122.41977236207094,47.17866374769292],[-122.42082215396418,47.17866277347609],[-122.42081734073389,47.17683905989637],[-122.42033869034054,47.176838780592],[-122.42034293823009,47.17628197296193],[-122.4208175639586,47.176282319008436],[-122.42082359664414,47.175212624783505],[-122.42034898046816,47.17521227883496],[-122.42035334544505,47.17432087786466],[-122.42042579646495,47.17432241740592],[-122.42043133470521,47.17346390719532],[-122.42082946608002,47.17346278040052],[-122.4208232611542,47.170023722631086],[-122.42634125854437,47.17003066856743],[-122.42634243058147,47.16995111482878],[-122.43219392251484,47.16994948312094],[-122.43307855690017,47.16994566911158],[-122.43408014424163,47.16995086264793],[-122.43413315317864,47.16784642748458],[-122.4314583720709,47.16783354073154],[-122.43147003340613,47.16715044712984],[-122.43414458340446,47.16715785169935],[-122.43414591866836,47.16697133476157],[-122.43566228359465,47.16697887241466],[-122.4356397321816,47.16825180201754],[-122.4354305394067,47.16824981832815],[-122.43540788473123,47.16996704472045],[-122.44183933969643,47.16998812806656],[-122.4421409825709,47.169988547663806],[-122.44314659090033,47.16999359518743],[-122.44321715488634,47.16994304311728],[-122.44347017026992,47.16993330606174],[-122.4435487154177,47.169992322656505],[-122.44502616373994,47.17003330395706],[-122.44502685765836,47.17005249028246],[-122.4454892715382,47.170050196961576],[-122.44552847265103,47.17002211176426],[-122.44572963415762,47.17002421244152],[-122.44578297542473,47.17005348324268],[-122.44727923321824,47.170058465850694],[-122.45241680075637,47.1701089694935],[-122.45269874621624,47.170120664458274],[-122.46311762260814,47.170081393067825],[-122.46405852624278,47.17007638687652],[-122.46419351095744,47.1668350919965],[-122.46580151167517,47.16681873721252],[-122.46566712481258,47.17007373840567],[-122.46841427126925,47.17008186166078]]]]}},{\"type\":\"Feature\",\"properties\":{\"name\":\"South Tacoma\"},\"geometry\":{\"type\":\"MultiPolygon\",\"coordinates\":[[[[-122.47512351682703,47.23493343258417],[-122.47180334350247,47.23498179558671],[-122.46935206336133,47.23511676121291],[-122.46751083004489,47.23519742944198],[-122.46657171644797,47.23506254483428],[-122.46608966400653,47.2349213551129],[-122.4658105822923,47.234839612721224],[-122.46573182046434,47.23480107084895],[-122.46573181978849,47.23480107048439],[-122.46522018299201,47.23455069974106],[-122.46487053839779,47.23430355594543],[-122.46467456967441,47.2341650353885],[-122.4644619503277,47.23394998236157],[-122.46435762900191,47.23384446613036],[-122.45911081605973,47.23385890331475],[-122.45787454152295,47.23385513271612],[-122.45707336123272,47.23385770790678],[-122.45588577442088,47.233864063254885],[-122.4551641766081,47.23384059816966],[-122.4540932867598,47.233844964377525],[-122.45290560022583,47.233848548288655],[-122.45233368986295,47.23384448083907],[-122.45048869258258,47.23382072658373],[-122.446282733162,47.233757121973966],[-122.44506608585887,47.23373917223183],[-122.44315235612468,47.234152514915735],[-122.44271690529501,47.23424758244509],[-122.44227469307675,47.234378414396446],[-122.4420877414537,47.23444188552548],[-122.44181767055991,47.23454514558609],[-122.44146840451441,47.23468538547729],[-122.44113661985851,47.23486372631616],[-122.44081307923734,47.23504741305763],[-122.4404418408081,47.23524835319443],[-122.44014841530557,47.23381345455352],[-122.44023021199894,47.23362559334318],[-122.44037589722102,47.233422948850254],[-122.44089536426935,47.23153013817339],[-122.44314634288584,47.23086983029669],[-122.4444009916122,47.23060468194647],[-122.4455411223625,47.23040177962933],[-122.44704556878169,47.2302530748629],[-122.44906539922017,47.230216345829035],[-122.4508985568863,47.23036099099568],[-122.45692262066194,47.23104642741789],[-122.45764448148938,47.23107810411837],[-122.45858445511881,47.231018325823555],[-122.4595436702669,47.230823830422906],[-122.46023328529606,47.230633892004306],[-122.4608480665634,47.23037939614439],[-122.46127050295333,47.23015009575155],[-122.46191538093176,47.22972778983824],[-122.4621937557041,47.229522867354994],[-122.46237203702815,47.229333353446194],[-122.46254729482759,47.22917131588393],[-122.4626888600865,47.22896871120227],[-122.46283374704343,47.22874685222597],[-122.46298075331437,47.22847284906901],[-122.46308992608118,47.22826530796152],[-122.46319709469795,47.22800295002161],[-122.46327821769482,47.227688925523026],[-122.46331980560153,47.22739476919038],[-122.46334721897517,47.22704325999257],[-122.46336369674562,47.22650270126491],[-122.46341200649034,47.22297772282969],[-122.46343649434597,47.2219954786394],[-122.46343103464835,47.22151562685939],[-122.46341123524529,47.22075353661923],[-122.46335290928292,47.220038722772145],[-122.46309588208375,47.21785179121054],[-122.46288101687679,47.216267502439734],[-122.46256462625473,47.21388685327209],[-122.46230485804804,47.211623171124536],[-122.46162510772857,47.20656371871954],[-122.4613190948467,47.204133517650256],[-122.46128180277528,47.20355272793357],[-122.4613460752339,47.202887939951395],[-122.46209367534857,47.197903004974435],[-122.46224291038773,47.19647982654718],[-122.46230757524673,47.19516504146327],[-122.46232614851905,47.19413077921334],[-122.4623825456441,47.191156879349215],[-122.4624117662928,47.19074499828291],[-122.46256422023993,47.18974137398493],[-122.46270071426879,47.18918231634133],[-122.46364556925685,47.185751777502105],[-122.46393444283089,47.18467533172338],[-122.4644231562069,47.18468268292648],[-122.46447151471617,47.184574901203966],[-122.46451655382076,47.18448637376904],[-122.46457787435376,47.18440305502262],[-122.4646121541832,47.18435036384253],[-122.46465065462507,47.18430308612333],[-122.46467759482213,47.18426971759858],[-122.46470865550428,47.18423902162144],[-122.46477067660257,47.18417488887566],[-122.4648173174283,47.18413021544013],[-122.46485239829892,47.18409945113257],[-122.46510274523511,47.18423506989212],[-122.46502886394788,47.18430488945972],[-122.46494754287967,47.18439129083324],[-122.46490894246294,47.18443582773434],[-122.46485546272079,47.18451352839397],[-122.4648060032069,47.184591160661796],[-122.46523255871126,47.184594884771045],[-122.4652089376658,47.184608999015175],[-122.47269859669144,47.184695433323206],[-122.47376910994046,47.18470734013247],[-122.47376800763428,47.184786893920986],[-122.48348172964356,47.18474689651138],[-122.50497810990404,47.18469717669959],[-122.50507195644909,47.19044954562723],[-122.50685435989794,47.19045155021687],[-122.5078280885848,47.19045385247793],[-122.50868944234249,47.19046358312054],[-122.50873227533593,47.19193287812278],[-122.51476915917446,47.19187178154877],[-122.51578417790141,47.19254523888862],[-122.51583776054993,47.19547615869187],[-122.52096947004785,47.195408572593784],[-122.52107195272643,47.195565854136184],[-122.52114567018204,47.1957071823999],[-122.52119866398823,47.1958324169521],[-122.52123986585762,47.19853317268013],[-122.52133482949212,47.198597336448806],[-122.52146876838916,47.19873486969311],[-122.5214296878416,47.19887268314131],[-122.52124738527912,47.1990541378914],[-122.52124573614653,47.19901028486883],[-122.51956873605029,47.19903682597208],[-122.51950904385744,47.198840399880545],[-122.51892740563532,47.1986750233579],[-122.51869107471624,47.19870383047759],[-122.51803579014589,47.19893467033226],[-122.51803639967729,47.19905807718809],[-122.50883080429294,47.199199071491535],[-122.5088071700594,47.194260051671506],[-122.50513736022532,47.19425240559683],[-122.50521930832915,47.19925348949541],[-122.50523551167535,47.20184496303957],[-122.50614902089833,47.20184558401671],[-122.50613915847927,47.2027672673443],[-122.50844921374751,47.202771075529014],[-122.50842662030638,47.202812606641814],[-122.50840021009138,47.20285968919492],[-122.50831675251646,47.202995525048806],[-122.50822525130465,47.203131500353294],[-122.50815252659015,47.20323149604347],[-122.50810662196561,47.20329537242261],[-122.50802585344331,47.203395507537856],[-122.50797561968787,47.20345123114908],[-122.50790248448011,47.20354026338573],[-122.50762728534687,47.20382204060175],[-122.50747545507001,47.20395906197819],[-122.506252607905,47.20515958558223],[-122.50628147679386,47.20517828318982],[-122.50616212081437,47.20532296735981],[-122.50605039863697,47.20545654867238],[-122.50593588174351,47.20562308943849],[-122.50587903223213,47.20571732309636],[-122.50583353197159,47.20579216172408],[-122.50578431666105,47.20587529261841],[-122.50573520337974,47.20596116427437],[-122.50566131247876,47.20613797083272],[-122.50561342632068,47.206256732273445],[-122.50558813698714,47.20633396311566],[-122.50547409517576,47.206621169095584],[-122.50543629763143,47.20679460744244],[-122.50540197729255,47.20706123349576],[-122.50538974281649,47.20727262500645],[-122.50543810879557,47.20727452947149],[-122.5054375014429,47.207905335757445],[-122.50539186336377,47.20808439497108],[-122.50540378130785,47.21422758282158],[-122.50534590496692,47.21925573674344],[-122.50542636239933,47.21925434278175],[-122.50540612746471,47.22097703223174],[-122.50539688996963,47.2211609449031],[-122.5053785759674,47.22832760539854],[-122.50517739851912,47.22833109010126],[-122.50506135027645,47.23579287757841],[-122.50499697602518,47.24291367222178],[-122.50472278876292,47.242904706522005],[-122.49851692109726,47.23608977496628],[-122.4978616348851,47.23557725568231],[-122.49757866138755,47.23542511888399],[-122.49757865902266,47.23542511764625],[-122.49757865823345,47.235425117208635],[-122.49717956987637,47.23521055019412],[-122.49623508481275,47.23493338467489],[-122.49535004919056,47.234847165957504],[-122.49271699639468,47.234856859766026],[-122.48941395922472,47.23487756070423],[-122.48895297889564,47.2348804422752],[-122.48794519068362,47.234876927189426],[-122.48231625514924,47.23485713254682],[-122.47969098624561,47.23488503297974],[-122.47512351682703,47.23493343258417]]]]}},{\"type\":\"Feature\",\"properties\":{\"name\":\"East Side\"},\"geometry\":{\"type\":\"MultiPolygon\",\"coordinates\":[[[[-122.43404720909884,47.1918479710672],[-122.43398670658117,47.196550285447444],[-122.43398568248693,47.1991428581303],[-122.43398345135485,47.20729774406381],[-122.43401514036888,47.21678908955894],[-122.43405850134853,47.224703263690124],[-122.43406447423483,47.22811210303013],[-122.43403426298883,47.230180457707604],[-122.43403671221499,47.232149535063876],[-122.43404739252975,47.232557989606356],[-122.43411749055699,47.23316291174625],[-122.43180685975248,47.23340169044652],[-122.43104534992132,47.23349941125175],[-122.4307010565947,47.23355451802162],[-122.4302491969208,47.23364158456334],[-122.4295458882066,47.233790432537006],[-122.4288406184749,47.233996901270885],[-122.42829110198824,47.23416786175487],[-122.427512610347,47.23446604401643],[-122.42096711230575,47.237325541522885],[-122.4197479048301,47.23780101458195],[-122.41885594478674,47.238081820321625],[-122.41806577148397,47.2382814010256],[-122.41663619832832,47.23850527394437],[-122.41052570917655,47.239132810994995],[-122.40493000332637,47.23951844562447],[-122.4041354815295,47.2395973328196],[-122.4033632169416,47.23973618297076],[-122.40297604210933,47.23983304792969],[-122.40226753713716,47.24006682923802],[-122.40040140342487,47.24081599668795],[-122.39962285456262,47.241119472455324],[-122.39962921412125,47.240502313382855],[-122.39854743245475,47.24020192882714],[-122.398176546565,47.240076370789126],[-122.39782980964249,47.23995041580093],[-122.3973600141299,47.23976065703614],[-122.39685599285991,47.239513865394144],[-122.39649801978278,47.23929758922506],[-122.39614494501899,47.239105913924256],[-122.39575987040959,47.23892024648261],[-122.39553004975467,47.23879785542621],[-122.39509272083656,47.238500600154424],[-122.39425925263254,47.23781765207364],[-122.39426982550292,47.23172371688751],[-122.39433562996774,47.22457026785612],[-122.39448794540301,47.22089833740487],[-122.3944198525312,47.2172546914087],[-122.39451009934116,47.21364958628474],[-122.39443999407658,47.20629536875685],[-122.39454427925494,47.202632426486176],[-122.39435073090662,47.19885368532275],[-122.3944428002668,47.194730191815424],[-122.3944626561507,47.19301031375744],[-122.3944799502214,47.19167442808863],[-122.40773218664224,47.191662345861474],[-122.4077507420384,47.18957772245071],[-122.41047436125764,47.18957665584626],[-122.41046591893782,47.19001834202404],[-122.41114190079611,47.190020889334136],[-122.41112319002316,47.19164477360351],[-122.41227777942188,47.19164214987915],[-122.41228981047809,47.190849360914896],[-122.41289705800803,47.190842064245246],[-122.41288808155569,47.19160737763744],[-122.41306509946327,47.191607193059504],[-122.4131146185773,47.1916420270178],[-122.41449476983006,47.19164662103428],[-122.41449545313264,47.191665807393235],[-122.41737216831035,47.19166753169154],[-122.41737540708077,47.19164553776112],[-122.41920982410953,47.191639803399326],[-122.41923865545249,47.191658522797916],[-122.42077983998875,47.19166585534822],[-122.4209706538274,47.19180342852957],[-122.42319411172215,47.191866475977704],[-122.42431529165651,47.19186925840457],[-122.43404720909884,47.1918479710672]]]]}},{\"type\":\"Feature\",\"properties\":{\"name\":\"New Tacoma\"},\"geometry\":{\"type\":\"MultiPolygon\",\"coordinates\":[[[[-122.41403549848872,47.27829889015895],[-122.37295958591524,47.25378834513312],[-122.37304814609716,47.24634320489167],[-122.37278810287637,47.24634212982466],[-122.37278915279332,47.24533289562404],[-122.37762679894725,47.245358775607286],[-122.3776237319677,47.24584698009905],[-122.38086627103961,47.245862924368886],[-122.38085527935709,47.246354000442764],[-122.38080295354918,47.246354850243726],[-122.3807914812095,47.24683222175208],[-122.38531051445635,47.24684101734865],[-122.38533884205334,47.24455061169749],[-122.38916195309358,47.24458703624782],[-122.39176780766152,47.244593861558975],[-122.39434941685506,47.2445982823654],[-122.39433574477916,47.24500987455993],[-122.39647443759377,47.24501600764615],[-122.39648818996613,47.24460715611505],[-122.39824833227078,47.24461396993672],[-122.39824449256113,47.24484714201918],[-122.39957358860603,47.24485003066707],[-122.39960609880835,47.2432643542967],[-122.39962285456262,47.241119472455324],[-122.40040230210403,47.24081411196396],[-122.40226753713716,47.24006682923802],[-122.40297604210933,47.23983304792969],[-122.4033632169416,47.23973618297076],[-122.4041354815295,47.2395973328196],[-122.40493000332637,47.23951844562447],[-122.41052527153175,47.23913346212455],[-122.41663745215827,47.23850395454083],[-122.41806611116039,47.2382803252984],[-122.41885597762668,47.23808154956358],[-122.41974783330102,47.237802516722354],[-122.42096814921598,47.23732519694999],[-122.42751385371683,47.23446678154352],[-122.42828956248175,47.23416818851907],[-122.42883907456084,47.233994771287165],[-122.42954474731108,47.233790181260076],[-122.4302524666649,47.233642688149246],[-122.4307002533891,47.23355666087417],[-122.43104427266422,47.23350093018086],[-122.43180617709116,47.233402517220846],[-122.43411530300043,47.233164453389634],[-122.43505324708038,47.233059353028196],[-122.43617053577346,47.23288681527441],[-122.43741695837166,47.2325588612471],[-122.44089536426935,47.23153013817339],[-122.44037589722102,47.233422948850254],[-122.44023021199894,47.23362559334318],[-122.44014841530557,47.23381345455352],[-122.4404418408081,47.23524835319443],[-122.44172491943482,47.2408901136046],[-122.44256136785877,47.2445318371738],[-122.44839095774469,47.24392379675331],[-122.45127139306562,47.24361750208701],[-122.45197560571317,47.24670466518636],[-122.45267999887474,47.249794561192594],[-122.45291471499937,47.25082178401386],[-122.4533844732033,47.252884449374996],[-122.45385416775562,47.254944370438444],[-122.45408892873525,47.25597158880005],[-122.45432599937303,47.25699800021667],[-122.45502003813627,47.260085304607045],[-122.45501708081825,47.26008515830574],[-122.4528280278772,47.263203107633416],[-122.45562459244822,47.264079087288685],[-122.4507943271805,47.27083928670663],[-122.45060398584165,47.27103446472007],[-122.44808018835933,47.269661808890575],[-122.4422941050155,47.266204706297444],[-122.44030754254509,47.26329806106964],[-122.43929708342728,47.26242641856141],[-122.43894663952678,47.2625392412388],[-122.43728335368789,47.262665797526154],[-122.43019393426594,47.26952785840781],[-122.42140327246132,47.27191730016909],[-122.41619756750937,47.279032391233685],[-122.41403549848872,47.27829889015895]]]]}}]},\"hovertemplate\":\"<b>%{hovertext}</b><br><br>NeighborhoodCouncil=%{location}<br>IncidentNumber=%{z}<extra></extra>\",\"hovertext\":[\"Central\",\"East Side\",\"New Tacoma\",\"North East\",\"North End\",\"South End\",\"South Tacoma\",\"West End\"],\"locations\":[\"Central\",\"East Side\",\"New Tacoma\",\"North East\",\"North End\",\"South End\",\"South Tacoma\",\"West End\"],\"name\":\"\",\"subplot\":\"mapbox\",\"z\":[1265,1877,2136,486,598,2016,2071,1154],\"type\":\"choroplethmapbox\"}],                        {\"template\":{\"data\":{\"histogram2dcontour\":[{\"type\":\"histogram2dcontour\",\"colorbar\":{\"outlinewidth\":0,\"ticks\":\"\"},\"colorscale\":[[0.0,\"#0d0887\"],[0.1111111111111111,\"#46039f\"],[0.2222222222222222,\"#7201a8\"],[0.3333333333333333,\"#9c179e\"],[0.4444444444444444,\"#bd3786\"],[0.5555555555555556,\"#d8576b\"],[0.6666666666666666,\"#ed7953\"],[0.7777777777777778,\"#fb9f3a\"],[0.8888888888888888,\"#fdca26\"],[1.0,\"#f0f921\"]]}],\"choropleth\":[{\"type\":\"choropleth\",\"colorbar\":{\"outlinewidth\":0,\"ticks\":\"\"}}],\"histogram2d\":[{\"type\":\"histogram2d\",\"colorbar\":{\"outlinewidth\":0,\"ticks\":\"\"},\"colorscale\":[[0.0,\"#0d0887\"],[0.1111111111111111,\"#46039f\"],[0.2222222222222222,\"#7201a8\"],[0.3333333333333333,\"#9c179e\"],[0.4444444444444444,\"#bd3786\"],[0.5555555555555556,\"#d8576b\"],[0.6666666666666666,\"#ed7953\"],[0.7777777777777778,\"#fb9f3a\"],[0.8888888888888888,\"#fdca26\"],[1.0,\"#f0f921\"]]}],\"heatmap\":[{\"type\":\"heatmap\",\"colorbar\":{\"outlinewidth\":0,\"ticks\":\"\"},\"colorscale\":[[0.0,\"#0d0887\"],[0.1111111111111111,\"#46039f\"],[0.2222222222222222,\"#7201a8\"],[0.3333333333333333,\"#9c179e\"],[0.4444444444444444,\"#bd3786\"],[0.5555555555555556,\"#d8576b\"],[0.6666666666666666,\"#ed7953\"],[0.7777777777777778,\"#fb9f3a\"],[0.8888888888888888,\"#fdca26\"],[1.0,\"#f0f921\"]]}],\"heatmapgl\":[{\"type\":\"heatmapgl\",\"colorbar\":{\"outlinewidth\":0,\"ticks\":\"\"},\"colorscale\":[[0.0,\"#0d0887\"],[0.1111111111111111,\"#46039f\"],[0.2222222222222222,\"#7201a8\"],[0.3333333333333333,\"#9c179e\"],[0.4444444444444444,\"#bd3786\"],[0.5555555555555556,\"#d8576b\"],[0.6666666666666666,\"#ed7953\"],[0.7777777777777778,\"#fb9f3a\"],[0.8888888888888888,\"#fdca26\"],[1.0,\"#f0f921\"]]}],\"contourcarpet\":[{\"type\":\"contourcarpet\",\"colorbar\":{\"outlinewidth\":0,\"ticks\":\"\"}}],\"contour\":[{\"type\":\"contour\",\"colorbar\":{\"outlinewidth\":0,\"ticks\":\"\"},\"colorscale\":[[0.0,\"#0d0887\"],[0.1111111111111111,\"#46039f\"],[0.2222222222222222,\"#7201a8\"],[0.3333333333333333,\"#9c179e\"],[0.4444444444444444,\"#bd3786\"],[0.5555555555555556,\"#d8576b\"],[0.6666666666666666,\"#ed7953\"],[0.7777777777777778,\"#fb9f3a\"],[0.8888888888888888,\"#fdca26\"],[1.0,\"#f0f921\"]]}],\"surface\":[{\"type\":\"surface\",\"colorbar\":{\"outlinewidth\":0,\"ticks\":\"\"},\"colorscale\":[[0.0,\"#0d0887\"],[0.1111111111111111,\"#46039f\"],[0.2222222222222222,\"#7201a8\"],[0.3333333333333333,\"#9c179e\"],[0.4444444444444444,\"#bd3786\"],[0.5555555555555556,\"#d8576b\"],[0.6666666666666666,\"#ed7953\"],[0.7777777777777778,\"#fb9f3a\"],[0.8888888888888888,\"#fdca26\"],[1.0,\"#f0f921\"]]}],\"mesh3d\":[{\"type\":\"mesh3d\",\"colorbar\":{\"outlinewidth\":0,\"ticks\":\"\"}}],\"scatter\":[{\"fillpattern\":{\"fillmode\":\"overlay\",\"size\":10,\"solidity\":0.2},\"type\":\"scatter\"}],\"parcoords\":[{\"type\":\"parcoords\",\"line\":{\"colorbar\":{\"outlinewidth\":0,\"ticks\":\"\"}}}],\"scatterpolargl\":[{\"type\":\"scatterpolargl\",\"marker\":{\"colorbar\":{\"outlinewidth\":0,\"ticks\":\"\"}}}],\"bar\":[{\"error_x\":{\"color\":\"#2a3f5f\"},\"error_y\":{\"color\":\"#2a3f5f\"},\"marker\":{\"line\":{\"color\":\"#E5ECF6\",\"width\":0.5},\"pattern\":{\"fillmode\":\"overlay\",\"size\":10,\"solidity\":0.2}},\"type\":\"bar\"}],\"scattergeo\":[{\"type\":\"scattergeo\",\"marker\":{\"colorbar\":{\"outlinewidth\":0,\"ticks\":\"\"}}}],\"scatterpolar\":[{\"type\":\"scatterpolar\",\"marker\":{\"colorbar\":{\"outlinewidth\":0,\"ticks\":\"\"}}}],\"histogram\":[{\"marker\":{\"pattern\":{\"fillmode\":\"overlay\",\"size\":10,\"solidity\":0.2}},\"type\":\"histogram\"}],\"scattergl\":[{\"type\":\"scattergl\",\"marker\":{\"colorbar\":{\"outlinewidth\":0,\"ticks\":\"\"}}}],\"scatter3d\":[{\"type\":\"scatter3d\",\"line\":{\"colorbar\":{\"outlinewidth\":0,\"ticks\":\"\"}},\"marker\":{\"colorbar\":{\"outlinewidth\":0,\"ticks\":\"\"}}}],\"scattermapbox\":[{\"type\":\"scattermapbox\",\"marker\":{\"colorbar\":{\"outlinewidth\":0,\"ticks\":\"\"}}}],\"scatterternary\":[{\"type\":\"scatterternary\",\"marker\":{\"colorbar\":{\"outlinewidth\":0,\"ticks\":\"\"}}}],\"scattercarpet\":[{\"type\":\"scattercarpet\",\"marker\":{\"colorbar\":{\"outlinewidth\":0,\"ticks\":\"\"}}}],\"carpet\":[{\"aaxis\":{\"endlinecolor\":\"#2a3f5f\",\"gridcolor\":\"white\",\"linecolor\":\"white\",\"minorgridcolor\":\"white\",\"startlinecolor\":\"#2a3f5f\"},\"baxis\":{\"endlinecolor\":\"#2a3f5f\",\"gridcolor\":\"white\",\"linecolor\":\"white\",\"minorgridcolor\":\"white\",\"startlinecolor\":\"#2a3f5f\"},\"type\":\"carpet\"}],\"table\":[{\"cells\":{\"fill\":{\"color\":\"#EBF0F8\"},\"line\":{\"color\":\"white\"}},\"header\":{\"fill\":{\"color\":\"#C8D4E3\"},\"line\":{\"color\":\"white\"}},\"type\":\"table\"}],\"barpolar\":[{\"marker\":{\"line\":{\"color\":\"#E5ECF6\",\"width\":0.5},\"pattern\":{\"fillmode\":\"overlay\",\"size\":10,\"solidity\":0.2}},\"type\":\"barpolar\"}],\"pie\":[{\"automargin\":true,\"type\":\"pie\"}]},\"layout\":{\"autotypenumbers\":\"strict\",\"colorway\":[\"#636efa\",\"#EF553B\",\"#00cc96\",\"#ab63fa\",\"#FFA15A\",\"#19d3f3\",\"#FF6692\",\"#B6E880\",\"#FF97FF\",\"#FECB52\"],\"font\":{\"color\":\"#2a3f5f\"},\"hovermode\":\"closest\",\"hoverlabel\":{\"align\":\"left\"},\"paper_bgcolor\":\"white\",\"plot_bgcolor\":\"#E5ECF6\",\"polar\":{\"bgcolor\":\"#E5ECF6\",\"angularaxis\":{\"gridcolor\":\"white\",\"linecolor\":\"white\",\"ticks\":\"\"},\"radialaxis\":{\"gridcolor\":\"white\",\"linecolor\":\"white\",\"ticks\":\"\"}},\"ternary\":{\"bgcolor\":\"#E5ECF6\",\"aaxis\":{\"gridcolor\":\"white\",\"linecolor\":\"white\",\"ticks\":\"\"},\"baxis\":{\"gridcolor\":\"white\",\"linecolor\":\"white\",\"ticks\":\"\"},\"caxis\":{\"gridcolor\":\"white\",\"linecolor\":\"white\",\"ticks\":\"\"}},\"coloraxis\":{\"colorbar\":{\"outlinewidth\":0,\"ticks\":\"\"}},\"colorscale\":{\"sequential\":[[0.0,\"#0d0887\"],[0.1111111111111111,\"#46039f\"],[0.2222222222222222,\"#7201a8\"],[0.3333333333333333,\"#9c179e\"],[0.4444444444444444,\"#bd3786\"],[0.5555555555555556,\"#d8576b\"],[0.6666666666666666,\"#ed7953\"],[0.7777777777777778,\"#fb9f3a\"],[0.8888888888888888,\"#fdca26\"],[1.0,\"#f0f921\"]],\"sequentialminus\":[[0.0,\"#0d0887\"],[0.1111111111111111,\"#46039f\"],[0.2222222222222222,\"#7201a8\"],[0.3333333333333333,\"#9c179e\"],[0.4444444444444444,\"#bd3786\"],[0.5555555555555556,\"#d8576b\"],[0.6666666666666666,\"#ed7953\"],[0.7777777777777778,\"#fb9f3a\"],[0.8888888888888888,\"#fdca26\"],[1.0,\"#f0f921\"]],\"diverging\":[[0,\"#8e0152\"],[0.1,\"#c51b7d\"],[0.2,\"#de77ae\"],[0.3,\"#f1b6da\"],[0.4,\"#fde0ef\"],[0.5,\"#f7f7f7\"],[0.6,\"#e6f5d0\"],[0.7,\"#b8e186\"],[0.8,\"#7fbc41\"],[0.9,\"#4d9221\"],[1,\"#276419\"]]},\"xaxis\":{\"gridcolor\":\"white\",\"linecolor\":\"white\",\"ticks\":\"\",\"title\":{\"standoff\":15},\"zerolinecolor\":\"white\",\"automargin\":true,\"zerolinewidth\":2},\"yaxis\":{\"gridcolor\":\"white\",\"linecolor\":\"white\",\"ticks\":\"\",\"title\":{\"standoff\":15},\"zerolinecolor\":\"white\",\"automargin\":true,\"zerolinewidth\":2},\"scene\":{\"xaxis\":{\"backgroundcolor\":\"#E5ECF6\",\"gridcolor\":\"white\",\"linecolor\":\"white\",\"showbackground\":true,\"ticks\":\"\",\"zerolinecolor\":\"white\",\"gridwidth\":2},\"yaxis\":{\"backgroundcolor\":\"#E5ECF6\",\"gridcolor\":\"white\",\"linecolor\":\"white\",\"showbackground\":true,\"ticks\":\"\",\"zerolinecolor\":\"white\",\"gridwidth\":2},\"zaxis\":{\"backgroundcolor\":\"#E5ECF6\",\"gridcolor\":\"white\",\"linecolor\":\"white\",\"showbackground\":true,\"ticks\":\"\",\"zerolinecolor\":\"white\",\"gridwidth\":2}},\"shapedefaults\":{\"line\":{\"color\":\"#2a3f5f\"}},\"annotationdefaults\":{\"arrowcolor\":\"#2a3f5f\",\"arrowhead\":0,\"arrowwidth\":1},\"geo\":{\"bgcolor\":\"white\",\"landcolor\":\"#E5ECF6\",\"subunitcolor\":\"white\",\"showland\":true,\"showlakes\":true,\"lakecolor\":\"white\"},\"title\":{\"x\":0.05},\"mapbox\":{\"style\":\"light\"}}},\"mapbox\":{\"domain\":{\"x\":[0.0,1.0],\"y\":[0.0,1.0]},\"center\":{\"lat\":47.25,\"lon\":-122.44},\"zoom\":9,\"style\":\"carto-positron\"},\"coloraxis\":{\"colorbar\":{\"title\":{\"text\":\"IncidentNumber\"}},\"colorscale\":[[0.0,\"#0d0887\"],[0.1111111111111111,\"#46039f\"],[0.2222222222222222,\"#7201a8\"],[0.3333333333333333,\"#9c179e\"],[0.4444444444444444,\"#bd3786\"],[0.5555555555555556,\"#d8576b\"],[0.6666666666666666,\"#ed7953\"],[0.7777777777777778,\"#fb9f3a\"],[0.8888888888888888,\"#fdca26\"],[1.0,\"#f0f921\"]]},\"legend\":{\"tracegroupgap\":0},\"margin\":{\"t\":60},\"title\":{\"text\":\"Tacoma Fires Choropleth\"}},                        {\"responsive\": true}                    ).then(function(){\n",
       "                            \n",
       "var gd = document.getElementById('3e79e2c0-520f-4938-b5a8-91d0987df820');\n",
       "var x = new MutationObserver(function (mutations, observer) {{\n",
       "        var display = window.getComputedStyle(gd).display;\n",
       "        if (!display || display === 'none') {{\n",
       "            console.log([gd, 'removed!']);\n",
       "            Plotly.purge(gd);\n",
       "            observer.disconnect();\n",
       "        }}\n",
       "}});\n",
       "\n",
       "// Listen for the removal of the full notebook cells\n",
       "var notebookContainer = gd.closest('#notebook-container');\n",
       "if (notebookContainer) {{\n",
       "    x.observe(notebookContainer, {childList: true});\n",
       "}}\n",
       "\n",
       "// Listen for the clearing of the current output cell\n",
       "var outputEl = gd.closest('.output');\n",
       "if (outputEl) {{\n",
       "    x.observe(outputEl, {childList: true});\n",
       "}}\n",
       "\n",
       "                        })                };                });            </script>        </div>"
      ]
     },
     "metadata": {},
     "output_type": "display_data"
    }
   ],
   "source": [
    "import json, pandas\n",
    "import plotly.express as pe\n",
    "\n",
    "#load up the data\n",
    "data = pandas.read_csv('Fires.csv')\n",
    "\n",
    "data2 = data.groupby('NeighborhoodCouncil').count().reset_index()\n",
    "\n",
    "geojson = json.load(open('NC.geojson', 'r'))\n",
    "\n",
    "mmap = pe.choropleth_mapbox(data2, \n",
    "                            geojson=geojson, \n",
    "                            color='IncidentNumber',\n",
    "                            locations='NeighborhoodCouncil',\n",
    "                            featureidkey=\"properties.name\",\n",
    "                            hover_name='NeighborhoodCouncil',\n",
    "                            center={\"lat\": 47.25, \"lon\": -122.44},\n",
    "                            mapbox_style='carto-positron',\n",
    "                            zoom=9\n",
    "                           )\n",
    "\n",
    "mmap.update_layout(title='Tacoma Fires Choropleth')\n",
    "mmap.show()"
   ]
  },
  {
   "cell_type": "markdown",
   "id": "71c18013",
   "metadata": {},
   "source": [
    "### Problem 5 Fire Insurance 2 - Where should I build my bar to avoid fires? (4pts)\n",
    "\n",
    "This one is, on the surface, even sillier than before; but, underneath it are some interesting questions. In what neighborhood council area should I found a bar if my **sole** goal is to minimize my risk of fires as can be modeled out of the data you currently have?\n",
    "\n",
    "*That's a pretty vague question*. Notice, I'm **not** asking you for a map here. Rather, I want you to conduct some analysis and then **explain that analysis**. Perhaps, you think I'd be happiest starting my bar where the fewest fires per bar have occurred in the past five years? Perhaps, you think I should start where there are a low number of total bars **and** a low level of property **lost** to fire (i.e. it doesn't matter how many fires there were, but how much damage they did)? Perhaps, you need to go get some other data to factor into your analysis.\n",
    "\n",
    "**Here is what you need for this problem:**\n",
    "1. **Documented** code that analyzes at least **two** factors for where I should establish my bar.\n",
    "2. **A paragraph or two** that explains why the factors you've chosen are important and additionally describes the limitations you see in your approach.\n",
    "\n",
    "You get 2 pts for each section. \n",
    "**Bonus:** Include additional data (+1pt per data source, +1pt per additional factor analyzed) - no limit, but also no bonus for obviously worthless data ('the most dog parks are in this area!')\n",
    "\n"
   ]
  },
  {
   "cell_type": "code",
   "execution_count": null,
   "id": "8a1655c2",
   "metadata": {},
   "outputs": [],
   "source": []
  },
  {
   "cell_type": "markdown",
   "id": "aefb7c29",
   "metadata": {},
   "source": [
    "#### Write your answer here. You can just type in text, but feel free to [mark it up](https://www.markdownguide.org/cheat-sheet)."
   ]
  },
  {
   "cell_type": "markdown",
   "id": "44d25082",
   "metadata": {},
   "source": []
  }
 ],
 "metadata": {
  "kernelspec": {
   "display_name": "Python 3 (ipykernel)",
   "language": "python",
   "name": "python3"
  },
  "language_info": {
   "codemirror_mode": {
    "name": "ipython",
    "version": 3
   },
   "file_extension": ".py",
   "mimetype": "text/x-python",
   "name": "python",
   "nbconvert_exporter": "python",
   "pygments_lexer": "ipython3",
   "version": "3.9.16"
  }
 },
 "nbformat": 4,
 "nbformat_minor": 5
}
